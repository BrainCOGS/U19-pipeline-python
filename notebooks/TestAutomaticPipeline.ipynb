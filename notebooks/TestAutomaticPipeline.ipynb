{
 "cells": [
  {
   "cell_type": "markdown",
   "metadata": {},
   "source": [
    "### Check if configuration has been run already and change directory to repository root:"
   ]
  },
  {
   "cell_type": "code",
   "execution_count": 1,
   "metadata": {},
   "outputs": [
    {
     "name": "stdout",
     "output_type": "stream",
     "text": [
      "Local configuration file found !!, no need to run the configuration (unless configuration has changed)\n"
     ]
    }
   ],
   "source": [
    "from scripts.conf_file_finding import try_find_conf_file\n",
    "try_find_conf_file()"
   ]
  },
  {
   "cell_type": "code",
   "execution_count": 2,
   "metadata": {},
   "outputs": [
    {
     "name": "stdout",
     "output_type": "stream",
     "text": [
      "Connecting alvaros@datajoint00.pni.princeton.edu:3306\n"
     ]
    },
    {
     "data": {
      "text/plain": [
       "'0.13.2'"
      ]
     },
     "execution_count": 2,
     "metadata": {},
     "output_type": "execute_result"
    }
   ],
   "source": [
    "import datajoint as dj\n",
    "import os\n",
    "import pandas as pd\n",
    "import json\n",
    "import pathlib\n",
    "import u19_pipeline.automatic_job.recording_handler as rec_handler\n",
    "import u19_pipeline.automatic_job.recording_process_handler as rec_process_handler\n",
    "\n",
    "\n",
    "from u19_pipeline import recording, ephys_rec\n",
    "\n",
    "#import utility.dj_shortcuts as dj_short\n",
    "#import utility.acquisition_pipeline_handler as aph\n",
    "dj.__version__"
   ]
  },
  {
   "cell_type": "code",
   "execution_count": 3,
   "metadata": {},
   "outputs": [],
   "source": [
    "#Generate ssh key\n",
    "\n",
    "\n",
    "#Steps on windows machine\n",
    "#   PowerShell\n",
    "#     Add-WindowsCapability -Online -Name OpenSSH.Server~~~~0.0.1.0\n",
    "#     Start-Service sshd\n",
    "#     Set-Service -Name sshd -StartupType 'Automatic'\n",
    "# Copy ssh key pub to ~\\.ssh\\authorized_keys\n",
    "# Modify C:\\ProgramData\\ssh\\sshd_config\n",
    "#   Uncomment\n",
    "#       PasswordAuthentication no\n",
    "#       StrictModes no\n",
    "#       AuthorizedKeysFile\t.ssh/authorized_keys\n",
    "#   Comment\n",
    "#       Match Group administrators\n",
    "#           AuthorizedKeysFile __PROGRAMDATA__/ssh/administrators_authorized_keys\n",
    "#   PowerShell\n",
    "#         restart-service sshd\n",
    "\n",
    "\n",
    "# Read environment variables\n",
    "host = '128.112.222.127'\n",
    "username = 'admin'\n",
    "password = ''\n",
    "ssh_key_filepath = '/Users/alvaros/.ssh/id_rsa_copyfiles'\n",
    "remote_path = 'c:/Data/msiniscalchi/data/mjs20_09'\n",
    "\n",
    "local_file_directory = '/Users/alvaros/Documents'"
   ]
  },
  {
   "cell_type": "code",
   "execution_count": 4,
   "metadata": {},
   "outputs": [
    {
     "data": {
      "text/html": [
       "\n",
       "    \n",
       "    <style type=\"text/css\">\n",
       "        .Relation{\n",
       "            border-collapse:collapse;\n",
       "        }\n",
       "        .Relation th{\n",
       "            background: #A0A0A0; color: #ffffff; padding:4px; border:#f0e0e0 1px solid;\n",
       "            font-weight: normal; font-family: monospace; font-size: 100%;\n",
       "        }\n",
       "        .Relation td{\n",
       "            padding:4px; border:#f0e0e0 1px solid; font-size:100%;\n",
       "        }\n",
       "        .Relation tr:nth-child(odd){\n",
       "            background: #ffffff;\n",
       "        }\n",
       "        .Relation tr:nth-child(even){\n",
       "            background: #f3f1ff;\n",
       "        }\n",
       "        /* Tooltip container */\n",
       "        .djtooltip {\n",
       "        }\n",
       "        /* Tooltip text */\n",
       "        .djtooltip .djtooltiptext {\n",
       "            visibility: hidden;\n",
       "            width: 120px;\n",
       "            background-color: black;\n",
       "            color: #fff;\n",
       "            text-align: center;\n",
       "            padding: 5px 0;\n",
       "            border-radius: 6px;\n",
       "            /* Position the tooltip text - see examples below! */\n",
       "            position: absolute;\n",
       "            z-index: 1;\n",
       "        }\n",
       "        #primary {\n",
       "            font-weight: bold;\n",
       "            color: black;\n",
       "        }\n",
       "        #nonprimary {\n",
       "            font-weight: normal;\n",
       "            color: white;\n",
       "        }\n",
       "\n",
       "        /* Show the tooltip text when you mouse over the tooltip container */\n",
       "        .djtooltip:hover .djtooltiptext {\n",
       "            visibility: visible;\n",
       "        }\n",
       "    </style>\n",
       "    \n",
       "    <b></b>\n",
       "        <div style=\"max-height:1000px;max-width:1500px;overflow:auto;\">\n",
       "        <table border=\"1\" class=\"Relation\">\n",
       "            <thead> <tr style=\"text-align: right;\"> <th> <div class=\"djtooltip\">\n",
       "                            <p id=\"primary\">status_recording_idx</p>\n",
       "                            <span class=\"djtooltiptext\">status in the automate process pipeline</span>\n",
       "                        </div></th><th><div class=\"djtooltip\">\n",
       "                            <p id=\"nonprimary\">status_definition</p>\n",
       "                            <span class=\"djtooltiptext\">Status definition</span>\n",
       "                        </div> </th> </tr> </thead>\n",
       "            <tbody> <tr> <td>-1</td>\n",
       "<td>Error in recording handling</td></tr><tr><td>0</td>\n",
       "<td>New recording</td></tr><tr><td>1</td>\n",
       "<td>Recording directory transfer to PNI requested</td></tr><tr><td>2</td>\n",
       "<td>Recording directory transferred to PNI</td></tr><tr><td>3</td>\n",
       "<td>modality ingestion & Syncing jobs done</td> </tr> </tbody>\n",
       "        </table>\n",
       "        \n",
       "        <p>Total: 5</p></div>\n",
       "        "
      ],
      "text/plain": [
       "*status_record status_definit\n",
       "+------------+ +------------+\n",
       "-1             Error in recor\n",
       "0              New recording \n",
       "1              Recording dire\n",
       "2              Recording dire\n",
       "3              modality inges\n",
       " (Total: 5)"
      ]
     },
     "execution_count": 4,
     "metadata": {},
     "output_type": "execute_result"
    }
   ],
   "source": [
    "recording.StatusRecordingDefinition()"
   ]
  },
  {
   "cell_type": "code",
   "execution_count": 3,
   "metadata": {},
   "outputs": [
    {
     "name": "stderr",
     "output_type": "stream",
     "text": [
      "/Users/alvaros/opt/anaconda3/envs/u19_datajoint/lib/python3.7/site-packages/datajoint/blob.py:385: VisibleDeprecationWarning: Creating an ndarray from ragged nested sequences (which is a list-or-tuple of lists-or-tuples-or ndarrays with different lengths or shapes) is deprecated. If you meant to do this, you must specify 'dtype=object' when creating the ndarray.\n",
      "  return (self.squeeze(np.array(result).reshape(shape, order=\"F\"), convert_to_scalar=False)).view(MatCell)\n"
     ]
    },
    {
     "data": {
      "text/html": [
       "<div>\n",
       "<style scoped>\n",
       "    .dataframe tbody tr th:only-of-type {\n",
       "        vertical-align: middle;\n",
       "    }\n",
       "\n",
       "    .dataframe tbody tr th {\n",
       "        vertical-align: top;\n",
       "    }\n",
       "\n",
       "    .dataframe thead th {\n",
       "        text-align: right;\n",
       "    }\n",
       "</style>\n",
       "<table border=\"1\" class=\"dataframe\">\n",
       "  <thead>\n",
       "    <tr style=\"text-align: right;\">\n",
       "      <th></th>\n",
       "      <th>preprocess_paramset_idx</th>\n",
       "      <th>recording_modality</th>\n",
       "      <th>preprocess_paramset_desc</th>\n",
       "      <th>preprocess_paramset_hash</th>\n",
       "      <th>preprocess_paramset</th>\n",
       "    </tr>\n",
       "  </thead>\n",
       "  <tbody>\n",
       "    <tr>\n",
       "      <th>0</th>\n",
       "      <td>1</td>\n",
       "      <td>imaging</td>\n",
       "      <td>caiman load</td>\n",
       "      <td>be352962-ac99-22f9-12ae-7a2ae519c3c6</td>\n",
       "      <td>[[[['spock'], ['load'], ['caiman']]]]</td>\n",
       "    </tr>\n",
       "    <tr>\n",
       "      <th>1</th>\n",
       "      <td>2</td>\n",
       "      <td>imaging</td>\n",
       "      <td>caiman trigger</td>\n",
       "      <td>05b0abe4-0f57-8106-d811-ada3cd3c3883</td>\n",
       "      <td>[[[['spock'], ['trigger'], ['caiman']]]]</td>\n",
       "    </tr>\n",
       "    <tr>\n",
       "      <th>2</th>\n",
       "      <td>3</td>\n",
       "      <td>imaging</td>\n",
       "      <td>suite2p load</td>\n",
       "      <td>9874904b-f10c-b941-8cf1-5d9503bf207e</td>\n",
       "      <td>[[[['spock'], ['load'], ['suite2p']]]]</td>\n",
       "    </tr>\n",
       "    <tr>\n",
       "      <th>3</th>\n",
       "      <td>4</td>\n",
       "      <td>imaging</td>\n",
       "      <td>suite2p trigger</td>\n",
       "      <td>b10ce90f-97f0-471b-6514-177fbdbcd83b</td>\n",
       "      <td>[[[[[0.]], ['spock'], ['trigger'], ['suite2p']]]]</td>\n",
       "    </tr>\n",
       "    <tr>\n",
       "      <th>4</th>\n",
       "      <td>5</td>\n",
       "      <td>electrophysiology</td>\n",
       "      <td>tiger kilosort</td>\n",
       "      <td>b0f85ad6-a5bc-2ff5-b6b6-0fecf4523db1</td>\n",
       "      <td>[[[[[0.]], ['tiger'], ['kilosort2']]]]</td>\n",
       "    </tr>\n",
       "    <tr>\n",
       "      <th>5</th>\n",
       "      <td>6</td>\n",
       "      <td>electrophysiology</td>\n",
       "      <td>cat_gt complete params</td>\n",
       "      <td>38dfe601-8771-0b15-b83f-4057287b36b0</td>\n",
       "      <td>[[[[[(array([[1.]]), rec.array([[(MatCell([['b...</td>\n",
       "    </tr>\n",
       "  </tbody>\n",
       "</table>\n",
       "</div>"
      ],
      "text/plain": [
       "   preprocess_paramset_idx recording_modality preprocess_paramset_desc  \\\n",
       "0                        1            imaging              caiman load   \n",
       "1                        2            imaging           caiman trigger   \n",
       "2                        3            imaging             suite2p load   \n",
       "3                        4            imaging          suite2p trigger   \n",
       "4                        5  electrophysiology           tiger kilosort   \n",
       "5                        6  electrophysiology   cat_gt complete params   \n",
       "\n",
       "               preprocess_paramset_hash  \\\n",
       "0  be352962-ac99-22f9-12ae-7a2ae519c3c6   \n",
       "1  05b0abe4-0f57-8106-d811-ada3cd3c3883   \n",
       "2  9874904b-f10c-b941-8cf1-5d9503bf207e   \n",
       "3  b10ce90f-97f0-471b-6514-177fbdbcd83b   \n",
       "4  b0f85ad6-a5bc-2ff5-b6b6-0fecf4523db1   \n",
       "5  38dfe601-8771-0b15-b83f-4057287b36b0   \n",
       "\n",
       "                                 preprocess_paramset  \n",
       "0              [[[['spock'], ['load'], ['caiman']]]]  \n",
       "1           [[[['spock'], ['trigger'], ['caiman']]]]  \n",
       "2             [[[['spock'], ['load'], ['suite2p']]]]  \n",
       "3  [[[[[0.]], ['spock'], ['trigger'], ['suite2p']]]]  \n",
       "4             [[[[[0.]], ['tiger'], ['kilosort2']]]]  \n",
       "5  [[[[[(array([[1.]]), rec.array([[(MatCell([['b...  "
      ]
     },
     "execution_count": 3,
     "metadata": {},
     "output_type": "execute_result"
    }
   ],
   "source": [
    "df_params = pd.DataFrame(recording.PreprocessParamSet.fetch(as_dict=True))\n",
    "df_params"
   ]
  },
  {
   "cell_type": "code",
   "execution_count": 8,
   "metadata": {},
   "outputs": [],
   "source": [
    "\n",
    "fake_recording = dict()\n",
    "fake_recording['recording_modality'] = 'electrophysiology'\n",
    "fake_recording['location'] = 'Bezos1'\n",
    "fake_recording['status_recording_idx'] = 0\n",
    "fake_recording['process_paramset_idx'] = 1\n",
    "fake_recording['preprocess_paramset_idx'] = 3\n",
    "fake_recording['recording_directory'] = 'ms81/ms81_M004/20210507/towersTask_g0'\n",
    "fake_recording['local_directory'] = 'ms81/ms81_M004/20210507/towersTask_g0'\n",
    "\n",
    "#recording.Recording.insert1(fake_recording, skip_duplicates=True)"
   ]
  },
  {
   "cell_type": "code",
   "execution_count": 5,
   "metadata": {},
   "outputs": [],
   "source": [
    "fake_recording = dict()\n",
    "fake_recording['recording_modality'] = 'imaging'\n",
    "fake_recording['location'] = 'Bezos1'\n",
    "fake_recording['status_recording_idx'] = 0\n",
    "fake_recording['process_paramset_idx'] = 1\n",
    "fake_recording['preprocess_paramset_idx'] = 3\n",
    "fake_recording['recording_directory'] = 'emdia/emdia_gps24/20220111'\n",
    "fake_recording['local_directory'] = 'emdia/emdia_gps24/20220111'\n",
    "\n",
    "#recording.Recording.insert1(fake_recording, skip_duplicates=True)\n"
   ]
  },
  {
   "cell_type": "code",
   "execution_count": 5,
   "metadata": {},
   "outputs": [],
   "source": [
    "params = {\n",
    " \"cat_gt\": {\n",
    "    \"use_cat_gt\": 1,\n",
    "    \"cat_gt_params\": {\n",
    "      \"apfilter\": [\"biquad\",2,300,0],\n",
    "      \"gfix\": [0.40,0.10,0.02],\n",
    "      \"extras\": [\"prb_fld\", \"t_miss_ok\", \"ap\", \"gblcar\", \"out_prb_fld\"]\n",
    "   }\n",
    " },\n",
    "\"process_cluster\": \"tiger\",\n",
    "\"process_repository\": \"BrainCogsEphysSorters\",\n",
    "\"process_script\": \"main_script.py\",\n",
    "\"clustering_method\": \"Kilosort2\"\n",
    "}\n",
    "\n",
    "key = dict()\n",
    "key['preprocess_paramset_idx'] = 6\n",
    "key['preprocess_paramset'] = params\n",
    "\n",
    "\n",
    "(recording.PreprocessParamSet).update1(key)"
   ]
  },
  {
   "cell_type": "code",
   "execution_count": 12,
   "metadata": {},
   "outputs": [],
   "source": [
    "params = {\n",
    " \"fs\": 30000,\n",
    " \"fshigh\": 150,\n",
    " \"minfr_goodchannels\": 0.1,\n",
    " \"Th\": [10, 4],\n",
    " \"lam\": 10,\n",
    " \"AUCsplit\": 0.9,\n",
    " \"minFR\": 0.02,\n",
    " \"momentum\": [20, 400],\n",
    " \"sigmaMask\": 30,\n",
    " \"ThPre\": 8,\n",
    " \"CAR\": 1, \n",
    " \"spkTh\": -6,\n",
    " \"reorder\": 1,\n",
    " \"nskip\": 25,\n",
    " \"GPU\": 1,\n",
    " \"Nfilt\": 1024,\n",
    " \"nfilt_factor\": 4,\n",
    " \"ntbuff\": 64,\n",
    " \"NT\": 32832,\n",
    " \"whiteningRange\": 32,\n",
    " \"nSkipCov\": 25,\n",
    " \"scaleproc\": 200,\n",
    " \"nPCs\": 3,\n",
    " \"useRAM\": 0,\n",
    " \"trange\": [0, 1000000000],\n",
    "\"NchanTOT\": 384\n",
    "}\n",
    "\n",
    "\n",
    "key = dict()\n",
    "key['process_paramset_idx'] = 1\n",
    "key['process_paramset'] = params\n",
    "\n",
    "\n",
    "(recording.ProcessParamSet).update1(key)"
   ]
  },
  {
   "cell_type": "code",
   "execution_count": 4,
   "metadata": {},
   "outputs": [
    {
     "data": {
      "text/html": [
       "\n",
       "    \n",
       "    <style type=\"text/css\">\n",
       "        .Relation{\n",
       "            border-collapse:collapse;\n",
       "        }\n",
       "        .Relation th{\n",
       "            background: #A0A0A0; color: #ffffff; padding:4px; border:#f0e0e0 1px solid;\n",
       "            font-weight: normal; font-family: monospace; font-size: 100%;\n",
       "        }\n",
       "        .Relation td{\n",
       "            padding:4px; border:#f0e0e0 1px solid; font-size:100%;\n",
       "        }\n",
       "        .Relation tr:nth-child(odd){\n",
       "            background: #ffffff;\n",
       "        }\n",
       "        .Relation tr:nth-child(even){\n",
       "            background: #f3f1ff;\n",
       "        }\n",
       "        /* Tooltip container */\n",
       "        .djtooltip {\n",
       "        }\n",
       "        /* Tooltip text */\n",
       "        .djtooltip .djtooltiptext {\n",
       "            visibility: hidden;\n",
       "            width: 120px;\n",
       "            background-color: black;\n",
       "            color: #fff;\n",
       "            text-align: center;\n",
       "            padding: 5px 0;\n",
       "            border-radius: 6px;\n",
       "            /* Position the tooltip text - see examples below! */\n",
       "            position: absolute;\n",
       "            z-index: 1;\n",
       "        }\n",
       "        #primary {\n",
       "            font-weight: bold;\n",
       "            color: black;\n",
       "        }\n",
       "        #nonprimary {\n",
       "            font-weight: normal;\n",
       "            color: white;\n",
       "        }\n",
       "\n",
       "        /* Show the tooltip text when you mouse over the tooltip container */\n",
       "        .djtooltip:hover .djtooltiptext {\n",
       "            visibility: visible;\n",
       "        }\n",
       "    </style>\n",
       "    \n",
       "    \n",
       "        <div style=\"max-height:1000px;max-width:1500px;overflow:auto;\">\n",
       "        <table border=\"1\" class=\"Relation\">\n",
       "            <thead> <tr style=\"text-align: right;\"> <th> <div class=\"djtooltip\">\n",
       "                            <p id=\"primary\">recording_id</p>\n",
       "                            <span class=\"djtooltiptext\">Unique number assigned to each recording</span>\n",
       "                        </div></th><th><div class=\"djtooltip\">\n",
       "                            <p id=\"nonprimary\">recording_modality</p>\n",
       "                            <span class=\"djtooltiptext\">modalities for recording (ephys, imaging, video_recording, etc.)</span>\n",
       "                        </div> </th> </tr> </thead>\n",
       "            <tbody> <tr> <td>16</td>\n",
       "<td>electrophysiology</td></tr><tr><td>17</td>\n",
       "<td>electrophysiology</td></tr><tr><td>18</td>\n",
       "<td>electrophysiology</td></tr><tr><td>19</td>\n",
       "<td>electrophysiology</td></tr><tr><td>26</td>\n",
       "<td>electrophysiology</td></tr><tr><td>30</td>\n",
       "<td>electrophysiology</td></tr><tr><td>1</td>\n",
       "<td>imaging</td></tr><tr><td>2</td>\n",
       "<td>imaging</td></tr><tr><td>3</td>\n",
       "<td>imaging</td></tr><tr><td>4</td>\n",
       "<td>imaging</td></tr><tr><td>5</td>\n",
       "<td>imaging</td></tr><tr><td>6</td>\n",
       "<td>imaging</td> </tr> </tbody>\n",
       "        </table>\n",
       "        <p>...</p>\n",
       "        <p>Total: 23</p></div>\n",
       "        "
      ],
      "text/plain": [
       "*recording_id  recording_moda\n",
       "+------------+ +------------+\n",
       "16             electrophysiol\n",
       "17             electrophysiol\n",
       "18             electrophysiol\n",
       "19             electrophysiol\n",
       "26             electrophysiol\n",
       "30             electrophysiol\n",
       "1              imaging       \n",
       "2              imaging       \n",
       "3              imaging       \n",
       "4              imaging       \n",
       "5              imaging       \n",
       "6              imaging       \n",
       "   ...\n",
       " (Total: 23)"
      ]
     },
     "execution_count": 4,
     "metadata": {},
     "output_type": "execute_result"
    }
   ],
   "source": [
    "recording.Recording.proj('recording_modality')"
   ]
  },
  {
   "cell_type": "code",
   "execution_count": 4,
   "metadata": {},
   "outputs": [
    {
     "name": "stdout",
     "output_type": "stream",
     "text": [
      "Deleting 27 rows from `u19_ephys_rec`.`ephys_processing`\n",
      "Deleting 27 rows from `u19_ephys_rec`.`__ephys_recording_probes`\n",
      "Deleting 11 rows from `u19_ephys_rec`.`__ephys_recording`\n",
      "Deletes committed.\n",
      "Deleting 27 rows from `u19_recording`.`recording_process`\n",
      "Deletes committed.\n"
     ]
    },
    {
     "data": {
      "text/plain": [
       "27"
      ]
     },
     "execution_count": 4,
     "metadata": {},
     "output_type": "execute_result"
    }
   ],
   "source": [
    "key = 'recording_id >= 31'\n",
    "\n",
    "(ephys_rec.EphysRecording & key).delete()\n",
    "\n",
    "(recording.RecordingProcess & key).delete()"
   ]
  },
  {
   "cell_type": "code",
   "execution_count": 5,
   "metadata": {
    "tags": []
   },
   "outputs": [
    {
     "name": "stdout",
     "output_type": "stream",
     "text": [
      "function to apply: modality_preingestion\n",
      "this_modality_recording_table <class 'u19_pipeline.ephys_rec.EphysRecording'>\n",
      "............... before \n",
      "{'recording_id': 31}\n",
      "probe_dirs ms81/ms81_M003/20210507/towersTask_g0/towersTask_g0_imec0\n",
      "probe_dirs ms81/ms81_M003/20210507/towersTask_g0/towersTask_g0_imec1\n",
      "recording_units [{'recording_id': 31, 'probe': 0, 'probe_directory': 'ms81/ms81_M003/20210507/towersTask_g0/towersTask_g0_imec0'}, {'recording_id': 31, 'probe': 1, 'probe_directory': 'ms81/ms81_M003/20210507/towersTask_g0/towersTask_g0_imec1'}]\n",
      "this_recprocess_key {'recording_id': 31, 'preprocess_paramset_idx': 6, 'process_paramset_idx': 1, 'fragment_number': 0, 'recording_process_pre_path': 'ms81/ms81_M003/20210507/towersTask_g0/towersTask_g0_imec0', 'status_pipeline_idx': 0}\n",
      "recording_process [80]\n",
      "this_mod_processing {'recording_id': 31, 'probe': 0, 'recording_process_id': 80}\n",
      "this_recprocess_key {'recording_id': 31, 'preprocess_paramset_idx': 6, 'process_paramset_idx': 1, 'fragment_number': 1, 'recording_process_pre_path': 'ms81/ms81_M003/20210507/towersTask_g0/towersTask_g0_imec1', 'status_pipeline_idx': 0}\n",
      "recording_process [81]\n",
      "this_mod_processing {'recording_id': 31, 'probe': 1, 'recording_process_id': 81}\n",
      "key to update {'recording_id': 31}\n",
      "recording_key_dict {'recording_id': 31}\n",
      "status 3\n",
      "update_field None\n",
      "update_value None\n",
      "update_status_dict {'recording_id': 31, 'status_recording_idx': 3}\n",
      "function to apply: modality_preingestion\n",
      "this_modality_recording_table <class 'u19_pipeline.ephys_rec.EphysRecording'>\n",
      "............... before \n",
      "{'recording_id': 32}\n",
      "probe_dirs ms81/ms81_M004/20210505/towers_task_g0/towers_task_g0_imec0\n",
      "probe_dirs ms81/ms81_M004/20210505/towers_task_g0/towers_task_g0_imec1\n",
      "recording_units [{'recording_id': 32, 'probe': 0, 'probe_directory': 'ms81/ms81_M004/20210505/towers_task_g0/towers_task_g0_imec0'}, {'recording_id': 32, 'probe': 1, 'probe_directory': 'ms81/ms81_M004/20210505/towers_task_g0/towers_task_g0_imec1'}]\n",
      "this_recprocess_key {'recording_id': 32, 'preprocess_paramset_idx': 6, 'process_paramset_idx': 1, 'fragment_number': 0, 'recording_process_pre_path': 'ms81/ms81_M004/20210505/towers_task_g0/towers_task_g0_imec0', 'status_pipeline_idx': 0}\n",
      "recording_process [82]\n",
      "this_mod_processing {'recording_id': 32, 'probe': 0, 'recording_process_id': 82}\n",
      "this_recprocess_key {'recording_id': 32, 'preprocess_paramset_idx': 6, 'process_paramset_idx': 1, 'fragment_number': 1, 'recording_process_pre_path': 'ms81/ms81_M004/20210505/towers_task_g0/towers_task_g0_imec1', 'status_pipeline_idx': 0}\n",
      "recording_process [83]\n",
      "this_mod_processing {'recording_id': 32, 'probe': 1, 'recording_process_id': 83}\n",
      "key to update {'recording_id': 32}\n",
      "recording_key_dict {'recording_id': 32}\n",
      "status 3\n",
      "update_field None\n",
      "update_value None\n",
      "update_status_dict {'recording_id': 32, 'status_recording_idx': 3}\n",
      "function to apply: modality_preingestion\n",
      "this_modality_recording_table <class 'u19_pipeline.ephys_rec.EphysRecording'>\n",
      "............... before \n",
      "{'recording_id': 33}\n",
      "probe_dirs ms81/ms81_M004/20210506/towersTask_g0/towersTask_g0_imec0\n",
      "recording_units [{'recording_id': 33, 'probe': 0, 'probe_directory': 'ms81/ms81_M004/20210506/towersTask_g0/towersTask_g0_imec0'}]\n",
      "this_recprocess_key {'recording_id': 33, 'preprocess_paramset_idx': 6, 'process_paramset_idx': 1, 'fragment_number': 0, 'recording_process_pre_path': 'ms81/ms81_M004/20210506/towersTask_g0/towersTask_g0_imec0', 'status_pipeline_idx': 0}\n",
      "recording_process [84]\n",
      "this_mod_processing {'recording_id': 33, 'probe': 0, 'recording_process_id': 84}\n",
      "key to update {'recording_id': 33}\n",
      "recording_key_dict {'recording_id': 33}\n",
      "status 3\n",
      "update_field None\n",
      "update_value None\n",
      "update_status_dict {'recording_id': 33, 'status_recording_idx': 3}\n",
      "function to apply: modality_preingestion\n",
      "this_modality_recording_table <class 'u19_pipeline.ephys_rec.EphysRecording'>\n",
      "............... before \n",
      "{'recording_id': 34}\n",
      "probe_dirs ms81/ms81_M004/20210507/towersTask_g0/towersTask_g0_imec0\n",
      "probe_dirs ms81/ms81_M004/20210507/towersTask_g0/towersTask_g0_imec1\n",
      "recording_units [{'recording_id': 34, 'probe': 0, 'probe_directory': 'ms81/ms81_M004/20210507/towersTask_g0/towersTask_g0_imec0'}, {'recording_id': 34, 'probe': 1, 'probe_directory': 'ms81/ms81_M004/20210507/towersTask_g0/towersTask_g0_imec1'}]\n",
      "this_recprocess_key {'recording_id': 34, 'preprocess_paramset_idx': 6, 'process_paramset_idx': 1, 'fragment_number': 0, 'recording_process_pre_path': 'ms81/ms81_M004/20210507/towersTask_g0/towersTask_g0_imec0', 'status_pipeline_idx': 0}\n",
      "recording_process [85]\n",
      "this_mod_processing {'recording_id': 34, 'probe': 0, 'recording_process_id': 85}\n",
      "this_recprocess_key {'recording_id': 34, 'preprocess_paramset_idx': 6, 'process_paramset_idx': 1, 'fragment_number': 1, 'recording_process_pre_path': 'ms81/ms81_M004/20210507/towersTask_g0/towersTask_g0_imec1', 'status_pipeline_idx': 0}\n",
      "recording_process [86]\n",
      "this_mod_processing {'recording_id': 34, 'probe': 1, 'recording_process_id': 86}\n",
      "key to update {'recording_id': 34}\n",
      "recording_key_dict {'recording_id': 34}\n",
      "status 3\n",
      "update_field None\n",
      "update_value None\n",
      "update_status_dict {'recording_id': 34, 'status_recording_idx': 3}\n",
      "function to apply: modality_preingestion\n",
      "this_modality_recording_table <class 'u19_pipeline.ephys_rec.EphysRecording'>\n",
      "............... before \n",
      "{'recording_id': 35}\n",
      "probe_dirs ms81/ms81_M004/20210508/towersTask_g0/towersTask_g0_imec0\n",
      "probe_dirs ms81/ms81_M004/20210508/towersTask_g0/towersTask_g0_imec1\n",
      "recording_units [{'recording_id': 35, 'probe': 0, 'probe_directory': 'ms81/ms81_M004/20210508/towersTask_g0/towersTask_g0_imec0'}, {'recording_id': 35, 'probe': 1, 'probe_directory': 'ms81/ms81_M004/20210508/towersTask_g0/towersTask_g0_imec1'}]\n",
      "this_recprocess_key {'recording_id': 35, 'preprocess_paramset_idx': 6, 'process_paramset_idx': 1, 'fragment_number': 0, 'recording_process_pre_path': 'ms81/ms81_M004/20210508/towersTask_g0/towersTask_g0_imec0', 'status_pipeline_idx': 0}\n",
      "recording_process [87]\n",
      "this_mod_processing {'recording_id': 35, 'probe': 0, 'recording_process_id': 87}\n",
      "this_recprocess_key {'recording_id': 35, 'preprocess_paramset_idx': 6, 'process_paramset_idx': 1, 'fragment_number': 1, 'recording_process_pre_path': 'ms81/ms81_M004/20210508/towersTask_g0/towersTask_g0_imec1', 'status_pipeline_idx': 0}\n",
      "recording_process [88]\n",
      "this_mod_processing {'recording_id': 35, 'probe': 1, 'recording_process_id': 88}\n",
      "key to update {'recording_id': 35}\n",
      "recording_key_dict {'recording_id': 35}\n",
      "status 3\n",
      "update_field None\n",
      "update_value None\n",
      "update_status_dict {'recording_id': 35, 'status_recording_idx': 3}\n",
      "function to apply: modality_preingestion\n",
      "this_modality_recording_table <class 'u19_pipeline.ephys_rec.EphysRecording'>\n",
      "............... before \n",
      "{'recording_id': 36}\n",
      "probe_dirs ms81/ms81_M005/20210505/towers_task_g0/towers_task_g0_imec0\n",
      "probe_dirs ms81/ms81_M005/20210505/towers_task_g0/towers_task_g0_imec1\n",
      "recording_units [{'recording_id': 36, 'probe': 0, 'probe_directory': 'ms81/ms81_M005/20210505/towers_task_g0/towers_task_g0_imec0'}, {'recording_id': 36, 'probe': 1, 'probe_directory': 'ms81/ms81_M005/20210505/towers_task_g0/towers_task_g0_imec1'}]\n",
      "this_recprocess_key {'recording_id': 36, 'preprocess_paramset_idx': 6, 'process_paramset_idx': 1, 'fragment_number': 0, 'recording_process_pre_path': 'ms81/ms81_M005/20210505/towers_task_g0/towers_task_g0_imec0', 'status_pipeline_idx': 0}\n",
      "recording_process [89]\n",
      "this_mod_processing {'recording_id': 36, 'probe': 0, 'recording_process_id': 89}\n",
      "this_recprocess_key {'recording_id': 36, 'preprocess_paramset_idx': 6, 'process_paramset_idx': 1, 'fragment_number': 1, 'recording_process_pre_path': 'ms81/ms81_M005/20210505/towers_task_g0/towers_task_g0_imec1', 'status_pipeline_idx': 0}\n",
      "recording_process [90]\n",
      "this_mod_processing {'recording_id': 36, 'probe': 1, 'recording_process_id': 90}\n",
      "key to update {'recording_id': 36}\n",
      "recording_key_dict {'recording_id': 36}\n",
      "status 3\n",
      "update_field None\n",
      "update_value None\n",
      "update_status_dict {'recording_id': 36, 'status_recording_idx': 3}\n",
      "function to apply: modality_preingestion\n",
      "this_modality_recording_table <class 'u19_pipeline.ephys_rec.EphysRecording'>\n",
      "............... before \n",
      "{'recording_id': 37}\n",
      "probe_dirs ms81/ms81_M005/20210508/towersTask_g0/towersTask_g0_imec0\n",
      "probe_dirs ms81/ms81_M005/20210508/towersTask_g0/towersTask_g0_imec1\n",
      "recording_units [{'recording_id': 37, 'probe': 0, 'probe_directory': 'ms81/ms81_M005/20210508/towersTask_g0/towersTask_g0_imec0'}, {'recording_id': 37, 'probe': 1, 'probe_directory': 'ms81/ms81_M005/20210508/towersTask_g0/towersTask_g0_imec1'}]\n",
      "this_recprocess_key {'recording_id': 37, 'preprocess_paramset_idx': 6, 'process_paramset_idx': 1, 'fragment_number': 0, 'recording_process_pre_path': 'ms81/ms81_M005/20210508/towersTask_g0/towersTask_g0_imec0', 'status_pipeline_idx': 0}\n",
      "recording_process [91]\n",
      "this_mod_processing {'recording_id': 37, 'probe': 0, 'recording_process_id': 91}\n",
      "this_recprocess_key {'recording_id': 37, 'preprocess_paramset_idx': 6, 'process_paramset_idx': 1, 'fragment_number': 1, 'recording_process_pre_path': 'ms81/ms81_M005/20210508/towersTask_g0/towersTask_g0_imec1', 'status_pipeline_idx': 0}\n",
      "recording_process [92]\n",
      "this_mod_processing {'recording_id': 37, 'probe': 1, 'recording_process_id': 92}\n",
      "key to update {'recording_id': 37}\n",
      "recording_key_dict {'recording_id': 37}\n",
      "status 3\n",
      "update_field None\n",
      "update_value None\n",
      "update_status_dict {'recording_id': 37, 'status_recording_idx': 3}\n",
      "function to apply: modality_preingestion\n",
      "this_modality_recording_table <class 'u19_pipeline.ephys_rec.EphysRecording'>\n",
      "............... before \n",
      "{'recording_id': 38}\n",
      "probe_dirs ms81/ms81_M010/20211119/TowersTask_g0/TowersTask_g0_imec0\n",
      "probe_dirs ms81/ms81_M010/20211119/TowersTask_g0/TowersTask_g0_imec1\n",
      "probe_dirs ms81/ms81_M010/20211119/TowersTask_g0/TowersTask_g0_imec2\n",
      "probe_dirs ms81/ms81_M010/20211119/TowersTask_g0/TowersTask_g0_imec3\n",
      "recording_units [{'recording_id': 38, 'probe': 0, 'probe_directory': 'ms81/ms81_M010/20211119/TowersTask_g0/TowersTask_g0_imec0'}, {'recording_id': 38, 'probe': 1, 'probe_directory': 'ms81/ms81_M010/20211119/TowersTask_g0/TowersTask_g0_imec1'}, {'recording_id': 38, 'probe': 2, 'probe_directory': 'ms81/ms81_M010/20211119/TowersTask_g0/TowersTask_g0_imec2'}, {'recording_id': 38, 'probe': 3, 'probe_directory': 'ms81/ms81_M010/20211119/TowersTask_g0/TowersTask_g0_imec3'}]\n",
      "this_recprocess_key {'recording_id': 38, 'preprocess_paramset_idx': 6, 'process_paramset_idx': 1, 'fragment_number': 0, 'recording_process_pre_path': 'ms81/ms81_M010/20211119/TowersTask_g0/TowersTask_g0_imec0', 'status_pipeline_idx': 0}\n",
      "recording_process [93]\n",
      "this_mod_processing {'recording_id': 38, 'probe': 0, 'recording_process_id': 93}\n",
      "this_recprocess_key {'recording_id': 38, 'preprocess_paramset_idx': 6, 'process_paramset_idx': 1, 'fragment_number': 1, 'recording_process_pre_path': 'ms81/ms81_M010/20211119/TowersTask_g0/TowersTask_g0_imec1', 'status_pipeline_idx': 0}\n",
      "recording_process [94]\n",
      "this_mod_processing {'recording_id': 38, 'probe': 1, 'recording_process_id': 94}\n",
      "this_recprocess_key {'recording_id': 38, 'preprocess_paramset_idx': 6, 'process_paramset_idx': 1, 'fragment_number': 2, 'recording_process_pre_path': 'ms81/ms81_M010/20211119/TowersTask_g0/TowersTask_g0_imec2', 'status_pipeline_idx': 0}\n",
      "recording_process [95]\n",
      "this_mod_processing {'recording_id': 38, 'probe': 2, 'recording_process_id': 95}\n",
      "this_recprocess_key {'recording_id': 38, 'preprocess_paramset_idx': 6, 'process_paramset_idx': 1, 'fragment_number': 3, 'recording_process_pre_path': 'ms81/ms81_M010/20211119/TowersTask_g0/TowersTask_g0_imec3', 'status_pipeline_idx': 0}\n",
      "recording_process [96]\n",
      "this_mod_processing {'recording_id': 38, 'probe': 3, 'recording_process_id': 96}\n",
      "key to update {'recording_id': 38}\n",
      "recording_key_dict {'recording_id': 38}\n",
      "status 3\n",
      "update_field None\n",
      "update_value None\n",
      "update_status_dict {'recording_id': 38, 'status_recording_idx': 3}\n",
      "function to apply: modality_preingestion\n",
      "this_modality_recording_table <class 'u19_pipeline.ephys_rec.EphysRecording'>\n",
      "............... before \n",
      "{'recording_id': 39}\n",
      "probe_dirs ms81/ms81_M011/20211116/TowersTask_g0/TowersTask_g0_imec0\n",
      "probe_dirs ms81/ms81_M011/20211116/TowersTask_g0/TowersTask_g0_imec1\n",
      "probe_dirs ms81/ms81_M011/20211116/TowersTask_g0/TowersTask_g0_imec2\n",
      "recording_units [{'recording_id': 39, 'probe': 0, 'probe_directory': 'ms81/ms81_M011/20211116/TowersTask_g0/TowersTask_g0_imec0'}, {'recording_id': 39, 'probe': 1, 'probe_directory': 'ms81/ms81_M011/20211116/TowersTask_g0/TowersTask_g0_imec1'}, {'recording_id': 39, 'probe': 2, 'probe_directory': 'ms81/ms81_M011/20211116/TowersTask_g0/TowersTask_g0_imec2'}]\n",
      "this_recprocess_key {'recording_id': 39, 'preprocess_paramset_idx': 6, 'process_paramset_idx': 1, 'fragment_number': 0, 'recording_process_pre_path': 'ms81/ms81_M011/20211116/TowersTask_g0/TowersTask_g0_imec0', 'status_pipeline_idx': 0}\n",
      "recording_process [97]\n",
      "this_mod_processing {'recording_id': 39, 'probe': 0, 'recording_process_id': 97}\n",
      "this_recprocess_key {'recording_id': 39, 'preprocess_paramset_idx': 6, 'process_paramset_idx': 1, 'fragment_number': 1, 'recording_process_pre_path': 'ms81/ms81_M011/20211116/TowersTask_g0/TowersTask_g0_imec1', 'status_pipeline_idx': 0}\n",
      "recording_process [98]\n",
      "this_mod_processing {'recording_id': 39, 'probe': 1, 'recording_process_id': 98}\n",
      "this_recprocess_key {'recording_id': 39, 'preprocess_paramset_idx': 6, 'process_paramset_idx': 1, 'fragment_number': 2, 'recording_process_pre_path': 'ms81/ms81_M011/20211116/TowersTask_g0/TowersTask_g0_imec2', 'status_pipeline_idx': 0}\n",
      "recording_process [99]\n",
      "this_mod_processing {'recording_id': 39, 'probe': 2, 'recording_process_id': 99}\n",
      "key to update {'recording_id': 39}\n",
      "recording_key_dict {'recording_id': 39}\n",
      "status 3\n",
      "update_field None\n",
      "update_value None\n",
      "update_status_dict {'recording_id': 39, 'status_recording_idx': 3}\n",
      "function to apply: modality_preingestion\n",
      "this_modality_recording_table <class 'u19_pipeline.ephys_rec.EphysRecording'>\n",
      "............... before \n",
      "{'recording_id': 40}\n",
      "probe_dirs ms81/ms81_M011/20211120/TowersTask_g0/TowersTask_g0_imec0\n",
      "probe_dirs ms81/ms81_M011/20211120/TowersTask_g0/TowersTask_g0_imec1\n",
      "probe_dirs ms81/ms81_M011/20211120/TowersTask_g0/TowersTask_g0_imec2\n",
      "probe_dirs ms81/ms81_M011/20211120/TowersTask_g0/TowersTask_g0_imec3\n",
      "recording_units [{'recording_id': 40, 'probe': 0, 'probe_directory': 'ms81/ms81_M011/20211120/TowersTask_g0/TowersTask_g0_imec0'}, {'recording_id': 40, 'probe': 1, 'probe_directory': 'ms81/ms81_M011/20211120/TowersTask_g0/TowersTask_g0_imec1'}, {'recording_id': 40, 'probe': 2, 'probe_directory': 'ms81/ms81_M011/20211120/TowersTask_g0/TowersTask_g0_imec2'}, {'recording_id': 40, 'probe': 3, 'probe_directory': 'ms81/ms81_M011/20211120/TowersTask_g0/TowersTask_g0_imec3'}]\n",
      "this_recprocess_key {'recording_id': 40, 'preprocess_paramset_idx': 6, 'process_paramset_idx': 1, 'fragment_number': 0, 'recording_process_pre_path': 'ms81/ms81_M011/20211120/TowersTask_g0/TowersTask_g0_imec0', 'status_pipeline_idx': 0}\n",
      "recording_process [100]\n",
      "this_mod_processing {'recording_id': 40, 'probe': 0, 'recording_process_id': 100}\n",
      "this_recprocess_key {'recording_id': 40, 'preprocess_paramset_idx': 6, 'process_paramset_idx': 1, 'fragment_number': 1, 'recording_process_pre_path': 'ms81/ms81_M011/20211120/TowersTask_g0/TowersTask_g0_imec1', 'status_pipeline_idx': 0}\n",
      "recording_process [101]\n",
      "this_mod_processing {'recording_id': 40, 'probe': 1, 'recording_process_id': 101}\n",
      "this_recprocess_key {'recording_id': 40, 'preprocess_paramset_idx': 6, 'process_paramset_idx': 1, 'fragment_number': 2, 'recording_process_pre_path': 'ms81/ms81_M011/20211120/TowersTask_g0/TowersTask_g0_imec2', 'status_pipeline_idx': 0}\n",
      "recording_process [102]\n",
      "this_mod_processing {'recording_id': 40, 'probe': 2, 'recording_process_id': 102}\n",
      "this_recprocess_key {'recording_id': 40, 'preprocess_paramset_idx': 6, 'process_paramset_idx': 1, 'fragment_number': 3, 'recording_process_pre_path': 'ms81/ms81_M011/20211120/TowersTask_g0/TowersTask_g0_imec3', 'status_pipeline_idx': 0}\n",
      "recording_process [103]\n",
      "this_mod_processing {'recording_id': 40, 'probe': 3, 'recording_process_id': 103}\n",
      "key to update {'recording_id': 40}\n",
      "recording_key_dict {'recording_id': 40}\n",
      "status 3\n",
      "update_field None\n",
      "update_value None\n",
      "update_status_dict {'recording_id': 40, 'status_recording_idx': 3}\n",
      "function to apply: modality_preingestion\n",
      "this_modality_recording_table <class 'u19_pipeline.ephys_rec.EphysRecording'>\n",
      "............... before \n",
      "{'recording_id': 41}\n",
      "probe_dirs ms81/ms81_M012/20211210/2021-12-10_g0/2021-12-10_g0_imec0\n",
      "probe_dirs ms81/ms81_M012/20211210/2021-12-10_g0/2021-12-10_g0_imec1\n",
      "probe_dirs ms81/ms81_M012/20211210/2021-12-10_g0/2021-12-10_g0_imec2\n",
      "recording_units [{'recording_id': 41, 'probe': 0, 'probe_directory': 'ms81/ms81_M012/20211210/2021-12-10_g0/2021-12-10_g0_imec0'}, {'recording_id': 41, 'probe': 1, 'probe_directory': 'ms81/ms81_M012/20211210/2021-12-10_g0/2021-12-10_g0_imec1'}, {'recording_id': 41, 'probe': 2, 'probe_directory': 'ms81/ms81_M012/20211210/2021-12-10_g0/2021-12-10_g0_imec2'}]\n",
      "this_recprocess_key {'recording_id': 41, 'preprocess_paramset_idx': 6, 'process_paramset_idx': 1, 'fragment_number': 0, 'recording_process_pre_path': 'ms81/ms81_M012/20211210/2021-12-10_g0/2021-12-10_g0_imec0', 'status_pipeline_idx': 0}\n",
      "recording_process [104]\n",
      "this_mod_processing {'recording_id': 41, 'probe': 0, 'recording_process_id': 104}\n",
      "this_recprocess_key {'recording_id': 41, 'preprocess_paramset_idx': 6, 'process_paramset_idx': 1, 'fragment_number': 1, 'recording_process_pre_path': 'ms81/ms81_M012/20211210/2021-12-10_g0/2021-12-10_g0_imec1', 'status_pipeline_idx': 0}\n",
      "recording_process [105]\n",
      "this_mod_processing {'recording_id': 41, 'probe': 1, 'recording_process_id': 105}\n",
      "this_recprocess_key {'recording_id': 41, 'preprocess_paramset_idx': 6, 'process_paramset_idx': 1, 'fragment_number': 2, 'recording_process_pre_path': 'ms81/ms81_M012/20211210/2021-12-10_g0/2021-12-10_g0_imec2', 'status_pipeline_idx': 0}\n",
      "recording_process [106]\n",
      "this_mod_processing {'recording_id': 41, 'probe': 2, 'recording_process_id': 106}\n",
      "key to update {'recording_id': 41}\n",
      "recording_key_dict {'recording_id': 41}\n",
      "status 3\n",
      "update_field None\n",
      "update_value None\n",
      "update_status_dict {'recording_id': 41, 'status_recording_idx': 3}\n"
     ]
    }
   ],
   "source": [
    "l = rec_handler.RecordingHandler.pipeline_handler_main()"
   ]
  },
  {
   "cell_type": "code",
   "execution_count": 24,
   "metadata": {},
   "outputs": [
    {
     "data": {
      "text/plain": [
       "'ldsldlsd'"
      ]
     },
     "execution_count": 24,
     "metadata": {},
     "output_type": "execute_result"
    }
   ],
   "source": [
    "sala = '/ldsldlsd'\n",
    "if sala[0] == '/':\n",
    "    sala = sala[1:]\n",
    "\n",
    "sala"
   ]
  },
  {
   "cell_type": "code",
   "execution_count": 4,
   "metadata": {},
   "outputs": [],
   "source": [
    "l = rec_handler.RecordingHandler.pipeline_handler_main()"
   ]
  },
  {
   "cell_type": "code",
   "execution_count": 7,
   "metadata": {},
   "outputs": [
    {
     "name": "stdout",
     "output_type": "stream",
     "text": [
      "scp u19_pipeline/automatic_job/ParameterFiles/preprocess_paramset_74.json alvaros@tigergpu.princeton.edu:/scratch/gpfs/BRAINCOGS/ParameterFiles/preprocess_paramset_74.json\n",
      "0\n",
      "scp u19_pipeline/automatic_job/ParameterFiles/process_paramset_74.json alvaros@tigergpu.princeton.edu:/scratch/gpfs/BRAINCOGS/ParameterFiles/process_paramset_74.json\n",
      "0\n",
      "scp u19_pipeline/automatic_job/SlurmFiles/slurm_real.slurm alvaros@tigergpu.princeton.edu:/scratch/gpfs/BRAINCOGS/SlurmFiles/slurm_real.slurm\n",
      "0\n",
      "['ssh', 'alvaros@tigergpu.princeton.edu', 'sbatch', \"--export=recording_process_id=74,raw_data_directory='ms81/ms81_M012/20211210/2021-12-10_g0/2021-12-10_g0_imec0/',processed_data_directory='ms81/ms81_M012/20211210/2021-12-10_g0/2021-12-10_g0_imec0/recording_process_id_74',repository_dir='/scratch/gpfs/BRAINCOGS/electorphysiology_processing/BrainCogsEphysSorters',process_script_path='main_script.py'\", '/scratch/gpfs/BRAINCOGS/SlurmFiles/slurm_real.slurm']\n",
      "stdout Submitted batch job 8382599\n",
      "\n",
      "stderr \n",
      "p.returncode 0\n",
      "batch_job_sentence Submitted batch job 8382599\n",
      "\n",
      "update_dict {'value_update': '8382599', 'error_info': None}\n",
      "key to update {'recording_id': 41, 'recording_process_id': 74}\n",
      "old status 2 new status 3\n",
      "value_update 8382599 field_update slurm_id\n",
      "function executed: slurm_job_queue\n",
      "scp u19_pipeline/automatic_job/ParameterFiles/preprocess_paramset_75.json alvaros@tigergpu.princeton.edu:/scratch/gpfs/BRAINCOGS/ParameterFiles/preprocess_paramset_75.json\n",
      "0\n",
      "scp u19_pipeline/automatic_job/ParameterFiles/process_paramset_75.json alvaros@tigergpu.princeton.edu:/scratch/gpfs/BRAINCOGS/ParameterFiles/process_paramset_75.json\n",
      "0\n",
      "scp u19_pipeline/automatic_job/SlurmFiles/slurm_real.slurm alvaros@tigergpu.princeton.edu:/scratch/gpfs/BRAINCOGS/SlurmFiles/slurm_real.slurm\n",
      "0\n",
      "['ssh', 'alvaros@tigergpu.princeton.edu', 'sbatch', \"--export=recording_process_id=75,raw_data_directory='ms81/ms81_M012/20211210/2021-12-10_g0/2021-12-10_g0_imec1/',processed_data_directory='ms81/ms81_M012/20211210/2021-12-10_g0/2021-12-10_g0_imec1/recording_process_id_75',repository_dir='/scratch/gpfs/BRAINCOGS/electorphysiology_processing/BrainCogsEphysSorters',process_script_path='main_script.py'\", '/scratch/gpfs/BRAINCOGS/SlurmFiles/slurm_real.slurm']\n",
      "stdout Submitted batch job 8382601\n",
      "\n",
      "stderr \n",
      "p.returncode 0\n",
      "batch_job_sentence Submitted batch job 8382601\n",
      "\n",
      "update_dict {'value_update': '8382601', 'error_info': None}\n",
      "key to update {'recording_id': 41, 'recording_process_id': 75}\n",
      "old status 2 new status 3\n",
      "value_update 8382601 field_update slurm_id\n",
      "function executed: slurm_job_queue\n",
      "scp u19_pipeline/automatic_job/ParameterFiles/preprocess_paramset_76.json alvaros@tigergpu.princeton.edu:/scratch/gpfs/BRAINCOGS/ParameterFiles/preprocess_paramset_76.json\n",
      "0\n",
      "scp u19_pipeline/automatic_job/ParameterFiles/process_paramset_76.json alvaros@tigergpu.princeton.edu:/scratch/gpfs/BRAINCOGS/ParameterFiles/process_paramset_76.json\n",
      "0\n",
      "scp u19_pipeline/automatic_job/SlurmFiles/slurm_real.slurm alvaros@tigergpu.princeton.edu:/scratch/gpfs/BRAINCOGS/SlurmFiles/slurm_real.slurm\n",
      "0\n",
      "['ssh', 'alvaros@tigergpu.princeton.edu', 'sbatch', \"--export=recording_process_id=76,raw_data_directory='ms81/ms81_M012/20211210/2021-12-10_g0/2021-12-10_g0_imec2/',processed_data_directory='ms81/ms81_M012/20211210/2021-12-10_g0/2021-12-10_g0_imec2/recording_process_id_76',repository_dir='/scratch/gpfs/BRAINCOGS/electorphysiology_processing/BrainCogsEphysSorters',process_script_path='main_script.py'\", '/scratch/gpfs/BRAINCOGS/SlurmFiles/slurm_real.slurm']\n",
      "stdout Submitted batch job 8382602\n",
      "\n",
      "stderr \n",
      "p.returncode 0\n",
      "batch_job_sentence Submitted batch job 8382602\n",
      "\n",
      "update_dict {'value_update': '8382602', 'error_info': None}\n",
      "key to update {'recording_id': 41, 'recording_process_id': 76}\n",
      "old status 2 new status 3\n",
      "value_update 8382602 field_update slurm_id\n",
      "function executed: slurm_job_queue\n"
     ]
    }
   ],
   "source": [
    "l = rec_process_handler.RecProcessHandler.pipeline_handler_main()"
   ]
  },
  {
   "cell_type": "code",
   "execution_count": 8,
   "metadata": {},
   "outputs": [
    {
     "name": "stdout",
     "output_type": "stream",
     "text": [
      "[[(array([[2.]]), array(['kilosort2'], dtype='<U9'))]]\n",
      "<class 'datajoint.blob.MatStruct'>\n",
      "soy ndarray\n",
      "soy ndarray\n"
     ]
    }
   ],
   "source": [
    "keyo = dict()\n",
    "keyo['preprocess_paramset_idx'] = 1\n",
    "a = recording.PreprocessParamSet()\n",
    "lo = a.get_preprocess_params(keyo)\n",
    "\n",
    "keyo2 = dict()\n",
    "keyo2['process_paramset_idx'] = 1\n",
    "b = recording.ProcessParamSet()\n",
    "lu = b.get_process_params(keyo2)\n",
    "\n"
   ]
  },
  {
   "cell_type": "code",
   "execution_count": 9,
   "metadata": {},
   "outputs": [
    {
     "data": {
      "text/plain": [
       "{'cat_gt': 2, 'sorting_algorithm': 'kilosort2'}"
      ]
     },
     "execution_count": 9,
     "metadata": {},
     "output_type": "execute_result"
    }
   ],
   "source": [
    "lo"
   ]
  },
  {
   "cell_type": "code",
   "execution_count": 21,
   "metadata": {},
   "outputs": [],
   "source": [
    "diro = os.getcwd()\n",
    "param_file = str(pathlib.Path(diro, 'u19_pipeline', 'automatic_job', 'process_params_examples', 'preprocess_params_example.json'))\n",
    "f = open(param_file)\n",
    "param_dict = json.load(f)\n",
    "param_dict\n",
    "\n",
    "keyu = dict()\n",
    "keyu['preprocess_paramset_idx'] = 1\n",
    "keyu['preprocess_paramset'] = param_dict\n",
    "a.update1(keyu)"
   ]
  },
  {
   "cell_type": "code",
   "execution_count": 67,
   "metadata": {},
   "outputs": [
    {
     "data": {
      "text/plain": [
       "Index(['cat_gt', 'sorting_algorithm'], dtype='object')"
      ]
     },
     "execution_count": 67,
     "metadata": {},
     "output_type": "execute_result"
    }
   ],
   "source": [
    "ws.columns"
   ]
  },
  {
   "cell_type": "code",
   "execution_count": 6,
   "metadata": {},
   "outputs": [
    {
     "data": {
      "text/html": [
       "\n",
       "    \n",
       "    <style type=\"text/css\">\n",
       "        .Relation{\n",
       "            border-collapse:collapse;\n",
       "        }\n",
       "        .Relation th{\n",
       "            background: #A0A0A0; color: #ffffff; padding:4px; border:#f0e0e0 1px solid;\n",
       "            font-weight: normal; font-family: monospace; font-size: 100%;\n",
       "        }\n",
       "        .Relation td{\n",
       "            padding:4px; border:#f0e0e0 1px solid; font-size:100%;\n",
       "        }\n",
       "        .Relation tr:nth-child(odd){\n",
       "            background: #ffffff;\n",
       "        }\n",
       "        .Relation tr:nth-child(even){\n",
       "            background: #f3f1ff;\n",
       "        }\n",
       "        /* Tooltip container */\n",
       "        .djtooltip {\n",
       "        }\n",
       "        /* Tooltip text */\n",
       "        .djtooltip .djtooltiptext {\n",
       "            visibility: hidden;\n",
       "            width: 120px;\n",
       "            background-color: black;\n",
       "            color: #fff;\n",
       "            text-align: center;\n",
       "            padding: 5px 0;\n",
       "            border-radius: 6px;\n",
       "            /* Position the tooltip text - see examples below! */\n",
       "            position: absolute;\n",
       "            z-index: 1;\n",
       "        }\n",
       "        #primary {\n",
       "            font-weight: bold;\n",
       "            color: black;\n",
       "        }\n",
       "        #nonprimary {\n",
       "            font-weight: normal;\n",
       "            color: white;\n",
       "        }\n",
       "\n",
       "        /* Show the tooltip text when you mouse over the tooltip container */\n",
       "        .djtooltip:hover .djtooltiptext {\n",
       "            visibility: visible;\n",
       "        }\n",
       "    </style>\n",
       "    \n",
       "    <b></b>\n",
       "        <div style=\"max-height:1000px;max-width:1500px;overflow:auto;\">\n",
       "        <table border=\"1\" class=\"Relation\">\n",
       "            <thead> <tr style=\"text-align: right;\"> <th> <div class=\"djtooltip\">\n",
       "                            <p id=\"primary\">recording_id</p>\n",
       "                            <span class=\"djtooltiptext\">Unique number assigned to each recording</span>\n",
       "                        </div></th><th><div class=\"djtooltip\">\n",
       "                            <p id=\"nonprimary\">recording_modality</p>\n",
       "                            <span class=\"djtooltiptext\">modalities for recording (ephys, imaging, video_recording, etc.)</span>\n",
       "                        </div></th><th><div class=\"djtooltip\">\n",
       "                            <p id=\"nonprimary\">location</p>\n",
       "                            <span class=\"djtooltiptext\"></span>\n",
       "                        </div></th><th><div class=\"djtooltip\">\n",
       "                            <p id=\"nonprimary\">status_recording_idx</p>\n",
       "                            <span class=\"djtooltiptext\">status in the automate process pipeline</span>\n",
       "                        </div></th><th><div class=\"djtooltip\">\n",
       "                            <p id=\"nonprimary\">preprocess_paramset_idx</p>\n",
       "                            <span class=\"djtooltiptext\"></span>\n",
       "                        </div></th><th><div class=\"djtooltip\">\n",
       "                            <p id=\"nonprimary\">process_paramset_idx</p>\n",
       "                            <span class=\"djtooltiptext\"></span>\n",
       "                        </div></th><th><div class=\"djtooltip\">\n",
       "                            <p id=\"nonprimary\">task_copy_id_pni</p>\n",
       "                            <span class=\"djtooltiptext\">id for globus transfer task raw file local->cup</span>\n",
       "                        </div></th><th><div class=\"djtooltip\">\n",
       "                            <p id=\"nonprimary\">inherit_params_recording</p>\n",
       "                            <span class=\"djtooltiptext\">all RecordingProcess from a recording will have same paramSets</span>\n",
       "                        </div></th><th><div class=\"djtooltip\">\n",
       "                            <p id=\"nonprimary\">recording_directory</p>\n",
       "                            <span class=\"djtooltiptext\">relative directory where the recording will be stored on cup</span>\n",
       "                        </div></th><th><div class=\"djtooltip\">\n",
       "                            <p id=\"nonprimary\">local_directory</p>\n",
       "                            <span class=\"djtooltiptext\">local directory where the recording is stored on system</span>\n",
       "                        </div> </th> </tr> </thead>\n",
       "            <tbody> <tr> <td>2</td>\n",
       "<td>electrophysiology</td>\n",
       "<td>Bezos1</td>\n",
       "<td>3</td>\n",
       "<td>1</td>\n",
       "<td>1</td>\n",
       "<td>None</td>\n",
       "<td>1</td>\n",
       "<td>ms81/ms81_M004/20210507/towersTask_g0</td>\n",
       "<td>ms81/ms81_M004/20210507/towersTask_g0</td></tr><tr><td>3</td>\n",
       "<td>electrophysiology</td>\n",
       "<td>Bezos1</td>\n",
       "<td>3</td>\n",
       "<td>1</td>\n",
       "<td>1</td>\n",
       "<td>None</td>\n",
       "<td>1</td>\n",
       "<td>ms81/ms81_M004/20210507/towersTask_g0</td>\n",
       "<td>ms81/ms81_M004/20210507/towersTask_g0</td></tr><tr><td>4</td>\n",
       "<td>imaging</td>\n",
       "<td>Bezos1</td>\n",
       "<td>3</td>\n",
       "<td>2</td>\n",
       "<td>1</td>\n",
       "<td>None</td>\n",
       "<td>1</td>\n",
       "<td>emdia/emdia_gps24/20220111</td>\n",
       "<td>emdia/emdia_gps24/20220111</td> </tr> </tbody>\n",
       "        </table>\n",
       "        \n",
       "        <p>Total: 3</p></div>\n",
       "        "
      ],
      "text/plain": [
       "*recording_id  recording_moda location     status_recordi preprocess_par process_params task_copy_id_p inherit_params recording_dire local_director\n",
       "+------------+ +------------+ +----------+ +------------+ +------------+ +------------+ +------------+ +------------+ +------------+ +------------+\n",
       "2              electrophysiol Bezos1       3              1              1              None           1              ms81/ms81_M004 ms81/ms81_M004\n",
       "3              electrophysiol Bezos1       3              1              1              None           1              ms81/ms81_M004 ms81/ms81_M004\n",
       "4              imaging        Bezos1       3              2              1              None           1              emdia/emdia_gp emdia/emdia_gp\n",
       " (Total: 3)"
      ]
     },
     "execution_count": 6,
     "metadata": {},
     "output_type": "execute_result"
    }
   ],
   "source": [
    "recording.Recording()"
   ]
  },
  {
   "cell_type": "code",
   "execution_count": 7,
   "metadata": {},
   "outputs": [
    {
     "data": {
      "text/html": [
       "\n",
       "    \n",
       "    <style type=\"text/css\">\n",
       "        .Relation{\n",
       "            border-collapse:collapse;\n",
       "        }\n",
       "        .Relation th{\n",
       "            background: #A0A0A0; color: #ffffff; padding:4px; border:#f0e0e0 1px solid;\n",
       "            font-weight: normal; font-family: monospace; font-size: 100%;\n",
       "        }\n",
       "        .Relation td{\n",
       "            padding:4px; border:#f0e0e0 1px solid; font-size:100%;\n",
       "        }\n",
       "        .Relation tr:nth-child(odd){\n",
       "            background: #ffffff;\n",
       "        }\n",
       "        .Relation tr:nth-child(even){\n",
       "            background: #f3f1ff;\n",
       "        }\n",
       "        /* Tooltip container */\n",
       "        .djtooltip {\n",
       "        }\n",
       "        /* Tooltip text */\n",
       "        .djtooltip .djtooltiptext {\n",
       "            visibility: hidden;\n",
       "            width: 120px;\n",
       "            background-color: black;\n",
       "            color: #fff;\n",
       "            text-align: center;\n",
       "            padding: 5px 0;\n",
       "            border-radius: 6px;\n",
       "            /* Position the tooltip text - see examples below! */\n",
       "            position: absolute;\n",
       "            z-index: 1;\n",
       "        }\n",
       "        #primary {\n",
       "            font-weight: bold;\n",
       "            color: black;\n",
       "        }\n",
       "        #nonprimary {\n",
       "            font-weight: normal;\n",
       "            color: white;\n",
       "        }\n",
       "\n",
       "        /* Show the tooltip text when you mouse over the tooltip container */\n",
       "        .djtooltip:hover .djtooltiptext {\n",
       "            visibility: visible;\n",
       "        }\n",
       "    </style>\n",
       "    \n",
       "    <b>General information of an ephys session</b>\n",
       "        <div style=\"max-height:1000px;max-width:1500px;overflow:auto;\">\n",
       "        <table border=\"1\" class=\"Relation\">\n",
       "            <thead> <tr style=\"text-align: right;\"> <th> <div class=\"djtooltip\">\n",
       "                            <p id=\"primary\">recording_id</p>\n",
       "                            <span class=\"djtooltiptext\">Unique number assigned to each recording</span>\n",
       "                        </div></th><th><div class=\"djtooltip\">\n",
       "                            <p id=\"primary\">probe</p>\n",
       "                            <span class=\"djtooltiptext\">probe number for the recording</span>\n",
       "                        </div></th><th><div class=\"djtooltip\">\n",
       "                            <p id=\"nonprimary\">probe_directory</p>\n",
       "                            <span class=\"djtooltiptext\">probe specific directory</span>\n",
       "                        </div> </th> </tr> </thead>\n",
       "            <tbody> <tr> <td>2</td>\n",
       "<td>0</td>\n",
       "<td>/Volumes/braininit/Data/electrophysiology/ms81/ms81_M004/20210507/towersTask_g0/towersTask_g0_imec0/</td></tr><tr><td>2</td>\n",
       "<td>1</td>\n",
       "<td>/Volumes/braininit/Data/electrophysiology/ms81/ms81_M004/20210507/towersTask_g0/towersTask_g0_imec1/</td></tr><tr><td>3</td>\n",
       "<td>0</td>\n",
       "<td>/Volumes/braininit/Data/electrophysiology/ms81/ms81_M004/20210507/towersTask_g0/towersTask_g0_imec0/</td></tr><tr><td>3</td>\n",
       "<td>1</td>\n",
       "<td>/Volumes/braininit/Data/electrophysiology/ms81/ms81_M004/20210507/towersTask_g0/towersTask_g0_imec1/</td> </tr> </tbody>\n",
       "        </table>\n",
       "        \n",
       "        <p>Total: 4</p></div>\n",
       "        "
      ],
      "text/plain": [
       "*recording_id  *probe    probe_director\n",
       "+------------+ +-------+ +------------+\n",
       "2              0         /Volumes/brain\n",
       "2              1         /Volumes/brain\n",
       "3              0         /Volumes/brain\n",
       "3              1         /Volumes/brain\n",
       " (Total: 4)"
      ]
     },
     "execution_count": 7,
     "metadata": {},
     "output_type": "execute_result"
    }
   ],
   "source": [
    "ephys.EphysRecordingProbes()"
   ]
  },
  {
   "cell_type": "markdown",
   "metadata": {},
   "source": [
    "### Declare AutoPipeline and Status tables if they don't exist"
   ]
  },
  {
   "cell_type": "code",
   "execution_count": 8,
   "metadata": {},
   "outputs": [
    {
     "data": {
      "text/html": [
       "\n",
       "    \n",
       "    <style type=\"text/css\">\n",
       "        .Relation{\n",
       "            border-collapse:collapse;\n",
       "        }\n",
       "        .Relation th{\n",
       "            background: #A0A0A0; color: #ffffff; padding:4px; border:#f0e0e0 1px solid;\n",
       "            font-weight: normal; font-family: monospace; font-size: 100%;\n",
       "        }\n",
       "        .Relation td{\n",
       "            padding:4px; border:#f0e0e0 1px solid; font-size:100%;\n",
       "        }\n",
       "        .Relation tr:nth-child(odd){\n",
       "            background: #ffffff;\n",
       "        }\n",
       "        .Relation tr:nth-child(even){\n",
       "            background: #f3f1ff;\n",
       "        }\n",
       "        /* Tooltip container */\n",
       "        .djtooltip {\n",
       "        }\n",
       "        /* Tooltip text */\n",
       "        .djtooltip .djtooltiptext {\n",
       "            visibility: hidden;\n",
       "            width: 120px;\n",
       "            background-color: black;\n",
       "            color: #fff;\n",
       "            text-align: center;\n",
       "            padding: 5px 0;\n",
       "            border-radius: 6px;\n",
       "            /* Position the tooltip text - see examples below! */\n",
       "            position: absolute;\n",
       "            z-index: 1;\n",
       "        }\n",
       "        #primary {\n",
       "            font-weight: bold;\n",
       "            color: black;\n",
       "        }\n",
       "        #nonprimary {\n",
       "            font-weight: normal;\n",
       "            color: white;\n",
       "        }\n",
       "\n",
       "        /* Show the tooltip text when you mouse over the tooltip container */\n",
       "        .djtooltip:hover .djtooltiptext {\n",
       "            visibility: visible;\n",
       "        }\n",
       "    </style>\n",
       "    \n",
       "    <b></b>\n",
       "        <div style=\"max-height:1000px;max-width:1500px;overflow:auto;\">\n",
       "        <table border=\"1\" class=\"Relation\">\n",
       "            <thead> <tr style=\"text-align: right;\"> <th> <div class=\"djtooltip\">\n",
       "                            <p id=\"primary\">recording_process_id</p>\n",
       "                            <span class=\"djtooltiptext\">Unique number assigned to each processing job for a recording unit</span>\n",
       "                        </div></th><th><div class=\"djtooltip\">\n",
       "                            <p id=\"nonprimary\">recording_id</p>\n",
       "                            <span class=\"djtooltiptext\">Unique number assigned to each recording</span>\n",
       "                        </div></th><th><div class=\"djtooltip\">\n",
       "                            <p id=\"nonprimary\">probe</p>\n",
       "                            <span class=\"djtooltiptext\">probe number for the recording</span>\n",
       "                        </div> </th> </tr> </thead>\n",
       "            <tbody> <tr> <td>16</td>\n",
       "<td>2</td>\n",
       "<td>0</td></tr><tr><td>17</td>\n",
       "<td>2</td>\n",
       "<td>1</td></tr><tr><td>18</td>\n",
       "<td>3</td>\n",
       "<td>0</td></tr><tr><td>19</td>\n",
       "<td>3</td>\n",
       "<td>1</td> </tr> </tbody>\n",
       "        </table>\n",
       "        \n",
       "        <p>Total: 4</p></div>\n",
       "        "
      ],
      "text/plain": [
       "*recording_pro recording_id   probe    \n",
       "+------------+ +------------+ +-------+\n",
       "16             2              0        \n",
       "17             2              1        \n",
       "18             3              0        \n",
       "19             3              1        \n",
       " (Total: 4)"
      ]
     },
     "execution_count": 8,
     "metadata": {},
     "output_type": "execute_result"
    }
   ],
   "source": [
    "ephys.EphysProcessing()"
   ]
  },
  {
   "cell_type": "code",
   "execution_count": 9,
   "metadata": {},
   "outputs": [
    {
     "data": {
      "text/html": [
       "\n",
       "    \n",
       "    <style type=\"text/css\">\n",
       "        .Relation{\n",
       "            border-collapse:collapse;\n",
       "        }\n",
       "        .Relation th{\n",
       "            background: #A0A0A0; color: #ffffff; padding:4px; border:#f0e0e0 1px solid;\n",
       "            font-weight: normal; font-family: monospace; font-size: 100%;\n",
       "        }\n",
       "        .Relation td{\n",
       "            padding:4px; border:#f0e0e0 1px solid; font-size:100%;\n",
       "        }\n",
       "        .Relation tr:nth-child(odd){\n",
       "            background: #ffffff;\n",
       "        }\n",
       "        .Relation tr:nth-child(even){\n",
       "            background: #f3f1ff;\n",
       "        }\n",
       "        /* Tooltip container */\n",
       "        .djtooltip {\n",
       "        }\n",
       "        /* Tooltip text */\n",
       "        .djtooltip .djtooltiptext {\n",
       "            visibility: hidden;\n",
       "            width: 120px;\n",
       "            background-color: black;\n",
       "            color: #fff;\n",
       "            text-align: center;\n",
       "            padding: 5px 0;\n",
       "            border-radius: 6px;\n",
       "            /* Position the tooltip text - see examples below! */\n",
       "            position: absolute;\n",
       "            z-index: 1;\n",
       "        }\n",
       "        #primary {\n",
       "            font-weight: bold;\n",
       "            color: black;\n",
       "        }\n",
       "        #nonprimary {\n",
       "            font-weight: normal;\n",
       "            color: white;\n",
       "        }\n",
       "\n",
       "        /* Show the tooltip text when you mouse over the tooltip container */\n",
       "        .djtooltip:hover .djtooltiptext {\n",
       "            visibility: visible;\n",
       "        }\n",
       "    </style>\n",
       "    \n",
       "    <b>General information of an imaging session</b>\n",
       "        <div style=\"max-height:1000px;max-width:1500px;overflow:auto;\">\n",
       "        <table border=\"1\" class=\"Relation\">\n",
       "            <thead> <tr style=\"text-align: right;\"> <th> <div class=\"djtooltip\">\n",
       "                            <p id=\"primary\">recording_id</p>\n",
       "                            <span class=\"djtooltiptext\">Unique number assigned to each recording</span>\n",
       "                        </div> </th> </tr> </thead>\n",
       "            <tbody> <tr> <td>4</td> </tr> </tbody>\n",
       "        </table>\n",
       "        \n",
       "        <p>Total: 1</p></div>\n",
       "        "
      ],
      "text/plain": [
       "*recording_id \n",
       "+------------+\n",
       "4             \n",
       " (Total: 1)"
      ]
     },
     "execution_count": 9,
     "metadata": {},
     "output_type": "execute_result"
    }
   ],
   "source": [
    "imaging_rec.Scan()\n"
   ]
  },
  {
   "cell_type": "code",
   "execution_count": 10,
   "metadata": {},
   "outputs": [
    {
     "data": {
      "text/html": [
       "\n",
       "    \n",
       "    <style type=\"text/css\">\n",
       "        .Relation{\n",
       "            border-collapse:collapse;\n",
       "        }\n",
       "        .Relation th{\n",
       "            background: #A0A0A0; color: #ffffff; padding:4px; border:#f0e0e0 1px solid;\n",
       "            font-weight: normal; font-family: monospace; font-size: 100%;\n",
       "        }\n",
       "        .Relation td{\n",
       "            padding:4px; border:#f0e0e0 1px solid; font-size:100%;\n",
       "        }\n",
       "        .Relation tr:nth-child(odd){\n",
       "            background: #ffffff;\n",
       "        }\n",
       "        .Relation tr:nth-child(even){\n",
       "            background: #f3f1ff;\n",
       "        }\n",
       "        /* Tooltip container */\n",
       "        .djtooltip {\n",
       "        }\n",
       "        /* Tooltip text */\n",
       "        .djtooltip .djtooltiptext {\n",
       "            visibility: hidden;\n",
       "            width: 120px;\n",
       "            background-color: black;\n",
       "            color: #fff;\n",
       "            text-align: center;\n",
       "            padding: 5px 0;\n",
       "            border-radius: 6px;\n",
       "            /* Position the tooltip text - see examples below! */\n",
       "            position: absolute;\n",
       "            z-index: 1;\n",
       "        }\n",
       "        #primary {\n",
       "            font-weight: bold;\n",
       "            color: black;\n",
       "        }\n",
       "        #nonprimary {\n",
       "            font-weight: normal;\n",
       "            color: white;\n",
       "        }\n",
       "\n",
       "        /* Show the tooltip text when you mouse over the tooltip container */\n",
       "        .djtooltip:hover .djtooltiptext {\n",
       "            visibility: visible;\n",
       "        }\n",
       "    </style>\n",
       "    \n",
       "    <b>metainfo about imaging session</b>\n",
       "        <div style=\"max-height:1000px;max-width:1500px;overflow:auto;\">\n",
       "        <table border=\"1\" class=\"Relation\">\n",
       "            <thead> <tr style=\"text-align: right;\"> <th> <div class=\"djtooltip\">\n",
       "                            <p id=\"primary\">recording_id</p>\n",
       "                            <span class=\"djtooltiptext\">Unique number assigned to each recording</span>\n",
       "                        </div></th><th><div class=\"djtooltip\">\n",
       "                            <p id=\"nonprimary\">file_name_base</p>\n",
       "                            <span class=\"djtooltiptext\">base name of the file</span>\n",
       "                        </div></th><th><div class=\"djtooltip\">\n",
       "                            <p id=\"nonprimary\">scan_width</p>\n",
       "                            <span class=\"djtooltiptext\">width of scanning in pixels</span>\n",
       "                        </div></th><th><div class=\"djtooltip\">\n",
       "                            <p id=\"nonprimary\">scan_height</p>\n",
       "                            <span class=\"djtooltiptext\">height of scanning in pixels</span>\n",
       "                        </div></th><th><div class=\"djtooltip\">\n",
       "                            <p id=\"nonprimary\">acq_time</p>\n",
       "                            <span class=\"djtooltiptext\">acquisition time</span>\n",
       "                        </div></th><th><div class=\"djtooltip\">\n",
       "                            <p id=\"nonprimary\">n_depths</p>\n",
       "                            <span class=\"djtooltiptext\">number of depths</span>\n",
       "                        </div></th><th><div class=\"djtooltip\">\n",
       "                            <p id=\"nonprimary\">scan_depths</p>\n",
       "                            <span class=\"djtooltiptext\">depth values in this scan</span>\n",
       "                        </div></th><th><div class=\"djtooltip\">\n",
       "                            <p id=\"nonprimary\">frame_rate</p>\n",
       "                            <span class=\"djtooltiptext\">imaging frame rate</span>\n",
       "                        </div></th><th><div class=\"djtooltip\">\n",
       "                            <p id=\"nonprimary\">inter_fov_lag_sec</p>\n",
       "                            <span class=\"djtooltiptext\">time lag in secs between fovs</span>\n",
       "                        </div></th><th><div class=\"djtooltip\">\n",
       "                            <p id=\"nonprimary\">frame_ts_sec</p>\n",
       "                            <span class=\"djtooltiptext\">frame timestamps in secs 1xnFrames</span>\n",
       "                        </div></th><th><div class=\"djtooltip\">\n",
       "                            <p id=\"nonprimary\">channels</p>\n",
       "                            <span class=\"djtooltiptext\">is this the channer number or total number of channels</span>\n",
       "                        </div></th><th><div class=\"djtooltip\">\n",
       "                            <p id=\"nonprimary\">cfg_filename</p>\n",
       "                            <span class=\"djtooltiptext\">cfg file path</span>\n",
       "                        </div></th><th><div class=\"djtooltip\">\n",
       "                            <p id=\"nonprimary\">usr_filename</p>\n",
       "                            <span class=\"djtooltiptext\">usr file path</span>\n",
       "                        </div></th><th><div class=\"djtooltip\">\n",
       "                            <p id=\"nonprimary\">fast_z_lag</p>\n",
       "                            <span class=\"djtooltiptext\">fast z lag</span>\n",
       "                        </div></th><th><div class=\"djtooltip\">\n",
       "                            <p id=\"nonprimary\">fast_z_flyback_time</p>\n",
       "                            <span class=\"djtooltiptext\">time it takes to fly back to fov</span>\n",
       "                        </div></th><th><div class=\"djtooltip\">\n",
       "                            <p id=\"nonprimary\">line_period</p>\n",
       "                            <span class=\"djtooltiptext\">scan time per line</span>\n",
       "                        </div></th><th><div class=\"djtooltip\">\n",
       "                            <p id=\"nonprimary\">scan_frame_period</p>\n",
       "                            <span class=\"djtooltiptext\"></span>\n",
       "                        </div></th><th><div class=\"djtooltip\">\n",
       "                            <p id=\"nonprimary\">scan_volume_rate</p>\n",
       "                            <span class=\"djtooltiptext\"></span>\n",
       "                        </div></th><th><div class=\"djtooltip\">\n",
       "                            <p id=\"nonprimary\">flyback_time_per_frame</p>\n",
       "                            <span class=\"djtooltiptext\"></span>\n",
       "                        </div></th><th><div class=\"djtooltip\">\n",
       "                            <p id=\"nonprimary\">flyto_time_per_scan_field</p>\n",
       "                            <span class=\"djtooltiptext\"></span>\n",
       "                        </div></th><th><div class=\"djtooltip\">\n",
       "                            <p id=\"nonprimary\">fov_corner_points</p>\n",
       "                            <span class=\"djtooltiptext\">coordinates of the corners of the full 5mm FOV, in microns</span>\n",
       "                        </div></th><th><div class=\"djtooltip\">\n",
       "                            <p id=\"nonprimary\">nfovs</p>\n",
       "                            <span class=\"djtooltiptext\">number of field of view</span>\n",
       "                        </div></th><th><div class=\"djtooltip\">\n",
       "                            <p id=\"nonprimary\">nframes</p>\n",
       "                            <span class=\"djtooltiptext\">number of frames in the scan</span>\n",
       "                        </div></th><th><div class=\"djtooltip\">\n",
       "                            <p id=\"nonprimary\">nframes_good</p>\n",
       "                            <span class=\"djtooltiptext\">number of frames in the scan before acceptable sample bleaching threshold is crossed</span>\n",
       "                        </div></th><th><div class=\"djtooltip\">\n",
       "                            <p id=\"nonprimary\">last_good_file</p>\n",
       "                            <span class=\"djtooltiptext\">number of the file containing the last good frame because of bleaching</span>\n",
       "                        </div></th><th><div class=\"djtooltip\">\n",
       "                            <p id=\"nonprimary\">motion_correction_enabled</p>\n",
       "                            <span class=\"djtooltiptext\"></span>\n",
       "                        </div></th><th><div class=\"djtooltip\">\n",
       "                            <p id=\"nonprimary\">motion_correction_mode</p>\n",
       "                            <span class=\"djtooltiptext\"></span>\n",
       "                        </div></th><th><div class=\"djtooltip\">\n",
       "                            <p id=\"nonprimary\">stacks_enabled</p>\n",
       "                            <span class=\"djtooltiptext\"></span>\n",
       "                        </div></th><th><div class=\"djtooltip\">\n",
       "                            <p id=\"nonprimary\">stack_actuator</p>\n",
       "                            <span class=\"djtooltiptext\"></span>\n",
       "                        </div></th><th><div class=\"djtooltip\">\n",
       "                            <p id=\"nonprimary\">stack_definition</p>\n",
       "                            <span class=\"djtooltiptext\"></span>\n",
       "                        </div> </th> </tr> </thead>\n",
       "            <tbody> <tr> <td>4</td>\n",
       "<td>emdia/emdia_gps24/20220111/gps24_20220111_mainrecording_00001_00001.tif</td>\n",
       "<td>512</td>\n",
       "<td>1588</td>\n",
       "<td>2022-01-11 00:00:00</td>\n",
       "<td>1</td>\n",
       "<td>=BLOB=</td>\n",
       "<td>14.3005</td>\n",
       "<td>0.001</td>\n",
       "<td>=BLOB=</td>\n",
       "<td>=BLOB=</td>\n",
       "<td>C:\\Users\\admin\\Documents\\MATLAB\\MikaToo.cfg</td>\n",
       "<td>C:\\Users\\admin\\Documents\\MATLAB\\Mika.usr</td>\n",
       "<td>0.0008</td>\n",
       "<td>0.004</td>\n",
       "<td>4.14754e-05</td>\n",
       "<td>0.0699276</td>\n",
       "<td>14.3005</td>\n",
       "<td>0.001</td>\n",
       "<td>0.001</td>\n",
       "<td>=BLOB=</td>\n",
       "<td>3</td>\n",
       "<td>51468</td>\n",
       "<td>36000</td>\n",
       "<td>18</td>\n",
       "<td>1</td>\n",
       "<td>automated</td>\n",
       "<td>1</td>\n",
       "<td>fastZ</td>\n",
       "<td>arbitrary</td> </tr> </tbody>\n",
       "        </table>\n",
       "        \n",
       "        <p>Total: 1</p></div>\n",
       "        "
      ],
      "text/plain": [
       "*recording_id  file_name_base scan_width     scan_height    acq_time       n_depths     scan_depth frame_rate     inter_fov_lag_ frame_ts_s channels   cfg_filename   usr_filename   fast_z_lag     fast_z_flyback line_period    scan_frame_per scan_volume_ra flyback_time_p flyto_time_per fov_corner nfovs     nframes     nframes_good   last_good_file motion_correct motion_correct stacks_enabled stack_actuator stack_definiti\n",
       "+------------+ +------------+ +------------+ +------------+ +------------+ +----------+ +--------+ +------------+ +------------+ +--------+ +--------+ +------------+ +------------+ +------------+ +------------+ +------------+ +------------+ +------------+ +------------+ +------------+ +--------+ +-------+ +---------+ +------------+ +------------+ +------------+ +------------+ +------------+ +------------+ +------------+\n",
       "4              emdia/emdia_gp 512            1588           2022-01-11 00: 1            =BLOB=     14.3005        0.001          =BLOB=     =BLOB=     C:\\Users\\admin C:\\Users\\admin 0.0008         0.004          4.14754e-05    0.0699276      14.3005        0.001          0.001          =BLOB=     3         51468       36000          18             1              automated      1              fastZ          arbitrary     \n",
       " (Total: 1)"
      ]
     },
     "execution_count": 10,
     "metadata": {},
     "output_type": "execute_result"
    }
   ],
   "source": [
    "imaging_rec.ScanInfo()"
   ]
  },
  {
   "cell_type": "code",
   "execution_count": 11,
   "metadata": {},
   "outputs": [
    {
     "data": {
      "text/html": [
       "\n",
       "    \n",
       "    <style type=\"text/css\">\n",
       "        .Relation{\n",
       "            border-collapse:collapse;\n",
       "        }\n",
       "        .Relation th{\n",
       "            background: #A0A0A0; color: #ffffff; padding:4px; border:#f0e0e0 1px solid;\n",
       "            font-weight: normal; font-family: monospace; font-size: 100%;\n",
       "        }\n",
       "        .Relation td{\n",
       "            padding:4px; border:#f0e0e0 1px solid; font-size:100%;\n",
       "        }\n",
       "        .Relation tr:nth-child(odd){\n",
       "            background: #ffffff;\n",
       "        }\n",
       "        .Relation tr:nth-child(even){\n",
       "            background: #f3f1ff;\n",
       "        }\n",
       "        /* Tooltip container */\n",
       "        .djtooltip {\n",
       "        }\n",
       "        /* Tooltip text */\n",
       "        .djtooltip .djtooltiptext {\n",
       "            visibility: hidden;\n",
       "            width: 120px;\n",
       "            background-color: black;\n",
       "            color: #fff;\n",
       "            text-align: center;\n",
       "            padding: 5px 0;\n",
       "            border-radius: 6px;\n",
       "            /* Position the tooltip text - see examples below! */\n",
       "            position: absolute;\n",
       "            z-index: 1;\n",
       "        }\n",
       "        #primary {\n",
       "            font-weight: bold;\n",
       "            color: black;\n",
       "        }\n",
       "        #nonprimary {\n",
       "            font-weight: normal;\n",
       "            color: white;\n",
       "        }\n",
       "\n",
       "        /* Show the tooltip text when you mouse over the tooltip container */\n",
       "        .djtooltip:hover .djtooltiptext {\n",
       "            visibility: visible;\n",
       "        }\n",
       "    </style>\n",
       "    \n",
       "    <b></b>\n",
       "        <div style=\"max-height:1000px;max-width:1500px;overflow:auto;\">\n",
       "        <table border=\"1\" class=\"Relation\">\n",
       "            <thead> <tr style=\"text-align: right;\"> <th> <div class=\"djtooltip\">\n",
       "                            <p id=\"primary\">recording_process_id</p>\n",
       "                            <span class=\"djtooltiptext\">Unique number assigned to each processing job for a recording unit</span>\n",
       "                        </div></th><th><div class=\"djtooltip\">\n",
       "                            <p id=\"nonprimary\">recording_id</p>\n",
       "                            <span class=\"djtooltiptext\">Unique number assigned to each recording</span>\n",
       "                        </div></th><th><div class=\"djtooltip\">\n",
       "                            <p id=\"nonprimary\">fov</p>\n",
       "                            <span class=\"djtooltiptext\">number of the field of view in this scan</span>\n",
       "                        </div> </th> </tr> </thead>\n",
       "            <tbody> <tr> <td>27</td>\n",
       "<td>4</td>\n",
       "<td>1</td></tr><tr><td>28</td>\n",
       "<td>4</td>\n",
       "<td>2</td></tr><tr><td>29</td>\n",
       "<td>4</td>\n",
       "<td>3</td> </tr> </tbody>\n",
       "        </table>\n",
       "        \n",
       "        <p>Total: 3</p></div>\n",
       "        "
      ],
      "text/plain": [
       "*recording_pro recording_id   fov    \n",
       "+------------+ +------------+ +-----+\n",
       "27             4              1      \n",
       "28             4              2      \n",
       "29             4              3      \n",
       " (Total: 3)"
      ]
     },
     "execution_count": 11,
     "metadata": {},
     "output_type": "execute_result"
    }
   ],
   "source": [
    "imaging_rec.ImagingProcessing()"
   ]
  },
  {
   "cell_type": "code",
   "execution_count": 12,
   "metadata": {},
   "outputs": [
    {
     "data": {
      "image/svg+xml": "<svg height=\"476pt\" viewBox=\"0.00 0.00 1027.19 476.00\" width=\"1027pt\" xmlns=\"http://www.w3.org/2000/svg\" xmlns:xlink=\"http://www.w3.org/1999/xlink\">\n<g class=\"graph\" id=\"graph0\" transform=\"scale(1 1) rotate(0) translate(4 472)\">\n<title>%3</title>\n<polygon fill=\"white\" points=\"-4,5 -4,-472 1024.19,-472 1024.19,5 -4,5\" stroke=\"white\"/>\n<!-- 2 -->\n<g class=\"node\" id=\"node1\"><title>2</title>\n<ellipse cx=\"766\" cy=\"-378\" fill=\"#ff8800\" fill-opacity=\"0.501961\" rx=\"12.0312\" ry=\"12.0417\" stroke=\"#ff8800\" stroke-opacity=\"0.501961\"/>\n<text fill=\"#ff8800\" font-family=\"arial\" font-size=\"1.00\" text-anchor=\"middle\" x=\"766\" y=\"-377.7\">2</text>\n</g>\n<!-- recording.acquisition.Session -->\n<g class=\"node\" id=\"node11\"><title>recording.acquisition.Session</title>\n<g id=\"a_node11\"><a xlink:title=\"→ recording.acquisition.SessionStarted\r------------------------------\rsession_start_time   \rsession_end_time=null \r→ recording.lab.Location.proj(session_location=&quot;location&quot;)\r→ recording.task.TaskLevelParameterSet\rstimulus_bank=&quot;&quot;     \rstimulus_commit=&quot;&quot;   \rsession_performance  \rnum_trials=null      \rnum_trials_try=null  \rsession_narrative=&quot;&quot; \rsession_protocol=null \rsession_code_version=null \ris_bad_session=null  \rsession_comments=null \r\">\n<polygon fill=\"#00ff00\" fill-opacity=\"0.188235\" points=\"870,-251.5 696,-251.5 696,-216.5 870,-216.5 870,-251.5\" stroke=\"#00ff00\" stroke-opacity=\"0.188235\"/>\n<text fill=\"darkgreen\" font-family=\"arial\" font-size=\"12.00\" text-anchor=\"middle\" x=\"783\" y=\"-230.9\">recording.acquisition.Session</text>\n</a>\n</g>\n</g>\n<!-- 2&#45;&gt;recording.acquisition.Session -->\n<g class=\"edge\" id=\"edge1\"><title>2-&gt;recording.acquisition.Session</title>\n<path d=\"M767.334,-365.857C770.308,-341.013 777.497,-280.965 781.006,-251.654\" fill=\"none\" stroke=\"#000000\" stroke-dasharray=\"5,2\" stroke-opacity=\"0.250980\" stroke-width=\"0.75\"/>\n</g>\n<!-- 0 -->\n<g class=\"node\" id=\"node2\"><title>0</title>\n<ellipse cx=\"60\" cy=\"-162\" fill=\"#ff8800\" fill-opacity=\"0.501961\" rx=\"12.0312\" ry=\"12.0417\" stroke=\"#ff8800\" stroke-opacity=\"0.501961\"/>\n<text fill=\"#ff8800\" font-family=\"arial\" font-size=\"1.00\" text-anchor=\"middle\" x=\"60\" y=\"-161.7\">0</text>\n</g>\n<!-- recording.RecordingProcessStatus -->\n<g class=\"node\" id=\"node5\"><title>recording.RecordingProcessStatus</title>\n<g id=\"a_node5\"><a xlink:title=\"recording_process_status_id \r------------------------------\r→ recording.RecordingProcess\r→ recording.StatusProcessDefinition.proj(status_pipeline_idx_old=&quot;status_pipeline_idx&quot;)\r→ recording.StatusProcessDefinition.proj(status_pipeline_idx_new=&quot;status_pipeline_idx&quot;)\rstatus_timestamp     \rerror_message=null   \rerror_exception=null \r\">\n<polygon fill=\"#00ff00\" fill-opacity=\"0.188235\" points=\"204,-107.5 0,-107.5 0,-72.5 204,-72.5 204,-107.5\" stroke=\"#00ff00\" stroke-opacity=\"0.188235\"/>\n<text fill=\"darkgreen\" font-family=\"arial\" font-size=\"12.00\" text-anchor=\"start\" text-decoration=\"underline\" x=\"8.5\" y=\"-87.9\">recording.RecordingProcessStatus</text>\n</a>\n</g>\n</g>\n<!-- 0&#45;&gt;recording.RecordingProcessStatus -->\n<g class=\"edge\" id=\"edge2\"><title>0-&gt;recording.RecordingProcessStatus</title>\n<path d=\"M65.8399,-151.267C72.6019,-139.997 83.8543,-121.243 92.0133,-107.644\" fill=\"none\" stroke=\"#000000\" stroke-dasharray=\"5,2\" stroke-opacity=\"0.250980\" stroke-width=\"0.75\"/>\n</g>\n<!-- 1 -->\n<g class=\"node\" id=\"node3\"><title>1</title>\n<ellipse cx=\"102\" cy=\"-162\" fill=\"#ff8800\" fill-opacity=\"0.501961\" rx=\"12.0312\" ry=\"12.0417\" stroke=\"#ff8800\" stroke-opacity=\"0.501961\"/>\n<text fill=\"#ff8800\" font-family=\"arial\" font-size=\"1.00\" text-anchor=\"middle\" x=\"102\" y=\"-161.7\">1</text>\n</g>\n<!-- 1&#45;&gt;recording.RecordingProcessStatus -->\n<g class=\"edge\" id=\"edge3\"><title>1-&gt;recording.RecordingProcessStatus</title>\n<path d=\"M102,-149.753C102,-138.391 102,-120.705 102,-107.704\" fill=\"none\" stroke=\"#000000\" stroke-dasharray=\"5,2\" stroke-opacity=\"0.250980\" stroke-width=\"0.75\"/>\n</g>\n<!-- recording.RecordingProcess -->\n<g class=\"node\" id=\"node4\"><title>recording.RecordingProcess</title>\n<g id=\"a_node4\"><a xlink:title=\"recording_process_id \r------------------------------\r→ recording.Recording\r→ recording.StatusProcessDefinition\r→ recording.PreprocessParamSet\r→ recording.ProcessParamSet\rrecording_process_pre_path=null : varchar(200)                 # relative path for raw data recording subdirectory that will be processed (ephys→ probe, imaging→fieldofview)\rrecording_process_post_path=null \rtask_copy_id_pre=null : UUID                         # id for globus transfer task raw file cup→tiger\rtask_copy_id_post=null : UUID                         # id for globus transfer task sorted file tiger→cup\rslurm_id=null        \r\">\n<polygon fill=\"#00ff00\" fill-opacity=\"0.188235\" points=\"302,-179.5 132,-179.5 132,-144.5 302,-144.5 302,-179.5\" stroke=\"#00ff00\" stroke-opacity=\"0.188235\"/>\n<text fill=\"darkgreen\" font-family=\"arial\" font-size=\"12.00\" text-anchor=\"start\" text-decoration=\"underline\" x=\"140.5\" y=\"-159.9\">recording.RecordingProcess</text>\n</a>\n</g>\n</g>\n<!-- recording.RecordingProcess&#45;&gt;recording.RecordingProcessStatus -->\n<g class=\"edge\" id=\"edge4\"><title>recording.RecordingProcess-&gt;recording.RecordingProcessStatus</title>\n<path d=\"M189.747,-144.411C171.548,-133.333 147.697,-118.816 129.456,-107.713\" fill=\"none\" stroke=\"#000000\" stroke-dasharray=\"5,2\" stroke-opacity=\"0.250980\" stroke-width=\"0.75\"/>\n</g>\n<!-- ephys.EphysProcessing -->\n<g class=\"node\" id=\"node18\"><title>ephys.EphysProcessing</title>\n<g id=\"a_node18\"><a xlink:title=\"→ recording.RecordingProcess\r------------------------------\r→ ephys.EphysRecordingProbes\r\">\n<polygon fill=\"#00ff00\" fill-opacity=\"0.188235\" points=\"402,-35.5 256,-35.5 256,-0.5 402,-0.5 402,-35.5\" stroke=\"#00ff00\" stroke-opacity=\"0.188235\"/>\n<text fill=\"darkgreen\" font-family=\"arial\" font-size=\"12.00\" text-anchor=\"middle\" x=\"329\" y=\"-14.9\">ephys.EphysProcessing</text>\n</a>\n</g>\n</g>\n<!-- recording.RecordingProcess&#45;&gt;ephys.EphysProcessing -->\n<g class=\"edge\" id=\"edge5\"><title>recording.RecordingProcess-&gt;ephys.EphysProcessing</title>\n<path d=\"M226.468,-144.182C237.199,-125.711 255.72,-95.5439 275,-72 285.736,-58.8894 299.364,-45.534 310.243,-35.5096\" fill=\"none\" stroke=\"#000000\" stroke-opacity=\"0.250980\" stroke-width=\"2\"/>\n</g>\n<!-- recording.Recording -->\n<g class=\"node\" id=\"node6\"><title>recording.Recording</title>\n<g id=\"a_node6\"><a xlink:title=\"recording_id         \r------------------------------\r→ recording.RecordingModality\r→ recording.lab.Location\r→ recording.StatusRecordingDefinition\r→ recording.PreprocessParamSet\r→ recording.ProcessParamSet\rtask_copy_id_pni=null : UUID                         # id for globus transfer task raw file local→cup\rinherit_params_recording=1 \rrecording_directory  \rlocal_directory      \r\">\n<polygon fill=\"#00ff00\" fill-opacity=\"0.188235\" points=\"678,-251.5 552,-251.5 552,-216.5 678,-216.5 678,-251.5\" stroke=\"#00ff00\" stroke-opacity=\"0.188235\"/>\n<text fill=\"darkgreen\" font-family=\"arial\" font-size=\"12.00\" text-anchor=\"start\" text-decoration=\"underline\" x=\"560.5\" y=\"-231.9\">recording.Recording</text>\n</a>\n</g>\n</g>\n<!-- recording.Recording&#45;&gt;recording.RecordingProcess -->\n<g class=\"edge\" id=\"edge6\"><title>recording.Recording-&gt;recording.RecordingProcess</title>\n<path d=\"M551.807,-222.102C490.304,-211.468 394.211,-194.778 311,-180 308.061,-179.478 305.07,-178.945 302.05,-178.406\" fill=\"none\" stroke=\"#000000\" stroke-dasharray=\"5,2\" stroke-opacity=\"0.250980\" stroke-width=\"0.75\"/>\n</g>\n<!-- recording.Recording.BehaviorSession -->\n<g class=\"node\" id=\"node8\"><title>recording.Recording.BehaviorSession</title>\n<g id=\"a_node8\"><a xlink:title=\"→ recording.Recording\r------------------------------\r→ recording.acquisition.Session\r\">\n<polygon fill=\"none\" points=\"716.25,-171.5 537.75,-171.5 537.75,-152.5 716.25,-152.5 716.25,-171.5\" stroke=\"none\"/>\n<text font-family=\"arial\" font-size=\"10.00\" text-anchor=\"middle\" x=\"627\" y=\"-159.5\">recording.Recording.BehaviorSession</text>\n</a>\n</g>\n</g>\n<!-- recording.Recording&#45;&gt;recording.Recording.BehaviorSession -->\n<g class=\"edge\" id=\"edge7\"><title>recording.Recording-&gt;recording.Recording.BehaviorSession</title>\n<path d=\"M617.844,-216.411C620.256,-202.341 623.619,-182.723 625.526,-171.599\" fill=\"none\" stroke=\"#000000\" stroke-opacity=\"0.250980\" stroke-width=\"2\"/>\n</g>\n<!-- recording.Recording.RecordingSession -->\n<g class=\"node\" id=\"node10\"><title>recording.Recording.RecordingSession</title>\n<g id=\"a_node10\"><a xlink:title=\"→ recording.Recording\r------------------------------\r→ recording.subject.Subject\rrecording_datetime   \r\">\n<polygon fill=\"none\" points=\"919.25,-171.5 734.75,-171.5 734.75,-152.5 919.25,-152.5 919.25,-171.5\" stroke=\"none\"/>\n<text font-family=\"arial\" font-size=\"10.00\" text-anchor=\"middle\" x=\"827\" y=\"-159.5\">recording.Recording.RecordingSession</text>\n</a>\n</g>\n</g>\n<!-- recording.Recording&#45;&gt;recording.Recording.RecordingSession -->\n<g class=\"edge\" id=\"edge8\"><title>recording.Recording-&gt;recording.Recording.RecordingSession</title>\n<path d=\"M664.973,-216.5C707.695,-202.393 767.458,-182.66 801.181,-171.525\" fill=\"none\" stroke=\"#000000\" stroke-opacity=\"0.250980\" stroke-width=\"2\"/>\n</g>\n<!-- ephys.EphysRecording -->\n<g class=\"node\" id=\"node19\"><title>ephys.EphysRecording</title>\n<g id=\"a_node19\"><a xlink:title=\"→ recording.Recording\r\">\n<ellipse cx=\"420\" cy=\"-162\" fill=\"#ff0000\" fill-opacity=\"0.125490\" rx=\"99.5528\" ry=\"14.7\" stroke=\"#ff0000\" stroke-opacity=\"0.125490\"/>\n<text fill=\"#7f0000\" font-family=\"arial\" font-size=\"12.00\" text-anchor=\"middle\" x=\"420\" y=\"-158.9\">ephys.EphysRecording</text>\n</a>\n</g>\n</g>\n<!-- recording.Recording&#45;&gt;ephys.EphysRecording -->\n<g class=\"edge\" id=\"edge9\"><title>recording.Recording-&gt;ephys.EphysRecording</title>\n<path d=\"M568.788,-216.411C534.212,-203.999 487.606,-187.269 455.828,-175.861\" fill=\"none\" stroke=\"#000000\" stroke-opacity=\"0.250980\" stroke-width=\"2\"/>\n</g>\n<!-- recording.StatusRecordingDefinition -->\n<g class=\"node\" id=\"node7\"><title>recording.StatusRecordingDefinition</title>\n<g id=\"a_node7\"><a xlink:title=\"status_recording_idx \r------------------------------\rstatus_definition    \r\">\n<polygon fill=\"#000000\" fill-opacity=\"0.125490\" points=\"697.25,-323.5 524.75,-323.5 524.75,-288.5 697.25,-288.5 697.25,-323.5\" stroke=\"none\"/>\n<text font-family=\"arial\" font-size=\"10.00\" text-anchor=\"start\" text-decoration=\"underline\" x=\"533\" y=\"-304.5\">recording.StatusRecordingDefinition</text>\n</a>\n</g>\n</g>\n<!-- recording.StatusRecordingDefinition&#45;&gt;recording.Recording -->\n<g class=\"edge\" id=\"edge10\"><title>recording.StatusRecordingDefinition-&gt;recording.Recording</title>\n<path d=\"M611.948,-288.411C612.576,-277.414 613.398,-263.027 614.031,-251.956\" fill=\"none\" stroke=\"#000000\" stroke-dasharray=\"5,2\" stroke-opacity=\"0.250980\" stroke-width=\"0.75\"/>\n</g>\n<!-- recording.ProcessParamSet -->\n<g class=\"node\" id=\"node9\"><title>recording.ProcessParamSet</title>\n<g id=\"a_node9\"><a xlink:title=\"process_paramset_idx \r------------------------------\r→ recording.RecordingModality\rprocess_paramset_desc \rprocess_paramset_hash \rprocess_paramset     \rUNIQUE INDEX (process_paramset_hash)\r\">\n<polygon fill=\"#000000\" fill-opacity=\"0.125490\" points=\"296,-323.5 156,-323.5 156,-288.5 296,-288.5 296,-323.5\" stroke=\"none\"/>\n<text font-family=\"arial\" font-size=\"10.00\" text-anchor=\"start\" text-decoration=\"underline\" x=\"164.5\" y=\"-304.5\">recording.ProcessParamSet</text>\n</a>\n</g>\n</g>\n<!-- recording.ProcessParamSet&#45;&gt;recording.RecordingProcess -->\n<g class=\"edge\" id=\"edge11\"><title>recording.ProcessParamSet-&gt;recording.RecordingProcess</title>\n<path d=\"M224.95,-288.433C223.225,-261.217 219.81,-207.334 218.071,-179.902\" fill=\"none\" stroke=\"#000000\" stroke-dasharray=\"5,2\" stroke-opacity=\"0.250980\" stroke-width=\"0.75\"/>\n</g>\n<!-- recording.ProcessParamSet&#45;&gt;recording.Recording -->\n<g class=\"edge\" id=\"edge12\"><title>recording.ProcessParamSet-&gt;recording.Recording</title>\n<path d=\"M296.18,-289.736C299.157,-289.139 302.107,-288.558 305,-288 390.242,-271.549 489.182,-255.088 551.922,-244.976\" fill=\"none\" stroke=\"#000000\" stroke-dasharray=\"5,2\" stroke-opacity=\"0.250980\" stroke-width=\"0.75\"/>\n</g>\n<!-- recording.acquisition.Session&#45;&gt;recording.Recording.BehaviorSession -->\n<g class=\"edge\" id=\"edge13\"><title>recording.acquisition.Session-&gt;recording.Recording.BehaviorSession</title>\n<path d=\"M746.03,-216.411C714.675,-202.341 670.954,-182.723 646.163,-171.599\" fill=\"none\" stroke=\"#000000\" stroke-dasharray=\"5,2\" stroke-opacity=\"0.250980\" stroke-width=\"0.75\"/>\n</g>\n<!-- recording.lab.Location -->\n<g class=\"node\" id=\"node12\"><title>recording.lab.Location</title>\n<g id=\"a_node12\"><a xlink:title=\"location             \r------------------------------\r→ [nullable] `u19_lab`.`#acquisition_type`\rlocation_description=&quot;&quot; \rbucket_default_path=null \rimaging_bucket_default_path=null \rephys_bucket_default_path=null \r\">\n<polygon fill=\"#000000\" fill-opacity=\"0.125490\" points=\"822.25,-467.5 709.75,-467.5 709.75,-432.5 822.25,-432.5 822.25,-467.5\" stroke=\"none\"/>\n<text font-family=\"arial\" font-size=\"10.00\" text-anchor=\"start\" text-decoration=\"underline\" x=\"718\" y=\"-448.5\">recording.lab.Location</text>\n</a>\n</g>\n</g>\n<!-- recording.lab.Location&#45;&gt;2 -->\n<g class=\"edge\" id=\"edge14\"><title>recording.lab.Location-&gt;2</title>\n<path d=\"M766,-432.411C766,-419.474 766,-401.844 766,-390.442\" fill=\"none\" stroke=\"#000000\" stroke-dasharray=\"5,2\" stroke-opacity=\"0.250980\" stroke-width=\"0.75\"/>\n</g>\n<!-- recording.lab.Location&#45;&gt;recording.Recording -->\n<g class=\"edge\" id=\"edge15\"><title>recording.lab.Location-&gt;recording.Recording</title>\n<path d=\"M759.248,-432.342C755.064,-421.928 749.625,-408.218 745,-396 726.932,-348.272 738.68,-327.198 706,-288 692.887,-272.272 673.83,-260.162 656.54,-251.514\" fill=\"none\" stroke=\"#000000\" stroke-dasharray=\"5,2\" stroke-opacity=\"0.250980\" stroke-width=\"0.75\"/>\n</g>\n<!-- recording.subject.Subject -->\n<g class=\"node\" id=\"node17\"><title>recording.subject.Subject</title>\n<g id=\"a_node17\"><a xlink:title=\"subject_fullname     \r------------------------------\rsubject_nickname     \r→ recording.lab.User\rgenomics_id=null     \rsex=&quot;Unknown&quot;        \rdob=null             \rhead_plate_mark=null \r→ recording.lab.Location\r→ [nullable] recording.lab.Protocol\r→ [nullable] recording.subject.Line\rsubject_description=&quot;&quot; \rinitial_weight=null  \rnotification_enabled=1 \rneed_reweight=0      \r\">\n<polygon fill=\"#00ff00\" fill-opacity=\"0.188235\" points=\"974.25,-395.5 821.75,-395.5 821.75,-360.5 974.25,-360.5 974.25,-395.5\" stroke=\"#00ff00\" stroke-opacity=\"0.188235\"/>\n<text fill=\"darkgreen\" font-family=\"arial\" font-size=\"12.00\" text-anchor=\"start\" text-decoration=\"underline\" x=\"830\" y=\"-375.9\">recording.subject.Subject</text>\n</a>\n</g>\n</g>\n<!-- recording.lab.Location&#45;&gt;recording.subject.Subject -->\n<g class=\"edge\" id=\"edge16\"><title>recording.lab.Location-&gt;recording.subject.Subject</title>\n<path d=\"M797.282,-432.411C818.172,-421.333 845.548,-406.816 866.485,-395.713\" fill=\"none\" stroke=\"#000000\" stroke-dasharray=\"5,2\" stroke-opacity=\"0.250980\" stroke-width=\"0.75\"/>\n</g>\n<!-- recording.RecordingModality -->\n<g class=\"node\" id=\"node13\"><title>recording.RecordingModality</title>\n<g id=\"a_node13\"><a xlink:title=\"recording_modality   \r------------------------------\rmodality_description \rroot_direcory        \rrecording_file_extensions \rrecording_file_pattern \rprocess_unit_file_pattern \rprocess_unit_dir_fieldname \r\">\n<polygon fill=\"#000000\" fill-opacity=\"0.125490\" points=\"461.25,-395.5 320.75,-395.5 320.75,-360.5 461.25,-360.5 461.25,-395.5\" stroke=\"none\"/>\n<text font-family=\"arial\" font-size=\"10.00\" text-anchor=\"start\" text-decoration=\"underline\" x=\"329\" y=\"-376.5\">recording.RecordingModality</text>\n</a>\n</g>\n</g>\n<!-- recording.RecordingModality&#45;&gt;recording.Recording -->\n<g class=\"edge\" id=\"edge17\"><title>recording.RecordingModality-&gt;recording.Recording</title>\n<path d=\"M420.62,-360.391C437.381,-350.541 458.437,-337.392 476,-324 494.758,-309.696 495.752,-301.637 515,-288 534.881,-273.915 558.964,-261.04 578.514,-251.508\" fill=\"none\" stroke=\"#000000\" stroke-dasharray=\"5,2\" stroke-opacity=\"0.250980\" stroke-width=\"0.75\"/>\n</g>\n<!-- recording.RecordingModality&#45;&gt;recording.ProcessParamSet -->\n<g class=\"edge\" id=\"edge18\"><title>recording.RecordingModality-&gt;recording.ProcessParamSet</title>\n<path d=\"M351.897,-360.411C325.69,-349.293 291.316,-334.71 265.108,-323.591\" fill=\"none\" stroke=\"#000000\" stroke-dasharray=\"5,2\" stroke-opacity=\"0.250980\" stroke-width=\"0.75\"/>\n</g>\n<!-- recording.PreprocessParamSet -->\n<g class=\"node\" id=\"node15\"><title>recording.PreprocessParamSet</title>\n<g id=\"a_node15\"><a xlink:title=\"preprocess_paramset_idx \r------------------------------\r→ recording.RecordingModality\rpreprocess_paramset_desc \rpreprocess_paramset_hash \rpreprocess_paramset  \rUNIQUE INDEX (preprocess_paramset_hash)\r\">\n<polygon fill=\"#000000\" fill-opacity=\"0.125490\" points=\"467.25,-323.5 314.75,-323.5 314.75,-288.5 467.25,-288.5 467.25,-323.5\" stroke=\"none\"/>\n<text font-family=\"arial\" font-size=\"10.00\" text-anchor=\"start\" text-decoration=\"underline\" x=\"323\" y=\"-304.5\">recording.PreprocessParamSet</text>\n</a>\n</g>\n</g>\n<!-- recording.RecordingModality&#45;&gt;recording.PreprocessParamSet -->\n<g class=\"edge\" id=\"edge19\"><title>recording.RecordingModality-&gt;recording.PreprocessParamSet</title>\n<path d=\"M391,-360.411C391,-349.414 391,-335.027 391,-323.956\" fill=\"none\" stroke=\"#000000\" stroke-dasharray=\"5,2\" stroke-opacity=\"0.250980\" stroke-width=\"0.75\"/>\n</g>\n<!-- recording.StatusProcessDefinition -->\n<g class=\"node\" id=\"node14\"><title>recording.StatusProcessDefinition</title>\n<g id=\"a_node14\"><a xlink:title=\"status_pipeline_idx  \r------------------------------\rstatus_definition    \r\">\n<polygon fill=\"#000000\" fill-opacity=\"0.125490\" points=\"184.25,-251.5 19.75,-251.5 19.75,-216.5 184.25,-216.5 184.25,-251.5\" stroke=\"none\"/>\n<text font-family=\"arial\" font-size=\"10.00\" text-anchor=\"start\" text-decoration=\"underline\" x=\"28\" y=\"-232.5\">recording.StatusProcessDefinition</text>\n</a>\n</g>\n</g>\n<!-- recording.StatusProcessDefinition&#45;&gt;0 -->\n<g class=\"edge\" id=\"edge20\"><title>recording.StatusProcessDefinition-&gt;0</title>\n<path d=\"M92.0466,-216.411C83.896,-202.827 72.6417,-184.07 65.8675,-172.779\" fill=\"none\" stroke=\"#000000\" stroke-dasharray=\"5,2\" stroke-opacity=\"0.250980\" stroke-width=\"0.75\"/>\n</g>\n<!-- recording.StatusProcessDefinition&#45;&gt;1 -->\n<g class=\"edge\" id=\"edge21\"><title>recording.StatusProcessDefinition-&gt;1</title>\n<path d=\"M102,-216.411C102,-203.474 102,-185.844 102,-174.442\" fill=\"none\" stroke=\"#000000\" stroke-dasharray=\"5,2\" stroke-opacity=\"0.250980\" stroke-width=\"0.75\"/>\n</g>\n<!-- recording.StatusProcessDefinition&#45;&gt;recording.RecordingProcess -->\n<g class=\"edge\" id=\"edge22\"><title>recording.StatusProcessDefinition-&gt;recording.RecordingProcess</title>\n<path d=\"M129.253,-216.411C147.452,-205.333 171.303,-190.816 189.544,-179.713\" fill=\"none\" stroke=\"#000000\" stroke-dasharray=\"5,2\" stroke-opacity=\"0.250980\" stroke-width=\"0.75\"/>\n</g>\n<!-- recording.PreprocessParamSet&#45;&gt;recording.RecordingProcess -->\n<g class=\"edge\" id=\"edge23\"><title>recording.PreprocessParamSet-&gt;recording.RecordingProcess</title>\n<path d=\"M370.699,-288.433C337.261,-261.144 270.97,-207.044 237.44,-179.681\" fill=\"none\" stroke=\"#000000\" stroke-dasharray=\"5,2\" stroke-opacity=\"0.250980\" stroke-width=\"0.75\"/>\n</g>\n<!-- recording.PreprocessParamSet&#45;&gt;recording.Recording -->\n<g class=\"edge\" id=\"edge24\"><title>recording.PreprocessParamSet-&gt;recording.Recording</title>\n<path d=\"M443.801,-288.5C479.5,-277.344 526.46,-262.669 562.166,-251.511\" fill=\"none\" stroke=\"#000000\" stroke-dasharray=\"5,2\" stroke-opacity=\"0.250980\" stroke-width=\"0.75\"/>\n</g>\n<!-- ephys.EphysRecordingProbes -->\n<g class=\"node\" id=\"node16\"><title>ephys.EphysRecordingProbes</title>\n<g id=\"a_node16\"><a xlink:title=\"→ ephys.EphysRecording\rprobe                \r------------------------------\rprobe_directory      \r\">\n<ellipse cx=\"411\" cy=\"-90\" fill=\"#ff0000\" fill-opacity=\"0.125490\" rx=\"126.358\" ry=\"14.7\" stroke=\"#ff0000\" stroke-opacity=\"0.125490\"/>\n<text fill=\"#7f0000\" font-family=\"arial\" font-size=\"12.00\" text-anchor=\"middle\" x=\"411\" y=\"-86.9\">ephys.EphysRecordingProbes</text>\n</a>\n</g>\n</g>\n<!-- ephys.EphysRecordingProbes&#45;&gt;ephys.EphysProcessing -->\n<g class=\"edge\" id=\"edge25\"><title>ephys.EphysRecordingProbes-&gt;ephys.EphysProcessing</title>\n<path d=\"M394.799,-75.1703C381.451,-63.7749 362.484,-47.5836 348.34,-35.5101\" fill=\"none\" stroke=\"#000000\" stroke-dasharray=\"5,2\" stroke-opacity=\"0.250980\" stroke-width=\"0.75\"/>\n</g>\n<!-- recording.subject.Subject&#45;&gt;recording.Recording.RecordingSession -->\n<g class=\"edge\" id=\"edge26\"><title>recording.subject.Subject-&gt;recording.Recording.RecordingSession</title>\n<path d=\"M965.993,-360.457C984.37,-352.542 1002.15,-340.941 1013,-324 1021.63,-310.525 1020.52,-302.121 1013,-288 978.972,-224.134 896.203,-187.086 853.483,-171.601\" fill=\"none\" stroke=\"#000000\" stroke-dasharray=\"5,2\" stroke-opacity=\"0.250980\" stroke-width=\"0.75\"/>\n</g>\n<!-- recording.acquisition.SessionStarted -->\n<g class=\"node\" id=\"node20\"><title>recording.acquisition.SessionStarted</title>\n<g id=\"a_node20\"><a xlink:title=\"→ recording.subject.Subject\rsession_date=&quot;curdate()&quot; \rsession_number       \r------------------------------\rsession_start_time=&quot;current_timestamp()&quot; \r→ recording.lab.Location.proj(session_location=&quot;location&quot;)\r→ recording.task.Task\rlocal_path_behavior_file \rremote_path_behavior_file \ris_finished=0        \rinvalid_session=0    \r%}\r\">\n<polygon fill=\"#00ff00\" fill-opacity=\"0.188235\" points=\"1004,-323.5 792,-323.5 792,-288.5 1004,-288.5 1004,-323.5\" stroke=\"#00ff00\" stroke-opacity=\"0.188235\"/>\n<text fill=\"darkgreen\" font-family=\"arial\" font-size=\"12.00\" text-anchor=\"middle\" x=\"898\" y=\"-302.9\">recording.acquisition.SessionStarted</text>\n</a>\n</g>\n</g>\n<!-- recording.subject.Subject&#45;&gt;recording.acquisition.SessionStarted -->\n<g class=\"edge\" id=\"edge27\"><title>recording.subject.Subject-&gt;recording.acquisition.SessionStarted</title>\n<path d=\"M898,-360.411C898,-349.414 898,-335.027 898,-323.956\" fill=\"none\" stroke=\"#000000\" stroke-opacity=\"0.250980\" stroke-width=\"0.75\"/>\n</g>\n<!-- ephys.EphysRecording&#45;&gt;ephys.EphysRecordingProbes -->\n<g class=\"edge\" id=\"edge28\"><title>ephys.EphysRecording-&gt;ephys.EphysRecordingProbes</title>\n<path d=\"M418.179,-146.834C416.617,-134.69 414.379,-117.283 412.819,-105.144\" fill=\"none\" stroke=\"#000000\" stroke-opacity=\"0.250980\" stroke-width=\"0.75\"/>\n</g>\n<!-- recording.acquisition.SessionStarted&#45;&gt;recording.acquisition.Session -->\n<g class=\"edge\" id=\"edge29\"><title>recording.acquisition.SessionStarted-&gt;recording.acquisition.Session</title>\n<path d=\"M870.747,-288.411C852.548,-277.333 828.697,-262.816 810.456,-251.713\" fill=\"none\" stroke=\"#000000\" stroke-opacity=\"0.250980\" stroke-width=\"2\"/>\n</g>\n</g>\n</svg>",
      "text/plain": [
       "<datajoint.diagram.Diagram at 0x7f01f1337c90>"
      ]
     },
     "execution_count": 12,
     "metadata": {},
     "output_type": "execute_result"
    }
   ],
   "source": [
    "dj.ERD(recording) -1 + dj.ERD(ephys.EphysRecording) + dj.ERD(ephys.EphysProcessing)\n"
   ]
  },
  {
   "cell_type": "code",
   "execution_count": 13,
   "metadata": {},
   "outputs": [
    {
     "data": {
      "image/svg+xml": "<svg height=\"476pt\" viewBox=\"0.00 0.00 1008.62 476.00\" width=\"1009pt\" xmlns=\"http://www.w3.org/2000/svg\" xmlns:xlink=\"http://www.w3.org/1999/xlink\">\n<g class=\"graph\" id=\"graph0\" transform=\"scale(1 1) rotate(0) translate(4 472)\">\n<title>%3</title>\n<polygon fill=\"white\" points=\"-4,5 -4,-472 1005.62,-472 1005.62,5 -4,5\" stroke=\"white\"/>\n<!-- 56 -->\n<g class=\"node\" id=\"node1\"><title>56</title>\n<ellipse cx=\"981\" cy=\"-378\" fill=\"#ff8800\" fill-opacity=\"0.501961\" rx=\"12.5894\" ry=\"12.96\" stroke=\"#ff8800\" stroke-opacity=\"0.501961\"/>\n<text fill=\"#ff8800\" font-family=\"arial\" font-size=\"1.00\" text-anchor=\"middle\" x=\"981\" y=\"-377.7\">56</text>\n</g>\n<!-- recording.acquisition.Session -->\n<g class=\"node\" id=\"node14\"><title>recording.acquisition.Session</title>\n<g id=\"a_node14\"><a xlink:title=\"→ recording.acquisition.SessionStarted\r------------------------------\rsession_start_time   \rsession_end_time=null \r→ recording.lab.Location.proj(session_location=&quot;location&quot;)\r→ recording.task.TaskLevelParameterSet\rstimulus_bank=&quot;&quot;     \rstimulus_commit=&quot;&quot;   \rsession_performance  \rnum_trials=null      \rnum_trials_try=null  \rsession_narrative=&quot;&quot; \rsession_protocol=null \rsession_code_version=null \ris_bad_session=null  \rsession_comments=null \r\">\n<polygon fill=\"#00ff00\" fill-opacity=\"0.188235\" points=\"965,-251.5 791,-251.5 791,-216.5 965,-216.5 965,-251.5\" stroke=\"#00ff00\" stroke-opacity=\"0.188235\"/>\n<text fill=\"darkgreen\" font-family=\"arial\" font-size=\"12.00\" text-anchor=\"middle\" x=\"878\" y=\"-230.9\">recording.acquisition.Session</text>\n</a>\n</g>\n</g>\n<!-- 56&#45;&gt;recording.acquisition.Session -->\n<g class=\"edge\" id=\"edge1\"><title>56-&gt;recording.acquisition.Session</title>\n<path d=\"M986.571,-366.44C995.071,-348.725 1008.72,-312.554 993,-288 982.154,-271.059 964.37,-259.458 945.993,-251.543\" fill=\"none\" stroke=\"#000000\" stroke-dasharray=\"5,2\" stroke-opacity=\"0.250980\" stroke-width=\"0.75\"/>\n</g>\n<!-- 55 -->\n<g class=\"node\" id=\"node2\"><title>55</title>\n<ellipse cx=\"102\" cy=\"-162\" fill=\"#ff8800\" fill-opacity=\"0.501961\" rx=\"12.5894\" ry=\"12.96\" stroke=\"#ff8800\" stroke-opacity=\"0.501961\"/>\n<text fill=\"#ff8800\" font-family=\"arial\" font-size=\"1.00\" text-anchor=\"middle\" x=\"102\" y=\"-161.7\">55</text>\n</g>\n<!-- recording.RecordingProcessStatus -->\n<g class=\"node\" id=\"node6\"><title>recording.RecordingProcessStatus</title>\n<g id=\"a_node6\"><a xlink:title=\"recording_process_status_id \r------------------------------\r→ recording.RecordingProcess\r→ recording.StatusProcessDefinition.proj(status_pipeline_idx_old=&quot;status_pipeline_idx&quot;)\r→ recording.StatusProcessDefinition.proj(status_pipeline_idx_new=&quot;status_pipeline_idx&quot;)\rstatus_timestamp     \rerror_message=null   \rerror_exception=null \r\">\n<polygon fill=\"#00ff00\" fill-opacity=\"0.188235\" points=\"204,-107.5 0,-107.5 0,-72.5 204,-72.5 204,-107.5\" stroke=\"#00ff00\" stroke-opacity=\"0.188235\"/>\n<text fill=\"darkgreen\" font-family=\"arial\" font-size=\"12.00\" text-anchor=\"start\" text-decoration=\"underline\" x=\"8.5\" y=\"-87.9\">recording.RecordingProcessStatus</text>\n</a>\n</g>\n</g>\n<!-- 55&#45;&gt;recording.RecordingProcessStatus -->\n<g class=\"edge\" id=\"edge2\"><title>55-&gt;recording.RecordingProcessStatus</title>\n<path d=\"M102,-149.125C102,-137.736 102,-120.432 102,-107.664\" fill=\"none\" stroke=\"#000000\" stroke-dasharray=\"5,2\" stroke-opacity=\"0.250980\" stroke-width=\"0.75\"/>\n</g>\n<!-- 54 -->\n<g class=\"node\" id=\"node3\"><title>54</title>\n<ellipse cx=\"59\" cy=\"-162\" fill=\"#ff8800\" fill-opacity=\"0.501961\" rx=\"12.5894\" ry=\"12.96\" stroke=\"#ff8800\" stroke-opacity=\"0.501961\"/>\n<text fill=\"#ff8800\" font-family=\"arial\" font-size=\"1.00\" text-anchor=\"middle\" x=\"59\" y=\"-161.7\">54</text>\n</g>\n<!-- 54&#45;&gt;recording.RecordingProcessStatus -->\n<g class=\"edge\" id=\"edge3\"><title>54-&gt;recording.RecordingProcessStatus</title>\n<path d=\"M65.3448,-150.671C72.3066,-139.338 83.5817,-120.983 91.7909,-107.62\" fill=\"none\" stroke=\"#000000\" stroke-dasharray=\"5,2\" stroke-opacity=\"0.250980\" stroke-width=\"0.75\"/>\n</g>\n<!-- imaging_rec.Scan -->\n<g class=\"node\" id=\"node4\"><title>imaging_rec.Scan</title>\n<g id=\"a_node4\"><a xlink:title=\"→ recording.Recording\r\">\n<ellipse cx=\"401\" cy=\"-162\" fill=\"#ff0000\" fill-opacity=\"0.125490\" rx=\"79.3553\" ry=\"14.7\" stroke=\"#ff0000\" stroke-opacity=\"0.125490\"/>\n<text fill=\"#7f0000\" font-family=\"arial\" font-size=\"12.00\" text-anchor=\"middle\" x=\"401\" y=\"-158.9\">imaging_rec.Scan</text>\n</a>\n</g>\n</g>\n<!-- imaging_rec.FieldOfView -->\n<g class=\"node\" id=\"node13\"><title>imaging_rec.FieldOfView</title>\n<g id=\"a_node13\"><a xlink:title=\"→ imaging_rec.Scan\rfov                  \r------------------------------\rfov_directory        \rrelative_fov_directory \rfov_name=null        \rfov_depth            \rfov_center_xy        \rfov_size_xy          \rfov_rotation_degrees \rfov_pixel_resolution_xy \rfov_discrete_plane_mode \rpower_percent        \r\">\n<ellipse cx=\"389\" cy=\"-90\" fill=\"#00007f\" fill-opacity=\"0.250980\" rx=\"95\" ry=\"17.5\" stroke=\"#00007f\" stroke-opacity=\"0.250980\"/>\n<text fill=\"#00007f\" font-family=\"arial\" font-size=\"12.00\" text-anchor=\"middle\" x=\"389\" y=\"-86.9\">imaging_rec.FieldOfView</text>\n</a>\n</g>\n</g>\n<!-- imaging_rec.Scan&#45;&gt;imaging_rec.FieldOfView -->\n<g class=\"edge\" id=\"edge4\"><title>imaging_rec.Scan-&gt;imaging_rec.FieldOfView</title>\n<path d=\"M398.572,-146.834C396.627,-135.489 393.894,-119.551 391.847,-107.606\" fill=\"none\" stroke=\"#000000\" stroke-opacity=\"0.250980\" stroke-width=\"0.75\"/>\n</g>\n<!-- recording.RecordingProcess -->\n<g class=\"node\" id=\"node5\"><title>recording.RecordingProcess</title>\n<g id=\"a_node5\"><a xlink:title=\"recording_process_id \r------------------------------\r→ recording.Recording\r→ recording.StatusProcessDefinition\r→ recording.PreprocessParamSet\r→ recording.ProcessParamSet\rrecording_process_pre_path=null : varchar(200)                 # relative path for raw data recording subdirectory that will be processed (ephys→ probe, imaging→fieldofview)\rrecording_process_post_path=null \rtask_copy_id_pre=null : UUID                         # id for globus transfer task raw file cup→tiger\rtask_copy_id_post=null : UUID                         # id for globus transfer task sorted file tiger→cup\rslurm_id=null        \r\">\n<polygon fill=\"#00ff00\" fill-opacity=\"0.188235\" points=\"303,-179.5 133,-179.5 133,-144.5 303,-144.5 303,-179.5\" stroke=\"#00ff00\" stroke-opacity=\"0.188235\"/>\n<text fill=\"darkgreen\" font-family=\"arial\" font-size=\"12.00\" text-anchor=\"start\" text-decoration=\"underline\" x=\"141.5\" y=\"-159.9\">recording.RecordingProcess</text>\n</a>\n</g>\n</g>\n<!-- recording.RecordingProcess&#45;&gt;recording.RecordingProcessStatus -->\n<g class=\"edge\" id=\"edge5\"><title>recording.RecordingProcess-&gt;recording.RecordingProcessStatus</title>\n<path d=\"M190.51,-144.411C172.152,-133.333 148.095,-118.816 129.695,-107.713\" fill=\"none\" stroke=\"#000000\" stroke-dasharray=\"5,2\" stroke-opacity=\"0.250980\" stroke-width=\"0.75\"/>\n</g>\n<!-- imaging_rec.ImagingProcessing -->\n<g class=\"node\" id=\"node10\"><title>imaging_rec.ImagingProcessing</title>\n<g id=\"a_node10\"><a xlink:title=\"→ recording.RecordingProcess\r------------------------------\r→ imaging_rec.FieldOfView\r\">\n<polygon fill=\"#00ff00\" fill-opacity=\"0.188235\" points=\"416,-35.5 228,-35.5 228,-0.5 416,-0.5 416,-35.5\" stroke=\"#00ff00\" stroke-opacity=\"0.188235\"/>\n<text fill=\"darkgreen\" font-family=\"arial\" font-size=\"12.00\" text-anchor=\"middle\" x=\"322\" y=\"-14.9\">imaging_rec.ImagingProcessing</text>\n</a>\n</g>\n</g>\n<!-- recording.RecordingProcess&#45;&gt;imaging_rec.ImagingProcessing -->\n<g class=\"edge\" id=\"edge6\"><title>recording.RecordingProcess-&gt;imaging_rec.ImagingProcessing</title>\n<path d=\"M230.134,-144.433C250.066,-117.217 289.53,-63.3342 309.621,-35.9017\" fill=\"none\" stroke=\"#000000\" stroke-opacity=\"0.250980\" stroke-width=\"2\"/>\n</g>\n<!-- recording.Recording -->\n<g class=\"node\" id=\"node7\"><title>recording.Recording</title>\n<g id=\"a_node7\"><a xlink:title=\"recording_id         \r------------------------------\r→ recording.RecordingModality\r→ recording.lab.Location\r→ recording.StatusRecordingDefinition\r→ recording.PreprocessParamSet\r→ recording.ProcessParamSet\rtask_copy_id_pni=null : UUID                         # id for globus transfer task raw file local→cup\rinherit_params_recording=1 \rrecording_directory  \rlocal_directory      \r\">\n<polygon fill=\"#00ff00\" fill-opacity=\"0.188235\" points=\"654,-251.5 528,-251.5 528,-216.5 654,-216.5 654,-251.5\" stroke=\"#00ff00\" stroke-opacity=\"0.188235\"/>\n<text fill=\"darkgreen\" font-family=\"arial\" font-size=\"12.00\" text-anchor=\"start\" text-decoration=\"underline\" x=\"536.5\" y=\"-231.9\">recording.Recording</text>\n</a>\n</g>\n</g>\n<!-- recording.Recording&#45;&gt;imaging_rec.Scan -->\n<g class=\"edge\" id=\"edge7\"><title>recording.Recording-&gt;imaging_rec.Scan</title>\n<path d=\"M545.973,-216.411C511.954,-203.878 465.984,-186.941 435.006,-175.528\" fill=\"none\" stroke=\"#000000\" stroke-opacity=\"0.250980\" stroke-width=\"2\"/>\n</g>\n<!-- recording.Recording&#45;&gt;recording.RecordingProcess -->\n<g class=\"edge\" id=\"edge8\"><title>recording.Recording-&gt;recording.RecordingProcess</title>\n<path d=\"M527.726,-221.125C465.995,-209.541 371.661,-191.837 303.322,-179.012\" fill=\"none\" stroke=\"#000000\" stroke-dasharray=\"5,2\" stroke-opacity=\"0.250980\" stroke-width=\"0.75\"/>\n</g>\n<!-- recording.Recording.BehaviorSession -->\n<g class=\"node\" id=\"node9\"><title>recording.Recording.BehaviorSession</title>\n<g id=\"a_node9\"><a xlink:title=\"→ recording.Recording\r------------------------------\r→ recording.acquisition.Session\r\">\n<polygon fill=\"none\" points=\"880.25,-171.5 701.75,-171.5 701.75,-152.5 880.25,-152.5 880.25,-171.5\" stroke=\"none\"/>\n<text font-family=\"arial\" font-size=\"10.00\" text-anchor=\"middle\" x=\"791\" y=\"-159.5\">recording.Recording.BehaviorSession</text>\n</a>\n</g>\n</g>\n<!-- recording.Recording&#45;&gt;recording.Recording.BehaviorSession -->\n<g class=\"edge\" id=\"edge9\"><title>recording.Recording-&gt;recording.Recording.BehaviorSession</title>\n<path d=\"M638.144,-216.5C678.449,-202.393 734.829,-182.66 766.642,-171.525\" fill=\"none\" stroke=\"#000000\" stroke-opacity=\"0.250980\" stroke-width=\"2\"/>\n</g>\n<!-- recording.Recording.RecordingSession -->\n<g class=\"node\" id=\"node12\"><title>recording.Recording.RecordingSession</title>\n<g id=\"a_node12\"><a xlink:title=\"→ recording.Recording\r------------------------------\r→ recording.subject.Subject\rrecording_datetime   \r\">\n<polygon fill=\"none\" points=\"683.25,-171.5 498.75,-171.5 498.75,-152.5 683.25,-152.5 683.25,-171.5\" stroke=\"none\"/>\n<text font-family=\"arial\" font-size=\"10.00\" text-anchor=\"middle\" x=\"591\" y=\"-159.5\">recording.Recording.RecordingSession</text>\n</a>\n</g>\n</g>\n<!-- recording.Recording&#45;&gt;recording.Recording.RecordingSession -->\n<g class=\"edge\" id=\"edge10\"><title>recording.Recording-&gt;recording.Recording.RecordingSession</title>\n<path d=\"M591,-216.411C591,-202.341 591,-182.723 591,-171.599\" fill=\"none\" stroke=\"#000000\" stroke-opacity=\"0.250980\" stroke-width=\"2\"/>\n</g>\n<!-- recording.StatusRecordingDefinition -->\n<g class=\"node\" id=\"node8\"><title>recording.StatusRecordingDefinition</title>\n<g id=\"a_node8\"><a xlink:title=\"status_recording_idx \r------------------------------\rstatus_definition    \r\">\n<polygon fill=\"#000000\" fill-opacity=\"0.125490\" points=\"677.25,-323.5 504.75,-323.5 504.75,-288.5 677.25,-288.5 677.25,-323.5\" stroke=\"none\"/>\n<text font-family=\"arial\" font-size=\"10.00\" text-anchor=\"start\" text-decoration=\"underline\" x=\"513\" y=\"-304.5\">recording.StatusRecordingDefinition</text>\n</a>\n</g>\n</g>\n<!-- recording.StatusRecordingDefinition&#45;&gt;recording.Recording -->\n<g class=\"edge\" id=\"edge11\"><title>recording.StatusRecordingDefinition-&gt;recording.Recording</title>\n<path d=\"M591,-288.411C591,-277.414 591,-263.027 591,-251.956\" fill=\"none\" stroke=\"#000000\" stroke-dasharray=\"5,2\" stroke-opacity=\"0.250980\" stroke-width=\"0.75\"/>\n</g>\n<!-- recording.ProcessParamSet -->\n<g class=\"node\" id=\"node11\"><title>recording.ProcessParamSet</title>\n<g id=\"a_node11\"><a xlink:title=\"process_paramset_idx \r------------------------------\r→ recording.RecordingModality\rprocess_paramset_desc \rprocess_paramset_hash \rprocess_paramset     \rUNIQUE INDEX (process_paramset_hash)\r\">\n<polygon fill=\"#000000\" fill-opacity=\"0.125490\" points=\"276,-323.5 136,-323.5 136,-288.5 276,-288.5 276,-323.5\" stroke=\"none\"/>\n<text font-family=\"arial\" font-size=\"10.00\" text-anchor=\"start\" text-decoration=\"underline\" x=\"144.5\" y=\"-304.5\">recording.ProcessParamSet</text>\n</a>\n</g>\n</g>\n<!-- recording.ProcessParamSet&#45;&gt;recording.RecordingProcess -->\n<g class=\"edge\" id=\"edge12\"><title>recording.ProcessParamSet-&gt;recording.RecordingProcess</title>\n<path d=\"M207.4,-288.433C209.7,-261.217 214.253,-207.334 216.572,-179.902\" fill=\"none\" stroke=\"#000000\" stroke-dasharray=\"5,2\" stroke-opacity=\"0.250980\" stroke-width=\"0.75\"/>\n</g>\n<!-- recording.ProcessParamSet&#45;&gt;recording.Recording -->\n<g class=\"edge\" id=\"edge13\"><title>recording.ProcessParamSet-&gt;recording.Recording</title>\n<path d=\"M276.181,-289.744C279.159,-289.145 282.108,-288.561 285,-288 368.759,-271.741 465.895,-255.331 527.863,-245.169\" fill=\"none\" stroke=\"#000000\" stroke-dasharray=\"5,2\" stroke-opacity=\"0.250980\" stroke-width=\"0.75\"/>\n</g>\n<!-- imaging_rec.FieldOfView&#45;&gt;imaging_rec.ImagingProcessing -->\n<g class=\"edge\" id=\"edge14\"><title>imaging_rec.FieldOfView-&gt;imaging_rec.ImagingProcessing</title>\n<path d=\"M373.122,-72.411C362.596,-61.4141 348.826,-47.0274 338.23,-35.9562\" fill=\"none\" stroke=\"#000000\" stroke-dasharray=\"5,2\" stroke-opacity=\"0.250980\" stroke-width=\"0.75\"/>\n</g>\n<!-- recording.acquisition.Session&#45;&gt;recording.Recording.BehaviorSession -->\n<g class=\"edge\" id=\"edge15\"><title>recording.acquisition.Session-&gt;recording.Recording.BehaviorSession</title>\n<path d=\"M857.382,-216.411C839.896,-202.341 815.513,-182.723 801.687,-171.599\" fill=\"none\" stroke=\"#000000\" stroke-dasharray=\"5,2\" stroke-opacity=\"0.250980\" stroke-width=\"0.75\"/>\n</g>\n<!-- recording.lab.Location -->\n<g class=\"node\" id=\"node15\"><title>recording.lab.Location</title>\n<g id=\"a_node15\"><a xlink:title=\"location             \r------------------------------\r→ [nullable] `u19_lab`.`#acquisition_type`\rlocation_description=&quot;&quot; \rbucket_default_path=null \rimaging_bucket_default_path=null \rephys_bucket_default_path=null \r\">\n<polygon fill=\"#000000\" fill-opacity=\"0.125490\" points=\"900.25,-467.5 787.75,-467.5 787.75,-432.5 900.25,-432.5 900.25,-467.5\" stroke=\"none\"/>\n<text font-family=\"arial\" font-size=\"10.00\" text-anchor=\"start\" text-decoration=\"underline\" x=\"796\" y=\"-448.5\">recording.lab.Location</text>\n</a>\n</g>\n</g>\n<!-- recording.lab.Location&#45;&gt;56 -->\n<g class=\"edge\" id=\"edge16\"><title>recording.lab.Location-&gt;56</title>\n<path d=\"M876.467,-432.411C906.693,-416.967 950.005,-394.837 970.051,-384.594\" fill=\"none\" stroke=\"#000000\" stroke-dasharray=\"5,2\" stroke-opacity=\"0.250980\" stroke-width=\"0.75\"/>\n</g>\n<!-- recording.lab.Location&#45;&gt;recording.Recording -->\n<g class=\"edge\" id=\"edge17\"><title>recording.lab.Location-&gt;recording.Recording</title>\n<path d=\"M809.797,-432.392C792.988,-423.172 773.145,-410.614 758,-396 716.486,-355.942 728.374,-327.147 686,-288 669.769,-273.005 648.531,-260.646 630.253,-251.646\" fill=\"none\" stroke=\"#000000\" stroke-dasharray=\"5,2\" stroke-opacity=\"0.250980\" stroke-width=\"0.75\"/>\n</g>\n<!-- recording.subject.Subject -->\n<g class=\"node\" id=\"node19\"><title>recording.subject.Subject</title>\n<g id=\"a_node19\"><a xlink:title=\"subject_fullname     \r------------------------------\rsubject_nickname     \r→ recording.lab.User\rgenomics_id=null     \rsex=&quot;Unknown&quot;        \rdob=null             \rhead_plate_mark=null \r→ recording.lab.Location\r→ [nullable] recording.lab.Protocol\r→ [nullable] recording.subject.Line\rsubject_description=&quot;&quot; \rinitial_weight=null  \rnotification_enabled=1 \rneed_reweight=0      \r\">\n<polygon fill=\"#00ff00\" fill-opacity=\"0.188235\" points=\"920.25,-395.5 767.75,-395.5 767.75,-360.5 920.25,-360.5 920.25,-395.5\" stroke=\"#00ff00\" stroke-opacity=\"0.188235\"/>\n<text fill=\"darkgreen\" font-family=\"arial\" font-size=\"12.00\" text-anchor=\"start\" text-decoration=\"underline\" x=\"776\" y=\"-375.9\">recording.subject.Subject</text>\n</a>\n</g>\n</g>\n<!-- recording.lab.Location&#45;&gt;recording.subject.Subject -->\n<g class=\"edge\" id=\"edge18\"><title>recording.lab.Location-&gt;recording.subject.Subject</title>\n<path d=\"M844,-432.411C844,-421.414 844,-407.027 844,-395.956\" fill=\"none\" stroke=\"#000000\" stroke-dasharray=\"5,2\" stroke-opacity=\"0.250980\" stroke-width=\"0.75\"/>\n</g>\n<!-- recording.RecordingModality -->\n<g class=\"node\" id=\"node16\"><title>recording.RecordingModality</title>\n<g id=\"a_node16\"><a xlink:title=\"recording_modality   \r------------------------------\rmodality_description \rroot_direcory        \rrecording_file_extensions \rrecording_file_pattern \rprocess_unit_file_pattern \rprocess_unit_dir_fieldname \r\">\n<polygon fill=\"#000000\" fill-opacity=\"0.125490\" points=\"441.25,-395.5 300.75,-395.5 300.75,-360.5 441.25,-360.5 441.25,-395.5\" stroke=\"none\"/>\n<text font-family=\"arial\" font-size=\"10.00\" text-anchor=\"start\" text-decoration=\"underline\" x=\"309\" y=\"-376.5\">recording.RecordingModality</text>\n</a>\n</g>\n</g>\n<!-- recording.RecordingModality&#45;&gt;recording.Recording -->\n<g class=\"edge\" id=\"edge19\"><title>recording.RecordingModality-&gt;recording.Recording</title>\n<path d=\"M400.62,-360.391C417.381,-350.541 438.437,-337.392 456,-324 474.758,-309.696 475.869,-301.801 495,-288 514.145,-274.189 537.267,-261.323 556.021,-251.726\" fill=\"none\" stroke=\"#000000\" stroke-dasharray=\"5,2\" stroke-opacity=\"0.250980\" stroke-width=\"0.75\"/>\n</g>\n<!-- recording.RecordingModality&#45;&gt;recording.ProcessParamSet -->\n<g class=\"edge\" id=\"edge20\"><title>recording.RecordingModality-&gt;recording.ProcessParamSet</title>\n<path d=\"M331.897,-360.411C305.69,-349.293 271.316,-334.71 245.108,-323.591\" fill=\"none\" stroke=\"#000000\" stroke-dasharray=\"5,2\" stroke-opacity=\"0.250980\" stroke-width=\"0.75\"/>\n</g>\n<!-- recording.PreprocessParamSet -->\n<g class=\"node\" id=\"node18\"><title>recording.PreprocessParamSet</title>\n<g id=\"a_node18\"><a xlink:title=\"preprocess_paramset_idx \r------------------------------\r→ recording.RecordingModality\rpreprocess_paramset_desc \rpreprocess_paramset_hash \rpreprocess_paramset  \rUNIQUE INDEX (preprocess_paramset_hash)\r\">\n<polygon fill=\"#000000\" fill-opacity=\"0.125490\" points=\"447.25,-323.5 294.75,-323.5 294.75,-288.5 447.25,-288.5 447.25,-323.5\" stroke=\"none\"/>\n<text font-family=\"arial\" font-size=\"10.00\" text-anchor=\"start\" text-decoration=\"underline\" x=\"303\" y=\"-304.5\">recording.PreprocessParamSet</text>\n</a>\n</g>\n</g>\n<!-- recording.RecordingModality&#45;&gt;recording.PreprocessParamSet -->\n<g class=\"edge\" id=\"edge21\"><title>recording.RecordingModality-&gt;recording.PreprocessParamSet</title>\n<path d=\"M371,-360.411C371,-349.414 371,-335.027 371,-323.956\" fill=\"none\" stroke=\"#000000\" stroke-dasharray=\"5,2\" stroke-opacity=\"0.250980\" stroke-width=\"0.75\"/>\n</g>\n<!-- recording.StatusProcessDefinition -->\n<g class=\"node\" id=\"node17\"><title>recording.StatusProcessDefinition</title>\n<g id=\"a_node17\"><a xlink:title=\"status_pipeline_idx  \r------------------------------\rstatus_definition    \r\">\n<polygon fill=\"#000000\" fill-opacity=\"0.125490\" points=\"184.25,-251.5 19.75,-251.5 19.75,-216.5 184.25,-216.5 184.25,-251.5\" stroke=\"none\"/>\n<text font-family=\"arial\" font-size=\"10.00\" text-anchor=\"start\" text-decoration=\"underline\" x=\"28\" y=\"-232.5\">recording.StatusProcessDefinition</text>\n</a>\n</g>\n</g>\n<!-- recording.StatusProcessDefinition&#45;&gt;54 -->\n<g class=\"edge\" id=\"edge22\"><title>recording.StatusProcessDefinition-&gt;54</title>\n<path d=\"M91.8096,-216.411C83.5643,-202.988 72.2166,-184.515 65.2569,-173.186\" fill=\"none\" stroke=\"#000000\" stroke-dasharray=\"5,2\" stroke-opacity=\"0.250980\" stroke-width=\"0.75\"/>\n</g>\n<!-- recording.StatusProcessDefinition&#45;&gt;55 -->\n<g class=\"edge\" id=\"edge23\"><title>recording.StatusProcessDefinition-&gt;55</title>\n<path d=\"M102,-216.411C102,-203.635 102,-186.284 102,-174.872\" fill=\"none\" stroke=\"#000000\" stroke-dasharray=\"5,2\" stroke-opacity=\"0.250980\" stroke-width=\"0.75\"/>\n</g>\n<!-- recording.StatusProcessDefinition&#45;&gt;recording.RecordingProcess -->\n<g class=\"edge\" id=\"edge24\"><title>recording.StatusProcessDefinition-&gt;recording.RecordingProcess</title>\n<path d=\"M129.49,-216.411C147.848,-205.333 171.905,-190.816 190.305,-179.713\" fill=\"none\" stroke=\"#000000\" stroke-dasharray=\"5,2\" stroke-opacity=\"0.250980\" stroke-width=\"0.75\"/>\n</g>\n<!-- recording.PreprocessParamSet&#45;&gt;recording.RecordingProcess -->\n<g class=\"edge\" id=\"edge25\"><title>recording.PreprocessParamSet-&gt;recording.RecordingProcess</title>\n<path d=\"M353.15,-288.433C323.826,-261.217 265.769,-207.334 236.211,-179.902\" fill=\"none\" stroke=\"#000000\" stroke-dasharray=\"5,2\" stroke-opacity=\"0.250980\" stroke-width=\"0.75\"/>\n</g>\n<!-- recording.PreprocessParamSet&#45;&gt;recording.Recording -->\n<g class=\"edge\" id=\"edge26\"><title>recording.PreprocessParamSet-&gt;recording.Recording</title>\n<path d=\"M422.858,-288.5C457.92,-277.344 504.041,-262.669 539.109,-251.511\" fill=\"none\" stroke=\"#000000\" stroke-dasharray=\"5,2\" stroke-opacity=\"0.250980\" stroke-width=\"0.75\"/>\n</g>\n<!-- recording.subject.Subject&#45;&gt;recording.Recording.RecordingSession -->\n<g class=\"edge\" id=\"edge27\"><title>recording.subject.Subject-&gt;recording.Recording.RecordingSession</title>\n<path d=\"M815.063,-360.452C799.048,-350.72 779.173,-337.667 763,-324 713.035,-281.776 711.782,-259.585 663,-216 643.671,-198.73 618.92,-181.437 604.047,-171.501\" fill=\"none\" stroke=\"#000000\" stroke-dasharray=\"5,2\" stroke-opacity=\"0.250980\" stroke-width=\"0.75\"/>\n</g>\n<!-- recording.acquisition.SessionStarted -->\n<g class=\"node\" id=\"node20\"><title>recording.acquisition.SessionStarted</title>\n<g id=\"a_node20\"><a xlink:title=\"→ recording.subject.Subject\rsession_date=&quot;curdate()&quot; \rsession_number       \r------------------------------\rsession_start_time=&quot;current_timestamp()&quot; \r→ recording.lab.Location.proj(session_location=&quot;location&quot;)\r→ recording.task.Task\rlocal_path_behavior_file \rremote_path_behavior_file \ris_finished=0        \rinvalid_session=0    \r%}\r\">\n<polygon fill=\"#00ff00\" fill-opacity=\"0.188235\" points=\"984,-323.5 772,-323.5 772,-288.5 984,-288.5 984,-323.5\" stroke=\"#00ff00\" stroke-opacity=\"0.188235\"/>\n<text fill=\"darkgreen\" font-family=\"arial\" font-size=\"12.00\" text-anchor=\"middle\" x=\"878\" y=\"-302.9\">recording.acquisition.SessionStarted</text>\n</a>\n</g>\n</g>\n<!-- recording.subject.Subject&#45;&gt;recording.acquisition.SessionStarted -->\n<g class=\"edge\" id=\"edge28\"><title>recording.subject.Subject-&gt;recording.acquisition.SessionStarted</title>\n<path d=\"M852.058,-360.411C857.399,-349.414 864.387,-335.027 869.764,-323.956\" fill=\"none\" stroke=\"#000000\" stroke-opacity=\"0.250980\" stroke-width=\"0.75\"/>\n</g>\n<!-- recording.acquisition.SessionStarted&#45;&gt;recording.acquisition.Session -->\n<g class=\"edge\" id=\"edge29\"><title>recording.acquisition.SessionStarted-&gt;recording.acquisition.Session</title>\n<path d=\"M878,-288.411C878,-277.414 878,-263.027 878,-251.956\" fill=\"none\" stroke=\"#000000\" stroke-opacity=\"0.250980\" stroke-width=\"2\"/>\n</g>\n</g>\n</svg>",
      "text/plain": [
       "<datajoint.diagram.Diagram at 0x7f01f04acb50>"
      ]
     },
     "execution_count": 13,
     "metadata": {},
     "output_type": "execute_result"
    }
   ],
   "source": [
    "dj.ERD(recording) -1 + dj.ERD(imaging_rec.Scan) + dj.ERD(imaging_rec.ImagingProcessing) \n"
   ]
  },
  {
   "cell_type": "code",
   "execution_count": 14,
   "metadata": {},
   "outputs": [
    {
     "data": {
      "text/plain": [
       "DataJoint connection (connected) alvaros@datajoint00.pni.princeton.edu:3306"
      ]
     },
     "execution_count": 14,
     "metadata": {},
     "output_type": "execute_result"
    }
   ],
   "source": [
    "s =dj.conn()\n",
    "s"
   ]
  },
  {
   "cell_type": "code",
   "execution_count": 15,
   "metadata": {},
   "outputs": [],
   "source": [
    "s.close()"
   ]
  },
  {
   "cell_type": "code",
   "execution_count": 37,
   "metadata": {},
   "outputs": [],
   "source": []
  },
  {
   "cell_type": "code",
   "execution_count": 89,
   "metadata": {},
   "outputs": [],
   "source": [
    "dicto2 = [] \n",
    "dicto = dict()\n",
    "dicto['wala'] = 1\n",
    "dicto['walad'] = 2\n",
    "\n",
    "dictos = dict()\n",
    "dictos['wala'] = 3\n",
    "dictos['walad'] = 4\n",
    "\n",
    "\n",
    "dicto2.append(dicto)\n",
    "dicto2.append(dictos)\n"
   ]
  },
  {
   "cell_type": "code",
   "execution_count": 90,
   "metadata": {},
   "outputs": [
    {
     "data": {
      "text/plain": [
       "\"[{'wala': 1, 'walad': 2}, {'wala': 3, 'walad': 4}]\""
      ]
     },
     "execution_count": 90,
     "metadata": {},
     "output_type": "execute_result"
    }
   ],
   "source": [
    "str(dicto2)"
   ]
  },
  {
   "cell_type": "code",
   "execution_count": 81,
   "metadata": {},
   "outputs": [
    {
     "data": {
      "text/plain": [
       "['(wala=1 and walad=2)']"
      ]
     },
     "execution_count": 81,
     "metadata": {},
     "output_type": "execute_result"
    }
   ],
   "source": [
    "l = [[k + '=' + str(v) for k,v in x.items()] for x in dicto2]\n",
    "flat_list = ['('+' and '.join(sublist)+')' for sublist in l]\n",
    "flat_list"
   ]
  },
  {
   "cell_type": "code",
   "execution_count": 78,
   "metadata": {},
   "outputs": [
    {
     "data": {
      "text/plain": [
       "'(wala=1 and walad=2)'"
      ]
     },
     "execution_count": 78,
     "metadata": {},
     "output_type": "execute_result"
    }
   ],
   "source": [
    "soo = ' or '.join(flat_list)\n",
    "soo"
   ]
  },
  {
   "cell_type": "code",
   "execution_count": 60,
   "metadata": {},
   "outputs": [
    {
     "data": {
      "text/plain": [
       "[['wala', 'walad'], ['wala', 'walad']]"
      ]
     },
     "execution_count": 60,
     "metadata": {},
     "output_type": "execute_result"
    }
   ],
   "source": []
  },
  {
   "cell_type": "code",
   "execution_count": 91,
   "metadata": {},
   "outputs": [],
   "source": [
    "def get_string_key(key):\n",
    "\n",
    "    str_key = ''\n",
    "    if isinstance(key, list):\n",
    "        key_l = [[k + '=' + str(v) for k,v in x.items()] for x in key]\n",
    "        flat_list = ['('+' and '.join(sublist)+')' for sublist in key_l]\n",
    "        str_key = ' or '.join(flat_list)\n",
    "    elif isinstance(key, dict):\n",
    "        str_key = [k + '=' + str(v) for k,v in key.items()] \n",
    "    elif isinstance(key,str):\n",
    "        str_key = key\n",
    "    \n",
    "    return str_key"
   ]
  },
  {
   "cell_type": "code",
   "execution_count": 92,
   "metadata": {},
   "outputs": [
    {
     "data": {
      "text/plain": [
       "'(wala=1 and walad=2) or (wala=3 and walad=4)'"
      ]
     },
     "execution_count": 92,
     "metadata": {},
     "output_type": "execute_result"
    }
   ],
   "source": [
    "get_string_key(dicto2)"
   ]
  },
  {
   "cell_type": "code",
   "execution_count": 4,
   "metadata": {},
   "outputs": [],
   "source": [
    "so = imaging_rec.ScanInfo()"
   ]
  },
  {
   "cell_type": "code",
   "execution_count": 5,
   "metadata": {},
   "outputs": [
    {
     "name": "stdout",
     "output_type": "stream",
     "text": [
      "['/usr/people/alvaros/BrainCogsProjects/Datajoint_projs/U19-pipeline_python/u19_pipeline/automatic_job/ingest_scaninfo_shell.sh', '/usr/people/alvaros/BrainCogsProjects/Datajoint_projs/U19-pipeline-matlab/scripts', 'recording_id=4']\n",
      "aftercommand before comm\n",
      "aftercommand after comm\n",
      "\n",
      "                                                                              < M A T L A B (R) >\n",
      "                                                                    Copyright 1984-2020 The MathWorks, Inc.\n",
      "                                                                R2020b Update 1 (9.9.0.1495850) 64-bit (glnxa64)\n",
      "                                                                               September 30, 2020\n",
      "\n",
      " \n",
      "To get started, type doc.\n",
      "For product information, visit www.mathworks.com.\n",
      " \n",
      "\n",
      "s =\n",
      "\n",
      "     0\n",
      "\n",
      " 0:  datajoint00.pni.princeton.edu via TCP/IP   Server version 5.5.5-10.2.33-MariaDB (encrypted)\n",
      "database connection id: 64946\n",
      "imaging_rec.ScanInfo: Nothing to populate\n",
      "\n",
      "\n"
     ]
    }
   ],
   "source": [
    "key = dict()\n",
    "key['recording_id'] = 4\n",
    "\n",
    "so.ingest(key)"
   ]
  },
  {
   "cell_type": "code",
   "execution_count": 3,
   "metadata": {},
   "outputs": [],
   "source": [
    "imaging = dj.create_virtual_module('imaging', 'u19_imaging')"
   ]
  },
  {
   "cell_type": "code",
   "execution_count": 4,
   "metadata": {},
   "outputs": [],
   "source": [
    "keyo = dict()\n",
    "keyo['subject_fullname'] = 'emdia_teto6s_12'\n",
    "keyo['session_date'] = '2021-11-12'\n"
   ]
  },
  {
   "cell_type": "code",
   "execution_count": 6,
   "metadata": {},
   "outputs": [
    {
     "name": "stdout",
     "output_type": "stream",
     "text": [
      "Deleting 3 rows from `u19_imaging`.`__sync_imaging_behavior`\n",
      "Deleting 87 rows from `u19_imaging`.`_field_of_view__file`\n"
     ]
    },
    {
     "ename": "DataJointError",
     "evalue": "Cannot declare new tables inside a transaction, e.g. from inside a populate/make call",
     "output_type": "error",
     "traceback": [
      "\u001b[0;31m---------------------------------------------------------------------------\u001b[0m",
      "\u001b[0;31mDataJointError\u001b[0m                            Traceback (most recent call last)",
      "\u001b[0;32m/tmp/ipykernel_62368/2673820732.py\u001b[0m in \u001b[0;36m<module>\u001b[0;34m\u001b[0m\n\u001b[0;32m----> 1\u001b[0;31m \u001b[0;34m(\u001b[0m\u001b[0mimaging\u001b[0m\u001b[0;34m.\u001b[0m\u001b[0mScan\u001b[0m \u001b[0;34m&\u001b[0m \u001b[0mkeyo\u001b[0m\u001b[0;34m)\u001b[0m\u001b[0;34m.\u001b[0m\u001b[0mdelete\u001b[0m\u001b[0;34m(\u001b[0m\u001b[0;34m)\u001b[0m\u001b[0;34m\u001b[0m\u001b[0;34m\u001b[0m\u001b[0m\n\u001b[0m",
      "\u001b[0;32m~/.conda/envs/u19_pipeline_python_env/lib/python3.7/site-packages/datajoint/table.py\u001b[0m in \u001b[0;36mdelete\u001b[0;34m(self, transaction, safemode)\u001b[0m\n\u001b[1;32m    417\u001b[0m         \u001b[0;31m# Cascading delete\u001b[0m\u001b[0;34m\u001b[0m\u001b[0;34m\u001b[0m\u001b[0;34m\u001b[0m\u001b[0m\n\u001b[1;32m    418\u001b[0m         \u001b[0;32mtry\u001b[0m\u001b[0;34m:\u001b[0m\u001b[0;34m\u001b[0m\u001b[0;34m\u001b[0m\u001b[0m\n\u001b[0;32m--> 419\u001b[0;31m             \u001b[0mdelete_count\u001b[0m \u001b[0;34m=\u001b[0m \u001b[0mself\u001b[0m\u001b[0;34m.\u001b[0m\u001b[0m_delete_cascade\u001b[0m\u001b[0;34m(\u001b[0m\u001b[0;34m)\u001b[0m\u001b[0;34m\u001b[0m\u001b[0;34m\u001b[0m\u001b[0m\n\u001b[0m\u001b[1;32m    420\u001b[0m         \u001b[0;32mexcept\u001b[0m\u001b[0;34m:\u001b[0m\u001b[0;34m\u001b[0m\u001b[0;34m\u001b[0m\u001b[0m\n\u001b[1;32m    421\u001b[0m             \u001b[0;32mif\u001b[0m \u001b[0mtransaction\u001b[0m\u001b[0;34m:\u001b[0m\u001b[0;34m\u001b[0m\u001b[0;34m\u001b[0m\u001b[0m\n",
      "\u001b[0;32m~/.conda/envs/u19_pipeline_python_env/lib/python3.7/site-packages/datajoint/table.py\u001b[0m in \u001b[0;36m_delete_cascade\u001b[0;34m(self)\u001b[0m\n\u001b[1;32m    383\u001b[0m                 \u001b[0;32melse\u001b[0m\u001b[0;34m:\u001b[0m\u001b[0;34m\u001b[0m\u001b[0;34m\u001b[0m\u001b[0m\n\u001b[1;32m    384\u001b[0m                     \u001b[0mchild\u001b[0m \u001b[0;34m&=\u001b[0m \u001b[0mself\u001b[0m\u001b[0;34m.\u001b[0m\u001b[0mproj\u001b[0m\u001b[0;34m(\u001b[0m\u001b[0;34m)\u001b[0m\u001b[0;34m\u001b[0m\u001b[0;34m\u001b[0m\u001b[0m\n\u001b[0;32m--> 385\u001b[0;31m                 \u001b[0mchild\u001b[0m\u001b[0;34m.\u001b[0m\u001b[0m_delete_cascade\u001b[0m\u001b[0;34m(\u001b[0m\u001b[0;34m)\u001b[0m\u001b[0;34m\u001b[0m\u001b[0;34m\u001b[0m\u001b[0m\n\u001b[0m\u001b[1;32m    386\u001b[0m             \u001b[0;32melse\u001b[0m\u001b[0;34m:\u001b[0m\u001b[0;34m\u001b[0m\u001b[0;34m\u001b[0m\u001b[0m\n\u001b[1;32m    387\u001b[0m                 print(\"Deleting {count} rows from {table}\".format(\n",
      "\u001b[0;32m~/.conda/envs/u19_pipeline_python_env/lib/python3.7/site-packages/datajoint/table.py\u001b[0m in \u001b[0;36m_delete_cascade\u001b[0;34m(self)\u001b[0m\n\u001b[1;32m    383\u001b[0m                 \u001b[0;32melse\u001b[0m\u001b[0;34m:\u001b[0m\u001b[0;34m\u001b[0m\u001b[0;34m\u001b[0m\u001b[0m\n\u001b[1;32m    384\u001b[0m                     \u001b[0mchild\u001b[0m \u001b[0;34m&=\u001b[0m \u001b[0mself\u001b[0m\u001b[0;34m.\u001b[0m\u001b[0mproj\u001b[0m\u001b[0;34m(\u001b[0m\u001b[0;34m)\u001b[0m\u001b[0;34m\u001b[0m\u001b[0;34m\u001b[0m\u001b[0m\n\u001b[0;32m--> 385\u001b[0;31m                 \u001b[0mchild\u001b[0m\u001b[0;34m.\u001b[0m\u001b[0m_delete_cascade\u001b[0m\u001b[0;34m(\u001b[0m\u001b[0;34m)\u001b[0m\u001b[0;34m\u001b[0m\u001b[0;34m\u001b[0m\u001b[0m\n\u001b[0m\u001b[1;32m    386\u001b[0m             \u001b[0;32melse\u001b[0m\u001b[0;34m:\u001b[0m\u001b[0;34m\u001b[0m\u001b[0;34m\u001b[0m\u001b[0m\n\u001b[1;32m    387\u001b[0m                 print(\"Deleting {count} rows from {table}\".format(\n",
      "\u001b[0;32m~/.conda/envs/u19_pipeline_python_env/lib/python3.7/site-packages/datajoint/table.py\u001b[0m in \u001b[0;36m_delete_cascade\u001b[0;34m(self)\u001b[0m\n\u001b[1;32m    354\u001b[0m         \u001b[0;32mfor\u001b[0m \u001b[0m_\u001b[0m \u001b[0;32min\u001b[0m \u001b[0mrange\u001b[0m\u001b[0;34m(\u001b[0m\u001b[0mmax_attempts\u001b[0m\u001b[0;34m)\u001b[0m\u001b[0;34m:\u001b[0m\u001b[0;34m\u001b[0m\u001b[0;34m\u001b[0m\u001b[0m\n\u001b[1;32m    355\u001b[0m             \u001b[0;32mtry\u001b[0m\u001b[0;34m:\u001b[0m\u001b[0;34m\u001b[0m\u001b[0;34m\u001b[0m\u001b[0m\n\u001b[0;32m--> 356\u001b[0;31m                 \u001b[0mdelete_count\u001b[0m \u001b[0;34m=\u001b[0m \u001b[0mself\u001b[0m\u001b[0;34m.\u001b[0m\u001b[0mdelete_quick\u001b[0m\u001b[0;34m(\u001b[0m\u001b[0mget_count\u001b[0m\u001b[0;34m=\u001b[0m\u001b[0;32mTrue\u001b[0m\u001b[0;34m)\u001b[0m\u001b[0;34m\u001b[0m\u001b[0;34m\u001b[0m\u001b[0m\n\u001b[0m\u001b[1;32m    357\u001b[0m             \u001b[0;32mexcept\u001b[0m \u001b[0mIntegrityError\u001b[0m \u001b[0;32mas\u001b[0m \u001b[0merror\u001b[0m\u001b[0;34m:\u001b[0m\u001b[0;34m\u001b[0m\u001b[0;34m\u001b[0m\u001b[0m\n\u001b[1;32m    358\u001b[0m                 \u001b[0mmatch\u001b[0m \u001b[0;34m=\u001b[0m \u001b[0mforeign_key_error_regexp\u001b[0m\u001b[0;34m.\u001b[0m\u001b[0mmatch\u001b[0m\u001b[0;34m(\u001b[0m\u001b[0merror\u001b[0m\u001b[0;34m.\u001b[0m\u001b[0margs\u001b[0m\u001b[0;34m[\u001b[0m\u001b[0;36m0\u001b[0m\u001b[0;34m]\u001b[0m\u001b[0;34m)\u001b[0m\u001b[0;34m.\u001b[0m\u001b[0mgroupdict\u001b[0m\u001b[0;34m(\u001b[0m\u001b[0;34m)\u001b[0m\u001b[0;34m\u001b[0m\u001b[0;34m\u001b[0m\u001b[0m\n",
      "\u001b[0;32m~/.conda/envs/u19_pipeline_python_env/lib/python3.7/site-packages/datajoint/table.py\u001b[0m in \u001b[0;36mdelete_quick\u001b[0;34m(self, get_count)\u001b[0m\n\u001b[1;32m    346\u001b[0m         \u001b[0mself\u001b[0m\u001b[0;34m.\u001b[0m\u001b[0mconnection\u001b[0m\u001b[0;34m.\u001b[0m\u001b[0mquery\u001b[0m\u001b[0;34m(\u001b[0m\u001b[0mquery\u001b[0m\u001b[0;34m)\u001b[0m\u001b[0;34m\u001b[0m\u001b[0;34m\u001b[0m\u001b[0m\n\u001b[1;32m    347\u001b[0m         \u001b[0mcount\u001b[0m \u001b[0;34m=\u001b[0m \u001b[0mself\u001b[0m\u001b[0;34m.\u001b[0m\u001b[0mconnection\u001b[0m\u001b[0;34m.\u001b[0m\u001b[0mquery\u001b[0m\u001b[0;34m(\u001b[0m\u001b[0;34m\"SELECT ROW_COUNT()\"\u001b[0m\u001b[0;34m)\u001b[0m\u001b[0;34m.\u001b[0m\u001b[0mfetchone\u001b[0m\u001b[0;34m(\u001b[0m\u001b[0;34m)\u001b[0m\u001b[0;34m[\u001b[0m\u001b[0;36m0\u001b[0m\u001b[0;34m]\u001b[0m \u001b[0;32mif\u001b[0m \u001b[0mget_count\u001b[0m \u001b[0;32melse\u001b[0m \u001b[0;32mNone\u001b[0m\u001b[0;34m\u001b[0m\u001b[0;34m\u001b[0m\u001b[0m\n\u001b[0;32m--> 348\u001b[0;31m         \u001b[0mself\u001b[0m\u001b[0;34m.\u001b[0m\u001b[0m_log\u001b[0m\u001b[0;34m(\u001b[0m\u001b[0mquery\u001b[0m\u001b[0;34m[\u001b[0m\u001b[0;34m:\u001b[0m\u001b[0;36m255\u001b[0m\u001b[0;34m]\u001b[0m\u001b[0;34m)\u001b[0m\u001b[0;34m\u001b[0m\u001b[0;34m\u001b[0m\u001b[0m\n\u001b[0m\u001b[1;32m    349\u001b[0m         \u001b[0;32mreturn\u001b[0m \u001b[0mcount\u001b[0m\u001b[0;34m\u001b[0m\u001b[0;34m\u001b[0m\u001b[0m\n\u001b[1;32m    350\u001b[0m \u001b[0;34m\u001b[0m\u001b[0m\n",
      "\u001b[0;32m~/.conda/envs/u19_pipeline_python_env/lib/python3.7/site-packages/datajoint/table.py\u001b[0m in \u001b[0;36m_log\u001b[0;34m(self)\u001b[0m\n\u001b[1;32m    217\u001b[0m     \u001b[0;32mdef\u001b[0m \u001b[0m_log\u001b[0m\u001b[0;34m(\u001b[0m\u001b[0mself\u001b[0m\u001b[0;34m)\u001b[0m\u001b[0;34m:\u001b[0m\u001b[0;34m\u001b[0m\u001b[0;34m\u001b[0m\u001b[0m\n\u001b[1;32m    218\u001b[0m         \u001b[0;32mif\u001b[0m \u001b[0mself\u001b[0m\u001b[0;34m.\u001b[0m\u001b[0m_log_\u001b[0m \u001b[0;32mis\u001b[0m \u001b[0;32mNone\u001b[0m\u001b[0;34m:\u001b[0m\u001b[0;34m\u001b[0m\u001b[0;34m\u001b[0m\u001b[0m\n\u001b[0;32m--> 219\u001b[0;31m             \u001b[0mself\u001b[0m\u001b[0;34m.\u001b[0m\u001b[0m_log_\u001b[0m \u001b[0;34m=\u001b[0m \u001b[0mLog\u001b[0m\u001b[0;34m(\u001b[0m\u001b[0mself\u001b[0m\u001b[0;34m.\u001b[0m\u001b[0mconnection\u001b[0m\u001b[0;34m,\u001b[0m \u001b[0mdatabase\u001b[0m\u001b[0;34m=\u001b[0m\u001b[0mself\u001b[0m\u001b[0;34m.\u001b[0m\u001b[0mdatabase\u001b[0m\u001b[0;34m,\u001b[0m \u001b[0mskip_logging\u001b[0m\u001b[0;34m=\u001b[0m\u001b[0mself\u001b[0m\u001b[0;34m.\u001b[0m\u001b[0mtable_name\u001b[0m\u001b[0;34m.\u001b[0m\u001b[0mstartswith\u001b[0m\u001b[0;34m(\u001b[0m\u001b[0;34m'~'\u001b[0m\u001b[0;34m)\u001b[0m\u001b[0;34m)\u001b[0m\u001b[0;34m\u001b[0m\u001b[0;34m\u001b[0m\u001b[0m\n\u001b[0m\u001b[1;32m    220\u001b[0m         \u001b[0;32mreturn\u001b[0m \u001b[0mself\u001b[0m\u001b[0;34m.\u001b[0m\u001b[0m_log_\u001b[0m\u001b[0;34m\u001b[0m\u001b[0;34m\u001b[0m\u001b[0m\n\u001b[1;32m    221\u001b[0m \u001b[0;34m\u001b[0m\u001b[0m\n",
      "\u001b[0;32m~/.conda/envs/u19_pipeline_python_env/lib/python3.7/site-packages/datajoint/table.py\u001b[0m in \u001b[0;36m__init__\u001b[0;34m(self, conn, database, skip_logging)\u001b[0m\n\u001b[1;32m    799\u001b[0m \u001b[0;34m\u001b[0m\u001b[0m\n\u001b[1;32m    800\u001b[0m         \u001b[0;32mif\u001b[0m \u001b[0;32mnot\u001b[0m \u001b[0mself\u001b[0m\u001b[0;34m.\u001b[0m\u001b[0mis_declared\u001b[0m\u001b[0;34m:\u001b[0m\u001b[0;34m\u001b[0m\u001b[0;34m\u001b[0m\u001b[0m\n\u001b[0;32m--> 801\u001b[0;31m             \u001b[0mself\u001b[0m\u001b[0;34m.\u001b[0m\u001b[0mdeclare\u001b[0m\u001b[0;34m(\u001b[0m\u001b[0;34m)\u001b[0m\u001b[0;34m\u001b[0m\u001b[0;34m\u001b[0m\u001b[0m\n\u001b[0m\u001b[1;32m    802\u001b[0m             \u001b[0mself\u001b[0m\u001b[0;34m.\u001b[0m\u001b[0mconnection\u001b[0m\u001b[0;34m.\u001b[0m\u001b[0mdependencies\u001b[0m\u001b[0;34m.\u001b[0m\u001b[0mclear\u001b[0m\u001b[0;34m(\u001b[0m\u001b[0;34m)\u001b[0m\u001b[0;34m\u001b[0m\u001b[0;34m\u001b[0m\u001b[0m\n\u001b[1;32m    803\u001b[0m         \u001b[0mself\u001b[0m\u001b[0;34m.\u001b[0m\u001b[0m_user\u001b[0m \u001b[0;34m=\u001b[0m \u001b[0mself\u001b[0m\u001b[0;34m.\u001b[0m\u001b[0mconnection\u001b[0m\u001b[0;34m.\u001b[0m\u001b[0mget_user\u001b[0m\u001b[0;34m(\u001b[0m\u001b[0;34m)\u001b[0m\u001b[0;34m\u001b[0m\u001b[0;34m\u001b[0m\u001b[0m\n",
      "\u001b[0;32m~/.conda/envs/u19_pipeline_python_env/lib/python3.7/site-packages/datajoint/table.py\u001b[0m in \u001b[0;36mdeclare\u001b[0;34m(self, context)\u001b[0m\n\u001b[1;32m     75\u001b[0m         \"\"\"\n\u001b[1;32m     76\u001b[0m         \u001b[0;32mif\u001b[0m \u001b[0mself\u001b[0m\u001b[0;34m.\u001b[0m\u001b[0mconnection\u001b[0m\u001b[0;34m.\u001b[0m\u001b[0min_transaction\u001b[0m\u001b[0;34m:\u001b[0m\u001b[0;34m\u001b[0m\u001b[0;34m\u001b[0m\u001b[0m\n\u001b[0;32m---> 77\u001b[0;31m             raise DataJointError('Cannot declare new tables inside a transaction, '\n\u001b[0m\u001b[1;32m     78\u001b[0m                                  'e.g. from inside a populate/make call')\n\u001b[1;32m     79\u001b[0m         \u001b[0msql\u001b[0m\u001b[0;34m,\u001b[0m \u001b[0mexternal_stores\u001b[0m \u001b[0;34m=\u001b[0m \u001b[0mdeclare\u001b[0m\u001b[0;34m(\u001b[0m\u001b[0mself\u001b[0m\u001b[0;34m.\u001b[0m\u001b[0mfull_table_name\u001b[0m\u001b[0;34m,\u001b[0m \u001b[0mself\u001b[0m\u001b[0;34m.\u001b[0m\u001b[0mdefinition\u001b[0m\u001b[0;34m,\u001b[0m \u001b[0mcontext\u001b[0m\u001b[0;34m)\u001b[0m\u001b[0;34m\u001b[0m\u001b[0;34m\u001b[0m\u001b[0m\n",
      "\u001b[0;31mDataJointError\u001b[0m: Cannot declare new tables inside a transaction, e.g. from inside a populate/make call"
     ]
    }
   ],
   "source": [
    "(imaging.Scan & keyo).delete()"
   ]
  },
  {
   "cell_type": "code",
   "execution_count": 11,
   "metadata": {},
   "outputs": [
    {
     "data": {
      "image/svg+xml": "<svg height=\"388pt\" viewBox=\"0.00 0.00 1413.00 388.00\" width=\"1413pt\" xmlns=\"http://www.w3.org/2000/svg\" xmlns:xlink=\"http://www.w3.org/1999/xlink\">\n<g class=\"graph\" id=\"graph0\" transform=\"scale(1 1) rotate(0) translate(4 384)\">\n<title>%3</title>\n<polygon fill=\"white\" points=\"-4,5 -4,-384 1410,-384 1410,5 -4,5\" stroke=\"white\"/>\n<!-- `u19_imaging`.`segmentation_roi_morphology_manual` -->\n<g class=\"node\" id=\"node1\"><title>`u19_imaging`.`segmentation_roi_morphology_manual`</title>\n<polygon fill=\"#00ff00\" fill-opacity=\"0.188235\" points=\"314,-35.5 0,-35.5 0,-0.5 314,-0.5 314,-35.5\" stroke=\"#00ff00\" stroke-opacity=\"0.188235\"/>\n<text fill=\"darkgreen\" font-family=\"arial\" font-size=\"12.00\" text-anchor=\"start\" text-decoration=\"underline\" x=\"8.5\" y=\"-15.9\">`u19_imaging`.`segmentation_roi_morphology_manual`</text>\n</g>\n<!-- `u19_imaging`.`__sync_imaging_behavior` -->\n<g class=\"node\" id=\"node2\"><title>`u19_imaging`.`__sync_imaging_behavior`</title>\n<ellipse cx=\"564\" cy=\"-218\" fill=\"#ff0000\" fill-opacity=\"0.125490\" rx=\"173.362\" ry=\"14.7\" stroke=\"#ff0000\" stroke-opacity=\"0.125490\"/>\n<text fill=\"#7f0000\" font-family=\"arial\" font-size=\"12.00\" text-anchor=\"middle\" x=\"564\" y=\"-214.9\">`u19_imaging`.`__sync_imaging_behavior`</text>\n</g>\n<!-- imaging.MotionCorrection.AcrossFiles -->\n<g class=\"node\" id=\"node3\"><title>imaging.MotionCorrection.AcrossFiles</title>\n<g id=\"a_node3\"><a xlink:title=\"→ imaging.MotionCorrection\r------------------------------\rcross_files_x_shifts \rcross_files_y_shifts \rcross_files_reference_image \r\">\n<polygon fill=\"none\" points=\"1105,-155.5 923,-155.5 923,-136.5 1105,-136.5 1105,-155.5\" stroke=\"none\"/>\n<text font-family=\"arial\" font-size=\"10.00\" text-anchor=\"middle\" x=\"1014\" y=\"-143.5\">imaging.MotionCorrection.AcrossFiles</text>\n</a>\n</g>\n</g>\n<!-- imaging.McParameterSet.Parameter -->\n<g class=\"node\" id=\"node4\"><title>imaging.McParameterSet.Parameter</title>\n<g id=\"a_node4\"><a xlink:title=\"→ imaging.McParameterSet\r→ imaging.McParameter\r------------------------------\rmc_parameter_value   \r\">\n<polygon fill=\"none\" points=\"1284.25,-227.5 1109.75,-227.5 1109.75,-208.5 1284.25,-208.5 1284.25,-227.5\" stroke=\"none\"/>\n<text font-family=\"arial\" font-size=\"10.00\" text-anchor=\"middle\" x=\"1197\" y=\"-215.5\">imaging.McParameterSet.Parameter</text>\n</a>\n</g>\n</g>\n<!-- imaging.SegParameter -->\n<g class=\"node\" id=\"node5\"><title>imaging.SegParameter</title>\n<g id=\"a_node5\"><a xlink:title=\"→ imaging.SegmentationMethod\rseg_parameter_name   \r------------------------------\rseg_parameter_description \r\">\n<polygon fill=\"#000000\" fill-opacity=\"0.125490\" points=\"195.25,-235.5 78.75,-235.5 78.75,-200.5 195.25,-200.5 195.25,-235.5\" stroke=\"none\"/>\n<text font-family=\"arial\" font-size=\"10.00\" text-anchor=\"start\" text-decoration=\"underline\" x=\"87\" y=\"-216.5\">imaging.SegParameter</text>\n</a>\n</g>\n</g>\n<!-- imaging.SegParameterSet.Parameter -->\n<g class=\"node\" id=\"node8\"><title>imaging.SegParameterSet.Parameter</title>\n<g id=\"a_node8\"><a xlink:title=\"→ imaging.SegParameterSet\r→ imaging.SegParameter\r------------------------------\rseg_parameter_value  \r\">\n<polygon fill=\"none\" points=\"382.25,-155.5 203.75,-155.5 203.75,-136.5 382.25,-136.5 382.25,-155.5\" stroke=\"none\"/>\n<text font-family=\"arial\" font-size=\"10.00\" text-anchor=\"middle\" x=\"293\" y=\"-143.5\">imaging.SegParameterSet.Parameter</text>\n</a>\n</g>\n</g>\n<!-- imaging.SegParameter&#45;&gt;imaging.SegParameterSet.Parameter -->\n<g class=\"edge\" id=\"edge1\"><title>imaging.SegParameter-&gt;imaging.SegParameterSet.Parameter</title>\n<path d=\"M173.97,-200.411C205.325,-186.341 249.046,-166.723 273.837,-155.599\" fill=\"none\" stroke=\"#000000\" stroke-opacity=\"0.250980\" stroke-width=\"0.75\"/>\n</g>\n<!-- imaging.Segmentation.Roi -->\n<g class=\"node\" id=\"node6\"><title>imaging.Segmentation.Roi</title>\n<g id=\"a_node6\"><a xlink:title=\"→ imaging.Segmentation\rroi_idx              \r------------------------------\rroi_spatial          \rroi_global_xy        \rroi_is_in_chunks     \rsurround_spatial     \r\">\n<polygon fill=\"none\" points=\"544,-91.5 412,-91.5 412,-72.5 544,-72.5 544,-91.5\" stroke=\"none\"/>\n<text font-family=\"arial\" font-size=\"10.00\" text-anchor=\"start\" text-decoration=\"underline\" x=\"420.5\" y=\"-80.5\">imaging.Segmentation.Roi</text>\n</a>\n</g>\n</g>\n<!-- imaging.Segmentation.Roi&#45;&gt;`u19_imaging`.`segmentation_roi_morphology_manual` -->\n<g class=\"edge\" id=\"edge2\"><title>imaging.Segmentation.Roi-&gt;`u19_imaging`.`segmentation_roi_morphology_manual`</title>\n<path d=\"M433.703,-72.4443C384.6,-62.9602 304.221,-47.4353 242.714,-35.5554\" fill=\"none\" stroke=\"#000000\" stroke-opacity=\"0.250980\" stroke-width=\"0.75\"/>\n</g>\n<!-- imaging.Trace -->\n<g class=\"node\" id=\"node21\"><title>imaging.Trace</title>\n<g id=\"a_node21\"><a xlink:title=\"→ imaging.Segmentation.Roi\r------------------------------\rdff_roi              \rdff_roi_is_significant \rdff_roi_is_baseline  \rdff_surround         \rspiking              \rtime_constants       \rinit_concentration   \r\">\n<ellipse cx=\"390\" cy=\"-18\" fill=\"#00007f\" fill-opacity=\"0.250980\" rx=\"57.25\" ry=\"17.5\" stroke=\"#00007f\" stroke-opacity=\"0.250980\"/>\n<text fill=\"#00007f\" font-family=\"arial\" font-size=\"12.00\" text-anchor=\"middle\" x=\"390\" y=\"-14.9\">imaging.Trace</text>\n</a>\n</g>\n</g>\n<!-- imaging.Segmentation.Roi&#45;&gt;imaging.Trace -->\n<g class=\"edge\" id=\"edge3\"><title>imaging.Segmentation.Roi-&gt;imaging.Trace</title>\n<path d=\"M465.764,-72.3792C451.785,-62.5303 428.647,-46.2283 411.612,-34.2265\" fill=\"none\" stroke=\"#000000\" stroke-opacity=\"0.250980\" stroke-width=\"2\"/>\n</g>\n<!-- imaging.Segmentation.RoiMorphologyAuto -->\n<g class=\"node\" id=\"node22\"><title>imaging.Segmentation.RoiMorphologyAuto</title>\n<g id=\"a_node22\"><a xlink:title=\"→ imaging.Segmentation.Roi\r------------------------------\rmorphology           \r\">\n<polygon fill=\"none\" points=\"666.25,-27.5 465.75,-27.5 465.75,-8.5 666.25,-8.5 666.25,-27.5\" stroke=\"none\"/>\n<text font-family=\"arial\" font-size=\"10.00\" text-anchor=\"middle\" x=\"566\" y=\"-15.5\">imaging.Segmentation.RoiMorphologyAuto</text>\n</a>\n</g>\n</g>\n<!-- imaging.Segmentation.Roi&#45;&gt;imaging.Segmentation.RoiMorphologyAuto -->\n<g class=\"edge\" id=\"edge4\"><title>imaging.Segmentation.Roi-&gt;imaging.Segmentation.RoiMorphologyAuto</title>\n<path d=\"M490.236,-72.3792C507.049,-60.5339 537.11,-39.3543 553.868,-27.5476\" fill=\"none\" stroke=\"#000000\" stroke-opacity=\"0.250980\" stroke-width=\"2\"/>\n</g>\n<!-- imaging.McMethod -->\n<g class=\"node\" id=\"node7\"><title>imaging.McMethod</title>\n<g id=\"a_node7\"><a xlink:title=\"mc_method            \r------------------------------\rcorrelation_type=&quot;Normalized&quot; \rtranformation_type=&quot;Linear&quot; \r\">\n<polygon fill=\"#000000\" fill-opacity=\"0.125490\" points=\"1322,-379.5 1222,-379.5 1222,-344.5 1322,-344.5 1322,-379.5\" stroke=\"none\"/>\n<text font-family=\"arial\" font-size=\"10.00\" text-anchor=\"start\" text-decoration=\"underline\" x=\"1230.5\" y=\"-360.5\">imaging.McMethod</text>\n</a>\n</g>\n</g>\n<!-- imaging.McParameterSet -->\n<g class=\"node\" id=\"node11\"><title>imaging.McParameterSet</title>\n<g id=\"a_node11\"><a xlink:title=\"→ imaging.McMethod\rmc_parameter_set_id  \r------------------------------\rmc_parameter_set_description=null \rmc_parameter_set_hash \r\">\n<polygon fill=\"#00ff00\" fill-opacity=\"0.188235\" points=\"1273.25,-307.5 1120.75,-307.5 1120.75,-272.5 1273.25,-272.5 1273.25,-307.5\" stroke=\"#00ff00\" stroke-opacity=\"0.188235\"/>\n<text fill=\"darkgreen\" font-family=\"arial\" font-size=\"12.00\" text-anchor=\"start\" text-decoration=\"underline\" x=\"1129\" y=\"-287.9\">imaging.McParameterSet</text>\n</a>\n</g>\n</g>\n<!-- imaging.McMethod&#45;&gt;imaging.McParameterSet -->\n<g class=\"edge\" id=\"edge5\"><title>imaging.McMethod-&gt;imaging.McParameterSet</title>\n<path d=\"M1254.23,-344.411C1242.36,-333.333 1226.8,-318.816 1214.91,-307.713\" fill=\"none\" stroke=\"#000000\" stroke-opacity=\"0.250980\" stroke-width=\"0.75\"/>\n</g>\n<!-- imaging.McParameter -->\n<g class=\"node\" id=\"node12\"><title>imaging.McParameter</title>\n<g id=\"a_node12\"><a xlink:title=\"→ imaging.McMethod\rmc_parameter_name    \r------------------------------\rmc_parameter_description \r\">\n<polygon fill=\"#000000\" fill-opacity=\"0.125490\" points=\"1404.25,-307.5 1291.75,-307.5 1291.75,-272.5 1404.25,-272.5 1404.25,-307.5\" stroke=\"none\"/>\n<text font-family=\"arial\" font-size=\"10.00\" text-anchor=\"start\" text-decoration=\"underline\" x=\"1300\" y=\"-288.5\">imaging.McParameter</text>\n</a>\n</g>\n</g>\n<!-- imaging.McMethod&#45;&gt;imaging.McParameter -->\n<g class=\"edge\" id=\"edge6\"><title>imaging.McMethod-&gt;imaging.McParameter</title>\n<path d=\"M1290.01,-344.411C1302.04,-333.333 1317.8,-318.816 1329.85,-307.713\" fill=\"none\" stroke=\"#000000\" stroke-opacity=\"0.250980\" stroke-width=\"0.75\"/>\n</g>\n<!-- imaging.SegParameterSet -->\n<g class=\"node\" id=\"node9\"><title>imaging.SegParameterSet</title>\n<g id=\"a_node9\"><a xlink:title=\"→ imaging.SegmentationMethod\rseg_parameter_set_id \r------------------------------\rseg_parameter_set_description=null \rseg_parameter_set_hash \r\">\n<polygon fill=\"#00ff00\" fill-opacity=\"0.188235\" points=\"372.25,-235.5 213.75,-235.5 213.75,-200.5 372.25,-200.5 372.25,-235.5\" stroke=\"#00ff00\" stroke-opacity=\"0.188235\"/>\n<text fill=\"darkgreen\" font-family=\"arial\" font-size=\"12.00\" text-anchor=\"start\" text-decoration=\"underline\" x=\"222\" y=\"-215.9\">imaging.SegParameterSet</text>\n</a>\n</g>\n</g>\n<!-- imaging.SegParameterSet&#45;&gt;imaging.SegParameterSet.Parameter -->\n<g class=\"edge\" id=\"edge7\"><title>imaging.SegParameterSet-&gt;imaging.SegParameterSet.Parameter</title>\n<path d=\"M293,-200.411C293,-186.341 293,-166.723 293,-155.599\" fill=\"none\" stroke=\"#000000\" stroke-opacity=\"0.250980\" stroke-width=\"0.75\"/>\n</g>\n<!-- imaging.Segmentation -->\n<g class=\"node\" id=\"node13\"><title>imaging.Segmentation</title>\n<g id=\"a_node13\"><a xlink:title=\"→ imaging.MotionCorrection\r→ imaging.SegParameterSet\r------------------------------\rnum_chunks           \rcross_chunks_x_shifts \rcross_chunks_y_shifts \rcross_chunks_reference_image \rseg_results_directory \r\">\n<ellipse cx=\"557\" cy=\"-146\" fill=\"#00007f\" fill-opacity=\"0.250980\" rx=\"85.4372\" ry=\"17.5\" stroke=\"#00007f\" stroke-opacity=\"0.250980\"/>\n<text fill=\"#00007f\" font-family=\"arial\" font-size=\"12.00\" text-anchor=\"middle\" x=\"557\" y=\"-142.9\">imaging.Segmentation</text>\n</a>\n</g>\n</g>\n<!-- imaging.SegParameterSet&#45;&gt;imaging.Segmentation -->\n<g class=\"edge\" id=\"edge8\"><title>imaging.SegParameterSet-&gt;imaging.Segmentation</title>\n<path d=\"M355.23,-200.5C401.572,-188.212 464.015,-171.655 507.101,-160.231\" fill=\"none\" stroke=\"#000000\" stroke-opacity=\"0.250980\" stroke-width=\"0.75\"/>\n</g>\n<!-- imaging.FieldOfView -->\n<g class=\"node\" id=\"node10\"><title>imaging.FieldOfView</title>\n<g id=\"a_node10\"><a xlink:title=\"→ imaging.Scan\rfov                  \r------------------------------\rfov_directory        \rrelative_fov_directory=null \rfov_name=null        \rfov_depth            \rfov_center_xy        \rfov_size_xy          \rfov_rotation_degrees \rfov_pixel_resolution_xy \rfov_discrete_plane_mode \rpower_percent        \r\">\n<ellipse cx=\"818\" cy=\"-290\" fill=\"#00007f\" fill-opacity=\"0.250980\" rx=\"80.4372\" ry=\"17.5\" stroke=\"#00007f\" stroke-opacity=\"0.250980\"/>\n<text fill=\"#00007f\" font-family=\"arial\" font-size=\"12.00\" text-anchor=\"start\" text-decoration=\"underline\" x=\"762\" y=\"-287.9\">imaging.FieldOfView</text>\n</a>\n</g>\n</g>\n<!-- imaging.FieldOfView&#45;&gt;`u19_imaging`.`__sync_imaging_behavior` -->\n<g class=\"edge\" id=\"edge9\"><title>imaging.FieldOfView-&gt;`u19_imaging`.`__sync_imaging_behavior`</title>\n<path d=\"M770.225,-275.834C725.101,-263.398 657.76,-244.839 612.425,-232.345\" fill=\"none\" stroke=\"#000000\" stroke-opacity=\"0.250980\" stroke-width=\"2\"/>\n</g>\n<!-- imaging.MotionCorrection -->\n<g class=\"node\" id=\"node18\"><title>imaging.MotionCorrection</title>\n<g id=\"a_node18\"><a xlink:title=\"→ imaging.FieldOfView\r→ imaging.McParameterSet\r------------------------------\rmc_results_directory=null \r\">\n<ellipse cx=\"995\" cy=\"-218\" fill=\"#00007f\" fill-opacity=\"0.250980\" rx=\"95.876\" ry=\"17.5\" stroke=\"#00007f\" stroke-opacity=\"0.250980\"/>\n<text fill=\"#00007f\" font-family=\"arial\" font-size=\"12.00\" text-anchor=\"middle\" x=\"995\" y=\"-214.9\">imaging.MotionCorrection</text>\n</a>\n</g>\n</g>\n<!-- imaging.FieldOfView&#45;&gt;imaging.MotionCorrection -->\n<g class=\"edge\" id=\"edge10\"><title>imaging.FieldOfView-&gt;imaging.MotionCorrection</title>\n<path d=\"M855.105,-274.326C884.908,-262.539 926.611,-246.046 956.721,-234.138\" fill=\"none\" stroke=\"#000000\" stroke-opacity=\"0.250980\" stroke-width=\"0.75\"/>\n</g>\n<!-- imaging.FieldOfView.File -->\n<g class=\"node\" id=\"node19\"><title>imaging.FieldOfView.File</title>\n<g id=\"a_node19\"><a xlink:title=\"→ imaging.FieldOfView\rfile_number          \r------------------------------\rfov_filename         \rfile_frame_range     \r\">\n<polygon fill=\"none\" points=\"880.25,-227.5 755.75,-227.5 755.75,-208.5 880.25,-208.5 880.25,-227.5\" stroke=\"none\"/>\n<text font-family=\"arial\" font-size=\"10.00\" text-anchor=\"start\" text-decoration=\"underline\" x=\"764\" y=\"-216.5\">imaging.FieldOfView.File</text>\n</a>\n</g>\n</g>\n<!-- imaging.FieldOfView&#45;&gt;imaging.FieldOfView.File -->\n<g class=\"edge\" id=\"edge11\"><title>imaging.FieldOfView-&gt;imaging.FieldOfView.File</title>\n<path d=\"M818,-272.411C818,-258.341 818,-238.723 818,-227.599\" fill=\"none\" stroke=\"#000000\" stroke-opacity=\"0.250980\" stroke-width=\"0.75\"/>\n</g>\n<!-- imaging.McParameterSet&#45;&gt;imaging.McParameterSet.Parameter -->\n<g class=\"edge\" id=\"edge12\"><title>imaging.McParameterSet-&gt;imaging.McParameterSet.Parameter</title>\n<path d=\"M1197,-272.411C1197,-258.341 1197,-238.723 1197,-227.599\" fill=\"none\" stroke=\"#000000\" stroke-opacity=\"0.250980\" stroke-width=\"0.75\"/>\n</g>\n<!-- imaging.McParameterSet&#45;&gt;imaging.MotionCorrection -->\n<g class=\"edge\" id=\"edge13\"><title>imaging.McParameterSet-&gt;imaging.MotionCorrection</title>\n<path d=\"M1149.38,-272.5C1115.44,-260.737 1070.21,-245.063 1037.49,-233.724\" fill=\"none\" stroke=\"#000000\" stroke-opacity=\"0.250980\" stroke-width=\"0.75\"/>\n</g>\n<!-- imaging.McParameter&#45;&gt;imaging.McParameterSet.Parameter -->\n<g class=\"edge\" id=\"edge14\"><title>imaging.McParameter-&gt;imaging.McParameterSet.Parameter</title>\n<path d=\"M1312.22,-272.411C1281.87,-258.341 1239.55,-238.723 1215.55,-227.599\" fill=\"none\" stroke=\"#000000\" stroke-opacity=\"0.250980\" stroke-width=\"0.75\"/>\n</g>\n<!-- imaging.Segmentation&#45;&gt;imaging.Segmentation.Roi -->\n<g class=\"edge\" id=\"edge15\"><title>imaging.Segmentation-&gt;imaging.Segmentation.Roi</title>\n<path d=\"M536.244,-128.71C521.066,-116.799 501.082,-101.115 488.907,-91.5598\" fill=\"none\" stroke=\"#000000\" stroke-opacity=\"0.250980\" stroke-width=\"0.75\"/>\n</g>\n<!-- imaging.Segmentation.Chunks -->\n<g class=\"node\" id=\"node15\"><title>imaging.Segmentation.Chunks</title>\n<g id=\"a_node15\"><a xlink:title=\"→ imaging.Segmentation\rsegmentation_chunk_id \r------------------------------\rtif_file_list        \rimaging_frame_range  \rregion_image_size    \rregion_image_x_range \rregion_image_y_range \r\">\n<polygon fill=\"none\" points=\"712,-91.5 562,-91.5 562,-72.5 712,-72.5 712,-91.5\" stroke=\"none\"/>\n<text font-family=\"arial\" font-size=\"10.00\" text-anchor=\"start\" text-decoration=\"underline\" x=\"570.5\" y=\"-80.5\">imaging.Segmentation.Chunks</text>\n</a>\n</g>\n</g>\n<!-- imaging.Segmentation&#45;&gt;imaging.Segmentation.Chunks -->\n<g class=\"edge\" id=\"edge16\"><title>imaging.Segmentation-&gt;imaging.Segmentation.Chunks</title>\n<path d=\"M578.019,-128.71C593.389,-116.799 613.626,-101.115 625.955,-91.5598\" fill=\"none\" stroke=\"#000000\" stroke-opacity=\"0.250980\" stroke-width=\"0.75\"/>\n</g>\n<!-- imaging.Segmentation.Background -->\n<g class=\"node\" id=\"node14\"><title>imaging.Segmentation.Background</title>\n<g id=\"a_node14\"><a xlink:title=\"→ imaging.Segmentation.Chunks\r------------------------------\rbackground_spatial   \rbackground_temporal  \r\">\n<polygon fill=\"none\" points=\"853,-27.5 685,-27.5 685,-8.5 853,-8.5 853,-27.5\" stroke=\"none\"/>\n<text font-family=\"arial\" font-size=\"10.00\" text-anchor=\"middle\" x=\"769\" y=\"-15.5\">imaging.Segmentation.Background</text>\n</a>\n</g>\n</g>\n<!-- imaging.Segmentation.Chunks&#45;&gt;imaging.Segmentation.Background -->\n<g class=\"edge\" id=\"edge17\"><title>imaging.Segmentation.Chunks-&gt;imaging.Segmentation.Background</title>\n<path d=\"M655.354,-72.3792C680.573,-60.5339 725.665,-39.3543 750.802,-27.5476\" fill=\"none\" stroke=\"#000000\" stroke-opacity=\"0.250980\" stroke-width=\"2\"/>\n</g>\n<!-- imaging.Scan -->\n<g class=\"node\" id=\"node16\"><title>imaging.Scan</title>\n<g id=\"a_node16\"><a xlink:title=\"→ recording.acquisition.Session\r------------------------------\rscan_directory       \rrelative_scan_directory \r→ `u19_lab`.`#acquisition_type`\r\">\n<ellipse cx=\"734\" cy=\"-362\" fill=\"#00007f\" fill-opacity=\"0.250980\" rx=\"55.8767\" ry=\"17.5\" stroke=\"#00007f\" stroke-opacity=\"0.250980\"/>\n<text fill=\"#00007f\" font-family=\"arial\" font-size=\"12.00\" text-anchor=\"middle\" x=\"734\" y=\"-358.9\">imaging.Scan</text>\n</a>\n</g>\n</g>\n<!-- imaging.Scan&#45;&gt;imaging.FieldOfView -->\n<g class=\"edge\" id=\"edge18\"><title>imaging.Scan-&gt;imaging.FieldOfView</title>\n<path d=\"M752.642,-345.465C766.273,-334.106 784.715,-318.737 798.534,-307.222\" fill=\"none\" stroke=\"#000000\" stroke-opacity=\"0.250980\" stroke-width=\"0.75\"/>\n</g>\n<!-- imaging.ScanInfo -->\n<g class=\"node\" id=\"node17\"><title>imaging.ScanInfo</title>\n<g id=\"a_node17\"><a xlink:title=\"→ imaging.Scan\r------------------------------\rfile_name_base       \rscan_width           \rscan_height          \racq_time             \rn_depths             \rscan_depths          \rframe_rate           \rinter_fov_lag_sec    \rframe_ts_sec         \rchannels             \rcfg_filename         \rusr_filename         \rfast_z_lag           \rfast_z_flyback_time  \rline_period          \rscan_frame_period    \rscan_volume_rate     \rflyback_time_per_frame \rflyto_time_per_scan_field \rfov_corner_points    \rnfovs                \rnframes              \rnframes_good         \rlast_good_file       \rmotion_correction_enabled=0 \rmotion_correction_mode=&quot;N/A&quot; \rstacks_enabled=0     \rstack_actuator=&quot;N/A&quot; \rstack_definition=&quot;N/A&quot; \r\">\n<ellipse cx=\"651\" cy=\"-290\" fill=\"#00007f\" fill-opacity=\"0.250980\" rx=\"68.1273\" ry=\"17.5\" stroke=\"#00007f\" stroke-opacity=\"0.250980\"/>\n<text fill=\"#00007f\" font-family=\"arial\" font-size=\"12.00\" text-anchor=\"middle\" x=\"651\" y=\"-286.9\">imaging.ScanInfo</text>\n</a>\n</g>\n</g>\n<!-- imaging.Scan&#45;&gt;imaging.ScanInfo -->\n<g class=\"edge\" id=\"edge19\"><title>imaging.Scan-&gt;imaging.ScanInfo</title>\n<path d=\"M715.58,-345.465C702.016,-334.026 683.63,-318.519 669.944,-306.977\" fill=\"none\" stroke=\"#000000\" stroke-opacity=\"0.250980\" stroke-width=\"2\"/>\n</g>\n<!-- imaging.MotionCorrection&#45;&gt;imaging.MotionCorrection.AcrossFiles -->\n<g class=\"edge\" id=\"edge20\"><title>imaging.MotionCorrection-&gt;imaging.MotionCorrection.AcrossFiles</title>\n<path d=\"M999.503,-200.411C1003.32,-186.341 1008.65,-166.723 1011.67,-155.599\" fill=\"none\" stroke=\"#000000\" stroke-opacity=\"0.250980\" stroke-width=\"2\"/>\n</g>\n<!-- imaging.MotionCorrection&#45;&gt;imaging.Segmentation -->\n<g class=\"edge\" id=\"edge21\"><title>imaging.MotionCorrection-&gt;imaging.Segmentation</title>\n<path d=\"M925.439,-205.837C913.293,-203.889 900.778,-201.885 889,-200 796.351,-185.175 689.15,-168.071 622.203,-157.395\" fill=\"none\" stroke=\"#000000\" stroke-opacity=\"0.250980\" stroke-width=\"0.75\"/>\n</g>\n<!-- imaging.MotionCorrection.WithinFile -->\n<g class=\"node\" id=\"node23\"><title>imaging.MotionCorrection.WithinFile</title>\n<g id=\"a_node23\"><a xlink:title=\"→ imaging.MotionCorrection\r→ imaging.FieldOfView.File\r------------------------------\rwithin_file_x_shifts \rwithin_file_y_shifts \rwithin_reference_image \r\">\n<polygon fill=\"none\" points=\"904.25,-155.5 731.75,-155.5 731.75,-136.5 904.25,-136.5 904.25,-155.5\" stroke=\"none\"/>\n<text font-family=\"arial\" font-size=\"10.00\" text-anchor=\"middle\" x=\"818\" y=\"-143.5\">imaging.MotionCorrection.WithinFile</text>\n</a>\n</g>\n</g>\n<!-- imaging.MotionCorrection&#45;&gt;imaging.MotionCorrection.WithinFile -->\n<g class=\"edge\" id=\"edge22\"><title>imaging.MotionCorrection-&gt;imaging.MotionCorrection.WithinFile</title>\n<path d=\"M956.594,-201.811C920.804,-187.657 868.718,-167.058 839.659,-155.566\" fill=\"none\" stroke=\"#000000\" stroke-opacity=\"0.250980\" stroke-width=\"0.75\"/>\n</g>\n<!-- imaging.FieldOfView.File&#45;&gt;imaging.MotionCorrection.WithinFile -->\n<g class=\"edge\" id=\"edge23\"><title>imaging.FieldOfView.File-&gt;imaging.MotionCorrection.WithinFile</title>\n<path d=\"M818,-208.417C818,-194.982 818,-169.132 818,-155.654\" fill=\"none\" stroke=\"#000000\" stroke-opacity=\"0.250980\" stroke-width=\"0.75\"/>\n</g>\n<!-- imaging.SegmentationMethod -->\n<g class=\"node\" id=\"node20\"><title>imaging.SegmentationMethod</title>\n<g id=\"a_node20\"><a xlink:title=\"seg_method           \r\">\n<polygon fill=\"#000000\" fill-opacity=\"0.125490\" points=\"288.25,-307.5 141.75,-307.5 141.75,-272.5 288.25,-272.5 288.25,-307.5\" stroke=\"none\"/>\n<text font-family=\"arial\" font-size=\"10.00\" text-anchor=\"start\" text-decoration=\"underline\" x=\"150\" y=\"-288.5\">imaging.SegmentationMethod</text>\n</a>\n</g>\n</g>\n<!-- imaging.SegmentationMethod&#45;&gt;imaging.SegParameter -->\n<g class=\"edge\" id=\"edge24\"><title>imaging.SegmentationMethod-&gt;imaging.SegParameter</title>\n<path d=\"M196.515,-272.411C184.171,-261.333 167.995,-246.816 155.623,-235.713\" fill=\"none\" stroke=\"#000000\" stroke-opacity=\"0.250980\" stroke-width=\"0.75\"/>\n</g>\n<!-- imaging.SegmentationMethod&#45;&gt;imaging.SegParameterSet -->\n<g class=\"edge\" id=\"edge25\"><title>imaging.SegmentationMethod-&gt;imaging.SegParameterSet</title>\n<path d=\"M233.485,-272.411C245.829,-261.333 262.005,-246.816 274.377,-235.713\" fill=\"none\" stroke=\"#000000\" stroke-opacity=\"0.250980\" stroke-width=\"0.75\"/>\n</g>\n</g>\n</svg>",
      "text/plain": [
       "<datajoint.diagram.Diagram at 0x7f4cb0959a50>"
      ]
     },
     "execution_count": 11,
     "metadata": {},
     "output_type": "execute_result"
    }
   ],
   "source": [
    "dj.Diagram(imaging)"
   ]
  },
  {
   "cell_type": "code",
   "execution_count": 10,
   "metadata": {},
   "outputs": [
    {
     "name": "stdout",
     "output_type": "stream",
     "text": [
      "Nos salvamos\n",
      "Traceback (most recent call last):\n",
      "  File \"/tmp/ipykernel_6488/1491040166.py\", line 4, in <module>\n",
      "    raise Exception('spam', 'eggs')\n",
      "Exception: ('spam', 'eggs')\n",
      "\n",
      "(<class 'Exception'>, Exception('spam', 'eggs'), <traceback object at 0x7f877dc35f00>)\n"
     ]
    }
   ],
   "source": [
    "import traceback\n",
    "import sys\n",
    "try:\n",
    "    raise Exception('spam', 'eggs')\n",
    "except BaseException as e:\n",
    "    print('Nos salvamos')\n",
    "    print(traceback.format_exc())\n"
   ]
  }
 ],
 "metadata": {
  "interpreter": {
   "hash": "348a4bcde61304074419044094132242ecb1362b201318eaa5069b5cc2b28dfb"
  },
  "kernelspec": {
   "display_name": "Python 3.7.11 64-bit",
   "language": "python",
   "name": "python3"
  },
  "language_info": {
   "codemirror_mode": {
    "name": "ipython",
    "version": 3
   },
   "file_extension": ".py",
   "mimetype": "text/x-python",
   "name": "python",
   "nbconvert_exporter": "python",
   "pygments_lexer": "ipython3",
   "version": "3.7.0"
  }
 },
 "nbformat": 4,
 "nbformat_minor": 4
}
