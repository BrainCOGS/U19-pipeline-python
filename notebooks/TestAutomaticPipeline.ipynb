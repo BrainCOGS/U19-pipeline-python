{
 "cells": [
  {
   "cell_type": "markdown",
   "metadata": {},
   "source": [
    "### Check if configuration has been run already and change directory to repository root:"
   ]
  },
  {
   "cell_type": "code",
   "execution_count": 1,
   "metadata": {},
   "outputs": [
    {
     "name": "stdout",
     "output_type": "stream",
     "text": [
      "Local configuration file found !!, no need to run the configuration (unless configuration has changed)\n"
     ]
    }
   ],
   "source": [
    "from scripts.conf_file_finding import try_find_conf_file\n",
    "try_find_conf_file()"
   ]
  },
  {
   "cell_type": "code",
   "execution_count": 2,
   "metadata": {},
   "outputs": [
    {
     "name": "stdout",
     "output_type": "stream",
     "text": [
      "Connecting alvaros@datajoint00.pni.princeton.edu:3306\n"
     ]
    },
    {
     "data": {
      "text/plain": [
       "'0.13.2'"
      ]
     },
     "execution_count": 2,
     "metadata": {},
     "output_type": "execute_result"
    }
   ],
   "source": [
    "import datajoint as dj\n",
    "import pandas as pd\n",
    "import u19_pipeline.automatic_job.recording_handler as rec_handler\n",
    "import u19_pipeline.automatic_job.recording_process_handler as rec_process_handler\n",
    "\n",
    "from u19_pipeline import recording, lab\n",
    "\n",
    "#import utility.dj_shortcuts as dj_short\n",
    "#import utility.acquisition_pipeline_handler as aph\n",
    "dj.__version__"
   ]
  },
  {
   "cell_type": "code",
   "execution_count": 3,
   "metadata": {},
   "outputs": [],
   "source": [
    "from u19_pipeline.ephys_pipeline import ephys_element"
   ]
  },
  {
   "cell_type": "code",
   "execution_count": 5,
   "metadata": {},
   "outputs": [
    {
     "data": {
      "text/html": [
       "\n",
       "    \n",
       "    <style type=\"text/css\">\n",
       "        .Relation{\n",
       "            border-collapse:collapse;\n",
       "        }\n",
       "        .Relation th{\n",
       "            background: #A0A0A0; color: #ffffff; padding:4px; border:#f0e0e0 1px solid;\n",
       "            font-weight: normal; font-family: monospace; font-size: 100%;\n",
       "        }\n",
       "        .Relation td{\n",
       "            padding:4px; border:#f0e0e0 1px solid; font-size:100%;\n",
       "        }\n",
       "        .Relation tr:nth-child(odd){\n",
       "            background: #ffffff;\n",
       "        }\n",
       "        .Relation tr:nth-child(even){\n",
       "            background: #f3f1ff;\n",
       "        }\n",
       "        /* Tooltip container */\n",
       "        .djtooltip {\n",
       "        }\n",
       "        /* Tooltip text */\n",
       "        .djtooltip .djtooltiptext {\n",
       "            visibility: hidden;\n",
       "            width: 120px;\n",
       "            background-color: black;\n",
       "            color: #fff;\n",
       "            text-align: center;\n",
       "            padding: 5px 0;\n",
       "            border-radius: 6px;\n",
       "            /* Position the tooltip text - see examples below! */\n",
       "            position: absolute;\n",
       "            z-index: 1;\n",
       "        }\n",
       "        #primary {\n",
       "            font-weight: bold;\n",
       "            color: black;\n",
       "        }\n",
       "        #nonprimary {\n",
       "            font-weight: normal;\n",
       "            color: white;\n",
       "        }\n",
       "\n",
       "        /* Show the tooltip text when you mouse over the tooltip container */\n",
       "        .djtooltip:hover .djtooltiptext {\n",
       "            visibility: visible;\n",
       "        }\n",
       "    </style>\n",
       "    \n",
       "    <b>Parameter set to be used in a clustering procedure</b>\n",
       "        <div style=\"max-height:1000px;max-width:1500px;overflow:auto;\">\n",
       "        <table border=\"1\" class=\"Relation\">\n",
       "            <thead> <tr style=\"text-align: right;\"> <th> <div class=\"djtooltip\">\n",
       "                            <p id=\"primary\">paramset_idx</p>\n",
       "                            <span class=\"djtooltiptext\"></span>\n",
       "                        </div></th><th><div class=\"djtooltip\">\n",
       "                            <p id=\"nonprimary\">precluster_method</p>\n",
       "                            <span class=\"djtooltiptext\"></span>\n",
       "                        </div></th><th><div class=\"djtooltip\">\n",
       "                            <p id=\"nonprimary\">paramset_desc</p>\n",
       "                            <span class=\"djtooltiptext\"></span>\n",
       "                        </div></th><th><div class=\"djtooltip\">\n",
       "                            <p id=\"nonprimary\">param_set_hash</p>\n",
       "                            <span class=\"djtooltiptext\"></span>\n",
       "                        </div></th><th><div class=\"djtooltip\">\n",
       "                            <p id=\"nonprimary\">params</p>\n",
       "                            <span class=\"djtooltiptext\">dictionary of all applicable parameters</span>\n",
       "                        </div> </th> </tr> </thead>\n",
       "            <tbody> <tr> <td>0</td>\n",
       "<td>catgt</td>\n",
       "<td>Spike sorting using Kilosort2</td>\n",
       "<td>4271fe75-1732-5821-0070-45b4c286e867</td>\n",
       "<td>=BLOB=</td> </tr> </tbody>\n",
       "        </table>\n",
       "        \n",
       "        <p>Total: 1</p></div>\n",
       "        "
      ],
      "text/plain": [
       "*paramset_idx  precluster_met paramset_desc  param_set_hash params    \n",
       "+------------+ +------------+ +------------+ +------------+ +--------+\n",
       "0              catgt          Spike sorting  4271fe75-1732- =BLOB=    \n",
       " (Total: 1)"
      ]
     },
     "execution_count": 5,
     "metadata": {},
     "output_type": "execute_result"
    }
   ],
   "source": [
    "cat_gt_params =  {\n",
    "      \"apfilter\": [\"biquad\",2,300,0],\n",
    "      \"gfix\": [0.40,0.10,0.02],\n",
    "      \"extras\": [\"prb_fld\", \"t_miss_ok\", \"ap\", \"gblcar\", \"out_prb_fld\"]\n",
    "   }\n",
    " \n",
    "ephys_element.PreClusterParamSet.insert_new_params(\n",
    "    precluster_method='catgt',\n",
    "    paramset_idx=0,\n",
    "    params=cat_gt_params,\n",
    "    paramset_desc='Spike sorting using Kilosort2')\n",
    " \n",
    "ephys_element.PreClusterParamSet()\n"
   ]
  },
  {
   "cell_type": "code",
   "execution_count": 6,
   "metadata": {},
   "outputs": [
    {
     "data": {
      "text/html": [
       "\n",
       "    \n",
       "    <style type=\"text/css\">\n",
       "        .Relation{\n",
       "            border-collapse:collapse;\n",
       "        }\n",
       "        .Relation th{\n",
       "            background: #A0A0A0; color: #ffffff; padding:4px; border:#f0e0e0 1px solid;\n",
       "            font-weight: normal; font-family: monospace; font-size: 100%;\n",
       "        }\n",
       "        .Relation td{\n",
       "            padding:4px; border:#f0e0e0 1px solid; font-size:100%;\n",
       "        }\n",
       "        .Relation tr:nth-child(odd){\n",
       "            background: #ffffff;\n",
       "        }\n",
       "        .Relation tr:nth-child(even){\n",
       "            background: #f3f1ff;\n",
       "        }\n",
       "        /* Tooltip container */\n",
       "        .djtooltip {\n",
       "        }\n",
       "        /* Tooltip text */\n",
       "        .djtooltip .djtooltiptext {\n",
       "            visibility: hidden;\n",
       "            width: 120px;\n",
       "            background-color: black;\n",
       "            color: #fff;\n",
       "            text-align: center;\n",
       "            padding: 5px 0;\n",
       "            border-radius: 6px;\n",
       "            /* Position the tooltip text - see examples below! */\n",
       "            position: absolute;\n",
       "            z-index: 1;\n",
       "        }\n",
       "        #primary {\n",
       "            font-weight: bold;\n",
       "            color: black;\n",
       "        }\n",
       "        #nonprimary {\n",
       "            font-weight: normal;\n",
       "            color: white;\n",
       "        }\n",
       "\n",
       "        /* Show the tooltip text when you mouse over the tooltip container */\n",
       "        .djtooltip:hover .djtooltiptext {\n",
       "            visibility: visible;\n",
       "        }\n",
       "    </style>\n",
       "    \n",
       "    <b></b>\n",
       "        <div style=\"max-height:1000px;max-width:1500px;overflow:auto;\">\n",
       "        <table border=\"1\" class=\"Relation\">\n",
       "            <thead> <tr style=\"text-align: right;\"> <th> <div class=\"djtooltip\">\n",
       "                            <p id=\"primary\">precluster_param_list_id</p>\n",
       "                            <span class=\"djtooltiptext\"></span>\n",
       "                        </div></th><th><div class=\"djtooltip\">\n",
       "                            <p id=\"primary\">order_id</p>\n",
       "                            <span class=\"djtooltiptext\">Order of operations</span>\n",
       "                        </div></th><th><div class=\"djtooltip\">\n",
       "                            <p id=\"nonprimary\">paramset_idx</p>\n",
       "                            <span class=\"djtooltiptext\"></span>\n",
       "                        </div> </th> </tr> </thead>\n",
       "            <tbody> <tr> <td>0</td>\n",
       "<td>1</td>\n",
       "<td>0</td> </tr> </tbody>\n",
       "        </table>\n",
       "        \n",
       "        <p>Total: 1</p></div>\n",
       "        "
      ],
      "text/plain": [
       "*precluster_pa *order_id    paramset_idx  \n",
       "+------------+ +----------+ +------------+\n",
       "0              1            0             \n",
       " (Total: 1)"
      ]
     },
     "execution_count": 6,
     "metadata": {},
     "output_type": "execute_result"
    }
   ],
   "source": [
    "paramlist = {'precluster_param_list_id':0}\n",
    "ephys_element.PreClusterParamList.insert1(paramlist)\n",
    "\n",
    "paramorder = {\n",
    "'precluster_param_list_id': 0,\n",
    "'order_id': 1,\n",
    "'paramset_idx': 0\n",
    "}\n",
    "ephys_element.PreClusterParamList.ParamOrder.insert1(paramorder)\n",
    "\n",
    "ephys_element.PreClusterParamList.ParamOrder()\n"
   ]
  },
  {
   "cell_type": "code",
   "execution_count": 4,
   "metadata": {},
   "outputs": [
    {
     "data": {
      "text/html": [
       "\n",
       "    \n",
       "    <style type=\"text/css\">\n",
       "        .Relation{\n",
       "            border-collapse:collapse;\n",
       "        }\n",
       "        .Relation th{\n",
       "            background: #A0A0A0; color: #ffffff; padding:4px; border:#f0e0e0 1px solid;\n",
       "            font-weight: normal; font-family: monospace; font-size: 100%;\n",
       "        }\n",
       "        .Relation td{\n",
       "            padding:4px; border:#f0e0e0 1px solid; font-size:100%;\n",
       "        }\n",
       "        .Relation tr:nth-child(odd){\n",
       "            background: #ffffff;\n",
       "        }\n",
       "        .Relation tr:nth-child(even){\n",
       "            background: #f3f1ff;\n",
       "        }\n",
       "        /* Tooltip container */\n",
       "        .djtooltip {\n",
       "        }\n",
       "        /* Tooltip text */\n",
       "        .djtooltip .djtooltiptext {\n",
       "            visibility: hidden;\n",
       "            width: 120px;\n",
       "            background-color: black;\n",
       "            color: #fff;\n",
       "            text-align: center;\n",
       "            padding: 5px 0;\n",
       "            border-radius: 6px;\n",
       "            /* Position the tooltip text - see examples below! */\n",
       "            position: absolute;\n",
       "            z-index: 1;\n",
       "        }\n",
       "        #primary {\n",
       "            font-weight: bold;\n",
       "            color: black;\n",
       "        }\n",
       "        #nonprimary {\n",
       "            font-weight: normal;\n",
       "            color: white;\n",
       "        }\n",
       "\n",
       "        /* Show the tooltip text when you mouse over the tooltip container */\n",
       "        .djtooltip:hover .djtooltiptext {\n",
       "            visibility: visible;\n",
       "        }\n",
       "    </style>\n",
       "    \n",
       "    <b>Parameter set to be used in a clustering procedure</b>\n",
       "        <div style=\"max-height:1000px;max-width:1500px;overflow:auto;\">\n",
       "        <table border=\"1\" class=\"Relation\">\n",
       "            <thead> <tr style=\"text-align: right;\"> <th> <div class=\"djtooltip\">\n",
       "                            <p id=\"primary\">paramset_idx</p>\n",
       "                            <span class=\"djtooltiptext\"></span>\n",
       "                        </div></th><th><div class=\"djtooltip\">\n",
       "                            <p id=\"nonprimary\">clustering_method</p>\n",
       "                            <span class=\"djtooltiptext\"></span>\n",
       "                        </div></th><th><div class=\"djtooltip\">\n",
       "                            <p id=\"nonprimary\">paramset_desc</p>\n",
       "                            <span class=\"djtooltiptext\"></span>\n",
       "                        </div></th><th><div class=\"djtooltip\">\n",
       "                            <p id=\"nonprimary\">param_set_hash</p>\n",
       "                            <span class=\"djtooltiptext\"></span>\n",
       "                        </div></th><th><div class=\"djtooltip\">\n",
       "                            <p id=\"nonprimary\">params</p>\n",
       "                            <span class=\"djtooltiptext\">dictionary of all applicable parameters</span>\n",
       "                        </div> </th> </tr> </thead>\n",
       "            <tbody> <tr> <td>0</td>\n",
       "<td>kilosort2</td>\n",
       "<td>Spike sorting using Kilosort2</td>\n",
       "<td>b9e07e55-95ea-3463-a740-90291de41da6</td>\n",
       "<td>=BLOB=</td> </tr> </tbody>\n",
       "        </table>\n",
       "        \n",
       "        <p>Total: 1</p></div>\n",
       "        "
      ],
      "text/plain": [
       "*paramset_idx  clustering_met paramset_desc  param_set_hash params    \n",
       "+------------+ +------------+ +------------+ +------------+ +--------+\n",
       "0              kilosort2      Spike sorting  b9e07e55-95ea- =BLOB=    \n",
       " (Total: 1)"
      ]
     },
     "execution_count": 4,
     "metadata": {},
     "output_type": "execute_result"
    }
   ],
   "source": [
    "params = {\n",
    " \"fs\": 30000,\n",
    " \"fshigh\": 150,\n",
    " \"minfr_goodchannels\": 0.1,\n",
    " \"Th\": [10, 4],\n",
    " \"lam\": 10,\n",
    " \"AUCsplit\": 0.9,\n",
    " \"minFR\": 0.02,\n",
    " \"momentum\": [20, 400],\n",
    " \"sigmaMask\": 30,\n",
    " \"ThPre\": 8,\n",
    " \"CAR\": 1, \n",
    " \"spkTh\": -6,\n",
    " \"reorder\": 1,\n",
    " \"nskip\": 25,\n",
    " \"GPU\": 1,\n",
    " \"Nfilt\": 1024,\n",
    " \"nfilt_factor\": 4,\n",
    " \"ntbuff\": 64,\n",
    " \"NT\": 32832,\n",
    " \"whiteningRange\": 32,\n",
    " \"nSkipCov\": 25,\n",
    " \"scaleproc\": 200,\n",
    " \"nPCs\": 3,\n",
    " \"useRAM\": 0,\n",
    " \"trange\": [0, 1000000000],\n",
    "\"NchanTOT\": 384\n",
    "}\n",
    "\n",
    "ephys_element.ClusteringParamSet.insert_new_params(\n",
    "    processing_method='kilosort2',\n",
    "    paramset_idx=0,\n",
    "    params=params,\n",
    "    paramset_desc='Spike sorting using Kilosort2')\n",
    "ephys_element.ClusteringParamSet()\n",
    "\n"
   ]
  },
  {
   "cell_type": "code",
   "execution_count": 5,
   "metadata": {},
   "outputs": [
    {
     "data": {
      "text/plain": [
       "[{'recording_id': 39,\n",
       "  'insertion_number': 0,\n",
       "  'file_path': 'ms81/ms81_M011/20211116/TowersTask_g0/TowersTask_g0_imec0/TowersTask_g0_t0.imec0.ap.meta'},\n",
       " {'recording_id': 39,\n",
       "  'insertion_number': 1,\n",
       "  'file_path': 'ms81/ms81_M011/20211116/TowersTask_g0/TowersTask_g0_imec1/TowersTask_g0_t0.imec1.ap.meta'},\n",
       " {'recording_id': 39,\n",
       "  'insertion_number': 2,\n",
       "  'file_path': 'ms81/ms81_M011/20211116/TowersTask_g0/TowersTask_g0_imec2/TowersTask_g0_t0.imec2.ap.meta'}]"
      ]
     },
     "execution_count": 5,
     "metadata": {},
     "output_type": "execute_result"
    }
   ],
   "source": [
    "rec_series = dict()\n",
    "rec_series['query_key'] = {'recording_id': 39}\n",
    "\n",
    "import u19_pipeline.ephys_pipeline as ephys_pipeline\n",
    "import u19_pipeline.recording_process as recording_process\n",
    "\n",
    "probe_files = (ephys_pipeline.ephys_element.EphysRecording.EphysFile & rec_series['query_key']).fetch(\"KEY\")\n",
    "probe_files\n",
    "\n",
    "#recording_process.Processing().insert_recording_process(probe_files, 'insertion_number')"
   ]
  },
  {
   "cell_type": "code",
   "execution_count": 3,
   "metadata": {
    "tags": []
   },
   "outputs": [
    {
     "name": "stdout",
     "output_type": "stream",
     "text": [
      "function to apply: modality_preingestion\n",
      "sess_dir sess_dir /Volumes/braininit/Data/Raw/electrophysiology/ms81/ms81_M011/20211116/TowersTask_g0\n",
      "this_recprocess_key [{'recording_id': 39, 'fragment_number': 0, 'status_processing_id': 0}, {'recording_id': 39, 'fragment_number': 1, 'status_processing_id': 0}, {'recording_id': 39, 'fragment_number': 2, 'status_processing_id': 0}]\n"
     ]
    }
   ],
   "source": [
    "l = rec_handler.RecordingHandler.pipeline_handler_main()"
   ]
  },
  {
   "cell_type": "code",
   "execution_count": 16,
   "metadata": {},
   "outputs": [
    {
     "name": "stdout",
     "output_type": "stream",
     "text": [
      "scp u19_pipeline/automatic_job/ParameterFiles/preprocess_paramset_103.json alvaros@tigergpu.princeton.edu:/scratch/gpfs/BRAINCOGS/ParameterFiles/preprocess_paramset_103.json\n",
      "0\n",
      "scp u19_pipeline/automatic_job/ParameterFiles/process_paramset_103.json alvaros@tigergpu.princeton.edu:/scratch/gpfs/BRAINCOGS/ParameterFiles/process_paramset_103.json\n",
      "0\n",
      "scp u19_pipeline/automatic_job/SlurmFiles/slurm_real.slurm alvaros@tigergpu.princeton.edu:/scratch/gpfs/BRAINCOGS/SlurmFiles/slurm_real.slurm\n",
      "0\n",
      "['ssh', 'alvaros@tigergpu.princeton.edu', 'sbatch', \"--export=recording_process_id=103,raw_data_directory='ms81/ms81_M011/20211120/TowersTask_g0/TowersTask_g0_imec3',processed_data_directory='ms81/ms81_M011/20211120/TowersTask_g0/TowersTask_g0_imec3/recording_process_id_103',repository_dir='/scratch/gpfs/BRAINCOGS/electorphysiology_processing/BrainCogsEphysSorters',process_script_path='main_script.py'\", '/scratch/gpfs/BRAINCOGS/SlurmFiles/slurm_real.slurm']\n",
      "stdout Submitted batch job 8489313\n",
      "\n",
      "stderr \n",
      "p.returncode 0\n",
      "batch_job_sentence Submitted batch job 8489313\n",
      "\n",
      "update_dict {'value_update': '8489313', 'error_info': None}\n",
      "key to update {'recording_id': 40, 'recording_process_id': 103}\n",
      "old status 2 new status 3\n",
      "value_update 8489313 field_update slurm_id\n",
      "function executed: slurm_job_queue\n"
     ]
    }
   ],
   "source": [
    "l = rec_process_handler.RecProcessHandler.pipeline_handler_main()"
   ]
  },
  {
   "cell_type": "code",
   "execution_count": 8,
   "metadata": {},
   "outputs": [
    {
     "name": "stdout",
     "output_type": "stream",
     "text": [
      "[[(array([[2.]]), array(['kilosort2'], dtype='<U9'))]]\n",
      "<class 'datajoint.blob.MatStruct'>\n",
      "soy ndarray\n",
      "soy ndarray\n"
     ]
    }
   ],
   "source": [
    "keyo = dict()\n",
    "keyo['preprocess_paramset_idx'] = 1\n",
    "a = recording.PreprocessParamSet()\n",
    "lo = a.get_preprocess_params(keyo)\n",
    "\n",
    "keyo2 = dict()\n",
    "keyo2['process_paramset_idx'] = 1\n",
    "b = recording.ProcessParamSet()\n",
    "lu = b.get_process_params(keyo2)\n",
    "\n"
   ]
  },
  {
   "cell_type": "code",
   "execution_count": 12,
   "metadata": {},
   "outputs": [
    {
     "data": {
      "image/svg+xml": "<svg height=\"476pt\" viewBox=\"0.00 0.00 1027.19 476.00\" width=\"1027pt\" xmlns=\"http://www.w3.org/2000/svg\" xmlns:xlink=\"http://www.w3.org/1999/xlink\">\n<g class=\"graph\" id=\"graph0\" transform=\"scale(1 1) rotate(0) translate(4 472)\">\n<title>%3</title>\n<polygon fill=\"white\" points=\"-4,5 -4,-472 1024.19,-472 1024.19,5 -4,5\" stroke=\"white\"/>\n<!-- 2 -->\n<g class=\"node\" id=\"node1\"><title>2</title>\n<ellipse cx=\"766\" cy=\"-378\" fill=\"#ff8800\" fill-opacity=\"0.501961\" rx=\"12.0312\" ry=\"12.0417\" stroke=\"#ff8800\" stroke-opacity=\"0.501961\"/>\n<text fill=\"#ff8800\" font-family=\"arial\" font-size=\"1.00\" text-anchor=\"middle\" x=\"766\" y=\"-377.7\">2</text>\n</g>\n<!-- recording.acquisition.Session -->\n<g class=\"node\" id=\"node11\"><title>recording.acquisition.Session</title>\n<g id=\"a_node11\"><a xlink:title=\"→ recording.acquisition.SessionStarted\r------------------------------\rsession_start_time   \rsession_end_time=null \r→ recording.lab.Location.proj(session_location=&quot;location&quot;)\r→ recording.task.TaskLevelParameterSet\rstimulus_bank=&quot;&quot;     \rstimulus_commit=&quot;&quot;   \rsession_performance  \rnum_trials=null      \rnum_trials_try=null  \rsession_narrative=&quot;&quot; \rsession_protocol=null \rsession_code_version=null \ris_bad_session=null  \rsession_comments=null \r\">\n<polygon fill=\"#00ff00\" fill-opacity=\"0.188235\" points=\"870,-251.5 696,-251.5 696,-216.5 870,-216.5 870,-251.5\" stroke=\"#00ff00\" stroke-opacity=\"0.188235\"/>\n<text fill=\"darkgreen\" font-family=\"arial\" font-size=\"12.00\" text-anchor=\"middle\" x=\"783\" y=\"-230.9\">recording.acquisition.Session</text>\n</a>\n</g>\n</g>\n<!-- 2&#45;&gt;recording.acquisition.Session -->\n<g class=\"edge\" id=\"edge1\"><title>2-&gt;recording.acquisition.Session</title>\n<path d=\"M767.334,-365.857C770.308,-341.013 777.497,-280.965 781.006,-251.654\" fill=\"none\" stroke=\"#000000\" stroke-dasharray=\"5,2\" stroke-opacity=\"0.250980\" stroke-width=\"0.75\"/>\n</g>\n<!-- 0 -->\n<g class=\"node\" id=\"node2\"><title>0</title>\n<ellipse cx=\"60\" cy=\"-162\" fill=\"#ff8800\" fill-opacity=\"0.501961\" rx=\"12.0312\" ry=\"12.0417\" stroke=\"#ff8800\" stroke-opacity=\"0.501961\"/>\n<text fill=\"#ff8800\" font-family=\"arial\" font-size=\"1.00\" text-anchor=\"middle\" x=\"60\" y=\"-161.7\">0</text>\n</g>\n<!-- recording.RecordingProcessStatus -->\n<g class=\"node\" id=\"node5\"><title>recording.RecordingProcessStatus</title>\n<g id=\"a_node5\"><a xlink:title=\"recording_process_status_id \r------------------------------\r→ recording.RecordingProcess\r→ recording.StatusProcessDefinition.proj(status_pipeline_idx_old=&quot;status_pipeline_idx&quot;)\r→ recording.StatusProcessDefinition.proj(status_pipeline_idx_new=&quot;status_pipeline_idx&quot;)\rstatus_timestamp     \rerror_message=null   \rerror_exception=null \r\">\n<polygon fill=\"#00ff00\" fill-opacity=\"0.188235\" points=\"204,-107.5 0,-107.5 0,-72.5 204,-72.5 204,-107.5\" stroke=\"#00ff00\" stroke-opacity=\"0.188235\"/>\n<text fill=\"darkgreen\" font-family=\"arial\" font-size=\"12.00\" text-anchor=\"start\" text-decoration=\"underline\" x=\"8.5\" y=\"-87.9\">recording.RecordingProcessStatus</text>\n</a>\n</g>\n</g>\n<!-- 0&#45;&gt;recording.RecordingProcessStatus -->\n<g class=\"edge\" id=\"edge2\"><title>0-&gt;recording.RecordingProcessStatus</title>\n<path d=\"M65.8399,-151.267C72.6019,-139.997 83.8543,-121.243 92.0133,-107.644\" fill=\"none\" stroke=\"#000000\" stroke-dasharray=\"5,2\" stroke-opacity=\"0.250980\" stroke-width=\"0.75\"/>\n</g>\n<!-- 1 -->\n<g class=\"node\" id=\"node3\"><title>1</title>\n<ellipse cx=\"102\" cy=\"-162\" fill=\"#ff8800\" fill-opacity=\"0.501961\" rx=\"12.0312\" ry=\"12.0417\" stroke=\"#ff8800\" stroke-opacity=\"0.501961\"/>\n<text fill=\"#ff8800\" font-family=\"arial\" font-size=\"1.00\" text-anchor=\"middle\" x=\"102\" y=\"-161.7\">1</text>\n</g>\n<!-- 1&#45;&gt;recording.RecordingProcessStatus -->\n<g class=\"edge\" id=\"edge3\"><title>1-&gt;recording.RecordingProcessStatus</title>\n<path d=\"M102,-149.753C102,-138.391 102,-120.705 102,-107.704\" fill=\"none\" stroke=\"#000000\" stroke-dasharray=\"5,2\" stroke-opacity=\"0.250980\" stroke-width=\"0.75\"/>\n</g>\n<!-- recording.RecordingProcess -->\n<g class=\"node\" id=\"node4\"><title>recording.RecordingProcess</title>\n<g id=\"a_node4\"><a xlink:title=\"recording_process_id \r------------------------------\r→ recording.Recording\r→ recording.StatusProcessDefinition\r→ recording.PreprocessParamSet\r→ recording.ProcessParamSet\rrecording_process_pre_path=null : varchar(200)                 # relative path for raw data recording subdirectory that will be processed (ephys→ probe, imaging→fieldofview)\rrecording_process_post_path=null \rtask_copy_id_pre=null : UUID                         # id for globus transfer task raw file cup→tiger\rtask_copy_id_post=null : UUID                         # id for globus transfer task sorted file tiger→cup\rslurm_id=null        \r\">\n<polygon fill=\"#00ff00\" fill-opacity=\"0.188235\" points=\"302,-179.5 132,-179.5 132,-144.5 302,-144.5 302,-179.5\" stroke=\"#00ff00\" stroke-opacity=\"0.188235\"/>\n<text fill=\"darkgreen\" font-family=\"arial\" font-size=\"12.00\" text-anchor=\"start\" text-decoration=\"underline\" x=\"140.5\" y=\"-159.9\">recording.RecordingProcess</text>\n</a>\n</g>\n</g>\n<!-- recording.RecordingProcess&#45;&gt;recording.RecordingProcessStatus -->\n<g class=\"edge\" id=\"edge4\"><title>recording.RecordingProcess-&gt;recording.RecordingProcessStatus</title>\n<path d=\"M189.747,-144.411C171.548,-133.333 147.697,-118.816 129.456,-107.713\" fill=\"none\" stroke=\"#000000\" stroke-dasharray=\"5,2\" stroke-opacity=\"0.250980\" stroke-width=\"0.75\"/>\n</g>\n<!-- ephys.EphysProcessing -->\n<g class=\"node\" id=\"node18\"><title>ephys.EphysProcessing</title>\n<g id=\"a_node18\"><a xlink:title=\"→ recording.RecordingProcess\r------------------------------\r→ ephys.EphysRecordingProbes\r\">\n<polygon fill=\"#00ff00\" fill-opacity=\"0.188235\" points=\"402,-35.5 256,-35.5 256,-0.5 402,-0.5 402,-35.5\" stroke=\"#00ff00\" stroke-opacity=\"0.188235\"/>\n<text fill=\"darkgreen\" font-family=\"arial\" font-size=\"12.00\" text-anchor=\"middle\" x=\"329\" y=\"-14.9\">ephys.EphysProcessing</text>\n</a>\n</g>\n</g>\n<!-- recording.RecordingProcess&#45;&gt;ephys.EphysProcessing -->\n<g class=\"edge\" id=\"edge5\"><title>recording.RecordingProcess-&gt;ephys.EphysProcessing</title>\n<path d=\"M226.468,-144.182C237.199,-125.711 255.72,-95.5439 275,-72 285.736,-58.8894 299.364,-45.534 310.243,-35.5096\" fill=\"none\" stroke=\"#000000\" stroke-opacity=\"0.250980\" stroke-width=\"2\"/>\n</g>\n<!-- recording.Recording -->\n<g class=\"node\" id=\"node6\"><title>recording.Recording</title>\n<g id=\"a_node6\"><a xlink:title=\"recording_id         \r------------------------------\r→ recording.RecordingModality\r→ recording.lab.Location\r→ recording.StatusRecordingDefinition\r→ recording.PreprocessParamSet\r→ recording.ProcessParamSet\rtask_copy_id_pni=null : UUID                         # id for globus transfer task raw file local→cup\rinherit_params_recording=1 \rrecording_directory  \rlocal_directory      \r\">\n<polygon fill=\"#00ff00\" fill-opacity=\"0.188235\" points=\"678,-251.5 552,-251.5 552,-216.5 678,-216.5 678,-251.5\" stroke=\"#00ff00\" stroke-opacity=\"0.188235\"/>\n<text fill=\"darkgreen\" font-family=\"arial\" font-size=\"12.00\" text-anchor=\"start\" text-decoration=\"underline\" x=\"560.5\" y=\"-231.9\">recording.Recording</text>\n</a>\n</g>\n</g>\n<!-- recording.Recording&#45;&gt;recording.RecordingProcess -->\n<g class=\"edge\" id=\"edge6\"><title>recording.Recording-&gt;recording.RecordingProcess</title>\n<path d=\"M551.807,-222.102C490.304,-211.468 394.211,-194.778 311,-180 308.061,-179.478 305.07,-178.945 302.05,-178.406\" fill=\"none\" stroke=\"#000000\" stroke-dasharray=\"5,2\" stroke-opacity=\"0.250980\" stroke-width=\"0.75\"/>\n</g>\n<!-- recording.Recording.BehaviorSession -->\n<g class=\"node\" id=\"node8\"><title>recording.Recording.BehaviorSession</title>\n<g id=\"a_node8\"><a xlink:title=\"→ recording.Recording\r------------------------------\r→ recording.acquisition.Session\r\">\n<polygon fill=\"none\" points=\"716.25,-171.5 537.75,-171.5 537.75,-152.5 716.25,-152.5 716.25,-171.5\" stroke=\"none\"/>\n<text font-family=\"arial\" font-size=\"10.00\" text-anchor=\"middle\" x=\"627\" y=\"-159.5\">recording.Recording.BehaviorSession</text>\n</a>\n</g>\n</g>\n<!-- recording.Recording&#45;&gt;recording.Recording.BehaviorSession -->\n<g class=\"edge\" id=\"edge7\"><title>recording.Recording-&gt;recording.Recording.BehaviorSession</title>\n<path d=\"M617.844,-216.411C620.256,-202.341 623.619,-182.723 625.526,-171.599\" fill=\"none\" stroke=\"#000000\" stroke-opacity=\"0.250980\" stroke-width=\"2\"/>\n</g>\n<!-- recording.Recording.RecordingSession -->\n<g class=\"node\" id=\"node10\"><title>recording.Recording.RecordingSession</title>\n<g id=\"a_node10\"><a xlink:title=\"→ recording.Recording\r------------------------------\r→ recording.subject.Subject\rrecording_datetime   \r\">\n<polygon fill=\"none\" points=\"919.25,-171.5 734.75,-171.5 734.75,-152.5 919.25,-152.5 919.25,-171.5\" stroke=\"none\"/>\n<text font-family=\"arial\" font-size=\"10.00\" text-anchor=\"middle\" x=\"827\" y=\"-159.5\">recording.Recording.RecordingSession</text>\n</a>\n</g>\n</g>\n<!-- recording.Recording&#45;&gt;recording.Recording.RecordingSession -->\n<g class=\"edge\" id=\"edge8\"><title>recording.Recording-&gt;recording.Recording.RecordingSession</title>\n<path d=\"M664.973,-216.5C707.695,-202.393 767.458,-182.66 801.181,-171.525\" fill=\"none\" stroke=\"#000000\" stroke-opacity=\"0.250980\" stroke-width=\"2\"/>\n</g>\n<!-- ephys.EphysRecording -->\n<g class=\"node\" id=\"node19\"><title>ephys.EphysRecording</title>\n<g id=\"a_node19\"><a xlink:title=\"→ recording.Recording\r\">\n<ellipse cx=\"420\" cy=\"-162\" fill=\"#ff0000\" fill-opacity=\"0.125490\" rx=\"99.5528\" ry=\"14.7\" stroke=\"#ff0000\" stroke-opacity=\"0.125490\"/>\n<text fill=\"#7f0000\" font-family=\"arial\" font-size=\"12.00\" text-anchor=\"middle\" x=\"420\" y=\"-158.9\">ephys.EphysRecording</text>\n</a>\n</g>\n</g>\n<!-- recording.Recording&#45;&gt;ephys.EphysRecording -->\n<g class=\"edge\" id=\"edge9\"><title>recording.Recording-&gt;ephys.EphysRecording</title>\n<path d=\"M568.788,-216.411C534.212,-203.999 487.606,-187.269 455.828,-175.861\" fill=\"none\" stroke=\"#000000\" stroke-opacity=\"0.250980\" stroke-width=\"2\"/>\n</g>\n<!-- recording.StatusRecordingDefinition -->\n<g class=\"node\" id=\"node7\"><title>recording.StatusRecordingDefinition</title>\n<g id=\"a_node7\"><a xlink:title=\"status_recording_idx \r------------------------------\rstatus_definition    \r\">\n<polygon fill=\"#000000\" fill-opacity=\"0.125490\" points=\"697.25,-323.5 524.75,-323.5 524.75,-288.5 697.25,-288.5 697.25,-323.5\" stroke=\"none\"/>\n<text font-family=\"arial\" font-size=\"10.00\" text-anchor=\"start\" text-decoration=\"underline\" x=\"533\" y=\"-304.5\">recording.StatusRecordingDefinition</text>\n</a>\n</g>\n</g>\n<!-- recording.StatusRecordingDefinition&#45;&gt;recording.Recording -->\n<g class=\"edge\" id=\"edge10\"><title>recording.StatusRecordingDefinition-&gt;recording.Recording</title>\n<path d=\"M611.948,-288.411C612.576,-277.414 613.398,-263.027 614.031,-251.956\" fill=\"none\" stroke=\"#000000\" stroke-dasharray=\"5,2\" stroke-opacity=\"0.250980\" stroke-width=\"0.75\"/>\n</g>\n<!-- recording.ProcessParamSet -->\n<g class=\"node\" id=\"node9\"><title>recording.ProcessParamSet</title>\n<g id=\"a_node9\"><a xlink:title=\"process_paramset_idx \r------------------------------\r→ recording.RecordingModality\rprocess_paramset_desc \rprocess_paramset_hash \rprocess_paramset     \rUNIQUE INDEX (process_paramset_hash)\r\">\n<polygon fill=\"#000000\" fill-opacity=\"0.125490\" points=\"296,-323.5 156,-323.5 156,-288.5 296,-288.5 296,-323.5\" stroke=\"none\"/>\n<text font-family=\"arial\" font-size=\"10.00\" text-anchor=\"start\" text-decoration=\"underline\" x=\"164.5\" y=\"-304.5\">recording.ProcessParamSet</text>\n</a>\n</g>\n</g>\n<!-- recording.ProcessParamSet&#45;&gt;recording.RecordingProcess -->\n<g class=\"edge\" id=\"edge11\"><title>recording.ProcessParamSet-&gt;recording.RecordingProcess</title>\n<path d=\"M224.95,-288.433C223.225,-261.217 219.81,-207.334 218.071,-179.902\" fill=\"none\" stroke=\"#000000\" stroke-dasharray=\"5,2\" stroke-opacity=\"0.250980\" stroke-width=\"0.75\"/>\n</g>\n<!-- recording.ProcessParamSet&#45;&gt;recording.Recording -->\n<g class=\"edge\" id=\"edge12\"><title>recording.ProcessParamSet-&gt;recording.Recording</title>\n<path d=\"M296.18,-289.736C299.157,-289.139 302.107,-288.558 305,-288 390.242,-271.549 489.182,-255.088 551.922,-244.976\" fill=\"none\" stroke=\"#000000\" stroke-dasharray=\"5,2\" stroke-opacity=\"0.250980\" stroke-width=\"0.75\"/>\n</g>\n<!-- recording.acquisition.Session&#45;&gt;recording.Recording.BehaviorSession -->\n<g class=\"edge\" id=\"edge13\"><title>recording.acquisition.Session-&gt;recording.Recording.BehaviorSession</title>\n<path d=\"M746.03,-216.411C714.675,-202.341 670.954,-182.723 646.163,-171.599\" fill=\"none\" stroke=\"#000000\" stroke-dasharray=\"5,2\" stroke-opacity=\"0.250980\" stroke-width=\"0.75\"/>\n</g>\n<!-- recording.lab.Location -->\n<g class=\"node\" id=\"node12\"><title>recording.lab.Location</title>\n<g id=\"a_node12\"><a xlink:title=\"location             \r------------------------------\r→ [nullable] `u19_lab`.`#acquisition_type`\rlocation_description=&quot;&quot; \rbucket_default_path=null \rimaging_bucket_default_path=null \rephys_bucket_default_path=null \r\">\n<polygon fill=\"#000000\" fill-opacity=\"0.125490\" points=\"822.25,-467.5 709.75,-467.5 709.75,-432.5 822.25,-432.5 822.25,-467.5\" stroke=\"none\"/>\n<text font-family=\"arial\" font-size=\"10.00\" text-anchor=\"start\" text-decoration=\"underline\" x=\"718\" y=\"-448.5\">recording.lab.Location</text>\n</a>\n</g>\n</g>\n<!-- recording.lab.Location&#45;&gt;2 -->\n<g class=\"edge\" id=\"edge14\"><title>recording.lab.Location-&gt;2</title>\n<path d=\"M766,-432.411C766,-419.474 766,-401.844 766,-390.442\" fill=\"none\" stroke=\"#000000\" stroke-dasharray=\"5,2\" stroke-opacity=\"0.250980\" stroke-width=\"0.75\"/>\n</g>\n<!-- recording.lab.Location&#45;&gt;recording.Recording -->\n<g class=\"edge\" id=\"edge15\"><title>recording.lab.Location-&gt;recording.Recording</title>\n<path d=\"M759.248,-432.342C755.064,-421.928 749.625,-408.218 745,-396 726.932,-348.272 738.68,-327.198 706,-288 692.887,-272.272 673.83,-260.162 656.54,-251.514\" fill=\"none\" stroke=\"#000000\" stroke-dasharray=\"5,2\" stroke-opacity=\"0.250980\" stroke-width=\"0.75\"/>\n</g>\n<!-- recording.subject.Subject -->\n<g class=\"node\" id=\"node17\"><title>recording.subject.Subject</title>\n<g id=\"a_node17\"><a xlink:title=\"subject_fullname     \r------------------------------\rsubject_nickname     \r→ recording.lab.User\rgenomics_id=null     \rsex=&quot;Unknown&quot;        \rdob=null             \rhead_plate_mark=null \r→ recording.lab.Location\r→ [nullable] recording.lab.Protocol\r→ [nullable] recording.subject.Line\rsubject_description=&quot;&quot; \rinitial_weight=null  \rnotification_enabled=1 \rneed_reweight=0      \r\">\n<polygon fill=\"#00ff00\" fill-opacity=\"0.188235\" points=\"974.25,-395.5 821.75,-395.5 821.75,-360.5 974.25,-360.5 974.25,-395.5\" stroke=\"#00ff00\" stroke-opacity=\"0.188235\"/>\n<text fill=\"darkgreen\" font-family=\"arial\" font-size=\"12.00\" text-anchor=\"start\" text-decoration=\"underline\" x=\"830\" y=\"-375.9\">recording.subject.Subject</text>\n</a>\n</g>\n</g>\n<!-- recording.lab.Location&#45;&gt;recording.subject.Subject -->\n<g class=\"edge\" id=\"edge16\"><title>recording.lab.Location-&gt;recording.subject.Subject</title>\n<path d=\"M797.282,-432.411C818.172,-421.333 845.548,-406.816 866.485,-395.713\" fill=\"none\" stroke=\"#000000\" stroke-dasharray=\"5,2\" stroke-opacity=\"0.250980\" stroke-width=\"0.75\"/>\n</g>\n<!-- recording.RecordingModality -->\n<g class=\"node\" id=\"node13\"><title>recording.RecordingModality</title>\n<g id=\"a_node13\"><a xlink:title=\"recording_modality   \r------------------------------\rmodality_description \rroot_direcory        \rrecording_file_extensions \rrecording_file_pattern \rprocess_unit_file_pattern \rprocess_unit_dir_fieldname \r\">\n<polygon fill=\"#000000\" fill-opacity=\"0.125490\" points=\"461.25,-395.5 320.75,-395.5 320.75,-360.5 461.25,-360.5 461.25,-395.5\" stroke=\"none\"/>\n<text font-family=\"arial\" font-size=\"10.00\" text-anchor=\"start\" text-decoration=\"underline\" x=\"329\" y=\"-376.5\">recording.RecordingModality</text>\n</a>\n</g>\n</g>\n<!-- recording.RecordingModality&#45;&gt;recording.Recording -->\n<g class=\"edge\" id=\"edge17\"><title>recording.RecordingModality-&gt;recording.Recording</title>\n<path d=\"M420.62,-360.391C437.381,-350.541 458.437,-337.392 476,-324 494.758,-309.696 495.752,-301.637 515,-288 534.881,-273.915 558.964,-261.04 578.514,-251.508\" fill=\"none\" stroke=\"#000000\" stroke-dasharray=\"5,2\" stroke-opacity=\"0.250980\" stroke-width=\"0.75\"/>\n</g>\n<!-- recording.RecordingModality&#45;&gt;recording.ProcessParamSet -->\n<g class=\"edge\" id=\"edge18\"><title>recording.RecordingModality-&gt;recording.ProcessParamSet</title>\n<path d=\"M351.897,-360.411C325.69,-349.293 291.316,-334.71 265.108,-323.591\" fill=\"none\" stroke=\"#000000\" stroke-dasharray=\"5,2\" stroke-opacity=\"0.250980\" stroke-width=\"0.75\"/>\n</g>\n<!-- recording.PreprocessParamSet -->\n<g class=\"node\" id=\"node15\"><title>recording.PreprocessParamSet</title>\n<g id=\"a_node15\"><a xlink:title=\"preprocess_paramset_idx \r------------------------------\r→ recording.RecordingModality\rpreprocess_paramset_desc \rpreprocess_paramset_hash \rpreprocess_paramset  \rUNIQUE INDEX (preprocess_paramset_hash)\r\">\n<polygon fill=\"#000000\" fill-opacity=\"0.125490\" points=\"467.25,-323.5 314.75,-323.5 314.75,-288.5 467.25,-288.5 467.25,-323.5\" stroke=\"none\"/>\n<text font-family=\"arial\" font-size=\"10.00\" text-anchor=\"start\" text-decoration=\"underline\" x=\"323\" y=\"-304.5\">recording.PreprocessParamSet</text>\n</a>\n</g>\n</g>\n<!-- recording.RecordingModality&#45;&gt;recording.PreprocessParamSet -->\n<g class=\"edge\" id=\"edge19\"><title>recording.RecordingModality-&gt;recording.PreprocessParamSet</title>\n<path d=\"M391,-360.411C391,-349.414 391,-335.027 391,-323.956\" fill=\"none\" stroke=\"#000000\" stroke-dasharray=\"5,2\" stroke-opacity=\"0.250980\" stroke-width=\"0.75\"/>\n</g>\n<!-- recording.StatusProcessDefinition -->\n<g class=\"node\" id=\"node14\"><title>recording.StatusProcessDefinition</title>\n<g id=\"a_node14\"><a xlink:title=\"status_pipeline_idx  \r------------------------------\rstatus_definition    \r\">\n<polygon fill=\"#000000\" fill-opacity=\"0.125490\" points=\"184.25,-251.5 19.75,-251.5 19.75,-216.5 184.25,-216.5 184.25,-251.5\" stroke=\"none\"/>\n<text font-family=\"arial\" font-size=\"10.00\" text-anchor=\"start\" text-decoration=\"underline\" x=\"28\" y=\"-232.5\">recording.StatusProcessDefinition</text>\n</a>\n</g>\n</g>\n<!-- recording.StatusProcessDefinition&#45;&gt;0 -->\n<g class=\"edge\" id=\"edge20\"><title>recording.StatusProcessDefinition-&gt;0</title>\n<path d=\"M92.0466,-216.411C83.896,-202.827 72.6417,-184.07 65.8675,-172.779\" fill=\"none\" stroke=\"#000000\" stroke-dasharray=\"5,2\" stroke-opacity=\"0.250980\" stroke-width=\"0.75\"/>\n</g>\n<!-- recording.StatusProcessDefinition&#45;&gt;1 -->\n<g class=\"edge\" id=\"edge21\"><title>recording.StatusProcessDefinition-&gt;1</title>\n<path d=\"M102,-216.411C102,-203.474 102,-185.844 102,-174.442\" fill=\"none\" stroke=\"#000000\" stroke-dasharray=\"5,2\" stroke-opacity=\"0.250980\" stroke-width=\"0.75\"/>\n</g>\n<!-- recording.StatusProcessDefinition&#45;&gt;recording.RecordingProcess -->\n<g class=\"edge\" id=\"edge22\"><title>recording.StatusProcessDefinition-&gt;recording.RecordingProcess</title>\n<path d=\"M129.253,-216.411C147.452,-205.333 171.303,-190.816 189.544,-179.713\" fill=\"none\" stroke=\"#000000\" stroke-dasharray=\"5,2\" stroke-opacity=\"0.250980\" stroke-width=\"0.75\"/>\n</g>\n<!-- recording.PreprocessParamSet&#45;&gt;recording.RecordingProcess -->\n<g class=\"edge\" id=\"edge23\"><title>recording.PreprocessParamSet-&gt;recording.RecordingProcess</title>\n<path d=\"M370.699,-288.433C337.261,-261.144 270.97,-207.044 237.44,-179.681\" fill=\"none\" stroke=\"#000000\" stroke-dasharray=\"5,2\" stroke-opacity=\"0.250980\" stroke-width=\"0.75\"/>\n</g>\n<!-- recording.PreprocessParamSet&#45;&gt;recording.Recording -->\n<g class=\"edge\" id=\"edge24\"><title>recording.PreprocessParamSet-&gt;recording.Recording</title>\n<path d=\"M443.801,-288.5C479.5,-277.344 526.46,-262.669 562.166,-251.511\" fill=\"none\" stroke=\"#000000\" stroke-dasharray=\"5,2\" stroke-opacity=\"0.250980\" stroke-width=\"0.75\"/>\n</g>\n<!-- ephys.EphysRecordingProbes -->\n<g class=\"node\" id=\"node16\"><title>ephys.EphysRecordingProbes</title>\n<g id=\"a_node16\"><a xlink:title=\"→ ephys.EphysRecording\rprobe                \r------------------------------\rprobe_directory      \r\">\n<ellipse cx=\"411\" cy=\"-90\" fill=\"#ff0000\" fill-opacity=\"0.125490\" rx=\"126.358\" ry=\"14.7\" stroke=\"#ff0000\" stroke-opacity=\"0.125490\"/>\n<text fill=\"#7f0000\" font-family=\"arial\" font-size=\"12.00\" text-anchor=\"middle\" x=\"411\" y=\"-86.9\">ephys.EphysRecordingProbes</text>\n</a>\n</g>\n</g>\n<!-- ephys.EphysRecordingProbes&#45;&gt;ephys.EphysProcessing -->\n<g class=\"edge\" id=\"edge25\"><title>ephys.EphysRecordingProbes-&gt;ephys.EphysProcessing</title>\n<path d=\"M394.799,-75.1703C381.451,-63.7749 362.484,-47.5836 348.34,-35.5101\" fill=\"none\" stroke=\"#000000\" stroke-dasharray=\"5,2\" stroke-opacity=\"0.250980\" stroke-width=\"0.75\"/>\n</g>\n<!-- recording.subject.Subject&#45;&gt;recording.Recording.RecordingSession -->\n<g class=\"edge\" id=\"edge26\"><title>recording.subject.Subject-&gt;recording.Recording.RecordingSession</title>\n<path d=\"M965.993,-360.457C984.37,-352.542 1002.15,-340.941 1013,-324 1021.63,-310.525 1020.52,-302.121 1013,-288 978.972,-224.134 896.203,-187.086 853.483,-171.601\" fill=\"none\" stroke=\"#000000\" stroke-dasharray=\"5,2\" stroke-opacity=\"0.250980\" stroke-width=\"0.75\"/>\n</g>\n<!-- recording.acquisition.SessionStarted -->\n<g class=\"node\" id=\"node20\"><title>recording.acquisition.SessionStarted</title>\n<g id=\"a_node20\"><a xlink:title=\"→ recording.subject.Subject\rsession_date=&quot;curdate()&quot; \rsession_number       \r------------------------------\rsession_start_time=&quot;current_timestamp()&quot; \r→ recording.lab.Location.proj(session_location=&quot;location&quot;)\r→ recording.task.Task\rlocal_path_behavior_file \rremote_path_behavior_file \ris_finished=0        \rinvalid_session=0    \r%}\r\">\n<polygon fill=\"#00ff00\" fill-opacity=\"0.188235\" points=\"1004,-323.5 792,-323.5 792,-288.5 1004,-288.5 1004,-323.5\" stroke=\"#00ff00\" stroke-opacity=\"0.188235\"/>\n<text fill=\"darkgreen\" font-family=\"arial\" font-size=\"12.00\" text-anchor=\"middle\" x=\"898\" y=\"-302.9\">recording.acquisition.SessionStarted</text>\n</a>\n</g>\n</g>\n<!-- recording.subject.Subject&#45;&gt;recording.acquisition.SessionStarted -->\n<g class=\"edge\" id=\"edge27\"><title>recording.subject.Subject-&gt;recording.acquisition.SessionStarted</title>\n<path d=\"M898,-360.411C898,-349.414 898,-335.027 898,-323.956\" fill=\"none\" stroke=\"#000000\" stroke-opacity=\"0.250980\" stroke-width=\"0.75\"/>\n</g>\n<!-- ephys.EphysRecording&#45;&gt;ephys.EphysRecordingProbes -->\n<g class=\"edge\" id=\"edge28\"><title>ephys.EphysRecording-&gt;ephys.EphysRecordingProbes</title>\n<path d=\"M418.179,-146.834C416.617,-134.69 414.379,-117.283 412.819,-105.144\" fill=\"none\" stroke=\"#000000\" stroke-opacity=\"0.250980\" stroke-width=\"0.75\"/>\n</g>\n<!-- recording.acquisition.SessionStarted&#45;&gt;recording.acquisition.Session -->\n<g class=\"edge\" id=\"edge29\"><title>recording.acquisition.SessionStarted-&gt;recording.acquisition.Session</title>\n<path d=\"M870.747,-288.411C852.548,-277.333 828.697,-262.816 810.456,-251.713\" fill=\"none\" stroke=\"#000000\" stroke-opacity=\"0.250980\" stroke-width=\"2\"/>\n</g>\n</g>\n</svg>",
      "text/plain": [
       "<datajoint.diagram.Diagram at 0x7f01f1337c90>"
      ]
     },
     "execution_count": 12,
     "metadata": {},
     "output_type": "execute_result"
    }
   ],
   "source": [
    "dj.ERD(recording) -1 + dj.ERD(ephys.EphysRecording) + dj.ERD(ephys.EphysProcessing)\n"
   ]
  },
  {
   "cell_type": "code",
   "execution_count": 13,
   "metadata": {},
   "outputs": [
    {
     "data": {
      "image/svg+xml": "<svg height=\"476pt\" viewBox=\"0.00 0.00 1008.62 476.00\" width=\"1009pt\" xmlns=\"http://www.w3.org/2000/svg\" xmlns:xlink=\"http://www.w3.org/1999/xlink\">\n<g class=\"graph\" id=\"graph0\" transform=\"scale(1 1) rotate(0) translate(4 472)\">\n<title>%3</title>\n<polygon fill=\"white\" points=\"-4,5 -4,-472 1005.62,-472 1005.62,5 -4,5\" stroke=\"white\"/>\n<!-- 56 -->\n<g class=\"node\" id=\"node1\"><title>56</title>\n<ellipse cx=\"981\" cy=\"-378\" fill=\"#ff8800\" fill-opacity=\"0.501961\" rx=\"12.5894\" ry=\"12.96\" stroke=\"#ff8800\" stroke-opacity=\"0.501961\"/>\n<text fill=\"#ff8800\" font-family=\"arial\" font-size=\"1.00\" text-anchor=\"middle\" x=\"981\" y=\"-377.7\">56</text>\n</g>\n<!-- recording.acquisition.Session -->\n<g class=\"node\" id=\"node14\"><title>recording.acquisition.Session</title>\n<g id=\"a_node14\"><a xlink:title=\"→ recording.acquisition.SessionStarted\r------------------------------\rsession_start_time   \rsession_end_time=null \r→ recording.lab.Location.proj(session_location=&quot;location&quot;)\r→ recording.task.TaskLevelParameterSet\rstimulus_bank=&quot;&quot;     \rstimulus_commit=&quot;&quot;   \rsession_performance  \rnum_trials=null      \rnum_trials_try=null  \rsession_narrative=&quot;&quot; \rsession_protocol=null \rsession_code_version=null \ris_bad_session=null  \rsession_comments=null \r\">\n<polygon fill=\"#00ff00\" fill-opacity=\"0.188235\" points=\"965,-251.5 791,-251.5 791,-216.5 965,-216.5 965,-251.5\" stroke=\"#00ff00\" stroke-opacity=\"0.188235\"/>\n<text fill=\"darkgreen\" font-family=\"arial\" font-size=\"12.00\" text-anchor=\"middle\" x=\"878\" y=\"-230.9\">recording.acquisition.Session</text>\n</a>\n</g>\n</g>\n<!-- 56&#45;&gt;recording.acquisition.Session -->\n<g class=\"edge\" id=\"edge1\"><title>56-&gt;recording.acquisition.Session</title>\n<path d=\"M986.571,-366.44C995.071,-348.725 1008.72,-312.554 993,-288 982.154,-271.059 964.37,-259.458 945.993,-251.543\" fill=\"none\" stroke=\"#000000\" stroke-dasharray=\"5,2\" stroke-opacity=\"0.250980\" stroke-width=\"0.75\"/>\n</g>\n<!-- 55 -->\n<g class=\"node\" id=\"node2\"><title>55</title>\n<ellipse cx=\"102\" cy=\"-162\" fill=\"#ff8800\" fill-opacity=\"0.501961\" rx=\"12.5894\" ry=\"12.96\" stroke=\"#ff8800\" stroke-opacity=\"0.501961\"/>\n<text fill=\"#ff8800\" font-family=\"arial\" font-size=\"1.00\" text-anchor=\"middle\" x=\"102\" y=\"-161.7\">55</text>\n</g>\n<!-- recording.RecordingProcessStatus -->\n<g class=\"node\" id=\"node6\"><title>recording.RecordingProcessStatus</title>\n<g id=\"a_node6\"><a xlink:title=\"recording_process_status_id \r------------------------------\r→ recording.RecordingProcess\r→ recording.StatusProcessDefinition.proj(status_pipeline_idx_old=&quot;status_pipeline_idx&quot;)\r→ recording.StatusProcessDefinition.proj(status_pipeline_idx_new=&quot;status_pipeline_idx&quot;)\rstatus_timestamp     \rerror_message=null   \rerror_exception=null \r\">\n<polygon fill=\"#00ff00\" fill-opacity=\"0.188235\" points=\"204,-107.5 0,-107.5 0,-72.5 204,-72.5 204,-107.5\" stroke=\"#00ff00\" stroke-opacity=\"0.188235\"/>\n<text fill=\"darkgreen\" font-family=\"arial\" font-size=\"12.00\" text-anchor=\"start\" text-decoration=\"underline\" x=\"8.5\" y=\"-87.9\">recording.RecordingProcessStatus</text>\n</a>\n</g>\n</g>\n<!-- 55&#45;&gt;recording.RecordingProcessStatus -->\n<g class=\"edge\" id=\"edge2\"><title>55-&gt;recording.RecordingProcessStatus</title>\n<path d=\"M102,-149.125C102,-137.736 102,-120.432 102,-107.664\" fill=\"none\" stroke=\"#000000\" stroke-dasharray=\"5,2\" stroke-opacity=\"0.250980\" stroke-width=\"0.75\"/>\n</g>\n<!-- 54 -->\n<g class=\"node\" id=\"node3\"><title>54</title>\n<ellipse cx=\"59\" cy=\"-162\" fill=\"#ff8800\" fill-opacity=\"0.501961\" rx=\"12.5894\" ry=\"12.96\" stroke=\"#ff8800\" stroke-opacity=\"0.501961\"/>\n<text fill=\"#ff8800\" font-family=\"arial\" font-size=\"1.00\" text-anchor=\"middle\" x=\"59\" y=\"-161.7\">54</text>\n</g>\n<!-- 54&#45;&gt;recording.RecordingProcessStatus -->\n<g class=\"edge\" id=\"edge3\"><title>54-&gt;recording.RecordingProcessStatus</title>\n<path d=\"M65.3448,-150.671C72.3066,-139.338 83.5817,-120.983 91.7909,-107.62\" fill=\"none\" stroke=\"#000000\" stroke-dasharray=\"5,2\" stroke-opacity=\"0.250980\" stroke-width=\"0.75\"/>\n</g>\n<!-- imaging_rec.Scan -->\n<g class=\"node\" id=\"node4\"><title>imaging_rec.Scan</title>\n<g id=\"a_node4\"><a xlink:title=\"→ recording.Recording\r\">\n<ellipse cx=\"401\" cy=\"-162\" fill=\"#ff0000\" fill-opacity=\"0.125490\" rx=\"79.3553\" ry=\"14.7\" stroke=\"#ff0000\" stroke-opacity=\"0.125490\"/>\n<text fill=\"#7f0000\" font-family=\"arial\" font-size=\"12.00\" text-anchor=\"middle\" x=\"401\" y=\"-158.9\">imaging_rec.Scan</text>\n</a>\n</g>\n</g>\n<!-- imaging_rec.FieldOfView -->\n<g class=\"node\" id=\"node13\"><title>imaging_rec.FieldOfView</title>\n<g id=\"a_node13\"><a xlink:title=\"→ imaging_rec.Scan\rfov                  \r------------------------------\rfov_directory        \rrelative_fov_directory \rfov_name=null        \rfov_depth            \rfov_center_xy        \rfov_size_xy          \rfov_rotation_degrees \rfov_pixel_resolution_xy \rfov_discrete_plane_mode \rpower_percent        \r\">\n<ellipse cx=\"389\" cy=\"-90\" fill=\"#00007f\" fill-opacity=\"0.250980\" rx=\"95\" ry=\"17.5\" stroke=\"#00007f\" stroke-opacity=\"0.250980\"/>\n<text fill=\"#00007f\" font-family=\"arial\" font-size=\"12.00\" text-anchor=\"middle\" x=\"389\" y=\"-86.9\">imaging_rec.FieldOfView</text>\n</a>\n</g>\n</g>\n<!-- imaging_rec.Scan&#45;&gt;imaging_rec.FieldOfView -->\n<g class=\"edge\" id=\"edge4\"><title>imaging_rec.Scan-&gt;imaging_rec.FieldOfView</title>\n<path d=\"M398.572,-146.834C396.627,-135.489 393.894,-119.551 391.847,-107.606\" fill=\"none\" stroke=\"#000000\" stroke-opacity=\"0.250980\" stroke-width=\"0.75\"/>\n</g>\n<!-- recording.RecordingProcess -->\n<g class=\"node\" id=\"node5\"><title>recording.RecordingProcess</title>\n<g id=\"a_node5\"><a xlink:title=\"recording_process_id \r------------------------------\r→ recording.Recording\r→ recording.StatusProcessDefinition\r→ recording.PreprocessParamSet\r→ recording.ProcessParamSet\rrecording_process_pre_path=null : varchar(200)                 # relative path for raw data recording subdirectory that will be processed (ephys→ probe, imaging→fieldofview)\rrecording_process_post_path=null \rtask_copy_id_pre=null : UUID                         # id for globus transfer task raw file cup→tiger\rtask_copy_id_post=null : UUID                         # id for globus transfer task sorted file tiger→cup\rslurm_id=null        \r\">\n<polygon fill=\"#00ff00\" fill-opacity=\"0.188235\" points=\"303,-179.5 133,-179.5 133,-144.5 303,-144.5 303,-179.5\" stroke=\"#00ff00\" stroke-opacity=\"0.188235\"/>\n<text fill=\"darkgreen\" font-family=\"arial\" font-size=\"12.00\" text-anchor=\"start\" text-decoration=\"underline\" x=\"141.5\" y=\"-159.9\">recording.RecordingProcess</text>\n</a>\n</g>\n</g>\n<!-- recording.RecordingProcess&#45;&gt;recording.RecordingProcessStatus -->\n<g class=\"edge\" id=\"edge5\"><title>recording.RecordingProcess-&gt;recording.RecordingProcessStatus</title>\n<path d=\"M190.51,-144.411C172.152,-133.333 148.095,-118.816 129.695,-107.713\" fill=\"none\" stroke=\"#000000\" stroke-dasharray=\"5,2\" stroke-opacity=\"0.250980\" stroke-width=\"0.75\"/>\n</g>\n<!-- imaging_rec.ImagingProcessing -->\n<g class=\"node\" id=\"node10\"><title>imaging_rec.ImagingProcessing</title>\n<g id=\"a_node10\"><a xlink:title=\"→ recording.RecordingProcess\r------------------------------\r→ imaging_rec.FieldOfView\r\">\n<polygon fill=\"#00ff00\" fill-opacity=\"0.188235\" points=\"416,-35.5 228,-35.5 228,-0.5 416,-0.5 416,-35.5\" stroke=\"#00ff00\" stroke-opacity=\"0.188235\"/>\n<text fill=\"darkgreen\" font-family=\"arial\" font-size=\"12.00\" text-anchor=\"middle\" x=\"322\" y=\"-14.9\">imaging_rec.ImagingProcessing</text>\n</a>\n</g>\n</g>\n<!-- recording.RecordingProcess&#45;&gt;imaging_rec.ImagingProcessing -->\n<g class=\"edge\" id=\"edge6\"><title>recording.RecordingProcess-&gt;imaging_rec.ImagingProcessing</title>\n<path d=\"M230.134,-144.433C250.066,-117.217 289.53,-63.3342 309.621,-35.9017\" fill=\"none\" stroke=\"#000000\" stroke-opacity=\"0.250980\" stroke-width=\"2\"/>\n</g>\n<!-- recording.Recording -->\n<g class=\"node\" id=\"node7\"><title>recording.Recording</title>\n<g id=\"a_node7\"><a xlink:title=\"recording_id         \r------------------------------\r→ recording.RecordingModality\r→ recording.lab.Location\r→ recording.StatusRecordingDefinition\r→ recording.PreprocessParamSet\r→ recording.ProcessParamSet\rtask_copy_id_pni=null : UUID                         # id for globus transfer task raw file local→cup\rinherit_params_recording=1 \rrecording_directory  \rlocal_directory      \r\">\n<polygon fill=\"#00ff00\" fill-opacity=\"0.188235\" points=\"654,-251.5 528,-251.5 528,-216.5 654,-216.5 654,-251.5\" stroke=\"#00ff00\" stroke-opacity=\"0.188235\"/>\n<text fill=\"darkgreen\" font-family=\"arial\" font-size=\"12.00\" text-anchor=\"start\" text-decoration=\"underline\" x=\"536.5\" y=\"-231.9\">recording.Recording</text>\n</a>\n</g>\n</g>\n<!-- recording.Recording&#45;&gt;imaging_rec.Scan -->\n<g class=\"edge\" id=\"edge7\"><title>recording.Recording-&gt;imaging_rec.Scan</title>\n<path d=\"M545.973,-216.411C511.954,-203.878 465.984,-186.941 435.006,-175.528\" fill=\"none\" stroke=\"#000000\" stroke-opacity=\"0.250980\" stroke-width=\"2\"/>\n</g>\n<!-- recording.Recording&#45;&gt;recording.RecordingProcess -->\n<g class=\"edge\" id=\"edge8\"><title>recording.Recording-&gt;recording.RecordingProcess</title>\n<path d=\"M527.726,-221.125C465.995,-209.541 371.661,-191.837 303.322,-179.012\" fill=\"none\" stroke=\"#000000\" stroke-dasharray=\"5,2\" stroke-opacity=\"0.250980\" stroke-width=\"0.75\"/>\n</g>\n<!-- recording.Recording.BehaviorSession -->\n<g class=\"node\" id=\"node9\"><title>recording.Recording.BehaviorSession</title>\n<g id=\"a_node9\"><a xlink:title=\"→ recording.Recording\r------------------------------\r→ recording.acquisition.Session\r\">\n<polygon fill=\"none\" points=\"880.25,-171.5 701.75,-171.5 701.75,-152.5 880.25,-152.5 880.25,-171.5\" stroke=\"none\"/>\n<text font-family=\"arial\" font-size=\"10.00\" text-anchor=\"middle\" x=\"791\" y=\"-159.5\">recording.Recording.BehaviorSession</text>\n</a>\n</g>\n</g>\n<!-- recording.Recording&#45;&gt;recording.Recording.BehaviorSession -->\n<g class=\"edge\" id=\"edge9\"><title>recording.Recording-&gt;recording.Recording.BehaviorSession</title>\n<path d=\"M638.144,-216.5C678.449,-202.393 734.829,-182.66 766.642,-171.525\" fill=\"none\" stroke=\"#000000\" stroke-opacity=\"0.250980\" stroke-width=\"2\"/>\n</g>\n<!-- recording.Recording.RecordingSession -->\n<g class=\"node\" id=\"node12\"><title>recording.Recording.RecordingSession</title>\n<g id=\"a_node12\"><a xlink:title=\"→ recording.Recording\r------------------------------\r→ recording.subject.Subject\rrecording_datetime   \r\">\n<polygon fill=\"none\" points=\"683.25,-171.5 498.75,-171.5 498.75,-152.5 683.25,-152.5 683.25,-171.5\" stroke=\"none\"/>\n<text font-family=\"arial\" font-size=\"10.00\" text-anchor=\"middle\" x=\"591\" y=\"-159.5\">recording.Recording.RecordingSession</text>\n</a>\n</g>\n</g>\n<!-- recording.Recording&#45;&gt;recording.Recording.RecordingSession -->\n<g class=\"edge\" id=\"edge10\"><title>recording.Recording-&gt;recording.Recording.RecordingSession</title>\n<path d=\"M591,-216.411C591,-202.341 591,-182.723 591,-171.599\" fill=\"none\" stroke=\"#000000\" stroke-opacity=\"0.250980\" stroke-width=\"2\"/>\n</g>\n<!-- recording.StatusRecordingDefinition -->\n<g class=\"node\" id=\"node8\"><title>recording.StatusRecordingDefinition</title>\n<g id=\"a_node8\"><a xlink:title=\"status_recording_idx \r------------------------------\rstatus_definition    \r\">\n<polygon fill=\"#000000\" fill-opacity=\"0.125490\" points=\"677.25,-323.5 504.75,-323.5 504.75,-288.5 677.25,-288.5 677.25,-323.5\" stroke=\"none\"/>\n<text font-family=\"arial\" font-size=\"10.00\" text-anchor=\"start\" text-decoration=\"underline\" x=\"513\" y=\"-304.5\">recording.StatusRecordingDefinition</text>\n</a>\n</g>\n</g>\n<!-- recording.StatusRecordingDefinition&#45;&gt;recording.Recording -->\n<g class=\"edge\" id=\"edge11\"><title>recording.StatusRecordingDefinition-&gt;recording.Recording</title>\n<path d=\"M591,-288.411C591,-277.414 591,-263.027 591,-251.956\" fill=\"none\" stroke=\"#000000\" stroke-dasharray=\"5,2\" stroke-opacity=\"0.250980\" stroke-width=\"0.75\"/>\n</g>\n<!-- recording.ProcessParamSet -->\n<g class=\"node\" id=\"node11\"><title>recording.ProcessParamSet</title>\n<g id=\"a_node11\"><a xlink:title=\"process_paramset_idx \r------------------------------\r→ recording.RecordingModality\rprocess_paramset_desc \rprocess_paramset_hash \rprocess_paramset     \rUNIQUE INDEX (process_paramset_hash)\r\">\n<polygon fill=\"#000000\" fill-opacity=\"0.125490\" points=\"276,-323.5 136,-323.5 136,-288.5 276,-288.5 276,-323.5\" stroke=\"none\"/>\n<text font-family=\"arial\" font-size=\"10.00\" text-anchor=\"start\" text-decoration=\"underline\" x=\"144.5\" y=\"-304.5\">recording.ProcessParamSet</text>\n</a>\n</g>\n</g>\n<!-- recording.ProcessParamSet&#45;&gt;recording.RecordingProcess -->\n<g class=\"edge\" id=\"edge12\"><title>recording.ProcessParamSet-&gt;recording.RecordingProcess</title>\n<path d=\"M207.4,-288.433C209.7,-261.217 214.253,-207.334 216.572,-179.902\" fill=\"none\" stroke=\"#000000\" stroke-dasharray=\"5,2\" stroke-opacity=\"0.250980\" stroke-width=\"0.75\"/>\n</g>\n<!-- recording.ProcessParamSet&#45;&gt;recording.Recording -->\n<g class=\"edge\" id=\"edge13\"><title>recording.ProcessParamSet-&gt;recording.Recording</title>\n<path d=\"M276.181,-289.744C279.159,-289.145 282.108,-288.561 285,-288 368.759,-271.741 465.895,-255.331 527.863,-245.169\" fill=\"none\" stroke=\"#000000\" stroke-dasharray=\"5,2\" stroke-opacity=\"0.250980\" stroke-width=\"0.75\"/>\n</g>\n<!-- imaging_rec.FieldOfView&#45;&gt;imaging_rec.ImagingProcessing -->\n<g class=\"edge\" id=\"edge14\"><title>imaging_rec.FieldOfView-&gt;imaging_rec.ImagingProcessing</title>\n<path d=\"M373.122,-72.411C362.596,-61.4141 348.826,-47.0274 338.23,-35.9562\" fill=\"none\" stroke=\"#000000\" stroke-dasharray=\"5,2\" stroke-opacity=\"0.250980\" stroke-width=\"0.75\"/>\n</g>\n<!-- recording.acquisition.Session&#45;&gt;recording.Recording.BehaviorSession -->\n<g class=\"edge\" id=\"edge15\"><title>recording.acquisition.Session-&gt;recording.Recording.BehaviorSession</title>\n<path d=\"M857.382,-216.411C839.896,-202.341 815.513,-182.723 801.687,-171.599\" fill=\"none\" stroke=\"#000000\" stroke-dasharray=\"5,2\" stroke-opacity=\"0.250980\" stroke-width=\"0.75\"/>\n</g>\n<!-- recording.lab.Location -->\n<g class=\"node\" id=\"node15\"><title>recording.lab.Location</title>\n<g id=\"a_node15\"><a xlink:title=\"location             \r------------------------------\r→ [nullable] `u19_lab`.`#acquisition_type`\rlocation_description=&quot;&quot; \rbucket_default_path=null \rimaging_bucket_default_path=null \rephys_bucket_default_path=null \r\">\n<polygon fill=\"#000000\" fill-opacity=\"0.125490\" points=\"900.25,-467.5 787.75,-467.5 787.75,-432.5 900.25,-432.5 900.25,-467.5\" stroke=\"none\"/>\n<text font-family=\"arial\" font-size=\"10.00\" text-anchor=\"start\" text-decoration=\"underline\" x=\"796\" y=\"-448.5\">recording.lab.Location</text>\n</a>\n</g>\n</g>\n<!-- recording.lab.Location&#45;&gt;56 -->\n<g class=\"edge\" id=\"edge16\"><title>recording.lab.Location-&gt;56</title>\n<path d=\"M876.467,-432.411C906.693,-416.967 950.005,-394.837 970.051,-384.594\" fill=\"none\" stroke=\"#000000\" stroke-dasharray=\"5,2\" stroke-opacity=\"0.250980\" stroke-width=\"0.75\"/>\n</g>\n<!-- recording.lab.Location&#45;&gt;recording.Recording -->\n<g class=\"edge\" id=\"edge17\"><title>recording.lab.Location-&gt;recording.Recording</title>\n<path d=\"M809.797,-432.392C792.988,-423.172 773.145,-410.614 758,-396 716.486,-355.942 728.374,-327.147 686,-288 669.769,-273.005 648.531,-260.646 630.253,-251.646\" fill=\"none\" stroke=\"#000000\" stroke-dasharray=\"5,2\" stroke-opacity=\"0.250980\" stroke-width=\"0.75\"/>\n</g>\n<!-- recording.subject.Subject -->\n<g class=\"node\" id=\"node19\"><title>recording.subject.Subject</title>\n<g id=\"a_node19\"><a xlink:title=\"subject_fullname     \r------------------------------\rsubject_nickname     \r→ recording.lab.User\rgenomics_id=null     \rsex=&quot;Unknown&quot;        \rdob=null             \rhead_plate_mark=null \r→ recording.lab.Location\r→ [nullable] recording.lab.Protocol\r→ [nullable] recording.subject.Line\rsubject_description=&quot;&quot; \rinitial_weight=null  \rnotification_enabled=1 \rneed_reweight=0      \r\">\n<polygon fill=\"#00ff00\" fill-opacity=\"0.188235\" points=\"920.25,-395.5 767.75,-395.5 767.75,-360.5 920.25,-360.5 920.25,-395.5\" stroke=\"#00ff00\" stroke-opacity=\"0.188235\"/>\n<text fill=\"darkgreen\" font-family=\"arial\" font-size=\"12.00\" text-anchor=\"start\" text-decoration=\"underline\" x=\"776\" y=\"-375.9\">recording.subject.Subject</text>\n</a>\n</g>\n</g>\n<!-- recording.lab.Location&#45;&gt;recording.subject.Subject -->\n<g class=\"edge\" id=\"edge18\"><title>recording.lab.Location-&gt;recording.subject.Subject</title>\n<path d=\"M844,-432.411C844,-421.414 844,-407.027 844,-395.956\" fill=\"none\" stroke=\"#000000\" stroke-dasharray=\"5,2\" stroke-opacity=\"0.250980\" stroke-width=\"0.75\"/>\n</g>\n<!-- recording.RecordingModality -->\n<g class=\"node\" id=\"node16\"><title>recording.RecordingModality</title>\n<g id=\"a_node16\"><a xlink:title=\"recording_modality   \r------------------------------\rmodality_description \rroot_direcory        \rrecording_file_extensions \rrecording_file_pattern \rprocess_unit_file_pattern \rprocess_unit_dir_fieldname \r\">\n<polygon fill=\"#000000\" fill-opacity=\"0.125490\" points=\"441.25,-395.5 300.75,-395.5 300.75,-360.5 441.25,-360.5 441.25,-395.5\" stroke=\"none\"/>\n<text font-family=\"arial\" font-size=\"10.00\" text-anchor=\"start\" text-decoration=\"underline\" x=\"309\" y=\"-376.5\">recording.RecordingModality</text>\n</a>\n</g>\n</g>\n<!-- recording.RecordingModality&#45;&gt;recording.Recording -->\n<g class=\"edge\" id=\"edge19\"><title>recording.RecordingModality-&gt;recording.Recording</title>\n<path d=\"M400.62,-360.391C417.381,-350.541 438.437,-337.392 456,-324 474.758,-309.696 475.869,-301.801 495,-288 514.145,-274.189 537.267,-261.323 556.021,-251.726\" fill=\"none\" stroke=\"#000000\" stroke-dasharray=\"5,2\" stroke-opacity=\"0.250980\" stroke-width=\"0.75\"/>\n</g>\n<!-- recording.RecordingModality&#45;&gt;recording.ProcessParamSet -->\n<g class=\"edge\" id=\"edge20\"><title>recording.RecordingModality-&gt;recording.ProcessParamSet</title>\n<path d=\"M331.897,-360.411C305.69,-349.293 271.316,-334.71 245.108,-323.591\" fill=\"none\" stroke=\"#000000\" stroke-dasharray=\"5,2\" stroke-opacity=\"0.250980\" stroke-width=\"0.75\"/>\n</g>\n<!-- recording.PreprocessParamSet -->\n<g class=\"node\" id=\"node18\"><title>recording.PreprocessParamSet</title>\n<g id=\"a_node18\"><a xlink:title=\"preprocess_paramset_idx \r------------------------------\r→ recording.RecordingModality\rpreprocess_paramset_desc \rpreprocess_paramset_hash \rpreprocess_paramset  \rUNIQUE INDEX (preprocess_paramset_hash)\r\">\n<polygon fill=\"#000000\" fill-opacity=\"0.125490\" points=\"447.25,-323.5 294.75,-323.5 294.75,-288.5 447.25,-288.5 447.25,-323.5\" stroke=\"none\"/>\n<text font-family=\"arial\" font-size=\"10.00\" text-anchor=\"start\" text-decoration=\"underline\" x=\"303\" y=\"-304.5\">recording.PreprocessParamSet</text>\n</a>\n</g>\n</g>\n<!-- recording.RecordingModality&#45;&gt;recording.PreprocessParamSet -->\n<g class=\"edge\" id=\"edge21\"><title>recording.RecordingModality-&gt;recording.PreprocessParamSet</title>\n<path d=\"M371,-360.411C371,-349.414 371,-335.027 371,-323.956\" fill=\"none\" stroke=\"#000000\" stroke-dasharray=\"5,2\" stroke-opacity=\"0.250980\" stroke-width=\"0.75\"/>\n</g>\n<!-- recording.StatusProcessDefinition -->\n<g class=\"node\" id=\"node17\"><title>recording.StatusProcessDefinition</title>\n<g id=\"a_node17\"><a xlink:title=\"status_pipeline_idx  \r------------------------------\rstatus_definition    \r\">\n<polygon fill=\"#000000\" fill-opacity=\"0.125490\" points=\"184.25,-251.5 19.75,-251.5 19.75,-216.5 184.25,-216.5 184.25,-251.5\" stroke=\"none\"/>\n<text font-family=\"arial\" font-size=\"10.00\" text-anchor=\"start\" text-decoration=\"underline\" x=\"28\" y=\"-232.5\">recording.StatusProcessDefinition</text>\n</a>\n</g>\n</g>\n<!-- recording.StatusProcessDefinition&#45;&gt;54 -->\n<g class=\"edge\" id=\"edge22\"><title>recording.StatusProcessDefinition-&gt;54</title>\n<path d=\"M91.8096,-216.411C83.5643,-202.988 72.2166,-184.515 65.2569,-173.186\" fill=\"none\" stroke=\"#000000\" stroke-dasharray=\"5,2\" stroke-opacity=\"0.250980\" stroke-width=\"0.75\"/>\n</g>\n<!-- recording.StatusProcessDefinition&#45;&gt;55 -->\n<g class=\"edge\" id=\"edge23\"><title>recording.StatusProcessDefinition-&gt;55</title>\n<path d=\"M102,-216.411C102,-203.635 102,-186.284 102,-174.872\" fill=\"none\" stroke=\"#000000\" stroke-dasharray=\"5,2\" stroke-opacity=\"0.250980\" stroke-width=\"0.75\"/>\n</g>\n<!-- recording.StatusProcessDefinition&#45;&gt;recording.RecordingProcess -->\n<g class=\"edge\" id=\"edge24\"><title>recording.StatusProcessDefinition-&gt;recording.RecordingProcess</title>\n<path d=\"M129.49,-216.411C147.848,-205.333 171.905,-190.816 190.305,-179.713\" fill=\"none\" stroke=\"#000000\" stroke-dasharray=\"5,2\" stroke-opacity=\"0.250980\" stroke-width=\"0.75\"/>\n</g>\n<!-- recording.PreprocessParamSet&#45;&gt;recording.RecordingProcess -->\n<g class=\"edge\" id=\"edge25\"><title>recording.PreprocessParamSet-&gt;recording.RecordingProcess</title>\n<path d=\"M353.15,-288.433C323.826,-261.217 265.769,-207.334 236.211,-179.902\" fill=\"none\" stroke=\"#000000\" stroke-dasharray=\"5,2\" stroke-opacity=\"0.250980\" stroke-width=\"0.75\"/>\n</g>\n<!-- recording.PreprocessParamSet&#45;&gt;recording.Recording -->\n<g class=\"edge\" id=\"edge26\"><title>recording.PreprocessParamSet-&gt;recording.Recording</title>\n<path d=\"M422.858,-288.5C457.92,-277.344 504.041,-262.669 539.109,-251.511\" fill=\"none\" stroke=\"#000000\" stroke-dasharray=\"5,2\" stroke-opacity=\"0.250980\" stroke-width=\"0.75\"/>\n</g>\n<!-- recording.subject.Subject&#45;&gt;recording.Recording.RecordingSession -->\n<g class=\"edge\" id=\"edge27\"><title>recording.subject.Subject-&gt;recording.Recording.RecordingSession</title>\n<path d=\"M815.063,-360.452C799.048,-350.72 779.173,-337.667 763,-324 713.035,-281.776 711.782,-259.585 663,-216 643.671,-198.73 618.92,-181.437 604.047,-171.501\" fill=\"none\" stroke=\"#000000\" stroke-dasharray=\"5,2\" stroke-opacity=\"0.250980\" stroke-width=\"0.75\"/>\n</g>\n<!-- recording.acquisition.SessionStarted -->\n<g class=\"node\" id=\"node20\"><title>recording.acquisition.SessionStarted</title>\n<g id=\"a_node20\"><a xlink:title=\"→ recording.subject.Subject\rsession_date=&quot;curdate()&quot; \rsession_number       \r------------------------------\rsession_start_time=&quot;current_timestamp()&quot; \r→ recording.lab.Location.proj(session_location=&quot;location&quot;)\r→ recording.task.Task\rlocal_path_behavior_file \rremote_path_behavior_file \ris_finished=0        \rinvalid_session=0    \r%}\r\">\n<polygon fill=\"#00ff00\" fill-opacity=\"0.188235\" points=\"984,-323.5 772,-323.5 772,-288.5 984,-288.5 984,-323.5\" stroke=\"#00ff00\" stroke-opacity=\"0.188235\"/>\n<text fill=\"darkgreen\" font-family=\"arial\" font-size=\"12.00\" text-anchor=\"middle\" x=\"878\" y=\"-302.9\">recording.acquisition.SessionStarted</text>\n</a>\n</g>\n</g>\n<!-- recording.subject.Subject&#45;&gt;recording.acquisition.SessionStarted -->\n<g class=\"edge\" id=\"edge28\"><title>recording.subject.Subject-&gt;recording.acquisition.SessionStarted</title>\n<path d=\"M852.058,-360.411C857.399,-349.414 864.387,-335.027 869.764,-323.956\" fill=\"none\" stroke=\"#000000\" stroke-opacity=\"0.250980\" stroke-width=\"0.75\"/>\n</g>\n<!-- recording.acquisition.SessionStarted&#45;&gt;recording.acquisition.Session -->\n<g class=\"edge\" id=\"edge29\"><title>recording.acquisition.SessionStarted-&gt;recording.acquisition.Session</title>\n<path d=\"M878,-288.411C878,-277.414 878,-263.027 878,-251.956\" fill=\"none\" stroke=\"#000000\" stroke-opacity=\"0.250980\" stroke-width=\"2\"/>\n</g>\n</g>\n</svg>",
      "text/plain": [
       "<datajoint.diagram.Diagram at 0x7f01f04acb50>"
      ]
     },
     "execution_count": 13,
     "metadata": {},
     "output_type": "execute_result"
    }
   ],
   "source": [
    "dj.ERD(recording) -1 + dj.ERD(imaging_rec.Scan) + dj.ERD(imaging_rec.ImagingProcessing) \n"
   ]
  }
 ],
 "metadata": {
  "interpreter": {
   "hash": "348a4bcde61304074419044094132242ecb1362b201318eaa5069b5cc2b28dfb"
  },
  "kernelspec": {
   "display_name": "Python 3.7.11 64-bit",
   "language": "python",
   "name": "python3"
  },
  "language_info": {
   "codemirror_mode": {
    "name": "ipython",
    "version": 3
   },
   "file_extension": ".py",
   "mimetype": "text/x-python",
   "name": "python",
   "nbconvert_exporter": "python",
   "pygments_lexer": "ipython3",
   "version": "3.7.0"
  }
 },
 "nbformat": 4,
 "nbformat_minor": 4
}
