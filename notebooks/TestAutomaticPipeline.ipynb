{
 "cells": [
  {
   "cell_type": "markdown",
   "metadata": {},
   "source": [
    "### Check if configuration has been run already and change directory to repository root:"
   ]
  },
  {
   "cell_type": "code",
   "execution_count": 1,
   "metadata": {},
   "outputs": [
    {
     "output_type": "stream",
     "name": "stdout",
     "text": [
      "Local configuration file found !!, no need to run the configuration (unless configuration has changed)\n"
     ]
    }
   ],
   "source": [
    "from scripts.conf_file_finding import try_find_conf_file\n",
    "try_find_conf_file()"
   ]
  },
  {
   "cell_type": "code",
   "execution_count": 2,
   "metadata": {},
   "outputs": [
    {
     "output_type": "stream",
     "name": "stdout",
     "text": [
      "Connecting alvaros@datajoint00.pni.princeton.edu:3306\n"
     ]
    },
    {
     "output_type": "execute_result",
     "data": {
      "text/plain": [
       "'0.13.2'"
      ]
     },
     "metadata": {},
     "execution_count": 2
    }
   ],
   "source": [
    "import datajoint as dj\n",
    "import os\n",
    "import getpass\n",
    "import pandas as pd\n",
    "import subprocess\n",
    "import json\n",
    "import u19_pipeline.utils.path_utils as pu\n",
    "import pathlib\n",
    "import u19_pipeline.automatic_job as auto_pipeline\n",
    "import u19_pipeline.automatic_job.recording_handler as rec_handler\n",
    "\n",
    "from u19_pipeline import recording, imaging_rec, ephys\n",
    "\n",
    "#import utility.dj_shortcuts as dj_short\n",
    "#import utility.acquisition_pipeline_handler as aph\n",
    "dj.__version__"
   ]
  },
  {
   "cell_type": "code",
   "execution_count": 3,
   "metadata": {},
   "outputs": [
    {
     "output_type": "execute_result",
     "data": {
      "text/plain": [
       "*status_record status_definit\n",
       "+------------+ +------------+\n",
       "-1             Error in recor\n",
       "0              New recording \n",
       "1              Recording dire\n",
       "2              Recording dire\n",
       "3              modality inges\n",
       " (Total: 5)"
      ],
      "text/html": "\n    \n    <style type=\"text/css\">\n        .Relation{\n            border-collapse:collapse;\n        }\n        .Relation th{\n            background: #A0A0A0; color: #ffffff; padding:4px; border:#f0e0e0 1px solid;\n            font-weight: normal; font-family: monospace; font-size: 100%;\n        }\n        .Relation td{\n            padding:4px; border:#f0e0e0 1px solid; font-size:100%;\n        }\n        .Relation tr:nth-child(odd){\n            background: #ffffff;\n        }\n        .Relation tr:nth-child(even){\n            background: #f3f1ff;\n        }\n        /* Tooltip container */\n        .djtooltip {\n        }\n        /* Tooltip text */\n        .djtooltip .djtooltiptext {\n            visibility: hidden;\n            width: 120px;\n            background-color: black;\n            color: #fff;\n            text-align: center;\n            padding: 5px 0;\n            border-radius: 6px;\n            /* Position the tooltip text - see examples below! */\n            position: absolute;\n            z-index: 1;\n        }\n        #primary {\n            font-weight: bold;\n            color: black;\n        }\n        #nonprimary {\n            font-weight: normal;\n            color: white;\n        }\n\n        /* Show the tooltip text when you mouse over the tooltip container */\n        .djtooltip:hover .djtooltiptext {\n            visibility: visible;\n        }\n    </style>\n    \n    <b></b>\n        <div style=\"max-height:1000px;max-width:1500px;overflow:auto;\">\n        <table border=\"1\" class=\"Relation\">\n            <thead> <tr style=\"text-align: right;\"> <th> <div class=\"djtooltip\">\n                            <p id=\"primary\">status_recording_idx</p>\n                            <span class=\"djtooltiptext\">status in the automate process pipeline</span>\n                        </div></th><th><div class=\"djtooltip\">\n                            <p id=\"nonprimary\">status_definition</p>\n                            <span class=\"djtooltiptext\">Status definition</span>\n                        </div> </th> </tr> </thead>\n            <tbody> <tr> <td>-1</td>\n<td>Error in recording handling</td></tr><tr><td>0</td>\n<td>New recording</td></tr><tr><td>1</td>\n<td>Recording directory transfer to PNI requested</td></tr><tr><td>2</td>\n<td>Recording directory transferred to PNI</td></tr><tr><td>3</td>\n<td>modality ingestion & Syncing jobs done</td> </tr> </tbody>\n        </table>\n        \n        <p>Total: 5</p></div>\n        "
     },
     "metadata": {},
     "execution_count": 3
    }
   ],
   "source": [
    "recording.StatusRecordingDefinition()"
   ]
  },
  {
   "cell_type": "code",
   "execution_count": 4,
   "metadata": {},
   "outputs": [],
   "source": [
    "\n",
    "fake_recording = dict()\n",
    "fake_recording['recording_modality'] = 'electrophysiology'\n",
    "fake_recording['location'] = 'Bezos1'\n",
    "fake_recording['status_recording_idx'] = 0\n",
    "fake_recording['process_paramset_idx'] = 1\n",
    "fake_recording['preprocess_paramset_idx'] = 1\n",
    "fake_recording['recording_directory'] = 'ms81/ms81_M004/20210507/towersTask_g0'\n",
    "fake_recording['local_directory'] = 'ms81/ms81_M004/20210507/towersTask_g0'\n",
    "\n",
    "#recording.Recording.insert1(fake_recording, skip_duplicates=True)"
   ]
  },
  {
   "cell_type": "code",
   "execution_count": 5,
   "metadata": {},
   "outputs": [],
   "source": [
    "fake_recording = dict()\n",
    "fake_recording['recording_modality'] = 'imaging'\n",
    "fake_recording['location'] = 'Bezos1'\n",
    "fake_recording['status_recording_idx'] = 0\n",
    "fake_recording['process_paramset_idx'] = 1\n",
    "fake_recording['preprocess_paramset_idx'] = 2\n",
    "fake_recording['recording_directory'] = 'emdia/emdia_gps24/20220111'\n",
    "fake_recording['local_directory'] = 'emdia/emdia_gps24/20220111'\n",
    "\n",
    "#recording.Recording.insert1(fake_recording, skip_duplicates=True)\n"
   ]
  },
  {
   "cell_type": "code",
   "execution_count": 6,
   "metadata": {},
   "outputs": [
    {
     "output_type": "stream",
     "name": "stdout",
     "text": [
      "function to apply: modality_preingestion\n",
      "imaging scan insert recording_id                                         4\n",
      "recording_modality                             imaging\n",
      "location                                        Bezos1\n",
      "status_recording_idx                                 2\n",
      "preprocess_paramset_idx                              2\n",
      "process_paramset_idx                                 1\n",
      "task_copy_id_pni                                  None\n",
      "inherit_params_recording                             1\n",
      "recording_directory         emdia/emdia_gps24/20220111\n",
      "local_directory             emdia/emdia_gps24/20220111\n",
      "query_key                          {'recording_id': 4}\n",
      "Name: 0, dtype: object\n",
      "recording_units [{'recording_id': 4, 'fov': 1, 'fov_directory': 'emdia/emdia_gps24/20220111/ROI01_z1/', 'relative_fov_directory': 'emdia/emdia_gps24/20220111/ROI01_z1/', 'fov_name': 'mM2_z1', 'fov_depth': 1120.0, 'fov_center_xy': array([[-1662.46125877,   269.83897896]]), 'fov_size_xy': array([[537.60000003, 537.60000003]]), 'fov_rotation_degrees': 0.0, 'fov_pixel_resolution_xy': array([[512., 512.]]), 'fov_discrete_plane_mode': 0, 'power_percent': 75.0}, {'recording_id': 4, 'fov': 2, 'fov_directory': 'emdia/emdia_gps24/20220111/ROI02_z1/', 'relative_fov_directory': 'emdia/emdia_gps24/20220111/ROI02_z1/', 'fov_name': 'RSP_z1', 'fov_depth': 1120.0, 'fov_center_xy': array([[1142.3930918 ,  -99.24825482]]), 'fov_size_xy': array([[537.60000003, 537.60000003]]), 'fov_rotation_degrees': 0.0, 'fov_pixel_resolution_xy': array([[512., 512.]]), 'fov_discrete_plane_mode': 0, 'power_percent': 75.0}, {'recording_id': 4, 'fov': 3, 'fov_directory': 'emdia/emdia_gps24/20220111/ROI03_z1/', 'relative_fov_directory': 'emdia/emdia_gps24/20220111/ROI03_z1/', 'fov_name': 'AM_z1', 'fov_depth': 1120.0, 'fov_center_xy': array([[1555.00006185, 1097.92718087]]), 'fov_size_xy': array([[537.60000003, 537.60000003]]), 'fov_rotation_degrees': 0.0, 'fov_pixel_resolution_xy': array([[512., 512.]]), 'fov_discrete_plane_mode': 0, 'power_percent': 75.0}]\n",
      "this_recprocess_key {'recording_id': 4, 'preprocess_paramset_idx': 2, 'process_paramset_idx': 1, 'recording_process_pre_path': 'emdia/emdia_gps24/20220111/ROI01_z1/', 'status_pipeline_idx': 0}\n",
      "recording_process [21]\n",
      "this_mod_processing {'recording_id': 4, 'fov': 1, 'recording_process_id': 21}\n",
      "this_recprocess_key {'recording_id': 4, 'preprocess_paramset_idx': 2, 'process_paramset_idx': 1, 'recording_process_pre_path': 'emdia/emdia_gps24/20220111/ROI02_z1/', 'status_pipeline_idx': 0}\n",
      "recording_process [22]\n",
      "this_mod_processing {'recording_id': 4, 'fov': 2, 'recording_process_id': 22}\n",
      "this_recprocess_key {'recording_id': 4, 'preprocess_paramset_idx': 2, 'process_paramset_idx': 1, 'recording_process_pre_path': 'emdia/emdia_gps24/20220111/ROI03_z1/', 'status_pipeline_idx': 0}\n",
      "recording_process [23]\n",
      "this_mod_processing {'recording_id': 4, 'fov': 3, 'recording_process_id': 23}\n",
      "key to update {'recording_id': 4}\n",
      "recording_key_dict {'recording_id': 4}\n",
      "status 3\n",
      "update_field None\n",
      "update_value None\n",
      "update_status_dict {'recording_id': 4, 'status_recording_idx': 3}\n"
     ]
    }
   ],
   "source": [
    "l = rec_handler.RecordingHandler.pipeline_handler_main()"
   ]
  },
  {
   "cell_type": "code",
   "execution_count": 7,
   "metadata": {},
   "outputs": [
    {
     "output_type": "execute_result",
     "data": {
      "text/plain": [
       "*recording_pro recording_id   status_pipelin preprocess_par process_params recording_proc recording_proc task_copy_id_p task_copy_id_p slurm_id    \n",
       "+------------+ +------------+ +------------+ +------------+ +------------+ +------------+ +------------+ +------------+ +------------+ +----------+\n",
       "16             2              0              1              1              /Volumes/brain None           None           None           None        \n",
       "17             2              0              1              1              /Volumes/brain None           None           None           None        \n",
       "18             3              0              1              1              /Volumes/brain None           None           None           None        \n",
       "19             3              0              1              1              /Volumes/brain None           None           None           None        \n",
       "21             4              0              2              1              emdia/emdia_gp None           None           None           None        \n",
       "22             4              0              2              1              emdia/emdia_gp None           None           None           None        \n",
       "23             4              0              2              1              emdia/emdia_gp None           None           None           None        \n",
       " (Total: 7)"
      ],
      "text/html": "\n    \n    <style type=\"text/css\">\n        .Relation{\n            border-collapse:collapse;\n        }\n        .Relation th{\n            background: #A0A0A0; color: #ffffff; padding:4px; border:#f0e0e0 1px solid;\n            font-weight: normal; font-family: monospace; font-size: 100%;\n        }\n        .Relation td{\n            padding:4px; border:#f0e0e0 1px solid; font-size:100%;\n        }\n        .Relation tr:nth-child(odd){\n            background: #ffffff;\n        }\n        .Relation tr:nth-child(even){\n            background: #f3f1ff;\n        }\n        /* Tooltip container */\n        .djtooltip {\n        }\n        /* Tooltip text */\n        .djtooltip .djtooltiptext {\n            visibility: hidden;\n            width: 120px;\n            background-color: black;\n            color: #fff;\n            text-align: center;\n            padding: 5px 0;\n            border-radius: 6px;\n            /* Position the tooltip text - see examples below! */\n            position: absolute;\n            z-index: 1;\n        }\n        #primary {\n            font-weight: bold;\n            color: black;\n        }\n        #nonprimary {\n            font-weight: normal;\n            color: white;\n        }\n\n        /* Show the tooltip text when you mouse over the tooltip container */\n        .djtooltip:hover .djtooltiptext {\n            visibility: visible;\n        }\n    </style>\n    \n    <b></b>\n        <div style=\"max-height:1000px;max-width:1500px;overflow:auto;\">\n        <table border=\"1\" class=\"Relation\">\n            <thead> <tr style=\"text-align: right;\"> <th> <div class=\"djtooltip\">\n                            <p id=\"primary\">recording_process_id</p>\n                            <span class=\"djtooltiptext\">Unique number assigned to each processing job for a recording unit</span>\n                        </div></th><th><div class=\"djtooltip\">\n                            <p id=\"nonprimary\">recording_id</p>\n                            <span class=\"djtooltiptext\">Unique number assigned to each recording</span>\n                        </div></th><th><div class=\"djtooltip\">\n                            <p id=\"nonprimary\">status_pipeline_idx</p>\n                            <span class=\"djtooltiptext\">status in the automate process pipeline</span>\n                        </div></th><th><div class=\"djtooltip\">\n                            <p id=\"nonprimary\">preprocess_paramset_idx</p>\n                            <span class=\"djtooltiptext\"></span>\n                        </div></th><th><div class=\"djtooltip\">\n                            <p id=\"nonprimary\">process_paramset_idx</p>\n                            <span class=\"djtooltiptext\"></span>\n                        </div></th><th><div class=\"djtooltip\">\n                            <p id=\"nonprimary\">recording_process_pre_path</p>\n                            <span class=\"djtooltiptext\">relative path for raw data recording subdirectory that will be processed (ephys-> probe, imaging->fieldofview)</span>\n                        </div></th><th><div class=\"djtooltip\">\n                            <p id=\"nonprimary\">recording_process_post_path</p>\n                            <span class=\"djtooltiptext\">relative path for processed data recording</span>\n                        </div></th><th><div class=\"djtooltip\">\n                            <p id=\"nonprimary\">task_copy_id_pre</p>\n                            <span class=\"djtooltiptext\">id for globus transfer task raw file cup->tiger</span>\n                        </div></th><th><div class=\"djtooltip\">\n                            <p id=\"nonprimary\">task_copy_id_post</p>\n                            <span class=\"djtooltiptext\">id for globus transfer task sorted file tiger->cup</span>\n                        </div></th><th><div class=\"djtooltip\">\n                            <p id=\"nonprimary\">slurm_id</p>\n                            <span class=\"djtooltiptext\">id for slurm process in tiger</span>\n                        </div> </th> </tr> </thead>\n            <tbody> <tr> <td>16</td>\n<td>2</td>\n<td>0</td>\n<td>1</td>\n<td>1</td>\n<td>/Volumes/braininit/Data/electrophysiology/ms81/ms81_M004/20210507/towersTask_g0/towersTask_g0_imec0/</td>\n<td>None</td>\n<td>None</td>\n<td>None</td>\n<td>None</td></tr><tr><td>17</td>\n<td>2</td>\n<td>0</td>\n<td>1</td>\n<td>1</td>\n<td>/Volumes/braininit/Data/electrophysiology/ms81/ms81_M004/20210507/towersTask_g0/towersTask_g0_imec1/</td>\n<td>None</td>\n<td>None</td>\n<td>None</td>\n<td>None</td></tr><tr><td>18</td>\n<td>3</td>\n<td>0</td>\n<td>1</td>\n<td>1</td>\n<td>/Volumes/braininit/Data/electrophysiology/ms81/ms81_M004/20210507/towersTask_g0/towersTask_g0_imec0/</td>\n<td>None</td>\n<td>None</td>\n<td>None</td>\n<td>None</td></tr><tr><td>19</td>\n<td>3</td>\n<td>0</td>\n<td>1</td>\n<td>1</td>\n<td>/Volumes/braininit/Data/electrophysiology/ms81/ms81_M004/20210507/towersTask_g0/towersTask_g0_imec1/</td>\n<td>None</td>\n<td>None</td>\n<td>None</td>\n<td>None</td></tr><tr><td>21</td>\n<td>4</td>\n<td>0</td>\n<td>2</td>\n<td>1</td>\n<td>emdia/emdia_gps24/20220111/ROI01_z1/</td>\n<td>None</td>\n<td>None</td>\n<td>None</td>\n<td>None</td></tr><tr><td>22</td>\n<td>4</td>\n<td>0</td>\n<td>2</td>\n<td>1</td>\n<td>emdia/emdia_gps24/20220111/ROI02_z1/</td>\n<td>None</td>\n<td>None</td>\n<td>None</td>\n<td>None</td></tr><tr><td>23</td>\n<td>4</td>\n<td>0</td>\n<td>2</td>\n<td>1</td>\n<td>emdia/emdia_gps24/20220111/ROI03_z1/</td>\n<td>None</td>\n<td>None</td>\n<td>None</td>\n<td>None</td> </tr> </tbody>\n        </table>\n        \n        <p>Total: 7</p></div>\n        "
     },
     "metadata": {},
     "execution_count": 7
    }
   ],
   "source": [
    "recording.RecordingProcess()\n",
    "\n"
   ]
  },
  {
   "cell_type": "code",
   "execution_count": 8,
   "metadata": {},
   "outputs": [
    {
     "output_type": "execute_result",
     "data": {
      "text/plain": [
       "*recording_id  recording_moda location     status_recordi preprocess_par process_params task_copy_id_p inherit_params recording_dire local_director\n",
       "+------------+ +------------+ +----------+ +------------+ +------------+ +------------+ +------------+ +------------+ +------------+ +------------+\n",
       "2              electrophysiol Bezos1       3              1              1              None           1              ms81/ms81_M004 ms81/ms81_M004\n",
       "3              electrophysiol Bezos1       3              1              1              None           1              ms81/ms81_M004 ms81/ms81_M004\n",
       "4              imaging        Bezos1       3              2              1              None           1              emdia/emdia_gp emdia/emdia_gp\n",
       " (Total: 3)"
      ],
      "text/html": "\n    \n    <style type=\"text/css\">\n        .Relation{\n            border-collapse:collapse;\n        }\n        .Relation th{\n            background: #A0A0A0; color: #ffffff; padding:4px; border:#f0e0e0 1px solid;\n            font-weight: normal; font-family: monospace; font-size: 100%;\n        }\n        .Relation td{\n            padding:4px; border:#f0e0e0 1px solid; font-size:100%;\n        }\n        .Relation tr:nth-child(odd){\n            background: #ffffff;\n        }\n        .Relation tr:nth-child(even){\n            background: #f3f1ff;\n        }\n        /* Tooltip container */\n        .djtooltip {\n        }\n        /* Tooltip text */\n        .djtooltip .djtooltiptext {\n            visibility: hidden;\n            width: 120px;\n            background-color: black;\n            color: #fff;\n            text-align: center;\n            padding: 5px 0;\n            border-radius: 6px;\n            /* Position the tooltip text - see examples below! */\n            position: absolute;\n            z-index: 1;\n        }\n        #primary {\n            font-weight: bold;\n            color: black;\n        }\n        #nonprimary {\n            font-weight: normal;\n            color: white;\n        }\n\n        /* Show the tooltip text when you mouse over the tooltip container */\n        .djtooltip:hover .djtooltiptext {\n            visibility: visible;\n        }\n    </style>\n    \n    <b></b>\n        <div style=\"max-height:1000px;max-width:1500px;overflow:auto;\">\n        <table border=\"1\" class=\"Relation\">\n            <thead> <tr style=\"text-align: right;\"> <th> <div class=\"djtooltip\">\n                            <p id=\"primary\">recording_id</p>\n                            <span class=\"djtooltiptext\">Unique number assigned to each recording</span>\n                        </div></th><th><div class=\"djtooltip\">\n                            <p id=\"nonprimary\">recording_modality</p>\n                            <span class=\"djtooltiptext\">modalities for recording (ephys, imaging, video_recording, etc.)</span>\n                        </div></th><th><div class=\"djtooltip\">\n                            <p id=\"nonprimary\">location</p>\n                            <span class=\"djtooltiptext\"></span>\n                        </div></th><th><div class=\"djtooltip\">\n                            <p id=\"nonprimary\">status_recording_idx</p>\n                            <span class=\"djtooltiptext\">status in the automate process pipeline</span>\n                        </div></th><th><div class=\"djtooltip\">\n                            <p id=\"nonprimary\">preprocess_paramset_idx</p>\n                            <span class=\"djtooltiptext\"></span>\n                        </div></th><th><div class=\"djtooltip\">\n                            <p id=\"nonprimary\">process_paramset_idx</p>\n                            <span class=\"djtooltiptext\"></span>\n                        </div></th><th><div class=\"djtooltip\">\n                            <p id=\"nonprimary\">task_copy_id_pni</p>\n                            <span class=\"djtooltiptext\">id for globus transfer task raw file local->cup</span>\n                        </div></th><th><div class=\"djtooltip\">\n                            <p id=\"nonprimary\">inherit_params_recording</p>\n                            <span class=\"djtooltiptext\">all RecordingProcess from a recording will have same paramSets</span>\n                        </div></th><th><div class=\"djtooltip\">\n                            <p id=\"nonprimary\">recording_directory</p>\n                            <span class=\"djtooltiptext\">relative directory where the recording will be stored on cup</span>\n                        </div></th><th><div class=\"djtooltip\">\n                            <p id=\"nonprimary\">local_directory</p>\n                            <span class=\"djtooltiptext\">local directory where the recording is stored on system</span>\n                        </div> </th> </tr> </thead>\n            <tbody> <tr> <td>2</td>\n<td>electrophysiology</td>\n<td>Bezos1</td>\n<td>3</td>\n<td>1</td>\n<td>1</td>\n<td>None</td>\n<td>1</td>\n<td>ms81/ms81_M004/20210507/towersTask_g0</td>\n<td>ms81/ms81_M004/20210507/towersTask_g0</td></tr><tr><td>3</td>\n<td>electrophysiology</td>\n<td>Bezos1</td>\n<td>3</td>\n<td>1</td>\n<td>1</td>\n<td>None</td>\n<td>1</td>\n<td>ms81/ms81_M004/20210507/towersTask_g0</td>\n<td>ms81/ms81_M004/20210507/towersTask_g0</td></tr><tr><td>4</td>\n<td>imaging</td>\n<td>Bezos1</td>\n<td>3</td>\n<td>2</td>\n<td>1</td>\n<td>None</td>\n<td>1</td>\n<td>emdia/emdia_gps24/20220111</td>\n<td>emdia/emdia_gps24/20220111</td> </tr> </tbody>\n        </table>\n        \n        <p>Total: 3</p></div>\n        "
     },
     "metadata": {},
     "execution_count": 8
    }
   ],
   "source": [
    "recording.Recording()"
   ]
  },
  {
   "cell_type": "code",
   "execution_count": 9,
   "metadata": {},
   "outputs": [
    {
     "output_type": "execute_result",
     "data": {
      "text/plain": [
       "*recording_id  *probe    probe_director\n",
       "+------------+ +-------+ +------------+\n",
       "2              0         /Volumes/brain\n",
       "2              1         /Volumes/brain\n",
       "3              0         /Volumes/brain\n",
       "3              1         /Volumes/brain\n",
       " (Total: 4)"
      ],
      "text/html": "\n    \n    <style type=\"text/css\">\n        .Relation{\n            border-collapse:collapse;\n        }\n        .Relation th{\n            background: #A0A0A0; color: #ffffff; padding:4px; border:#f0e0e0 1px solid;\n            font-weight: normal; font-family: monospace; font-size: 100%;\n        }\n        .Relation td{\n            padding:4px; border:#f0e0e0 1px solid; font-size:100%;\n        }\n        .Relation tr:nth-child(odd){\n            background: #ffffff;\n        }\n        .Relation tr:nth-child(even){\n            background: #f3f1ff;\n        }\n        /* Tooltip container */\n        .djtooltip {\n        }\n        /* Tooltip text */\n        .djtooltip .djtooltiptext {\n            visibility: hidden;\n            width: 120px;\n            background-color: black;\n            color: #fff;\n            text-align: center;\n            padding: 5px 0;\n            border-radius: 6px;\n            /* Position the tooltip text - see examples below! */\n            position: absolute;\n            z-index: 1;\n        }\n        #primary {\n            font-weight: bold;\n            color: black;\n        }\n        #nonprimary {\n            font-weight: normal;\n            color: white;\n        }\n\n        /* Show the tooltip text when you mouse over the tooltip container */\n        .djtooltip:hover .djtooltiptext {\n            visibility: visible;\n        }\n    </style>\n    \n    <b>General information of an ephys session</b>\n        <div style=\"max-height:1000px;max-width:1500px;overflow:auto;\">\n        <table border=\"1\" class=\"Relation\">\n            <thead> <tr style=\"text-align: right;\"> <th> <div class=\"djtooltip\">\n                            <p id=\"primary\">recording_id</p>\n                            <span class=\"djtooltiptext\">Unique number assigned to each recording</span>\n                        </div></th><th><div class=\"djtooltip\">\n                            <p id=\"primary\">probe</p>\n                            <span class=\"djtooltiptext\">probe number for the recording</span>\n                        </div></th><th><div class=\"djtooltip\">\n                            <p id=\"nonprimary\">probe_directory</p>\n                            <span class=\"djtooltiptext\">probe specific directory</span>\n                        </div> </th> </tr> </thead>\n            <tbody> <tr> <td>2</td>\n<td>0</td>\n<td>/Volumes/braininit/Data/electrophysiology/ms81/ms81_M004/20210507/towersTask_g0/towersTask_g0_imec0/</td></tr><tr><td>2</td>\n<td>1</td>\n<td>/Volumes/braininit/Data/electrophysiology/ms81/ms81_M004/20210507/towersTask_g0/towersTask_g0_imec1/</td></tr><tr><td>3</td>\n<td>0</td>\n<td>/Volumes/braininit/Data/electrophysiology/ms81/ms81_M004/20210507/towersTask_g0/towersTask_g0_imec0/</td></tr><tr><td>3</td>\n<td>1</td>\n<td>/Volumes/braininit/Data/electrophysiology/ms81/ms81_M004/20210507/towersTask_g0/towersTask_g0_imec1/</td> </tr> </tbody>\n        </table>\n        \n        <p>Total: 4</p></div>\n        "
     },
     "metadata": {},
     "execution_count": 9
    }
   ],
   "source": [
    "ephys.EphysRecordingProbes()"
   ]
  },
  {
   "cell_type": "markdown",
   "metadata": {},
   "source": [
    "### Declare AutoPipeline and Status tables if they don't exist"
   ]
  },
  {
   "cell_type": "code",
   "execution_count": 10,
   "metadata": {},
   "outputs": [
    {
     "output_type": "execute_result",
     "data": {
      "text/plain": [
       "*recording_pro recording_id   probe    \n",
       "+------------+ +------------+ +-------+\n",
       "16             2              0        \n",
       "17             2              1        \n",
       "18             3              0        \n",
       "19             3              1        \n",
       " (Total: 4)"
      ],
      "text/html": "\n    \n    <style type=\"text/css\">\n        .Relation{\n            border-collapse:collapse;\n        }\n        .Relation th{\n            background: #A0A0A0; color: #ffffff; padding:4px; border:#f0e0e0 1px solid;\n            font-weight: normal; font-family: monospace; font-size: 100%;\n        }\n        .Relation td{\n            padding:4px; border:#f0e0e0 1px solid; font-size:100%;\n        }\n        .Relation tr:nth-child(odd){\n            background: #ffffff;\n        }\n        .Relation tr:nth-child(even){\n            background: #f3f1ff;\n        }\n        /* Tooltip container */\n        .djtooltip {\n        }\n        /* Tooltip text */\n        .djtooltip .djtooltiptext {\n            visibility: hidden;\n            width: 120px;\n            background-color: black;\n            color: #fff;\n            text-align: center;\n            padding: 5px 0;\n            border-radius: 6px;\n            /* Position the tooltip text - see examples below! */\n            position: absolute;\n            z-index: 1;\n        }\n        #primary {\n            font-weight: bold;\n            color: black;\n        }\n        #nonprimary {\n            font-weight: normal;\n            color: white;\n        }\n\n        /* Show the tooltip text when you mouse over the tooltip container */\n        .djtooltip:hover .djtooltiptext {\n            visibility: visible;\n        }\n    </style>\n    \n    <b></b>\n        <div style=\"max-height:1000px;max-width:1500px;overflow:auto;\">\n        <table border=\"1\" class=\"Relation\">\n            <thead> <tr style=\"text-align: right;\"> <th> <div class=\"djtooltip\">\n                            <p id=\"primary\">recording_process_id</p>\n                            <span class=\"djtooltiptext\">Unique number assigned to each processing job for a recording unit</span>\n                        </div></th><th><div class=\"djtooltip\">\n                            <p id=\"nonprimary\">recording_id</p>\n                            <span class=\"djtooltiptext\">Unique number assigned to each recording</span>\n                        </div></th><th><div class=\"djtooltip\">\n                            <p id=\"nonprimary\">probe</p>\n                            <span class=\"djtooltiptext\">probe number for the recording</span>\n                        </div> </th> </tr> </thead>\n            <tbody> <tr> <td>16</td>\n<td>2</td>\n<td>0</td></tr><tr><td>17</td>\n<td>2</td>\n<td>1</td></tr><tr><td>18</td>\n<td>3</td>\n<td>0</td></tr><tr><td>19</td>\n<td>3</td>\n<td>1</td> </tr> </tbody>\n        </table>\n        \n        <p>Total: 4</p></div>\n        "
     },
     "metadata": {},
     "execution_count": 10
    }
   ],
   "source": [
    "ephys.EphysProcessing()"
   ]
  },
  {
   "cell_type": "code",
   "execution_count": 11,
   "metadata": {},
   "outputs": [
    {
     "output_type": "execute_result",
     "data": {
      "text/plain": [
       "*recording_id \n",
       "+------------+\n",
       "4             \n",
       " (Total: 1)"
      ],
      "text/html": "\n    \n    <style type=\"text/css\">\n        .Relation{\n            border-collapse:collapse;\n        }\n        .Relation th{\n            background: #A0A0A0; color: #ffffff; padding:4px; border:#f0e0e0 1px solid;\n            font-weight: normal; font-family: monospace; font-size: 100%;\n        }\n        .Relation td{\n            padding:4px; border:#f0e0e0 1px solid; font-size:100%;\n        }\n        .Relation tr:nth-child(odd){\n            background: #ffffff;\n        }\n        .Relation tr:nth-child(even){\n            background: #f3f1ff;\n        }\n        /* Tooltip container */\n        .djtooltip {\n        }\n        /* Tooltip text */\n        .djtooltip .djtooltiptext {\n            visibility: hidden;\n            width: 120px;\n            background-color: black;\n            color: #fff;\n            text-align: center;\n            padding: 5px 0;\n            border-radius: 6px;\n            /* Position the tooltip text - see examples below! */\n            position: absolute;\n            z-index: 1;\n        }\n        #primary {\n            font-weight: bold;\n            color: black;\n        }\n        #nonprimary {\n            font-weight: normal;\n            color: white;\n        }\n\n        /* Show the tooltip text when you mouse over the tooltip container */\n        .djtooltip:hover .djtooltiptext {\n            visibility: visible;\n        }\n    </style>\n    \n    <b>General information of an imaging session</b>\n        <div style=\"max-height:1000px;max-width:1500px;overflow:auto;\">\n        <table border=\"1\" class=\"Relation\">\n            <thead> <tr style=\"text-align: right;\"> <th> <div class=\"djtooltip\">\n                            <p id=\"primary\">recording_id</p>\n                            <span class=\"djtooltiptext\">Unique number assigned to each recording</span>\n                        </div> </th> </tr> </thead>\n            <tbody> <tr> <td>4</td> </tr> </tbody>\n        </table>\n        \n        <p>Total: 1</p></div>\n        "
     },
     "metadata": {},
     "execution_count": 11
    }
   ],
   "source": [
    "imaging_rec.Scan()\n"
   ]
  },
  {
   "cell_type": "code",
   "execution_count": 13,
   "metadata": {},
   "outputs": [
    {
     "output_type": "execute_result",
     "data": {
      "text/plain": [
       "*recording_id  file_name_base scan_width     scan_height    acq_time       n_depths     scan_depth frame_rate     inter_fov_lag_ frame_ts_s channels   cfg_filename   usr_filename   fast_z_lag     fast_z_flyback line_period    scan_frame_per scan_volume_ra flyback_time_p flyto_time_per fov_corner nfovs     nframes     nframes_good   last_good_file motion_correct motion_correct stacks_enabled stack_actuator stack_definiti\n",
       "+------------+ +------------+ +------------+ +------------+ +------------+ +----------+ +--------+ +------------+ +------------+ +--------+ +--------+ +------------+ +------------+ +------------+ +------------+ +------------+ +------------+ +------------+ +------------+ +------------+ +--------+ +-------+ +---------+ +------------+ +------------+ +------------+ +------------+ +------------+ +------------+ +------------+\n",
       "4              emdia/emdia_gp 512            1588           2022-01-11 00: 1            =BLOB=     14.3005        0.001          =BLOB=     =BLOB=     C:\\Users\\admin C:\\Users\\admin 0.0008         0.004          4.14754e-05    0.0699276      14.3005        0.001          0.001          =BLOB=     3         51468       36000          18             1              automated      1              fastZ          arbitrary     \n",
       " (Total: 1)"
      ],
      "text/html": "\n    \n    <style type=\"text/css\">\n        .Relation{\n            border-collapse:collapse;\n        }\n        .Relation th{\n            background: #A0A0A0; color: #ffffff; padding:4px; border:#f0e0e0 1px solid;\n            font-weight: normal; font-family: monospace; font-size: 100%;\n        }\n        .Relation td{\n            padding:4px; border:#f0e0e0 1px solid; font-size:100%;\n        }\n        .Relation tr:nth-child(odd){\n            background: #ffffff;\n        }\n        .Relation tr:nth-child(even){\n            background: #f3f1ff;\n        }\n        /* Tooltip container */\n        .djtooltip {\n        }\n        /* Tooltip text */\n        .djtooltip .djtooltiptext {\n            visibility: hidden;\n            width: 120px;\n            background-color: black;\n            color: #fff;\n            text-align: center;\n            padding: 5px 0;\n            border-radius: 6px;\n            /* Position the tooltip text - see examples below! */\n            position: absolute;\n            z-index: 1;\n        }\n        #primary {\n            font-weight: bold;\n            color: black;\n        }\n        #nonprimary {\n            font-weight: normal;\n            color: white;\n        }\n\n        /* Show the tooltip text when you mouse over the tooltip container */\n        .djtooltip:hover .djtooltiptext {\n            visibility: visible;\n        }\n    </style>\n    \n    <b>metainfo about imaging session</b>\n        <div style=\"max-height:1000px;max-width:1500px;overflow:auto;\">\n        <table border=\"1\" class=\"Relation\">\n            <thead> <tr style=\"text-align: right;\"> <th> <div class=\"djtooltip\">\n                            <p id=\"primary\">recording_id</p>\n                            <span class=\"djtooltiptext\">Unique number assigned to each recording</span>\n                        </div></th><th><div class=\"djtooltip\">\n                            <p id=\"nonprimary\">file_name_base</p>\n                            <span class=\"djtooltiptext\">base name of the file</span>\n                        </div></th><th><div class=\"djtooltip\">\n                            <p id=\"nonprimary\">scan_width</p>\n                            <span class=\"djtooltiptext\">width of scanning in pixels</span>\n                        </div></th><th><div class=\"djtooltip\">\n                            <p id=\"nonprimary\">scan_height</p>\n                            <span class=\"djtooltiptext\">height of scanning in pixels</span>\n                        </div></th><th><div class=\"djtooltip\">\n                            <p id=\"nonprimary\">acq_time</p>\n                            <span class=\"djtooltiptext\">acquisition time</span>\n                        </div></th><th><div class=\"djtooltip\">\n                            <p id=\"nonprimary\">n_depths</p>\n                            <span class=\"djtooltiptext\">number of depths</span>\n                        </div></th><th><div class=\"djtooltip\">\n                            <p id=\"nonprimary\">scan_depths</p>\n                            <span class=\"djtooltiptext\">depth values in this scan</span>\n                        </div></th><th><div class=\"djtooltip\">\n                            <p id=\"nonprimary\">frame_rate</p>\n                            <span class=\"djtooltiptext\">imaging frame rate</span>\n                        </div></th><th><div class=\"djtooltip\">\n                            <p id=\"nonprimary\">inter_fov_lag_sec</p>\n                            <span class=\"djtooltiptext\">time lag in secs between fovs</span>\n                        </div></th><th><div class=\"djtooltip\">\n                            <p id=\"nonprimary\">frame_ts_sec</p>\n                            <span class=\"djtooltiptext\">frame timestamps in secs 1xnFrames</span>\n                        </div></th><th><div class=\"djtooltip\">\n                            <p id=\"nonprimary\">channels</p>\n                            <span class=\"djtooltiptext\">is this the channer number or total number of channels</span>\n                        </div></th><th><div class=\"djtooltip\">\n                            <p id=\"nonprimary\">cfg_filename</p>\n                            <span class=\"djtooltiptext\">cfg file path</span>\n                        </div></th><th><div class=\"djtooltip\">\n                            <p id=\"nonprimary\">usr_filename</p>\n                            <span class=\"djtooltiptext\">usr file path</span>\n                        </div></th><th><div class=\"djtooltip\">\n                            <p id=\"nonprimary\">fast_z_lag</p>\n                            <span class=\"djtooltiptext\">fast z lag</span>\n                        </div></th><th><div class=\"djtooltip\">\n                            <p id=\"nonprimary\">fast_z_flyback_time</p>\n                            <span class=\"djtooltiptext\">time it takes to fly back to fov</span>\n                        </div></th><th><div class=\"djtooltip\">\n                            <p id=\"nonprimary\">line_period</p>\n                            <span class=\"djtooltiptext\">scan time per line</span>\n                        </div></th><th><div class=\"djtooltip\">\n                            <p id=\"nonprimary\">scan_frame_period</p>\n                            <span class=\"djtooltiptext\"></span>\n                        </div></th><th><div class=\"djtooltip\">\n                            <p id=\"nonprimary\">scan_volume_rate</p>\n                            <span class=\"djtooltiptext\"></span>\n                        </div></th><th><div class=\"djtooltip\">\n                            <p id=\"nonprimary\">flyback_time_per_frame</p>\n                            <span class=\"djtooltiptext\"></span>\n                        </div></th><th><div class=\"djtooltip\">\n                            <p id=\"nonprimary\">flyto_time_per_scan_field</p>\n                            <span class=\"djtooltiptext\"></span>\n                        </div></th><th><div class=\"djtooltip\">\n                            <p id=\"nonprimary\">fov_corner_points</p>\n                            <span class=\"djtooltiptext\">coordinates of the corners of the full 5mm FOV, in microns</span>\n                        </div></th><th><div class=\"djtooltip\">\n                            <p id=\"nonprimary\">nfovs</p>\n                            <span class=\"djtooltiptext\">number of field of view</span>\n                        </div></th><th><div class=\"djtooltip\">\n                            <p id=\"nonprimary\">nframes</p>\n                            <span class=\"djtooltiptext\">number of frames in the scan</span>\n                        </div></th><th><div class=\"djtooltip\">\n                            <p id=\"nonprimary\">nframes_good</p>\n                            <span class=\"djtooltiptext\">number of frames in the scan before acceptable sample bleaching threshold is crossed</span>\n                        </div></th><th><div class=\"djtooltip\">\n                            <p id=\"nonprimary\">last_good_file</p>\n                            <span class=\"djtooltiptext\">number of the file containing the last good frame because of bleaching</span>\n                        </div></th><th><div class=\"djtooltip\">\n                            <p id=\"nonprimary\">motion_correction_enabled</p>\n                            <span class=\"djtooltiptext\"></span>\n                        </div></th><th><div class=\"djtooltip\">\n                            <p id=\"nonprimary\">motion_correction_mode</p>\n                            <span class=\"djtooltiptext\"></span>\n                        </div></th><th><div class=\"djtooltip\">\n                            <p id=\"nonprimary\">stacks_enabled</p>\n                            <span class=\"djtooltiptext\"></span>\n                        </div></th><th><div class=\"djtooltip\">\n                            <p id=\"nonprimary\">stack_actuator</p>\n                            <span class=\"djtooltiptext\"></span>\n                        </div></th><th><div class=\"djtooltip\">\n                            <p id=\"nonprimary\">stack_definition</p>\n                            <span class=\"djtooltiptext\"></span>\n                        </div> </th> </tr> </thead>\n            <tbody> <tr> <td>4</td>\n<td>emdia/emdia_gps24/20220111/gps24_20220111_mainrecording_00001_00001.tif</td>\n<td>512</td>\n<td>1588</td>\n<td>2022-01-11 00:00:00</td>\n<td>1</td>\n<td>=BLOB=</td>\n<td>14.3005</td>\n<td>0.001</td>\n<td>=BLOB=</td>\n<td>=BLOB=</td>\n<td>C:\\Users\\admin\\Documents\\MATLAB\\MikaToo.cfg</td>\n<td>C:\\Users\\admin\\Documents\\MATLAB\\Mika.usr</td>\n<td>0.0008</td>\n<td>0.004</td>\n<td>4.14754e-05</td>\n<td>0.0699276</td>\n<td>14.3005</td>\n<td>0.001</td>\n<td>0.001</td>\n<td>=BLOB=</td>\n<td>3</td>\n<td>51468</td>\n<td>36000</td>\n<td>18</td>\n<td>1</td>\n<td>automated</td>\n<td>1</td>\n<td>fastZ</td>\n<td>arbitrary</td> </tr> </tbody>\n        </table>\n        \n        <p>Total: 1</p></div>\n        "
     },
     "metadata": {},
     "execution_count": 13
    }
   ],
   "source": [
    "imaging_rec.ScanInfo()"
   ]
  },
  {
   "cell_type": "code",
   "execution_count": 14,
   "metadata": {},
   "outputs": [
    {
     "output_type": "execute_result",
     "data": {
      "text/plain": [
       "*recording_pro recording_id   fov    \n",
       "+------------+ +------------+ +-----+\n",
       "21             4              1      \n",
       "22             4              2      \n",
       "23             4              3      \n",
       " (Total: 3)"
      ],
      "text/html": "\n    \n    <style type=\"text/css\">\n        .Relation{\n            border-collapse:collapse;\n        }\n        .Relation th{\n            background: #A0A0A0; color: #ffffff; padding:4px; border:#f0e0e0 1px solid;\n            font-weight: normal; font-family: monospace; font-size: 100%;\n        }\n        .Relation td{\n            padding:4px; border:#f0e0e0 1px solid; font-size:100%;\n        }\n        .Relation tr:nth-child(odd){\n            background: #ffffff;\n        }\n        .Relation tr:nth-child(even){\n            background: #f3f1ff;\n        }\n        /* Tooltip container */\n        .djtooltip {\n        }\n        /* Tooltip text */\n        .djtooltip .djtooltiptext {\n            visibility: hidden;\n            width: 120px;\n            background-color: black;\n            color: #fff;\n            text-align: center;\n            padding: 5px 0;\n            border-radius: 6px;\n            /* Position the tooltip text - see examples below! */\n            position: absolute;\n            z-index: 1;\n        }\n        #primary {\n            font-weight: bold;\n            color: black;\n        }\n        #nonprimary {\n            font-weight: normal;\n            color: white;\n        }\n\n        /* Show the tooltip text when you mouse over the tooltip container */\n        .djtooltip:hover .djtooltiptext {\n            visibility: visible;\n        }\n    </style>\n    \n    <b></b>\n        <div style=\"max-height:1000px;max-width:1500px;overflow:auto;\">\n        <table border=\"1\" class=\"Relation\">\n            <thead> <tr style=\"text-align: right;\"> <th> <div class=\"djtooltip\">\n                            <p id=\"primary\">recording_process_id</p>\n                            <span class=\"djtooltiptext\">Unique number assigned to each processing job for a recording unit</span>\n                        </div></th><th><div class=\"djtooltip\">\n                            <p id=\"nonprimary\">recording_id</p>\n                            <span class=\"djtooltiptext\">Unique number assigned to each recording</span>\n                        </div></th><th><div class=\"djtooltip\">\n                            <p id=\"nonprimary\">fov</p>\n                            <span class=\"djtooltiptext\">number of the field of view in this scan</span>\n                        </div> </th> </tr> </thead>\n            <tbody> <tr> <td>21</td>\n<td>4</td>\n<td>1</td></tr><tr><td>22</td>\n<td>4</td>\n<td>2</td></tr><tr><td>23</td>\n<td>4</td>\n<td>3</td> </tr> </tbody>\n        </table>\n        \n        <p>Total: 3</p></div>\n        "
     },
     "metadata": {},
     "execution_count": 14
    }
   ],
   "source": [
    "imaging_rec.ImagingProcessing()"
   ]
  },
  {
   "cell_type": "code",
   "execution_count": 11,
   "metadata": {},
   "outputs": [
    {
     "output_type": "execute_result",
     "data": {
      "text/plain": [
       "11"
      ]
     },
     "metadata": {},
     "execution_count": 11
    }
   ],
   "source": [
    "a = pd.DataFrame(auto_pipeline.status_pipeline_dict)\n",
    "r = a['Value'].max()\n",
    "r"
   ]
  },
  {
   "cell_type": "code",
   "execution_count": 10,
   "metadata": {},
   "outputs": [
    {
     "output_type": "execute_result",
     "data": {
      "text/plain": [
       "<datajoint.diagram.Diagram at 0x7fe628cd3a90>"
      ],
      "image/svg+xml": "<svg height=\"469pt\" viewBox=\"0.00 0.00 1034.21 469.00\" width=\"1034pt\" xmlns=\"http://www.w3.org/2000/svg\" xmlns:xlink=\"http://www.w3.org/1999/xlink\">\n<g class=\"graph\" id=\"graph0\" transform=\"scale(1 1) rotate(0) translate(4 465)\">\n<polygon fill=\"white\" points=\"-4,4 -4,-465 1030.21,-465 1030.21,4 -4,4\" stroke=\"transparent\"/>\n<!-- 20 -->\n<g class=\"node\" id=\"node1\">\n<title>20</title>\n<ellipse cx=\"258.21\" cy=\"-372.5\" fill=\"#ff8800\" fill-opacity=\"0.501961\" rx=\"2\" ry=\"2\" stroke=\"#ff8800\" stroke-opacity=\"0.501961\"/>\n<text fill=\"#ff8800\" fill-opacity=\"0.501961\" font-family=\"arial\" font-size=\"1.00\" text-anchor=\"middle\" x=\"258.21\" y=\"-372.2\">20</text>\n</g>\n<!-- recording.acquisition.Session -->\n<g class=\"node\" id=\"node5\">\n<title>recording.acquisition.Session</title>\n<g id=\"a_node5\"><a xlink:title=\"→ recording.acquisition.SessionStarted\r------------------------------\rsession_start_time   \rsession_end_time=null \r→ recording.lab.Location.proj(session_location=&quot;location&quot;)\r→ recording.task.TaskLevelParameterSet\rstimulus_bank=&quot;&quot;     \rstimulus_commit=&quot;&quot;   \rsession_performance  \rnum_trials=null      \rnum_trials_try=null  \rsession_narrative=&quot;&quot; \rsession_protocol=null \rsession_code_version=null \ris_bad_session=null  \rsession_comments=null \r\">\n<polygon fill=\"#00ff00\" fill-opacity=\"0.188235\" points=\"253.71,-248 80.71,-248 80.71,-213 253.71,-213 253.71,-248\" stroke=\"#00ff00\" stroke-opacity=\"0.188235\"/>\n<text fill=\"darkgreen\" font-family=\"arial\" font-size=\"12.00\" text-anchor=\"middle\" x=\"167.21\" y=\"-227.4\">recording.acquisition.Session</text>\n</a>\n</g>\n</g>\n<!-- 20&#45;&gt;recording.acquisition.Session -->\n<g class=\"edge\" id=\"edge1\">\n<title>20-&gt;recording.acquisition.Session</title>\n<path d=\"M258.24,-370.13C258.35,-361.53 258.01,-314.25 238.21,-284 228.47,-269.12 212.98,-256.94 198.95,-248.08\" fill=\"none\" stroke=\"#000000\" stroke-dasharray=\"5,2\" stroke-opacity=\"0.250980\" stroke-width=\"0.75\"/>\n</g>\n<!-- 19 -->\n<g class=\"node\" id=\"node2\">\n<title>19</title>\n<ellipse cx=\"908.21\" cy=\"-159.5\" fill=\"#ff8800\" fill-opacity=\"0.501961\" rx=\"2\" ry=\"2\" stroke=\"#ff8800\" stroke-opacity=\"0.501961\"/>\n<text fill=\"#ff8800\" fill-opacity=\"0.501961\" font-family=\"arial\" font-size=\"1.00\" text-anchor=\"middle\" x=\"908.21\" y=\"-159.2\">19</text>\n</g>\n<!-- recording.RecordingProcessStatus -->\n<g class=\"node\" id=\"node22\">\n<title>recording.RecordingProcessStatus</title>\n<g id=\"a_node22\"><a xlink:title=\"recording_process_status_id \r------------------------------\r→ recording.RecordingProcess\r→ recording.StatusProcessDefinition.proj(status_pipeline_idx_old=&quot;status_pipeline_idx&quot;)\r→ recording.StatusProcessDefinition.proj(status_pipeline_idx_new=&quot;status_pipeline_idx&quot;)\rstatus_timestamp     \rerror_message=null   \rerror_exception=null \r\">\n<polygon fill=\"#00ff00\" fill-opacity=\"0.188235\" points=\"1026.21,-106 824.21,-106 824.21,-71 1026.21,-71 1026.21,-106\" stroke=\"#00ff00\" stroke-opacity=\"0.188235\"/>\n<text fill=\"darkgreen\" font-family=\"arial\" font-size=\"12.00\" text-anchor=\"start\" text-decoration=\"underline\" x=\"832.21\" y=\"-86.4\">recording.RecordingProcessStatus</text>\n</a>\n</g>\n</g>\n<!-- 19&#45;&gt;recording.RecordingProcessStatus -->\n<g class=\"edge\" id=\"edge2\">\n<title>19-&gt;recording.RecordingProcessStatus</title>\n<path d=\"M908.51,-157.3C909.98,-151.33 916.64,-124.29 921.09,-106.22\" fill=\"none\" stroke=\"#000000\" stroke-dasharray=\"5,2\" stroke-opacity=\"0.250980\" stroke-width=\"0.75\"/>\n</g>\n<!-- 18 -->\n<g class=\"node\" id=\"node3\">\n<title>18</title>\n<ellipse cx=\"944.21\" cy=\"-159.5\" fill=\"#ff8800\" fill-opacity=\"0.501961\" rx=\"2\" ry=\"2\" stroke=\"#ff8800\" stroke-opacity=\"0.501961\"/>\n<text fill=\"#ff8800\" fill-opacity=\"0.501961\" font-family=\"arial\" font-size=\"1.00\" text-anchor=\"middle\" x=\"944.21\" y=\"-159.2\">18</text>\n</g>\n<!-- 18&#45;&gt;recording.RecordingProcessStatus -->\n<g class=\"edge\" id=\"edge3\">\n<title>18-&gt;recording.RecordingProcessStatus</title>\n<path d=\"M943.88,-157.3C942.24,-151.33 934.79,-124.29 929.82,-106.22\" fill=\"none\" stroke=\"#000000\" stroke-dasharray=\"5,2\" stroke-opacity=\"0.250980\" stroke-width=\"0.75\"/>\n</g>\n<!-- recording.Recording.RecordingSession -->\n<g class=\"node\" id=\"node4\">\n<title>recording.Recording.RecordingSession</title>\n<g id=\"a_node4\"><a xlink:title=\"→ recording.Recording\r------------------------------\r→ recording.subject.Subject\rrecording_datetime   \r\">\n<polygon fill=\"transparent\" points=\"202.21,-169 12.21,-169 12.21,-150 202.21,-150 202.21,-169\" stroke=\"transparent\"/>\n<text font-family=\"arial\" font-size=\"10.00\" text-anchor=\"middle\" x=\"107.21\" y=\"-157\">recording.Recording.RecordingSession</text>\n</a>\n</g>\n</g>\n<!-- recording.Recording.BehaviorSession -->\n<g class=\"node\" id=\"node21\">\n<title>recording.Recording.BehaviorSession</title>\n<g id=\"a_node21\"><a xlink:title=\"→ recording.Recording\r------------------------------\r→ recording.acquisition.Session\r\">\n<polygon fill=\"transparent\" points=\"404.21,-169 220.21,-169 220.21,-150 404.21,-150 404.21,-169\" stroke=\"transparent\"/>\n<text font-family=\"arial\" font-size=\"10.00\" text-anchor=\"middle\" x=\"312.21\" y=\"-157\">recording.Recording.BehaviorSession</text>\n</a>\n</g>\n</g>\n<!-- recording.acquisition.Session&#45;&gt;recording.Recording.BehaviorSession -->\n<g class=\"edge\" id=\"edge4\">\n<title>recording.acquisition.Session-&gt;recording.Recording.BehaviorSession</title>\n<path d=\"M201.94,-212.97C230.93,-199.18 271.1,-180.06 294.1,-169.12\" fill=\"none\" stroke=\"#000000\" stroke-dasharray=\"5,2\" stroke-opacity=\"0.250980\" stroke-width=\"0.75\"/>\n</g>\n<!-- recording.StatusProcessDefinition -->\n<g class=\"node\" id=\"node6\">\n<title>recording.StatusProcessDefinition</title>\n<g id=\"a_node6\"><a xlink:title=\"status_pipeline_idx  \r------------------------------\rstatus_definition    \r\">\n<polygon fill=\"#000000\" fill-opacity=\"0.125490\" points=\"991.71,-248 824.71,-248 824.71,-213 991.71,-213 991.71,-248\" stroke=\"transparent\"/>\n<text font-family=\"arial\" font-size=\"10.00\" text-anchor=\"start\" text-decoration=\"underline\" x=\"832.71\" y=\"-229\">recording.StatusProcessDefinition</text>\n</a>\n</g>\n</g>\n<!-- recording.StatusProcessDefinition&#45;&gt;19 -->\n<g class=\"edge\" id=\"edge6\">\n<title>recording.StatusProcessDefinition-&gt;19</title>\n<path d=\"M908.21,-212.8C908.21,-194.93 908.21,-168.29 908.21,-161.91\" fill=\"none\" stroke=\"#000000\" stroke-dasharray=\"5,2\" stroke-opacity=\"0.250980\" stroke-width=\"0.75\"/>\n</g>\n<!-- recording.StatusProcessDefinition&#45;&gt;18 -->\n<g class=\"edge\" id=\"edge5\">\n<title>recording.StatusProcessDefinition-&gt;18</title>\n<path d=\"M916.93,-212.8C926.25,-194.93 940.15,-168.29 943.48,-161.91\" fill=\"none\" stroke=\"#000000\" stroke-dasharray=\"5,2\" stroke-opacity=\"0.250980\" stroke-width=\"0.75\"/>\n</g>\n<!-- recording.RecordingProcess -->\n<g class=\"node\" id=\"node20\">\n<title>recording.RecordingProcess</title>\n<g id=\"a_node20\"><a xlink:title=\"recording_process_id \r------------------------------\r→ recording.Recording\r→ recording.StatusProcessDefinition\r→ recording.PreprocessParamSet\r→ recording.ProcessParamSet\rrecording_process_pre_path=null : varchar(200)                 # relative path for raw data recording subdirectory that will be processed (ephys→ probe, imaging→fieldofview)\rrecording_process_post_path=null \rtask_copy_id_pre=null : UUID                         # id for globus transfer task raw file cup→tiger\rtask_copy_id_post=null : UUID                         # id for globus transfer task sorted file tiger→cup\rslurm_id=null        \r\">\n<polygon fill=\"#00ff00\" fill-opacity=\"0.188235\" points=\"880.21,-177 712.21,-177 712.21,-142 880.21,-142 880.21,-177\" stroke=\"#00ff00\" stroke-opacity=\"0.188235\"/>\n<text fill=\"darkgreen\" font-family=\"arial\" font-size=\"12.00\" text-anchor=\"start\" text-decoration=\"underline\" x=\"720.21\" y=\"-157.4\">recording.RecordingProcess</text>\n</a>\n</g>\n</g>\n<!-- recording.StatusProcessDefinition&#45;&gt;recording.RecordingProcess -->\n<g class=\"edge\" id=\"edge7\">\n<title>recording.StatusProcessDefinition-&gt;recording.RecordingProcess</title>\n<path d=\"M881.38,-212.97C863.78,-202.13 840.84,-188 823.21,-177.13\" fill=\"none\" stroke=\"#000000\" stroke-dasharray=\"5,2\" stroke-opacity=\"0.250980\" stroke-width=\"0.75\"/>\n</g>\n<!-- recording.StatusRecordingDefinition -->\n<g class=\"node\" id=\"node7\">\n<title>recording.StatusRecordingDefinition</title>\n<g id=\"a_node7\"><a xlink:title=\"status_recording_idx \r------------------------------\rstatus_definition    \r\">\n<polygon fill=\"#000000\" fill-opacity=\"0.125490\" points=\"539.71,-319 362.71,-319 362.71,-284 539.71,-284 539.71,-319\" stroke=\"transparent\"/>\n<text font-family=\"arial\" font-size=\"10.00\" text-anchor=\"start\" text-decoration=\"underline\" x=\"370.71\" y=\"-300\">recording.StatusRecordingDefinition</text>\n</a>\n</g>\n</g>\n<!-- recording.Recording -->\n<g class=\"node\" id=\"node8\">\n<title>recording.Recording</title>\n<g id=\"a_node8\"><a xlink:title=\"recording_id         \r------------------------------\r→ recording.RecordingModality\r→ recording.lab.Location\r→ recording.StatusRecordingDefinition\r→ recording.PreprocessParamSet\r→ recording.ProcessParamSet\rtask_copy_id_pni=null : UUID                         # id for globus transfer task raw file local→cup\rinherit_params_recording=1 \rrecording_directory  \rlocal_directory      \r\">\n<polygon fill=\"#00ff00\" fill-opacity=\"0.188235\" points=\"396.71,-248 271.71,-248 271.71,-213 396.71,-213 396.71,-248\" stroke=\"#00ff00\" stroke-opacity=\"0.188235\"/>\n<text fill=\"darkgreen\" font-family=\"arial\" font-size=\"12.00\" text-anchor=\"start\" text-decoration=\"underline\" x=\"279.71\" y=\"-228.4\">recording.Recording</text>\n</a>\n</g>\n</g>\n<!-- recording.StatusRecordingDefinition&#45;&gt;recording.Recording -->\n<g class=\"edge\" id=\"edge8\">\n<title>recording.StatusRecordingDefinition-&gt;recording.Recording</title>\n<path d=\"M423.19,-283.97C404.8,-273.13 380.84,-259 362.41,-248.13\" fill=\"none\" stroke=\"#000000\" stroke-dasharray=\"5,2\" stroke-opacity=\"0.250980\" stroke-width=\"0.75\"/>\n</g>\n<!-- recording.Recording&#45;&gt;recording.Recording.RecordingSession -->\n<g class=\"edge\" id=\"edge9\">\n<title>recording.Recording-&gt;recording.Recording.RecordingSession</title>\n<path d=\"M279.84,-212.97C234.33,-199.14 171.21,-179.95 135.26,-169.03\" fill=\"none\" stroke=\"#000000\" stroke-opacity=\"0.250980\" stroke-width=\"2\"/>\n</g>\n<!-- imaging_rec.Scan -->\n<g class=\"node\" id=\"node16\">\n<title>imaging_rec.Scan</title>\n<g id=\"a_node16\"><a xlink:title=\"→ recording.Recording\r\">\n<ellipse cx=\"637.21\" cy=\"-159.5\" fill=\"#ff0000\" fill-opacity=\"0.125490\" rx=\"13\" ry=\"13\" stroke=\"#ff0000\" stroke-opacity=\"0.125490\"/>\n<text fill=\"#7f0000\" fill-opacity=\"0.627451\" font-family=\"arial\" font-size=\"12.00\" text-anchor=\"middle\" x=\"637.21\" y=\"-156.4\">imaging_rec.Scan</text>\n</a>\n</g>\n</g>\n<!-- recording.Recording&#45;&gt;imaging_rec.Scan -->\n<g class=\"edge\" id=\"edge10\">\n<title>recording.Recording-&gt;imaging_rec.Scan</title>\n<path d=\"M396.94,-216.09C444.77,-205.74 512.25,-190.9 571.21,-177 589.83,-172.61 611.32,-167.17 624.58,-163.76\" fill=\"none\" stroke=\"#000000\" stroke-opacity=\"0.250980\" stroke-width=\"2\"/>\n</g>\n<!-- ephys.EphysRecording -->\n<g class=\"node\" id=\"node18\">\n<title>ephys.EphysRecording</title>\n<g id=\"a_node18\"><a xlink:title=\"→ recording.Recording\r\">\n<ellipse cx=\"492.21\" cy=\"-159.5\" fill=\"#ff0000\" fill-opacity=\"0.125490\" rx=\"13\" ry=\"13\" stroke=\"#ff0000\" stroke-opacity=\"0.125490\"/>\n<text fill=\"#7f0000\" fill-opacity=\"0.627451\" font-family=\"arial\" font-size=\"12.00\" text-anchor=\"middle\" x=\"492.21\" y=\"-156.4\">ephys.EphysRecording</text>\n</a>\n</g>\n</g>\n<!-- recording.Recording&#45;&gt;ephys.EphysRecording -->\n<g class=\"edge\" id=\"edge11\">\n<title>recording.Recording-&gt;ephys.EphysRecording</title>\n<path d=\"M372.06,-212.97C407.3,-197.58 457.69,-175.57 480.36,-165.67\" fill=\"none\" stroke=\"#000000\" stroke-opacity=\"0.250980\" stroke-width=\"2\"/>\n</g>\n<!-- recording.Recording&#45;&gt;recording.RecordingProcess -->\n<g class=\"edge\" id=\"edge12\">\n<title>recording.Recording-&gt;recording.RecordingProcess</title>\n<path d=\"M396.99,-221.24C470.5,-211.4 595.86,-194.15 703.21,-177 706.13,-176.53 709.09,-176.05 712.08,-175.56\" fill=\"none\" stroke=\"#000000\" stroke-dasharray=\"5,2\" stroke-opacity=\"0.250980\" stroke-width=\"0.75\"/>\n</g>\n<!-- recording.Recording&#45;&gt;recording.Recording.BehaviorSession -->\n<g class=\"edge\" id=\"edge13\">\n<title>recording.Recording-&gt;recording.Recording.BehaviorSession</title>\n<path d=\"M328.89,-212.8C324.51,-199.08 318.49,-180.19 315.01,-169.27\" fill=\"none\" stroke=\"#000000\" stroke-opacity=\"0.250980\" stroke-width=\"2\"/>\n</g>\n<!-- recording.ProcessParamSet -->\n<g class=\"node\" id=\"node9\">\n<title>recording.ProcessParamSet</title>\n<g id=\"a_node9\"><a xlink:title=\"process_paramset_idx \r------------------------------\r→ recording.RecordingModality\rprocess_paramset_desc \rprocess_paramset_hash \rprocess_paramset     \rUNIQUE INDEX (process_paramset_hash)\r\">\n<polygon fill=\"#000000\" fill-opacity=\"0.125490\" points=\"700.21,-319 558.21,-319 558.21,-284 700.21,-284 700.21,-319\" stroke=\"transparent\"/>\n<text font-family=\"arial\" font-size=\"10.00\" text-anchor=\"start\" text-decoration=\"underline\" x=\"566.21\" y=\"-300\">recording.ProcessParamSet</text>\n</a>\n</g>\n</g>\n<!-- recording.ProcessParamSet&#45;&gt;recording.Recording -->\n<g class=\"edge\" id=\"edge14\">\n<title>recording.ProcessParamSet-&gt;recording.Recording</title>\n<path d=\"M558.55,-283.97C509.29,-272.45 444.16,-257.22 396.78,-246.13\" fill=\"none\" stroke=\"#000000\" stroke-dasharray=\"5,2\" stroke-opacity=\"0.250980\" stroke-width=\"0.75\"/>\n</g>\n<!-- recording.ProcessParamSet&#45;&gt;recording.RecordingProcess -->\n<g class=\"edge\" id=\"edge15\">\n<title>recording.ProcessParamSet-&gt;recording.RecordingProcess</title>\n<path d=\"M649.02,-283.89C681.16,-256.95 744.3,-204.02 776.42,-177.09\" fill=\"none\" stroke=\"#000000\" stroke-dasharray=\"5,2\" stroke-opacity=\"0.250980\" stroke-width=\"0.75\"/>\n</g>\n<!-- recording.subject.Subject -->\n<g class=\"node\" id=\"node10\">\n<title>recording.subject.Subject</title>\n<g id=\"a_node10\"><a xlink:title=\"subject_fullname     \r------------------------------\rsubject_nickname     \r→ recording.lab.User\rgenomics_id=null     \rsex=&quot;Unknown&quot;        \rdob=null             \rhead_plate_mark=null \r→ recording.lab.Location\r→ [nullable] recording.lab.Protocol\r→ [nullable] recording.subject.Line\rsubject_description=&quot;&quot; \rinitial_weight=null  \rnotification_enabled=1 \rneed_reweight=0      \r\">\n<polygon fill=\"#00ff00\" fill-opacity=\"0.188235\" points=\"199.71,-390 48.71,-390 48.71,-355 199.71,-355 199.71,-390\" stroke=\"#00ff00\" stroke-opacity=\"0.188235\"/>\n<text fill=\"darkgreen\" font-family=\"arial\" font-size=\"12.00\" text-anchor=\"start\" text-decoration=\"underline\" x=\"56.71\" y=\"-370.4\">recording.subject.Subject</text>\n</a>\n</g>\n</g>\n<!-- recording.subject.Subject&#45;&gt;recording.Recording.RecordingSession -->\n<g class=\"edge\" id=\"edge16\">\n<title>recording.subject.Subject-&gt;recording.Recording.RecordingSession</title>\n<path d=\"M55.63,-354.99C37.47,-347.16 19.95,-335.71 9.21,-319 -27.17,-262.39 60.26,-193.14 94.33,-169.16\" fill=\"none\" stroke=\"#000000\" stroke-dasharray=\"5,2\" stroke-opacity=\"0.250980\" stroke-width=\"0.75\"/>\n</g>\n<!-- recording.acquisition.SessionStarted -->\n<g class=\"node\" id=\"node17\">\n<title>recording.acquisition.SessionStarted</title>\n<g id=\"a_node17\"><a xlink:title=\"→ recording.subject.Subject\rsession_date=&quot;curdate()&quot; \rsession_number       \r------------------------------\rsession_start_time=&quot;current_timestamp()&quot; \r→ recording.lab.Location.proj(session_location=&quot;location&quot;)\r→ recording.task.Task\rlocal_path_behavior_file \rremote_path_behavior_file \ris_finished=0        \rinvalid_session=0    \r%}\r\">\n<polygon fill=\"#00ff00\" fill-opacity=\"0.188235\" points=\"229.71,-319 18.71,-319 18.71,-284 229.71,-284 229.71,-319\" stroke=\"#00ff00\" stroke-opacity=\"0.188235\"/>\n<text fill=\"darkgreen\" font-family=\"arial\" font-size=\"12.00\" text-anchor=\"middle\" x=\"124.21\" y=\"-298.4\">recording.acquisition.SessionStarted</text>\n</a>\n</g>\n</g>\n<!-- recording.subject.Subject&#45;&gt;recording.acquisition.SessionStarted -->\n<g class=\"edge\" id=\"edge17\">\n<title>recording.subject.Subject-&gt;recording.acquisition.SessionStarted</title>\n<path d=\"M124.21,-354.8C124.21,-343.95 124.21,-329.87 124.21,-319.05\" fill=\"none\" stroke=\"#000000\" stroke-opacity=\"0.250980\" stroke-width=\"0.75\"/>\n</g>\n<!-- imaging_rec.FieldOfView -->\n<g class=\"node\" id=\"node11\">\n<title>imaging_rec.FieldOfView</title>\n<g id=\"a_node11\"><a xlink:title=\"→ imaging_rec.Scan\rfov                  \r------------------------------\rfov_directory        \rfov_name=null        \rfov_depth            \rfov_center_xy        \rfov_size_xy          \rfov_rotation_degrees \rfov_pixel_resolution_xy \rfov_discrete_plane_mode \r\">\n<ellipse cx=\"674.21\" cy=\"-88.5\" fill=\"#00007f\" fill-opacity=\"0.250980\" rx=\"93.5\" ry=\"17.5\" stroke=\"#00007f\" stroke-opacity=\"0.250980\"/>\n<text fill=\"#00007f\" fill-opacity=\"0.627451\" font-family=\"arial\" font-size=\"12.00\" text-anchor=\"middle\" x=\"674.21\" y=\"-85.4\">imaging_rec.FieldOfView</text>\n</a>\n</g>\n</g>\n<!-- imaging_rec.ImagingProcessing -->\n<g class=\"node\" id=\"node23\">\n<title>imaging_rec.ImagingProcessing</title>\n<g id=\"a_node23\"><a xlink:title=\"→ recording.RecordingProcess\r------------------------------\r→ imaging_rec.FieldOfView\r\">\n<ellipse cx=\"718.21\" cy=\"-17.5\" fill=\"#ff0000\" fill-opacity=\"0.125490\" rx=\"13\" ry=\"13\" stroke=\"#ff0000\" stroke-opacity=\"0.125490\"/>\n<text fill=\"#7f0000\" fill-opacity=\"0.627451\" font-family=\"arial\" font-size=\"12.00\" text-anchor=\"middle\" x=\"718.21\" y=\"-14.4\">imaging_rec.ImagingProcessing</text>\n</a>\n</g>\n</g>\n<!-- imaging_rec.FieldOfView&#45;&gt;imaging_rec.ImagingProcessing -->\n<g class=\"edge\" id=\"edge18\">\n<title>imaging_rec.FieldOfView-&gt;imaging_rec.ImagingProcessing</title>\n<path d=\"M684.86,-70.8C693.2,-57.71 704.54,-39.93 711.62,-28.84\" fill=\"none\" stroke=\"#000000\" stroke-dasharray=\"5,2\" stroke-opacity=\"0.250980\" stroke-width=\"0.75\"/>\n</g>\n<!-- recording.RecordingModality -->\n<g class=\"node\" id=\"node12\">\n<title>recording.RecordingModality</title>\n<g id=\"a_node12\"><a xlink:title=\"recording_modality   \r------------------------------\rmodality_description \rroot_direcory        \rrecording_file_extensions \rrecording_file_pattern \rprocess_unit_file_pattern \rprocess_unit_dir_fieldname \r\">\n<polygon fill=\"#000000\" fill-opacity=\"0.125490\" points=\"701.21,-390 557.21,-390 557.21,-355 701.21,-355 701.21,-390\" stroke=\"transparent\"/>\n<text font-family=\"arial\" font-size=\"10.00\" text-anchor=\"start\" text-decoration=\"underline\" x=\"565.21\" y=\"-371\">recording.RecordingModality</text>\n</a>\n</g>\n</g>\n<!-- recording.RecordingModality&#45;&gt;recording.Recording -->\n<g class=\"edge\" id=\"edge19\">\n<title>recording.RecordingModality-&gt;recording.Recording</title>\n<path d=\"M557.01,-366.67C485.15,-360.36 381.59,-346.66 353.21,-319 334.28,-300.56 332.12,-268.02 332.8,-248.25\" fill=\"none\" stroke=\"#000000\" stroke-dasharray=\"5,2\" stroke-opacity=\"0.250980\" stroke-width=\"0.75\"/>\n</g>\n<!-- recording.RecordingModality&#45;&gt;recording.ProcessParamSet -->\n<g class=\"edge\" id=\"edge20\">\n<title>recording.RecordingModality-&gt;recording.ProcessParamSet</title>\n<path d=\"M629.21,-354.8C629.21,-343.95 629.21,-329.87 629.21,-319.05\" fill=\"none\" stroke=\"#000000\" stroke-dasharray=\"5,2\" stroke-opacity=\"0.250980\" stroke-width=\"0.75\"/>\n</g>\n<!-- recording.PreprocessParamSet -->\n<g class=\"node\" id=\"node19\">\n<title>recording.PreprocessParamSet</title>\n<g id=\"a_node19\"><a xlink:title=\"preprocess_paramset_idx \r------------------------------\r→ recording.RecordingModality\rpreprocess_paramset_desc \rpreprocess_paramset_hash \rpreprocess_paramset  \rUNIQUE INDEX (preprocess_paramset_hash)\r\">\n<polygon fill=\"#000000\" fill-opacity=\"0.125490\" points=\"874.21,-319 718.21,-319 718.21,-284 874.21,-284 874.21,-319\" stroke=\"transparent\"/>\n<text font-family=\"arial\" font-size=\"10.00\" text-anchor=\"start\" text-decoration=\"underline\" x=\"726.21\" y=\"-300\">recording.PreprocessParamSet</text>\n</a>\n</g>\n</g>\n<!-- recording.RecordingModality&#45;&gt;recording.PreprocessParamSet -->\n<g class=\"edge\" id=\"edge21\">\n<title>recording.RecordingModality-&gt;recording.PreprocessParamSet</title>\n<path d=\"M669.21,-354.97C695.56,-344.09 729.91,-329.89 756.25,-319.01\" fill=\"none\" stroke=\"#000000\" stroke-dasharray=\"5,2\" stroke-opacity=\"0.250980\" stroke-width=\"0.75\"/>\n</g>\n<!-- ephys.EphysRecordingProbes -->\n<g class=\"node\" id=\"node13\">\n<title>ephys.EphysRecordingProbes</title>\n<g id=\"a_node13\"><a xlink:title=\"→ ephys.EphysRecording\rprobe                \r------------------------------\rprobe_directory      \r\">\n<ellipse cx=\"435.21\" cy=\"-88.5\" fill=\"#ff0000\" fill-opacity=\"0.125490\" rx=\"13\" ry=\"13\" stroke=\"#ff0000\" stroke-opacity=\"0.125490\"/>\n<text fill=\"#7f0000\" fill-opacity=\"0.627451\" font-family=\"arial\" font-size=\"12.00\" text-anchor=\"middle\" x=\"435.21\" y=\"-85.4\">ephys.EphysRecordingProbes</text>\n</a>\n</g>\n</g>\n<!-- ephys.EphysProcessing -->\n<g class=\"node\" id=\"node14\">\n<title>ephys.EphysProcessing</title>\n<g id=\"a_node14\"><a xlink:title=\"→ recording.RecordingProcess\r------------------------------\r→ ephys.EphysRecordingProbes\r\">\n<polygon fill=\"#00ff00\" fill-opacity=\"0.188235\" points=\"579.71,-35 434.71,-35 434.71,0 579.71,0 579.71,-35\" stroke=\"#00ff00\" stroke-opacity=\"0.188235\"/>\n<text fill=\"darkgreen\" font-family=\"arial\" font-size=\"12.00\" text-anchor=\"middle\" x=\"507.21\" y=\"-14.4\">ephys.EphysProcessing</text>\n</a>\n</g>\n</g>\n<!-- ephys.EphysRecordingProbes&#45;&gt;ephys.EphysProcessing -->\n<g class=\"edge\" id=\"edge22\">\n<title>ephys.EphysRecordingProbes-&gt;ephys.EphysProcessing</title>\n<path d=\"M444.33,-78.76C455.76,-67.81 475.58,-48.81 489.92,-35.07\" fill=\"none\" stroke=\"#000000\" stroke-dasharray=\"5,2\" stroke-opacity=\"0.250980\" stroke-width=\"0.75\"/>\n</g>\n<!-- recording.lab.Location -->\n<g class=\"node\" id=\"node15\">\n<title>recording.lab.Location</title>\n<g id=\"a_node15\"><a xlink:title=\"location             \r------------------------------\r→ [nullable] `u19_lab`.`#acquisition_type`\rlocation_description=&quot;&quot; \rbucket_default_path=null \rimaging_bucket_default_path=null \rephys_bucket_default_path=null \r\">\n<polygon fill=\"#000000\" fill-opacity=\"0.125490\" points=\"315.71,-461 200.71,-461 200.71,-426 315.71,-426 315.71,-461\" stroke=\"transparent\"/>\n<text font-family=\"arial\" font-size=\"10.00\" text-anchor=\"start\" text-decoration=\"underline\" x=\"208.71\" y=\"-442\">recording.lab.Location</text>\n</a>\n</g>\n</g>\n<!-- recording.lab.Location&#45;&gt;20 -->\n<g class=\"edge\" id=\"edge23\">\n<title>recording.lab.Location-&gt;20</title>\n<path d=\"M258.21,-425.8C258.21,-407.93 258.21,-381.29 258.21,-374.91\" fill=\"none\" stroke=\"#000000\" stroke-dasharray=\"5,2\" stroke-opacity=\"0.250980\" stroke-width=\"0.75\"/>\n</g>\n<!-- recording.lab.Location&#45;&gt;recording.Recording -->\n<g class=\"edge\" id=\"edge24\">\n<title>recording.lab.Location-&gt;recording.Recording</title>\n<path d=\"M264.17,-425.94C278.35,-386.6 313.92,-287.83 328.17,-248.27\" fill=\"none\" stroke=\"#000000\" stroke-dasharray=\"5,2\" stroke-opacity=\"0.250980\" stroke-width=\"0.75\"/>\n</g>\n<!-- recording.lab.Location&#45;&gt;recording.subject.Subject -->\n<g class=\"edge\" id=\"edge25\">\n<title>recording.lab.Location-&gt;recording.subject.Subject</title>\n<path d=\"M226.11,-425.97C205.05,-415.13 177.61,-401 156.51,-390.13\" fill=\"none\" stroke=\"#000000\" stroke-dasharray=\"5,2\" stroke-opacity=\"0.250980\" stroke-width=\"0.75\"/>\n</g>\n<!-- imaging_rec.Scan&#45;&gt;imaging_rec.FieldOfView -->\n<g class=\"edge\" id=\"edge26\">\n<title>imaging_rec.Scan-&gt;imaging_rec.FieldOfView</title>\n<path d=\"M642.99,-147.72C648.97,-136.58 658.37,-119.03 665.3,-106.12\" fill=\"none\" stroke=\"#000000\" stroke-opacity=\"0.250980\" stroke-width=\"0.75\"/>\n</g>\n<!-- recording.acquisition.SessionStarted&#45;&gt;recording.acquisition.Session -->\n<g class=\"edge\" id=\"edge27\">\n<title>recording.acquisition.SessionStarted-&gt;recording.acquisition.Session</title>\n<path d=\"M134.62,-283.8C141.38,-272.95 150.16,-258.87 156.9,-248.05\" fill=\"none\" stroke=\"#000000\" stroke-opacity=\"0.250980\" stroke-width=\"2\"/>\n</g>\n<!-- ephys.EphysRecording&#45;&gt;ephys.EphysRecordingProbes -->\n<g class=\"edge\" id=\"edge28\">\n<title>ephys.EphysRecording-&gt;ephys.EphysRecordingProbes</title>\n<path d=\"M484.29,-148.91C473.4,-135.72 453.92,-112.15 443.07,-99.01\" fill=\"none\" stroke=\"#000000\" stroke-opacity=\"0.250980\" stroke-width=\"0.75\"/>\n</g>\n<!-- recording.PreprocessParamSet&#45;&gt;recording.Recording -->\n<g class=\"edge\" id=\"edge29\">\n<title>recording.PreprocessParamSet-&gt;recording.Recording</title>\n<path d=\"M717.99,-285.48C715.03,-284.97 712.09,-284.47 709.21,-284 599.59,-265.94 471.28,-248.85 396.72,-239.31\" fill=\"none\" stroke=\"#000000\" stroke-dasharray=\"5,2\" stroke-opacity=\"0.250980\" stroke-width=\"0.75\"/>\n</g>\n<!-- recording.PreprocessParamSet&#45;&gt;recording.RecordingProcess -->\n<g class=\"edge\" id=\"edge30\">\n<title>recording.PreprocessParamSet-&gt;recording.RecordingProcess</title>\n<path d=\"M796.21,-283.89C796.21,-256.95 796.21,-204.02 796.21,-177.09\" fill=\"none\" stroke=\"#000000\" stroke-dasharray=\"5,2\" stroke-opacity=\"0.250980\" stroke-width=\"0.75\"/>\n</g>\n<!-- recording.RecordingProcess&#45;&gt;ephys.EphysProcessing -->\n<g class=\"edge\" id=\"edge31\">\n<title>recording.RecordingProcess-&gt;ephys.EphysProcessing</title>\n<path d=\"M712.83,-141.97C653.91,-129.8 583.34,-114.02 571.21,-106 544.37,-88.25 524.83,-55.17 514.81,-35.16\" fill=\"none\" stroke=\"#000000\" stroke-opacity=\"0.250980\" stroke-width=\"2\"/>\n</g>\n<!-- recording.RecordingProcess&#45;&gt;recording.RecordingProcessStatus -->\n<g class=\"edge\" id=\"edge32\">\n<title>recording.RecordingProcess-&gt;recording.RecordingProcessStatus</title>\n<path d=\"M827.11,-141.97C847.38,-131.13 873.8,-117 894.12,-106.13\" fill=\"none\" stroke=\"#000000\" stroke-dasharray=\"5,2\" stroke-opacity=\"0.250980\" stroke-width=\"0.75\"/>\n</g>\n<!-- recording.RecordingProcess&#45;&gt;imaging_rec.ImagingProcessing -->\n<g class=\"edge\" id=\"edge33\">\n<title>recording.RecordingProcess-&gt;imaging_rec.ImagingProcessing</title>\n<path d=\"M795.64,-141.92C794.35,-123.46 790.23,-93.28 777.21,-71 765.32,-50.64 742.77,-33.94 729.26,-25.17\" fill=\"none\" stroke=\"#000000\" stroke-opacity=\"0.250980\" stroke-width=\"2\"/>\n</g>\n</g>\n</svg>"
     },
     "metadata": {},
     "execution_count": 10
    }
   ],
   "source": [
    "dj.ERD(recording) -1 + dj.ERD(ephys.EphysRecording) + dj.ERD(ephys.EphysProcessing) + dj.ERD(imaging_rec.Scan) + dj.ERD(imaging_rec.ImagingProcessing) \n"
   ]
  },
  {
   "cell_type": "code",
   "execution_count": null,
   "metadata": {},
   "outputs": [],
   "source": [
    "## Just for now, folders for ephys things in Globus\n",
    "#FOR PNI endpoint\n",
    "pni_ep_id = '6ce834d6-ff8a-11e6-bad1-22000b9a448b'\n",
    "pni_ephys_root_data_dir   = '/jukebox/archive/brody/RATTER/PhysData/Raw/'\n",
    "pni_ephys_sorted_data_dir = '/mnt/cup/labs/brody/RATTER/PhysData/Test_ephys_pipeline_NP_sorted/'\n",
    "\n",
    "#For tiger endpoint\n",
    "tiger_ep_dir = 'a9df83d2-42f0-11e6-80cf-22000b1701d1'\n",
    "tiger_ephys_root_data_dir = '/tigress/alvaros/ephys_raw/'\n",
    "tiger_ephys_sorted_data_dir = '/tigress/alvaros/ephys_sorted/'\n"
   ]
  },
  {
   "cell_type": "markdown",
   "metadata": {},
   "source": [
    "### Delete and insert on the AcquisitionSessionsTestAutoPipeline and Status tables"
   ]
  },
  {
   "cell_type": "code",
   "execution_count": null,
   "metadata": {},
   "outputs": [],
   "source": [
    "#acquisition.AcquisitionSessionsTestAutoPipeline.delete()\n",
    "#acquisition.AcquisitionSessionsStatus.delete"
   ]
  },
  {
   "cell_type": "markdown",
   "metadata": {},
   "source": [
    "### Get 5 \"real\" sessions to test and insert them to the TestAutoPipeline"
   ]
  },
  {
   "cell_type": "code",
   "execution_count": null,
   "metadata": {},
   "outputs": [],
   "source": [
    "acq_sessions_df = pd.DataFrame(acquisition.AcquisitionSessions.fetch(limit=5, as_dict=True))\n",
    "acq_sessions_df['status_pipeline'] = 0\n",
    "acquisition.AcquisitionSessionsTestAutoPipeline.insert(acq_sessions_df, skip_duplicates=True)\n",
    "acquisition.AcquisitionSessionsTestAutoPipeline()"
   ]
  },
  {
   "cell_type": "markdown",
   "metadata": {},
   "source": [
    "### Check if logged to globus"
   ]
  },
  {
   "cell_type": "code",
   "execution_count": 4,
   "metadata": {},
   "outputs": [
    {
     "data": {
      "text/plain": [
       "'alvaros@princeton.edu\\n'"
      ]
     },
     "execution_count": 4,
     "metadata": {},
     "output_type": "execute_result"
    }
   ],
   "source": [
    "s = subprocess.run([\"globus\", \"whoami\"], capture_output=True)\n",
    "s.stdout.decode('UTF-8')"
   ]
  },
  {
   "cell_type": "markdown",
   "metadata": {},
   "source": [
    "### Get all \"active sessions\""
   ]
  },
  {
   "cell_type": "code",
   "execution_count": 5,
   "metadata": {},
   "outputs": [
    {
     "data": {
      "text/html": [
       "<div>\n",
       "<style scoped>\n",
       "    .dataframe tbody tr th:only-of-type {\n",
       "        vertical-align: middle;\n",
       "    }\n",
       "\n",
       "    .dataframe tbody tr th {\n",
       "        vertical-align: top;\n",
       "    }\n",
       "\n",
       "    .dataframe thead th {\n",
       "        text-align: right;\n",
       "    }\n",
       "</style>\n",
       "<table border=\"1\" class=\"dataframe\">\n",
       "  <thead>\n",
       "    <tr style=\"text-align: right;\">\n",
       "      <th></th>\n",
       "      <th>sessid</th>\n",
       "      <th>status_pipeline</th>\n",
       "      <th>session_rat</th>\n",
       "      <th>session_userid</th>\n",
       "      <th>session_rigid</th>\n",
       "      <th>acquisition_type</th>\n",
       "      <th>acquisition_raw_rel_path</th>\n",
       "      <th>acquisition_post_rel_path</th>\n",
       "      <th>task_copy_id_pre_path</th>\n",
       "      <th>task_copy_id_pos_path</th>\n",
       "      <th>slurm_id_sorting</th>\n",
       "      <th>query_key</th>\n",
       "    </tr>\n",
       "  </thead>\n",
       "  <tbody>\n",
       "    <tr>\n",
       "      <th>0</th>\n",
       "      <td>590577</td>\n",
       "      <td>0</td>\n",
       "      <td>T173</td>\n",
       "      <td>zhihaol</td>\n",
       "      <td>202</td>\n",
       "      <td>ephys</td>\n",
       "      <td>Ann/misc</td>\n",
       "      <td>TestFolder2</td>\n",
       "      <td>None</td>\n",
       "      <td>None</td>\n",
       "      <td>None</td>\n",
       "      <td>{'sessid': 590577}</td>\n",
       "    </tr>\n",
       "  </tbody>\n",
       "</table>\n",
       "</div>"
      ],
      "text/plain": [
       "   sessid  status_pipeline session_rat session_userid  session_rigid  \\\n",
       "0  590577                0        T173        zhihaol            202   \n",
       "\n",
       "  acquisition_type acquisition_raw_rel_path acquisition_post_rel_path  \\\n",
       "0            ephys                 Ann/misc               TestFolder2   \n",
       "\n",
       "  task_copy_id_pre_path task_copy_id_pos_path slurm_id_sorting  \\\n",
       "0                  None                  None             None   \n",
       "\n",
       "            query_key  \n",
       "0  {'sessid': 590577}  "
      ]
     },
     "execution_count": 5,
     "metadata": {},
     "output_type": "execute_result"
    }
   ],
   "source": [
    "sessions_active = acquisition.AcquisitionSessionsTestAutoPipeline & 'status_pipeline < 7 and status_pipeline >= 0'\n",
    "df_sessions = pd.DataFrame(sessions_active.fetch(as_dict=True))\n",
    "\n",
    "#Add a column to have a key dictionary as a new column\n",
    "key_list = dj_short.get_primary_key_fields(acquisition.AcquisitionSessionsTestAutoPipeline)\n",
    "df_sessions['query_key'] = df_sessions.loc[:, key_list].to_dict(orient='records')\n",
    "df_sessions"
   ]
  },
  {
   "cell_type": "code",
   "execution_count": 6,
   "metadata": {},
   "outputs": [
    {
     "name": "stdout",
     "output_type": "stream",
     "text": [
      "0    0\n",
      "Name: status_pipeline, dtype: int64\n",
      "['globus', 'transfer', '6ce834d6-ff8a-11e6-bad1-22000b9a448b:/jukebox/archive/brody/RATTER/PhysData/Raw/Ann/misc', 'a9df83d2-42f0-11e6-80cf-22000b1701d1:/tigress/alvaros/ephys_raw/Ann/misc', '--recursive', '--format', 'json']\n",
      "0    1\n",
      "Name: status_pipeline, dtype: int64\n",
      "['globus', 'task', 'show', 'd6aaa788-36b6-11ec-9e53-3df4ed83d858', '--format', 'json']\n",
      "0    1\n",
      "Name: status_pipeline, dtype: int64\n",
      "0    1\n",
      "Name: status_pipeline, dtype: int64\n",
      "0    1\n",
      "Name: status_pipeline, dtype: int64\n",
      "0    1\n",
      "Name: status_pipeline, dtype: int64\n",
      "0    1\n",
      "Name: status_pipeline, dtype: int64\n",
      "0    1\n",
      "Name: status_pipeline, dtype: int64\n",
      "0    1\n",
      "Name: status_pipeline, dtype: int64\n",
      "['globus', 'task', 'show', 'd6aaa788-36b6-11ec-9e53-3df4ed83d858', '--format', 'json']\n",
      "0    2\n",
      "Name: status_pipeline, dtype: int64\n",
      "['ssh', 'alvaros@tigergpu.princeton.edu', 'sbatch', '/tigress/alvaros/slurm_files/slurm_sessid_590577.slurm']\n",
      "aftercommand before comm\n",
      "aftercommand after comm\n",
      "Submitted batch job 7518327\n",
      "\n",
      "\n",
      "0    3\n",
      "Name: status_pipeline, dtype: int64\n",
      "['ssh', 'alvaros@tigergpu.princeton.edu', 'sacct', '--job', '7518327', '--format=state']\n",
      "     State \n",
      "---------- \n",
      "   PENDING \n",
      "   RUNNING \n",
      "   RUNNING \n",
      "\n",
      "PENDING\n",
      "COMPLETED\n",
      "b'PENDING'\n",
      "b'COMPLETED'\n",
      "0    3\n",
      "Name: status_pipeline, dtype: int64\n",
      "0    3\n",
      "Name: status_pipeline, dtype: int64\n",
      "0    3\n",
      "Name: status_pipeline, dtype: int64\n",
      "0    3\n",
      "Name: status_pipeline, dtype: int64\n",
      "0    3\n",
      "Name: status_pipeline, dtype: int64\n",
      "0    3\n",
      "Name: status_pipeline, dtype: int64\n",
      "0    3\n",
      "Name: status_pipeline, dtype: int64\n",
      "['ssh', 'alvaros@tigergpu.princeton.edu', 'sacct', '--job', '7518327', '--format=state']\n",
      "     State \n",
      "---------- \n",
      "   RUNNING \n",
      "   RUNNING \n",
      "   RUNNING \n",
      "\n",
      "RUNNING\n",
      "COMPLETED\n",
      "b'RUNNING'\n",
      "b'COMPLETED'\n",
      "0    3\n",
      "Name: status_pipeline, dtype: int64\n",
      "0    3\n",
      "Name: status_pipeline, dtype: int64\n",
      "0    3\n",
      "Name: status_pipeline, dtype: int64\n",
      "0    3\n",
      "Name: status_pipeline, dtype: int64\n",
      "0    3\n",
      "Name: status_pipeline, dtype: int64\n",
      "0    3\n",
      "Name: status_pipeline, dtype: int64\n",
      "0    3\n",
      "Name: status_pipeline, dtype: int64\n",
      "['ssh', 'alvaros@tigergpu.princeton.edu', 'sacct', '--job', '7518327', '--format=state']\n",
      "     State \n",
      "---------- \n",
      "   RUNNING \n",
      "   RUNNING \n",
      "   RUNNING \n",
      "\n",
      "RUNNING\n",
      "COMPLETED\n",
      "b'RUNNING'\n",
      "b'COMPLETED'\n",
      "0    3\n",
      "Name: status_pipeline, dtype: int64\n",
      "0    3\n",
      "Name: status_pipeline, dtype: int64\n",
      "0    3\n",
      "Name: status_pipeline, dtype: int64\n",
      "0    3\n",
      "Name: status_pipeline, dtype: int64\n",
      "0    3\n",
      "Name: status_pipeline, dtype: int64\n",
      "0    3\n",
      "Name: status_pipeline, dtype: int64\n",
      "0    3\n",
      "Name: status_pipeline, dtype: int64\n",
      "['ssh', 'alvaros@tigergpu.princeton.edu', 'sacct', '--job', '7518327', '--format=state']\n",
      "     State \n",
      "---------- \n",
      " COMPLETED \n",
      " COMPLETED \n",
      " COMPLETED \n",
      "\n",
      "COMPLETED\n",
      "COMPLETED\n",
      "b'COMPLETED'\n",
      "b'COMPLETED'\n",
      "0    4\n",
      "Name: status_pipeline, dtype: int64\n",
      "['globus', 'transfer', 'a9df83d2-42f0-11e6-80cf-22000b1701d1:/tigress/alvaros/ephys_sorted/TestFolder2', '6ce834d6-ff8a-11e6-bad1-22000b9a448b:/mnt/cup/labs/brody/RATTER/PhysData/Test_ephys_pipeline_NP_sorted/TestFolder2', '--recursive', '--format', 'json']\n",
      "0    5\n",
      "Name: status_pipeline, dtype: int64\n",
      "['globus', 'task', 'show', 'e2a6afab-36b6-11ec-95ea-853490a236f9', '--format', 'json']\n",
      "0    5\n",
      "Name: status_pipeline, dtype: int64\n",
      "0    5\n",
      "Name: status_pipeline, dtype: int64\n",
      "0    5\n",
      "Name: status_pipeline, dtype: int64\n",
      "0    5\n",
      "Name: status_pipeline, dtype: int64\n",
      "0    5\n",
      "Name: status_pipeline, dtype: int64\n",
      "0    5\n",
      "Name: status_pipeline, dtype: int64\n",
      "0    5\n",
      "Name: status_pipeline, dtype: int64\n",
      "['globus', 'task', 'show', 'e2a6afab-36b6-11ec-95ea-853490a236f9', '--format', 'json']\n",
      "0    6\n",
      "Name: status_pipeline, dtype: int64\n",
      "0    6\n",
      "Name: status_pipeline, dtype: int64\n",
      "0    6\n",
      "Name: status_pipeline, dtype: int64\n",
      "0    6\n",
      "Name: status_pipeline, dtype: int64\n",
      "0    6\n",
      "Name: status_pipeline, dtype: int64\n",
      "0    6\n",
      "Name: status_pipeline, dtype: int64\n",
      "0    6\n",
      "Name: status_pipeline, dtype: int64\n",
      "0    6\n",
      "Name: status_pipeline, dtype: int64\n",
      "0    6\n",
      "Name: status_pipeline, dtype: int64\n",
      "0    6\n",
      "Name: status_pipeline, dtype: int64\n",
      "0    6\n",
      "Name: status_pipeline, dtype: int64\n",
      "0    6\n",
      "Name: status_pipeline, dtype: int64\n",
      "0    6\n",
      "Name: status_pipeline, dtype: int64\n",
      "0    6\n",
      "Name: status_pipeline, dtype: int64\n",
      "0    6\n",
      "Name: status_pipeline, dtype: int64\n",
      "0    6\n",
      "Name: status_pipeline, dtype: int64\n",
      "0    6\n",
      "Name: status_pipeline, dtype: int64\n",
      "0    6\n",
      "Name: status_pipeline, dtype: int64\n",
      "0    6\n",
      "Name: status_pipeline, dtype: int64\n",
      "0    6\n",
      "Name: status_pipeline, dtype: int64\n",
      "0    6\n",
      "Name: status_pipeline, dtype: int64\n",
      "0    6\n",
      "Name: status_pipeline, dtype: int64\n",
      "0    6\n",
      "Name: status_pipeline, dtype: int64\n",
      "0    6\n",
      "Name: status_pipeline, dtype: int64\n",
      "0    6\n",
      "Name: status_pipeline, dtype: int64\n",
      "0    6\n",
      "Name: status_pipeline, dtype: int64\n",
      "0    6\n",
      "Name: status_pipeline, dtype: int64\n",
      "0    6\n",
      "Name: status_pipeline, dtype: int64\n",
      "0    6\n",
      "Name: status_pipeline, dtype: int64\n",
      "0    6\n",
      "Name: status_pipeline, dtype: int64\n",
      "0    6\n",
      "Name: status_pipeline, dtype: int64\n",
      "0    6\n",
      "Name: status_pipeline, dtype: int64\n",
      "0    6\n",
      "Name: status_pipeline, dtype: int64\n",
      "0    6\n",
      "Name: status_pipeline, dtype: int64\n",
      "0    6\n",
      "Name: status_pipeline, dtype: int64\n",
      "0    6\n",
      "Name: status_pipeline, dtype: int64\n",
      "0    6\n",
      "Name: status_pipeline, dtype: int64\n",
      "0    6\n",
      "Name: status_pipeline, dtype: int64\n",
      "0    6\n",
      "Name: status_pipeline, dtype: int64\n",
      "0    6\n",
      "Name: status_pipeline, dtype: int64\n",
      "0    6\n",
      "Name: status_pipeline, dtype: int64\n",
      "0    6\n",
      "Name: status_pipeline, dtype: int64\n",
      "0    6\n",
      "Name: status_pipeline, dtype: int64\n",
      "0    6\n",
      "Name: status_pipeline, dtype: int64\n",
      "0    6\n",
      "Name: status_pipeline, dtype: int64\n",
      "0    6\n",
      "Name: status_pipeline, dtype: int64\n",
      "0    6\n",
      "Name: status_pipeline, dtype: int64\n",
      "0    6\n",
      "Name: status_pipeline, dtype: int64\n",
      "0    6\n",
      "Name: status_pipeline, dtype: int64\n",
      "0    6\n",
      "Name: status_pipeline, dtype: int64\n",
      "0    6\n",
      "Name: status_pipeline, dtype: int64\n",
      "0    6\n",
      "Name: status_pipeline, dtype: int64\n",
      "0    6\n",
      "Name: status_pipeline, dtype: int64\n",
      "0    6\n",
      "Name: status_pipeline, dtype: int64\n",
      "0    6\n",
      "Name: status_pipeline, dtype: int64\n",
      "0    6\n",
      "Name: status_pipeline, dtype: int64\n",
      "0    6\n",
      "Name: status_pipeline, dtype: int64\n",
      "0    6\n",
      "Name: status_pipeline, dtype: int64\n",
      "0    6\n",
      "Name: status_pipeline, dtype: int64\n",
      "0    6\n",
      "Name: status_pipeline, dtype: int64\n",
      "0    6\n",
      "Name: status_pipeline, dtype: int64\n",
      "0    6\n",
      "Name: status_pipeline, dtype: int64\n",
      "0    6\n",
      "Name: status_pipeline, dtype: int64\n",
      "0    6\n",
      "Name: status_pipeline, dtype: int64\n",
      "0    6\n",
      "Name: status_pipeline, dtype: int64\n",
      "0    6\n",
      "Name: status_pipeline, dtype: int64\n",
      "0    6\n",
      "Name: status_pipeline, dtype: int64\n",
      "0    6\n",
      "Name: status_pipeline, dtype: int64\n",
      "0    6\n",
      "Name: status_pipeline, dtype: int64\n",
      "0    6\n",
      "Name: status_pipeline, dtype: int64\n",
      "0    6\n",
      "Name: status_pipeline, dtype: int64\n",
      "0    6\n",
      "Name: status_pipeline, dtype: int64\n",
      "0    6\n",
      "Name: status_pipeline, dtype: int64\n",
      "0    6\n",
      "Name: status_pipeline, dtype: int64\n",
      "0    6\n",
      "Name: status_pipeline, dtype: int64\n",
      "0    6\n",
      "Name: status_pipeline, dtype: int64\n",
      "0    6\n",
      "Name: status_pipeline, dtype: int64\n",
      "0    6\n",
      "Name: status_pipeline, dtype: int64\n",
      "0    6\n",
      "Name: status_pipeline, dtype: int64\n",
      "0    6\n",
      "Name: status_pipeline, dtype: int64\n",
      "0    6\n",
      "Name: status_pipeline, dtype: int64\n",
      "0    6\n",
      "Name: status_pipeline, dtype: int64\n",
      "0    6\n",
      "Name: status_pipeline, dtype: int64\n",
      "0    6\n",
      "Name: status_pipeline, dtype: int64\n",
      "0    6\n",
      "Name: status_pipeline, dtype: int64\n",
      "0    6\n",
      "Name: status_pipeline, dtype: int64\n",
      "0    6\n",
      "Name: status_pipeline, dtype: int64\n",
      "0    6\n",
      "Name: status_pipeline, dtype: int64\n",
      "0    6\n",
      "Name: status_pipeline, dtype: int64\n",
      "0    6\n",
      "Name: status_pipeline, dtype: int64\n",
      "0    6\n",
      "Name: status_pipeline, dtype: int64\n",
      "0    6\n",
      "Name: status_pipeline, dtype: int64\n",
      "0    6\n",
      "Name: status_pipeline, dtype: int64\n",
      "0    6\n",
      "Name: status_pipeline, dtype: int64\n",
      "0    6\n",
      "Name: status_pipeline, dtype: int64\n",
      "0    6\n",
      "Name: status_pipeline, dtype: int64\n",
      "0    6\n",
      "Name: status_pipeline, dtype: int64\n",
      "0    6\n",
      "Name: status_pipeline, dtype: int64\n",
      "0    6\n",
      "Name: status_pipeline, dtype: int64\n",
      "0    6\n",
      "Name: status_pipeline, dtype: int64\n",
      "0    6\n",
      "Name: status_pipeline, dtype: int64\n",
      "0    6\n",
      "Name: status_pipeline, dtype: int64\n",
      "0    6\n",
      "Name: status_pipeline, dtype: int64\n",
      "0    6\n",
      "Name: status_pipeline, dtype: int64\n",
      "0    6\n",
      "Name: status_pipeline, dtype: int64\n",
      "0    6\n",
      "Name: status_pipeline, dtype: int64\n",
      "0    6\n",
      "Name: status_pipeline, dtype: int64\n",
      "0    6\n",
      "Name: status_pipeline, dtype: int64\n",
      "0    6\n",
      "Name: status_pipeline, dtype: int64\n",
      "0    6\n",
      "Name: status_pipeline, dtype: int64\n",
      "0    6\n",
      "Name: status_pipeline, dtype: int64\n",
      "0    6\n",
      "Name: status_pipeline, dtype: int64\n",
      "0    6\n",
      "Name: status_pipeline, dtype: int64\n"
     ]
    },
    {
     "name": "stdout",
     "output_type": "stream",
     "text": [
      "0    6\n",
      "Name: status_pipeline, dtype: int64\n",
      "0    6\n",
      "Name: status_pipeline, dtype: int64\n",
      "0    6\n",
      "Name: status_pipeline, dtype: int64\n",
      "0    6\n",
      "Name: status_pipeline, dtype: int64\n",
      "0    6\n",
      "Name: status_pipeline, dtype: int64\n",
      "0    6\n",
      "Name: status_pipeline, dtype: int64\n",
      "0    6\n",
      "Name: status_pipeline, dtype: int64\n",
      "0    6\n",
      "Name: status_pipeline, dtype: int64\n",
      "0    6\n",
      "Name: status_pipeline, dtype: int64\n",
      "0    6\n",
      "Name: status_pipeline, dtype: int64\n",
      "0    6\n",
      "Name: status_pipeline, dtype: int64\n",
      "0    6\n",
      "Name: status_pipeline, dtype: int64\n",
      "0    6\n",
      "Name: status_pipeline, dtype: int64\n",
      "0    6\n",
      "Name: status_pipeline, dtype: int64\n",
      "0    6\n",
      "Name: status_pipeline, dtype: int64\n",
      "0    6\n",
      "Name: status_pipeline, dtype: int64\n",
      "0    6\n",
      "Name: status_pipeline, dtype: int64\n",
      "0    6\n",
      "Name: status_pipeline, dtype: int64\n",
      "0    6\n",
      "Name: status_pipeline, dtype: int64\n",
      "0    6\n",
      "Name: status_pipeline, dtype: int64\n",
      "0    6\n",
      "Name: status_pipeline, dtype: int64\n",
      "0    6\n",
      "Name: status_pipeline, dtype: int64\n",
      "0    6\n",
      "Name: status_pipeline, dtype: int64\n",
      "0    6\n",
      "Name: status_pipeline, dtype: int64\n",
      "0    6\n",
      "Name: status_pipeline, dtype: int64\n",
      "0    6\n",
      "Name: status_pipeline, dtype: int64\n",
      "0    6\n",
      "Name: status_pipeline, dtype: int64\n",
      "0    6\n",
      "Name: status_pipeline, dtype: int64\n",
      "0    6\n",
      "Name: status_pipeline, dtype: int64\n",
      "0    6\n",
      "Name: status_pipeline, dtype: int64\n",
      "0    6\n",
      "Name: status_pipeline, dtype: int64\n",
      "0    6\n",
      "Name: status_pipeline, dtype: int64\n",
      "0    6\n",
      "Name: status_pipeline, dtype: int64\n",
      "0    6\n",
      "Name: status_pipeline, dtype: int64\n",
      "0    6\n",
      "Name: status_pipeline, dtype: int64\n",
      "0    6\n",
      "Name: status_pipeline, dtype: int64\n",
      "0    6\n",
      "Name: status_pipeline, dtype: int64\n",
      "0    6\n",
      "Name: status_pipeline, dtype: int64\n",
      "0    6\n",
      "Name: status_pipeline, dtype: int64\n",
      "0    6\n",
      "Name: status_pipeline, dtype: int64\n",
      "0    6\n",
      "Name: status_pipeline, dtype: int64\n",
      "0    6\n",
      "Name: status_pipeline, dtype: int64\n",
      "0    6\n",
      "Name: status_pipeline, dtype: int64\n",
      "0    6\n",
      "Name: status_pipeline, dtype: int64\n",
      "0    6\n",
      "Name: status_pipeline, dtype: int64\n",
      "0    6\n",
      "Name: status_pipeline, dtype: int64\n",
      "0    6\n",
      "Name: status_pipeline, dtype: int64\n",
      "0    6\n",
      "Name: status_pipeline, dtype: int64\n",
      "0    6\n",
      "Name: status_pipeline, dtype: int64\n",
      "0    6\n",
      "Name: status_pipeline, dtype: int64\n",
      "0    6\n",
      "Name: status_pipeline, dtype: int64\n",
      "0    6\n",
      "Name: status_pipeline, dtype: int64\n",
      "0    6\n",
      "Name: status_pipeline, dtype: int64\n",
      "0    6\n",
      "Name: status_pipeline, dtype: int64\n",
      "0    6\n",
      "Name: status_pipeline, dtype: int64\n",
      "0    6\n",
      "Name: status_pipeline, dtype: int64\n"
     ]
    }
   ],
   "source": [
    "import time\n",
    "for i in range(30):\n",
    "    \n",
    "    aph.pipeline_handler_main()\n",
    "    time.sleep(3)\n",
    "    "
   ]
  },
  {
   "cell_type": "code",
   "execution_count": null,
   "metadata": {},
   "outputs": [],
   "source": []
  }
 ],
 "metadata": {
  "interpreter": {
   "hash": "ad2050938946b9745fdc6507c7561603613194cae6ce583d2036ae212150e70f"
  },
  "kernelspec": {
   "display_name": "Python 3.7.0 64-bit ('u19_datajoint': conda)",
   "language": "python",
   "name": "python37064bitu19datajointcondaf4e03803b61e40799835623898ea8018"
  },
  "language_info": {
   "codemirror_mode": {
    "name": "ipython",
    "version": 3
   },
   "file_extension": ".py",
   "mimetype": "text/x-python",
   "name": "python",
   "nbconvert_exporter": "python",
   "pygments_lexer": "ipython3",
   "version": "3.7.0-final"
  }
 },
 "nbformat": 4,
 "nbformat_minor": 4
}