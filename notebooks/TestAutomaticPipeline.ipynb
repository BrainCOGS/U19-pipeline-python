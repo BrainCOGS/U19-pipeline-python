{
 "cells": [
  {
   "cell_type": "markdown",
   "metadata": {},
   "source": [
    "### Check if configuration has been run already and change directory to repository root:"
   ]
  },
  {
   "cell_type": "code",
   "execution_count": 1,
   "metadata": {},
   "outputs": [
    {
     "output_type": "stream",
     "name": "stdout",
     "text": [
      "Local configuration file found !!, no need to run the configuration (unless configuration has changed)\n"
     ]
    }
   ],
   "source": [
    "from scripts.conf_file_finding import try_find_conf_file\n",
    "try_find_conf_file()"
   ]
  },
  {
   "cell_type": "code",
   "execution_count": 6,
   "metadata": {},
   "outputs": [
    {
     "output_type": "execute_result",
     "data": {
      "text/plain": [
       "'0.13.2'"
      ]
     },
     "metadata": {},
     "execution_count": 6
    }
   ],
   "source": [
    "import datajoint as dj\n",
    "import os\n",
    "import getpass\n",
    "import pandas as pd\n",
    "import subprocess\n",
    "import json\n",
    "import u19_pipeline.utils.path_utils as pu\n",
    "import pathlib\n",
    "import u19_pipeline.automatic_job as auto_pipeline\n",
    "import u19_pipeline.automatic_job.recording_handler as rec_handler\n",
    "\n",
    "from u19_pipeline import recording, imaging_rec, ephys\n",
    "\n",
    "#import utility.dj_shortcuts as dj_short\n",
    "#import utility.acquisition_pipeline_handler as aph\n",
    "dj.__version__"
   ]
  },
  {
   "cell_type": "code",
   "execution_count": 3,
   "metadata": {},
   "outputs": [
    {
     "output_type": "execute_result",
     "data": {
      "text/plain": [
       "*status_record status_definit\n",
       "+------------+ +------------+\n",
       "-1             Error in recor\n",
       "0              New recording \n",
       "1              Recording dire\n",
       "2              Recording dire\n",
       "3              modality inges\n",
       " (Total: 5)"
      ],
      "text/html": "\n    \n    <style type=\"text/css\">\n        .Relation{\n            border-collapse:collapse;\n        }\n        .Relation th{\n            background: #A0A0A0; color: #ffffff; padding:4px; border:#f0e0e0 1px solid;\n            font-weight: normal; font-family: monospace; font-size: 100%;\n        }\n        .Relation td{\n            padding:4px; border:#f0e0e0 1px solid; font-size:100%;\n        }\n        .Relation tr:nth-child(odd){\n            background: #ffffff;\n        }\n        .Relation tr:nth-child(even){\n            background: #f3f1ff;\n        }\n        /* Tooltip container */\n        .djtooltip {\n        }\n        /* Tooltip text */\n        .djtooltip .djtooltiptext {\n            visibility: hidden;\n            width: 120px;\n            background-color: black;\n            color: #fff;\n            text-align: center;\n            padding: 5px 0;\n            border-radius: 6px;\n            /* Position the tooltip text - see examples below! */\n            position: absolute;\n            z-index: 1;\n        }\n        #primary {\n            font-weight: bold;\n            color: black;\n        }\n        #nonprimary {\n            font-weight: normal;\n            color: white;\n        }\n\n        /* Show the tooltip text when you mouse over the tooltip container */\n        .djtooltip:hover .djtooltiptext {\n            visibility: visible;\n        }\n    </style>\n    \n    <b></b>\n        <div style=\"max-height:1000px;max-width:1500px;overflow:auto;\">\n        <table border=\"1\" class=\"Relation\">\n            <thead> <tr style=\"text-align: right;\"> <th> <div class=\"djtooltip\">\n                            <p id=\"primary\">status_recording_idx</p>\n                            <span class=\"djtooltiptext\">status in the automate process pipeline</span>\n                        </div></th><th><div class=\"djtooltip\">\n                            <p id=\"nonprimary\">status_definition</p>\n                            <span class=\"djtooltiptext\">Status definition</span>\n                        </div> </th> </tr> </thead>\n            <tbody> <tr> <td>-1</td>\n<td>Error in recording handling</td></tr><tr><td>0</td>\n<td>New recording</td></tr><tr><td>1</td>\n<td>Recording directory transfer to PNI requested</td></tr><tr><td>2</td>\n<td>Recording directory transferred to PNI</td></tr><tr><td>3</td>\n<td>modality ingestion & Syncing jobs done</td> </tr> </tbody>\n        </table>\n        \n        <p>Total: 5</p></div>\n        "
     },
     "metadata": {},
     "execution_count": 3
    }
   ],
   "source": [
    "recording.StatusRecordingDefinition()"
   ]
  },
  {
   "cell_type": "code",
   "execution_count": 4,
   "metadata": {},
   "outputs": [],
   "source": [
    "\n",
    "fake_recording = dict()\n",
    "fake_recording['recording_modality'] = 'electrophysiology'\n",
    "fake_recording['location'] = 'Bezos1'\n",
    "fake_recording['status_recording_idx'] = 0\n",
    "fake_recording['process_paramset_idx'] = 1\n",
    "fake_recording['preprocess_paramset_idx'] = 1\n",
    "fake_recording['recording_directory'] = 'ms81/ms81_M004/20210507/towersTask_g0'\n",
    "fake_recording['local_directory'] = 'ms81/ms81_M004/20210507/towersTask_g0'\n",
    "\n",
    "#recording.Recording.insert1(fake_recording, skip_duplicates=True)"
   ]
  },
  {
   "cell_type": "code",
   "execution_count": 5,
   "metadata": {},
   "outputs": [],
   "source": [
    "fake_recording = dict()\n",
    "fake_recording['recording_modality'] = 'imaging'\n",
    "fake_recording['location'] = 'Bezos1'\n",
    "fake_recording['status_recording_idx'] = 0\n",
    "fake_recording['process_paramset_idx'] = 1\n",
    "fake_recording['preprocess_paramset_idx'] = 2\n",
    "fake_recording['recording_directory'] = 'emdia/emdia_gps24/20220111'\n",
    "fake_recording['local_directory'] = 'emdia/emdia_gps24/20220111'\n",
    "\n",
    "#recording.Recording.insert1(fake_recording, skip_duplicates=True)\n"
   ]
  },
  {
   "cell_type": "code",
   "execution_count": 7,
   "metadata": {},
   "outputs": [
    {
     "output_type": "stream",
     "name": "stdout",
     "text": [
      "function to apply: modality_preingestion\nimaging scan insert recording_id                                         4\nrecording_modality                             imaging\nlocation                                        Bezos1\nstatus_recording_idx                                 2\npreprocess_paramset_idx                              2\nprocess_paramset_idx                                 1\ntask_copy_id_pni                                  None\ninherit_params_recording                             1\nrecording_directory         emdia/emdia_gps24/20220111\nlocal_directory             emdia/emdia_gps24/20220111\nquery_key                          {'recording_id': 4}\nName: 0, dtype: object\nrecording_units [{'recording_id': 4, 'fov': 1, 'fov_directory': 'emdia/emdia_gps24/20220111/ROI01_z1/', 'relative_fov_directory': 'emdia/emdia_gps24/20220111/ROI01_z1/', 'fov_name': 'mM2_z1', 'fov_depth': 1120.0, 'fov_center_xy': array([[-1662.46125877,   269.83897896]]), 'fov_size_xy': array([[537.60000003, 537.60000003]]), 'fov_rotation_degrees': 0.0, 'fov_pixel_resolution_xy': array([[512., 512.]]), 'fov_discrete_plane_mode': 0, 'power_percent': 75.0}, {'recording_id': 4, 'fov': 2, 'fov_directory': 'emdia/emdia_gps24/20220111/ROI02_z1/', 'relative_fov_directory': 'emdia/emdia_gps24/20220111/ROI02_z1/', 'fov_name': 'RSP_z1', 'fov_depth': 1120.0, 'fov_center_xy': array([[1142.3930918 ,  -99.24825482]]), 'fov_size_xy': array([[537.60000003, 537.60000003]]), 'fov_rotation_degrees': 0.0, 'fov_pixel_resolution_xy': array([[512., 512.]]), 'fov_discrete_plane_mode': 0, 'power_percent': 75.0}, {'recording_id': 4, 'fov': 3, 'fov_directory': 'emdia/emdia_gps24/20220111/ROI03_z1/', 'relative_fov_directory': 'emdia/emdia_gps24/20220111/ROI03_z1/', 'fov_name': 'AM_z1', 'fov_depth': 1120.0, 'fov_center_xy': array([[1555.00006185, 1097.92718087]]), 'fov_size_xy': array([[537.60000003, 537.60000003]]), 'fov_rotation_degrees': 0.0, 'fov_pixel_resolution_xy': array([[512., 512.]]), 'fov_discrete_plane_mode': 0, 'power_percent': 75.0}]\nthis_recprocess_key {'recording_id': 4, 'preprocess_paramset_idx': 2, 'process_paramset_idx': 1, 'recording_process_pre_path': 'emdia/emdia_gps24/20220111/ROI01_z1/', 'status_pipeline_idx': 0}\nrecording_process [24]\nthis_mod_processing {'recording_id': 4, 'fov': 1, 'recording_process_id': 24}\nthis_recprocess_key {'recording_id': 4, 'preprocess_paramset_idx': 2, 'process_paramset_idx': 1, 'recording_process_pre_path': 'emdia/emdia_gps24/20220111/ROI02_z1/', 'status_pipeline_idx': 0}\nrecording_process [25]\nthis_mod_processing {'recording_id': 4, 'fov': 2, 'recording_process_id': 25}\nthis_recprocess_key {'recording_id': 4, 'preprocess_paramset_idx': 2, 'process_paramset_idx': 1, 'recording_process_pre_path': 'emdia/emdia_gps24/20220111/ROI03_z1/', 'status_pipeline_idx': 0}\nrecording_process [26]\nthis_mod_processing {'recording_id': 4, 'fov': 3, 'recording_process_id': 26}\nkey to update {'recording_id': 4}\nrecording_key_dict {'recording_id': 4}\nstatus 3\nupdate_field None\nupdate_value None\nupdate_status_dict {'recording_id': 4, 'status_recording_idx': 3}\n"
     ]
    }
   ],
   "source": [
    "l = rec_handler.RecordingHandler.pipeline_handler_main()"
   ]
  },
  {
   "cell_type": "code",
   "execution_count": 8,
   "metadata": {},
   "outputs": [
    {
     "output_type": "execute_result",
     "data": {
      "text/plain": [
       "*recording_pro recording_id   status_pipelin preprocess_par process_params recording_proc recording_proc task_copy_id_p task_copy_id_p slurm_id    \n",
       "+------------+ +------------+ +------------+ +------------+ +------------+ +------------+ +------------+ +------------+ +------------+ +----------+\n",
       "16             2              0              1              1              /Volumes/brain None           None           None           None        \n",
       "17             2              0              1              1              /Volumes/brain None           None           None           None        \n",
       "18             3              0              1              1              /Volumes/brain None           None           None           None        \n",
       "19             3              0              1              1              /Volumes/brain None           None           None           None        \n",
       "24             4              0              2              1              emdia/emdia_gp None           None           None           None        \n",
       "25             4              0              2              1              emdia/emdia_gp None           None           None           None        \n",
       "26             4              0              2              1              emdia/emdia_gp None           None           None           None        \n",
       " (Total: 7)"
      ],
      "text/html": "\n    \n    <style type=\"text/css\">\n        .Relation{\n            border-collapse:collapse;\n        }\n        .Relation th{\n            background: #A0A0A0; color: #ffffff; padding:4px; border:#f0e0e0 1px solid;\n            font-weight: normal; font-family: monospace; font-size: 100%;\n        }\n        .Relation td{\n            padding:4px; border:#f0e0e0 1px solid; font-size:100%;\n        }\n        .Relation tr:nth-child(odd){\n            background: #ffffff;\n        }\n        .Relation tr:nth-child(even){\n            background: #f3f1ff;\n        }\n        /* Tooltip container */\n        .djtooltip {\n        }\n        /* Tooltip text */\n        .djtooltip .djtooltiptext {\n            visibility: hidden;\n            width: 120px;\n            background-color: black;\n            color: #fff;\n            text-align: center;\n            padding: 5px 0;\n            border-radius: 6px;\n            /* Position the tooltip text - see examples below! */\n            position: absolute;\n            z-index: 1;\n        }\n        #primary {\n            font-weight: bold;\n            color: black;\n        }\n        #nonprimary {\n            font-weight: normal;\n            color: white;\n        }\n\n        /* Show the tooltip text when you mouse over the tooltip container */\n        .djtooltip:hover .djtooltiptext {\n            visibility: visible;\n        }\n    </style>\n    \n    <b></b>\n        <div style=\"max-height:1000px;max-width:1500px;overflow:auto;\">\n        <table border=\"1\" class=\"Relation\">\n            <thead> <tr style=\"text-align: right;\"> <th> <div class=\"djtooltip\">\n                            <p id=\"primary\">recording_process_id</p>\n                            <span class=\"djtooltiptext\">Unique number assigned to each processing job for a recording unit</span>\n                        </div></th><th><div class=\"djtooltip\">\n                            <p id=\"nonprimary\">recording_id</p>\n                            <span class=\"djtooltiptext\">Unique number assigned to each recording</span>\n                        </div></th><th><div class=\"djtooltip\">\n                            <p id=\"nonprimary\">status_pipeline_idx</p>\n                            <span class=\"djtooltiptext\">status in the automate process pipeline</span>\n                        </div></th><th><div class=\"djtooltip\">\n                            <p id=\"nonprimary\">preprocess_paramset_idx</p>\n                            <span class=\"djtooltiptext\"></span>\n                        </div></th><th><div class=\"djtooltip\">\n                            <p id=\"nonprimary\">process_paramset_idx</p>\n                            <span class=\"djtooltiptext\"></span>\n                        </div></th><th><div class=\"djtooltip\">\n                            <p id=\"nonprimary\">recording_process_pre_path</p>\n                            <span class=\"djtooltiptext\">relative path for raw data recording subdirectory that will be processed (ephys-> probe, imaging->fieldofview)</span>\n                        </div></th><th><div class=\"djtooltip\">\n                            <p id=\"nonprimary\">recording_process_post_path</p>\n                            <span class=\"djtooltiptext\">relative path for processed data recording</span>\n                        </div></th><th><div class=\"djtooltip\">\n                            <p id=\"nonprimary\">task_copy_id_pre</p>\n                            <span class=\"djtooltiptext\">id for globus transfer task raw file cup->tiger</span>\n                        </div></th><th><div class=\"djtooltip\">\n                            <p id=\"nonprimary\">task_copy_id_post</p>\n                            <span class=\"djtooltiptext\">id for globus transfer task sorted file tiger->cup</span>\n                        </div></th><th><div class=\"djtooltip\">\n                            <p id=\"nonprimary\">slurm_id</p>\n                            <span class=\"djtooltiptext\">id for slurm process in tiger</span>\n                        </div> </th> </tr> </thead>\n            <tbody> <tr> <td>16</td>\n<td>2</td>\n<td>0</td>\n<td>1</td>\n<td>1</td>\n<td>/Volumes/braininit/Data/electrophysiology/ms81/ms81_M004/20210507/towersTask_g0/towersTask_g0_imec0/</td>\n<td>None</td>\n<td>None</td>\n<td>None</td>\n<td>None</td></tr><tr><td>17</td>\n<td>2</td>\n<td>0</td>\n<td>1</td>\n<td>1</td>\n<td>/Volumes/braininit/Data/electrophysiology/ms81/ms81_M004/20210507/towersTask_g0/towersTask_g0_imec1/</td>\n<td>None</td>\n<td>None</td>\n<td>None</td>\n<td>None</td></tr><tr><td>18</td>\n<td>3</td>\n<td>0</td>\n<td>1</td>\n<td>1</td>\n<td>/Volumes/braininit/Data/electrophysiology/ms81/ms81_M004/20210507/towersTask_g0/towersTask_g0_imec0/</td>\n<td>None</td>\n<td>None</td>\n<td>None</td>\n<td>None</td></tr><tr><td>19</td>\n<td>3</td>\n<td>0</td>\n<td>1</td>\n<td>1</td>\n<td>/Volumes/braininit/Data/electrophysiology/ms81/ms81_M004/20210507/towersTask_g0/towersTask_g0_imec1/</td>\n<td>None</td>\n<td>None</td>\n<td>None</td>\n<td>None</td></tr><tr><td>24</td>\n<td>4</td>\n<td>0</td>\n<td>2</td>\n<td>1</td>\n<td>emdia/emdia_gps24/20220111/ROI01_z1/</td>\n<td>None</td>\n<td>None</td>\n<td>None</td>\n<td>None</td></tr><tr><td>25</td>\n<td>4</td>\n<td>0</td>\n<td>2</td>\n<td>1</td>\n<td>emdia/emdia_gps24/20220111/ROI02_z1/</td>\n<td>None</td>\n<td>None</td>\n<td>None</td>\n<td>None</td></tr><tr><td>26</td>\n<td>4</td>\n<td>0</td>\n<td>2</td>\n<td>1</td>\n<td>emdia/emdia_gps24/20220111/ROI03_z1/</td>\n<td>None</td>\n<td>None</td>\n<td>None</td>\n<td>None</td> </tr> </tbody>\n        </table>\n        \n        <p>Total: 7</p></div>\n        "
     },
     "metadata": {},
     "execution_count": 8
    }
   ],
   "source": [
    "recording.RecordingProcess()\n",
    "\n"
   ]
  },
  {
   "cell_type": "code",
   "execution_count": 9,
   "metadata": {},
   "outputs": [
    {
     "output_type": "execute_result",
     "data": {
      "text/plain": [
       "*recording_id  recording_moda location     status_recordi preprocess_par process_params task_copy_id_p inherit_params recording_dire local_director\n",
       "+------------+ +------------+ +----------+ +------------+ +------------+ +------------+ +------------+ +------------+ +------------+ +------------+\n",
       "2              electrophysiol Bezos1       3              1              1              None           1              ms81/ms81_M004 ms81/ms81_M004\n",
       "3              electrophysiol Bezos1       3              1              1              None           1              ms81/ms81_M004 ms81/ms81_M004\n",
       "4              imaging        Bezos1       3              2              1              None           1              emdia/emdia_gp emdia/emdia_gp\n",
       " (Total: 3)"
      ],
      "text/html": "\n    \n    <style type=\"text/css\">\n        .Relation{\n            border-collapse:collapse;\n        }\n        .Relation th{\n            background: #A0A0A0; color: #ffffff; padding:4px; border:#f0e0e0 1px solid;\n            font-weight: normal; font-family: monospace; font-size: 100%;\n        }\n        .Relation td{\n            padding:4px; border:#f0e0e0 1px solid; font-size:100%;\n        }\n        .Relation tr:nth-child(odd){\n            background: #ffffff;\n        }\n        .Relation tr:nth-child(even){\n            background: #f3f1ff;\n        }\n        /* Tooltip container */\n        .djtooltip {\n        }\n        /* Tooltip text */\n        .djtooltip .djtooltiptext {\n            visibility: hidden;\n            width: 120px;\n            background-color: black;\n            color: #fff;\n            text-align: center;\n            padding: 5px 0;\n            border-radius: 6px;\n            /* Position the tooltip text - see examples below! */\n            position: absolute;\n            z-index: 1;\n        }\n        #primary {\n            font-weight: bold;\n            color: black;\n        }\n        #nonprimary {\n            font-weight: normal;\n            color: white;\n        }\n\n        /* Show the tooltip text when you mouse over the tooltip container */\n        .djtooltip:hover .djtooltiptext {\n            visibility: visible;\n        }\n    </style>\n    \n    <b></b>\n        <div style=\"max-height:1000px;max-width:1500px;overflow:auto;\">\n        <table border=\"1\" class=\"Relation\">\n            <thead> <tr style=\"text-align: right;\"> <th> <div class=\"djtooltip\">\n                            <p id=\"primary\">recording_id</p>\n                            <span class=\"djtooltiptext\">Unique number assigned to each recording</span>\n                        </div></th><th><div class=\"djtooltip\">\n                            <p id=\"nonprimary\">recording_modality</p>\n                            <span class=\"djtooltiptext\">modalities for recording (ephys, imaging, video_recording, etc.)</span>\n                        </div></th><th><div class=\"djtooltip\">\n                            <p id=\"nonprimary\">location</p>\n                            <span class=\"djtooltiptext\"></span>\n                        </div></th><th><div class=\"djtooltip\">\n                            <p id=\"nonprimary\">status_recording_idx</p>\n                            <span class=\"djtooltiptext\">status in the automate process pipeline</span>\n                        </div></th><th><div class=\"djtooltip\">\n                            <p id=\"nonprimary\">preprocess_paramset_idx</p>\n                            <span class=\"djtooltiptext\"></span>\n                        </div></th><th><div class=\"djtooltip\">\n                            <p id=\"nonprimary\">process_paramset_idx</p>\n                            <span class=\"djtooltiptext\"></span>\n                        </div></th><th><div class=\"djtooltip\">\n                            <p id=\"nonprimary\">task_copy_id_pni</p>\n                            <span class=\"djtooltiptext\">id for globus transfer task raw file local->cup</span>\n                        </div></th><th><div class=\"djtooltip\">\n                            <p id=\"nonprimary\">inherit_params_recording</p>\n                            <span class=\"djtooltiptext\">all RecordingProcess from a recording will have same paramSets</span>\n                        </div></th><th><div class=\"djtooltip\">\n                            <p id=\"nonprimary\">recording_directory</p>\n                            <span class=\"djtooltiptext\">relative directory where the recording will be stored on cup</span>\n                        </div></th><th><div class=\"djtooltip\">\n                            <p id=\"nonprimary\">local_directory</p>\n                            <span class=\"djtooltiptext\">local directory where the recording is stored on system</span>\n                        </div> </th> </tr> </thead>\n            <tbody> <tr> <td>2</td>\n<td>electrophysiology</td>\n<td>Bezos1</td>\n<td>3</td>\n<td>1</td>\n<td>1</td>\n<td>None</td>\n<td>1</td>\n<td>ms81/ms81_M004/20210507/towersTask_g0</td>\n<td>ms81/ms81_M004/20210507/towersTask_g0</td></tr><tr><td>3</td>\n<td>electrophysiology</td>\n<td>Bezos1</td>\n<td>3</td>\n<td>1</td>\n<td>1</td>\n<td>None</td>\n<td>1</td>\n<td>ms81/ms81_M004/20210507/towersTask_g0</td>\n<td>ms81/ms81_M004/20210507/towersTask_g0</td></tr><tr><td>4</td>\n<td>imaging</td>\n<td>Bezos1</td>\n<td>3</td>\n<td>2</td>\n<td>1</td>\n<td>None</td>\n<td>1</td>\n<td>emdia/emdia_gps24/20220111</td>\n<td>emdia/emdia_gps24/20220111</td> </tr> </tbody>\n        </table>\n        \n        <p>Total: 3</p></div>\n        "
     },
     "metadata": {},
     "execution_count": 9
    }
   ],
   "source": [
    "recording.Recording()"
   ]
  },
  {
   "cell_type": "code",
   "execution_count": 10,
   "metadata": {},
   "outputs": [
    {
     "output_type": "execute_result",
     "data": {
      "text/plain": [
       "*recording_id  *probe    probe_director\n",
       "+------------+ +-------+ +------------+\n",
       "2              0         /Volumes/brain\n",
       "2              1         /Volumes/brain\n",
       "3              0         /Volumes/brain\n",
       "3              1         /Volumes/brain\n",
       " (Total: 4)"
      ],
      "text/html": "\n    \n    <style type=\"text/css\">\n        .Relation{\n            border-collapse:collapse;\n        }\n        .Relation th{\n            background: #A0A0A0; color: #ffffff; padding:4px; border:#f0e0e0 1px solid;\n            font-weight: normal; font-family: monospace; font-size: 100%;\n        }\n        .Relation td{\n            padding:4px; border:#f0e0e0 1px solid; font-size:100%;\n        }\n        .Relation tr:nth-child(odd){\n            background: #ffffff;\n        }\n        .Relation tr:nth-child(even){\n            background: #f3f1ff;\n        }\n        /* Tooltip container */\n        .djtooltip {\n        }\n        /* Tooltip text */\n        .djtooltip .djtooltiptext {\n            visibility: hidden;\n            width: 120px;\n            background-color: black;\n            color: #fff;\n            text-align: center;\n            padding: 5px 0;\n            border-radius: 6px;\n            /* Position the tooltip text - see examples below! */\n            position: absolute;\n            z-index: 1;\n        }\n        #primary {\n            font-weight: bold;\n            color: black;\n        }\n        #nonprimary {\n            font-weight: normal;\n            color: white;\n        }\n\n        /* Show the tooltip text when you mouse over the tooltip container */\n        .djtooltip:hover .djtooltiptext {\n            visibility: visible;\n        }\n    </style>\n    \n    <b>General information of an ephys session</b>\n        <div style=\"max-height:1000px;max-width:1500px;overflow:auto;\">\n        <table border=\"1\" class=\"Relation\">\n            <thead> <tr style=\"text-align: right;\"> <th> <div class=\"djtooltip\">\n                            <p id=\"primary\">recording_id</p>\n                            <span class=\"djtooltiptext\">Unique number assigned to each recording</span>\n                        </div></th><th><div class=\"djtooltip\">\n                            <p id=\"primary\">probe</p>\n                            <span class=\"djtooltiptext\">probe number for the recording</span>\n                        </div></th><th><div class=\"djtooltip\">\n                            <p id=\"nonprimary\">probe_directory</p>\n                            <span class=\"djtooltiptext\">probe specific directory</span>\n                        </div> </th> </tr> </thead>\n            <tbody> <tr> <td>2</td>\n<td>0</td>\n<td>/Volumes/braininit/Data/electrophysiology/ms81/ms81_M004/20210507/towersTask_g0/towersTask_g0_imec0/</td></tr><tr><td>2</td>\n<td>1</td>\n<td>/Volumes/braininit/Data/electrophysiology/ms81/ms81_M004/20210507/towersTask_g0/towersTask_g0_imec1/</td></tr><tr><td>3</td>\n<td>0</td>\n<td>/Volumes/braininit/Data/electrophysiology/ms81/ms81_M004/20210507/towersTask_g0/towersTask_g0_imec0/</td></tr><tr><td>3</td>\n<td>1</td>\n<td>/Volumes/braininit/Data/electrophysiology/ms81/ms81_M004/20210507/towersTask_g0/towersTask_g0_imec1/</td> </tr> </tbody>\n        </table>\n        \n        <p>Total: 4</p></div>\n        "
     },
     "metadata": {},
     "execution_count": 10
    }
   ],
   "source": [
    "ephys.EphysRecordingProbes()"
   ]
  },
  {
   "cell_type": "markdown",
   "metadata": {},
   "source": [
    "### Declare AutoPipeline and Status tables if they don't exist"
   ]
  },
  {
   "cell_type": "code",
   "execution_count": 11,
   "metadata": {},
   "outputs": [
    {
     "output_type": "execute_result",
     "data": {
      "text/plain": [
       "*recording_pro recording_id   probe    \n",
       "+------------+ +------------+ +-------+\n",
       "16             2              0        \n",
       "17             2              1        \n",
       "18             3              0        \n",
       "19             3              1        \n",
       " (Total: 4)"
      ],
      "text/html": "\n    \n    <style type=\"text/css\">\n        .Relation{\n            border-collapse:collapse;\n        }\n        .Relation th{\n            background: #A0A0A0; color: #ffffff; padding:4px; border:#f0e0e0 1px solid;\n            font-weight: normal; font-family: monospace; font-size: 100%;\n        }\n        .Relation td{\n            padding:4px; border:#f0e0e0 1px solid; font-size:100%;\n        }\n        .Relation tr:nth-child(odd){\n            background: #ffffff;\n        }\n        .Relation tr:nth-child(even){\n            background: #f3f1ff;\n        }\n        /* Tooltip container */\n        .djtooltip {\n        }\n        /* Tooltip text */\n        .djtooltip .djtooltiptext {\n            visibility: hidden;\n            width: 120px;\n            background-color: black;\n            color: #fff;\n            text-align: center;\n            padding: 5px 0;\n            border-radius: 6px;\n            /* Position the tooltip text - see examples below! */\n            position: absolute;\n            z-index: 1;\n        }\n        #primary {\n            font-weight: bold;\n            color: black;\n        }\n        #nonprimary {\n            font-weight: normal;\n            color: white;\n        }\n\n        /* Show the tooltip text when you mouse over the tooltip container */\n        .djtooltip:hover .djtooltiptext {\n            visibility: visible;\n        }\n    </style>\n    \n    <b></b>\n        <div style=\"max-height:1000px;max-width:1500px;overflow:auto;\">\n        <table border=\"1\" class=\"Relation\">\n            <thead> <tr style=\"text-align: right;\"> <th> <div class=\"djtooltip\">\n                            <p id=\"primary\">recording_process_id</p>\n                            <span class=\"djtooltiptext\">Unique number assigned to each processing job for a recording unit</span>\n                        </div></th><th><div class=\"djtooltip\">\n                            <p id=\"nonprimary\">recording_id</p>\n                            <span class=\"djtooltiptext\">Unique number assigned to each recording</span>\n                        </div></th><th><div class=\"djtooltip\">\n                            <p id=\"nonprimary\">probe</p>\n                            <span class=\"djtooltiptext\">probe number for the recording</span>\n                        </div> </th> </tr> </thead>\n            <tbody> <tr> <td>16</td>\n<td>2</td>\n<td>0</td></tr><tr><td>17</td>\n<td>2</td>\n<td>1</td></tr><tr><td>18</td>\n<td>3</td>\n<td>0</td></tr><tr><td>19</td>\n<td>3</td>\n<td>1</td> </tr> </tbody>\n        </table>\n        \n        <p>Total: 4</p></div>\n        "
     },
     "metadata": {},
     "execution_count": 11
    }
   ],
   "source": [
    "ephys.EphysProcessing()"
   ]
  },
  {
   "cell_type": "code",
   "execution_count": 12,
   "metadata": {},
   "outputs": [
    {
     "output_type": "execute_result",
     "data": {
      "text/plain": [
       "*recording_id \n",
       "+------------+\n",
       "4             \n",
       " (Total: 1)"
      ],
      "text/html": "\n    \n    <style type=\"text/css\">\n        .Relation{\n            border-collapse:collapse;\n        }\n        .Relation th{\n            background: #A0A0A0; color: #ffffff; padding:4px; border:#f0e0e0 1px solid;\n            font-weight: normal; font-family: monospace; font-size: 100%;\n        }\n        .Relation td{\n            padding:4px; border:#f0e0e0 1px solid; font-size:100%;\n        }\n        .Relation tr:nth-child(odd){\n            background: #ffffff;\n        }\n        .Relation tr:nth-child(even){\n            background: #f3f1ff;\n        }\n        /* Tooltip container */\n        .djtooltip {\n        }\n        /* Tooltip text */\n        .djtooltip .djtooltiptext {\n            visibility: hidden;\n            width: 120px;\n            background-color: black;\n            color: #fff;\n            text-align: center;\n            padding: 5px 0;\n            border-radius: 6px;\n            /* Position the tooltip text - see examples below! */\n            position: absolute;\n            z-index: 1;\n        }\n        #primary {\n            font-weight: bold;\n            color: black;\n        }\n        #nonprimary {\n            font-weight: normal;\n            color: white;\n        }\n\n        /* Show the tooltip text when you mouse over the tooltip container */\n        .djtooltip:hover .djtooltiptext {\n            visibility: visible;\n        }\n    </style>\n    \n    <b>General information of an imaging session</b>\n        <div style=\"max-height:1000px;max-width:1500px;overflow:auto;\">\n        <table border=\"1\" class=\"Relation\">\n            <thead> <tr style=\"text-align: right;\"> <th> <div class=\"djtooltip\">\n                            <p id=\"primary\">recording_id</p>\n                            <span class=\"djtooltiptext\">Unique number assigned to each recording</span>\n                        </div> </th> </tr> </thead>\n            <tbody> <tr> <td>4</td> </tr> </tbody>\n        </table>\n        \n        <p>Total: 1</p></div>\n        "
     },
     "metadata": {},
     "execution_count": 12
    }
   ],
   "source": [
    "imaging_rec.Scan()\n"
   ]
  },
  {
   "cell_type": "code",
   "execution_count": 13,
   "metadata": {},
   "outputs": [
    {
     "output_type": "execute_result",
     "data": {
      "text/plain": [
       "*recording_id  file_name_base scan_width     scan_height    acq_time       n_depths     scan_depth frame_rate     inter_fov_lag_ frame_ts_s channels   cfg_filename   usr_filename   fast_z_lag     fast_z_flyback line_period    scan_frame_per scan_volume_ra flyback_time_p flyto_time_per fov_corner nfovs     nframes     nframes_good   last_good_file motion_correct motion_correct stacks_enabled stack_actuator stack_definiti\n",
       "+------------+ +------------+ +------------+ +------------+ +------------+ +----------+ +--------+ +------------+ +------------+ +--------+ +--------+ +------------+ +------------+ +------------+ +------------+ +------------+ +------------+ +------------+ +------------+ +------------+ +--------+ +-------+ +---------+ +------------+ +------------+ +------------+ +------------+ +------------+ +------------+ +------------+\n",
       "4              emdia/emdia_gp 512            1588           2022-01-11 00: 1            =BLOB=     14.3005        0.001          =BLOB=     =BLOB=     C:\\Users\\admin C:\\Users\\admin 0.0008         0.004          4.14754e-05    0.0699276      14.3005        0.001          0.001          =BLOB=     3         51468       36000          18             1              automated      1              fastZ          arbitrary     \n",
       " (Total: 1)"
      ],
      "text/html": "\n    \n    <style type=\"text/css\">\n        .Relation{\n            border-collapse:collapse;\n        }\n        .Relation th{\n            background: #A0A0A0; color: #ffffff; padding:4px; border:#f0e0e0 1px solid;\n            font-weight: normal; font-family: monospace; font-size: 100%;\n        }\n        .Relation td{\n            padding:4px; border:#f0e0e0 1px solid; font-size:100%;\n        }\n        .Relation tr:nth-child(odd){\n            background: #ffffff;\n        }\n        .Relation tr:nth-child(even){\n            background: #f3f1ff;\n        }\n        /* Tooltip container */\n        .djtooltip {\n        }\n        /* Tooltip text */\n        .djtooltip .djtooltiptext {\n            visibility: hidden;\n            width: 120px;\n            background-color: black;\n            color: #fff;\n            text-align: center;\n            padding: 5px 0;\n            border-radius: 6px;\n            /* Position the tooltip text - see examples below! */\n            position: absolute;\n            z-index: 1;\n        }\n        #primary {\n            font-weight: bold;\n            color: black;\n        }\n        #nonprimary {\n            font-weight: normal;\n            color: white;\n        }\n\n        /* Show the tooltip text when you mouse over the tooltip container */\n        .djtooltip:hover .djtooltiptext {\n            visibility: visible;\n        }\n    </style>\n    \n    <b>metainfo about imaging session</b>\n        <div style=\"max-height:1000px;max-width:1500px;overflow:auto;\">\n        <table border=\"1\" class=\"Relation\">\n            <thead> <tr style=\"text-align: right;\"> <th> <div class=\"djtooltip\">\n                            <p id=\"primary\">recording_id</p>\n                            <span class=\"djtooltiptext\">Unique number assigned to each recording</span>\n                        </div></th><th><div class=\"djtooltip\">\n                            <p id=\"nonprimary\">file_name_base</p>\n                            <span class=\"djtooltiptext\">base name of the file</span>\n                        </div></th><th><div class=\"djtooltip\">\n                            <p id=\"nonprimary\">scan_width</p>\n                            <span class=\"djtooltiptext\">width of scanning in pixels</span>\n                        </div></th><th><div class=\"djtooltip\">\n                            <p id=\"nonprimary\">scan_height</p>\n                            <span class=\"djtooltiptext\">height of scanning in pixels</span>\n                        </div></th><th><div class=\"djtooltip\">\n                            <p id=\"nonprimary\">acq_time</p>\n                            <span class=\"djtooltiptext\">acquisition time</span>\n                        </div></th><th><div class=\"djtooltip\">\n                            <p id=\"nonprimary\">n_depths</p>\n                            <span class=\"djtooltiptext\">number of depths</span>\n                        </div></th><th><div class=\"djtooltip\">\n                            <p id=\"nonprimary\">scan_depths</p>\n                            <span class=\"djtooltiptext\">depth values in this scan</span>\n                        </div></th><th><div class=\"djtooltip\">\n                            <p id=\"nonprimary\">frame_rate</p>\n                            <span class=\"djtooltiptext\">imaging frame rate</span>\n                        </div></th><th><div class=\"djtooltip\">\n                            <p id=\"nonprimary\">inter_fov_lag_sec</p>\n                            <span class=\"djtooltiptext\">time lag in secs between fovs</span>\n                        </div></th><th><div class=\"djtooltip\">\n                            <p id=\"nonprimary\">frame_ts_sec</p>\n                            <span class=\"djtooltiptext\">frame timestamps in secs 1xnFrames</span>\n                        </div></th><th><div class=\"djtooltip\">\n                            <p id=\"nonprimary\">channels</p>\n                            <span class=\"djtooltiptext\">is this the channer number or total number of channels</span>\n                        </div></th><th><div class=\"djtooltip\">\n                            <p id=\"nonprimary\">cfg_filename</p>\n                            <span class=\"djtooltiptext\">cfg file path</span>\n                        </div></th><th><div class=\"djtooltip\">\n                            <p id=\"nonprimary\">usr_filename</p>\n                            <span class=\"djtooltiptext\">usr file path</span>\n                        </div></th><th><div class=\"djtooltip\">\n                            <p id=\"nonprimary\">fast_z_lag</p>\n                            <span class=\"djtooltiptext\">fast z lag</span>\n                        </div></th><th><div class=\"djtooltip\">\n                            <p id=\"nonprimary\">fast_z_flyback_time</p>\n                            <span class=\"djtooltiptext\">time it takes to fly back to fov</span>\n                        </div></th><th><div class=\"djtooltip\">\n                            <p id=\"nonprimary\">line_period</p>\n                            <span class=\"djtooltiptext\">scan time per line</span>\n                        </div></th><th><div class=\"djtooltip\">\n                            <p id=\"nonprimary\">scan_frame_period</p>\n                            <span class=\"djtooltiptext\"></span>\n                        </div></th><th><div class=\"djtooltip\">\n                            <p id=\"nonprimary\">scan_volume_rate</p>\n                            <span class=\"djtooltiptext\"></span>\n                        </div></th><th><div class=\"djtooltip\">\n                            <p id=\"nonprimary\">flyback_time_per_frame</p>\n                            <span class=\"djtooltiptext\"></span>\n                        </div></th><th><div class=\"djtooltip\">\n                            <p id=\"nonprimary\">flyto_time_per_scan_field</p>\n                            <span class=\"djtooltiptext\"></span>\n                        </div></th><th><div class=\"djtooltip\">\n                            <p id=\"nonprimary\">fov_corner_points</p>\n                            <span class=\"djtooltiptext\">coordinates of the corners of the full 5mm FOV, in microns</span>\n                        </div></th><th><div class=\"djtooltip\">\n                            <p id=\"nonprimary\">nfovs</p>\n                            <span class=\"djtooltiptext\">number of field of view</span>\n                        </div></th><th><div class=\"djtooltip\">\n                            <p id=\"nonprimary\">nframes</p>\n                            <span class=\"djtooltiptext\">number of frames in the scan</span>\n                        </div></th><th><div class=\"djtooltip\">\n                            <p id=\"nonprimary\">nframes_good</p>\n                            <span class=\"djtooltiptext\">number of frames in the scan before acceptable sample bleaching threshold is crossed</span>\n                        </div></th><th><div class=\"djtooltip\">\n                            <p id=\"nonprimary\">last_good_file</p>\n                            <span class=\"djtooltiptext\">number of the file containing the last good frame because of bleaching</span>\n                        </div></th><th><div class=\"djtooltip\">\n                            <p id=\"nonprimary\">motion_correction_enabled</p>\n                            <span class=\"djtooltiptext\"></span>\n                        </div></th><th><div class=\"djtooltip\">\n                            <p id=\"nonprimary\">motion_correction_mode</p>\n                            <span class=\"djtooltiptext\"></span>\n                        </div></th><th><div class=\"djtooltip\">\n                            <p id=\"nonprimary\">stacks_enabled</p>\n                            <span class=\"djtooltiptext\"></span>\n                        </div></th><th><div class=\"djtooltip\">\n                            <p id=\"nonprimary\">stack_actuator</p>\n                            <span class=\"djtooltiptext\"></span>\n                        </div></th><th><div class=\"djtooltip\">\n                            <p id=\"nonprimary\">stack_definition</p>\n                            <span class=\"djtooltiptext\"></span>\n                        </div> </th> </tr> </thead>\n            <tbody> <tr> <td>4</td>\n<td>emdia/emdia_gps24/20220111/gps24_20220111_mainrecording_00001_00001.tif</td>\n<td>512</td>\n<td>1588</td>\n<td>2022-01-11 00:00:00</td>\n<td>1</td>\n<td>=BLOB=</td>\n<td>14.3005</td>\n<td>0.001</td>\n<td>=BLOB=</td>\n<td>=BLOB=</td>\n<td>C:\\Users\\admin\\Documents\\MATLAB\\MikaToo.cfg</td>\n<td>C:\\Users\\admin\\Documents\\MATLAB\\Mika.usr</td>\n<td>0.0008</td>\n<td>0.004</td>\n<td>4.14754e-05</td>\n<td>0.0699276</td>\n<td>14.3005</td>\n<td>0.001</td>\n<td>0.001</td>\n<td>=BLOB=</td>\n<td>3</td>\n<td>51468</td>\n<td>36000</td>\n<td>18</td>\n<td>1</td>\n<td>automated</td>\n<td>1</td>\n<td>fastZ</td>\n<td>arbitrary</td> </tr> </tbody>\n        </table>\n        \n        <p>Total: 1</p></div>\n        "
     },
     "metadata": {},
     "execution_count": 13
    }
   ],
   "source": [
    "imaging_rec.ScanInfo()"
   ]
  },
  {
   "cell_type": "code",
   "execution_count": 14,
   "metadata": {},
   "outputs": [
    {
     "output_type": "execute_result",
     "data": {
      "text/plain": [
       "*recording_pro recording_id   fov    \n",
       "+------------+ +------------+ +-----+\n",
       "24             4              1      \n",
       "25             4              2      \n",
       "26             4              3      \n",
       " (Total: 3)"
      ],
      "text/html": "\n    \n    <style type=\"text/css\">\n        .Relation{\n            border-collapse:collapse;\n        }\n        .Relation th{\n            background: #A0A0A0; color: #ffffff; padding:4px; border:#f0e0e0 1px solid;\n            font-weight: normal; font-family: monospace; font-size: 100%;\n        }\n        .Relation td{\n            padding:4px; border:#f0e0e0 1px solid; font-size:100%;\n        }\n        .Relation tr:nth-child(odd){\n            background: #ffffff;\n        }\n        .Relation tr:nth-child(even){\n            background: #f3f1ff;\n        }\n        /* Tooltip container */\n        .djtooltip {\n        }\n        /* Tooltip text */\n        .djtooltip .djtooltiptext {\n            visibility: hidden;\n            width: 120px;\n            background-color: black;\n            color: #fff;\n            text-align: center;\n            padding: 5px 0;\n            border-radius: 6px;\n            /* Position the tooltip text - see examples below! */\n            position: absolute;\n            z-index: 1;\n        }\n        #primary {\n            font-weight: bold;\n            color: black;\n        }\n        #nonprimary {\n            font-weight: normal;\n            color: white;\n        }\n\n        /* Show the tooltip text when you mouse over the tooltip container */\n        .djtooltip:hover .djtooltiptext {\n            visibility: visible;\n        }\n    </style>\n    \n    <b></b>\n        <div style=\"max-height:1000px;max-width:1500px;overflow:auto;\">\n        <table border=\"1\" class=\"Relation\">\n            <thead> <tr style=\"text-align: right;\"> <th> <div class=\"djtooltip\">\n                            <p id=\"primary\">recording_process_id</p>\n                            <span class=\"djtooltiptext\">Unique number assigned to each processing job for a recording unit</span>\n                        </div></th><th><div class=\"djtooltip\">\n                            <p id=\"nonprimary\">recording_id</p>\n                            <span class=\"djtooltiptext\">Unique number assigned to each recording</span>\n                        </div></th><th><div class=\"djtooltip\">\n                            <p id=\"nonprimary\">fov</p>\n                            <span class=\"djtooltiptext\">number of the field of view in this scan</span>\n                        </div> </th> </tr> </thead>\n            <tbody> <tr> <td>24</td>\n<td>4</td>\n<td>1</td></tr><tr><td>25</td>\n<td>4</td>\n<td>2</td></tr><tr><td>26</td>\n<td>4</td>\n<td>3</td> </tr> </tbody>\n        </table>\n        \n        <p>Total: 3</p></div>\n        "
     },
     "metadata": {},
     "execution_count": 14
    }
   ],
   "source": [
    "imaging_rec.ImagingProcessing()"
   ]
  },
  {
   "cell_type": "code",
   "execution_count": 16,
   "metadata": {},
   "outputs": [
    {
     "output_type": "execute_result",
     "data": {
      "text/plain": [
       "<datajoint.diagram.Diagram at 0x7fb080233590>"
      ],
      "image/svg+xml": "<svg height=\"476pt\" viewBox=\"0.00 0.00 1024.18 476.00\" width=\"1024pt\" xmlns=\"http://www.w3.org/2000/svg\" xmlns:xlink=\"http://www.w3.org/1999/xlink\">\n<g class=\"graph\" id=\"graph0\" transform=\"scale(1 1) rotate(0) translate(4 472)\">\n<title>%3</title>\n<polygon fill=\"white\" points=\"-4,5 -4,-472 1021.18,-472 1021.18,5 -4,5\" stroke=\"white\"/>\n<!-- 56 -->\n<g class=\"node\" id=\"node1\"><title>56</title>\n<ellipse cx=\"764\" cy=\"-378\" fill=\"#ff8800\" fill-opacity=\"0.501961\" rx=\"12.5894\" ry=\"12.96\" stroke=\"#ff8800\" stroke-opacity=\"0.501961\"/>\n<text fill=\"#ff8800\" font-family=\"arial\" font-size=\"1.00\" text-anchor=\"middle\" x=\"764\" y=\"-377.7\">56</text>\n</g>\n<!-- recording.acquisition.Session -->\n<g class=\"node\" id=\"node11\"><title>recording.acquisition.Session</title>\n<g id=\"a_node11\"><a xlink:title=\"→ recording.acquisition.SessionStarted\r------------------------------\rsession_start_time   \rsession_end_time=null \r→ recording.lab.Location.proj(session_location=&quot;location&quot;)\r→ recording.task.TaskLevelParameterSet\rstimulus_bank=&quot;&quot;     \rstimulus_commit=&quot;&quot;   \rsession_performance  \rnum_trials=null      \rnum_trials_try=null  \rsession_narrative=&quot;&quot; \rsession_protocol=null \rsession_code_version=null \ris_bad_session=null  \rsession_comments=null \r\">\n<polygon fill=\"#00ff00\" fill-opacity=\"0.188235\" points=\"867,-251.5 693,-251.5 693,-216.5 867,-216.5 867,-251.5\" stroke=\"#00ff00\" stroke-opacity=\"0.188235\"/>\n<text fill=\"darkgreen\" font-family=\"arial\" font-size=\"12.00\" text-anchor=\"middle\" x=\"780\" y=\"-230.9\">recording.acquisition.Session</text>\n</a>\n</g>\n</g>\n<!-- 56&#45;&gt;recording.acquisition.Session -->\n<g class=\"edge\" id=\"edge1\"><title>56-&gt;recording.acquisition.Session</title>\n<path d=\"M765.364,-364.893C768.221,-339.541 774.837,-280.823 778.104,-251.825\" fill=\"none\" stroke=\"#000000\" stroke-dasharray=\"5,2\" stroke-opacity=\"0.250980\" stroke-width=\"0.75\"/>\n</g>\n<!-- 55 -->\n<g class=\"node\" id=\"node2\"><title>55</title>\n<ellipse cx=\"102\" cy=\"-162\" fill=\"#ff8800\" fill-opacity=\"0.501961\" rx=\"12.5894\" ry=\"12.96\" stroke=\"#ff8800\" stroke-opacity=\"0.501961\"/>\n<text fill=\"#ff8800\" font-family=\"arial\" font-size=\"1.00\" text-anchor=\"middle\" x=\"102\" y=\"-161.7\">55</text>\n</g>\n<!-- recording.RecordingProcessStatus -->\n<g class=\"node\" id=\"node4\"><title>recording.RecordingProcessStatus</title>\n<g id=\"a_node4\"><a xlink:title=\"recording_process_status_id \r------------------------------\r→ recording.RecordingProcess\r→ recording.StatusProcessDefinition.proj(status_pipeline_idx_old=&quot;status_pipeline_idx&quot;)\r→ recording.StatusProcessDefinition.proj(status_pipeline_idx_new=&quot;status_pipeline_idx&quot;)\rstatus_timestamp     \rerror_message=null   \rerror_exception=null \r\">\n<polygon fill=\"#00ff00\" fill-opacity=\"0.188235\" points=\"204,-107.5 0,-107.5 0,-72.5 204,-72.5 204,-107.5\" stroke=\"#00ff00\" stroke-opacity=\"0.188235\"/>\n<text fill=\"darkgreen\" font-family=\"arial\" font-size=\"12.00\" text-anchor=\"start\" text-decoration=\"underline\" x=\"8.5\" y=\"-87.9\">recording.RecordingProcessStatus</text>\n</a>\n</g>\n</g>\n<!-- 55&#45;&gt;recording.RecordingProcessStatus -->\n<g class=\"edge\" id=\"edge2\"><title>55-&gt;recording.RecordingProcessStatus</title>\n<path d=\"M102,-149.125C102,-137.736 102,-120.432 102,-107.664\" fill=\"none\" stroke=\"#000000\" stroke-dasharray=\"5,2\" stroke-opacity=\"0.250980\" stroke-width=\"0.75\"/>\n</g>\n<!-- 54 -->\n<g class=\"node\" id=\"node3\"><title>54</title>\n<ellipse cx=\"59\" cy=\"-162\" fill=\"#ff8800\" fill-opacity=\"0.501961\" rx=\"12.5894\" ry=\"12.96\" stroke=\"#ff8800\" stroke-opacity=\"0.501961\"/>\n<text fill=\"#ff8800\" font-family=\"arial\" font-size=\"1.00\" text-anchor=\"middle\" x=\"59\" y=\"-161.7\">54</text>\n</g>\n<!-- 54&#45;&gt;recording.RecordingProcessStatus -->\n<g class=\"edge\" id=\"edge3\"><title>54-&gt;recording.RecordingProcessStatus</title>\n<path d=\"M65.3448,-150.671C72.3066,-139.338 83.5817,-120.983 91.7909,-107.62\" fill=\"none\" stroke=\"#000000\" stroke-dasharray=\"5,2\" stroke-opacity=\"0.250980\" stroke-width=\"0.75\"/>\n</g>\n<!-- ephys.EphysProcessing -->\n<g class=\"node\" id=\"node5\"><title>ephys.EphysProcessing</title>\n<g id=\"a_node5\"><a xlink:title=\"→ recording.RecordingProcess\r------------------------------\r→ ephys.EphysRecordingProbes\r\">\n<polygon fill=\"#00ff00\" fill-opacity=\"0.188235\" points=\"403,-35.5 257,-35.5 257,-0.5 403,-0.5 403,-35.5\" stroke=\"#00ff00\" stroke-opacity=\"0.188235\"/>\n<text fill=\"darkgreen\" font-family=\"arial\" font-size=\"12.00\" text-anchor=\"middle\" x=\"330\" y=\"-14.9\">ephys.EphysProcessing</text>\n</a>\n</g>\n</g>\n<!-- recording.acquisition.SessionStarted -->\n<g class=\"node\" id=\"node6\"><title>recording.acquisition.SessionStarted</title>\n<g id=\"a_node6\"><a xlink:title=\"→ recording.subject.Subject\rsession_date=&quot;curdate()&quot; \rsession_number       \r------------------------------\rsession_start_time=&quot;current_timestamp()&quot; \r→ recording.lab.Location.proj(session_location=&quot;location&quot;)\r→ recording.task.Task\rlocal_path_behavior_file \rremote_path_behavior_file \ris_finished=0        \rinvalid_session=0    \r%}\r\">\n<polygon fill=\"#00ff00\" fill-opacity=\"0.188235\" points=\"1001,-323.5 789,-323.5 789,-288.5 1001,-288.5 1001,-323.5\" stroke=\"#00ff00\" stroke-opacity=\"0.188235\"/>\n<text fill=\"darkgreen\" font-family=\"arial\" font-size=\"12.00\" text-anchor=\"middle\" x=\"895\" y=\"-302.9\">recording.acquisition.SessionStarted</text>\n</a>\n</g>\n</g>\n<!-- recording.acquisition.SessionStarted&#45;&gt;recording.acquisition.Session -->\n<g class=\"edge\" id=\"edge4\"><title>recording.acquisition.SessionStarted-&gt;recording.acquisition.Session</title>\n<path d=\"M867.747,-288.411C849.548,-277.333 825.697,-262.816 807.456,-251.713\" fill=\"none\" stroke=\"#000000\" stroke-opacity=\"0.250980\" stroke-width=\"2\"/>\n</g>\n<!-- recording.RecordingProcess -->\n<g class=\"node\" id=\"node7\"><title>recording.RecordingProcess</title>\n<g id=\"a_node7\"><a xlink:title=\"recording_process_id \r------------------------------\r→ recording.Recording\r→ recording.StatusProcessDefinition\r→ recording.PreprocessParamSet\r→ recording.ProcessParamSet\rrecording_process_pre_path=null : varchar(200)                 # relative path for raw data recording subdirectory that will be processed (ephys→ probe, imaging→fieldofview)\rrecording_process_post_path=null \rtask_copy_id_pre=null : UUID                         # id for globus transfer task raw file cup→tiger\rtask_copy_id_post=null : UUID                         # id for globus transfer task sorted file tiger→cup\rslurm_id=null        \r\">\n<polygon fill=\"#00ff00\" fill-opacity=\"0.188235\" points=\"303,-179.5 133,-179.5 133,-144.5 303,-144.5 303,-179.5\" stroke=\"#00ff00\" stroke-opacity=\"0.188235\"/>\n<text fill=\"darkgreen\" font-family=\"arial\" font-size=\"12.00\" text-anchor=\"start\" text-decoration=\"underline\" x=\"141.5\" y=\"-159.9\">recording.RecordingProcess</text>\n</a>\n</g>\n</g>\n<!-- recording.RecordingProcess&#45;&gt;recording.RecordingProcessStatus -->\n<g class=\"edge\" id=\"edge5\"><title>recording.RecordingProcess-&gt;recording.RecordingProcessStatus</title>\n<path d=\"M190.51,-144.411C172.152,-133.333 148.095,-118.816 129.695,-107.713\" fill=\"none\" stroke=\"#000000\" stroke-dasharray=\"5,2\" stroke-opacity=\"0.250980\" stroke-width=\"0.75\"/>\n</g>\n<!-- recording.RecordingProcess&#45;&gt;ephys.EphysProcessing -->\n<g class=\"edge\" id=\"edge6\"><title>recording.RecordingProcess-&gt;ephys.EphysProcessing</title>\n<path d=\"M227.468,-144.182C238.199,-125.711 256.72,-95.5439 276,-72 286.736,-58.8894 300.364,-45.534 311.243,-35.5096\" fill=\"none\" stroke=\"#000000\" stroke-opacity=\"0.250980\" stroke-width=\"2\"/>\n</g>\n<!-- recording.Recording.BehaviorSession -->\n<g class=\"node\" id=\"node8\"><title>recording.Recording.BehaviorSession</title>\n<g id=\"a_node8\"><a xlink:title=\"→ recording.Recording\r------------------------------\r→ recording.acquisition.Session\r\">\n<polygon fill=\"none\" points=\"717.25,-171.5 538.75,-171.5 538.75,-152.5 717.25,-152.5 717.25,-171.5\" stroke=\"none\"/>\n<text font-family=\"arial\" font-size=\"10.00\" text-anchor=\"middle\" x=\"628\" y=\"-159.5\">recording.Recording.BehaviorSession</text>\n</a>\n</g>\n</g>\n<!-- recording.subject.Subject -->\n<g class=\"node\" id=\"node9\"><title>recording.subject.Subject</title>\n<g id=\"a_node9\"><a xlink:title=\"subject_fullname     \r------------------------------\rsubject_nickname     \r→ recording.lab.User\rgenomics_id=null     \rsex=&quot;Unknown&quot;        \rdob=null             \rhead_plate_mark=null \r→ recording.lab.Location\r→ [nullable] recording.lab.Protocol\r→ [nullable] recording.subject.Line\rsubject_description=&quot;&quot; \rinitial_weight=null  \rnotification_enabled=1 \rneed_reweight=0      \r\">\n<polygon fill=\"#00ff00\" fill-opacity=\"0.188235\" points=\"971.25,-395.5 818.75,-395.5 818.75,-360.5 971.25,-360.5 971.25,-395.5\" stroke=\"#00ff00\" stroke-opacity=\"0.188235\"/>\n<text fill=\"darkgreen\" font-family=\"arial\" font-size=\"12.00\" text-anchor=\"start\" text-decoration=\"underline\" x=\"827\" y=\"-375.9\">recording.subject.Subject</text>\n</a>\n</g>\n</g>\n<!-- recording.subject.Subject&#45;&gt;recording.acquisition.SessionStarted -->\n<g class=\"edge\" id=\"edge7\"><title>recording.subject.Subject-&gt;recording.acquisition.SessionStarted</title>\n<path d=\"M895,-360.411C895,-349.414 895,-335.027 895,-323.956\" fill=\"none\" stroke=\"#000000\" stroke-opacity=\"0.250980\" stroke-width=\"0.75\"/>\n</g>\n<!-- recording.Recording.RecordingSession -->\n<g class=\"node\" id=\"node10\"><title>recording.Recording.RecordingSession</title>\n<g id=\"a_node10\"><a xlink:title=\"→ recording.Recording\r------------------------------\r→ recording.subject.Subject\rrecording_datetime   \r\">\n<polygon fill=\"none\" points=\"920.25,-171.5 735.75,-171.5 735.75,-152.5 920.25,-152.5 920.25,-171.5\" stroke=\"none\"/>\n<text font-family=\"arial\" font-size=\"10.00\" text-anchor=\"middle\" x=\"828\" y=\"-159.5\">recording.Recording.RecordingSession</text>\n</a>\n</g>\n</g>\n<!-- recording.subject.Subject&#45;&gt;recording.Recording.RecordingSession -->\n<g class=\"edge\" id=\"edge8\"><title>recording.subject.Subject-&gt;recording.Recording.RecordingSession</title>\n<path d=\"M962.993,-360.457C981.37,-352.542 999.154,-340.941 1010,-324 1018.63,-310.525 1017.45,-302.159 1010,-288 976.614,-224.569 894.891,-187.109 853.262,-171.523\" fill=\"none\" stroke=\"#000000\" stroke-dasharray=\"5,2\" stroke-opacity=\"0.250980\" stroke-width=\"0.75\"/>\n</g>\n<!-- recording.acquisition.Session&#45;&gt;recording.Recording.BehaviorSession -->\n<g class=\"edge\" id=\"edge9\"><title>recording.acquisition.Session-&gt;recording.Recording.BehaviorSession</title>\n<path d=\"M743.978,-216.411C713.427,-202.341 670.827,-182.723 646.671,-171.599\" fill=\"none\" stroke=\"#000000\" stroke-dasharray=\"5,2\" stroke-opacity=\"0.250980\" stroke-width=\"0.75\"/>\n</g>\n<!-- ephys.EphysRecordingProbes -->\n<g class=\"node\" id=\"node12\"><title>ephys.EphysRecordingProbes</title>\n<g id=\"a_node12\"><a xlink:title=\"→ ephys.EphysRecording\rprobe                \r------------------------------\rprobe_directory      \r\">\n<ellipse cx=\"412\" cy=\"-90\" fill=\"#ff0000\" fill-opacity=\"0.125490\" rx=\"126.358\" ry=\"14.7\" stroke=\"#ff0000\" stroke-opacity=\"0.125490\"/>\n<text fill=\"#7f0000\" font-family=\"arial\" font-size=\"12.00\" text-anchor=\"middle\" x=\"412\" y=\"-86.9\">ephys.EphysRecordingProbes</text>\n</a>\n</g>\n</g>\n<!-- ephys.EphysRecordingProbes&#45;&gt;ephys.EphysProcessing -->\n<g class=\"edge\" id=\"edge10\"><title>ephys.EphysRecordingProbes-&gt;ephys.EphysProcessing</title>\n<path d=\"M395.799,-75.1703C382.451,-63.7749 363.484,-47.5836 349.34,-35.5101\" fill=\"none\" stroke=\"#000000\" stroke-dasharray=\"5,2\" stroke-opacity=\"0.250980\" stroke-width=\"0.75\"/>\n</g>\n<!-- recording.StatusProcessDefinition -->\n<g class=\"node\" id=\"node13\"><title>recording.StatusProcessDefinition</title>\n<g id=\"a_node13\"><a xlink:title=\"status_pipeline_idx  \r------------------------------\rstatus_definition    \r\">\n<polygon fill=\"#000000\" fill-opacity=\"0.125490\" points=\"184.25,-251.5 19.75,-251.5 19.75,-216.5 184.25,-216.5 184.25,-251.5\" stroke=\"none\"/>\n<text font-family=\"arial\" font-size=\"10.00\" text-anchor=\"start\" text-decoration=\"underline\" x=\"28\" y=\"-232.5\">recording.StatusProcessDefinition</text>\n</a>\n</g>\n</g>\n<!-- recording.StatusProcessDefinition&#45;&gt;54 -->\n<g class=\"edge\" id=\"edge11\"><title>recording.StatusProcessDefinition-&gt;54</title>\n<path d=\"M91.8096,-216.411C83.5643,-202.988 72.2166,-184.515 65.2569,-173.186\" fill=\"none\" stroke=\"#000000\" stroke-dasharray=\"5,2\" stroke-opacity=\"0.250980\" stroke-width=\"0.75\"/>\n</g>\n<!-- recording.StatusProcessDefinition&#45;&gt;55 -->\n<g class=\"edge\" id=\"edge12\"><title>recording.StatusProcessDefinition-&gt;55</title>\n<path d=\"M102,-216.411C102,-203.635 102,-186.284 102,-174.872\" fill=\"none\" stroke=\"#000000\" stroke-dasharray=\"5,2\" stroke-opacity=\"0.250980\" stroke-width=\"0.75\"/>\n</g>\n<!-- recording.StatusProcessDefinition&#45;&gt;recording.RecordingProcess -->\n<g class=\"edge\" id=\"edge13\"><title>recording.StatusProcessDefinition-&gt;recording.RecordingProcess</title>\n<path d=\"M129.49,-216.411C147.848,-205.333 171.905,-190.816 190.305,-179.713\" fill=\"none\" stroke=\"#000000\" stroke-dasharray=\"5,2\" stroke-opacity=\"0.250980\" stroke-width=\"0.75\"/>\n</g>\n<!-- recording.PreprocessParamSet -->\n<g class=\"node\" id=\"node14\"><title>recording.PreprocessParamSet</title>\n<g id=\"a_node14\"><a xlink:title=\"preprocess_paramset_idx \r------------------------------\r→ recording.RecordingModality\rpreprocess_paramset_desc \rpreprocess_paramset_hash \rpreprocess_paramset  \rUNIQUE INDEX (preprocess_paramset_hash)\r\">\n<polygon fill=\"#000000\" fill-opacity=\"0.125490\" points=\"306.25,-323.5 153.75,-323.5 153.75,-288.5 306.25,-288.5 306.25,-323.5\" stroke=\"none\"/>\n<text font-family=\"arial\" font-size=\"10.00\" text-anchor=\"start\" text-decoration=\"underline\" x=\"162\" y=\"-304.5\">recording.PreprocessParamSet</text>\n</a>\n</g>\n</g>\n<!-- recording.PreprocessParamSet&#45;&gt;recording.RecordingProcess -->\n<g class=\"edge\" id=\"edge14\"><title>recording.PreprocessParamSet-&gt;recording.RecordingProcess</title>\n<path d=\"M228.6,-288.433C226.3,-261.217 221.747,-207.334 219.428,-179.902\" fill=\"none\" stroke=\"#000000\" stroke-dasharray=\"5,2\" stroke-opacity=\"0.250980\" stroke-width=\"0.75\"/>\n</g>\n<!-- recording.Recording -->\n<g class=\"node\" id=\"node19\"><title>recording.Recording</title>\n<g id=\"a_node19\"><a xlink:title=\"recording_id         \r------------------------------\r→ recording.RecordingModality\r→ recording.lab.Location\r→ recording.StatusRecordingDefinition\r→ recording.PreprocessParamSet\r→ recording.ProcessParamSet\rtask_copy_id_pni=null : UUID                         # id for globus transfer task raw file local→cup\rinherit_params_recording=1 \rrecording_directory  \rlocal_directory      \r\">\n<polygon fill=\"#00ff00\" fill-opacity=\"0.188235\" points=\"675,-251.5 549,-251.5 549,-216.5 675,-216.5 675,-251.5\" stroke=\"#00ff00\" stroke-opacity=\"0.188235\"/>\n<text fill=\"darkgreen\" font-family=\"arial\" font-size=\"12.00\" text-anchor=\"start\" text-decoration=\"underline\" x=\"557.5\" y=\"-231.9\">recording.Recording</text>\n</a>\n</g>\n</g>\n<!-- recording.PreprocessParamSet&#45;&gt;recording.Recording -->\n<g class=\"edge\" id=\"edge15\"><title>recording.PreprocessParamSet-&gt;recording.Recording</title>\n<path d=\"M306.419,-289.82C309.655,-289.2 312.859,-288.592 316,-288 396.163,-272.901 488.739,-256.49 548.713,-245.992\" fill=\"none\" stroke=\"#000000\" stroke-dasharray=\"5,2\" stroke-opacity=\"0.250980\" stroke-width=\"0.75\"/>\n</g>\n<!-- recording.StatusRecordingDefinition -->\n<g class=\"node\" id=\"node15\"><title>recording.StatusRecordingDefinition</title>\n<g id=\"a_node15\"><a xlink:title=\"status_recording_idx \r------------------------------\rstatus_definition    \r\">\n<polygon fill=\"#000000\" fill-opacity=\"0.125490\" points=\"694.25,-323.5 521.75,-323.5 521.75,-288.5 694.25,-288.5 694.25,-323.5\" stroke=\"none\"/>\n<text font-family=\"arial\" font-size=\"10.00\" text-anchor=\"start\" text-decoration=\"underline\" x=\"530\" y=\"-304.5\">recording.StatusRecordingDefinition</text>\n</a>\n</g>\n</g>\n<!-- recording.StatusRecordingDefinition&#45;&gt;recording.Recording -->\n<g class=\"edge\" id=\"edge16\"><title>recording.StatusRecordingDefinition-&gt;recording.Recording</title>\n<path d=\"M608.948,-288.411C609.576,-277.414 610.398,-263.027 611.031,-251.956\" fill=\"none\" stroke=\"#000000\" stroke-dasharray=\"5,2\" stroke-opacity=\"0.250980\" stroke-width=\"0.75\"/>\n</g>\n<!-- recording.lab.Location -->\n<g class=\"node\" id=\"node16\"><title>recording.lab.Location</title>\n<g id=\"a_node16\"><a xlink:title=\"location             \r------------------------------\r→ [nullable] `u19_lab`.`#acquisition_type`\rlocation_description=&quot;&quot; \rbucket_default_path=null \rimaging_bucket_default_path=null \rephys_bucket_default_path=null \r\">\n<polygon fill=\"#000000\" fill-opacity=\"0.125490\" points=\"820.25,-467.5 707.75,-467.5 707.75,-432.5 820.25,-432.5 820.25,-467.5\" stroke=\"none\"/>\n<text font-family=\"arial\" font-size=\"10.00\" text-anchor=\"start\" text-decoration=\"underline\" x=\"716\" y=\"-448.5\">recording.lab.Location</text>\n</a>\n</g>\n</g>\n<!-- recording.lab.Location&#45;&gt;56 -->\n<g class=\"edge\" id=\"edge17\"><title>recording.lab.Location-&gt;56</title>\n<path d=\"M764,-432.411C764,-419.635 764,-402.284 764,-390.872\" fill=\"none\" stroke=\"#000000\" stroke-dasharray=\"5,2\" stroke-opacity=\"0.250980\" stroke-width=\"0.75\"/>\n</g>\n<!-- recording.lab.Location&#45;&gt;recording.subject.Subject -->\n<g class=\"edge\" id=\"edge18\"><title>recording.lab.Location-&gt;recording.subject.Subject</title>\n<path d=\"M795.045,-432.411C815.776,-421.333 842.945,-406.816 863.724,-395.713\" fill=\"none\" stroke=\"#000000\" stroke-dasharray=\"5,2\" stroke-opacity=\"0.250980\" stroke-width=\"0.75\"/>\n</g>\n<!-- recording.lab.Location&#45;&gt;recording.Recording -->\n<g class=\"edge\" id=\"edge19\"><title>recording.lab.Location-&gt;recording.Recording</title>\n<path d=\"M756.863,-432.372C752.456,-421.969 746.755,-408.261 742,-396 723.546,-348.42 735.68,-327.198 703,-288 689.887,-272.272 670.83,-260.162 653.54,-251.514\" fill=\"none\" stroke=\"#000000\" stroke-dasharray=\"5,2\" stroke-opacity=\"0.250980\" stroke-width=\"0.75\"/>\n</g>\n<!-- recording.RecordingModality -->\n<g class=\"node\" id=\"node17\"><title>recording.RecordingModality</title>\n<g id=\"a_node17\"><a xlink:title=\"recording_modality   \r------------------------------\rmodality_description \rroot_direcory        \rrecording_file_extensions \rrecording_file_pattern \rprocess_unit_file_pattern \rprocess_unit_dir_fieldname \r\">\n<polygon fill=\"#000000\" fill-opacity=\"0.125490\" points=\"465.25,-395.5 324.75,-395.5 324.75,-360.5 465.25,-360.5 465.25,-395.5\" stroke=\"none\"/>\n<text font-family=\"arial\" font-size=\"10.00\" text-anchor=\"start\" text-decoration=\"underline\" x=\"333\" y=\"-376.5\">recording.RecordingModality</text>\n</a>\n</g>\n</g>\n<!-- recording.RecordingModality&#45;&gt;recording.PreprocessParamSet -->\n<g class=\"edge\" id=\"edge20\"><title>recording.RecordingModality-&gt;recording.PreprocessParamSet</title>\n<path d=\"M355.897,-360.411C329.69,-349.293 295.316,-334.71 269.108,-323.591\" fill=\"none\" stroke=\"#000000\" stroke-dasharray=\"5,2\" stroke-opacity=\"0.250980\" stroke-width=\"0.75\"/>\n</g>\n<!-- recording.RecordingModality&#45;&gt;recording.Recording -->\n<g class=\"edge\" id=\"edge21\"><title>recording.RecordingModality-&gt;recording.Recording</title>\n<path d=\"M422.118,-360.404C437.741,-350.455 457.491,-337.205 474,-324 492.168,-309.469 493.104,-301.572 512,-288 531.629,-273.901 555.481,-261.115 574.967,-251.636\" fill=\"none\" stroke=\"#000000\" stroke-dasharray=\"5,2\" stroke-opacity=\"0.250980\" stroke-width=\"0.75\"/>\n</g>\n<!-- recording.ProcessParamSet -->\n<g class=\"node\" id=\"node20\"><title>recording.ProcessParamSet</title>\n<g id=\"a_node20\"><a xlink:title=\"process_paramset_idx \r------------------------------\r→ recording.RecordingModality\rprocess_paramset_desc \rprocess_paramset_hash \rprocess_paramset     \rUNIQUE INDEX (process_paramset_hash)\r\">\n<polygon fill=\"#000000\" fill-opacity=\"0.125490\" points=\"465,-323.5 325,-323.5 325,-288.5 465,-288.5 465,-323.5\" stroke=\"none\"/>\n<text font-family=\"arial\" font-size=\"10.00\" text-anchor=\"start\" text-decoration=\"underline\" x=\"333.5\" y=\"-304.5\">recording.ProcessParamSet</text>\n</a>\n</g>\n</g>\n<!-- recording.RecordingModality&#45;&gt;recording.ProcessParamSet -->\n<g class=\"edge\" id=\"edge22\"><title>recording.RecordingModality-&gt;recording.ProcessParamSet</title>\n<path d=\"M395,-360.411C395,-349.414 395,-335.027 395,-323.956\" fill=\"none\" stroke=\"#000000\" stroke-dasharray=\"5,2\" stroke-opacity=\"0.250980\" stroke-width=\"0.75\"/>\n</g>\n<!-- ephys.EphysRecording -->\n<g class=\"node\" id=\"node18\"><title>ephys.EphysRecording</title>\n<g id=\"a_node18\"><a xlink:title=\"→ recording.Recording\r\">\n<ellipse cx=\"421\" cy=\"-162\" fill=\"#ff0000\" fill-opacity=\"0.125490\" rx=\"99.5528\" ry=\"14.7\" stroke=\"#ff0000\" stroke-opacity=\"0.125490\"/>\n<text fill=\"#7f0000\" font-family=\"arial\" font-size=\"12.00\" text-anchor=\"middle\" x=\"421\" y=\"-158.9\">ephys.EphysRecording</text>\n</a>\n</g>\n</g>\n<!-- ephys.EphysRecording&#45;&gt;ephys.EphysRecordingProbes -->\n<g class=\"edge\" id=\"edge23\"><title>ephys.EphysRecording-&gt;ephys.EphysRecordingProbes</title>\n<path d=\"M419.179,-146.834C417.617,-134.69 415.379,-117.283 413.819,-105.144\" fill=\"none\" stroke=\"#000000\" stroke-opacity=\"0.250980\" stroke-width=\"0.75\"/>\n</g>\n<!-- recording.Recording&#45;&gt;recording.RecordingProcess -->\n<g class=\"edge\" id=\"edge24\"><title>recording.Recording-&gt;recording.RecordingProcess</title>\n<path d=\"M548.778,-221.907C488.056,-211.235 393.741,-194.612 312,-180 309.061,-179.475 306.071,-178.939 303.052,-178.398\" fill=\"none\" stroke=\"#000000\" stroke-dasharray=\"5,2\" stroke-opacity=\"0.250980\" stroke-width=\"0.75\"/>\n</g>\n<!-- recording.Recording&#45;&gt;recording.Recording.BehaviorSession -->\n<g class=\"edge\" id=\"edge25\"><title>recording.Recording-&gt;recording.Recording.BehaviorSession</title>\n<path d=\"M615.792,-216.411C619.008,-202.341 623.492,-182.723 626.035,-171.599\" fill=\"none\" stroke=\"#000000\" stroke-opacity=\"0.250980\" stroke-width=\"2\"/>\n</g>\n<!-- recording.Recording&#45;&gt;recording.Recording.RecordingSession -->\n<g class=\"edge\" id=\"edge26\"><title>recording.Recording-&gt;recording.Recording.RecordingSession</title>\n<path d=\"M662.915,-216.5C706.444,-202.393 767.335,-182.66 801.693,-171.525\" fill=\"none\" stroke=\"#000000\" stroke-opacity=\"0.250980\" stroke-width=\"2\"/>\n</g>\n<!-- recording.Recording&#45;&gt;ephys.EphysRecording -->\n<g class=\"edge\" id=\"edge27\"><title>recording.Recording-&gt;ephys.EphysRecording</title>\n<path d=\"M566.736,-216.411C532.979,-204.04 487.517,-187.378 456.398,-175.973\" fill=\"none\" stroke=\"#000000\" stroke-opacity=\"0.250980\" stroke-width=\"2\"/>\n</g>\n<!-- recording.ProcessParamSet&#45;&gt;recording.RecordingProcess -->\n<g class=\"edge\" id=\"edge28\"><title>recording.ProcessParamSet-&gt;recording.RecordingProcess</title>\n<path d=\"M374.349,-288.433C340.335,-261.144 272.9,-207.044 238.793,-179.681\" fill=\"none\" stroke=\"#000000\" stroke-dasharray=\"5,2\" stroke-opacity=\"0.250980\" stroke-width=\"0.75\"/>\n</g>\n<!-- recording.ProcessParamSet&#45;&gt;recording.Recording -->\n<g class=\"edge\" id=\"edge29\"><title>recording.ProcessParamSet-&gt;recording.Recording</title>\n<path d=\"M446.151,-288.5C480.735,-277.344 526.226,-262.669 560.817,-251.511\" fill=\"none\" stroke=\"#000000\" stroke-dasharray=\"5,2\" stroke-opacity=\"0.250980\" stroke-width=\"0.75\"/>\n</g>\n</g>\n</svg>"
     },
     "metadata": {},
     "execution_count": 16
    }
   ],
   "source": [
    "dj.ERD(recording) -1 + dj.ERD(ephys.EphysRecording) + dj.ERD(ephys.EphysProcessing)\n"
   ]
  },
  {
   "cell_type": "code",
   "execution_count": 17,
   "metadata": {},
   "outputs": [
    {
     "output_type": "execute_result",
     "data": {
      "text/plain": [
       "<datajoint.diagram.Diagram at 0x7fb17d022c50>"
      ],
      "image/svg+xml": "<svg height=\"476pt\" viewBox=\"0.00 0.00 968.10 476.00\" width=\"968pt\" xmlns=\"http://www.w3.org/2000/svg\" xmlns:xlink=\"http://www.w3.org/1999/xlink\">\n<g class=\"graph\" id=\"graph0\" transform=\"scale(1 1) rotate(0) translate(4 472)\">\n<title>%3</title>\n<polygon fill=\"white\" points=\"-4,5 -4,-472 965.099,-472 965.099,5 -4,5\" stroke=\"white\"/>\n<!-- 110 -->\n<g class=\"node\" id=\"node1\"><title>110</title>\n<ellipse cx=\"252.099\" cy=\"-378\" fill=\"#ff8800\" fill-opacity=\"0.501961\" rx=\"13.1539\" ry=\"13.3704\" stroke=\"#ff8800\" stroke-opacity=\"0.501961\"/>\n<text fill=\"#ff8800\" font-family=\"arial\" font-size=\"1.00\" text-anchor=\"middle\" x=\"252.099\" y=\"-377.7\">110</text>\n</g>\n<!-- recording.acquisition.Session -->\n<g class=\"node\" id=\"node11\"><title>recording.acquisition.Session</title>\n<g id=\"a_node11\"><a xlink:title=\"→ recording.acquisition.SessionStarted\r------------------------------\rsession_start_time   \rsession_end_time=null \r→ recording.lab.Location.proj(session_location=&quot;location&quot;)\r→ recording.task.TaskLevelParameterSet\rstimulus_bank=&quot;&quot;     \rstimulus_commit=&quot;&quot;   \rsession_performance  \rnum_trials=null      \rnum_trials_try=null  \rsession_narrative=&quot;&quot; \rsession_protocol=null \rsession_code_version=null \ris_bad_session=null  \rsession_comments=null \r\">\n<polygon fill=\"#00ff00\" fill-opacity=\"0.188235\" points=\"291.099,-251.5 117.099,-251.5 117.099,-216.5 291.099,-216.5 291.099,-251.5\" stroke=\"#00ff00\" stroke-opacity=\"0.188235\"/>\n<text fill=\"darkgreen\" font-family=\"arial\" font-size=\"12.00\" text-anchor=\"middle\" x=\"204.099\" y=\"-230.9\">recording.acquisition.Session</text>\n</a>\n</g>\n</g>\n<!-- 110&#45;&gt;recording.acquisition.Session -->\n<g class=\"edge\" id=\"edge1\"><title>110-&gt;recording.acquisition.Session</title>\n<path d=\"M251.293,-364.53C249.841,-346.962 245.957,-314.148 236.099,-288 231.245,-275.126 223.245,-261.876 216.459,-251.845\" fill=\"none\" stroke=\"#000000\" stroke-dasharray=\"5,2\" stroke-opacity=\"0.250980\" stroke-width=\"0.75\"/>\n</g>\n<!-- 108 -->\n<g class=\"node\" id=\"node2\"><title>108</title>\n<ellipse cx=\"858.099\" cy=\"-162\" fill=\"#ff8800\" fill-opacity=\"0.501961\" rx=\"13.1539\" ry=\"13.3704\" stroke=\"#ff8800\" stroke-opacity=\"0.501961\"/>\n<text fill=\"#ff8800\" font-family=\"arial\" font-size=\"1.00\" text-anchor=\"middle\" x=\"858.099\" y=\"-161.7\">108</text>\n</g>\n<!-- recording.RecordingProcessStatus -->\n<g class=\"node\" id=\"node5\"><title>recording.RecordingProcessStatus</title>\n<g id=\"a_node5\"><a xlink:title=\"recording_process_status_id \r------------------------------\r→ recording.RecordingProcess\r→ recording.StatusProcessDefinition.proj(status_pipeline_idx_old=&quot;status_pipeline_idx&quot;)\r→ recording.StatusProcessDefinition.proj(status_pipeline_idx_new=&quot;status_pipeline_idx&quot;)\rstatus_timestamp     \rerror_message=null   \rerror_exception=null \r\">\n<polygon fill=\"#00ff00\" fill-opacity=\"0.188235\" points=\"960.099,-107.5 756.099,-107.5 756.099,-72.5 960.099,-72.5 960.099,-107.5\" stroke=\"#00ff00\" stroke-opacity=\"0.188235\"/>\n<text fill=\"darkgreen\" font-family=\"arial\" font-size=\"12.00\" text-anchor=\"start\" text-decoration=\"underline\" x=\"764.599\" y=\"-87.9\">recording.RecordingProcessStatus</text>\n</a>\n</g>\n</g>\n<!-- 108&#45;&gt;recording.RecordingProcessStatus -->\n<g class=\"edge\" id=\"edge2\"><title>108-&gt;recording.RecordingProcessStatus</title>\n<path d=\"M858.099,-148.485C858.099,-137.081 858.099,-120.154 858.099,-107.618\" fill=\"none\" stroke=\"#000000\" stroke-dasharray=\"5,2\" stroke-opacity=\"0.250980\" stroke-width=\"0.75\"/>\n</g>\n<!-- 109 -->\n<g class=\"node\" id=\"node3\"><title>109</title>\n<ellipse cx=\"903.099\" cy=\"-162\" fill=\"#ff8800\" fill-opacity=\"0.501961\" rx=\"13.1539\" ry=\"13.3704\" stroke=\"#ff8800\" stroke-opacity=\"0.501961\"/>\n<text fill=\"#ff8800\" font-family=\"arial\" font-size=\"1.00\" text-anchor=\"middle\" x=\"903.099\" y=\"-161.7\">109</text>\n</g>\n<!-- 109&#45;&gt;recording.RecordingProcessStatus -->\n<g class=\"edge\" id=\"edge3\"><title>109-&gt;recording.RecordingProcessStatus</title>\n<path d=\"M896.264,-150.369C888.987,-139.047 877.368,-120.974 868.86,-107.739\" fill=\"none\" stroke=\"#000000\" stroke-dasharray=\"5,2\" stroke-opacity=\"0.250980\" stroke-width=\"0.75\"/>\n</g>\n<!-- imaging_rec.ImagingProcessing -->\n<g class=\"node\" id=\"node4\"><title>imaging_rec.ImagingProcessing</title>\n<g id=\"a_node4\"><a xlink:title=\"→ recording.RecordingProcess\r------------------------------\r→ imaging_rec.FieldOfView\r\">\n<polygon fill=\"#00ff00\" fill-opacity=\"0.188235\" points=\"738.099,-35.5 550.099,-35.5 550.099,-0.5 738.099,-0.5 738.099,-35.5\" stroke=\"#00ff00\" stroke-opacity=\"0.188235\"/>\n<text fill=\"darkgreen\" font-family=\"arial\" font-size=\"12.00\" text-anchor=\"middle\" x=\"644.099\" y=\"-14.9\">imaging_rec.ImagingProcessing</text>\n</a>\n</g>\n</g>\n<!-- recording.acquisition.SessionStarted -->\n<g class=\"node\" id=\"node6\"><title>recording.acquisition.SessionStarted</title>\n<g id=\"a_node6\"><a xlink:title=\"→ recording.subject.Subject\rsession_date=&quot;curdate()&quot; \rsession_number       \r------------------------------\rsession_start_time=&quot;current_timestamp()&quot; \r→ recording.lab.Location.proj(session_location=&quot;location&quot;)\r→ recording.task.Task\rlocal_path_behavior_file \rremote_path_behavior_file \ris_finished=0        \rinvalid_session=0    \r%}\r\">\n<polygon fill=\"#00ff00\" fill-opacity=\"0.188235\" points=\"227.099,-323.5 15.0989,-323.5 15.0989,-288.5 227.099,-288.5 227.099,-323.5\" stroke=\"#00ff00\" stroke-opacity=\"0.188235\"/>\n<text fill=\"darkgreen\" font-family=\"arial\" font-size=\"12.00\" text-anchor=\"middle\" x=\"121.099\" y=\"-302.9\">recording.acquisition.SessionStarted</text>\n</a>\n</g>\n</g>\n<!-- recording.acquisition.SessionStarted&#45;&gt;recording.acquisition.Session -->\n<g class=\"edge\" id=\"edge4\"><title>recording.acquisition.SessionStarted-&gt;recording.acquisition.Session</title>\n<path d=\"M140.769,-288.411C153.904,-277.333 171.117,-262.816 184.283,-251.713\" fill=\"none\" stroke=\"#000000\" stroke-opacity=\"0.250980\" stroke-width=\"2\"/>\n</g>\n<!-- recording.RecordingProcess -->\n<g class=\"node\" id=\"node7\"><title>recording.RecordingProcess</title>\n<g id=\"a_node7\"><a xlink:title=\"recording_process_id \r------------------------------\r→ recording.Recording\r→ recording.StatusProcessDefinition\r→ recording.PreprocessParamSet\r→ recording.ProcessParamSet\rrecording_process_pre_path=null : varchar(200)                 # relative path for raw data recording subdirectory that will be processed (ephys→ probe, imaging→fieldofview)\rrecording_process_post_path=null \rtask_copy_id_pre=null : UUID                         # id for globus transfer task raw file cup→tiger\rtask_copy_id_post=null : UUID                         # id for globus transfer task sorted file tiger→cup\rslurm_id=null        \r\">\n<polygon fill=\"#00ff00\" fill-opacity=\"0.188235\" points=\"827.099,-179.5 657.099,-179.5 657.099,-144.5 827.099,-144.5 827.099,-179.5\" stroke=\"#00ff00\" stroke-opacity=\"0.188235\"/>\n<text fill=\"darkgreen\" font-family=\"arial\" font-size=\"12.00\" text-anchor=\"start\" text-decoration=\"underline\" x=\"665.599\" y=\"-159.9\">recording.RecordingProcess</text>\n</a>\n</g>\n</g>\n<!-- recording.RecordingProcess&#45;&gt;imaging_rec.ImagingProcessing -->\n<g class=\"edge\" id=\"edge5\"><title>recording.RecordingProcess-&gt;imaging_rec.ImagingProcessing</title>\n<path d=\"M730.665,-144.433C711.883,-117.217 674.696,-63.3342 655.763,-35.9017\" fill=\"none\" stroke=\"#000000\" stroke-opacity=\"0.250980\" stroke-width=\"2\"/>\n</g>\n<!-- recording.RecordingProcess&#45;&gt;recording.RecordingProcessStatus -->\n<g class=\"edge\" id=\"edge6\"><title>recording.RecordingProcess-&gt;recording.RecordingProcessStatus</title>\n<path d=\"M769.589,-144.411C787.947,-133.333 812.004,-118.816 830.404,-107.713\" fill=\"none\" stroke=\"#000000\" stroke-dasharray=\"5,2\" stroke-opacity=\"0.250980\" stroke-width=\"0.75\"/>\n</g>\n<!-- recording.Recording.BehaviorSession -->\n<g class=\"node\" id=\"node8\"><title>recording.Recording.BehaviorSession</title>\n<g id=\"a_node8\"><a xlink:title=\"→ recording.Recording\r------------------------------\r→ recording.acquisition.Session\r\">\n<polygon fill=\"none\" points=\"461.349,-171.5 282.849,-171.5 282.849,-152.5 461.349,-152.5 461.349,-171.5\" stroke=\"none\"/>\n<text font-family=\"arial\" font-size=\"10.00\" text-anchor=\"middle\" x=\"372.099\" y=\"-159.5\">recording.Recording.BehaviorSession</text>\n</a>\n</g>\n</g>\n<!-- recording.subject.Subject -->\n<g class=\"node\" id=\"node9\"><title>recording.subject.Subject</title>\n<g id=\"a_node9\"><a xlink:title=\"subject_fullname     \r------------------------------\rsubject_nickname     \r→ recording.lab.User\rgenomics_id=null     \rsex=&quot;Unknown&quot;        \rdob=null             \rhead_plate_mark=null \r→ recording.lab.Location\r→ [nullable] recording.lab.Protocol\r→ [nullable] recording.subject.Line\rsubject_description=&quot;&quot; \rinitial_weight=null  \rnotification_enabled=1 \rneed_reweight=0      \r\">\n<polygon fill=\"#00ff00\" fill-opacity=\"0.188235\" points=\"197.349,-395.5 44.8489,-395.5 44.8489,-360.5 197.349,-360.5 197.349,-395.5\" stroke=\"#00ff00\" stroke-opacity=\"0.188235\"/>\n<text fill=\"darkgreen\" font-family=\"arial\" font-size=\"12.00\" text-anchor=\"start\" text-decoration=\"underline\" x=\"53.0989\" y=\"-375.9\">recording.subject.Subject</text>\n</a>\n</g>\n</g>\n<!-- recording.subject.Subject&#45;&gt;recording.acquisition.SessionStarted -->\n<g class=\"edge\" id=\"edge7\"><title>recording.subject.Subject-&gt;recording.acquisition.SessionStarted</title>\n<path d=\"M121.099,-360.411C121.099,-349.414 121.099,-335.027 121.099,-323.956\" fill=\"none\" stroke=\"#000000\" stroke-opacity=\"0.250980\" stroke-width=\"0.75\"/>\n</g>\n<!-- recording.Recording.RecordingSession -->\n<g class=\"node\" id=\"node10\"><title>recording.Recording.RecordingSession</title>\n<g id=\"a_node10\"><a xlink:title=\"→ recording.Recording\r------------------------------\r→ recording.subject.Subject\rrecording_datetime   \r\">\n<polygon fill=\"none\" points=\"264.349,-171.5 79.8489,-171.5 79.8489,-152.5 264.349,-152.5 264.349,-171.5\" stroke=\"none\"/>\n<text font-family=\"arial\" font-size=\"10.00\" text-anchor=\"middle\" x=\"172.099\" y=\"-159.5\">recording.Recording.RecordingSession</text>\n</a>\n</g>\n</g>\n<!-- recording.subject.Subject&#45;&gt;recording.Recording.RecordingSession -->\n<g class=\"edge\" id=\"edge8\"><title>recording.subject.Subject-&gt;recording.Recording.RecordingSession</title>\n<path d=\"M53.1056,-360.457C34.7286,-352.542 16.9446,-340.941 6.0989,-324 -2.52808,-310.525 -1.04274,-302.318 6.0989,-288 36.6137,-226.823 112.911,-187.723 150.491,-171.538\" fill=\"none\" stroke=\"#000000\" stroke-dasharray=\"5,2\" stroke-opacity=\"0.250980\" stroke-width=\"0.75\"/>\n</g>\n<!-- recording.acquisition.Session&#45;&gt;recording.Recording.BehaviorSession -->\n<g class=\"edge\" id=\"edge9\"><title>recording.acquisition.Session-&gt;recording.Recording.BehaviorSession</title>\n<path d=\"M243.913,-216.411C277.679,-202.341 324.763,-182.723 351.462,-171.599\" fill=\"none\" stroke=\"#000000\" stroke-dasharray=\"5,2\" stroke-opacity=\"0.250980\" stroke-width=\"0.75\"/>\n</g>\n<!-- recording.StatusProcessDefinition -->\n<g class=\"node\" id=\"node12\"><title>recording.StatusProcessDefinition</title>\n<g id=\"a_node12\"><a xlink:title=\"status_pipeline_idx  \r------------------------------\rstatus_definition    \r\">\n<polygon fill=\"#000000\" fill-opacity=\"0.125490\" points=\"940.349,-251.5 775.849,-251.5 775.849,-216.5 940.349,-216.5 940.349,-251.5\" stroke=\"none\"/>\n<text font-family=\"arial\" font-size=\"10.00\" text-anchor=\"start\" text-decoration=\"underline\" x=\"784.099\" y=\"-232.5\">recording.StatusProcessDefinition</text>\n</a>\n</g>\n</g>\n<!-- recording.StatusProcessDefinition&#45;&gt;108 -->\n<g class=\"edge\" id=\"edge10\"><title>recording.StatusProcessDefinition-&gt;108</title>\n<path d=\"M858.099,-216.411C858.099,-203.959 858.099,-187.16 858.099,-175.75\" fill=\"none\" stroke=\"#000000\" stroke-dasharray=\"5,2\" stroke-opacity=\"0.250980\" stroke-width=\"0.75\"/>\n</g>\n<!-- recording.StatusProcessDefinition&#45;&gt;109 -->\n<g class=\"edge\" id=\"edge11\"><title>recording.StatusProcessDefinition-&gt;109</title>\n<path d=\"M868.763,-216.411C877.288,-203.15 888.982,-184.96 896.286,-173.598\" fill=\"none\" stroke=\"#000000\" stroke-dasharray=\"5,2\" stroke-opacity=\"0.250980\" stroke-width=\"0.75\"/>\n</g>\n<!-- recording.StatusProcessDefinition&#45;&gt;recording.RecordingProcess -->\n<g class=\"edge\" id=\"edge12\"><title>recording.StatusProcessDefinition-&gt;recording.RecordingProcess</title>\n<path d=\"M830.609,-216.411C812.251,-205.333 788.193,-190.816 769.794,-179.713\" fill=\"none\" stroke=\"#000000\" stroke-dasharray=\"5,2\" stroke-opacity=\"0.250980\" stroke-width=\"0.75\"/>\n</g>\n<!-- recording.PreprocessParamSet -->\n<g class=\"node\" id=\"node13\"><title>recording.PreprocessParamSet</title>\n<g id=\"a_node13\"><a xlink:title=\"preprocess_paramset_idx \r------------------------------\r→ recording.RecordingModality\rpreprocess_paramset_desc \rpreprocess_paramset_hash \rpreprocess_paramset  \rUNIQUE INDEX (preprocess_paramset_hash)\r\">\n<polygon fill=\"#000000\" fill-opacity=\"0.125490\" points=\"862.349,-323.5 709.849,-323.5 709.849,-288.5 862.349,-288.5 862.349,-323.5\" stroke=\"none\"/>\n<text font-family=\"arial\" font-size=\"10.00\" text-anchor=\"start\" text-decoration=\"underline\" x=\"718.099\" y=\"-304.5\">recording.PreprocessParamSet</text>\n</a>\n</g>\n</g>\n<!-- recording.PreprocessParamSet&#45;&gt;recording.RecordingProcess -->\n<g class=\"edge\" id=\"edge13\"><title>recording.PreprocessParamSet-&gt;recording.RecordingProcess</title>\n<path d=\"M779.806,-288.393C775.952,-277.998 771.023,-264.291 767.099,-252 759.094,-226.926 751.085,-197.452 746.363,-179.507\" fill=\"none\" stroke=\"#000000\" stroke-dasharray=\"5,2\" stroke-opacity=\"0.250980\" stroke-width=\"0.75\"/>\n</g>\n<!-- recording.Recording -->\n<g class=\"node\" id=\"node19\"><title>recording.Recording</title>\n<g id=\"a_node19\"><a xlink:title=\"recording_id         \r------------------------------\r→ recording.RecordingModality\r→ recording.lab.Location\r→ recording.StatusRecordingDefinition\r→ recording.PreprocessParamSet\r→ recording.ProcessParamSet\rtask_copy_id_pni=null : UUID                         # id for globus transfer task raw file local→cup\rinherit_params_recording=1 \rrecording_directory  \rlocal_directory      \r\">\n<polygon fill=\"#00ff00\" fill-opacity=\"0.188235\" points=\"435.099,-251.5 309.099,-251.5 309.099,-216.5 435.099,-216.5 435.099,-251.5\" stroke=\"#00ff00\" stroke-opacity=\"0.188235\"/>\n<text fill=\"darkgreen\" font-family=\"arial\" font-size=\"12.00\" text-anchor=\"start\" text-decoration=\"underline\" x=\"317.599\" y=\"-231.9\">recording.Recording</text>\n</a>\n</g>\n</g>\n<!-- recording.PreprocessParamSet&#45;&gt;recording.Recording -->\n<g class=\"edge\" id=\"edge14\"><title>recording.PreprocessParamSet-&gt;recording.Recording</title>\n<path d=\"M709.693,-289.752C706.453,-289.152 703.245,-288.565 700.099,-288 608.265,-271.509 501.536,-254.699 435.396,-244.556\" fill=\"none\" stroke=\"#000000\" stroke-dasharray=\"5,2\" stroke-opacity=\"0.250980\" stroke-width=\"0.75\"/>\n</g>\n<!-- recording.StatusRecordingDefinition -->\n<g class=\"node\" id=\"node14\"><title>recording.StatusRecordingDefinition</title>\n<g id=\"a_node14\"><a xlink:title=\"status_recording_idx \r------------------------------\rstatus_definition    \r\">\n<polygon fill=\"#000000\" fill-opacity=\"0.125490\" points=\"532.349,-323.5 359.849,-323.5 359.849,-288.5 532.349,-288.5 532.349,-323.5\" stroke=\"none\"/>\n<text font-family=\"arial\" font-size=\"10.00\" text-anchor=\"start\" text-decoration=\"underline\" x=\"368.099\" y=\"-304.5\">recording.StatusRecordingDefinition</text>\n</a>\n</g>\n</g>\n<!-- recording.StatusRecordingDefinition&#45;&gt;recording.Recording -->\n<g class=\"edge\" id=\"edge15\"><title>recording.StatusRecordingDefinition-&gt;recording.Recording</title>\n<path d=\"M428.562,-288.411C416.851,-277.333 401.504,-262.816 389.766,-251.713\" fill=\"none\" stroke=\"#000000\" stroke-dasharray=\"5,2\" stroke-opacity=\"0.250980\" stroke-width=\"0.75\"/>\n</g>\n<!-- imaging_rec.FieldOfView -->\n<g class=\"node\" id=\"node15\"><title>imaging_rec.FieldOfView</title>\n<g id=\"a_node15\"><a xlink:title=\"→ imaging_rec.Scan\rfov                  \r------------------------------\rfov_directory        \rrelative_fov_directory \rfov_name=null        \rfov_depth            \rfov_center_xy        \rfov_size_xy          \rfov_rotation_degrees \rfov_pixel_resolution_xy \rfov_discrete_plane_mode \rpower_percent        \r\">\n<ellipse cx=\"571.099\" cy=\"-90\" fill=\"#00007f\" fill-opacity=\"0.250980\" rx=\"95\" ry=\"17.5\" stroke=\"#00007f\" stroke-opacity=\"0.250980\"/>\n<text fill=\"#00007f\" font-family=\"arial\" font-size=\"12.00\" text-anchor=\"middle\" x=\"571.099\" y=\"-86.9\">imaging_rec.FieldOfView</text>\n</a>\n</g>\n</g>\n<!-- imaging_rec.FieldOfView&#45;&gt;imaging_rec.ImagingProcessing -->\n<g class=\"edge\" id=\"edge16\"><title>imaging_rec.FieldOfView-&gt;imaging_rec.ImagingProcessing</title>\n<path d=\"M588.03,-72.7646C599.655,-61.6175 615.04,-46.865 626.753,-35.6334\" fill=\"none\" stroke=\"#000000\" stroke-dasharray=\"5,2\" stroke-opacity=\"0.250980\" stroke-width=\"0.75\"/>\n</g>\n<!-- imaging_rec.Scan -->\n<g class=\"node\" id=\"node16\"><title>imaging_rec.Scan</title>\n<g id=\"a_node16\"><a xlink:title=\"→ recording.Recording\r\">\n<ellipse cx=\"559.099\" cy=\"-162\" fill=\"#ff0000\" fill-opacity=\"0.125490\" rx=\"79.3553\" ry=\"14.7\" stroke=\"#ff0000\" stroke-opacity=\"0.125490\"/>\n<text fill=\"#7f0000\" font-family=\"arial\" font-size=\"12.00\" text-anchor=\"middle\" x=\"559.099\" y=\"-158.9\">imaging_rec.Scan</text>\n</a>\n</g>\n</g>\n<!-- imaging_rec.Scan&#45;&gt;imaging_rec.FieldOfView -->\n<g class=\"edge\" id=\"edge17\"><title>imaging_rec.Scan-&gt;imaging_rec.FieldOfView</title>\n<path d=\"M561.527,-146.834C563.472,-135.489 566.204,-119.551 568.252,-107.606\" fill=\"none\" stroke=\"#000000\" stroke-opacity=\"0.250980\" stroke-width=\"0.75\"/>\n</g>\n<!-- recording.lab.Location -->\n<g class=\"node\" id=\"node17\"><title>recording.lab.Location</title>\n<g id=\"a_node17\"><a xlink:title=\"location             \r------------------------------\r→ [nullable] `u19_lab`.`#acquisition_type`\rlocation_description=&quot;&quot; \rbucket_default_path=null \rimaging_bucket_default_path=null \rephys_bucket_default_path=null \r\">\n<polygon fill=\"#000000\" fill-opacity=\"0.125490\" points=\"308.349,-467.5 195.849,-467.5 195.849,-432.5 308.349,-432.5 308.349,-467.5\" stroke=\"none\"/>\n<text font-family=\"arial\" font-size=\"10.00\" text-anchor=\"start\" text-decoration=\"underline\" x=\"204.099\" y=\"-448.5\">recording.lab.Location</text>\n</a>\n</g>\n</g>\n<!-- recording.lab.Location&#45;&gt;110 -->\n<g class=\"edge\" id=\"edge18\"><title>recording.lab.Location-&gt;110</title>\n<path d=\"M252.099,-432.411C252.099,-419.959 252.099,-403.16 252.099,-391.75\" fill=\"none\" stroke=\"#000000\" stroke-dasharray=\"5,2\" stroke-opacity=\"0.250980\" stroke-width=\"0.75\"/>\n</g>\n<!-- recording.lab.Location&#45;&gt;recording.subject.Subject -->\n<g class=\"edge\" id=\"edge19\"><title>recording.lab.Location-&gt;recording.subject.Subject</title>\n<path d=\"M221.054,-432.411C200.323,-421.333 173.154,-406.816 152.375,-395.713\" fill=\"none\" stroke=\"#000000\" stroke-dasharray=\"5,2\" stroke-opacity=\"0.250980\" stroke-width=\"0.75\"/>\n</g>\n<!-- recording.lab.Location&#45;&gt;recording.Recording -->\n<g class=\"edge\" id=\"edge20\"><title>recording.lab.Location-&gt;recording.Recording</title>\n<path d=\"M260.66,-432.359C275.893,-402.934 308.942,-339.926 339.099,-288 346.285,-275.627 354.834,-261.923 361.43,-251.55\" fill=\"none\" stroke=\"#000000\" stroke-dasharray=\"5,2\" stroke-opacity=\"0.250980\" stroke-width=\"0.75\"/>\n</g>\n<!-- recording.RecordingModality -->\n<g class=\"node\" id=\"node18\"><title>recording.RecordingModality</title>\n<g id=\"a_node18\"><a xlink:title=\"recording_modality   \r------------------------------\rmodality_description \rroot_direcory        \rrecording_file_extensions \rrecording_file_pattern \rprocess_unit_file_pattern \rprocess_unit_dir_fieldname \r\">\n<polygon fill=\"#000000\" fill-opacity=\"0.125490\" points=\"691.349,-395.5 550.849,-395.5 550.849,-360.5 691.349,-360.5 691.349,-395.5\" stroke=\"none\"/>\n<text font-family=\"arial\" font-size=\"10.00\" text-anchor=\"start\" text-decoration=\"underline\" x=\"559.099\" y=\"-376.5\">recording.RecordingModality</text>\n</a>\n</g>\n</g>\n<!-- recording.RecordingModality&#45;&gt;recording.PreprocessParamSet -->\n<g class=\"edge\" id=\"edge21\"><title>recording.RecordingModality-&gt;recording.PreprocessParamSet</title>\n<path d=\"M660.202,-360.411C686.409,-349.293 720.783,-334.71 746.991,-323.591\" fill=\"none\" stroke=\"#000000\" stroke-dasharray=\"5,2\" stroke-opacity=\"0.250980\" stroke-width=\"0.75\"/>\n</g>\n<!-- recording.RecordingModality&#45;&gt;recording.Recording -->\n<g class=\"edge\" id=\"edge22\"><title>recording.RecordingModality-&gt;recording.Recording</title>\n<path d=\"M550.609,-373.118C478.96,-367.523 375.048,-354.301 350.099,-324 333.001,-303.234 348.065,-271.099 360.279,-251.655\" fill=\"none\" stroke=\"#000000\" stroke-dasharray=\"5,2\" stroke-opacity=\"0.250980\" stroke-width=\"0.75\"/>\n</g>\n<!-- recording.ProcessParamSet -->\n<g class=\"node\" id=\"node20\"><title>recording.ProcessParamSet</title>\n<g id=\"a_node20\"><a xlink:title=\"process_paramset_idx \r------------------------------\r→ recording.RecordingModality\rprocess_paramset_desc \rprocess_paramset_hash \rprocess_paramset     \rUNIQUE INDEX (process_paramset_hash)\r\">\n<polygon fill=\"#000000\" fill-opacity=\"0.125490\" points=\"691.099,-323.5 551.099,-323.5 551.099,-288.5 691.099,-288.5 691.099,-323.5\" stroke=\"none\"/>\n<text font-family=\"arial\" font-size=\"10.00\" text-anchor=\"start\" text-decoration=\"underline\" x=\"559.599\" y=\"-304.5\">recording.ProcessParamSet</text>\n</a>\n</g>\n</g>\n<!-- recording.RecordingModality&#45;&gt;recording.ProcessParamSet -->\n<g class=\"edge\" id=\"edge23\"><title>recording.RecordingModality-&gt;recording.ProcessParamSet</title>\n<path d=\"M621.099,-360.411C621.099,-349.414 621.099,-335.027 621.099,-323.956\" fill=\"none\" stroke=\"#000000\" stroke-dasharray=\"5,2\" stroke-opacity=\"0.250980\" stroke-width=\"0.75\"/>\n</g>\n<!-- recording.Recording&#45;&gt;recording.RecordingProcess -->\n<g class=\"edge\" id=\"edge24\"><title>recording.Recording-&gt;recording.RecordingProcess</title>\n<path d=\"M435.284,-221.046C496.378,-209.488 589.378,-191.893 656.974,-179.105\" fill=\"none\" stroke=\"#000000\" stroke-dasharray=\"5,2\" stroke-opacity=\"0.250980\" stroke-width=\"0.75\"/>\n</g>\n<!-- recording.Recording&#45;&gt;recording.Recording.BehaviorSession -->\n<g class=\"edge\" id=\"edge25\"><title>recording.Recording-&gt;recording.Recording.BehaviorSession</title>\n<path d=\"M372.099,-216.411C372.099,-202.341 372.099,-182.723 372.099,-171.599\" fill=\"none\" stroke=\"#000000\" stroke-opacity=\"0.250980\" stroke-width=\"2\"/>\n</g>\n<!-- recording.Recording&#45;&gt;recording.Recording.RecordingSession -->\n<g class=\"edge\" id=\"edge26\"><title>recording.Recording-&gt;recording.Recording.RecordingSession</title>\n<path d=\"M324.955,-216.5C284.65,-202.393 228.27,-182.66 196.457,-171.525\" fill=\"none\" stroke=\"#000000\" stroke-opacity=\"0.250980\" stroke-width=\"2\"/>\n</g>\n<!-- recording.Recording&#45;&gt;imaging_rec.Scan -->\n<g class=\"edge\" id=\"edge27\"><title>recording.Recording-&gt;imaging_rec.Scan</title>\n<path d=\"M416.415,-216.411C449.897,-203.878 495.141,-186.941 525.63,-175.528\" fill=\"none\" stroke=\"#000000\" stroke-opacity=\"0.250980\" stroke-width=\"2\"/>\n</g>\n<!-- recording.ProcessParamSet&#45;&gt;recording.RecordingProcess -->\n<g class=\"edge\" id=\"edge28\"><title>recording.ProcessParamSet-&gt;recording.RecordingProcess</title>\n<path d=\"M635.216,-288.433C658.407,-261.217 704.321,-207.334 727.697,-179.902\" fill=\"none\" stroke=\"#000000\" stroke-dasharray=\"5,2\" stroke-opacity=\"0.250980\" stroke-width=\"0.75\"/>\n</g>\n<!-- recording.ProcessParamSet&#45;&gt;recording.Recording -->\n<g class=\"edge\" id=\"edge29\"><title>recording.ProcessParamSet-&gt;recording.Recording</title>\n<path d=\"M562.405,-288.5C522.721,-277.344 470.521,-262.669 430.83,-251.511\" fill=\"none\" stroke=\"#000000\" stroke-dasharray=\"5,2\" stroke-opacity=\"0.250980\" stroke-width=\"0.75\"/>\n</g>\n</g>\n</svg>"
     },
     "metadata": {},
     "execution_count": 17
    }
   ],
   "source": [
    "dj.ERD(recording) -1 + dj.ERD(imaging_rec.Scan) + dj.ERD(imaging_rec.ImagingProcessing) \n"
   ]
  },
  {
   "cell_type": "code",
   "execution_count": 5,
   "metadata": {},
   "outputs": [
    {
     "output_type": "execute_result",
     "data": {
      "text/plain": [
       "DataJoint connection (connected) alvaros@datajoint00.pni.princeton.edu:3306"
      ]
     },
     "metadata": {},
     "execution_count": 5
    }
   ],
   "source": [
    "s =dj.conn()\n",
    "s"
   ]
  },
  {
   "cell_type": "code",
   "execution_count": 6,
   "metadata": {},
   "outputs": [],
   "source": [
    "s.close()"
   ]
  },
  {
   "cell_type": "code",
   "execution_count": 37,
   "metadata": {},
   "outputs": [],
   "source": []
  },
  {
   "cell_type": "code",
   "execution_count": 89,
   "metadata": {},
   "outputs": [],
   "source": [
    "dicto2 = [] \n",
    "dicto = dict()\n",
    "dicto['wala'] = 1\n",
    "dicto['walad'] = 2\n",
    "\n",
    "dictos = dict()\n",
    "dictos['wala'] = 3\n",
    "dictos['walad'] = 4\n",
    "\n",
    "\n",
    "dicto2.append(dicto)\n",
    "dicto2.append(dictos)\n"
   ]
  },
  {
   "cell_type": "code",
   "execution_count": 90,
   "metadata": {},
   "outputs": [
    {
     "output_type": "execute_result",
     "data": {
      "text/plain": [
       "\"[{'wala': 1, 'walad': 2}, {'wala': 3, 'walad': 4}]\""
      ]
     },
     "metadata": {},
     "execution_count": 90
    }
   ],
   "source": [
    "str(dicto2)"
   ]
  },
  {
   "cell_type": "code",
   "execution_count": 81,
   "metadata": {},
   "outputs": [
    {
     "output_type": "execute_result",
     "data": {
      "text/plain": [
       "['(wala=1 and walad=2)']"
      ]
     },
     "metadata": {},
     "execution_count": 81
    }
   ],
   "source": [
    "l = [[k + '=' + str(v) for k,v in x.items()] for x in dicto2]\n",
    "flat_list = ['('+' and '.join(sublist)+')' for sublist in l]\n",
    "flat_list"
   ]
  },
  {
   "cell_type": "code",
   "execution_count": 78,
   "metadata": {},
   "outputs": [
    {
     "output_type": "execute_result",
     "data": {
      "text/plain": [
       "'(wala=1 and walad=2)'"
      ]
     },
     "metadata": {},
     "execution_count": 78
    }
   ],
   "source": [
    "soo = ' or '.join(flat_list)\n",
    "soo"
   ]
  },
  {
   "cell_type": "code",
   "execution_count": 60,
   "metadata": {},
   "outputs": [
    {
     "output_type": "execute_result",
     "data": {
      "text/plain": [
       "[['wala', 'walad'], ['wala', 'walad']]"
      ]
     },
     "metadata": {},
     "execution_count": 60
    }
   ],
   "source": []
  },
  {
   "cell_type": "code",
   "execution_count": 91,
   "metadata": {},
   "outputs": [],
   "source": [
    "def get_string_key(key):\n",
    "\n",
    "    str_key = ''\n",
    "    if isinstance(key, list):\n",
    "        key_l = [[k + '=' + str(v) for k,v in x.items()] for x in key]\n",
    "        flat_list = ['('+' and '.join(sublist)+')' for sublist in key_l]\n",
    "        str_key = ' or '.join(flat_list)\n",
    "    elif isinstance(key, dict):\n",
    "        str_key = [k + '=' + str(v) for k,v in key.items()] \n",
    "    elif isinstance(key,str):\n",
    "        str_key = key\n",
    "    \n",
    "    return str_key"
   ]
  },
  {
   "cell_type": "code",
   "execution_count": 92,
   "metadata": {},
   "outputs": [
    {
     "output_type": "execute_result",
     "data": {
      "text/plain": [
       "'(wala=1 and walad=2) or (wala=3 and walad=4)'"
      ]
     },
     "metadata": {},
     "execution_count": 92
    }
   ],
   "source": [
    "get_string_key(dicto2)"
   ]
  },
  {
   "cell_type": "code",
   "execution_count": 4,
   "metadata": {},
   "outputs": [],
   "source": [
    "so = imaging_rec.ScanInfo()"
   ]
  },
  {
   "cell_type": "code",
   "execution_count": 5,
   "metadata": {},
   "outputs": [
    {
     "output_type": "stream",
     "name": "stdout",
     "text": [
      "['/usr/people/alvaros/BrainCogsProjects/Datajoint_projs/U19-pipeline_python/u19_pipeline/automatic_job/ingest_scaninfo_shell.sh', '/usr/people/alvaros/BrainCogsProjects/Datajoint_projs/U19-pipeline-matlab/scripts', 'recording_id=4']\n",
      "aftercommand before comm\n",
      "aftercommand after comm\n",
      "\n",
      "                                                                              < M A T L A B (R) >\n",
      "                                                                    Copyright 1984-2020 The MathWorks, Inc.\n",
      "                                                                R2020b Update 1 (9.9.0.1495850) 64-bit (glnxa64)\n",
      "                                                                               September 30, 2020\n",
      "\n",
      " \n",
      "To get started, type doc.\n",
      "For product information, visit www.mathworks.com.\n",
      " \n",
      "\n",
      "s =\n",
      "\n",
      "     0\n",
      "\n",
      " 0:  datajoint00.pni.princeton.edu via TCP/IP   Server version 5.5.5-10.2.33-MariaDB (encrypted)\n",
      "database connection id: 64946\n",
      "imaging_rec.ScanInfo: Nothing to populate\n",
      "\n",
      "\n"
     ]
    }
   ],
   "source": [
    "key = dict()\n",
    "key['recording_id'] = 4\n",
    "\n",
    "so.ingest(key)"
   ]
  },
  {
   "cell_type": "code",
   "execution_count": null,
   "metadata": {},
   "outputs": [],
   "source": []
  },
  {
   "cell_type": "code",
   "execution_count": 7,
   "metadata": {},
   "outputs": [],
   "source": [
    "keyo = dict()\n",
    "keyo['subject_fullname'] = 'emdia_teto6s_12'\n",
    "keyo['session_date'] = '2021-11-12'\n"
   ]
  },
  {
   "cell_type": "code",
   "execution_count": 10,
   "metadata": {},
   "outputs": [
    {
     "output_type": "execute_result",
     "data": {
      "text/plain": [
       "*subject_fulln *session_date  *session_numbe scan_directory relative_scan_ acquisition_ty\n",
       "+------------+ +------------+ +------------+ +------------+ +------------+ +------------+\n",
       "emdia_teto6s_1 2021-11-12     0              /mnt/cup/brain /teto6s_12/202 mesoscope     \n",
       " (Total: 1)"
      ],
      "text/html": "\n    \n    <style type=\"text/css\">\n        .Relation{\n            border-collapse:collapse;\n        }\n        .Relation th{\n            background: #A0A0A0; color: #ffffff; padding:4px; border:#f0e0e0 1px solid;\n            font-weight: normal; font-family: monospace; font-size: 100%;\n        }\n        .Relation td{\n            padding:4px; border:#f0e0e0 1px solid; font-size:100%;\n        }\n        .Relation tr:nth-child(odd){\n            background: #ffffff;\n        }\n        .Relation tr:nth-child(even){\n            background: #f3f1ff;\n        }\n        /* Tooltip container */\n        .djtooltip {\n        }\n        /* Tooltip text */\n        .djtooltip .djtooltiptext {\n            visibility: hidden;\n            width: 120px;\n            background-color: black;\n            color: #fff;\n            text-align: center;\n            padding: 5px 0;\n            border-radius: 6px;\n            /* Position the tooltip text - see examples below! */\n            position: absolute;\n            z-index: 1;\n        }\n        #primary {\n            font-weight: bold;\n            color: black;\n        }\n        #nonprimary {\n            font-weight: normal;\n            color: white;\n        }\n\n        /* Show the tooltip text when you mouse over the tooltip container */\n        .djtooltip:hover .djtooltiptext {\n            visibility: visible;\n        }\n    </style>\n    \n    <b></b>\n        <div style=\"max-height:1000px;max-width:1500px;overflow:auto;\">\n        <table border=\"1\" class=\"Relation\">\n            <thead> <tr style=\"text-align: right;\"> <th> <div class=\"djtooltip\">\n                            <p id=\"primary\">subject_fullname</p>\n                            <span class=\"djtooltiptext\">username_mouse_nickname</span>\n                        </div></th><th><div class=\"djtooltip\">\n                            <p id=\"primary\">session_date</p>\n                            <span class=\"djtooltiptext\">date of experiment</span>\n                        </div></th><th><div class=\"djtooltip\">\n                            <p id=\"primary\">session_number</p>\n                            <span class=\"djtooltiptext\">number</span>\n                        </div></th><th><div class=\"djtooltip\">\n                            <p id=\"nonprimary\">scan_directory</p>\n                            <span class=\"djtooltiptext\"></span>\n                        </div></th><th><div class=\"djtooltip\">\n                            <p id=\"nonprimary\">relative_scan_directory</p>\n                            <span class=\"djtooltiptext\"></span>\n                        </div></th><th><div class=\"djtooltip\">\n                            <p id=\"nonprimary\">acquisition_type</p>\n                            <span class=\"djtooltiptext\"># type of acquisition for this scan</span>\n                        </div> </th> </tr> </thead>\n            <tbody> <tr> <td>emdia_teto6s_12</td>\n<td>2021-11-12</td>\n<td>0</td>\n<td>/mnt/cup/braininit/RigData/mesoscope/imaging/teto6s_12/20211112</td>\n<td>/teto6s_12/20211112</td>\n<td>mesoscope</td> </tr> </tbody>\n        </table>\n        \n        <p>Total: 1</p></div>\n        "
     },
     "metadata": {},
     "execution_count": 10
    }
   ],
   "source": [
    "(imaging.Scan & keyo)"
   ]
  },
  {
   "cell_type": "code",
   "execution_count": 11,
   "metadata": {},
   "outputs": [
    {
     "output_type": "execute_result",
     "data": {
      "text/plain": [
       "<datajoint.diagram.Diagram at 0x7f4cb0959a50>"
      ],
      "image/svg+xml": "<svg height=\"388pt\" viewBox=\"0.00 0.00 1413.00 388.00\" width=\"1413pt\" xmlns=\"http://www.w3.org/2000/svg\" xmlns:xlink=\"http://www.w3.org/1999/xlink\">\n<g class=\"graph\" id=\"graph0\" transform=\"scale(1 1) rotate(0) translate(4 384)\">\n<title>%3</title>\n<polygon fill=\"white\" points=\"-4,5 -4,-384 1410,-384 1410,5 -4,5\" stroke=\"white\"/>\n<!-- `u19_imaging`.`segmentation_roi_morphology_manual` -->\n<g class=\"node\" id=\"node1\"><title>`u19_imaging`.`segmentation_roi_morphology_manual`</title>\n<polygon fill=\"#00ff00\" fill-opacity=\"0.188235\" points=\"314,-35.5 0,-35.5 0,-0.5 314,-0.5 314,-35.5\" stroke=\"#00ff00\" stroke-opacity=\"0.188235\"/>\n<text fill=\"darkgreen\" font-family=\"arial\" font-size=\"12.00\" text-anchor=\"start\" text-decoration=\"underline\" x=\"8.5\" y=\"-15.9\">`u19_imaging`.`segmentation_roi_morphology_manual`</text>\n</g>\n<!-- `u19_imaging`.`__sync_imaging_behavior` -->\n<g class=\"node\" id=\"node2\"><title>`u19_imaging`.`__sync_imaging_behavior`</title>\n<ellipse cx=\"564\" cy=\"-218\" fill=\"#ff0000\" fill-opacity=\"0.125490\" rx=\"173.362\" ry=\"14.7\" stroke=\"#ff0000\" stroke-opacity=\"0.125490\"/>\n<text fill=\"#7f0000\" font-family=\"arial\" font-size=\"12.00\" text-anchor=\"middle\" x=\"564\" y=\"-214.9\">`u19_imaging`.`__sync_imaging_behavior`</text>\n</g>\n<!-- imaging.MotionCorrection.AcrossFiles -->\n<g class=\"node\" id=\"node3\"><title>imaging.MotionCorrection.AcrossFiles</title>\n<g id=\"a_node3\"><a xlink:title=\"→ imaging.MotionCorrection\r------------------------------\rcross_files_x_shifts \rcross_files_y_shifts \rcross_files_reference_image \r\">\n<polygon fill=\"none\" points=\"1105,-155.5 923,-155.5 923,-136.5 1105,-136.5 1105,-155.5\" stroke=\"none\"/>\n<text font-family=\"arial\" font-size=\"10.00\" text-anchor=\"middle\" x=\"1014\" y=\"-143.5\">imaging.MotionCorrection.AcrossFiles</text>\n</a>\n</g>\n</g>\n<!-- imaging.McParameterSet.Parameter -->\n<g class=\"node\" id=\"node4\"><title>imaging.McParameterSet.Parameter</title>\n<g id=\"a_node4\"><a xlink:title=\"→ imaging.McParameterSet\r→ imaging.McParameter\r------------------------------\rmc_parameter_value   \r\">\n<polygon fill=\"none\" points=\"1284.25,-227.5 1109.75,-227.5 1109.75,-208.5 1284.25,-208.5 1284.25,-227.5\" stroke=\"none\"/>\n<text font-family=\"arial\" font-size=\"10.00\" text-anchor=\"middle\" x=\"1197\" y=\"-215.5\">imaging.McParameterSet.Parameter</text>\n</a>\n</g>\n</g>\n<!-- imaging.SegParameter -->\n<g class=\"node\" id=\"node5\"><title>imaging.SegParameter</title>\n<g id=\"a_node5\"><a xlink:title=\"→ imaging.SegmentationMethod\rseg_parameter_name   \r------------------------------\rseg_parameter_description \r\">\n<polygon fill=\"#000000\" fill-opacity=\"0.125490\" points=\"195.25,-235.5 78.75,-235.5 78.75,-200.5 195.25,-200.5 195.25,-235.5\" stroke=\"none\"/>\n<text font-family=\"arial\" font-size=\"10.00\" text-anchor=\"start\" text-decoration=\"underline\" x=\"87\" y=\"-216.5\">imaging.SegParameter</text>\n</a>\n</g>\n</g>\n<!-- imaging.SegParameterSet.Parameter -->\n<g class=\"node\" id=\"node8\"><title>imaging.SegParameterSet.Parameter</title>\n<g id=\"a_node8\"><a xlink:title=\"→ imaging.SegParameterSet\r→ imaging.SegParameter\r------------------------------\rseg_parameter_value  \r\">\n<polygon fill=\"none\" points=\"382.25,-155.5 203.75,-155.5 203.75,-136.5 382.25,-136.5 382.25,-155.5\" stroke=\"none\"/>\n<text font-family=\"arial\" font-size=\"10.00\" text-anchor=\"middle\" x=\"293\" y=\"-143.5\">imaging.SegParameterSet.Parameter</text>\n</a>\n</g>\n</g>\n<!-- imaging.SegParameter&#45;&gt;imaging.SegParameterSet.Parameter -->\n<g class=\"edge\" id=\"edge1\"><title>imaging.SegParameter-&gt;imaging.SegParameterSet.Parameter</title>\n<path d=\"M173.97,-200.411C205.325,-186.341 249.046,-166.723 273.837,-155.599\" fill=\"none\" stroke=\"#000000\" stroke-opacity=\"0.250980\" stroke-width=\"0.75\"/>\n</g>\n<!-- imaging.Segmentation.Roi -->\n<g class=\"node\" id=\"node6\"><title>imaging.Segmentation.Roi</title>\n<g id=\"a_node6\"><a xlink:title=\"→ imaging.Segmentation\rroi_idx              \r------------------------------\rroi_spatial          \rroi_global_xy        \rroi_is_in_chunks     \rsurround_spatial     \r\">\n<polygon fill=\"none\" points=\"544,-91.5 412,-91.5 412,-72.5 544,-72.5 544,-91.5\" stroke=\"none\"/>\n<text font-family=\"arial\" font-size=\"10.00\" text-anchor=\"start\" text-decoration=\"underline\" x=\"420.5\" y=\"-80.5\">imaging.Segmentation.Roi</text>\n</a>\n</g>\n</g>\n<!-- imaging.Segmentation.Roi&#45;&gt;`u19_imaging`.`segmentation_roi_morphology_manual` -->\n<g class=\"edge\" id=\"edge2\"><title>imaging.Segmentation.Roi-&gt;`u19_imaging`.`segmentation_roi_morphology_manual`</title>\n<path d=\"M433.703,-72.4443C384.6,-62.9602 304.221,-47.4353 242.714,-35.5554\" fill=\"none\" stroke=\"#000000\" stroke-opacity=\"0.250980\" stroke-width=\"0.75\"/>\n</g>\n<!-- imaging.Trace -->\n<g class=\"node\" id=\"node21\"><title>imaging.Trace</title>\n<g id=\"a_node21\"><a xlink:title=\"→ imaging.Segmentation.Roi\r------------------------------\rdff_roi              \rdff_roi_is_significant \rdff_roi_is_baseline  \rdff_surround         \rspiking              \rtime_constants       \rinit_concentration   \r\">\n<ellipse cx=\"390\" cy=\"-18\" fill=\"#00007f\" fill-opacity=\"0.250980\" rx=\"57.25\" ry=\"17.5\" stroke=\"#00007f\" stroke-opacity=\"0.250980\"/>\n<text fill=\"#00007f\" font-family=\"arial\" font-size=\"12.00\" text-anchor=\"middle\" x=\"390\" y=\"-14.9\">imaging.Trace</text>\n</a>\n</g>\n</g>\n<!-- imaging.Segmentation.Roi&#45;&gt;imaging.Trace -->\n<g class=\"edge\" id=\"edge3\"><title>imaging.Segmentation.Roi-&gt;imaging.Trace</title>\n<path d=\"M465.764,-72.3792C451.785,-62.5303 428.647,-46.2283 411.612,-34.2265\" fill=\"none\" stroke=\"#000000\" stroke-opacity=\"0.250980\" stroke-width=\"2\"/>\n</g>\n<!-- imaging.Segmentation.RoiMorphologyAuto -->\n<g class=\"node\" id=\"node22\"><title>imaging.Segmentation.RoiMorphologyAuto</title>\n<g id=\"a_node22\"><a xlink:title=\"→ imaging.Segmentation.Roi\r------------------------------\rmorphology           \r\">\n<polygon fill=\"none\" points=\"666.25,-27.5 465.75,-27.5 465.75,-8.5 666.25,-8.5 666.25,-27.5\" stroke=\"none\"/>\n<text font-family=\"arial\" font-size=\"10.00\" text-anchor=\"middle\" x=\"566\" y=\"-15.5\">imaging.Segmentation.RoiMorphologyAuto</text>\n</a>\n</g>\n</g>\n<!-- imaging.Segmentation.Roi&#45;&gt;imaging.Segmentation.RoiMorphologyAuto -->\n<g class=\"edge\" id=\"edge4\"><title>imaging.Segmentation.Roi-&gt;imaging.Segmentation.RoiMorphologyAuto</title>\n<path d=\"M490.236,-72.3792C507.049,-60.5339 537.11,-39.3543 553.868,-27.5476\" fill=\"none\" stroke=\"#000000\" stroke-opacity=\"0.250980\" stroke-width=\"2\"/>\n</g>\n<!-- imaging.McMethod -->\n<g class=\"node\" id=\"node7\"><title>imaging.McMethod</title>\n<g id=\"a_node7\"><a xlink:title=\"mc_method            \r------------------------------\rcorrelation_type=&quot;Normalized&quot; \rtranformation_type=&quot;Linear&quot; \r\">\n<polygon fill=\"#000000\" fill-opacity=\"0.125490\" points=\"1322,-379.5 1222,-379.5 1222,-344.5 1322,-344.5 1322,-379.5\" stroke=\"none\"/>\n<text font-family=\"arial\" font-size=\"10.00\" text-anchor=\"start\" text-decoration=\"underline\" x=\"1230.5\" y=\"-360.5\">imaging.McMethod</text>\n</a>\n</g>\n</g>\n<!-- imaging.McParameterSet -->\n<g class=\"node\" id=\"node11\"><title>imaging.McParameterSet</title>\n<g id=\"a_node11\"><a xlink:title=\"→ imaging.McMethod\rmc_parameter_set_id  \r------------------------------\rmc_parameter_set_description=null \rmc_parameter_set_hash \r\">\n<polygon fill=\"#00ff00\" fill-opacity=\"0.188235\" points=\"1273.25,-307.5 1120.75,-307.5 1120.75,-272.5 1273.25,-272.5 1273.25,-307.5\" stroke=\"#00ff00\" stroke-opacity=\"0.188235\"/>\n<text fill=\"darkgreen\" font-family=\"arial\" font-size=\"12.00\" text-anchor=\"start\" text-decoration=\"underline\" x=\"1129\" y=\"-287.9\">imaging.McParameterSet</text>\n</a>\n</g>\n</g>\n<!-- imaging.McMethod&#45;&gt;imaging.McParameterSet -->\n<g class=\"edge\" id=\"edge5\"><title>imaging.McMethod-&gt;imaging.McParameterSet</title>\n<path d=\"M1254.23,-344.411C1242.36,-333.333 1226.8,-318.816 1214.91,-307.713\" fill=\"none\" stroke=\"#000000\" stroke-opacity=\"0.250980\" stroke-width=\"0.75\"/>\n</g>\n<!-- imaging.McParameter -->\n<g class=\"node\" id=\"node12\"><title>imaging.McParameter</title>\n<g id=\"a_node12\"><a xlink:title=\"→ imaging.McMethod\rmc_parameter_name    \r------------------------------\rmc_parameter_description \r\">\n<polygon fill=\"#000000\" fill-opacity=\"0.125490\" points=\"1404.25,-307.5 1291.75,-307.5 1291.75,-272.5 1404.25,-272.5 1404.25,-307.5\" stroke=\"none\"/>\n<text font-family=\"arial\" font-size=\"10.00\" text-anchor=\"start\" text-decoration=\"underline\" x=\"1300\" y=\"-288.5\">imaging.McParameter</text>\n</a>\n</g>\n</g>\n<!-- imaging.McMethod&#45;&gt;imaging.McParameter -->\n<g class=\"edge\" id=\"edge6\"><title>imaging.McMethod-&gt;imaging.McParameter</title>\n<path d=\"M1290.01,-344.411C1302.04,-333.333 1317.8,-318.816 1329.85,-307.713\" fill=\"none\" stroke=\"#000000\" stroke-opacity=\"0.250980\" stroke-width=\"0.75\"/>\n</g>\n<!-- imaging.SegParameterSet -->\n<g class=\"node\" id=\"node9\"><title>imaging.SegParameterSet</title>\n<g id=\"a_node9\"><a xlink:title=\"→ imaging.SegmentationMethod\rseg_parameter_set_id \r------------------------------\rseg_parameter_set_description=null \rseg_parameter_set_hash \r\">\n<polygon fill=\"#00ff00\" fill-opacity=\"0.188235\" points=\"372.25,-235.5 213.75,-235.5 213.75,-200.5 372.25,-200.5 372.25,-235.5\" stroke=\"#00ff00\" stroke-opacity=\"0.188235\"/>\n<text fill=\"darkgreen\" font-family=\"arial\" font-size=\"12.00\" text-anchor=\"start\" text-decoration=\"underline\" x=\"222\" y=\"-215.9\">imaging.SegParameterSet</text>\n</a>\n</g>\n</g>\n<!-- imaging.SegParameterSet&#45;&gt;imaging.SegParameterSet.Parameter -->\n<g class=\"edge\" id=\"edge7\"><title>imaging.SegParameterSet-&gt;imaging.SegParameterSet.Parameter</title>\n<path d=\"M293,-200.411C293,-186.341 293,-166.723 293,-155.599\" fill=\"none\" stroke=\"#000000\" stroke-opacity=\"0.250980\" stroke-width=\"0.75\"/>\n</g>\n<!-- imaging.Segmentation -->\n<g class=\"node\" id=\"node13\"><title>imaging.Segmentation</title>\n<g id=\"a_node13\"><a xlink:title=\"→ imaging.MotionCorrection\r→ imaging.SegParameterSet\r------------------------------\rnum_chunks           \rcross_chunks_x_shifts \rcross_chunks_y_shifts \rcross_chunks_reference_image \rseg_results_directory \r\">\n<ellipse cx=\"557\" cy=\"-146\" fill=\"#00007f\" fill-opacity=\"0.250980\" rx=\"85.4372\" ry=\"17.5\" stroke=\"#00007f\" stroke-opacity=\"0.250980\"/>\n<text fill=\"#00007f\" font-family=\"arial\" font-size=\"12.00\" text-anchor=\"middle\" x=\"557\" y=\"-142.9\">imaging.Segmentation</text>\n</a>\n</g>\n</g>\n<!-- imaging.SegParameterSet&#45;&gt;imaging.Segmentation -->\n<g class=\"edge\" id=\"edge8\"><title>imaging.SegParameterSet-&gt;imaging.Segmentation</title>\n<path d=\"M355.23,-200.5C401.572,-188.212 464.015,-171.655 507.101,-160.231\" fill=\"none\" stroke=\"#000000\" stroke-opacity=\"0.250980\" stroke-width=\"0.75\"/>\n</g>\n<!-- imaging.FieldOfView -->\n<g class=\"node\" id=\"node10\"><title>imaging.FieldOfView</title>\n<g id=\"a_node10\"><a xlink:title=\"→ imaging.Scan\rfov                  \r------------------------------\rfov_directory        \rrelative_fov_directory=null \rfov_name=null        \rfov_depth            \rfov_center_xy        \rfov_size_xy          \rfov_rotation_degrees \rfov_pixel_resolution_xy \rfov_discrete_plane_mode \rpower_percent        \r\">\n<ellipse cx=\"818\" cy=\"-290\" fill=\"#00007f\" fill-opacity=\"0.250980\" rx=\"80.4372\" ry=\"17.5\" stroke=\"#00007f\" stroke-opacity=\"0.250980\"/>\n<text fill=\"#00007f\" font-family=\"arial\" font-size=\"12.00\" text-anchor=\"start\" text-decoration=\"underline\" x=\"762\" y=\"-287.9\">imaging.FieldOfView</text>\n</a>\n</g>\n</g>\n<!-- imaging.FieldOfView&#45;&gt;`u19_imaging`.`__sync_imaging_behavior` -->\n<g class=\"edge\" id=\"edge9\"><title>imaging.FieldOfView-&gt;`u19_imaging`.`__sync_imaging_behavior`</title>\n<path d=\"M770.225,-275.834C725.101,-263.398 657.76,-244.839 612.425,-232.345\" fill=\"none\" stroke=\"#000000\" stroke-opacity=\"0.250980\" stroke-width=\"2\"/>\n</g>\n<!-- imaging.MotionCorrection -->\n<g class=\"node\" id=\"node18\"><title>imaging.MotionCorrection</title>\n<g id=\"a_node18\"><a xlink:title=\"→ imaging.FieldOfView\r→ imaging.McParameterSet\r------------------------------\rmc_results_directory=null \r\">\n<ellipse cx=\"995\" cy=\"-218\" fill=\"#00007f\" fill-opacity=\"0.250980\" rx=\"95.876\" ry=\"17.5\" stroke=\"#00007f\" stroke-opacity=\"0.250980\"/>\n<text fill=\"#00007f\" font-family=\"arial\" font-size=\"12.00\" text-anchor=\"middle\" x=\"995\" y=\"-214.9\">imaging.MotionCorrection</text>\n</a>\n</g>\n</g>\n<!-- imaging.FieldOfView&#45;&gt;imaging.MotionCorrection -->\n<g class=\"edge\" id=\"edge10\"><title>imaging.FieldOfView-&gt;imaging.MotionCorrection</title>\n<path d=\"M855.105,-274.326C884.908,-262.539 926.611,-246.046 956.721,-234.138\" fill=\"none\" stroke=\"#000000\" stroke-opacity=\"0.250980\" stroke-width=\"0.75\"/>\n</g>\n<!-- imaging.FieldOfView.File -->\n<g class=\"node\" id=\"node19\"><title>imaging.FieldOfView.File</title>\n<g id=\"a_node19\"><a xlink:title=\"→ imaging.FieldOfView\rfile_number          \r------------------------------\rfov_filename         \rfile_frame_range     \r\">\n<polygon fill=\"none\" points=\"880.25,-227.5 755.75,-227.5 755.75,-208.5 880.25,-208.5 880.25,-227.5\" stroke=\"none\"/>\n<text font-family=\"arial\" font-size=\"10.00\" text-anchor=\"start\" text-decoration=\"underline\" x=\"764\" y=\"-216.5\">imaging.FieldOfView.File</text>\n</a>\n</g>\n</g>\n<!-- imaging.FieldOfView&#45;&gt;imaging.FieldOfView.File -->\n<g class=\"edge\" id=\"edge11\"><title>imaging.FieldOfView-&gt;imaging.FieldOfView.File</title>\n<path d=\"M818,-272.411C818,-258.341 818,-238.723 818,-227.599\" fill=\"none\" stroke=\"#000000\" stroke-opacity=\"0.250980\" stroke-width=\"0.75\"/>\n</g>\n<!-- imaging.McParameterSet&#45;&gt;imaging.McParameterSet.Parameter -->\n<g class=\"edge\" id=\"edge12\"><title>imaging.McParameterSet-&gt;imaging.McParameterSet.Parameter</title>\n<path d=\"M1197,-272.411C1197,-258.341 1197,-238.723 1197,-227.599\" fill=\"none\" stroke=\"#000000\" stroke-opacity=\"0.250980\" stroke-width=\"0.75\"/>\n</g>\n<!-- imaging.McParameterSet&#45;&gt;imaging.MotionCorrection -->\n<g class=\"edge\" id=\"edge13\"><title>imaging.McParameterSet-&gt;imaging.MotionCorrection</title>\n<path d=\"M1149.38,-272.5C1115.44,-260.737 1070.21,-245.063 1037.49,-233.724\" fill=\"none\" stroke=\"#000000\" stroke-opacity=\"0.250980\" stroke-width=\"0.75\"/>\n</g>\n<!-- imaging.McParameter&#45;&gt;imaging.McParameterSet.Parameter -->\n<g class=\"edge\" id=\"edge14\"><title>imaging.McParameter-&gt;imaging.McParameterSet.Parameter</title>\n<path d=\"M1312.22,-272.411C1281.87,-258.341 1239.55,-238.723 1215.55,-227.599\" fill=\"none\" stroke=\"#000000\" stroke-opacity=\"0.250980\" stroke-width=\"0.75\"/>\n</g>\n<!-- imaging.Segmentation&#45;&gt;imaging.Segmentation.Roi -->\n<g class=\"edge\" id=\"edge15\"><title>imaging.Segmentation-&gt;imaging.Segmentation.Roi</title>\n<path d=\"M536.244,-128.71C521.066,-116.799 501.082,-101.115 488.907,-91.5598\" fill=\"none\" stroke=\"#000000\" stroke-opacity=\"0.250980\" stroke-width=\"0.75\"/>\n</g>\n<!-- imaging.Segmentation.Chunks -->\n<g class=\"node\" id=\"node15\"><title>imaging.Segmentation.Chunks</title>\n<g id=\"a_node15\"><a xlink:title=\"→ imaging.Segmentation\rsegmentation_chunk_id \r------------------------------\rtif_file_list        \rimaging_frame_range  \rregion_image_size    \rregion_image_x_range \rregion_image_y_range \r\">\n<polygon fill=\"none\" points=\"712,-91.5 562,-91.5 562,-72.5 712,-72.5 712,-91.5\" stroke=\"none\"/>\n<text font-family=\"arial\" font-size=\"10.00\" text-anchor=\"start\" text-decoration=\"underline\" x=\"570.5\" y=\"-80.5\">imaging.Segmentation.Chunks</text>\n</a>\n</g>\n</g>\n<!-- imaging.Segmentation&#45;&gt;imaging.Segmentation.Chunks -->\n<g class=\"edge\" id=\"edge16\"><title>imaging.Segmentation-&gt;imaging.Segmentation.Chunks</title>\n<path d=\"M578.019,-128.71C593.389,-116.799 613.626,-101.115 625.955,-91.5598\" fill=\"none\" stroke=\"#000000\" stroke-opacity=\"0.250980\" stroke-width=\"0.75\"/>\n</g>\n<!-- imaging.Segmentation.Background -->\n<g class=\"node\" id=\"node14\"><title>imaging.Segmentation.Background</title>\n<g id=\"a_node14\"><a xlink:title=\"→ imaging.Segmentation.Chunks\r------------------------------\rbackground_spatial   \rbackground_temporal  \r\">\n<polygon fill=\"none\" points=\"853,-27.5 685,-27.5 685,-8.5 853,-8.5 853,-27.5\" stroke=\"none\"/>\n<text font-family=\"arial\" font-size=\"10.00\" text-anchor=\"middle\" x=\"769\" y=\"-15.5\">imaging.Segmentation.Background</text>\n</a>\n</g>\n</g>\n<!-- imaging.Segmentation.Chunks&#45;&gt;imaging.Segmentation.Background -->\n<g class=\"edge\" id=\"edge17\"><title>imaging.Segmentation.Chunks-&gt;imaging.Segmentation.Background</title>\n<path d=\"M655.354,-72.3792C680.573,-60.5339 725.665,-39.3543 750.802,-27.5476\" fill=\"none\" stroke=\"#000000\" stroke-opacity=\"0.250980\" stroke-width=\"2\"/>\n</g>\n<!-- imaging.Scan -->\n<g class=\"node\" id=\"node16\"><title>imaging.Scan</title>\n<g id=\"a_node16\"><a xlink:title=\"→ recording.acquisition.Session\r------------------------------\rscan_directory       \rrelative_scan_directory \r→ `u19_lab`.`#acquisition_type`\r\">\n<ellipse cx=\"734\" cy=\"-362\" fill=\"#00007f\" fill-opacity=\"0.250980\" rx=\"55.8767\" ry=\"17.5\" stroke=\"#00007f\" stroke-opacity=\"0.250980\"/>\n<text fill=\"#00007f\" font-family=\"arial\" font-size=\"12.00\" text-anchor=\"middle\" x=\"734\" y=\"-358.9\">imaging.Scan</text>\n</a>\n</g>\n</g>\n<!-- imaging.Scan&#45;&gt;imaging.FieldOfView -->\n<g class=\"edge\" id=\"edge18\"><title>imaging.Scan-&gt;imaging.FieldOfView</title>\n<path d=\"M752.642,-345.465C766.273,-334.106 784.715,-318.737 798.534,-307.222\" fill=\"none\" stroke=\"#000000\" stroke-opacity=\"0.250980\" stroke-width=\"0.75\"/>\n</g>\n<!-- imaging.ScanInfo -->\n<g class=\"node\" id=\"node17\"><title>imaging.ScanInfo</title>\n<g id=\"a_node17\"><a xlink:title=\"→ imaging.Scan\r------------------------------\rfile_name_base       \rscan_width           \rscan_height          \racq_time             \rn_depths             \rscan_depths          \rframe_rate           \rinter_fov_lag_sec    \rframe_ts_sec         \rchannels             \rcfg_filename         \rusr_filename         \rfast_z_lag           \rfast_z_flyback_time  \rline_period          \rscan_frame_period    \rscan_volume_rate     \rflyback_time_per_frame \rflyto_time_per_scan_field \rfov_corner_points    \rnfovs                \rnframes              \rnframes_good         \rlast_good_file       \rmotion_correction_enabled=0 \rmotion_correction_mode=&quot;N/A&quot; \rstacks_enabled=0     \rstack_actuator=&quot;N/A&quot; \rstack_definition=&quot;N/A&quot; \r\">\n<ellipse cx=\"651\" cy=\"-290\" fill=\"#00007f\" fill-opacity=\"0.250980\" rx=\"68.1273\" ry=\"17.5\" stroke=\"#00007f\" stroke-opacity=\"0.250980\"/>\n<text fill=\"#00007f\" font-family=\"arial\" font-size=\"12.00\" text-anchor=\"middle\" x=\"651\" y=\"-286.9\">imaging.ScanInfo</text>\n</a>\n</g>\n</g>\n<!-- imaging.Scan&#45;&gt;imaging.ScanInfo -->\n<g class=\"edge\" id=\"edge19\"><title>imaging.Scan-&gt;imaging.ScanInfo</title>\n<path d=\"M715.58,-345.465C702.016,-334.026 683.63,-318.519 669.944,-306.977\" fill=\"none\" stroke=\"#000000\" stroke-opacity=\"0.250980\" stroke-width=\"2\"/>\n</g>\n<!-- imaging.MotionCorrection&#45;&gt;imaging.MotionCorrection.AcrossFiles -->\n<g class=\"edge\" id=\"edge20\"><title>imaging.MotionCorrection-&gt;imaging.MotionCorrection.AcrossFiles</title>\n<path d=\"M999.503,-200.411C1003.32,-186.341 1008.65,-166.723 1011.67,-155.599\" fill=\"none\" stroke=\"#000000\" stroke-opacity=\"0.250980\" stroke-width=\"2\"/>\n</g>\n<!-- imaging.MotionCorrection&#45;&gt;imaging.Segmentation -->\n<g class=\"edge\" id=\"edge21\"><title>imaging.MotionCorrection-&gt;imaging.Segmentation</title>\n<path d=\"M925.439,-205.837C913.293,-203.889 900.778,-201.885 889,-200 796.351,-185.175 689.15,-168.071 622.203,-157.395\" fill=\"none\" stroke=\"#000000\" stroke-opacity=\"0.250980\" stroke-width=\"0.75\"/>\n</g>\n<!-- imaging.MotionCorrection.WithinFile -->\n<g class=\"node\" id=\"node23\"><title>imaging.MotionCorrection.WithinFile</title>\n<g id=\"a_node23\"><a xlink:title=\"→ imaging.MotionCorrection\r→ imaging.FieldOfView.File\r------------------------------\rwithin_file_x_shifts \rwithin_file_y_shifts \rwithin_reference_image \r\">\n<polygon fill=\"none\" points=\"904.25,-155.5 731.75,-155.5 731.75,-136.5 904.25,-136.5 904.25,-155.5\" stroke=\"none\"/>\n<text font-family=\"arial\" font-size=\"10.00\" text-anchor=\"middle\" x=\"818\" y=\"-143.5\">imaging.MotionCorrection.WithinFile</text>\n</a>\n</g>\n</g>\n<!-- imaging.MotionCorrection&#45;&gt;imaging.MotionCorrection.WithinFile -->\n<g class=\"edge\" id=\"edge22\"><title>imaging.MotionCorrection-&gt;imaging.MotionCorrection.WithinFile</title>\n<path d=\"M956.594,-201.811C920.804,-187.657 868.718,-167.058 839.659,-155.566\" fill=\"none\" stroke=\"#000000\" stroke-opacity=\"0.250980\" stroke-width=\"0.75\"/>\n</g>\n<!-- imaging.FieldOfView.File&#45;&gt;imaging.MotionCorrection.WithinFile -->\n<g class=\"edge\" id=\"edge23\"><title>imaging.FieldOfView.File-&gt;imaging.MotionCorrection.WithinFile</title>\n<path d=\"M818,-208.417C818,-194.982 818,-169.132 818,-155.654\" fill=\"none\" stroke=\"#000000\" stroke-opacity=\"0.250980\" stroke-width=\"0.75\"/>\n</g>\n<!-- imaging.SegmentationMethod -->\n<g class=\"node\" id=\"node20\"><title>imaging.SegmentationMethod</title>\n<g id=\"a_node20\"><a xlink:title=\"seg_method           \r\">\n<polygon fill=\"#000000\" fill-opacity=\"0.125490\" points=\"288.25,-307.5 141.75,-307.5 141.75,-272.5 288.25,-272.5 288.25,-307.5\" stroke=\"none\"/>\n<text font-family=\"arial\" font-size=\"10.00\" text-anchor=\"start\" text-decoration=\"underline\" x=\"150\" y=\"-288.5\">imaging.SegmentationMethod</text>\n</a>\n</g>\n</g>\n<!-- imaging.SegmentationMethod&#45;&gt;imaging.SegParameter -->\n<g class=\"edge\" id=\"edge24\"><title>imaging.SegmentationMethod-&gt;imaging.SegParameter</title>\n<path d=\"M196.515,-272.411C184.171,-261.333 167.995,-246.816 155.623,-235.713\" fill=\"none\" stroke=\"#000000\" stroke-opacity=\"0.250980\" stroke-width=\"0.75\"/>\n</g>\n<!-- imaging.SegmentationMethod&#45;&gt;imaging.SegParameterSet -->\n<g class=\"edge\" id=\"edge25\"><title>imaging.SegmentationMethod-&gt;imaging.SegParameterSet</title>\n<path d=\"M233.485,-272.411C245.829,-261.333 262.005,-246.816 274.377,-235.713\" fill=\"none\" stroke=\"#000000\" stroke-opacity=\"0.250980\" stroke-width=\"0.75\"/>\n</g>\n</g>\n</svg>"
     },
     "metadata": {},
     "execution_count": 11
    }
   ],
   "source": [
    "dj.Diagram(imaging)"
   ]
  },
  {
   "cell_type": "code",
   "execution_count": null,
   "metadata": {},
   "outputs": [],
   "source": []
  }
 ],
 "metadata": {
  "interpreter": {
   "hash": "ad2050938946b9745fdc6507c7561603613194cae6ce583d2036ae212150e70f"
  },
  "kernelspec": {
   "display_name": "Python 3.7.11 64-bit",
   "language": "python",
   "name": "python371164bit8ce75340c4e34f47b474ca718361721b"
  },
  "language_info": {
   "codemirror_mode": {
    "name": "ipython",
    "version": 3
   },
   "file_extension": ".py",
   "mimetype": "text/x-python",
   "name": "python",
   "nbconvert_exporter": "python",
   "pygments_lexer": "ipython3",
   "version": "3.7.11-final"
  }
 },
 "nbformat": 4,
 "nbformat_minor": 4
}