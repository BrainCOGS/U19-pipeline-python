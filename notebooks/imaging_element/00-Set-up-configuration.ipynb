{
 "cells": [
  {
   "cell_type": "markdown",
   "source": [
    "# Configure DataJoint connection to the database\n",
    "\n",
    "+ To run `workflow-calcium-imaging`, we need to properly set up the DataJoint configuration. The configuration will be saved in a file called `dj_local_conf.json` on each machine and this notebook walks you through the process.\n",
    "\n",
    "+ The configuration only needs to be set up once.  If you have gone through the configuration before, directly go to [02-imaging-workflow-structure](imaging-workflow-structure.ipynb).\n",
    "\n",
    "## Set up configuration in root directory of this package\n",
    "\n",
    "+ As a convention, we set the configuration up in the root directory of the `workflow-calcium-imaging` package and always start importing DataJoint and pipeline modules from there."
   ],
   "metadata": {}
  },
  {
   "cell_type": "markdown",
   "source": [
    "### Check root dir and configuration file"
   ],
   "metadata": {}
  },
  {
   "cell_type": "code",
   "execution_count": 1,
   "source": [
    "from scripts.conf_file_finding import try_find_conf_file\r\n",
    "try_find_conf_file()\r\n",
    "import os\r\n",
    "import getpass\r\n",
    "import datajoint as dj\r\n",
    "import u19_pipeline.utility as utility"
   ],
   "outputs": [
    {
     "output_type": "stream",
     "name": "stdout",
     "text": [
      "Local configuration file found !!, no need to run the configuration (unless configuration has changed)\n"
     ]
    }
   ],
   "metadata": {}
  },
  {
   "cell_type": "markdown",
   "source": [
    "## Configure database host address and credentials\n",
    "\n",
    "Now let's set up the host, user and password in the `dj.config` global variable"
   ],
   "metadata": {}
  },
  {
   "cell_type": "code",
   "execution_count": 2,
   "source": [
    "dj.config['database.host'] = 'datajoint00.pni.princeton.edu'\r\n",
    "dj.config['database.user'] = 'alvaros'\r\n",
    "dj.config['database.password'] = getpass.getpass() # enter the password securily"
   ],
   "outputs": [],
   "metadata": {}
  },
  {
   "cell_type": "markdown",
   "source": [
    "You should be able to connect to the database at this stage."
   ],
   "metadata": {}
  },
  {
   "cell_type": "code",
   "execution_count": 3,
   "source": [
    "dj.conn()"
   ],
   "outputs": [
    {
     "output_type": "stream",
     "name": "stdout",
     "text": [
      "Connecting alvaros@datajoint00.pni.princeton.edu:3306\n"
     ]
    },
    {
     "output_type": "execute_result",
     "data": {
      "text/plain": [
       "DataJoint connection (connected) alvaros@datajoint00.pni.princeton.edu:3306"
      ]
     },
     "metadata": {},
     "execution_count": 3
    }
   ],
   "metadata": {}
  },
  {
   "cell_type": "markdown",
   "source": [
    "#### if Windows:\r\n",
    "+ install Graphviz for diagram drawing.\r\n",
    "+ Add Graphviz to path"
   ],
   "metadata": {}
  },
  {
   "cell_type": "code",
   "execution_count": 4,
   "source": [
    "if os.name == 'nt':\r\n",
    "    if 'C:\\\\Program Files\\\\Graphviz\\\\bin' not in os.environ[\"PATH\"]:\r\n",
    "        os.environ[\"PATH\"] += ';C:\\\\Program Files\\\\Graphviz\\\\bin'"
   ],
   "outputs": [],
   "metadata": {}
  },
  {
   "cell_type": "markdown",
   "source": [
    "### Database prefix\n",
    "\n",
    "+ Giving a prefix to schema could help on the configuration of privilege settings. For example, we set prefix to `u19_`\n",
    "+ The prefix could be configurated as follows in `dj.config`:"
   ],
   "metadata": {}
  },
  {
   "cell_type": "code",
   "execution_count": 5,
   "source": [
    "if 'custom' not in dj.config:\r\n",
    "    dj.config['custom'] = dict()"
   ],
   "outputs": [],
   "metadata": {}
  },
  {
   "cell_type": "code",
   "execution_count": 6,
   "source": [
    "dj.config['custom']['database.prefix'] = 'u19_'"
   ],
   "outputs": [],
   "metadata": {}
  },
  {
   "cell_type": "markdown",
   "source": [
    "We also have to define the external storage location. This is the remote directory on bucket, smb://bucket.pni.princeton.edu/u19_dj where datajoint stores bulky data. This location should be mounted locally"
   ],
   "metadata": {}
  },
  {
   "cell_type": "code",
   "execution_count": 7,
   "source": [
    "location_extstorage = utility.get_network_path('u19_dj') + '/external_dj_blobs'\r\n",
    "dj.config['stores'] = {\r\n",
    "    'extstorage':\r\n",
    "    {\r\n",
    "        'location': location_extstorage,\r\n",
    "        'protocol': 'file'\r\n",
    "    }\r\n",
    "}"
   ],
   "outputs": [],
   "metadata": {}
  },
  {
   "cell_type": "markdown",
   "source": [
    "## Configure the `custom` field in `dj.config` for element-calcium-imaging\n",
    "\n",
    "+ The major component of the imaging workflow is the [DataJoint element-calcium-imaging](https://github.com/datajoint/element-calcium-imaging). `element-calcium-imaging` requires configurations in the field `custom` in `dj.config`:"
   ],
   "metadata": {}
  },
  {
   "cell_type": "markdown",
   "source": [
    "### Root directories for raw calcium imaging data and processed results\r\n",
    "\r\n",
    "+ `imaging_root_data_dir` field indicates the root directory for the calcium imaging raw data from ScanImage or Scanbox (e.g. `*.tif`) or the processed results from Suite2p or CaImAn (e.g. `F.npy`). The root path typically do not contain information of subjects or sessions, all data from subjects/sessions should be subdirectories in the root path.\r\n",
    "\r\n",
    "+ In the database, every path for the raw calcium imaging data is relative to this root path. The benefit is that the absolute path could be configured for each machine, and when data transfer happens, we just need to change the root directory in the config file.\r\n",
    "\r\n",
    "+ The workflow supports multiple root directories. If there are multiple possible root directories, specify the `imaging_root_data_dir` as a list.\r\n",
    "\r\n",
    "+ The root path(s) are specific to each machine, as the name of drive mount could be different for different operating systems or machines.\r\n",
    "\r\n",
    "+ In the context of the workflow, all the paths saved into the database or saved in the config file need to be in the POSIX standards (Unix/Linux), with `/`. The path conversion for machines of any operating system is taken care of inside the elements.\r\n",
    "\r\n",
    "### Examples\r\n",
    "+ U19 mesoscope directory for Linux systems: `/mnt/braininit/RigData/mesoscope/imaging/`\r\n",
    "+ U19 mesoscope directory for Mac systems:   `/Volumes/braininit/RigData/mesoscope/imaging/`\r\n",
    "+ U19 mesoscope directory for Windows systems: `//bucket.pni.princeton.edu/braininit/RigData/mesoscope/imaging/`"
   ],
   "metadata": {}
  },
  {
   "cell_type": "code",
   "execution_count": 14,
   "source": [
    "# If there is only one root path:\r\n",
    "dj.config['custom']['imaging_root_data_dir'] = utility.get_network_path('braininit') + '/RigData/mesoscope/imaging/'\r\n",
    "# If there are multiple possible root paths (write them as a list):\r\n",
    "#dj.config['custom']['imaging_root_data_dir'] = ['/mnt/bucket/braininit/RigData/mesoscope/imaging/imaging_pipe1/']"
   ],
   "outputs": [],
   "metadata": {}
  },
  {
   "cell_type": "code",
   "execution_count": 15,
   "source": [
    "dj.config['custom']"
   ],
   "outputs": [
    {
     "output_type": "execute_result",
     "data": {
      "text/plain": [
       "{'database.prefix': 'u19_',\n",
       " 'ephys_root_data_dir': '//bucket.pni.princeton.edu/Bezos-center/Manuel/neuropixel/manuel',\n",
       " 'imaging_root_data_dir': '//bucket.pni.princeton.edu/braininit/RigData/mesoscope/imaging/'}"
      ]
     },
     "metadata": {},
     "execution_count": 15
    }
   ],
   "metadata": {}
  },
  {
   "cell_type": "markdown",
   "source": [
    "## Save the configuration as a json file\n",
    "\n",
    "With the proper configurations, we could save this as a file, either as a local json file, or a global file."
   ],
   "metadata": {}
  },
  {
   "cell_type": "code",
   "execution_count": 13,
   "source": [
    "dj.config.save_local()"
   ],
   "outputs": [],
   "metadata": {}
  },
  {
   "cell_type": "markdown",
   "source": [
    "Local configuration file is saved as `dj_local_conf.json` in the root directory of this package `workflow-calcium-imaging`. Next time if you change your directory to `workflow-calcium-imaging` before importing DataJoint and the pipeline packages, the configurations will get properly loaded.\n",
    "\n",
    "If saved globally, there will be a hidden configuration file saved in your root directory. The configuration will be loaded no matter where the directory is."
   ],
   "metadata": {}
  },
  {
   "cell_type": "code",
   "execution_count": null,
   "source": [
    "# dj.config.save_global()"
   ],
   "outputs": [],
   "metadata": {}
  },
  {
   "cell_type": "markdown",
   "source": [
    "## Next Step\n",
    "\n",
    "After the configuration, we will be able to run through the workflow with the [02-workflow-structure](02-workflow-structure-optional.ipynb) notebook."
   ],
   "metadata": {}
  }
 ],
 "metadata": {
  "kernelspec": {
   "name": "python3",
   "display_name": "Python 3.7.10 64-bit ('imaging_elements': conda)"
  },
  "language_info": {
   "codemirror_mode": {
    "name": "ipython",
    "version": 3
   },
   "file_extension": ".py",
   "mimetype": "text/x-python",
   "name": "python",
   "nbconvert_exporter": "python",
   "pygments_lexer": "ipython3",
   "version": "3.7.10"
  },
  "interpreter": {
   "hash": "ad2050938946b9745fdc6507c7561603613194cae6ce583d2036ae212150e70f"
  }
 },
 "nbformat": 4,
 "nbformat_minor": 4
}