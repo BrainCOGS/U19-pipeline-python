{
 "cells": [
  {
   "cell_type": "code",
   "execution_count": null,
   "metadata": {},
   "outputs": [],
   "source": [
    "import datajoint as dj\n",
    "import numpy as np\n",
    "from u19_pipeline.imaging_element import imaging_element, scan_element"
   ]
  },
  {
   "cell_type": "code",
   "execution_count": null,
   "metadata": {},
   "outputs": [],
   "source": [
    "dj.config['enable_python_native_blobs'] = True"
   ]
  },
  {
   "cell_type": "code",
   "execution_count": null,
   "metadata": {},
   "outputs": [],
   "source": [
    "# ingest parameters for Suite2p\n",
    "pars = {\n",
    "    'look_one_level_down': 0.0,\n",
    "    'fast_disk': [],\n",
    "    'delete_bin': False,\n",
    "    'mesoscan': False,\n",
    "    'h5py': [],\n",
    "    'h5py_key': 'data',\n",
    "    'save_path0': [],\n",
    "    'subfolders': [],\n",
    "    'nplanes': 1,\n",
    "    'nchannels': 1,\n",
    "    'functional_chan': 1,\n",
    "    'tau': 1.0,\n",
    "    'fs': 10.0,\n",
    "    'force_sktiff': False,\n",
    "    'preclassify': 0.0,\n",
    "    'save_mat': False,\n",
    "    'combined': True,\n",
    "    'aspect': 1.0,\n",
    "    'do_bidiphase': False,\n",
    "    'bidiphase': 0.0,\n",
    "    'do_registration': True,\n",
    "    'keep_movie_raw': False,\n",
    "    'nimg_init': 300,\n",
    "    'batch_size': 500,\n",
    "    'maxregshift': 0.1,\n",
    "    'align_by_chan': 1,\n",
    "    'reg_tif': False,\n",
    "    'reg_tif_chan2': False,\n",
    "    'subpixel': 10,\n",
    "    'smooth_sigma': 1.15,\n",
    "    'th_badframes': 1.0,\n",
    "    'pad_fft': False,\n",
    "    'nonrigid': True,\n",
    "    'block_size': [128, 128],\n",
    "    'snr_thresh': 1.2,\n",
    "    'maxregshiftNR': 5.0,\n",
    "    '1Preg': False,\n",
    "    'spatial_hp': 50.0,\n",
    "    'pre_smooth': 2.0,\n",
    "    'spatial_taper': 50.0,\n",
    "    'roidetect': True,\n",
    "    'sparse_mode': False,\n",
    "    'diameter': 12,\n",
    "    'spatial_scale': 0,\n",
    "    'connected': True,\n",
    "    'nbinned': 5000,\n",
    "    'max_iterations': 20,\n",
    "    'threshold_scaling': 1.0,\n",
    "    'max_overlap': 0.75,\n",
    "    'high_pass': 100.0,\n",
    "    'inner_neuropil_radius': 2,\n",
    "    'min_neuropil_pixels': 350,\n",
    "    'allow_overlap': False,\n",
    "    'chan2_thres': 0.65,\n",
    "    'baseline': 'maximin',\n",
    "    'win_baseline': 60.0,\n",
    "    'sig_baseline': 10.0,\n",
    "    'prctile_baseline': 8.0,\n",
    "    'neucoeff': 0.7,\n",
    "    'xrange': np.array([0, 0]),\n",
    "    'yrange': np.array([0, 0])}\n",
    "\n",
    "\n",
    "imaging_element.ProcessingParamSet.insert_new_params(\n",
    "    'suite2p', 0, 'Calcium imaging analysis with Suite2p using default Suite2p parameters', pars)"
   ]
  },
  {
   "cell_type": "code",
   "execution_count": null,
   "metadata": {},
   "outputs": [],
   "source": [
    "imaging_element.ProcessingParamSet()"
   ]
  },
  {
   "cell_type": "code",
   "execution_count": null,
   "metadata": {},
   "outputs": [],
   "source": [
    "# ingest into the table ProcessingTask\n",
    "scan_key = scan_element.Scan().fetch('KEY', limit=1)[0]\n",
    "imaging_element.ProcessingTask.insert1(\n",
    "    dict(**scan_key, paramset_idx=0), skip_duplicates=True)\n",
    "imaging_element.ProcessingTask()"
   ]
  },
  {
   "cell_type": "code",
   "execution_count": null,
   "metadata": {},
   "outputs": [],
   "source": [
    "# ingest suite2p outcomes\n",
    "imaging_element.Processing.populate(display_progress=True)"
   ]
  },
  {
   "cell_type": "code",
   "execution_count": null,
   "metadata": {},
   "outputs": [],
   "source": []
  }
 ],
 "metadata": {
  "kernelspec": {
   "display_name": "Python 3.7.0 64-bit ('imaging_element': conda)",
   "language": "python",
   "name": "python37064bitimagingelementcondadd2fb584753c4f0e9762cb4d422354bb"
  },
  "language_info": {
   "codemirror_mode": {
    "name": "ipython",
    "version": 3
   },
   "file_extension": ".py",
   "mimetype": "text/x-python",
   "name": "python",
   "nbconvert_exporter": "python",
   "pygments_lexer": "ipython3",
   "version": "3.7.0"
  }
 },
 "nbformat": 4,
 "nbformat_minor": 2
}
