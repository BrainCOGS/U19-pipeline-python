{
 "metadata": {
  "language_info": {
   "codemirror_mode": {
    "name": "ipython",
    "version": 3
   },
   "file_extension": ".py",
   "mimetype": "text/x-python",
   "name": "python",
   "nbconvert_exporter": "python",
   "pygments_lexer": "ipython3",
   "version": "3.7.0-final"
  },
  "orig_nbformat": 2,
  "kernelspec": {
   "name": "python37064bitimagingelementcondadd2fb584753c4f0e9762cb4d422354bb",
   "display_name": "Python 3.7.0 64-bit ('imaging_element': conda)",
   "language": "python"
  }
 },
 "nbformat": 4,
 "nbformat_minor": 2,
 "cells": [
  {
   "cell_type": "code",
   "execution_count": 5,
   "metadata": {},
   "outputs": [],
   "source": [
    "import datajoint as dj\n",
    "import numpy as np"
   ]
  },
  {
   "cell_type": "code",
   "execution_count": 2,
   "metadata": {},
   "outputs": [],
   "source": [
    "dj.config['enable_python_native_blobs'] = True"
   ]
  },
  {
   "cell_type": "code",
   "execution_count": 3,
   "metadata": {},
   "outputs": [],
   "source": [
    "from u19_pipeline.imaging_element import imaging_element, scan_element"
   ]
  },
  {
   "cell_type": "code",
   "execution_count": 8,
   "metadata": {},
   "outputs": [
    {
     "output_type": "error",
     "ename": "NameError",
     "evalue": "name 'array' is not defined",
     "traceback": [
      "\u001b[0;31m---------------------------------------------------------------------------\u001b[0m",
      "\u001b[0;31mNameError\u001b[0m                                 Traceback (most recent call last)",
      "\u001b[0;32m<ipython-input-8-66b04d90c91a>\u001b[0m in \u001b[0;36m<module>\u001b[0;34m\u001b[0m\n\u001b[1;32m     58\u001b[0m  \u001b[0;34m'prctile_baseline'\u001b[0m\u001b[0;34m:\u001b[0m \u001b[0;36m8.0\u001b[0m\u001b[0;34m,\u001b[0m\u001b[0;34m\u001b[0m\u001b[0m\n\u001b[1;32m     59\u001b[0m  \u001b[0;34m'neucoeff'\u001b[0m\u001b[0;34m:\u001b[0m \u001b[0;36m0.7\u001b[0m\u001b[0;34m,\u001b[0m\u001b[0;34m\u001b[0m\u001b[0m\n\u001b[0;32m---> 60\u001b[0;31m  \u001b[0;34m'xrange'\u001b[0m\u001b[0;34m:\u001b[0m \u001b[0marray\u001b[0m\u001b[0;34m(\u001b[0m\u001b[0;34m[\u001b[0m\u001b[0;36m0\u001b[0m\u001b[0;34m,\u001b[0m \u001b[0;36m0\u001b[0m\u001b[0;34m]\u001b[0m\u001b[0;34m)\u001b[0m\u001b[0;34m,\u001b[0m\u001b[0;34m\u001b[0m\u001b[0m\n\u001b[0m\u001b[1;32m     61\u001b[0m  'yrange': array([0, 0])}\n\u001b[1;32m     62\u001b[0m imaging_element.ProcessingParamSet.insert_new_params(\n",
      "\u001b[0;31mNameError\u001b[0m: name 'array' is not defined"
     ]
    }
   ],
   "source": [
    "pars = {'look_one_level_down': 0.0,\n",
    " 'fast_disk': [],\n",
    " 'delete_bin': False,\n",
    " 'mesoscan': False,\n",
    " 'h5py': [],\n",
    " 'h5py_key': 'data',\n",
    " 'save_path0': [],\n",
    " 'subfolders': [],\n",
    " 'nplanes': 1,\n",
    " 'nchannels': 1,\n",
    " 'functional_chan': 1,\n",
    " 'tau': 1.0,\n",
    " 'fs': 10.0,\n",
    " 'force_sktiff': False,\n",
    " 'preclassify': 0.0,\n",
    " 'save_mat': False,\n",
    " 'combined': True,\n",
    " 'aspect': 1.0,\n",
    " 'do_bidiphase': False,\n",
    " 'bidiphase': 0.0,\n",
    " 'do_registration': True,\n",
    " 'keep_movie_raw': False,\n",
    " 'nimg_init': 300,\n",
    " 'batch_size': 500,\n",
    " 'maxregshift': 0.1,\n",
    " 'align_by_chan': 1,\n",
    " 'reg_tif': False,\n",
    " 'reg_tif_chan2': False,\n",
    " 'subpixel': 10,\n",
    " 'smooth_sigma': 1.15,\n",
    " 'th_badframes': 1.0,\n",
    " 'pad_fft': False,\n",
    " 'nonrigid': True,\n",
    " 'block_size': [128, 128],\n",
    " 'snr_thresh': 1.2,\n",
    " 'maxregshiftNR': 5.0,\n",
    " '1Preg': False,\n",
    " 'spatial_hp': 50.0,\n",
    " 'pre_smooth': 2.0,\n",
    " 'spatial_taper': 50.0,\n",
    " 'roidetect': True,\n",
    " 'sparse_mode': False,\n",
    " 'diameter': 12,\n",
    " 'spatial_scale': 0,\n",
    " 'connected': True,\n",
    " 'nbinned': 5000,\n",
    " 'max_iterations': 20,\n",
    " 'threshold_scaling': 1.0,\n",
    " 'max_overlap': 0.75,\n",
    " 'high_pass': 100.0,\n",
    " 'inner_neuropil_radius': 2,\n",
    " 'min_neuropil_pixels': 350,\n",
    " 'allow_overlap': False,\n",
    " 'chan2_thres': 0.65,\n",
    " 'baseline': 'maximin',\n",
    " 'win_baseline': 60.0,\n",
    " 'sig_baseline': 10.0,\n",
    " 'prctile_baseline': 8.0,\n",
    " 'neucoeff': 0.7,\n",
    " 'xrange': np.array([0, 0]),\n",
    " 'yrange': np.array([0, 0])}\n",
    "imaging_element.ProcessingParamSet.insert_new_params(\n",
    "    'suite2p', 0, 'Calcium imaging analysis with Suite2p using default Suite2p parameters', pars)"
   ]
  },
  {
   "cell_type": "code",
   "execution_count": null,
   "metadata": {},
   "outputs": [],
   "source": []
  }
 ]
}