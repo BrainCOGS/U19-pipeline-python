{
 "cells": [
  {
   "cell_type": "markdown",
   "metadata": {},
   "source": [
    "# Run imaging element workflow"
   ]
  },
  {
   "cell_type": "markdown",
   "metadata": {},
   "source": [
    "This notebook walks you through the steps to run the ephys workflow.  \n",
    "The workflow requires tiff files collected from scanimage acquisition software and the output data of either CaImAn or Suite2p.  \n",
    "A typical organization of the files is as follows:  \n",
    "\n",
    "```\n",
    "imaging_root_data_dir/\n",
    "└───<subject1>/                     # Subject name in `subjects.csv`\n",
    "│   └───<session0>/                 # Session directory in `sessions.csv`\n",
    "│   │   │   scan_0001.tif\n",
    "│   │   │   scan_0002.tif\n",
    "│   │   │   scan_0003.tif\n",
    "│   │   │   ...\n",
    "│   │   └───suite2p/\n",
    "│   │       │   ops1.npy\n",
    "│   │       └───plane0/\n",
    "│   │       │   │   ops.npy\n",
    "│   │       │   │   spks.npy\n",
    "│   │       │   │   stat.npy\n",
    "│   │       │   │   ...\n",
    "│   │       └───plane1/\n",
    "│   │           │   ops.npy\n",
    "│   │           │   spks.npy\n",
    "│   │           │   stat.npy\n",
    "│   │           │   ...\n",
    "│   │   └───caiman/\n",
    "│   │       │   analysis_results.hdf5\n",
    "│   └───<session1>/                 # Session directory in `sessions.csv`\n",
    "│   │   │   scan_0001.tif\n",
    "│   │   │   scan_0002.tif\n",
    "│   │   │   ...\n",
    "└───<subject2>/                     # Subject name in `subjects.csv`\n",
    "│   │   ...\n",
    "```\n",
    "\n",
    "\n",
    "\n",
    "Let's start by importing the relevant modules."
   ]
  },
  {
   "cell_type": "markdown",
   "metadata": {},
   "source": [
    "### Check configuration file"
   ]
  },
  {
   "cell_type": "code",
   "execution_count": 1,
   "metadata": {},
   "outputs": [
    {
     "name": "stdout",
     "output_type": "stream",
     "text": [
      "Local configuration file found !!, no need to run the configuration (unless configuration has changed)\n"
     ]
    }
   ],
   "source": [
    "from scripts.conf_file_finding import try_find_conf_file\n",
    "try_find_conf_file()"
   ]
  },
  {
   "cell_type": "markdown",
   "metadata": {},
   "source": [
    "If configuration not found run the configuration notebook:\n",
    "[00-Set-up-configuration](00-Set-up-configuration.ipynb) "
   ]
  },
  {
   "cell_type": "code",
   "execution_count": 2,
   "metadata": {},
   "outputs": [
    {
     "name": "stdout",
     "output_type": "stream",
     "text": [
      "Connecting alvaros@datajoint00.pni.princeton.edu:3306\n"
     ]
    }
   ],
   "source": [
    "import os \n",
    "import datajoint as dj\n",
    "import numpy as np\n",
    "from u19_pipeline import imaging, acquisition, subject\n",
    "from u19_pipeline.imaging_element import imaging_element, scan_element\n",
    "from u19_pipeline.ingest.imaging_element_ingest import process_scan\n",
    "import pathlib"
   ]
  },
  {
   "cell_type": "markdown",
   "metadata": {},
   "source": [
    "The module imaging_element contains all the tables designed in the DataJoint imaging element, we could draw the diagram to see the schema structures"
   ]
  },
  {
   "cell_type": "code",
   "execution_count": null,
   "metadata": {},
   "outputs": [],
   "source": [
    "dj.Diagram(acquisition.Session) + dj.Diagram(scan_element) + dj.Diagram(imaging_element)"
   ]
  },
  {
   "cell_type": "markdown",
   "metadata": {},
   "source": [
    "# Ingest into table `scan_element.Scan`"
   ]
  },
  {
   "cell_type": "markdown",
   "metadata": {},
   "source": [
    "In the U19 pipeline, we have a table `imaging.Scan` that stores the scan information, in the imaging element, there are native scan tables to take care of the Scan meta information. We provided a function `u19_pipeline.ingest_imaging_element_ingest.process_scan` that ingest into table `scan_element.Scan` using information in the existing pipeline, for example the path to the tiff files."
   ]
  },
  {
   "cell_type": "code",
   "execution_count": 3,
   "metadata": {},
   "outputs": [
    {
     "data": {
      "text/plain": [
       "{'subject_fullname': 'testuser_imaging_pipe1',\n",
       " 'session_date': datetime.date(2021, 3, 2),\n",
       " 'session_number': 0}"
      ]
     },
     "execution_count": 3,
     "metadata": {},
     "output_type": "execute_result"
    }
   ],
   "source": [
    "subject = 'testuser_imaging_pipe1'\n",
    "date = '2021-03-02'\n",
    "\n",
    "key = (imaging.Scan & dict(session_date =date, subject_fullname=subject)).fetch1('KEY')\n",
    "key"
   ]
  },
  {
   "cell_type": "code",
   "execution_count": 5,
   "metadata": {},
   "outputs": [],
   "source": [
    "process_scan(key)"
   ]
  },
  {
   "cell_type": "code",
   "execution_count": 4,
   "metadata": {},
   "outputs": [
    {
     "name": "stdout",
     "output_type": "stream",
     "text": [
      "Deleting 3 rows from `u19_imaging_element`.`_motion_correction__summary`\n",
      "Deleting 3 rows from `u19_scan_element`.`_scan_info__field`\n",
      "Deleting 57 rows from `u19_scan_element`.`_scan_info__scan_file`\n",
      "Deleting 3 rows from `u19_scan_element`.`_scan_info`\n",
      "Commit deletes? [yes, No]: yes\n",
      "Deletes committed.\n"
     ]
    },
    {
     "data": {
      "text/plain": [
       "3"
      ]
     },
     "execution_count": 4,
     "metadata": {},
     "output_type": "execute_result"
    }
   ],
   "source": [
    "(scan_element.ScanInfo & key).delete()"
   ]
  },
  {
   "cell_type": "code",
   "execution_count": 6,
   "metadata": {},
   "outputs": [
    {
     "name": "stderr",
     "output_type": "stream",
     "text": [
      "ScanInfo: 100%|██████████| 3/3 [16:26<00:00, 328.76s/it]\n"
     ]
    }
   ],
   "source": [
    "scan_element.ScanInfo.populate(key, display_progress=True)"
   ]
  },
  {
   "cell_type": "markdown",
   "metadata": {},
   "source": [
    "# Process Suite2p output"
   ]
  },
  {
   "cell_type": "markdown",
   "metadata": {},
   "source": [
    "We are then able to process the Suite2p output. \n",
    "To do that, we need to ingest into several manual tables for Suite2p."
   ]
  },
  {
   "cell_type": "markdown",
   "metadata": {},
   "source": [
    "## Ingest into ProcessingParamSet for Suite2p"
   ]
  },
  {
   "cell_type": "code",
   "execution_count": 8,
   "metadata": {},
   "outputs": [],
   "source": [
    "# ingest parameters for Suite2p\n",
    "pars = {\n",
    "    'look_one_level_down': 0.0,\n",
    "    'fast_disk': [],\n",
    "    'delete_bin': False,\n",
    "    'mesoscan': False,\n",
    "    'h5py': [],\n",
    "    'h5py_key': 'data',\n",
    "    'save_path0': [],\n",
    "    'subfolders': [],\n",
    "    'nplanes': 1,\n",
    "    'nchannels': 1,\n",
    "    'functional_chan': 1,\n",
    "    'tau': 1.0,\n",
    "    'fs': 10.0,\n",
    "    'force_sktiff': False,\n",
    "    'preclassify': 0.0,\n",
    "    'save_mat': False,\n",
    "    'combined': True,\n",
    "    'aspect': 1.0,\n",
    "    'do_bidiphase': False,\n",
    "    'bidiphase': 0.0,\n",
    "    'do_registration': True,\n",
    "    'keep_movie_raw': False,\n",
    "    'nimg_init': 300,\n",
    "    'batch_size': 500,\n",
    "    'maxregshift': 0.1,\n",
    "    'align_by_chan': 1,\n",
    "    'reg_tif': False,\n",
    "    'reg_tif_chan2': False,\n",
    "    'subpixel': 10,\n",
    "    'smooth_sigma': 1.15,\n",
    "    'th_badframes': 1.0,\n",
    "    'pad_fft': False,\n",
    "    'nonrigid': True,\n",
    "    'block_size': [128, 128],\n",
    "    'snr_thresh': 1.2,\n",
    "    'maxregshiftNR': 5.0,\n",
    "    '1Preg': False,\n",
    "    'spatial_hp': 50.0,\n",
    "    'pre_smooth': 2.0,\n",
    "    'spatial_taper': 50.0,\n",
    "    'roidetect': True,\n",
    "    'sparse_mode': False,\n",
    "    'diameter': 12,\n",
    "    'spatial_scale': 0,\n",
    "    'connected': True,\n",
    "    'nbinned': 5000,\n",
    "    'max_iterations': 20,\n",
    "    'threshold_scaling': 1.0,\n",
    "    'max_overlap': 0.75,\n",
    "    'high_pass': 100.0,\n",
    "    'inner_neuropil_radius': 2,\n",
    "    'min_neuropil_pixels': 350,\n",
    "    'allow_overlap': False,\n",
    "    'chan2_thres': 0.65,\n",
    "    'baseline': 'maximin',\n",
    "    'win_baseline': 60.0,\n",
    "    'sig_baseline': 10.0,\n",
    "    'prctile_baseline': 8.0,\n",
    "    'neucoeff': 0.7,\n",
    "    'xrange': np.array([0, 0]),\n",
    "    'yrange': np.array([0, 0])}\n",
    "\n",
    "\n",
    "imaging_element.ProcessingParamSet.insert_new_params(\n",
    "    'suite2p', 0, 'Calcium imaging analysis with Suite2p using default Suite2p parameters', pars)"
   ]
  },
  {
   "cell_type": "code",
   "execution_count": 9,
   "metadata": {},
   "outputs": [
    {
     "data": {
      "text/html": [
       "\n",
       "    \n",
       "    <style type=\"text/css\">\n",
       "        .Relation{\n",
       "            border-collapse:collapse;\n",
       "        }\n",
       "        .Relation th{\n",
       "            background: #A0A0A0; color: #ffffff; padding:4px; border:#f0e0e0 1px solid;\n",
       "            font-weight: normal; font-family: monospace; font-size: 100%;\n",
       "        }\n",
       "        .Relation td{\n",
       "            padding:4px; border:#f0e0e0 1px solid; font-size:100%;\n",
       "        }\n",
       "        .Relation tr:nth-child(odd){\n",
       "            background: #ffffff;\n",
       "        }\n",
       "        .Relation tr:nth-child(even){\n",
       "            background: #f3f1ff;\n",
       "        }\n",
       "        /* Tooltip container */\n",
       "        .djtooltip {\n",
       "        }\n",
       "        /* Tooltip text */\n",
       "        .djtooltip .djtooltiptext {\n",
       "            visibility: hidden;\n",
       "            width: 120px;\n",
       "            background-color: black;\n",
       "            color: #fff;\n",
       "            text-align: center;\n",
       "            padding: 5px 0;\n",
       "            border-radius: 6px;\n",
       "            /* Position the tooltip text - see examples below! */\n",
       "            position: absolute;\n",
       "            z-index: 1;\n",
       "        }\n",
       "        #primary {\n",
       "            font-weight: bold;\n",
       "            color: black;\n",
       "        }\n",
       "        #nonprimary {\n",
       "            font-weight: normal;\n",
       "            color: white;\n",
       "        }\n",
       "\n",
       "        /* Show the tooltip text when you mouse over the tooltip container */\n",
       "        .djtooltip:hover .djtooltiptext {\n",
       "            visibility: visible;\n",
       "        }\n",
       "    </style>\n",
       "    \n",
       "    <b></b>\n",
       "        <div style=\"max-height:1000px;max-width:1500px;overflow:auto;\">\n",
       "        <table border=\"1\" class=\"Relation\">\n",
       "            <thead> <tr style=\"text-align: right;\"> <th> <div class=\"djtooltip\">\n",
       "                            <p id=\"primary\">paramset_idx</p>\n",
       "                            <span class=\"djtooltiptext\"></span>\n",
       "                        </div></th><th><div class=\"djtooltip\">\n",
       "                            <p id=\"nonprimary\">processing_method</p>\n",
       "                            <span class=\"djtooltiptext\"></span>\n",
       "                        </div></th><th><div class=\"djtooltip\">\n",
       "                            <p id=\"nonprimary\">paramset_desc</p>\n",
       "                            <span class=\"djtooltiptext\"></span>\n",
       "                        </div></th><th><div class=\"djtooltip\">\n",
       "                            <p id=\"nonprimary\">param_set_hash</p>\n",
       "                            <span class=\"djtooltiptext\"></span>\n",
       "                        </div></th><th><div class=\"djtooltip\">\n",
       "                            <p id=\"nonprimary\">params</p>\n",
       "                            <span class=\"djtooltiptext\">dictionary of all applicable parameters</span>\n",
       "                        </div> </th> </tr> </thead>\n",
       "            <tbody> <tr> <td>0</td>\n",
       "<td>suite2p</td>\n",
       "<td>Calcium imaging analysis with Suite2p using default Suite2p parameters</td>\n",
       "<td>be32de46-f21d-d714-d131-ec89817de806</td>\n",
       "<td>=BLOB=</td> </tr> </tbody>\n",
       "        </table>\n",
       "        \n",
       "        <p>Total: 1</p></div>\n",
       "        "
      ],
      "text/plain": [
       "*paramset_idx  processing_met paramset_desc  param_set_hash params    \n",
       "+------------+ +------------+ +------------+ +------------+ +--------+\n",
       "0              suite2p        Calcium imagin be32de46-f21d- =BLOB=    \n",
       " (Total: 1)"
      ]
     },
     "execution_count": 9,
     "metadata": {},
     "output_type": "execute_result"
    }
   ],
   "source": [
    "imaging_element.ProcessingParamSet()"
   ]
  },
  {
   "cell_type": "markdown",
   "metadata": {},
   "source": [
    "## Ingest into ProcessingTask"
   ]
  },
  {
   "cell_type": "markdown",
   "metadata": {},
   "source": [
    "Then ingest into the table ProcessingTask, this table serves as a mark when a Suite2p session is done. The field `processing_output_dir` is the directory that contains the Suite2p output. In the future release of imaging element, this table serves as a manual trigger to run Suite2p and `processing_output_dir` will be the target directory that saves the output."
   ]
  },
  {
   "cell_type": "code",
   "execution_count": 11,
   "metadata": {},
   "outputs": [
    {
     "data": {
      "text/html": [
       "\n",
       "    \n",
       "    <style type=\"text/css\">\n",
       "        .Relation{\n",
       "            border-collapse:collapse;\n",
       "        }\n",
       "        .Relation th{\n",
       "            background: #A0A0A0; color: #ffffff; padding:4px; border:#f0e0e0 1px solid;\n",
       "            font-weight: normal; font-family: monospace; font-size: 100%;\n",
       "        }\n",
       "        .Relation td{\n",
       "            padding:4px; border:#f0e0e0 1px solid; font-size:100%;\n",
       "        }\n",
       "        .Relation tr:nth-child(odd){\n",
       "            background: #ffffff;\n",
       "        }\n",
       "        .Relation tr:nth-child(even){\n",
       "            background: #f3f1ff;\n",
       "        }\n",
       "        /* Tooltip container */\n",
       "        .djtooltip {\n",
       "        }\n",
       "        /* Tooltip text */\n",
       "        .djtooltip .djtooltiptext {\n",
       "            visibility: hidden;\n",
       "            width: 120px;\n",
       "            background-color: black;\n",
       "            color: #fff;\n",
       "            text-align: center;\n",
       "            padding: 5px 0;\n",
       "            border-radius: 6px;\n",
       "            /* Position the tooltip text - see examples below! */\n",
       "            position: absolute;\n",
       "            z-index: 1;\n",
       "        }\n",
       "        #primary {\n",
       "            font-weight: bold;\n",
       "            color: black;\n",
       "        }\n",
       "        #nonprimary {\n",
       "            font-weight: normal;\n",
       "            color: white;\n",
       "        }\n",
       "\n",
       "        /* Show the tooltip text when you mouse over the tooltip container */\n",
       "        .djtooltip:hover .djtooltiptext {\n",
       "            visibility: visible;\n",
       "        }\n",
       "    </style>\n",
       "    \n",
       "    <b></b>\n",
       "        <div style=\"max-height:1000px;max-width:1500px;overflow:auto;\">\n",
       "        <table border=\"1\" class=\"Relation\">\n",
       "            <thead> <tr style=\"text-align: right;\"> <th> <div class=\"djtooltip\">\n",
       "                            <p id=\"primary\">subject_fullname</p>\n",
       "                            <span class=\"djtooltiptext\">username_mouse_nickname</span>\n",
       "                        </div></th><th><div class=\"djtooltip\">\n",
       "                            <p id=\"primary\">session_date</p>\n",
       "                            <span class=\"djtooltiptext\">date of experiment</span>\n",
       "                        </div></th><th><div class=\"djtooltip\">\n",
       "                            <p id=\"primary\">session_number</p>\n",
       "                            <span class=\"djtooltiptext\">number</span>\n",
       "                        </div></th><th><div class=\"djtooltip\">\n",
       "                            <p id=\"primary\">scan_id</p>\n",
       "                            <span class=\"djtooltiptext\"></span>\n",
       "                        </div></th><th><div class=\"djtooltip\">\n",
       "                            <p id=\"primary\">paramset_idx</p>\n",
       "                            <span class=\"djtooltiptext\"></span>\n",
       "                        </div></th><th><div class=\"djtooltip\">\n",
       "                            <p id=\"nonprimary\">processing_output_dir</p>\n",
       "                            <span class=\"djtooltiptext\">output directory of the processed scan relative to root data directory</span>\n",
       "                        </div></th><th><div class=\"djtooltip\">\n",
       "                            <p id=\"nonprimary\">task_mode</p>\n",
       "                            <span class=\"djtooltiptext\">'load': load computed analysis results, 'trigger': trigger computation</span>\n",
       "                        </div> </th> </tr> </thead>\n",
       "            <tbody> <tr> <td>testuser_imaging_pipe1</td>\n",
       "<td>2021-03-02</td>\n",
       "<td>0</td>\n",
       "<td>1</td>\n",
       "<td>0</td>\n",
       "<td>imaging_pipe1/20210302/ROI01_z1/suite2p/</td>\n",
       "<td>load</td></tr><tr><td>testuser_imaging_pipe1</td>\n",
       "<td>2021-03-02</td>\n",
       "<td>0</td>\n",
       "<td>2</td>\n",
       "<td>0</td>\n",
       "<td>imaging_pipe1/20210302/ROI02_z1/suite2p/</td>\n",
       "<td>load</td></tr><tr><td>testuser_imaging_pipe1</td>\n",
       "<td>2021-03-02</td>\n",
       "<td>0</td>\n",
       "<td>3</td>\n",
       "<td>0</td>\n",
       "<td>imaging_pipe1/20210302/ROI03_z1/suite2p/</td>\n",
       "<td>load</td> </tr> </tbody>\n",
       "        </table>\n",
       "        \n",
       "        <p>Total: 3</p></div>\n",
       "        "
      ],
      "text/plain": [
       "*subject_fulln *session_date  *session_numbe *scan_id    *paramset_idx  processing_out task_mode    \n",
       "+------------+ +------------+ +------------+ +---------+ +------------+ +------------+ +-----------+\n",
       "testuser_imagi 2021-03-02     0              1           0              imaging_pipe1/ load         \n",
       "testuser_imagi 2021-03-02     0              2           0              imaging_pipe1/ load         \n",
       "testuser_imagi 2021-03-02     0              3           0              imaging_pipe1/ load         \n",
       " (Total: 3)"
      ]
     },
     "execution_count": 11,
     "metadata": {},
     "output_type": "execute_result"
    }
   ],
   "source": [
    "scan_keys = (scan_element.Scan & key).fetch('KEY')\n",
    "for scan_key in scan_keys:\n",
    "    session_key = (acquisition.Session & scan_key).fetch1('KEY')\n",
    "    scan_dir =(imaging.FieldOfView & session_key & {'fov': scan_key['scan_id']}).fetch1('relative_fov_directory') \n",
    "    output_dir = scan_dir[1:] + 'suite2p/'\n",
    "    \n",
    "    imaging_element.ProcessingTask.insert1(dict(**scan_key, paramset_idx=0, processing_output_dir=output_dir), skip_duplicates=True)\n",
    "\n",
    "imaging_element.ProcessingTask() & key"
   ]
  },
  {
   "cell_type": "markdown",
   "metadata": {},
   "source": [
    "Then we are able to populate table `Processing`, `Processing` table is currently just confirming the existence of the suite2p (or caiman) outputs. In future releases, it will be table that call Suite2p processing."
   ]
  },
  {
   "cell_type": "code",
   "execution_count": 12,
   "metadata": {},
   "outputs": [
    {
     "name": "stderr",
     "output_type": "stream",
     "text": [
      "Processing: 100%|██████████| 3/3 [00:00<00:00, 28.38it/s]\n"
     ]
    }
   ],
   "source": [
    "imaging_element.Processing.populate(display_progress=True)"
   ]
  },
  {
   "cell_type": "code",
   "execution_count": 13,
   "metadata": {},
   "outputs": [
    {
     "data": {
      "text/html": [
       "\n",
       "    \n",
       "    <style type=\"text/css\">\n",
       "        .Relation{\n",
       "            border-collapse:collapse;\n",
       "        }\n",
       "        .Relation th{\n",
       "            background: #A0A0A0; color: #ffffff; padding:4px; border:#f0e0e0 1px solid;\n",
       "            font-weight: normal; font-family: monospace; font-size: 100%;\n",
       "        }\n",
       "        .Relation td{\n",
       "            padding:4px; border:#f0e0e0 1px solid; font-size:100%;\n",
       "        }\n",
       "        .Relation tr:nth-child(odd){\n",
       "            background: #ffffff;\n",
       "        }\n",
       "        .Relation tr:nth-child(even){\n",
       "            background: #f3f1ff;\n",
       "        }\n",
       "        /* Tooltip container */\n",
       "        .djtooltip {\n",
       "        }\n",
       "        /* Tooltip text */\n",
       "        .djtooltip .djtooltiptext {\n",
       "            visibility: hidden;\n",
       "            width: 120px;\n",
       "            background-color: black;\n",
       "            color: #fff;\n",
       "            text-align: center;\n",
       "            padding: 5px 0;\n",
       "            border-radius: 6px;\n",
       "            /* Position the tooltip text - see examples below! */\n",
       "            position: absolute;\n",
       "            z-index: 1;\n",
       "        }\n",
       "        #primary {\n",
       "            font-weight: bold;\n",
       "            color: black;\n",
       "        }\n",
       "        #nonprimary {\n",
       "            font-weight: normal;\n",
       "            color: white;\n",
       "        }\n",
       "\n",
       "        /* Show the tooltip text when you mouse over the tooltip container */\n",
       "        .djtooltip:hover .djtooltiptext {\n",
       "            visibility: visible;\n",
       "        }\n",
       "    </style>\n",
       "    \n",
       "    <b></b>\n",
       "        <div style=\"max-height:1000px;max-width:1500px;overflow:auto;\">\n",
       "        <table border=\"1\" class=\"Relation\">\n",
       "            <thead> <tr style=\"text-align: right;\"> <th> <div class=\"djtooltip\">\n",
       "                            <p id=\"primary\">subject_fullname</p>\n",
       "                            <span class=\"djtooltiptext\">username_mouse_nickname</span>\n",
       "                        </div></th><th><div class=\"djtooltip\">\n",
       "                            <p id=\"primary\">session_date</p>\n",
       "                            <span class=\"djtooltiptext\">date of experiment</span>\n",
       "                        </div></th><th><div class=\"djtooltip\">\n",
       "                            <p id=\"primary\">session_number</p>\n",
       "                            <span class=\"djtooltiptext\">number</span>\n",
       "                        </div></th><th><div class=\"djtooltip\">\n",
       "                            <p id=\"primary\">scan_id</p>\n",
       "                            <span class=\"djtooltiptext\"></span>\n",
       "                        </div></th><th><div class=\"djtooltip\">\n",
       "                            <p id=\"primary\">paramset_idx</p>\n",
       "                            <span class=\"djtooltiptext\"></span>\n",
       "                        </div></th><th><div class=\"djtooltip\">\n",
       "                            <p id=\"nonprimary\">processing_time</p>\n",
       "                            <span class=\"djtooltiptext\">time of generation of this set of processed, segmented results</span>\n",
       "                        </div> </th> </tr> </thead>\n",
       "            <tbody> <tr> <td>emdiamanti_gps8</td>\n",
       "<td>2021-02-09</td>\n",
       "<td>0</td>\n",
       "<td>1</td>\n",
       "<td>0</td>\n",
       "<td>2021-02-28 00:05:59</td></tr><tr><td>emdiamanti_gps8</td>\n",
       "<td>2021-02-09</td>\n",
       "<td>0</td>\n",
       "<td>2</td>\n",
       "<td>0</td>\n",
       "<td>2021-02-28 01:11:46</td></tr><tr><td>emdiamanti_gps8</td>\n",
       "<td>2021-02-09</td>\n",
       "<td>0</td>\n",
       "<td>3</td>\n",
       "<td>0</td>\n",
       "<td>2021-02-28 01:54:13</td></tr><tr><td>emdiamanti_gps8</td>\n",
       "<td>2021-02-26</td>\n",
       "<td>0</td>\n",
       "<td>1</td>\n",
       "<td>0</td>\n",
       "<td>2021-02-28 16:11:35</td></tr><tr><td>emdiamanti_gps8</td>\n",
       "<td>2021-02-26</td>\n",
       "<td>0</td>\n",
       "<td>2</td>\n",
       "<td>0</td>\n",
       "<td>2021-02-28 16:46:11</td></tr><tr><td>emdiamanti_gps8</td>\n",
       "<td>2021-02-26</td>\n",
       "<td>0</td>\n",
       "<td>3</td>\n",
       "<td>0</td>\n",
       "<td>2021-02-28 17:20:57</td></tr><tr><td>emdiamanti_gps8</td>\n",
       "<td>2021-02-27</td>\n",
       "<td>0</td>\n",
       "<td>1</td>\n",
       "<td>0</td>\n",
       "<td>2021-02-28 14:42:18</td></tr><tr><td>emdiamanti_gps8</td>\n",
       "<td>2021-02-27</td>\n",
       "<td>0</td>\n",
       "<td>2</td>\n",
       "<td>0</td>\n",
       "<td>2021-02-28 15:11:13</td></tr><tr><td>emdiamanti_gps8</td>\n",
       "<td>2021-02-27</td>\n",
       "<td>0</td>\n",
       "<td>3</td>\n",
       "<td>0</td>\n",
       "<td>2021-02-28 15:39:44</td></tr><tr><td>testuser_imaging_pipe1</td>\n",
       "<td>2021-03-02</td>\n",
       "<td>0</td>\n",
       "<td>1</td>\n",
       "<td>0</td>\n",
       "<td>2021-03-11 11:54:10</td></tr><tr><td>testuser_imaging_pipe1</td>\n",
       "<td>2021-03-02</td>\n",
       "<td>0</td>\n",
       "<td>2</td>\n",
       "<td>0</td>\n",
       "<td>2021-03-11 11:54:34</td></tr><tr><td>testuser_imaging_pipe1</td>\n",
       "<td>2021-03-02</td>\n",
       "<td>0</td>\n",
       "<td>3</td>\n",
       "<td>0</td>\n",
       "<td>2021-03-11 11:55:00</td> </tr> </tbody>\n",
       "        </table>\n",
       "        \n",
       "        <p>Total: 12</p></div>\n",
       "        "
      ],
      "text/plain": [
       "*subject_fulln *session_date  *session_numbe *scan_id    *paramset_idx  processing_tim\n",
       "+------------+ +------------+ +------------+ +---------+ +------------+ +------------+\n",
       "emdiamanti_gps 2021-02-09     0              1           0              2021-02-28 00:\n",
       "emdiamanti_gps 2021-02-09     0              2           0              2021-02-28 01:\n",
       "emdiamanti_gps 2021-02-09     0              3           0              2021-02-28 01:\n",
       "emdiamanti_gps 2021-02-26     0              1           0              2021-02-28 16:\n",
       "emdiamanti_gps 2021-02-26     0              2           0              2021-02-28 16:\n",
       "emdiamanti_gps 2021-02-26     0              3           0              2021-02-28 17:\n",
       "emdiamanti_gps 2021-02-27     0              1           0              2021-02-28 14:\n",
       "emdiamanti_gps 2021-02-27     0              2           0              2021-02-28 15:\n",
       "emdiamanti_gps 2021-02-27     0              3           0              2021-02-28 15:\n",
       "testuser_imagi 2021-03-02     0              1           0              2021-03-11 11:\n",
       "testuser_imagi 2021-03-02     0              2           0              2021-03-11 11:\n",
       "testuser_imagi 2021-03-02     0              3           0              2021-03-11 11:\n",
       " (Total: 12)"
      ]
     },
     "execution_count": 13,
     "metadata": {},
     "output_type": "execute_result"
    }
   ],
   "source": [
    "imaging_element.Processing()"
   ]
  },
  {
   "cell_type": "markdown",
   "metadata": {},
   "source": [
    "# Insert new Curation following the ProcessingTask\n",
    "\n",
    "The next step in the pipeline is the curation of motion corection and segmentation results.\n",
    "\n",
    "+ If a manual curation was implemented, an entry needs to be manually inserted into the table `imaging_element.Curation`, which specifies the directory to the curated results in `curation_output_dir`.\n",
    "\n",
    "+ If we would like to use the processed outcome directly, an entry is also needed in `imaging_element.Curation`. A method `create1_from_processing_task` was provided to help this insertion. It copies the `processing_output_dir` in `imaging_element.ProcessingTask` to the field `curation_output_dir` in the table `imaging_element.Curation` with a new `curation_id`.\n",
    "\n",
    "In this example, we create/insert one `imaging_element.Curation` for each `imaging_element.ProcessingTask`, specifying the same output directory.\n",
    "\n",
    "To this end, we could also make use of a convenient function `imaging_element.Curation().create1_from_processing_task()`, taking a primary key from `Processing`"
   ]
  },
  {
   "cell_type": "code",
   "execution_count": 14,
   "metadata": {},
   "outputs": [],
   "source": [
    "processing_keys = imaging_element.Processing.fetch('KEY')\n",
    "for processing_key in processing_keys:\n",
    "    imaging_element.Curation().create1_from_processing_task(processing_key)"
   ]
  },
  {
   "cell_type": "code",
   "execution_count": 16,
   "metadata": {},
   "outputs": [
    {
     "data": {
      "text/html": [
       "\n",
       "    \n",
       "    <style type=\"text/css\">\n",
       "        .Relation{\n",
       "            border-collapse:collapse;\n",
       "        }\n",
       "        .Relation th{\n",
       "            background: #A0A0A0; color: #ffffff; padding:4px; border:#f0e0e0 1px solid;\n",
       "            font-weight: normal; font-family: monospace; font-size: 100%;\n",
       "        }\n",
       "        .Relation td{\n",
       "            padding:4px; border:#f0e0e0 1px solid; font-size:100%;\n",
       "        }\n",
       "        .Relation tr:nth-child(odd){\n",
       "            background: #ffffff;\n",
       "        }\n",
       "        .Relation tr:nth-child(even){\n",
       "            background: #f3f1ff;\n",
       "        }\n",
       "        /* Tooltip container */\n",
       "        .djtooltip {\n",
       "        }\n",
       "        /* Tooltip text */\n",
       "        .djtooltip .djtooltiptext {\n",
       "            visibility: hidden;\n",
       "            width: 120px;\n",
       "            background-color: black;\n",
       "            color: #fff;\n",
       "            text-align: center;\n",
       "            padding: 5px 0;\n",
       "            border-radius: 6px;\n",
       "            /* Position the tooltip text - see examples below! */\n",
       "            position: absolute;\n",
       "            z-index: 1;\n",
       "        }\n",
       "        #primary {\n",
       "            font-weight: bold;\n",
       "            color: black;\n",
       "        }\n",
       "        #nonprimary {\n",
       "            font-weight: normal;\n",
       "            color: white;\n",
       "        }\n",
       "\n",
       "        /* Show the tooltip text when you mouse over the tooltip container */\n",
       "        .djtooltip:hover .djtooltiptext {\n",
       "            visibility: visible;\n",
       "        }\n",
       "    </style>\n",
       "    \n",
       "    <b></b>\n",
       "        <div style=\"max-height:1000px;max-width:1500px;overflow:auto;\">\n",
       "        <table border=\"1\" class=\"Relation\">\n",
       "            <thead> <tr style=\"text-align: right;\"> <th> <div class=\"djtooltip\">\n",
       "                            <p id=\"primary\">subject_fullname</p>\n",
       "                            <span class=\"djtooltiptext\">username_mouse_nickname</span>\n",
       "                        </div></th><th><div class=\"djtooltip\">\n",
       "                            <p id=\"primary\">session_date</p>\n",
       "                            <span class=\"djtooltiptext\">date of experiment</span>\n",
       "                        </div></th><th><div class=\"djtooltip\">\n",
       "                            <p id=\"primary\">session_number</p>\n",
       "                            <span class=\"djtooltiptext\">number</span>\n",
       "                        </div></th><th><div class=\"djtooltip\">\n",
       "                            <p id=\"primary\">scan_id</p>\n",
       "                            <span class=\"djtooltiptext\"></span>\n",
       "                        </div></th><th><div class=\"djtooltip\">\n",
       "                            <p id=\"primary\">paramset_idx</p>\n",
       "                            <span class=\"djtooltiptext\"></span>\n",
       "                        </div></th><th><div class=\"djtooltip\">\n",
       "                            <p id=\"primary\">curation_id</p>\n",
       "                            <span class=\"djtooltiptext\"></span>\n",
       "                        </div></th><th><div class=\"djtooltip\">\n",
       "                            <p id=\"nonprimary\">curation_time</p>\n",
       "                            <span class=\"djtooltiptext\">time of generation of this set of curated results</span>\n",
       "                        </div></th><th><div class=\"djtooltip\">\n",
       "                            <p id=\"nonprimary\">curation_output_dir</p>\n",
       "                            <span class=\"djtooltiptext\">output directory of the curated results, relative to root data directory</span>\n",
       "                        </div></th><th><div class=\"djtooltip\">\n",
       "                            <p id=\"nonprimary\">manual_curation</p>\n",
       "                            <span class=\"djtooltiptext\">has manual curation been performed on this result?</span>\n",
       "                        </div></th><th><div class=\"djtooltip\">\n",
       "                            <p id=\"nonprimary\">curation_note</p>\n",
       "                            <span class=\"djtooltiptext\"></span>\n",
       "                        </div> </th> </tr> </thead>\n",
       "            <tbody> <tr> <td>testuser_imaging_pipe1</td>\n",
       "<td>2021-03-02</td>\n",
       "<td>0</td>\n",
       "<td>1</td>\n",
       "<td>0</td>\n",
       "<td>1</td>\n",
       "<td>2021-03-11 11:54:10</td>\n",
       "<td>imaging_pipe1/20210302/ROI01_z1/suite2p/</td>\n",
       "<td>0</td>\n",
       "<td></td></tr><tr><td>testuser_imaging_pipe1</td>\n",
       "<td>2021-03-02</td>\n",
       "<td>0</td>\n",
       "<td>2</td>\n",
       "<td>0</td>\n",
       "<td>1</td>\n",
       "<td>2021-03-11 11:54:34</td>\n",
       "<td>imaging_pipe1/20210302/ROI02_z1/suite2p/</td>\n",
       "<td>0</td>\n",
       "<td></td></tr><tr><td>testuser_imaging_pipe1</td>\n",
       "<td>2021-03-02</td>\n",
       "<td>0</td>\n",
       "<td>3</td>\n",
       "<td>0</td>\n",
       "<td>1</td>\n",
       "<td>2021-03-11 11:55:00</td>\n",
       "<td>imaging_pipe1/20210302/ROI03_z1/suite2p/</td>\n",
       "<td>0</td>\n",
       "<td></td> </tr> </tbody>\n",
       "        </table>\n",
       "        \n",
       "        <p>Total: 3</p></div>\n",
       "        "
      ],
      "text/plain": [
       "*subject_fulln *session_date  *session_numbe *scan_id    *paramset_idx  *curation_id   curation_time  curation_outpu manual_curatio curation_note \n",
       "+------------+ +------------+ +------------+ +---------+ +------------+ +------------+ +------------+ +------------+ +------------+ +------------+\n",
       "testuser_imagi 2021-03-02     0              1           0              1              2021-03-11 11: imaging_pipe1/ 0                            \n",
       "testuser_imagi 2021-03-02     0              2           0              1              2021-03-11 11: imaging_pipe1/ 0                            \n",
       "testuser_imagi 2021-03-02     0              3           0              1              2021-03-11 11: imaging_pipe1/ 0                            \n",
       " (Total: 3)"
      ]
     },
     "execution_count": 16,
     "metadata": {},
     "output_type": "execute_result"
    }
   ],
   "source": [
    "imaging_element.Curation() & key"
   ]
  },
  {
   "cell_type": "markdown",
   "metadata": {},
   "source": [
    "## Motion Correction"
   ]
  },
  {
   "cell_type": "code",
   "execution_count": 17,
   "metadata": {},
   "outputs": [
    {
     "name": "stderr",
     "output_type": "stream",
     "text": [
      "MotionCorrection: 100%|██████████| 12/12 [00:15<00:00,  1.33s/it]\n"
     ]
    }
   ],
   "source": [
    "imaging_element.MotionCorrection.populate(display_progress=True)"
   ]
  },
  {
   "cell_type": "code",
   "execution_count": 18,
   "metadata": {},
   "outputs": [
    {
     "data": {
      "text/html": [
       "\n",
       "    \n",
       "    <style type=\"text/css\">\n",
       "        .Relation{\n",
       "            border-collapse:collapse;\n",
       "        }\n",
       "        .Relation th{\n",
       "            background: #A0A0A0; color: #ffffff; padding:4px; border:#f0e0e0 1px solid;\n",
       "            font-weight: normal; font-family: monospace; font-size: 100%;\n",
       "        }\n",
       "        .Relation td{\n",
       "            padding:4px; border:#f0e0e0 1px solid; font-size:100%;\n",
       "        }\n",
       "        .Relation tr:nth-child(odd){\n",
       "            background: #ffffff;\n",
       "        }\n",
       "        .Relation tr:nth-child(even){\n",
       "            background: #f3f1ff;\n",
       "        }\n",
       "        /* Tooltip container */\n",
       "        .djtooltip {\n",
       "        }\n",
       "        /* Tooltip text */\n",
       "        .djtooltip .djtooltiptext {\n",
       "            visibility: hidden;\n",
       "            width: 120px;\n",
       "            background-color: black;\n",
       "            color: #fff;\n",
       "            text-align: center;\n",
       "            padding: 5px 0;\n",
       "            border-radius: 6px;\n",
       "            /* Position the tooltip text - see examples below! */\n",
       "            position: absolute;\n",
       "            z-index: 1;\n",
       "        }\n",
       "        #primary {\n",
       "            font-weight: bold;\n",
       "            color: black;\n",
       "        }\n",
       "        #nonprimary {\n",
       "            font-weight: normal;\n",
       "            color: white;\n",
       "        }\n",
       "\n",
       "        /* Show the tooltip text when you mouse over the tooltip container */\n",
       "        .djtooltip:hover .djtooltiptext {\n",
       "            visibility: visible;\n",
       "        }\n",
       "    </style>\n",
       "    \n",
       "    <b>Results of motion correction performed on the imaging data</b>\n",
       "        <div style=\"max-height:1000px;max-width:1500px;overflow:auto;\">\n",
       "        <table border=\"1\" class=\"Relation\">\n",
       "            <thead> <tr style=\"text-align: right;\"> <th> <div class=\"djtooltip\">\n",
       "                            <p id=\"primary\">subject_fullname</p>\n",
       "                            <span class=\"djtooltiptext\">username_mouse_nickname</span>\n",
       "                        </div></th><th><div class=\"djtooltip\">\n",
       "                            <p id=\"primary\">session_date</p>\n",
       "                            <span class=\"djtooltiptext\">date of experiment</span>\n",
       "                        </div></th><th><div class=\"djtooltip\">\n",
       "                            <p id=\"primary\">session_number</p>\n",
       "                            <span class=\"djtooltiptext\">number</span>\n",
       "                        </div></th><th><div class=\"djtooltip\">\n",
       "                            <p id=\"primary\">scan_id</p>\n",
       "                            <span class=\"djtooltiptext\"></span>\n",
       "                        </div></th><th><div class=\"djtooltip\">\n",
       "                            <p id=\"primary\">paramset_idx</p>\n",
       "                            <span class=\"djtooltiptext\"></span>\n",
       "                        </div></th><th><div class=\"djtooltip\">\n",
       "                            <p id=\"primary\">curation_id</p>\n",
       "                            <span class=\"djtooltiptext\"></span>\n",
       "                        </div></th><th><div class=\"djtooltip\">\n",
       "                            <p id=\"nonprimary\">motion_correct_channel</p>\n",
       "                            <span class=\"djtooltiptext\">0-based indexing</span>\n",
       "                        </div> </th> </tr> </thead>\n",
       "            <tbody> <tr> <td>testuser_imaging_pipe1</td>\n",
       "<td>2021-03-02</td>\n",
       "<td>0</td>\n",
       "<td>1</td>\n",
       "<td>0</td>\n",
       "<td>1</td>\n",
       "<td>0</td></tr><tr><td>testuser_imaging_pipe1</td>\n",
       "<td>2021-03-02</td>\n",
       "<td>0</td>\n",
       "<td>2</td>\n",
       "<td>0</td>\n",
       "<td>1</td>\n",
       "<td>0</td></tr><tr><td>testuser_imaging_pipe1</td>\n",
       "<td>2021-03-02</td>\n",
       "<td>0</td>\n",
       "<td>3</td>\n",
       "<td>0</td>\n",
       "<td>1</td>\n",
       "<td>0</td> </tr> </tbody>\n",
       "        </table>\n",
       "        \n",
       "        <p>Total: 3</p></div>\n",
       "        "
      ],
      "text/plain": [
       "*subject_fulln *session_date  *session_numbe *scan_id    *paramset_idx  *curation_id   motion_correct\n",
       "+------------+ +------------+ +------------+ +---------+ +------------+ +------------+ +------------+\n",
       "testuser_imagi 2021-03-02     0              1           0              1              0             \n",
       "testuser_imagi 2021-03-02     0              2           0              1              0             \n",
       "testuser_imagi 2021-03-02     0              3           0              1              0             \n",
       " (Total: 3)"
      ]
     },
     "execution_count": 18,
     "metadata": {},
     "output_type": "execute_result"
    }
   ],
   "source": [
    "imaging_element.MotionCorrection() & key"
   ]
  },
  {
   "cell_type": "markdown",
   "metadata": {},
   "source": [
    "## Process Segmentation result and downstream tables to extract Fluorescence and Activity"
   ]
  },
  {
   "cell_type": "code",
   "execution_count": 19,
   "metadata": {},
   "outputs": [
    {
     "name": "stderr",
     "output_type": "stream",
     "text": [
      "Segmentation: 100%|██████████| 12/12 [00:11<00:00,  1.07it/s]\n"
     ]
    }
   ],
   "source": [
    "imaging_element.Segmentation.populate(display_progress=True)"
   ]
  },
  {
   "cell_type": "code",
   "execution_count": 20,
   "metadata": {},
   "outputs": [
    {
     "name": "stderr",
     "output_type": "stream",
     "text": [
      "Fluorescence: 100%|██████████| 12/12 [03:51<00:00, 19.26s/it]\n"
     ]
    }
   ],
   "source": [
    "# This table drives the extraction of fluorescent traces of each mask\n",
    "imaging_element.Fluorescence.populate(display_progress=True)"
   ]
  },
  {
   "cell_type": "code",
   "execution_count": 22,
   "metadata": {},
   "outputs": [
    {
     "data": {
      "text/html": [
       "\n",
       "    \n",
       "    <style type=\"text/css\">\n",
       "        .Relation{\n",
       "            border-collapse:collapse;\n",
       "        }\n",
       "        .Relation th{\n",
       "            background: #A0A0A0; color: #ffffff; padding:4px; border:#f0e0e0 1px solid;\n",
       "            font-weight: normal; font-family: monospace; font-size: 100%;\n",
       "        }\n",
       "        .Relation td{\n",
       "            padding:4px; border:#f0e0e0 1px solid; font-size:100%;\n",
       "        }\n",
       "        .Relation tr:nth-child(odd){\n",
       "            background: #ffffff;\n",
       "        }\n",
       "        .Relation tr:nth-child(even){\n",
       "            background: #f3f1ff;\n",
       "        }\n",
       "        /* Tooltip container */\n",
       "        .djtooltip {\n",
       "        }\n",
       "        /* Tooltip text */\n",
       "        .djtooltip .djtooltiptext {\n",
       "            visibility: hidden;\n",
       "            width: 120px;\n",
       "            background-color: black;\n",
       "            color: #fff;\n",
       "            text-align: center;\n",
       "            padding: 5px 0;\n",
       "            border-radius: 6px;\n",
       "            /* Position the tooltip text - see examples below! */\n",
       "            position: absolute;\n",
       "            z-index: 1;\n",
       "        }\n",
       "        #primary {\n",
       "            font-weight: bold;\n",
       "            color: black;\n",
       "        }\n",
       "        #nonprimary {\n",
       "            font-weight: normal;\n",
       "            color: white;\n",
       "        }\n",
       "\n",
       "        /* Show the tooltip text when you mouse over the tooltip container */\n",
       "        .djtooltip:hover .djtooltiptext {\n",
       "            visibility: visible;\n",
       "        }\n",
       "    </style>\n",
       "    \n",
       "    <b></b>\n",
       "        <div style=\"max-height:1000px;max-width:1500px;overflow:auto;\">\n",
       "        <table border=\"1\" class=\"Relation\">\n",
       "            <thead> <tr style=\"text-align: right;\"> <th> <div class=\"djtooltip\">\n",
       "                            <p id=\"primary\">subject_fullname</p>\n",
       "                            <span class=\"djtooltiptext\">username_mouse_nickname</span>\n",
       "                        </div></th><th><div class=\"djtooltip\">\n",
       "                            <p id=\"primary\">session_date</p>\n",
       "                            <span class=\"djtooltiptext\">date of experiment</span>\n",
       "                        </div></th><th><div class=\"djtooltip\">\n",
       "                            <p id=\"primary\">session_number</p>\n",
       "                            <span class=\"djtooltiptext\">number</span>\n",
       "                        </div></th><th><div class=\"djtooltip\">\n",
       "                            <p id=\"primary\">scan_id</p>\n",
       "                            <span class=\"djtooltiptext\"></span>\n",
       "                        </div></th><th><div class=\"djtooltip\">\n",
       "                            <p id=\"primary\">paramset_idx</p>\n",
       "                            <span class=\"djtooltiptext\"></span>\n",
       "                        </div></th><th><div class=\"djtooltip\">\n",
       "                            <p id=\"primary\">curation_id</p>\n",
       "                            <span class=\"djtooltiptext\"></span>\n",
       "                        </div></th><th><div class=\"djtooltip\">\n",
       "                            <p id=\"primary\">mask</p>\n",
       "                            <span class=\"djtooltiptext\"></span>\n",
       "                        </div></th><th><div class=\"djtooltip\">\n",
       "                            <p id=\"primary\">fluo_channel</p>\n",
       "                            <span class=\"djtooltiptext\">0-based indexing</span>\n",
       "                        </div></th><th><div class=\"djtooltip\">\n",
       "                            <p id=\"nonprimary\">fluorescence</p>\n",
       "                            <span class=\"djtooltiptext\">fluorescence trace associated with this mask</span>\n",
       "                        </div></th><th><div class=\"djtooltip\">\n",
       "                            <p id=\"nonprimary\">neuropil_fluorescence</p>\n",
       "                            <span class=\"djtooltiptext\">Neuropil fluorescence trace</span>\n",
       "                        </div> </th> </tr> </thead>\n",
       "            <tbody> <tr> <td>testuser_imaging_pipe1</td>\n",
       "<td>2021-03-02</td>\n",
       "<td>0</td>\n",
       "<td>1</td>\n",
       "<td>0</td>\n",
       "<td>1</td>\n",
       "<td>0</td>\n",
       "<td>0</td>\n",
       "<td>=BLOB=</td>\n",
       "<td>=BLOB=</td></tr><tr><td>testuser_imaging_pipe1</td>\n",
       "<td>2021-03-02</td>\n",
       "<td>0</td>\n",
       "<td>1</td>\n",
       "<td>0</td>\n",
       "<td>1</td>\n",
       "<td>1</td>\n",
       "<td>0</td>\n",
       "<td>=BLOB=</td>\n",
       "<td>=BLOB=</td></tr><tr><td>testuser_imaging_pipe1</td>\n",
       "<td>2021-03-02</td>\n",
       "<td>0</td>\n",
       "<td>1</td>\n",
       "<td>0</td>\n",
       "<td>1</td>\n",
       "<td>2</td>\n",
       "<td>0</td>\n",
       "<td>=BLOB=</td>\n",
       "<td>=BLOB=</td></tr><tr><td>testuser_imaging_pipe1</td>\n",
       "<td>2021-03-02</td>\n",
       "<td>0</td>\n",
       "<td>1</td>\n",
       "<td>0</td>\n",
       "<td>1</td>\n",
       "<td>3</td>\n",
       "<td>0</td>\n",
       "<td>=BLOB=</td>\n",
       "<td>=BLOB=</td></tr><tr><td>testuser_imaging_pipe1</td>\n",
       "<td>2021-03-02</td>\n",
       "<td>0</td>\n",
       "<td>1</td>\n",
       "<td>0</td>\n",
       "<td>1</td>\n",
       "<td>4</td>\n",
       "<td>0</td>\n",
       "<td>=BLOB=</td>\n",
       "<td>=BLOB=</td></tr><tr><td>testuser_imaging_pipe1</td>\n",
       "<td>2021-03-02</td>\n",
       "<td>0</td>\n",
       "<td>1</td>\n",
       "<td>0</td>\n",
       "<td>1</td>\n",
       "<td>5</td>\n",
       "<td>0</td>\n",
       "<td>=BLOB=</td>\n",
       "<td>=BLOB=</td></tr><tr><td>testuser_imaging_pipe1</td>\n",
       "<td>2021-03-02</td>\n",
       "<td>0</td>\n",
       "<td>1</td>\n",
       "<td>0</td>\n",
       "<td>1</td>\n",
       "<td>6</td>\n",
       "<td>0</td>\n",
       "<td>=BLOB=</td>\n",
       "<td>=BLOB=</td></tr><tr><td>testuser_imaging_pipe1</td>\n",
       "<td>2021-03-02</td>\n",
       "<td>0</td>\n",
       "<td>1</td>\n",
       "<td>0</td>\n",
       "<td>1</td>\n",
       "<td>7</td>\n",
       "<td>0</td>\n",
       "<td>=BLOB=</td>\n",
       "<td>=BLOB=</td></tr><tr><td>testuser_imaging_pipe1</td>\n",
       "<td>2021-03-02</td>\n",
       "<td>0</td>\n",
       "<td>1</td>\n",
       "<td>0</td>\n",
       "<td>1</td>\n",
       "<td>8</td>\n",
       "<td>0</td>\n",
       "<td>=BLOB=</td>\n",
       "<td>=BLOB=</td></tr><tr><td>testuser_imaging_pipe1</td>\n",
       "<td>2021-03-02</td>\n",
       "<td>0</td>\n",
       "<td>1</td>\n",
       "<td>0</td>\n",
       "<td>1</td>\n",
       "<td>9</td>\n",
       "<td>0</td>\n",
       "<td>=BLOB=</td>\n",
       "<td>=BLOB=</td></tr><tr><td>testuser_imaging_pipe1</td>\n",
       "<td>2021-03-02</td>\n",
       "<td>0</td>\n",
       "<td>1</td>\n",
       "<td>0</td>\n",
       "<td>1</td>\n",
       "<td>10</td>\n",
       "<td>0</td>\n",
       "<td>=BLOB=</td>\n",
       "<td>=BLOB=</td></tr><tr><td>testuser_imaging_pipe1</td>\n",
       "<td>2021-03-02</td>\n",
       "<td>0</td>\n",
       "<td>1</td>\n",
       "<td>0</td>\n",
       "<td>1</td>\n",
       "<td>11</td>\n",
       "<td>0</td>\n",
       "<td>=BLOB=</td>\n",
       "<td>=BLOB=</td> </tr> </tbody>\n",
       "        </table>\n",
       "        <p>...</p>\n",
       "        <p>Total: 1507</p></div>\n",
       "        "
      ],
      "text/plain": [
       "*subject_fulln *session_date  *session_numbe *scan_id    *paramset_idx  *curation_id   *mask    *fluo_channel  fluorescen neuropil_f\n",
       "+------------+ +------------+ +------------+ +---------+ +------------+ +------------+ +------+ +------------+ +--------+ +--------+\n",
       "testuser_imagi 2021-03-02     0              1           0              1              0        0              =BLOB=     =BLOB=    \n",
       "testuser_imagi 2021-03-02     0              1           0              1              1        0              =BLOB=     =BLOB=    \n",
       "testuser_imagi 2021-03-02     0              1           0              1              2        0              =BLOB=     =BLOB=    \n",
       "testuser_imagi 2021-03-02     0              1           0              1              3        0              =BLOB=     =BLOB=    \n",
       "testuser_imagi 2021-03-02     0              1           0              1              4        0              =BLOB=     =BLOB=    \n",
       "testuser_imagi 2021-03-02     0              1           0              1              5        0              =BLOB=     =BLOB=    \n",
       "testuser_imagi 2021-03-02     0              1           0              1              6        0              =BLOB=     =BLOB=    \n",
       "testuser_imagi 2021-03-02     0              1           0              1              7        0              =BLOB=     =BLOB=    \n",
       "testuser_imagi 2021-03-02     0              1           0              1              8        0              =BLOB=     =BLOB=    \n",
       "testuser_imagi 2021-03-02     0              1           0              1              9        0              =BLOB=     =BLOB=    \n",
       "testuser_imagi 2021-03-02     0              1           0              1              10       0              =BLOB=     =BLOB=    \n",
       "testuser_imagi 2021-03-02     0              1           0              1              11       0              =BLOB=     =BLOB=    \n",
       "   ...\n",
       " (Total: 1507)"
      ]
     },
     "execution_count": 22,
     "metadata": {},
     "output_type": "execute_result"
    }
   ],
   "source": [
    "imaging_element.Fluorescence.Trace() & key"
   ]
  },
  {
   "cell_type": "code",
   "execution_count": 25,
   "metadata": {},
   "outputs": [
    {
     "name": "stderr",
     "output_type": "stream",
     "text": [
      "Activity: 0it [00:00, ?it/s]\n"
     ]
    }
   ],
   "source": [
    "# This table computes the activity such as df/f or deconvoluted inferred spikes\n",
    "imaging_element.Activity.populate(display_progress=True)"
   ]
  },
  {
   "cell_type": "markdown",
   "metadata": {},
   "source": [
    "## Visualize masks"
   ]
  },
  {
   "cell_type": "markdown",
   "metadata": {},
   "source": [
    "The segmented masks are in the table `imaging_element.Segmentation.Mask`"
   ]
  },
  {
   "cell_type": "code",
   "execution_count": null,
   "metadata": {},
   "outputs": [],
   "source": [
    "imaging_element.Segmentation.Mask()"
   ]
  },
  {
   "cell_type": "code",
   "execution_count": null,
   "metadata": {},
   "outputs": [],
   "source": [
    "scan_key = (scan_element.Scan & key).fetch('KEY')[0]"
   ]
  },
  {
   "cell_type": "code",
   "execution_count": null,
   "metadata": {},
   "outputs": [],
   "source": [
    "px_height, px_width = (scan_element.ScanInfo().Field & scan_key).fetch1('px_height', 'px_width')\n",
    "masks = (imaging_element.Segmentation.Mask & scan_key & 'curation_id=1').fetch()"
   ]
  },
  {
   "cell_type": "code",
   "execution_count": null,
   "metadata": {},
   "outputs": [],
   "source": [
    "img = np.full((px_height, px_width), np.nan)"
   ]
  },
  {
   "cell_type": "code",
   "execution_count": null,
   "metadata": {},
   "outputs": [],
   "source": [
    "for mask in masks:\n",
    "    img[mask['mask_xpix'], mask['mask_ypix']] = mask['mask_weights']"
   ]
  },
  {
   "cell_type": "code",
   "execution_count": null,
   "metadata": {},
   "outputs": [],
   "source": [
    "import matplotlib.pyplot as plt\n",
    "%matplotlib notebook"
   ]
  },
  {
   "cell_type": "code",
   "execution_count": null,
   "metadata": {},
   "outputs": [],
   "source": [
    "plt.imshow(img)"
   ]
  },
  {
   "cell_type": "code",
   "execution_count": null,
   "metadata": {},
   "outputs": [],
   "source": []
  }
 ],
 "metadata": {
  "kernelspec": {
   "display_name": "Python 3",
   "language": "python",
   "name": "python3"
  },
  "language_info": {
   "codemirror_mode": {
    "name": "ipython",
    "version": 3
   },
   "file_extension": ".py",
   "mimetype": "text/x-python",
   "name": "python",
   "nbconvert_exporter": "python",
   "pygments_lexer": "ipython3",
   "version": "3.7.10"
  }
 },
 "nbformat": 4,
 "nbformat_minor": 2
}
