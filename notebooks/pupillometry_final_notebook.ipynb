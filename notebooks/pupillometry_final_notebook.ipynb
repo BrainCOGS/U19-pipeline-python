{
 "cells": [
  {
   "attachments": {},
   "cell_type": "markdown",
   "metadata": {},
   "source": [
    "# Pupillometry data processing\n",
    "This notebook is intended to document the process to set up a pipeline for pupil diameter acquisition."
   ]
  },
  {
   "cell_type": "code",
   "execution_count": 1,
   "metadata": {},
   "outputs": [
    {
     "name": "stdout",
     "output_type": "stream",
     "text": [
      "Local configuration file found !!, no need to run the configuration (unless configuration has changed)\n"
     ]
    }
   ],
   "source": [
    "from scripts.conf_file_finding import try_find_conf_file\n",
    "try_find_conf_file()"
   ]
  },
  {
   "cell_type": "code",
   "execution_count": 2,
   "metadata": {},
   "outputs": [
    {
     "name": "stderr",
     "output_type": "stream",
     "text": [
      "/Users/alvaros/opt/anaconda3/envs/u19_datajoint_py39_env/lib/python3.9/site-packages/statsmodels/compat/pandas.py:65: FutureWarning: pandas.Int64Index is deprecated and will be removed from pandas in a future version. Use pandas.Index with the appropriate dtype instead.\n",
      "  from pandas import Int64Index as NumericIndex\n"
     ]
    },
    {
     "name": "stdout",
     "output_type": "stream",
     "text": [
      "DLC loaded in light mode; you cannot use any GUI (labeling, relabeling and standalone GUI)\n"
     ]
    },
    {
     "name": "stderr",
     "output_type": "stream",
     "text": [
      "/Users/alvaros/opt/anaconda3/envs/u19_datajoint_py39_env/lib/python3.9/site-packages/tqdm/auto.py:22: TqdmWarning: IProgress not found. Please update jupyter and ipywidgets. See https://ipywidgets.readthedocs.io/en/stable/user_install.html\n",
      "  from .autonotebook import tqdm as notebook_tqdm\n"
     ]
    }
   ],
   "source": [
    "import datajoint as dj\n",
    "import os\n",
    "import pathlib\n",
    "import pandas as pd\n",
    "import deeplabcut"
   ]
  },
  {
   "cell_type": "code",
   "execution_count": 3,
   "metadata": {},
   "outputs": [
    {
     "name": "stdout",
     "output_type": "stream",
     "text": [
      "Connecting alvaros@datajoint00.pni.princeton.edu:3306\n"
     ]
    }
   ],
   "source": [
    "dj.conn()\n",
    "pupillometry_db = dj.create_virtual_module('pupillometry', 'u19_pupillometry')\n",
    "acquisition_db = dj.create_virtual_module('acquisition', 'u19_acquisition')"
   ]
  },
  {
   "cell_type": "code",
   "execution_count": 6,
   "metadata": {},
   "outputs": [
    {
     "data": {
      "text/plain": [
       "{'model_id': 2,\n",
       " 'model_description': 'Pupillometry_2023',\n",
       " 'model_path': 'video_models/twolickspouts-esme-2023-06-22'}"
      ]
     },
     "execution_count": 6,
     "metadata": {},
     "output_type": "execute_result"
    }
   ],
   "source": [
    "key = dict()\n",
    "key['subject_fullname'] = 'efonseca_ef111_act111'\n",
    "key['session_date'] = '2023-04-25'\n",
    "\n",
    "key_pupil = (acquisition_db.SessionVideo * pupillometry_db.PupillometrySession & key).fetch(as_dict=True)[0]\n",
    "model_key = (pupillometry_db.PupillometryModels & \"model_id = \"+str(key_pupil['model_id'])).fetch(as_dict=True)[0]\n",
    "\n",
    "model_key"
   ]
  },
  {
   "cell_type": "code",
   "execution_count": 7,
   "metadata": {},
   "outputs": [
    {
     "data": {
      "text/plain": [
       "{'subject_fullname': 'efonseca_ef111_act111',\n",
       " 'session_date': datetime.date(2023, 4, 25),\n",
       " 'session_number': 0,\n",
       " 'video_type': 'pupillometry',\n",
       " 'local_path_video_file': 'E:\\\\VideoData\\\\efonseca\\\\efonseca_ef111_act111\\\\20230425_g0\\\\efonseca_ef111_act111_20230425_g0.mrj.mj2',\n",
       " 'remote_path_video_file': 'efonseca/efonseca_ef111_act111/20230425_g0/efonseca_ef111_act111_20230425_g0.mrj.mj2',\n",
       " 'model_id': 2}"
      ]
     },
     "execution_count": 7,
     "metadata": {},
     "output_type": "execute_result"
    }
   ],
   "source": [
    "key_pupil"
   ]
  },
  {
   "cell_type": "code",
   "execution_count": 13,
   "metadata": {},
   "outputs": [
    {
     "data": {
      "text/plain": [
       "PosixPath('/Volumes/braininit/Data/Processed/video_pupillometry/efonseca/efonseca_ef111_act111/20230425_g0')"
      ]
     },
     "execution_count": 13,
     "metadata": {},
     "output_type": "execute_result"
    }
   ],
   "source": [
    "models_dir = dj.config.get('custom', {}).get('root_data_dir',None)\n",
    "if models_dir is None:\n",
    "    raise('root_data_dir in not found in config, , run initial_conf.py again')\n",
    "models_dir = models_dir[0]\n",
    "configPath = pathlib.Path(models_dir, model_key['model_path'],'config.yaml')\n",
    "\n",
    "pupillometry_dir = dj.config.get('custom', {}).get('pupillometry_root_data_dir',None)\n",
    "\n",
    "if pupillometry_dir is None:\n",
    "    raise('pupillometry_root_data_dir not found in config, run initial_conf.py again')\n",
    "pupillometry_raw_dir = pupillometry_dir[0]\n",
    "pupillometry_processed_dir = pupillometry_dir[1]\n",
    "\n",
    "videoPath = pathlib.Path(pupillometry_raw_dir, key_pupil['remote_path_video_file'])\n",
    "output_dir = pathlib.Path(pupillometry_processed_dir,pathlib.Path(key_pupil['remote_path_video_file']).parent)\n",
    "output_dir\n",
    "\n"
   ]
  },
  {
   "cell_type": "code",
   "execution_count": 14,
   "metadata": {},
   "outputs": [
    {
     "data": {
      "text/plain": [
       "PosixPath('/Volumes/braininit/Data/Raw/video_models/twolickspouts-esme-2023-06-22/config.yaml')"
      ]
     },
     "execution_count": 14,
     "metadata": {},
     "output_type": "execute_result"
    }
   ],
   "source": [
    "configPath"
   ]
  },
  {
   "cell_type": "code",
   "execution_count": 15,
   "metadata": {},
   "outputs": [],
   "source": [
    "if not output_dir.exists():\n",
    "    output_dir.mkdir(parents=True, exist_ok=True)"
   ]
  },
  {
   "cell_type": "code",
   "execution_count": 16,
   "metadata": {},
   "outputs": [
    {
     "data": {
      "text/plain": [
       "{'database.prefix': 'u19_',\n",
       " 'database.test.prefix': 'u19_',\n",
       " 'ephys_root_data_dir': ['/Volumes/braininit/Data/Raw/electrophysiology',\n",
       "  '/Volumes/braininit/Data/Processed/electrophysiology'],\n",
       " 'error_logs_dir': '/Volumes/braininit/Data/Processed/LOGS/ErrorLogs',\n",
       " 'imaging_root_data_dir': ['/Volumes/braininit/Data/Raw/imaging',\n",
       "  '/Volumes/braininit/Data/Processed/imaging'],\n",
       " 'output_logs_dir': '/Volumes/braininit/Data/Processed/LOGS/OutputLogs',\n",
       " 'root_data_dir': ['/Volumes/braininit/Data/Raw',\n",
       "  '/Volumes/braininit/Data/Processed'],\n",
       " 'video_root_data_dir': ['/Volumes/braininit/Data/Raw/video_acquisition',\n",
       "  '/Volumes/braininit/Data/Processed/video_acquisition'],\n",
       " 'temporary_processed_data': 'braininit/Data/TemporaryProcessed/',\n",
       " 'behavior_root_data_dir': '/Volumes/braininit/Data/Raw/behavior',\n",
       " 'pupillometry_root_data_dir': ['/Volumes/braininit/Data/Raw/video_pupillometry',\n",
       "  '/Volumes/braininit/Data/Processed/video_pupillometry']}"
      ]
     },
     "execution_count": 16,
     "metadata": {},
     "output_type": "execute_result"
    }
   ],
   "source": [
    "dj.config.get('custom', {})"
   ]
  },
  {
   "cell_type": "code",
   "execution_count": 18,
   "metadata": {},
   "outputs": [
    {
     "name": "stdout",
     "output_type": "stream",
     "text": [
      "Using snapshot-100000 for model /Volumes/braininit/Data/Raw/video_models/twolickspouts-esme-2023-06-22/dlc-models/iteration-0/twolickspoutsJun22-trainset95shuffle1\n"
     ]
    },
    {
     "name": "stderr",
     "output_type": "stream",
     "text": [
      "/Users/alvaros/opt/anaconda3/envs/u19_datajoint_py39_env/lib/python3.9/site-packages/tensorflow/python/keras/engine/base_layer_v1.py:1694: UserWarning: `layer.apply` is deprecated and will be removed in a future version. Please use `layer.__call__` method instead.\n",
      "  warnings.warn('`layer.apply` is deprecated and '\n",
      "/Users/alvaros/opt/anaconda3/envs/u19_datajoint_py39_env/lib/python3.9/site-packages/tf_slim/layers/layers.py:684: UserWarning: `layer.apply` is deprecated and will be removed in a future version. Please use `layer.__call__` method instead.\n",
      "  outputs = layer.apply(inputs, training=is_training)\n"
     ]
    },
    {
     "name": "stdout",
     "output_type": "stream",
     "text": [
      "Starting to analyze %  /Volumes/braininit/Data/Raw/video_pupillometry/efonseca/efonseca_ef111_act111/20230425_g0/efonseca_ef111_act111_20230425_g0.mrj.mj2\n",
      "Loading  /Volumes/braininit/Data/Raw/video_pupillometry/efonseca/efonseca_ef111_act111/20230425_g0/efonseca_ef111_act111_20230425_g0.mrj.mj2\n",
      "Duration of video [s]:  3610.57 , recorded with  30.0 fps!\n",
      "Overall # of frames:  108317  found with (before cropping) frame dimensions:  720 540\n",
      "Starting to extract posture\n"
     ]
    },
    {
     "name": "stderr",
     "output_type": "stream",
     "text": [
      "  2%|▏         | 2166/108317 [18:35<15:40:36,  1.88it/s]"
     ]
    }
   ],
   "source": [
    "deeplabcut.analyze_videos(configPath.as_posix(), videoPath.as_posix(), destfolder=output_dir.as_posix())"
   ]
  },
  {
   "cell_type": "code",
   "execution_count": 5,
   "metadata": {},
   "outputs": [],
   "source": [
    "dj.conn()\n",
    "acquisition_db = dj.create_virtual_module('acquisition', 'u19_acquisition')\n",
    "#pupillometry_db = dj.create_virtual_module('pupillometry', 'u19_pupillometry')"
   ]
  },
  {
   "cell_type": "code",
   "execution_count": 6,
   "metadata": {},
   "outputs": [
    {
     "name": "stderr",
     "output_type": "stream",
     "text": [
      "/Users/alvaros/opt/anaconda3/envs/u19_datajoint_py39_env/lib/python3.9/inspect.py:351: FutureWarning: pandas.Float64Index is deprecated and will be removed from pandas in a future version. Use pandas.Index with the appropriate dtype instead.\n",
      "  value = getattr(object, key)\n",
      "/Users/alvaros/opt/anaconda3/envs/u19_datajoint_py39_env/lib/python3.9/inspect.py:351: FutureWarning: pandas.Int64Index is deprecated and will be removed from pandas in a future version. Use pandas.Index with the appropriate dtype instead.\n",
      "  value = getattr(object, key)\n",
      "/Users/alvaros/opt/anaconda3/envs/u19_datajoint_py39_env/lib/python3.9/inspect.py:351: FutureWarning: pandas.UInt64Index is deprecated and will be removed from pandas in a future version. Use pandas.Index with the appropriate dtype instead.\n",
      "  value = getattr(object, key)\n",
      "/Users/alvaros/opt/anaconda3/envs/u19_datajoint_py39_env/lib/python3.9/inspect.py:351: FutureWarning: pandas.Float64Index is deprecated and will be removed from pandas in a future version. Use pandas.Index with the appropriate dtype instead.\n",
      "  value = getattr(object, key)\n",
      "/Users/alvaros/opt/anaconda3/envs/u19_datajoint_py39_env/lib/python3.9/inspect.py:351: FutureWarning: pandas.Int64Index is deprecated and will be removed from pandas in a future version. Use pandas.Index with the appropriate dtype instead.\n",
      "  value = getattr(object, key)\n",
      "/Users/alvaros/opt/anaconda3/envs/u19_datajoint_py39_env/lib/python3.9/inspect.py:351: FutureWarning: pandas.UInt64Index is deprecated and will be removed from pandas in a future version. Use pandas.Index with the appropriate dtype instead.\n",
      "  value = getattr(object, key)\n",
      "/Users/alvaros/opt/anaconda3/envs/u19_datajoint_py39_env/lib/python3.9/inspect.py:351: FutureWarning: pandas.Float64Index is deprecated and will be removed from pandas in a future version. Use pandas.Index with the appropriate dtype instead.\n",
      "  value = getattr(object, key)\n",
      "/Users/alvaros/opt/anaconda3/envs/u19_datajoint_py39_env/lib/python3.9/inspect.py:351: FutureWarning: pandas.Int64Index is deprecated and will be removed from pandas in a future version. Use pandas.Index with the appropriate dtype instead.\n",
      "  value = getattr(object, key)\n",
      "/Users/alvaros/opt/anaconda3/envs/u19_datajoint_py39_env/lib/python3.9/inspect.py:351: FutureWarning: pandas.UInt64Index is deprecated and will be removed from pandas in a future version. Use pandas.Index with the appropriate dtype instead.\n",
      "  value = getattr(object, key)\n",
      "/Users/alvaros/opt/anaconda3/envs/u19_datajoint_py39_env/lib/python3.9/inspect.py:351: FutureWarning: pandas.Float64Index is deprecated and will be removed from pandas in a future version. Use pandas.Index with the appropriate dtype instead.\n",
      "  value = getattr(object, key)\n",
      "/Users/alvaros/opt/anaconda3/envs/u19_datajoint_py39_env/lib/python3.9/inspect.py:351: FutureWarning: pandas.Int64Index is deprecated and will be removed from pandas in a future version. Use pandas.Index with the appropriate dtype instead.\n",
      "  value = getattr(object, key)\n",
      "/Users/alvaros/opt/anaconda3/envs/u19_datajoint_py39_env/lib/python3.9/inspect.py:351: FutureWarning: pandas.UInt64Index is deprecated and will be removed from pandas in a future version. Use pandas.Index with the appropriate dtype instead.\n",
      "  value = getattr(object, key)\n",
      "/Users/alvaros/opt/anaconda3/envs/u19_datajoint_py39_env/lib/python3.9/inspect.py:351: FutureWarning: pandas.Float64Index is deprecated and will be removed from pandas in a future version. Use pandas.Index with the appropriate dtype instead.\n",
      "  value = getattr(object, key)\n",
      "/Users/alvaros/opt/anaconda3/envs/u19_datajoint_py39_env/lib/python3.9/inspect.py:351: FutureWarning: pandas.Int64Index is deprecated and will be removed from pandas in a future version. Use pandas.Index with the appropriate dtype instead.\n",
      "  value = getattr(object, key)\n",
      "/Users/alvaros/opt/anaconda3/envs/u19_datajoint_py39_env/lib/python3.9/inspect.py:351: FutureWarning: pandas.UInt64Index is deprecated and will be removed from pandas in a future version. Use pandas.Index with the appropriate dtype instead.\n",
      "  value = getattr(object, key)\n"
     ]
    },
    {
     "data": {
      "image/svg+xml": [
       "<svg xmlns=\"http://www.w3.org/2000/svg\" xmlns:xlink=\"http://www.w3.org/1999/xlink\" width=\"654pt\" height=\"184pt\" viewBox=\"0.00 0.00 653.95 183.68\">\n",
       "<g id=\"graph0\" class=\"graph\" transform=\"scale(1 1) rotate(0) translate(4 179.68)\">\n",
       "<polygon fill=\"white\" stroke=\"none\" points=\"-4,4 -4,-179.68 649.95,-179.68 649.95,4 -4,4\"/>\n",
       "<!-- pupillometry_db.PupillometryModels -->\n",
       "<g id=\"node1\" class=\"node\">\n",
       "<title>pupillometry_db.PupillometryModels</title>\n",
       "<g id=\"a_node1\"><a xlink:title=\"model_id             \r------------------------------\rmodel_description    \rmodel_path           \r\">\n",
       "<ellipse fill=\"#00007f\" fill-opacity=\"0.250980\" stroke=\"#00007f\" stroke-opacity=\"0.250980\" cx=\"137.38\" cy=\"-158.4\" rx=\"137.38\" ry=\"17.28\"/>\n",
       "<text text-anchor=\"start\" x=\"40.26\" y=\"-155.12\" font-family=\"arial\" text-decoration=\"underline\" font-size=\"12.00\" fill=\"#00007f\" fill-opacity=\"0.627451\">pupillometry_db.PupillometryModels</text>\n",
       "</a>\n",
       "</g>\n",
       "</g>\n",
       "<!-- pupillometry_db.PupillometrySession -->\n",
       "<g id=\"node2\" class=\"node\">\n",
       "<title>pupillometry_db.PupillometrySession</title>\n",
       "<g id=\"a_node2\"><a xlink:title=\"→ acquisition_db.Session\r\">\n",
       "<ellipse fill=\"#00007f\" fill-opacity=\"0.250980\" stroke=\"#00007f\" stroke-opacity=\"0.250980\" cx=\"363.38\" cy=\"-87.84\" rx=\"140.33\" ry=\"17.28\"/>\n",
       "<text text-anchor=\"middle\" x=\"363.38\" y=\"-83.56\" font-family=\"arial\" font-size=\"12.00\" fill=\"#00007f\" fill-opacity=\"0.627451\">pupillometry_db.PupillometrySession</text>\n",
       "</a>\n",
       "</g>\n",
       "</g>\n",
       "<!-- pupillometry_db.PupillometrySyncBehavior -->\n",
       "<g id=\"node4\" class=\"node\">\n",
       "<title>pupillometry_db.PupillometrySyncBehavior</title>\n",
       "<g id=\"a_node4\"><a xlink:title=\"→ pupillometry_db.PupillometrySession\r------------------------------\rsync_video_frame_matrix \rsync_behavior_matrix \r\">\n",
       "<ellipse fill=\"#00007f\" fill-opacity=\"0.250980\" stroke=\"#00007f\" stroke-opacity=\"0.250980\" cx=\"210.38\" cy=\"-17.28\" rx=\"160.91\" ry=\"17.28\"/>\n",
       "<text text-anchor=\"middle\" x=\"210.38\" y=\"-13.01\" font-family=\"arial\" font-size=\"12.00\" fill=\"#00007f\" fill-opacity=\"0.627451\">pupillometry_db.PupillometrySyncBehavior</text>\n",
       "</a>\n",
       "</g>\n",
       "</g>\n",
       "<!-- pupillometry_db.PupillometrySession&#45;&gt;pupillometry_db.PupillometrySyncBehavior -->\n",
       "<g id=\"edge1\" class=\"edge\">\n",
       "<title>pupillometry_db.PupillometrySession-&gt;pupillometry_db.PupillometrySyncBehavior</title>\n",
       "<path fill=\"none\" stroke=\"#000000\" stroke-width=\"2\" stroke-opacity=\"0.250980\" d=\"M327.51,-70.77C303.14,-59.84 271,-45.44 246.56,-34.49\"/>\n",
       "</g>\n",
       "<!-- pupillometry_db.PupillometryData -->\n",
       "<g id=\"node5\" class=\"node\">\n",
       "<title>pupillometry_db.PupillometryData</title>\n",
       "<g id=\"a_node5\"><a xlink:title=\"→ pupillometry_db.PupillometrySession\r------------------------------\rpupil_diameter       \r\">\n",
       "<ellipse fill=\"#00007f\" fill-opacity=\"0.250980\" stroke=\"#00007f\" stroke-opacity=\"0.250980\" cx=\"517.38\" cy=\"-17.28\" rx=\"128.56\" ry=\"17.28\"/>\n",
       "<text text-anchor=\"middle\" x=\"517.38\" y=\"-13.01\" font-family=\"arial\" font-size=\"12.00\" fill=\"#00007f\" fill-opacity=\"0.627451\">pupillometry_db.PupillometryData</text>\n",
       "</a>\n",
       "</g>\n",
       "</g>\n",
       "<!-- pupillometry_db.PupillometrySession&#45;&gt;pupillometry_db.PupillometryData -->\n",
       "<g id=\"edge2\" class=\"edge\">\n",
       "<title>pupillometry_db.PupillometrySession-&gt;pupillometry_db.PupillometryData</title>\n",
       "<path fill=\"none\" stroke=\"#000000\" stroke-width=\"2\" stroke-opacity=\"0.250980\" d=\"M399.49,-70.77C424.21,-59.76 456.84,-45.23 481.5,-34.25\"/>\n",
       "</g>\n",
       "<!-- acquisition_db.Session -->\n",
       "<g id=\"node3\" class=\"node\">\n",
       "<title>acquisition_db.Session</title>\n",
       "<g id=\"a_node3\"><a xlink:title=\"→ acquisition_db.SessionStarted\r------------------------------\rsession_start_time   \rsession_end_time=null \r→ pupillometry_db.acquisition.lab.Location.proj(session_location=&quot;location&quot;)\r→ pupillometry_db.acquisition.task.TaskLevelParameterSet\rstimulus_bank=&quot;&quot;     \rstimulus_commit=&quot;&quot;   \rsession_performance  \rnum_trials=null      \rnum_trials_try=null  \rsession_narrative=&quot;&quot; \rsession_protocol=null \rsession_code_version=null \ris_bad_session=null  \rsession_comments=null \r\">\n",
       "<polygon fill=\"#00ff00\" fill-opacity=\"0.188235\" stroke=\"#00ff00\" stroke-opacity=\"0.188235\" points=\"433.63,-175.68 293.13,-175.68 293.13,-141.12 433.63,-141.12 433.63,-175.68\"/>\n",
       "<text text-anchor=\"middle\" x=\"363.38\" y=\"-154.12\" font-family=\"arial\" font-size=\"12.00\" fill=\"darkgreen\">acquisition_db.Session</text>\n",
       "</a>\n",
       "</g>\n",
       "</g>\n",
       "<!-- acquisition_db.Session&#45;&gt;pupillometry_db.PupillometrySession -->\n",
       "<g id=\"edge3\" class=\"edge\">\n",
       "<title>acquisition_db.Session-&gt;pupillometry_db.PupillometrySession</title>\n",
       "<path fill=\"none\" stroke=\"#000000\" stroke-width=\"2\" stroke-opacity=\"0.250980\" d=\"M363.38,-140.8C363.38,-130.02 363.38,-116.03 363.38,-105.28\"/>\n",
       "</g>\n",
       "</g>\n",
       "</svg>"
      ],
      "text/plain": [
       "<datajoint.diagram.Diagram at 0x7fc4f109cd90>"
      ]
     },
     "execution_count": 6,
     "metadata": {},
     "output_type": "execute_result"
    }
   ],
   "source": [
    "dj.ERD(pupillometry_db) -1"
   ]
  },
  {
   "cell_type": "code",
   "execution_count": 4,
   "metadata": {},
   "outputs": [
    {
     "data": {
      "text/plain": [
       "'/scratch/gpfs/BRAINCOGS/Data/Raw/video_acquisition/MODELS/Pupillometry2-Ryan-2022-04-07/config.yaml'"
      ]
     },
     "execution_count": 4,
     "metadata": {},
     "output_type": "execute_result"
    }
   ],
   "source": [
    "root_videopath = dj.config['custom']['dlc_root_data_dir2']\n",
    "\n",
    "modelPath = pathlib.Path(root_videopath, 'MODELS', 'Pupillometry2-Ryan-2022-04-07').as_posix()\n",
    "configPath = pathlib.Path(modelPath,'config.yaml').as_posix()\n",
    "\n",
    "proccesed_rootpath = dj.config['custom']['dlc_processed_data_dir2']\n",
    "proccesed_rootpath = pathlib.Path(proccesed_rootpath, 'pupillometry').as_posix()\n",
    "configPath"
   ]
  },
  {
   "cell_type": "code",
   "execution_count": 5,
   "metadata": {},
   "outputs": [
    {
     "data": {
      "text/html": [
       "<div>\n",
       "<style scoped>\n",
       "    .dataframe tbody tr th:only-of-type {\n",
       "        vertical-align: middle;\n",
       "    }\n",
       "\n",
       "    .dataframe tbody tr th {\n",
       "        vertical-align: top;\n",
       "    }\n",
       "\n",
       "    .dataframe thead th {\n",
       "        text-align: right;\n",
       "    }\n",
       "</style>\n",
       "<table border=\"1\" class=\"dataframe\">\n",
       "  <thead>\n",
       "    <tr style=\"text-align: right;\">\n",
       "      <th></th>\n",
       "      <th>subject_fullname</th>\n",
       "      <th>session_date</th>\n",
       "      <th>session_number</th>\n",
       "      <th>video_type</th>\n",
       "      <th>remote_path_video_file</th>\n",
       "      <th>processed_path</th>\n",
       "    </tr>\n",
       "  </thead>\n",
       "  <tbody>\n",
       "    <tr>\n",
       "      <th>0</th>\n",
       "      <td>jounhong_TH_276</td>\n",
       "      <td>2022-04-01</td>\n",
       "      <td>0</td>\n",
       "      <td>pupillometry</td>\n",
       "      <td>pupillometry/jounhong/jounhong_TH_276/20220401...</td>\n",
       "      <td>pupillometry/jounhong/jounhong_TH_276/20220401_g0</td>\n",
       "    </tr>\n",
       "    <tr>\n",
       "      <th>1</th>\n",
       "      <td>jounhong_TH_276</td>\n",
       "      <td>2022-04-02</td>\n",
       "      <td>0</td>\n",
       "      <td>pupillometry</td>\n",
       "      <td>pupillometry/jounhong/jounhong_TH_276/20220402...</td>\n",
       "      <td>pupillometry/jounhong/jounhong_TH_276/20220402_g0</td>\n",
       "    </tr>\n",
       "    <tr>\n",
       "      <th>2</th>\n",
       "      <td>jounhong_TH_276</td>\n",
       "      <td>2022-04-03</td>\n",
       "      <td>0</td>\n",
       "      <td>pupillometry</td>\n",
       "      <td>pupillometry/jounhong/jounhong_TH_276/20220403...</td>\n",
       "      <td>pupillometry/jounhong/jounhong_TH_276/20220403_g0</td>\n",
       "    </tr>\n",
       "    <tr>\n",
       "      <th>3</th>\n",
       "      <td>jounhong_TH_276</td>\n",
       "      <td>2022-04-04</td>\n",
       "      <td>0</td>\n",
       "      <td>pupillometry</td>\n",
       "      <td>pupillometry/jounhong/jounhong_TH_276/20220404...</td>\n",
       "      <td>pupillometry/jounhong/jounhong_TH_276/20220404_g0</td>\n",
       "    </tr>\n",
       "    <tr>\n",
       "      <th>4</th>\n",
       "      <td>jounhong_TH_276</td>\n",
       "      <td>2022-04-05</td>\n",
       "      <td>0</td>\n",
       "      <td>pupillometry</td>\n",
       "      <td>pupillometry/jounhong/jounhong_TH_276/20220405...</td>\n",
       "      <td>pupillometry/jounhong/jounhong_TH_276/20220405_g0</td>\n",
       "    </tr>\n",
       "    <tr>\n",
       "      <th>5</th>\n",
       "      <td>jounhong_TH_276</td>\n",
       "      <td>2022-04-06</td>\n",
       "      <td>0</td>\n",
       "      <td>pupillometry</td>\n",
       "      <td>pupillometry/jounhong/jounhong_TH_276/20220406...</td>\n",
       "      <td>pupillometry/jounhong/jounhong_TH_276/20220406_g0</td>\n",
       "    </tr>\n",
       "    <tr>\n",
       "      <th>6</th>\n",
       "      <td>jounhong_TH_276</td>\n",
       "      <td>2022-04-07</td>\n",
       "      <td>0</td>\n",
       "      <td>pupillometry</td>\n",
       "      <td>pupillometry/jounhong/jounhong_TH_276/20220407...</td>\n",
       "      <td>pupillometry/jounhong/jounhong_TH_276/20220407_g0</td>\n",
       "    </tr>\n",
       "    <tr>\n",
       "      <th>7</th>\n",
       "      <td>jounhong_TH_276</td>\n",
       "      <td>2022-04-08</td>\n",
       "      <td>0</td>\n",
       "      <td>pupillometry</td>\n",
       "      <td>pupillometry/jounhong/jounhong_TH_276/20220408...</td>\n",
       "      <td>pupillometry/jounhong/jounhong_TH_276/20220408_g0</td>\n",
       "    </tr>\n",
       "    <tr>\n",
       "      <th>8</th>\n",
       "      <td>jounhong_TH_276</td>\n",
       "      <td>2022-04-11</td>\n",
       "      <td>0</td>\n",
       "      <td>pupillometry</td>\n",
       "      <td>pupillometry/jounhong/jounhong_TH_276/20220411...</td>\n",
       "      <td>pupillometry/jounhong/jounhong_TH_276/20220411_g0</td>\n",
       "    </tr>\n",
       "    <tr>\n",
       "      <th>9</th>\n",
       "      <td>jounhong_TH_276</td>\n",
       "      <td>2022-04-12</td>\n",
       "      <td>0</td>\n",
       "      <td>pupillometry</td>\n",
       "      <td>pupillometry/jounhong/jounhong_TH_276/20220412...</td>\n",
       "      <td>pupillometry/jounhong/jounhong_TH_276/20220412_g0</td>\n",
       "    </tr>\n",
       "    <tr>\n",
       "      <th>10</th>\n",
       "      <td>jounhong_TH_276</td>\n",
       "      <td>2022-04-14</td>\n",
       "      <td>0</td>\n",
       "      <td>pupillometry</td>\n",
       "      <td>pupillometry/jounhong/jounhong_TH_276/20220414...</td>\n",
       "      <td>pupillometry/jounhong/jounhong_TH_276/20220414_g0</td>\n",
       "    </tr>\n",
       "    <tr>\n",
       "      <th>11</th>\n",
       "      <td>jounhong_TH_276</td>\n",
       "      <td>2022-04-15</td>\n",
       "      <td>0</td>\n",
       "      <td>pupillometry</td>\n",
       "      <td>pupillometry/jounhong/jounhong_TH_276/20220415...</td>\n",
       "      <td>pupillometry/jounhong/jounhong_TH_276/20220415_g0</td>\n",
       "    </tr>\n",
       "    <tr>\n",
       "      <th>12</th>\n",
       "      <td>jounhong_TH_276</td>\n",
       "      <td>2022-04-18</td>\n",
       "      <td>0</td>\n",
       "      <td>pupillometry</td>\n",
       "      <td>pupillometry/jounhong/jounhong_TH_276/20220418...</td>\n",
       "      <td>pupillometry/jounhong/jounhong_TH_276/20220418_g0</td>\n",
       "    </tr>\n",
       "    <tr>\n",
       "      <th>13</th>\n",
       "      <td>jounhong_TH_276</td>\n",
       "      <td>2022-04-20</td>\n",
       "      <td>0</td>\n",
       "      <td>pupillometry</td>\n",
       "      <td>pupillometry/jounhong/jounhong_TH_276/20220420...</td>\n",
       "      <td>pupillometry/jounhong/jounhong_TH_276/20220420_g0</td>\n",
       "    </tr>\n",
       "    <tr>\n",
       "      <th>14</th>\n",
       "      <td>jounhong_TH_276</td>\n",
       "      <td>2022-04-21</td>\n",
       "      <td>0</td>\n",
       "      <td>pupillometry</td>\n",
       "      <td>pupillometry/jounhong/jounhong_TH_276/20220421...</td>\n",
       "      <td>pupillometry/jounhong/jounhong_TH_276/20220421_g0</td>\n",
       "    </tr>\n",
       "  </tbody>\n",
       "</table>\n",
       "</div>"
      ],
      "text/plain": [
       "   subject_fullname session_date  session_number    video_type  \\\n",
       "0   jounhong_TH_276   2022-04-01               0  pupillometry   \n",
       "1   jounhong_TH_276   2022-04-02               0  pupillometry   \n",
       "2   jounhong_TH_276   2022-04-03               0  pupillometry   \n",
       "3   jounhong_TH_276   2022-04-04               0  pupillometry   \n",
       "4   jounhong_TH_276   2022-04-05               0  pupillometry   \n",
       "5   jounhong_TH_276   2022-04-06               0  pupillometry   \n",
       "6   jounhong_TH_276   2022-04-07               0  pupillometry   \n",
       "7   jounhong_TH_276   2022-04-08               0  pupillometry   \n",
       "8   jounhong_TH_276   2022-04-11               0  pupillometry   \n",
       "9   jounhong_TH_276   2022-04-12               0  pupillometry   \n",
       "10  jounhong_TH_276   2022-04-14               0  pupillometry   \n",
       "11  jounhong_TH_276   2022-04-15               0  pupillometry   \n",
       "12  jounhong_TH_276   2022-04-18               0  pupillometry   \n",
       "13  jounhong_TH_276   2022-04-20               0  pupillometry   \n",
       "14  jounhong_TH_276   2022-04-21               0  pupillometry   \n",
       "\n",
       "                               remote_path_video_file  \\\n",
       "0   pupillometry/jounhong/jounhong_TH_276/20220401...   \n",
       "1   pupillometry/jounhong/jounhong_TH_276/20220402...   \n",
       "2   pupillometry/jounhong/jounhong_TH_276/20220403...   \n",
       "3   pupillometry/jounhong/jounhong_TH_276/20220404...   \n",
       "4   pupillometry/jounhong/jounhong_TH_276/20220405...   \n",
       "5   pupillometry/jounhong/jounhong_TH_276/20220406...   \n",
       "6   pupillometry/jounhong/jounhong_TH_276/20220407...   \n",
       "7   pupillometry/jounhong/jounhong_TH_276/20220408...   \n",
       "8   pupillometry/jounhong/jounhong_TH_276/20220411...   \n",
       "9   pupillometry/jounhong/jounhong_TH_276/20220412...   \n",
       "10  pupillometry/jounhong/jounhong_TH_276/20220414...   \n",
       "11  pupillometry/jounhong/jounhong_TH_276/20220415...   \n",
       "12  pupillometry/jounhong/jounhong_TH_276/20220418...   \n",
       "13  pupillometry/jounhong/jounhong_TH_276/20220420...   \n",
       "14  pupillometry/jounhong/jounhong_TH_276/20220421...   \n",
       "\n",
       "                                       processed_path  \n",
       "0   pupillometry/jounhong/jounhong_TH_276/20220401_g0  \n",
       "1   pupillometry/jounhong/jounhong_TH_276/20220402_g0  \n",
       "2   pupillometry/jounhong/jounhong_TH_276/20220403_g0  \n",
       "3   pupillometry/jounhong/jounhong_TH_276/20220404_g0  \n",
       "4   pupillometry/jounhong/jounhong_TH_276/20220405_g0  \n",
       "5   pupillometry/jounhong/jounhong_TH_276/20220406_g0  \n",
       "6   pupillometry/jounhong/jounhong_TH_276/20220407_g0  \n",
       "7   pupillometry/jounhong/jounhong_TH_276/20220408_g0  \n",
       "8   pupillometry/jounhong/jounhong_TH_276/20220411_g0  \n",
       "9   pupillometry/jounhong/jounhong_TH_276/20220412_g0  \n",
       "10  pupillometry/jounhong/jounhong_TH_276/20220414_g0  \n",
       "11  pupillometry/jounhong/jounhong_TH_276/20220415_g0  \n",
       "12  pupillometry/jounhong/jounhong_TH_276/20220418_g0  \n",
       "13  pupillometry/jounhong/jounhong_TH_276/20220420_g0  \n",
       "14  pupillometry/jounhong/jounhong_TH_276/20220421_g0  "
      ]
     },
     "execution_count": 5,
     "metadata": {},
     "output_type": "execute_result"
    }
   ],
   "source": [
    "key = 'subject_fullname like \"jounhong%\"'\n",
    "video_data_df = pd.DataFrame((pupillometry_db.PupillometrySession * acquisition_db.SessionVideo & key).fetch(\"KEY\", 'remote_path_video_file', as_dict=True))\n",
    "\n",
    "video_data_df['remote_path_video_file'] = 'pupillometry/' + video_data_df['remote_path_video_file']\n",
    "video_data_df.loc[0,'remote_path_video_file']\n",
    "\n",
    "video_data_df['processed_path'] = video_data_df['remote_path_video_file'].apply(lambda x : pathlib.Path(x).parent.as_posix())\n",
    "\n",
    "video_data_df"
   ]
  },
  {
   "cell_type": "code",
   "execution_count": 6,
   "metadata": {},
   "outputs": [
    {
     "data": {
      "text/plain": [
       "\"\\nfor i in range(video_data_df.shape[0]-1,0,-1):\\n    this_video_path = pathlib.Path(root_videopath, video_data_df.loc[i, 'remote_path_video_file']).as_posix()\\n    this_results_path = pathlib.Path(proccesed_rootpath, video_data_df.loc[i, 'processed_path']).as_posix()\\n\\n    pathlib.Path(this_results_path).mkdir(parents=True, exist_ok=True)\\n\\n    print(this_video_path)\\n    print(this_results_path)\\n    deeplabcut.analyze_videos(configPath, this_video_path, destfolder=this_results_path)\\n\""
      ]
     },
     "execution_count": 6,
     "metadata": {},
     "output_type": "execute_result"
    }
   ],
   "source": [
    "'''\n",
    "for i in range(video_data_df.shape[0]-1,0,-1):\n",
    "    this_video_path = pathlib.Path(root_videopath, video_data_df.loc[i, 'remote_path_video_file']).as_posix()\n",
    "    this_results_path = pathlib.Path(proccesed_rootpath, video_data_df.loc[i, 'processed_path']).as_posix()\n",
    "\n",
    "    pathlib.Path(this_results_path).mkdir(parents=True, exist_ok=True)\n",
    "\n",
    "    print(this_video_path)\n",
    "    print(this_results_path)\n",
    "    deeplabcut.analyze_videos(configPath, this_video_path, destfolder=this_results_path)\n",
    "'''"
   ]
  },
  {
   "cell_type": "code",
   "execution_count": 7,
   "metadata": {},
   "outputs": [
    {
     "data": {
      "text/plain": [
       "\"\\nimport u19_pipeline.utils.dlc_process as dlc\\n\\n\\nfor i in range(video_data_df.shape[0]-1,0,-1):\\n    this_results_path = pathlib.Path(proccesed_rootpath, video_data_df.loc[i, 'processed_path']).as_posix()\\n    print(this_results_path)\\n    try:\\n        dlc.getPupilDiameter(destinationFolder=this_results_path)\\n    except BaseException as e:\\n        print(str(e))\\n\""
      ]
     },
     "execution_count": 7,
     "metadata": {},
     "output_type": "execute_result"
    }
   ],
   "source": [
    "'''\n",
    "import u19_pipeline.utils.dlc_process as dlc\n",
    "\n",
    "\n",
    "for i in range(video_data_df.shape[0]-1,0,-1):\n",
    "    this_results_path = pathlib.Path(proccesed_rootpath, video_data_df.loc[i, 'processed_path']).as_posix()\n",
    "    print(this_results_path)\n",
    "    try:\n",
    "        dlc.getPupilDiameter(destinationFolder=this_results_path)\n",
    "    except BaseException as e:\n",
    "        print(str(e))\n",
    "'''"
   ]
  },
  {
   "cell_type": "code",
   "execution_count": 8,
   "metadata": {},
   "outputs": [
    {
     "data": {
      "text/plain": [
       "'\\nimport u19_pipeline.automatic_job.clusters_paths_and_transfers as ft\\nimport u19_pipeline.automatic_job.slurm_creator as sc\\nimport subprocess\\nimport u19_pipeline.automatic_job.params_config as config\\nimport re\\nfrom u19_pipeline.utils.file_utils import write_file\\n\\nrepo_dir = \\'/usr/people/alvaros/BrainCogsProjects/Datajoint_projs/U19-pipeline_python\\'\\nscript_path = pathlib.Path(repo_dir, \\'u19_pipeline/utils/dlc_process.py\\').as_posix()\\n\\nslurms_filepath = pathlib.Path(repo_dir, \\'u19_pipeline/automatic_job/SlurmFiles\\').as_posix()\\ndefault_slurm_filename = \\'slurm_real_spock.slurm\\'\\n\\nfor i in range(8, video_data_df.shape[0]):\\n    this_video_path = pathlib.Path(root_videopath, video_data_df.loc[i, \\'remote_path_video_file\\']).as_posix()\\n    this_results_path = pathlib.Path(proccesed_rootpath, video_data_df.loc[i, \\'processed_path\\']).as_posix()\\n\\n    recording_process_id = str(i)\\n\\n    #Get all associated directories given the selected processing cluster\\n    cluster_vars = ft.get_cluster_vars(\\'spock\\')\\n\\n    # Start with default values\\n    slurm_dict = cluster_vars[\\'slurm_default\\'].copy()\\n    label_rec_process = \\'rec\\'+recording_process_id\\n    print(\\'label_rec_process\\', label_rec_process)\\n    slurm_dict[\\'job-name\\'] = label_rec_process\\n    slurm_dict[\\'output\\'] = str(pathlib.Path(cluster_vars[\\'log_files_dir\\'],label_rec_process+ \\'.log\\'))\\n    slurm_text = sc.generate_slurm_dlc(slurm_dict)\\n\\n    slurm_file_name = default_slurm_filename\\n    slurm_file_local_path = pathlib.Path(slurms_filepath,slurm_file_name).as_posix()\\n\\n    write_file(slurm_file_local_path, slurm_text)\\n\\n    #Get all associated variables given the selected processing cluster\\n    cluster_vars = ft.get_cluster_vars(\\'spock\\')\\n        \\n    processed_data_directory = pathlib.Path(this_results_path).as_posix()\\n    repository_dir = repo_dir\\n\\n    command = [\\'sbatch\\', \\n    \"--export=recording_process_id=\"+recording_process_id+\\n    \",raw_data_directory=\"+this_video_path+\\n    \",processed_data_directory=\"+processed_data_directory+\\n    \",repository_dir=\\'\"+repository_dir+\\n    \"\\',process_script_path=\"+script_path+\\n    \",model_path=\"+modelPath\\n    , slurm_file_local_path\\n    ]\\n\\n    print(command)\\n    p = subprocess.Popen(command, stdout=subprocess.PIPE, stderr=subprocess.PIPE)\\n    #p = os.popen(command_new).read()\\n    p.wait()\\n    stdout, stderr = p.communicate()\\n    print(\\'stdout\\', stdout.decode(\\'UTF-8\\'))\\n    print(\\'stderr\\', stderr.decode(\\'UTF-8\\'))\\n    print(\\'p.returncode\\', p.returncode)\\n\\n    if p.returncode == config.system_process[\\'SUCCESS\\']:\\n        batch_job_sentence = stdout.decode(\\'UTF-8\\')\\n        print(\\'batch_job_sentence\\', batch_job_sentence)\\n        id_slurm_job   = batch_job_sentence.replace(\"Submitted batch job \",\"\")\\n        id_slurm_job   = re.sub(r\"[\\n\\t\\\\s]*\", \"\", id_slurm_job)\\n\\n\\n\\n'"
      ]
     },
     "execution_count": 8,
     "metadata": {},
     "output_type": "execute_result"
    }
   ],
   "source": [
    "'''\n",
    "import u19_pipeline.automatic_job.clusters_paths_and_transfers as ft\n",
    "import u19_pipeline.automatic_job.slurm_creator as sc\n",
    "import subprocess\n",
    "import u19_pipeline.automatic_job.params_config as config\n",
    "import re\n",
    "from u19_pipeline.utils.file_utils import write_file\n",
    "\n",
    "repo_dir = '/usr/people/alvaros/BrainCogsProjects/Datajoint_projs/U19-pipeline_python'\n",
    "script_path = pathlib.Path(repo_dir, 'u19_pipeline/utils/dlc_process.py').as_posix()\n",
    "\n",
    "slurms_filepath = pathlib.Path(repo_dir, 'u19_pipeline/automatic_job/SlurmFiles').as_posix()\n",
    "default_slurm_filename = 'slurm_real_spock.slurm'\n",
    "\n",
    "for i in range(8, video_data_df.shape[0]):\n",
    "    this_video_path = pathlib.Path(root_videopath, video_data_df.loc[i, 'remote_path_video_file']).as_posix()\n",
    "    this_results_path = pathlib.Path(proccesed_rootpath, video_data_df.loc[i, 'processed_path']).as_posix()\n",
    "\n",
    "    recording_process_id = str(i)\n",
    "\n",
    "    #Get all associated directories given the selected processing cluster\n",
    "    cluster_vars = ft.get_cluster_vars('spock')\n",
    "\n",
    "    # Start with default values\n",
    "    slurm_dict = cluster_vars['slurm_default'].copy()\n",
    "    label_rec_process = 'rec'+recording_process_id\n",
    "    print('label_rec_process', label_rec_process)\n",
    "    slurm_dict['job-name'] = label_rec_process\n",
    "    slurm_dict['output'] = str(pathlib.Path(cluster_vars['log_files_dir'],label_rec_process+ '.log'))\n",
    "    slurm_text = sc.generate_slurm_dlc(slurm_dict)\n",
    "\n",
    "    slurm_file_name = default_slurm_filename\n",
    "    slurm_file_local_path = pathlib.Path(slurms_filepath,slurm_file_name).as_posix()\n",
    "\n",
    "    write_file(slurm_file_local_path, slurm_text)\n",
    "\n",
    "    #Get all associated variables given the selected processing cluster\n",
    "    cluster_vars = ft.get_cluster_vars('spock')\n",
    "        \n",
    "    processed_data_directory = pathlib.Path(this_results_path).as_posix()\n",
    "    repository_dir = repo_dir\n",
    "\n",
    "    command = ['sbatch', \n",
    "    \"--export=recording_process_id=\"+recording_process_id+\n",
    "    \",raw_data_directory=\"+this_video_path+\n",
    "    \",processed_data_directory=\"+processed_data_directory+\n",
    "    \",repository_dir='\"+repository_dir+\n",
    "    \"',process_script_path=\"+script_path+\n",
    "    \",model_path=\"+modelPath\n",
    "    , slurm_file_local_path\n",
    "    ]\n",
    "\n",
    "    print(command)\n",
    "    p = subprocess.Popen(command, stdout=subprocess.PIPE, stderr=subprocess.PIPE)\n",
    "    #p = os.popen(command_new).read()\n",
    "    p.wait()\n",
    "    stdout, stderr = p.communicate()\n",
    "    print('stdout', stdout.decode('UTF-8'))\n",
    "    print('stderr', stderr.decode('UTF-8'))\n",
    "    print('p.returncode', p.returncode)\n",
    "\n",
    "    if p.returncode == config.system_process['SUCCESS']:\n",
    "        batch_job_sentence = stdout.decode('UTF-8')\n",
    "        print('batch_job_sentence', batch_job_sentence)\n",
    "        id_slurm_job   = batch_job_sentence.replace(\"Submitted batch job \",\"\")\n",
    "        id_slurm_job   = re.sub(r\"[\\n\\t\\s]*\", \"\", id_slurm_job)\n",
    "\n",
    "\n",
    "\n",
    "'''"
   ]
  },
  {
   "cell_type": "code",
   "execution_count": 9,
   "metadata": {},
   "outputs": [],
   "source": [
    "import u19_pipeline.automatic_job.clusters_paths_and_transfers as ft\n",
    "\n",
    "def transfer_slurm_file(slurm_file_local_path, slurm_destination, cluster_vars):\n",
    "    '''\n",
    "    Create scp command from cluster directories and local slurm file\n",
    "    '''\n",
    "\n",
    "    user_host = cluster_vars['user']+'@'+cluster_vars['hostname']\n",
    "    slurm_destination = user_host+':'+slurm_destination\n",
    "    status = ft.scp_file_transfer(slurm_file_local_path, slurm_destination)\n",
    "\n",
    "    return status"
   ]
  },
  {
   "cell_type": "code",
   "execution_count": 10,
   "metadata": {},
   "outputs": [
    {
     "name": "stdout",
     "output_type": "stream",
     "text": [
      "label_rec_process rec9\n",
      "/Users/alvaros/Documents/MATLAB/BrainCogsProjects/Datajoint_proj/U19-pipeline_python/u19_pipeline/automatic_job/SlurmFiles/slurm_real.slurm\n",
      "/scratch/gpfs/BRAINCOGS/SlurmFiles/slurm_real.slurm\n",
      "{'home_dir': '/scratch/gpfs/BRAINCOGS', 'root_data_dir': '/scratch/gpfs/BRAINCOGS/Data/Raw', 'sorted_data_dir': '/scratch/gpfs/BRAINCOGS/Data/Sorted', 'slurm_files_dir': '/scratch/gpfs/BRAINCOGS/SlurmFiles', 'params_files_dir': '/scratch/gpfs/BRAINCOGS/ParameterFiles', 'electrophysiology_process_dir': '/scratch/gpfs/BRAINCOGS/electorphysiology_processing', 'imaging_process_dir': '/scratch/gpfs/BRAINCOGS/imaging_processing', 'log_files_dir': '/scratch/gpfs/BRAINCOGS/OutputLog', 'user': 'alvaros', 'slurm_default': {'job-name': 'kilosort2', 'nodes': 2, 'ntasks': 2, 'time': '5:00:00', 'mem': '200G', 'gres': 'gpu:2', 'mail-user': 'alvaros@princeton.edu', 'mail-type': ['END'], 'output': 'OutputLog/recording_process_${recording_process_id}\".log'}, 'hostname': 'tigergpu.princeton.edu', 'script_path': ''}\n",
      "scp /Users/alvaros/Documents/MATLAB/BrainCogsProjects/Datajoint_proj/U19-pipeline_python/u19_pipeline/automatic_job/SlurmFiles/slurm_real.slurm alvaros@tigergpu.princeton.edu:/scratch/gpfs/BRAINCOGS/SlurmFiles/slurm_real.slurm\n",
      "0\n",
      "['ssh', 'alvaros@tigergpu.princeton.edu', 'sbatch', \"--export=recording_process_id=9,raw_data_directory=/scratch/gpfs/BRAINCOGS/Data/Raw/video_acquisition/pupillometry/jounhong/jounhong_TH_276/20220412_g0/jounhong_TH_276_20220412_g0.mj2,processed_data_directory=/scratch/gpfs/BRAINCOGS/Data/Processed/video_acquisition/pupillometry/pupillometry/jounhong/jounhong_TH_276/20220412_g0,repository_dir='/scratch/gpfs/BRAINCOGS/U19-pipeline_python',process_script_path=/scratch/gpfs/BRAINCOGS/U19-pipeline_python/u19_pipeline/utils/dlc_process.py,model_path=/scratch/gpfs/BRAINCOGS/Data/Raw/video_acquisition/MODELS/Pupillometry2-Ryan-2022-04-07\", '/scratch/gpfs/BRAINCOGS/SlurmFiles/slurm_real.slurm']\n",
      "stdout Submitted batch job 8570524\n",
      "\n",
      "stderr \n",
      "p.returncode 0\n",
      "batch_job_sentence Submitted batch job 8570524\n",
      "\n"
     ]
    }
   ],
   "source": [
    "import u19_pipeline.automatic_job.clusters_paths_and_transfers as ft\n",
    "import u19_pipeline.automatic_job.slurm_creator as sc\n",
    "import subprocess\n",
    "import u19_pipeline.automatic_job.params_config as config\n",
    "import re\n",
    "from u19_pipeline.utils.file_utils import write_file\n",
    "\n",
    "repo_dir = '/scratch/gpfs/BRAINCOGS/U19-pipeline_python'\n",
    "script_path = pathlib.Path(repo_dir, 'u19_pipeline/utils/dlc_process.py').as_posix()\n",
    "\n",
    "local_repo_dir = '/Users/alvaros/Documents/MATLAB/BrainCogsProjects/Datajoint_proj/U19-pipeline_python/'\n",
    "\n",
    "slurms_filepath = pathlib.Path(local_repo_dir, 'u19_pipeline/automatic_job/SlurmFiles').as_posix()\n",
    "default_slurm_filename = 'slurm_real.slurm'\n",
    "\n",
    "for i in range(9, 10):\n",
    "    this_video_path = pathlib.Path(root_videopath, video_data_df.loc[i, 'remote_path_video_file']).as_posix()\n",
    "    this_results_path = pathlib.Path(proccesed_rootpath, video_data_df.loc[i, 'processed_path']).as_posix()\n",
    "\n",
    "    recording_process_id = str(i)\n",
    "\n",
    "    #Get all associated directories given the selected processing cluster\n",
    "    cluster_vars = ft.get_cluster_vars('tiger')\n",
    "\n",
    "    # Start with default values\n",
    "    slurm_dict = cluster_vars['slurm_default'].copy()\n",
    "    label_rec_process = 'rec'+recording_process_id\n",
    "    print('label_rec_process', label_rec_process)\n",
    "    slurm_dict['job-name'] = label_rec_process\n",
    "    slurm_dict['output'] = str(pathlib.Path(cluster_vars['log_files_dir'],label_rec_process+ '.log'))\n",
    "    slurm_text = sc.generate_slurm_dlc2(slurm_dict)\n",
    "\n",
    "    slurm_file_name = default_slurm_filename\n",
    "    slurm_file_local_path = pathlib.Path(slurms_filepath,slurm_file_name).as_posix()\n",
    "\n",
    "    write_file(slurm_file_local_path, slurm_text)\n",
    "\n",
    "    slurm_destination = pathlib.Path(cluster_vars['slurm_files_dir'], slurm_file_name).as_posix()\n",
    "\n",
    "    print(slurm_file_local_path)\n",
    "    print(slurm_destination)\n",
    "    print(cluster_vars)\n",
    "\n",
    "    status = transfer_slurm_file(slurm_file_local_path, slurm_destination, cluster_vars)\n",
    "            \n",
    "    processed_data_directory = pathlib.Path(this_results_path).as_posix()\n",
    "    repository_dir = repo_dir\n",
    "\n",
    "    command = ['ssh', cluster_vars['user']+\"@\"+cluster_vars['hostname'], 'sbatch', \n",
    "    \"--export=recording_process_id=\"+recording_process_id+\n",
    "    \",raw_data_directory=\"+this_video_path+\n",
    "    \",processed_data_directory=\"+processed_data_directory+\n",
    "    \",repository_dir='\"+repository_dir+\n",
    "    \"',process_script_path=\"+script_path+\n",
    "    \",model_path=\"+modelPath\n",
    "    , slurm_destination\n",
    "    ]\n",
    "\n",
    "    print(command)\n",
    "    p = subprocess.Popen(command, stdout=subprocess.PIPE, stderr=subprocess.PIPE)\n",
    "    #p = os.popen(command_new).read()\n",
    "    p.wait()\n",
    "    stdout, stderr = p.communicate()\n",
    "    print('stdout', stdout.decode('UTF-8'))\n",
    "    print('stderr', stderr.decode('UTF-8'))\n",
    "    print('p.returncode', p.returncode)\n",
    "\n",
    "    if p.returncode == config.system_process['SUCCESS']:\n",
    "        batch_job_sentence = stdout.decode('UTF-8')\n",
    "        print('batch_job_sentence', batch_job_sentence)\n",
    "        id_slurm_job   = batch_job_sentence.replace(\"Submitted batch job \",\"\")\n",
    "        id_slurm_job   = re.sub(r\"[\\n\\t\\s]*\", \"\", id_slurm_job)\n",
    "\n"
   ]
  },
  {
   "cell_type": "code",
   "execution_count": null,
   "metadata": {},
   "outputs": [],
   "source": []
  }
 ],
 "metadata": {
  "interpreter": {
   "hash": "b68cb9b332af36295e84dc584e8b8bfb5972cd3ec0d685e7a3a58d40e818c02c"
  },
  "kernelspec": {
   "display_name": "Python 3.9.12 ('u19_datajoint_py39_env')",
   "language": "python",
   "name": "python3"
  },
  "language_info": {
   "codemirror_mode": {
    "name": "ipython",
    "version": 3
   },
   "file_extension": ".py",
   "mimetype": "text/x-python",
   "name": "python",
   "nbconvert_exporter": "python",
   "pygments_lexer": "ipython3",
   "version": "3.9.12"
  },
  "orig_nbformat": 4
 },
 "nbformat": 4,
 "nbformat_minor": 2
}
