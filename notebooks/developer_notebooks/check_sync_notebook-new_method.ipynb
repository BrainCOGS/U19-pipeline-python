{
 "cells": [
  {
   "cell_type": "markdown",
   "metadata": {},
   "source": [
    "# Check sync process"
   ]
  },
  {
   "cell_type": "code",
   "execution_count": 2,
   "metadata": {},
   "outputs": [
    {
     "name": "stdout",
     "output_type": "stream",
     "text": [
      "Local configuration file found !!, no need to run the configuration (unless configuration has changed)\n"
     ]
    }
   ],
   "source": [
    "from scripts.conf_file_finding import try_find_conf_file\n",
    "try_find_conf_file()"
   ]
  },
  {
   "cell_type": "code",
   "execution_count": 3,
   "metadata": {},
   "outputs": [
    {
     "name": "stderr",
     "output_type": "stream",
     "text": [
      "c:\\Users\\luna_\\miniconda3\\envs\\u19_pipeline_python_env\\Lib\\site-packages\\datajoint\\plugin.py:4: UserWarning: pkg_resources is deprecated as an API. See https://setuptools.pypa.io/en/latest/pkg_resources.html. The pkg_resources package is slated for removal as early as 2025-11-30. Refrain from using this package or pin to Setuptools<81.\n",
      "  import pkg_resources\n",
      "c:\\Users\\luna_\\miniconda3\\envs\\u19_pipeline_python_env\\Lib\\site-packages\\datajoint\\plugin.py:4: UserWarning: Module scripts was already imported from None, but c:\\users\\luna_\\documents\\princetonprojects\\u19-pipeline-python is being added to sys.path\n",
      "  import pkg_resources\n",
      "[2025-10-17 17:59:32,042][INFO]: DataJoint 0.14.6 connected to alvaros@datajoint00.pni.princeton.edu:3306\n"
     ]
    }
   ],
   "source": [
    "import datetime\n",
    "import pathlib\n",
    "import numpy as np\n",
    "import pylab as pl\n",
    "import matplotlib\n",
    "import matplotlib.pyplot as plt\n",
    "from scipy.signal import find_peaks\n",
    "\n",
    "\n",
    "from u19_pipeline.ephys_pipeline import ephys_element, probe_element, get_session_directory, get_ephys_root_data_dir\n",
    "# import u19_pipeline.ephys_sync as ephys\n",
    "import u19_pipeline.acquisition as acquisition\n",
    "import datajoint as dj\n",
    "\n",
    "from element_interface.utils import find_full_path\n",
    "\n",
    "import u19_pipeline.utils.DemoReadSGLXData.readSGLX as readSGLX\n",
    "import u19_pipeline.utils.ephys_utils as ephys_utils\n"
   ]
  },
  {
   "cell_type": "code",
   "execution_count": 4,
   "metadata": {},
   "outputs": [
    {
     "data": {
      "text/plain": [
       "[{'recording_id': np.int64(500)}]"
      ]
     },
     "execution_count": 4,
     "metadata": {},
     "output_type": "execute_result"
    }
   ],
   "source": [
    "key = {'subject_fullname': 'jyanar_ya054',\n",
    "    'session_date': datetime.date(2025, 10, 11)}\n",
    "#key = {\n",
    "#    'subject_fullname': 'jjulian_jj046',\n",
    "#    'session_date': datetime.date(2022, 4, 19)}\n",
    "\n",
    "#key2 = 'subject_fullname = \"jjulian_jj046\" and session_date = \"2022-04-19\" and block >=2'\n",
    "#key = {\n",
    "#    'subject_fullname': 'jjulian_jj042',\n",
    "#    'session_date': datetime.date(2021, 10, 31)}\n",
    "\n",
    "\n",
    "key = (acquisition.Session & key).fetch1('KEY')\n",
    "key\n",
    "\n",
    "recording = dj.create_virtual_module('recording', 'u19_recording')\n",
    "\n",
    "recording_key = ((acquisition.Session * recording.Recording.BehaviorSession) & key).fetch('recording_id', as_dict=True)\n",
    "recording_key"
   ]
  },
  {
   "cell_type": "code",
   "execution_count": null,
   "metadata": {},
   "outputs": [
    {
     "data": {
      "text/plain": [
       "WindowsPath('jyanar/jyanar_ya054/20251011_g0/ya054_20251011_g0')"
      ]
     },
     "execution_count": 5,
     "metadata": {},
     "output_type": "execute_result"
    },
    {
     "ename": "",
     "evalue": "",
     "output_type": "error",
     "traceback": [
      "\u001b[1;31mThe Kernel crashed while executing code in the current cell or a previous cell. \n",
      "\u001b[1;31mPlease review the code in the cell(s) to identify a possible cause of the failure. \n",
      "\u001b[1;31mClick <a href='https://aka.ms/vscodeJupyterKernelCrash'>here</a> for more info. \n",
      "\u001b[1;31mView Jupyter <a href='command:jupyter.viewOutput'>log</a> for further details."
     ]
    }
   ],
   "source": [
    "session_dir = pathlib.Path(get_session_directory(recording_key[0]))\n",
    "session_dir\n"
   ]
  },
  {
   "cell_type": "code",
   "execution_count": null,
   "metadata": {},
   "outputs": [
    {
     "name": "stdout",
     "output_type": "stream",
     "text": [
      "\\\\cup.pni.princeton.edu\\braininit\\Data\\Raw\\electrophysiology\\jyanar\\jyanar_ya054\\20251011_g0\\ya054_20251011_g0\n",
      "nChan: 4, nFileSamp: 111367791\n"
     ]
    }
   ],
   "source": [
    "session_dir = find_full_path(get_ephys_root_data_dir(),\n",
    "                            get_session_directory(recording_key))\n",
    "print(session_dir)\n",
    "#session_dir = pathlib.Path('/Users/alvaros/Documents/MATLAB/BrainCogsProjects/CalciumImagingData/test_g0/')\n",
    "#Check if session is Nidq or OneBox\n",
    "nidq_session = list(session_dir.glob('*nidq.bin*'))\n",
    "obx_session = list(session_dir.glob('*obx.bin*'))\n",
    "\n",
    "if len(nidq_session) == 0 and len(obx_session) == 0:\n",
    "    print('No session found')\n",
    "elif len(nidq_session) > 0:\n",
    "    ephys_session_fullpath = nidq_session[0]\n",
    "else:\n",
    "    ephys_session_fullpath = obx_session[0]\n",
    "\n",
    "#Nidaq file\n",
    "nidq_meta          = readSGLX.readMeta(ephys_session_fullpath)\n",
    "nidq_sampling_rate = readSGLX.SampRate(nidq_meta)\n",
    "\n",
    "\n",
    "# 1: load meta data, and the content of the NIDAQ file. Its content is digital.            \n",
    "new_trial_channel = 1\n",
    "new_iteration_channel = 2\n",
    "# If PXIe card (nidq) card use for recording deduce digital channels\n",
    "if nidq_meta['typeThis'] == 'nidq':\n",
    "    digital_array      = ephys_utils.spice_glx_utility.load_spice_glx_digital_file(ephys_session_fullpath, nidq_meta)\n",
    "# If onebox card (obx) card use for recording digital channels are 0-2\n",
    "else:\n",
    "    digital_array      = ephys_utils.spice_glx_utility.load_spice_glx_digital_file(ephys_session_fullpath, nidq_meta, d_line_list=[0,1])\n",
    "    # If no sync pulse found trial and iteration signals are 0 & 1 respectively\n",
    "    new_trial_channel = 0\n",
    "    new_iteration_channel = 1"
   ]
  },
  {
   "cell_type": "markdown",
   "metadata": {},
   "source": [
    "# Synchronize ePhys and Behavior"
   ]
  },
  {
   "cell_type": "markdown",
   "metadata": {},
   "source": [
    "Populate the tables, using the nidaq file produced by spikeGLX. This is done automatically and produces a record of VR iteration numbers measured in the time of the ePhys setup."
   ]
  },
  {
   "cell_type": "markdown",
   "metadata": {},
   "source": [
    "### Read nidaq file and behavior data"
   ]
  },
  {
   "cell_type": "code",
   "execution_count": null,
   "metadata": {},
   "outputs": [],
   "source": [
    "#Behavior data\n",
    "behavior = dj.create_virtual_module('behavior', 'u19_behavior')\n",
    "thissession = behavior.TowersBlock().Trial() & key\n",
    "behavior_time, iterstart, beh_num_iterations = thissession.fetch('trial_time', 'vi_start', 'iterations')\n"
   ]
  },
  {
   "cell_type": "code",
   "execution_count": null,
   "metadata": {},
   "outputs": [
    {
     "data": {
      "text/plain": [
       "(282,)"
      ]
     },
     "execution_count": 10,
     "metadata": {},
     "output_type": "execute_result"
    }
   ],
   "source": [
    "behavior_time.shape"
   ]
  },
  {
   "cell_type": "code",
   "execution_count": 7,
   "metadata": {},
   "outputs": [
    {
     "name": "stdout",
     "output_type": "stream",
     "text": [
      "{'acqMnMaXaDw': '0,0,0,1', 'appVersion': '20231207', 'fileCreateTime': '2025-09-25T11:25:18', 'fileName': 'D:/NPX_DATA/jk8386/jk8386_jk86/jk86_20250925_g0/jk86_20250925_g0_t0.nidq.bin', 'fileSHA1': '9682B81358798B79D687DEDEFA1BA99920DEA3A9', 'fileSizeBytes': '37740126', 'fileTimeSecs': '3773.9652676824057', 'firstSample': '8254553', 'gateMode': 'Immediate', 'imErrFlags0_IS_CT_SR_LK_PP_SY': '0 0 0 0 0 0', 'nDataDirs': '1', 'nSavedChans': '1', 'niAiRangeMax': '5', 'niAiRangeMin': '-5', 'niAiTermination': 'Default', 'niClockLine1': 'Internal', 'niClockSource': 'PXI1Slot4_13ch_Int : 5000.000000', 'niDev1': 'PXI1Slot4', 'niDev1ProductName': 'PXIe-6341', 'niMAChans1': '', 'niMAGain': '1', 'niMNChans1': '', 'niMNGain': '200', 'niMaxInt': '32768', 'niMuxFactor': '32', 'niSampRate': '5000.062709', 'niStartEnable': 'false', 'niStartLine': 'PXI1Slot4/port0/line0', 'niXAChans1': '', 'niXDBytes1': '1', 'niXDChans1': '0:7', 'snsMnMaXaDw': '0,0,0,1', 'snsSaveChanSubset': 'all', 'syncNiChan': '0', 'syncNiChanType': '0', 'syncNiThresh': '1.1', 'syncSourceIdx': '3', 'syncSourcePeriod': '1', 'trigMode': 'Immediate', 'typeImEnabled': '1', 'typeNiEnabled': '1', 'typeObEnabled': '0', 'typeThis': 'nidq', 'userNotes': '', 'snsChanMap': '(0,0,32,0,1)(XD0;0:0)', 'snsShankMap': '(1,2,0)'}\n"
     ]
    }
   ],
   "source": [
    "print(nidq_meta)"
   ]
  },
  {
   "cell_type": "code",
   "execution_count": 9,
   "metadata": {},
   "outputs": [
    {
     "data": {
      "text/plain": [
       "array([[0, 0, 0, ..., 0, 0, 0],\n",
       "       [0, 0, 0, ..., 0, 0, 0]], shape=(2, 111367791), dtype=uint8)"
      ]
     },
     "execution_count": 9,
     "metadata": {},
     "output_type": "execute_result"
    }
   ],
   "source": [
    "digital_array"
   ]
  },
  {
   "cell_type": "code",
   "execution_count": 18,
   "metadata": {},
   "outputs": [
    {
     "data": {
      "text/plain": [
       "[<matplotlib.lines.Line2D at 0x1d52c002ae0>]"
      ]
     },
     "execution_count": 18,
     "metadata": {},
     "output_type": "execute_result"
    },
    {
     "data": {
      "image/png": "[encoded data removed]",
      "text/plain": [
       "<Figure size 640x480 with 1 Axes>"
      ]
     },
     "metadata": {},
     "output_type": "display_data"
    }
   ],
   "source": [
    "plt.plot(digital_array[1,:])"
   ]
  },
  {
   "cell_type": "code",
   "execution_count": 10,
   "metadata": {},
   "outputs": [
    {
     "data": {
      "text/plain": [
       "(2, 111367791)"
      ]
     },
     "execution_count": 10,
     "metadata": {},
     "output_type": "execute_result"
    }
   ],
   "source": [
    "digital_array.shape"
   ]
  },
  {
   "cell_type": "markdown",
   "metadata": {},
   "source": [
    "### Get samples and times where trials and iterations start"
   ]
  },
  {
   "cell_type": "code",
   "execution_count": 12,
   "metadata": {},
   "outputs": [
    {
     "ename": "IndexError",
     "evalue": "index 2 is out of bounds for axis 0 with size 2",
     "output_type": "error",
     "traceback": [
      "\u001b[31m---------------------------------------------------------------------------\u001b[39m",
      "\u001b[31mIndexError\u001b[39m                                Traceback (most recent call last)",
      "\u001b[36mCell\u001b[39m\u001b[36m \u001b[39m\u001b[32mIn[12]\u001b[39m\u001b[32m, line 3\u001b[39m\n\u001b[32m      1\u001b[39m mode = \u001b[38;5;28;01mNone\u001b[39;00m   \u001b[38;5;66;03m#Default for sessions before 12/01/2021\u001b[39;00m\n\u001b[32m      2\u001b[39m \u001b[38;5;66;03m#mode = 'pulses'    #Default for sessions after 12/01/2021\u001b[39;00m\n\u001b[32m----> \u001b[39m\u001b[32m3\u001b[39m iteration_dict = ephys_utils.get_iteration_sample_vector_from_digital_lines_pulses(digital_array[new_trial_channel,:], \u001b[43mdigital_array\u001b[49m\u001b[43m[\u001b[49m\u001b[43mnew_iteration_channel\u001b[49m\u001b[43m,\u001b[49m\u001b[43m:\u001b[49m\u001b[43m]\u001b[49m, nidq_sampling_rate, behavior_time.shape[\u001b[32m0\u001b[39m], behavior_time, mode=mode)\n\u001b[32m      4\u001b[39m \u001b[38;5;66;03m#                             get_iteration_sample_vector_from_digital_lines_pulses(trial_pulse_signal, iteration_pulse_signal,\u001b[39;00m\n\u001b[32m      5\u001b[39m \n\u001b[32m      6\u001b[39m \n\u001b[32m      7\u001b[39m \u001b[38;5;66;03m# Check # of trials and iterations match\u001b[39;00m\n\u001b[32m      8\u001b[39m trial_count_diff, trials_diff_iteration_big, trials_diff_iteration_small = ephys_utils.assert_iteration_samples_count(iteration_dict[\u001b[33m'\u001b[39m\u001b[33miter_start_idx\u001b[39m\u001b[33m'\u001b[39m], behavior_time)\n",
      "\u001b[31mIndexError\u001b[39m: index 2 is out of bounds for axis 0 with size 2"
     ]
    }
   ],
   "source": [
    "mode = None   #Default for sessions before 12/01/2021\n",
    "#mode = 'pulses'    #Default for sessions after 12/01/2021\n",
    "iteration_dict = ephys_utils.get_iteration_sample_vector_from_digital_lines_pulses(digital_array[new_trial_channel,:], digital_array[new_iteration_channel,:], nidq_sampling_rate, behavior_time.shape[0], behavior_time, mode=mode)\n",
    "#                             get_iteration_sample_vector_from_digital_lines_pulses(trial_pulse_signal, iteration_pulse_signal,\n",
    "\n",
    "\n",
    "# Check # of trials and iterations match\n",
    "trial_count_diff, trials_diff_iteration_big, trials_diff_iteration_small = ephys_utils.assert_iteration_samples_count(iteration_dict['iter_start_idx'], behavior_time)\n",
    "\n",
    "print(trial_count_diff)\n",
    "print(trials_diff_iteration_big)\n",
    "print(trials_diff_iteration_small)\n",
    "\n",
    "\n",
    "status = ephys_utils.evaluate_sync_process(trial_count_diff, trials_diff_iteration_big, trials_diff_iteration_small)\n"
   ]
  },
  {
   "cell_type": "code",
   "execution_count": 7,
   "metadata": {},
   "outputs": [
    {
     "data": {
      "text/plain": [
       "dict_keys(['framenumber_vector_samples', 'trialnumber_vector_samples', 'iter_start_idx', 'iter_times_idx'])"
      ]
     },
     "execution_count": 7,
     "metadata": {},
     "output_type": "execute_result"
    }
   ],
   "source": [
    "iteration_dict.keys()"
   ]
  },
  {
   "cell_type": "code",
   "execution_count": 11,
   "metadata": {},
   "outputs": [],
   "source": [
    "it_times = iteration_dict['iter_times_idx'][trials_diff_iteration_small[0]]\n",
    "beh_times = behavior_time[trials_diff_iteration_small[0]].flatten()"
   ]
  },
  {
   "cell_type": "code",
   "execution_count": 16,
   "metadata": {},
   "outputs": [
    {
     "data": {
      "text/plain": [
       "array([658, 734])"
      ]
     },
     "execution_count": 16,
     "metadata": {},
     "output_type": "execute_result"
    }
   ],
   "source": [
    "if it_times.shape[0] >= beh_times.shape[0]:\n",
    "    print('More pulses than behavior iterations, check other method')\n",
    "else:\n",
    "    diff_vector = np.diff(it_times - beh_times[:it_times.shape[0]])\n",
    "\n",
    "import scipy\n",
    "peaks, _ = scipy.signal.find_peaks(diff_vector, height=0.05, distance=20)\n",
    "peaks"
   ]
  },
  {
   "cell_type": "code",
   "execution_count": 14,
   "metadata": {},
   "outputs": [
    {
     "data": {
      "image/png": "[encoded data removed]",
      "text/plain": [
       "<Figure size 432x288 with 1 Axes>"
      ]
     },
     "metadata": {
      "needs_background": "light"
     },
     "output_type": "display_data"
    }
   ],
   "source": [
    "plt.plot(diff_vector)\n",
    "plt.plot(peaks, diff_vector[peaks], \"x\")\n",
    "plt.show()"
   ]
  },
  {
   "cell_type": "code",
   "execution_count": 21,
   "metadata": {},
   "outputs": [],
   "source": [
    "difo_iters = np.diff(iteration_dict['iter_start_idx'][trials_diff_iteration_small[0]])\n",
    "peaks2, _ = scipy.signal.find_peaks(difo_iters, height=1500, distance=20)"
   ]
  },
  {
   "cell_type": "code",
   "execution_count": 24,
   "metadata": {},
   "outputs": [
    {
     "data": {
      "text/plain": [
       "892"
      ]
     },
     "execution_count": 24,
     "metadata": {},
     "output_type": "execute_result"
    }
   ],
   "source": [
    "original_iter = iteration_dict['iter_start_idx'][trials_diff_iteration_small[0]]\n",
    "new_iter_start = iteration_dict['iter_start_idx'][trials_diff_iteration_small[0]]\n",
    "\n",
    "for i in range(peaks.shape[0]):\n",
    "    value_insert = (original_iter[peaks[i]] + original_iter[peaks[i]+1] ) /2\n",
    "    new_iter_start = np.insert(new_iter_start, peaks[i], value_insert)\n",
    "\n",
    "\n",
    "if new_iter_start.shape[0] != beh_times[:it_times.shape[0]]:\n",
    "    print('with peak strategy, could not find correct missing iterations')\n"
   ]
  },
  {
   "cell_type": "code",
   "execution_count": 30,
   "metadata": {},
   "outputs": [
    {
     "data": {
      "text/plain": [
       "(0,)"
      ]
     },
     "execution_count": 30,
     "metadata": {},
     "output_type": "execute_result"
    }
   ],
   "source": [
    "so = np.empty(0)\n",
    "so.shape"
   ]
  },
  {
   "cell_type": "code",
   "execution_count": 25,
   "metadata": {},
   "outputs": [
    {
     "data": {
      "text/plain": [
       "[<matplotlib.lines.Line2D at 0x7f122b074730>]"
      ]
     },
     "execution_count": 25,
     "metadata": {},
     "output_type": "execute_result"
    },
    {
     "data": {
      "image/png": "[encoded data removed]",
      "text/plain": [
       "<Figure size 432x288 with 1 Axes>"
      ]
     },
     "metadata": {
      "needs_background": "light"
     },
     "output_type": "display_data"
    }
   ],
   "source": [
    "times = new_iter_start/nidq_sampling_rate\n",
    "times = times - times[0]\n",
    "new_diff_times = times - beh_times\n",
    "plt.plot(new_diff_times)"
   ]
  },
  {
   "cell_type": "code",
   "execution_count": 28,
   "metadata": {},
   "outputs": [
    {
     "data": {
      "text/plain": [
       "array([12.291347, 12.304482, 12.31789 , 12.331045, 12.344059],\n",
       "      dtype=float32)"
      ]
     },
     "execution_count": 28,
     "metadata": {},
     "output_type": "execute_result"
    }
   ],
   "source": [
    "beh_times[-5:]"
   ]
  },
  {
   "cell_type": "code",
   "execution_count": 22,
   "metadata": {},
   "outputs": [
    {
     "name": "stdout",
     "output_type": "stream",
     "text": [
      "dict_keys(['framenumber_vector_samples', 'trialnumber_vector_samples', 'iter_start_idx', 'iter_times_idx'])\n",
      "[1212738 1212739 1212740 ... 1292073 1292074 1292075]\n"
     ]
    }
   ],
   "source": [
    "print(iteration_dict.keys())\n",
    "so = np.where(iteration_dict['trialnumber_vector_samples'] == 12)\n",
    "\n",
    "print(so[0])\n"
   ]
  },
  {
   "cell_type": "markdown",
   "metadata": {},
   "source": [
    "### Plot signals around start of a trial"
   ]
  },
  {
   "cell_type": "code",
   "execution_count": 41,
   "metadata": {},
   "outputs": [
    {
     "name": "stdout",
     "output_type": "stream",
     "text": [
      "time from niDAQ 41.01721652828713\n",
      "time behavior [40.958096]\n",
      "samples nidaq 1025429\n",
      "iter nidaq (2705,)\n",
      "iter_virmen (2704, 1)\n"
     ]
    },
    {
     "data": {
      "image/png": "[encoded data removed]",
      "text/plain": [
       "<Figure size 432x288 with 1 Axes>"
      ]
     },
     "metadata": {
      "needs_background": "light"
     },
     "output_type": "display_data"
    }
   ],
   "source": [
    "trial_plot = 280\n",
    "samp_before = 3000\n",
    "start_iter = 2704\n",
    "end_iter = 2704\n",
    "samp_after = 60000\n",
    "\n",
    "plt.plot(digital_array[1,iteration_dict['iter_start_idx'][trial_plot][start_iter]-samp_before:iteration_dict['iter_start_idx'][trial_plot][end_iter]]+samp_after)\n",
    "plt.plot(digital_array[2,iteration_dict['iter_start_idx'][trial_plot][start_iter]-samp_before:iteration_dict['iter_start_idx'][trial_plot][end_iter]]+samp_after)\n",
    "\n",
    "\n",
    "iter_nidaq = (iteration_dict['iter_start_idx'][trial_plot][-1]-iteration_dict['iter_start_idx'][trial_plot][0])\n",
    "time = iter_nidaq/nidq_sampling_rate\n",
    "iter_virmen = time*120\n",
    "\n",
    "print('time from niDAQ', time)\n",
    "print('time behavior', behavior_time[trial_plot][-1])\n",
    "\n",
    "print('samples nidaq', iter_nidaq)\n",
    "print('iter nidaq', iteration_dict['iter_start_idx'][trial_plot].shape)\n",
    "print('iter_virmen',behavior_time[trial_plot].shape)"
   ]
  },
  {
   "cell_type": "code",
   "execution_count": 54,
   "metadata": {},
   "outputs": [
    {
     "name": "stdout",
     "output_type": "stream",
     "text": [
      "time from niDAQ 41.01721652828713\n",
      "time behavior [40.958096]\n",
      "samples nidaq 1025429\n",
      "iter nidaq (2705,)\n",
      "iter_virmen (2704, 1)\n"
     ]
    },
    {
     "data": {
      "image/png": "[encoded data removed]",
      "text/plain": [
       "<Figure size 432x288 with 1 Axes>"
      ]
     },
     "metadata": {
      "needs_background": "light"
     },
     "output_type": "display_data"
    }
   ],
   "source": [
    "trial_plot = 280\n",
    "samp_before = 3000\n",
    "start_iter = 2704\n",
    "samp_after = 600\n",
    "\n",
    "plt.plot(digital_array[2,iteration_dict['iter_start_idx'][trial_plot][start_iter]-samp_before:iteration_dict['iter_start_idx'][trial_plot+1][0]+samp_after])\n",
    "plt.plot(digital_array[1,iteration_dict['iter_start_idx'][trial_plot][start_iter]-samp_before:iteration_dict['iter_start_idx'][trial_plot+1][0]+samp_after])\n",
    "\n",
    "\n",
    "iter_nidaq = (iteration_dict['iter_start_idx'][trial_plot][-1]-iteration_dict['iter_start_idx'][trial_plot][0])\n",
    "time = iter_nidaq/nidq_sampling_rate\n",
    "iter_virmen = time*120\n",
    "\n",
    "print('time from niDAQ', time)\n",
    "print('time behavior', behavior_time[trial_plot][-1])\n",
    "\n",
    "print('samples nidaq', iter_nidaq)\n",
    "print('iter nidaq', iteration_dict['iter_start_idx'][trial_plot].shape)\n",
    "print('iter_virmen',behavior_time[trial_plot].shape)"
   ]
  },
  {
   "cell_type": "code",
   "execution_count": 44,
   "metadata": {},
   "outputs": [
    {
     "name": "stdout",
     "output_type": "stream",
     "text": [
      "97225703\n",
      "97225711\n"
     ]
    }
   ],
   "source": [
    "trial_plot = 280\n",
    "print(iteration_dict['iter_start_idx'][trial_plot][2704])\n",
    "print(iteration_dict['iter_start_idx'][trial_plot+1][0])"
   ]
  },
  {
   "cell_type": "code",
   "execution_count": 23,
   "metadata": {},
   "outputs": [
    {
     "data": {
      "text/plain": [
       "[<matplotlib.lines.Line2D at 0x7f867fc8fe50>]"
      ]
     },
     "execution_count": 23,
     "metadata": {},
     "output_type": "execute_result"
    },
    {
     "data": {
      "image/png": "[encoded data removed]",
      "text/plain": [
       "<Figure size 432x288 with 1 Axes>"
      ]
     },
     "metadata": {
      "needs_background": "light"
     },
     "output_type": "display_data"
    }
   ],
   "source": [
    "plt.plot(np.diff(iteration_dict['iter_start_idx'][trial_plot]/nidq_sampling_rate))"
   ]
  },
  {
   "cell_type": "code",
   "execution_count": 36,
   "metadata": {},
   "outputs": [
    {
     "data": {
      "text/plain": [
       "[<matplotlib.lines.Line2D at 0x7f867f1f6370>]"
      ]
     },
     "execution_count": 36,
     "metadata": {},
     "output_type": "execute_result"
    },
    {
     "data": {
      "image/png": "[encoded data removed]",
      "text/plain": [
       "<Figure size 432x288 with 1 Axes>"
      ]
     },
     "metadata": {
      "needs_background": "light"
     },
     "output_type": "display_data"
    }
   ],
   "source": [
    "plt.plot(np.diff(behavior_time[trial_plot].flatten()))"
   ]
  },
  {
   "cell_type": "code",
   "execution_count": 34,
   "metadata": {},
   "outputs": [
    {
     "name": "stdout",
     "output_type": "stream",
     "text": [
      "[0.0000000e+00 2.4555599e-02 3.8950201e-02 ... 4.0928226e+01 4.0943489e+01\n",
      " 4.0958096e+01]\n"
     ]
    }
   ],
   "source": [
    "print(behavior_time[trial_plot].flatten())"
   ]
  },
  {
   "cell_type": "markdown",
   "metadata": {},
   "source": [
    "### Plot average time differences between behavior file and nidaq time"
   ]
  },
  {
   "cell_type": "code",
   "execution_count": 18,
   "metadata": {},
   "outputs": [
    {
     "ename": "ValueError",
     "evalue": "operands could not be broadcast together with shapes (2704,) (2705,) ",
     "output_type": "error",
     "traceback": [
      "\u001b[0;31m---------------------------------------------------------------------------\u001b[0m",
      "\u001b[0;31mValueError\u001b[0m                                Traceback (most recent call last)",
      "\u001b[1;32m/usr/people/alvaros/BrainCogsProjects/Datajoint_projs/U19-pipeline_python/notebooks/ephys_element/check_sync_notebook-new_method.ipynb Cell 23\u001b[0m in \u001b[0;36m<cell line: 3>\u001b[0;34m()\u001b[0m\n\u001b[1;32m      <a href='vscode-notebook-cell://ssh-remote%2Bscotty.princeton.edu/usr/people/alvaros/BrainCogsProjects/Datajoint_projs/U19-pipeline_python/notebooks/ephys_element/check_sync_notebook-new_method.ipynb#X30sdnNjb2RlLXJlbW90ZQ%3D%3D?line=1'>2</a>\u001b[0m mean_x \u001b[39m=\u001b[39m np\u001b[39m.\u001b[39marray([])\n\u001b[1;32m      <a href='vscode-notebook-cell://ssh-remote%2Bscotty.princeton.edu/usr/people/alvaros/BrainCogsProjects/Datajoint_projs/U19-pipeline_python/notebooks/ephys_element/check_sync_notebook-new_method.ipynb#X30sdnNjb2RlLXJlbW90ZQ%3D%3D?line=2'>3</a>\u001b[0m \u001b[39mfor\u001b[39;00m i \u001b[39min\u001b[39;00m \u001b[39mrange\u001b[39m(iteration_dict[\u001b[39m'\u001b[39m\u001b[39miter_times_idx\u001b[39m\u001b[39m'\u001b[39m]\u001b[39m.\u001b[39mshape[\u001b[39m0\u001b[39m]\u001b[39m-\u001b[39m\u001b[39m1\u001b[39m):\n\u001b[0;32m----> <a href='vscode-notebook-cell://ssh-remote%2Bscotty.princeton.edu/usr/people/alvaros/BrainCogsProjects/Datajoint_projs/U19-pipeline_python/notebooks/ephys_element/check_sync_notebook-new_method.ipynb#X30sdnNjb2RlLXJlbW90ZQ%3D%3D?line=3'>4</a>\u001b[0m     s \u001b[39m=\u001b[39m behavior_time[i]\u001b[39m.\u001b[39;49mflatten()\u001b[39m-\u001b[39;49miteration_dict[\u001b[39m'\u001b[39;49m\u001b[39miter_times_idx\u001b[39;49m\u001b[39m'\u001b[39;49m][i]\n\u001b[1;32m      <a href='vscode-notebook-cell://ssh-remote%2Bscotty.princeton.edu/usr/people/alvaros/BrainCogsProjects/Datajoint_projs/U19-pipeline_python/notebooks/ephys_element/check_sync_notebook-new_method.ipynb#X30sdnNjb2RlLXJlbW90ZQ%3D%3D?line=4'>5</a>\u001b[0m     mean_time_trial \u001b[39m=\u001b[39m np\u001b[39m.\u001b[39mmean(s)\n\u001b[1;32m      <a href='vscode-notebook-cell://ssh-remote%2Bscotty.princeton.edu/usr/people/alvaros/BrainCogsProjects/Datajoint_projs/U19-pipeline_python/notebooks/ephys_element/check_sync_notebook-new_method.ipynb#X30sdnNjb2RlLXJlbW90ZQ%3D%3D?line=5'>6</a>\u001b[0m     x \u001b[39m=\u001b[39m np\u001b[39m.\u001b[39mappend(x,s, axis\u001b[39m=\u001b[39m\u001b[39m0\u001b[39m)\n",
      "\u001b[0;31mValueError\u001b[0m: operands could not be broadcast together with shapes (2704,) (2705,) "
     ]
    }
   ],
   "source": [
    "x = np.array([])\n",
    "mean_x = np.array([])\n",
    "for i in range(iteration_dict['iter_times_idx'].shape[0]-1):\n",
    "    s = behavior_time[i].flatten()-iteration_dict['iter_times_idx'][i]\n",
    "    mean_time_trial = np.mean(s)\n",
    "    x = np.append(x,s, axis=0)\n",
    "    mean_x = np.append(mean_x, mean_time_trial)\n",
    "\n",
    "#plt.plot(x)\n",
    "plt.plot(mean_x)\n"
   ]
  },
  {
   "cell_type": "markdown",
   "metadata": {},
   "source": [
    "### Test BehaviorSync insertion"
   ]
  },
  {
   "cell_type": "code",
   "execution_count": 4,
   "metadata": {
    "tags": []
   },
   "outputs": [
    {
     "name": "stdout",
     "output_type": "stream",
     "text": [
      "nChan: 1, nFileSamp: 18400502\n",
      "1\n",
      "1436\n",
      "1436\n",
      "2\n",
      "1337\n",
      "1337\n",
      "3\n",
      "1201\n",
      "1201\n",
      "4\n",
      "1147\n",
      "1147\n",
      "5\n",
      "1017\n",
      "1017\n",
      "6\n",
      "1171\n",
      "1171\n",
      "7\n",
      "1778\n",
      "1778\n",
      "8\n",
      "1725\n",
      "1725\n",
      "9\n",
      "1285\n",
      "1285\n",
      "10\n",
      "935\n",
      "935\n",
      "11\n",
      "1008\n",
      "1008\n",
      "12\n",
      "904\n",
      "904\n",
      "13\n",
      "1149\n",
      "1149\n",
      "14\n",
      "1105\n",
      "1105\n",
      "15\n",
      "976\n",
      "976\n",
      "16\n",
      "1210\n",
      "1210\n",
      "17\n",
      "1088\n",
      "1088\n",
      "18\n",
      "1090\n",
      "1090\n",
      "19\n",
      "1190\n",
      "1190\n",
      "20\n",
      "1025\n",
      "1025\n",
      "21\n",
      "1645\n",
      "1645\n",
      "22\n",
      "1816\n",
      "1816\n",
      "23\n",
      "1859\n",
      "1859\n",
      "24\n",
      "1854\n",
      "1854\n",
      "25\n",
      "1630\n",
      "1630\n",
      "26\n",
      "1022\n",
      "1022\n",
      "27\n",
      "1048\n",
      "1048\n",
      "28\n",
      "997\n",
      "997\n",
      "29\n",
      "1080\n",
      "1080\n",
      "30\n",
      "979\n",
      "979\n",
      "31\n",
      "1047\n",
      "1047\n",
      "32\n",
      "1021\n",
      "1021\n",
      "33\n",
      "1022\n",
      "1022\n",
      "34\n",
      "1082\n",
      "1082\n",
      "35\n",
      "1105\n",
      "1105\n",
      "36\n",
      "1013\n",
      "1013\n",
      "37\n",
      "1786\n",
      "1786\n",
      "38\n",
      "3131\n",
      "3131\n",
      "39\n",
      "985\n",
      "985\n",
      "40\n",
      "1150\n",
      "1150\n",
      "41\n",
      "3314\n",
      "3314\n",
      "42\n",
      "1003\n",
      "1003\n",
      "43\n",
      "1670\n",
      "1670\n",
      "44\n",
      "1713\n",
      "1713\n",
      "45\n",
      "1750\n",
      "1750\n",
      "46\n",
      "1780\n",
      "1780\n",
      "47\n",
      "1750\n",
      "1750\n",
      "48\n",
      "1108\n",
      "1108\n",
      "49\n",
      "1609\n",
      "1609\n",
      "50\n",
      "1312\n",
      "1312\n",
      "51\n",
      "1662\n",
      "1662\n",
      "52\n",
      "1458\n",
      "1458\n",
      "53\n",
      "1049\n",
      "1049\n",
      "54\n",
      "1124\n",
      "1124\n",
      "55\n",
      "1625\n",
      "1625\n",
      "56\n",
      "1339\n",
      "1339\n",
      "57\n",
      "1083\n",
      "1083\n",
      "58\n",
      "1104\n",
      "1104\n",
      "59\n",
      "1046\n",
      "1046\n",
      "60\n",
      "1289\n",
      "1289\n",
      "61\n",
      "1180\n",
      "1180\n",
      "62\n",
      "1167\n",
      "1167\n",
      "63\n",
      "1102\n",
      "1102\n",
      "64\n",
      "1784\n",
      "1784\n",
      "65\n",
      "2114\n",
      "2114\n",
      "66\n",
      "1514\n",
      "1514\n",
      "67\n",
      "1145\n",
      "1145\n",
      "68\n",
      "1056\n",
      "1056\n",
      "69\n",
      "1020\n",
      "1020\n",
      "70\n",
      "1002\n",
      "1002\n",
      "71\n",
      "1206\n",
      "1206\n",
      "72\n",
      "1036\n",
      "1036\n",
      "73\n",
      "1057\n",
      "1057\n",
      "74\n",
      "1000\n",
      "1000\n",
      "75\n",
      "1066\n",
      "1066\n",
      "76\n",
      "1114\n",
      "1114\n",
      "77\n",
      "2133\n",
      "2133\n",
      "78\n",
      "1118\n",
      "1118\n",
      "79\n",
      "1196\n",
      "1196\n",
      "80\n",
      "988\n",
      "988\n",
      "81\n",
      "1915\n",
      "1915\n",
      "82\n",
      "1036\n",
      "1036\n",
      "83\n",
      "1058\n",
      "1058\n",
      "84\n",
      "1748\n",
      "1748\n",
      "85\n",
      "1814\n",
      "1814\n",
      "86\n",
      "1329\n",
      "1329\n",
      "87\n",
      "1090\n",
      "1090\n",
      "88\n",
      "1709\n",
      "1709\n",
      "89\n",
      "1265\n",
      "1265\n",
      "90\n",
      "1074\n",
      "1074\n",
      "91\n",
      "1102\n",
      "1102\n",
      "92\n",
      "1759\n",
      "1759\n",
      "93\n",
      "1758\n",
      "1758\n",
      "94\n",
      "1711\n",
      "1711\n",
      "95\n",
      "1219\n",
      "1219\n",
      "96\n",
      "1803\n",
      "1803\n",
      "97\n",
      "1432\n",
      "1432\n",
      "98\n",
      "1168\n",
      "1168\n",
      "99\n",
      "1639\n",
      "1639\n",
      "100\n",
      "1969\n",
      "1969\n",
      "101\n",
      "1305\n",
      "1305\n",
      "102\n",
      "1238\n",
      "1238\n",
      "103\n",
      "1123\n",
      "1123\n",
      "104\n",
      "1134\n",
      "1134\n",
      "105\n",
      "1089\n",
      "1089\n",
      "106\n",
      "1126\n",
      "1126\n",
      "107\n",
      "1142\n",
      "1142\n",
      "108\n",
      "1326\n",
      "1326\n",
      "109\n",
      "1148\n",
      "1148\n",
      "110\n",
      "1155\n",
      "1155\n",
      "111\n",
      "1264\n",
      "1264\n",
      "112\n",
      "1280\n",
      "1280\n",
      "113\n",
      "1129\n",
      "1129\n",
      "114\n",
      "1068\n",
      "1068\n",
      "115\n",
      "2523\n",
      "2523\n",
      "116\n",
      "1675\n",
      "1675\n",
      "117\n",
      "1088\n",
      "1088\n",
      "118\n",
      "1264\n",
      "1264\n",
      "119\n",
      "1130\n",
      "1130\n",
      "120\n",
      "1144\n",
      "1144\n",
      "121\n",
      "1327\n",
      "1327\n",
      "122\n",
      "1420\n",
      "1420\n",
      "123\n",
      "1965\n",
      "1965\n",
      "124\n",
      "1647\n",
      "1647\n",
      "125\n",
      "1829\n",
      "1829\n",
      "126\n",
      "1300\n",
      "1300\n",
      "127\n",
      "1163\n",
      "1163\n",
      "128\n",
      "1743\n",
      "1743\n",
      "129\n",
      "1169\n",
      "1169\n",
      "130\n",
      "1107\n",
      "1107\n",
      "131\n",
      "1097\n",
      "1097\n",
      "132\n",
      "1050\n",
      "1050\n",
      "133\n",
      "1053\n",
      "1053\n",
      "134\n",
      "1066\n",
      "1066\n",
      "135\n",
      "1722\n",
      "1722\n",
      "136\n",
      "1472\n",
      "1472\n",
      "137\n",
      "1704\n",
      "1704\n",
      "138\n",
      "2078\n",
      "2078\n",
      "139\n",
      "1575\n",
      "1575\n",
      "140\n",
      "1646\n",
      "1646\n",
      "141\n",
      "1891\n",
      "1891\n",
      "142\n",
      "1376\n",
      "1376\n",
      "143\n",
      "1124\n",
      "1124\n",
      "144\n",
      "1663\n",
      "1663\n",
      "145\n",
      "1324\n",
      "1324\n",
      "146\n",
      "1833\n",
      "1833\n",
      "147\n",
      "2033\n",
      "2033\n",
      "148\n",
      "1695\n",
      "1695\n",
      "149\n",
      "1091\n",
      "1091\n",
      "150\n",
      "1073\n",
      "1073\n",
      "151\n",
      "1484\n",
      "1484\n",
      "152\n",
      "1661\n",
      "1661\n",
      "153\n",
      "1709\n",
      "1709\n",
      "154\n",
      "1406\n",
      "1406\n",
      "155\n",
      "1190\n",
      "1190\n",
      "156\n",
      "1028\n",
      "1028\n",
      "157\n",
      "1114\n",
      "1114\n",
      "158\n",
      "1256\n",
      "1256\n",
      "159\n",
      "1125\n",
      "1125\n",
      "160\n",
      "1377\n",
      "1377\n",
      "161\n",
      "1199\n",
      "1199\n",
      "162\n",
      "1317\n",
      "1317\n",
      "163\n",
      "1687\n",
      "1687\n",
      "164\n",
      "1814\n",
      "1814\n",
      "165\n",
      "1815\n",
      "1815\n",
      "166\n",
      "1824\n",
      "1824\n",
      "167\n",
      "2525\n",
      "2525\n",
      "168\n",
      "1765\n",
      "1765\n",
      "169\n",
      "2367\n",
      "2367\n",
      "170\n",
      "1200\n",
      "1200\n",
      "171\n",
      "1073\n",
      "1073\n",
      "172\n",
      "1224\n",
      "1224\n",
      "173\n",
      "1385\n",
      "1385\n",
      "174\n",
      "1274\n",
      "1274\n",
      "175\n",
      "1196\n",
      "1196\n",
      "176\n",
      "1112\n",
      "1112\n",
      "177\n",
      "1124\n",
      "1124\n",
      "178\n",
      "1135\n",
      "1135\n",
      "179\n",
      "1191\n",
      "1191\n",
      "180\n",
      "1733\n",
      "1733\n",
      "181\n",
      "1283\n",
      "1283\n",
      "182\n",
      "1143\n",
      "1143\n",
      "183\n",
      "1669\n",
      "1669\n",
      "184\n",
      "1855\n",
      "1855\n",
      "{'subject_fullname': 'jjulian_jj046', 'session_date': datetime.date(2022, 4, 19), 'session_number': 0, 'nidq_sampling_rate': 5000.062709, 'iteration_index_nidq': array([nan, nan, nan, ..., nan, nan, nan]), 'trial_index_nidq': array([nan, nan, nan, ..., nan, nan, nan])}\n"
     ]
    }
   ],
   "source": [
    "ephys.BehaviorSync.populate(key)"
   ]
  },
  {
   "cell_type": "code",
   "execution_count": 5,
   "metadata": {},
   "outputs": [
    {
     "data": {
      "text/html": [
       "\n",
       "    \n",
       "    <style type=\"text/css\">\n",
       "        .Relation{\n",
       "            border-collapse:collapse;\n",
       "        }\n",
       "        .Relation th{\n",
       "            background: #A0A0A0; color: #ffffff; padding:4px; border:#f0e0e0 1px solid;\n",
       "            font-weight: normal; font-family: monospace; font-size: 100%;\n",
       "        }\n",
       "        .Relation td{\n",
       "            padding:4px; border:#f0e0e0 1px solid; font-size:100%;\n",
       "        }\n",
       "        .Relation tr:nth-child(odd){\n",
       "            background: #ffffff;\n",
       "        }\n",
       "        .Relation tr:nth-child(even){\n",
       "            background: #f3f1ff;\n",
       "        }\n",
       "        /* Tooltip container */\n",
       "        .djtooltip {\n",
       "        }\n",
       "        /* Tooltip text */\n",
       "        .djtooltip .djtooltiptext {\n",
       "            visibility: hidden;\n",
       "            width: 120px;\n",
       "            background-color: black;\n",
       "            color: #fff;\n",
       "            text-align: center;\n",
       "            padding: 5px 0;\n",
       "            border-radius: 6px;\n",
       "            /* Position the tooltip text - see examples below! */\n",
       "            position: absolute;\n",
       "            z-index: 1;\n",
       "        }\n",
       "        #primary {\n",
       "            font-weight: bold;\n",
       "            color: black;\n",
       "        }\n",
       "        #nonprimary {\n",
       "            font-weight: normal;\n",
       "            color: white;\n",
       "        }\n",
       "\n",
       "        /* Show the tooltip text when you mouse over the tooltip container */\n",
       "        .djtooltip:hover .djtooltiptext {\n",
       "            visibility: visible;\n",
       "        }\n",
       "    </style>\n",
       "    \n",
       "    <b></b>\n",
       "        <div style=\"max-height:1000px;max-width:1500px;overflow:auto;\">\n",
       "        <table border=\"1\" class=\"Relation\">\n",
       "            <thead> <tr style=\"text-align: right;\"> <th> <div class=\"djtooltip\">\n",
       "                            <p id=\"primary\">subject_fullname</p>\n",
       "                            <span class=\"djtooltiptext\">username_mouse_nickname</span>\n",
       "                        </div></th><th><div class=\"djtooltip\">\n",
       "                            <p id=\"primary\">session_date</p>\n",
       "                            <span class=\"djtooltiptext\">date of experiment</span>\n",
       "                        </div></th><th><div class=\"djtooltip\">\n",
       "                            <p id=\"primary\">session_number</p>\n",
       "                            <span class=\"djtooltiptext\">number</span>\n",
       "                        </div></th><th><div class=\"djtooltip\">\n",
       "                            <p id=\"nonprimary\">nidq_sampling_rate</p>\n",
       "                            <span class=\"djtooltiptext\">sampling rate of behavioral iterations niSampRate in nidq meta file</span>\n",
       "                        </div></th><th><div class=\"djtooltip\">\n",
       "                            <p id=\"nonprimary\">iteration_index_nidq</p>\n",
       "                            <span class=\"djtooltiptext\">length of this longblob should be the number of iterations in the behavior recording</span>\n",
       "                        </div></th><th><div class=\"djtooltip\">\n",
       "                            <p id=\"nonprimary\">trial_index_nidq</p>\n",
       "                            <span class=\"djtooltiptext\">length of this longblob should be the number of iterations in the behavior recording</span>\n",
       "                        </div> </th> </tr> </thead>\n",
       "            <tbody> <tr> <td>hnieh_E105</td>\n",
       "<td>2021-01-15</td>\n",
       "<td>0</td>\n",
       "<td>5000.08</td>\n",
       "<td>=BLOB=</td>\n",
       "<td>=BLOB=</td></tr><tr><td>jjulian_jj042</td>\n",
       "<td>2021-10-31</td>\n",
       "<td>0</td>\n",
       "<td>5000.06</td>\n",
       "<td>=BLOB=</td>\n",
       "<td>=BLOB=</td></tr><tr><td>jjulian_jj042</td>\n",
       "<td>2021-11-01</td>\n",
       "<td>0</td>\n",
       "<td>5000.06</td>\n",
       "<td>=BLOB=</td>\n",
       "<td>=BLOB=</td></tr><tr><td>jjulian_jj046</td>\n",
       "<td>2022-04-19</td>\n",
       "<td>0</td>\n",
       "<td>5000.06</td>\n",
       "<td>=BLOB=</td>\n",
       "<td>=BLOB=</td></tr><tr><td>jjulian_jj048</td>\n",
       "<td>2022-01-14</td>\n",
       "<td>0</td>\n",
       "<td>5000.06</td>\n",
       "<td>=BLOB=</td>\n",
       "<td>=BLOB=</td></tr><tr><td>jjulian_jj048</td>\n",
       "<td>2022-01-15</td>\n",
       "<td>0</td>\n",
       "<td>5000.06</td>\n",
       "<td>=BLOB=</td>\n",
       "<td>=BLOB=</td></tr><tr><td>jjulian_jj048</td>\n",
       "<td>2022-01-16</td>\n",
       "<td>0</td>\n",
       "<td>5000.06</td>\n",
       "<td>=BLOB=</td>\n",
       "<td>=BLOB=</td></tr><tr><td>jjulian_jj048</td>\n",
       "<td>2022-01-17</td>\n",
       "<td>0</td>\n",
       "<td>5000.06</td>\n",
       "<td>=BLOB=</td>\n",
       "<td>=BLOB=</td></tr><tr><td>jjulian_jj049</td>\n",
       "<td>2022-01-14</td>\n",
       "<td>0</td>\n",
       "<td>5000.06</td>\n",
       "<td>=BLOB=</td>\n",
       "<td>=BLOB=</td></tr><tr><td>jjulian_jj049</td>\n",
       "<td>2022-01-15</td>\n",
       "<td>0</td>\n",
       "<td>5000.06</td>\n",
       "<td>=BLOB=</td>\n",
       "<td>=BLOB=</td></tr><tr><td>jjulian_jj049</td>\n",
       "<td>2022-01-16</td>\n",
       "<td>0</td>\n",
       "<td>5000.06</td>\n",
       "<td>=BLOB=</td>\n",
       "<td>=BLOB=</td></tr><tr><td>jjulian_jj049</td>\n",
       "<td>2022-01-17</td>\n",
       "<td>0</td>\n",
       "<td>5000.06</td>\n",
       "<td>=BLOB=</td>\n",
       "<td>=BLOB=</td> </tr> </tbody>\n",
       "        </table>\n",
       "        <p>...</p>\n",
       "        <p>Total: 74</p></div>\n",
       "        "
      ],
      "text/plain": [
       "*subject_fulln *session_date  *session_numbe nidq_sampling_ iteration_ trial_inde\n",
       "+------------+ +------------+ +------------+ +------------+ +--------+ +--------+\n",
       "hnieh_E105     2021-01-15     0              5000.08        =BLOB=     =BLOB=    \n",
       "jjulian_jj042  2021-10-31     0              5000.06        =BLOB=     =BLOB=    \n",
       "jjulian_jj042  2021-11-01     0              5000.06        =BLOB=     =BLOB=    \n",
       "jjulian_jj046  2022-04-19     0              5000.06        =BLOB=     =BLOB=    \n",
       "jjulian_jj048  2022-01-14     0              5000.06        =BLOB=     =BLOB=    \n",
       "jjulian_jj048  2022-01-15     0              5000.06        =BLOB=     =BLOB=    \n",
       "jjulian_jj048  2022-01-16     0              5000.06        =BLOB=     =BLOB=    \n",
       "jjulian_jj048  2022-01-17     0              5000.06        =BLOB=     =BLOB=    \n",
       "jjulian_jj049  2022-01-14     0              5000.06        =BLOB=     =BLOB=    \n",
       "jjulian_jj049  2022-01-15     0              5000.06        =BLOB=     =BLOB=    \n",
       "jjulian_jj049  2022-01-16     0              5000.06        =BLOB=     =BLOB=    \n",
       "jjulian_jj049  2022-01-17     0              5000.06        =BLOB=     =BLOB=    \n",
       "   ...\n",
       " (Total: 74)"
      ]
     },
     "execution_count": 5,
     "metadata": {},
     "output_type": "execute_result"
    }
   ],
   "source": [
    "ephys.BehaviorSync()"
   ]
  },
  {
   "cell_type": "code",
   "execution_count": null,
   "metadata": {},
   "outputs": [],
   "source": []
  }
 ],
 "metadata": {
  "jupytext": {
   "encoding": "# -*- coding: utf-8 -*-"
  },
  "kernelspec": {
   "display_name": "u19_pipeline_python_env",
   "language": "python",
   "name": "python3"
  },
  "language_info": {
   "codemirror_mode": {
    "name": "ipython",
    "version": 3
   },
   "file_extension": ".py",
   "mimetype": "text/x-python",
   "name": "python",
   "nbconvert_exporter": "python",
   "pygments_lexer": "ipython3",
   "version": "3.12.12"
  }
 },
 "nbformat": 4,
 "nbformat_minor": 2
}
