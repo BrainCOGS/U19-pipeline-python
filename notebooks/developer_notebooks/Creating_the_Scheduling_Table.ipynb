{
 "cells": [
  {
   "cell_type": "markdown",
   "metadata": {},
   "source": [
    "## Creating the Scheduling Table"
   ]
  },
  {
   "cell_type": "markdown",
   "metadata": {},
   "source": [
    "### Check if configuration has been run already and change directory to repository root:"
   ]
  },
  {
   "cell_type": "code",
   "execution_count": 1,
   "metadata": {},
   "outputs": [
    {
     "name": "stdout",
     "output_type": "stream",
     "text": [
      "Local configuration file found !!, no need to run the configuration (unless configuration has changed)\n"
     ]
    }
   ],
   "source": [
    "from scripts.conf_file_finding import try_find_conf_file\n",
    "try_find_conf_file()"
   ]
  },
  {
   "cell_type": "code",
   "execution_count": 2,
   "metadata": {},
   "outputs": [
    {
     "data": {
      "text/plain": [
       "'0.14.2'"
      ]
     },
     "execution_count": 2,
     "metadata": {},
     "output_type": "execute_result"
    }
   ],
   "source": [
    "import datajoint as dj\n",
    "import u19_pipeline.utility as utility\n",
    "\n",
    "dj.__version__"
   ]
  },
  {
   "cell_type": "code",
   "execution_count": 3,
   "metadata": {},
   "outputs": [],
   "source": [
    "db_name = 'u19_'"
   ]
  },
  {
   "cell_type": "code",
   "execution_count": null,
   "metadata": {},
   "outputs": [],
   "source": [
    "connect_mod = lambda x: dj.VirtualModule(x, db_name + x)\n",
    "lab = connect_mod('lab')\n",
    "subject = connect_mod('subject')\n",
    "scheduler = connect_mod('scheduler')\n",
    "# lab = dj.VirtualModule('lab', db_name + 'lab')\n",
    "# lab = dj.VirtualModule('lab', db_name + 'lab')"
   ]
  },
  {
   "cell_type": "code",
   "execution_count": null,
   "metadata": {},
   "outputs": [],
   "source": [
    "# lab.Location()\n",
    "import u19_pipeline.scheduler\n",
    "# dj.Diagram(lab)"
   ]
  },
  {
   "cell_type": "code",
   "execution_count": 6,
   "metadata": {},
   "outputs": [],
   "source": [
    "from u19_pipeline import scheduler\n",
    "# scheduler = connect_mod('scheduler')\n",
    "import json"
   ]
  },
  {
   "cell_type": "code",
   "execution_count": 6,
   "metadata": {},
   "outputs": [
    {
     "data": {
      "text/plain": [
       "# \n",
       "recording_profile_id : intauto_increment            # \n",
       "---\n",
       "user_id              : varchar(32)                  # username\n",
       "date_created         : date                         # \n",
       "recording_profile_name : varchar(255)                 # Profile name\n",
       "recording_profile_description : varchar(255)                 # Profile description\n",
       "recording_profile_variables : longtext                     # Encoded for the variables"
      ]
     },
     "execution_count": 6,
     "metadata": {},
     "output_type": "execute_result"
    }
   ],
   "source": [
    "scheduler.TestProfile.heading"
   ]
  },
  {
   "cell_type": "code",
   "execution_count": 5,
   "metadata": {},
   "outputs": [
    {
     "name": "stderr",
     "output_type": "stream",
     "text": [
      "[2024-11-25 15:45:37,742][INFO]: `u19_scheduler`.`schedule` (0 tuples)\n",
      "[2024-11-25 15:45:38,765][INFO]: Dropped table `u19_scheduler`.`schedule`\n",
      "[2024-11-25 15:45:39,000][INFO]: Tables dropped. Restart kernel.\n"
     ]
    }
   ],
   "source": [
    "# scheduler.BehaviorProfile.drop()\n",
    "# scheduler.RecordingProfile.drop()\n",
    "scheduler.Schedule.drop()\n"
   ]
  },
  {
   "cell_type": "code",
   "execution_count": 6,
   "metadata": {},
   "outputs": [
    {
     "data": {
      "text/plain": [
       "'{\"nested_key\": \"nested_value\"}'"
      ]
     },
     "execution_count": 6,
     "metadata": {},
     "output_type": "execute_result"
    }
   ],
   "source": [
    "import json\n",
    "behavior_profile_variables = {'nested_key': 'nested_value'}\n",
    "json.dumps(behavior_profile_variables)\n",
    "# json.dumps(behavior_profile_variables, separators=(',', \":\"))"
   ]
  },
  {
   "cell_type": "code",
   "execution_count": 16,
   "metadata": {},
   "outputs": [],
   "source": [
    "import numpy as np\n",
    "import json\n",
    "json_dump = json.dumps(behavior_profile_variables, separators=(',', \":\"))\n",
    "length = len(json_dump)\n",
    "# Encode the string using Latin-1\n",
    "# byte_array = bytearray(json_dump, 'latin1')\n",
    "\n",
    "\n",
    "\n",
    "\n",
    "behavior_dict = {\n",
    "    'user_id': 'testuser',\n",
    "    'date_created': '2024-10-01',\n",
    "    'behavior_profile_name': 'TestUserBehavior1',\n",
    "    'behavior_profile_description': 'This is a sample profile description.',\n",
    "    'behavior_profile_variables': np.array(['hi']),  # Example binary data\n",
    "    # 'behavior_profile_variables': np.array(['hi'],dtype=f'U{length}')  # Example binary data\n",
    "    # 'behavior_profile_variables': np.array([json_dump],dtype=f'U{length}')  # Example binary data\n",
    "    # 'behavior_profile_variables': # Example binary data\n",
    "}"
   ]
  },
  {
   "cell_type": "code",
   "execution_count": 21,
   "metadata": {},
   "outputs": [
    {
     "data": {
      "text/plain": [
       "\"array(['hi'], dtype='<U2')\""
      ]
     },
     "execution_count": 21,
     "metadata": {},
     "output_type": "execute_result"
    }
   ],
   "source": [
    "repr(np.array(['hi']))\n",
    "scheduler.BehaviorProfile.insert1()"
   ]
  },
  {
   "cell_type": "code",
   "execution_count": 18,
   "metadata": {},
   "outputs": [
    {
     "data": {
      "text/plain": [
       "[{'behavior_profile_id': 1,\n",
       "  'user_id': 'testuser',\n",
       "  'date_created': datetime.date(2024, 10, 12),\n",
       "  'behavior_profile_name': 'jumanji',\n",
       "  'behavior_profile_description': 'hello',\n",
       "  'behavior_profile_variables': array(['test-hello'], dtype='<U10')},\n",
       " {'behavior_profile_id': 10,\n",
       "  'user_id': 'testuser',\n",
       "  'date_created': datetime.date(2024, 10, 1),\n",
       "  'behavior_profile_name': 'TestUserBehavior1',\n",
       "  'behavior_profile_description': 'This is a sample profile description.',\n",
       "  'behavior_profile_variables': array(['hi'], dtype=object)}]"
      ]
     },
     "execution_count": 18,
     "metadata": {},
     "output_type": "execute_result"
    }
   ],
   "source": [
    "(scheduler.BehaviorProfile).fetch(as_dict=True)\n"
   ]
  },
  {
   "cell_type": "code",
   "execution_count": 15,
   "metadata": {},
   "outputs": [
    {
     "name": "stderr",
     "output_type": "stream",
     "text": [
      "[2024-10-13 10:03:12,658][INFO]: Deleting 6 rows from `u19_scheduler`.`behavior_profile`\n",
      "[2024-10-13 10:03:16,276][INFO]: Deletes committed.\n"
     ]
    },
    {
     "data": {
      "text/plain": [
       "6"
      ]
     },
     "execution_count": 15,
     "metadata": {},
     "output_type": "execute_result"
    }
   ],
   "source": [
    "(scheduler.BehaviorProfile & 'behavior_profile_id > 1').delete()\n"
   ]
  },
  {
   "cell_type": "code",
   "execution_count": 5,
   "metadata": {},
   "outputs": [
    {
     "data": {
      "text/plain": [
       "# \n",
       "behavior_profile_id  : intauto_increment            # \n",
       "---\n",
       "user_id              : varchar(32)                  # username\n",
       "date_created         : date                         # \n",
       "behavior_profile_name : varchar(255)                 # Profile name\n",
       "behavior_profile_description : varchar(255)                 # Profile description\n",
       "behavior_profile_variables : longblob                     # Encoded for the variables"
      ]
     },
     "execution_count": 5,
     "metadata": {},
     "output_type": "execute_result"
    }
   ],
   "source": [
    "\n",
    "scheduler.BehaviorProfile.heading\n",
    "\n",
    "# scheduler.RecordingProfile.heading"
   ]
  },
  {
   "cell_type": "code",
   "execution_count": 12,
   "metadata": {},
   "outputs": [],
   "source": [
    "\n",
    "recording_dict = {\n",
    "    'date_created': '2024-10-28',\n",
    "    'recording_profile_name': '',\n",
    "    'recording_profile_description': 'This is a sample profile description.',\n",
    "    'recording_profile_variables': {'nested_key': 'nested_value'}  # Example binary data\n",
    "}"
   ]
  },
  {
   "cell_type": "code",
   "execution_count": 13,
   "metadata": {},
   "outputs": [],
   "source": [
    "\n",
    "scheduler.RecordingProfile.insert1(recording_dict)"
   ]
  }
 ],
 "metadata": {
  "kernelspec": {
   "display_name": "Python 3",
   "language": "python",
   "name": "python3"
  },
  "language_info": {
   "codemirror_mode": {
    "name": "ipython",
    "version": 3
   },
   "file_extension": ".py",
   "mimetype": "text/x-python",
   "name": "python",
   "nbconvert_exporter": "python",
   "pygments_lexer": "ipython3",
   "version": "3.9.19"
  }
 },
 "nbformat": 4,
 "nbformat_minor": 2
}
