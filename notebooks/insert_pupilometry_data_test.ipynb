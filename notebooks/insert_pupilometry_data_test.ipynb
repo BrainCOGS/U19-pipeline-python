{
 "cells": [
  {
   "cell_type": "markdown",
   "metadata": {},
   "source": [
    "# Notebook to generate psychometrics plot given sessions & conditions"
   ]
  },
  {
   "cell_type": "code",
   "execution_count": 4,
   "metadata": {},
   "outputs": [
    {
     "name": "stdout",
     "output_type": "stream",
     "text": [
      "Local configuration file found !!, no need to run the configuration (unless configuration has changed)\n"
     ]
    }
   ],
   "source": [
    "from scripts.conf_file_finding import try_find_conf_file\n",
    "try_find_conf_file()\n"
   ]
  },
  {
   "cell_type": "code",
   "execution_count": 5,
   "metadata": {},
   "outputs": [],
   "source": [
    "import datajoint as dj\n",
    "import pandas as pd\n",
    "import numpy as np\n",
    "import pylab as plt\n",
    "import matplotlib.patches as mpatches\n",
    "\n",
    "from matplotlib import cm\n",
    "from u19_pipeline import utility\n",
    "from inspect import getmembers, isfunction"
   ]
  },
  {
   "cell_type": "markdown",
   "metadata": {},
   "source": [
    "### Datajoint configuration and Connection to DB"
   ]
  },
  {
   "cell_type": "code",
   "execution_count": 6,
   "metadata": {},
   "outputs": [
    {
     "name": "stdout",
     "output_type": "stream",
     "text": [
      "Connecting alvaros@datajoint00.pni.princeton.edu:3306\n"
     ]
    }
   ],
   "source": [
    "\n",
    "dj.conn()\n",
    "acquisition = dj.create_virtual_module('acquisition', 'u19_acquisition')\n",
    "pupillometry = dj.create_virtual_module('pupillometry', 'u19_pupillometry')"
   ]
  },
  {
   "cell_type": "markdown",
   "metadata": {},
   "source": [
    "## Filter params"
   ]
  },
  {
   "cell_type": "code",
   "execution_count": 11,
   "metadata": {},
   "outputs": [],
   "source": [
    "import pickle5 as pickle\n",
    "#with open(path_to_protocol5, \"rb\") as fh:\n",
    "#   data = pickle.load(fh)\n",
    "\n",
    "file = '/Users/alvaros/Documents/MATLAB/BrainCogsProjects/Datajoint_proj/U19-pipeline_python/notebooks/jounhong_TH_276_20220406_g0_pupil.pkl'\n",
    "#object = pd.read_pickle(file)\n",
    "#object\n",
    "\n",
    "\n",
    "objects = []\n",
    "with (open(file, \"rb\")) as openfile:\n",
    "    while True:\n",
    "        try:\n",
    "            object = pickle.load(openfile)\n",
    "        except EOFError:\n",
    "            break\n",
    "\n",
    "\n",
    "pupillometry_data_array = object.to_numpy()\n"
   ]
  },
  {
   "cell_type": "code",
   "execution_count": 15,
   "metadata": {},
   "outputs": [],
   "source": [
    "key = dict()\n",
    "key['subject_fullname'] = 'jounhong_TH_276'\n",
    "key['session_date'] = '2022-04-06'\n",
    "\n",
    "new_key = (acquisition.Session & key).fetch1(\"KEY\")\n",
    "new_key['pupil_diameter'] = pupillometry_data_array\n",
    "\n",
    "pupillometry.PupillometryData.insert1(new_key, allow_direct_insert=True)"
   ]
  }
 ],
 "metadata": {
  "kernelspec": {
   "display_name": "Python 3",
   "language": "python",
   "name": "python3"
  },
  "language_info": {
   "codemirror_mode": {
    "name": "ipython",
    "version": 3
   },
   "file_extension": ".py",
   "mimetype": "text/x-python",
   "name": "python",
   "nbconvert_exporter": "python",
   "pygments_lexer": "ipython3",
   "version": "3.7.0"
  }
 },
 "nbformat": 4,
 "nbformat_minor": 2
}
