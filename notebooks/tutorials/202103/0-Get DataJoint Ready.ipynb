{
 "cells": [
  {
   "cell_type": "markdown",
   "metadata": {},
   "source": [
    "# Install DataJoint as a Python package"
   ]
  },
  {
   "cell_type": "markdown",
   "metadata": {},
   "source": [
    "To use DataJoint, \n",
    "\n",
    "- Make sure you have [Python 3](https://www.python.org/downloads/) installed. (Most likely you already do.)\n",
    "- Then install DataJoint as a python package. In the terminal, we do:  \n",
    "\n",
    "`pip3 install datajoint`  \n",
    "\n",
    "In this way, we get the most up-to-date dev version of DataJoint. (Note that in some computers, the command is simply `pip` instead of `pip3` -- either way, what you need is for it to install packages with the Python 3 you are using.)\n",
    "\n",
    "- In **Windows** (and maybe also Mac), as indicated in the instructions [here](https://docs.datajoint.io/python/setup/02-DataJoint-Python-Windows-Install-Guide.html), you also want to install `pydotplus` with the following line:\n",
    "\n",
    "`pip3 install pydotplus`\n",
    "\n",
    "- In **Mac** you also need to install graphviz, which you can do using the [Homebrew installer](https://brew.sh/). Again from the terminal (not within Python):\n",
    "\n",
    "`brew install graphviz`\n",
    "\n",
    "(If that installation doesn't work, note that you might need to first install SVN `brew install svn` before you can install graphviz.)\n",
    "\n",
    "*You're good to go!*  Start up your Python 3 and start having fun.\n"
   ]
  },
  {
   "cell_type": "markdown",
   "metadata": {},
   "source": []
  },
  {
   "cell_type": "markdown",
   "metadata": {},
   "source": [
    "To make life easier, we pre-set up the enviroment in an virtual environment princeton_env.\n",
    "\n",
    "To use the virtual environment, `pip install virtualenv`\n",
    "\n",
    "Then activate the virtual environment by `source princeton_env/bin/activate`\n",
    "\n",
    "To add the princeton_env to the kernel of Jupyter notebook, you could do \n",
    "\n",
    "`pip install ipykernel`  \n",
    "\n",
    "`python -m ipykernel install --user --name princeton_env --display-name \"Princeton env\"`\n",
    "\n",
    "In your Jupyter notebook, select the kernel \"Princeton env\""
   ]
  },
  {
   "cell_type": "markdown",
   "metadata": {},
   "source": [
    "# Configuring DataJoint\n",
    "\n",
    "Before you can start using anything with DataJoint, you need to configure DataJoint. In order for DataJoint to work, you need to tell it informatoin about the database connection, namely the database hostname."
   ]
  },
  {
   "cell_type": "markdown",
   "metadata": {},
   "source": [
    "Start by importing the package. Convention is to import it as `dj`."
   ]
  },
  {
   "cell_type": "code",
   "execution_count": 4,
   "metadata": {},
   "outputs": [],
   "source": [
    "import datajoint as dj"
   ]
  },
  {
   "cell_type": "code",
   "execution_count": 2,
   "metadata": {},
   "outputs": [
    {
     "data": {
      "text/plain": [
       "'0.12.8'"
      ]
     },
     "execution_count": 2,
     "metadata": {},
     "output_type": "execute_result"
    }
   ],
   "source": [
    "dj.__version__"
   ]
  },
  {
   "cell_type": "code",
   "execution_count": null,
   "metadata": {},
   "outputs": [],
   "source": [
    "dj.config"
   ]
  },
  {
   "cell_type": "markdown",
   "metadata": {},
   "source": [
    "Notice that `database.host` is already set to `localhost`. We need to ask DataJoint to talk to the U19 database, we can set that up by:"
   ]
  },
  {
   "cell_type": "code",
   "execution_count": 3,
   "metadata": {},
   "outputs": [
    {
     "name": "stdout",
     "output_type": "stream",
     "text": [
      "Connecting shans@datajoint00.pni.princeton.edu:3306\n"
     ]
    },
    {
     "data": {
      "text/plain": [
       "DataJoint connection (connected) shans@datajoint00.pni.princeton.edu:3306"
      ]
     },
     "execution_count": 3,
     "metadata": {},
     "output_type": "execute_result"
    }
   ],
   "source": [
    "dj.conn()"
   ]
  },
  {
   "cell_type": "markdown",
   "metadata": {},
   "source": [
    "Once you verify that the connection is working, you'd want to save the configuration so that you don't have to keep on changing the `database.host` everytime you work with DataJoint. Simply run the following:"
   ]
  },
  {
   "cell_type": "code",
   "execution_count": null,
   "metadata": {},
   "outputs": [],
   "source": [
    "dj.config.save_local()"
   ]
  },
  {
   "cell_type": "markdown",
   "metadata": {},
   "source": [
    "Notice that this created `dj_local_conf.json` in the local directory."
   ]
  },
  {
   "cell_type": "code",
   "execution_count": null,
   "metadata": {},
   "outputs": [],
   "source": [
    "# %load dj_local_conf.json\n",
    "{\n",
    "    \"database.host\": \"datajoint00.pni.princeton.edu\",\n",
    "    \"database.password\": null,\n",
    "    \"database.user\": null,\n",
    "    \"database.port\": 3306,\n",
    "    \"database.reconnect\": true,\n",
    "    \"connection.init_function\": null,\n",
    "    \"connection.charset\": \"\",\n",
    "    \"loglevel\": \"INFO\",\n",
    "    \"safemode\": true,\n",
    "    \"fetch_format\": \"array\",\n",
    "    \"display.limit\": 12,\n",
    "    \"display.width\": 14,\n",
    "    \"display.show_tuple_count\": true,\n",
    "    \"database.use_tls\": null,\n",
    "    \"enable_python_native_blobs\": false,\n",
    "    \"database.prefix\": null\n",
    "}"
   ]
  },
  {
   "cell_type": "markdown",
   "metadata": {},
   "source": [
    "Inside the dj_local_conf.json, you will find saved dj.config information, and notice that database.host is set to the right value."
   ]
  },
  {
   "cell_type": "markdown",
   "metadata": {},
   "source": [
    "### Bonus: saving username and password into local config"
   ]
  },
  {
   "cell_type": "markdown",
   "metadata": {},
   "source": [
    "Although now you don't have to keep on specifying `database.host` inside `dj.config`, everytime DataJoint tries to connect to the database, it'll prompt you for your username and password. Although this maybe fine when working interactively, it can be rather limiting when you want a script to run without interaction. To get around this, you can also save your username and password into the configuration as follows:"
   ]
  },
  {
   "cell_type": "code",
   "execution_count": null,
   "metadata": {},
   "outputs": [],
   "source": [
    "from getpass import getpass # use this to type password in without showing it"
   ]
  },
  {
   "cell_type": "code",
   "execution_count": null,
   "metadata": {},
   "outputs": [],
   "source": [
    "dj.config['database.user'] = 'shans'\n",
    "dj.config['database.password'] = getpass('Type password:')"
   ]
  },
  {
   "cell_type": "markdown",
   "metadata": {},
   "source": [
    "Test the connection with it"
   ]
  },
  {
   "cell_type": "code",
   "execution_count": null,
   "metadata": {},
   "outputs": [],
   "source": [
    "dj.conn()"
   ]
  },
  {
   "cell_type": "markdown",
   "metadata": {},
   "source": [
    "Now save the username and password into the local config:"
   ]
  },
  {
   "cell_type": "code",
   "execution_count": null,
   "metadata": {},
   "outputs": [],
   "source": [
    "dj.config.save_local()"
   ]
  },
  {
   "cell_type": "markdown",
   "metadata": {},
   "source": [
    "**Note that this saves your password in clear readable text in that local configuration file -- very insecure.**"
   ]
  }
 ],
 "metadata": {
  "kernelspec": {
   "display_name": "Python 3.7.0 64-bit ('u19': conda)",
   "language": "python",
   "name": "python37064bitu19conda866a936538d140d38655f260f3a92360"
  },
  "language_info": {
   "codemirror_mode": {
    "name": "ipython",
    "version": 3
   },
   "file_extension": ".py",
   "mimetype": "text/x-python",
   "name": "python",
   "nbconvert_exporter": "python",
   "pygments_lexer": "ipython3",
   "version": "3.7.0"
  }
 },
 "nbformat": 4,
 "nbformat_minor": 2
}
