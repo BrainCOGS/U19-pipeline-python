{
 "cells": [
  {
   "cell_type": "markdown",
   "metadata": {},
   "source": [
    "\n",
    "Here we would like to perform some analysis with the U19 pipeline.\n",
    "\n",
    "First thing first, let's **import the U19 pipeline schemas as virtual module**, and a few other useful packages."
   ]
  },
  {
   "cell_type": "code",
   "execution_count": null,
   "metadata": {},
   "outputs": [],
   "source": [
    "import datajoint as dj\n",
    "import numpy as np\n",
    "import matplotlib.pyplot as plt\n",
    "import pandas as pd\n",
    "import datetime\n",
    "lab = dj.create_virtual_module('lab', 'u19_lab') # the first argument here is the __name__ of the virtual module\n",
    "task = dj.create_virtual_module('task', 'u19_task') \n",
    "subject = dj.create_virtual_module('subject', 'u19_subject')\n",
    "action = dj.create_virtual_module('action', 'u19_action')\n",
    "acquisition = dj.create_virtual_module('acquisition', 'u19_acquisition')\n",
    "behavior = dj.create_virtual_module('behavior', 'u19_behavior')"
   ]
  },
  {
   "cell_type": "markdown",
   "metadata": {},
   "source": [
    "## Analyzing existing data"
   ]
  },
  {
   "cell_type": "markdown",
   "metadata": {},
   "source": [
    "**A simple example: compute the average performance across different blocks within a session**\n"
   ]
  },
  {
   "cell_type": "markdown",
   "metadata": {},
   "source": [
    "Let's take a look at the schema behavior"
   ]
  },
  {
   "cell_type": "code",
   "execution_count": null,
   "metadata": {},
   "outputs": [],
   "source": [
    "dj.Diagram(behavior)"
   ]
  },
  {
   "cell_type": "markdown",
   "metadata": {},
   "source": [
    "Take a look at the table `behavior.TowersBlock`"
   ]
  },
  {
   "cell_type": "code",
   "execution_count": null,
   "metadata": {},
   "outputs": [],
   "source": [
    "behavior.TowersBlock() # bracket necessary"
   ]
  },
  {
   "cell_type": "markdown",
   "metadata": {},
   "source": [
    "There is a field called block_performance, of course we could do this in one line:"
   ]
  },
  {
   "cell_type": "code",
   "execution_count": null,
   "metadata": {},
   "outputs": [],
   "source": [
    "behavior.TowersSession.aggr(behavior.TowersBlock.proj('block_performance'), \n",
    "                            avg_performance='avg(block_performance)')"
   ]
  },
  {
   "cell_type": "markdown",
   "metadata": {},
   "source": [
    "But now let's do it with a computed table, for fun :)"
   ]
  },
  {
   "cell_type": "markdown",
   "metadata": {},
   "source": [
    "## Create your own schema and tables"
   ]
  },
  {
   "cell_type": "markdown",
   "metadata": {},
   "source": [
    "The first thing we would like to do is to create a schema with `dj.schema`.  \n",
    "**Note**: the schema name you create has to either start with your username, which is only accessible by you, Here we use our user_name  "
   ]
  },
  {
   "cell_type": "code",
   "execution_count": null,
   "metadata": {},
   "outputs": [],
   "source": [
    "schema = dj.schema('shans_tutorial')"
   ]
  },
  {
   "cell_type": "markdown",
   "metadata": {},
   "source": [
    "Let's check if the new schema is there:"
   ]
  },
  {
   "cell_type": "code",
   "execution_count": null,
   "metadata": {},
   "outputs": [],
   "source": [
    "dj.list_schemas()"
   ]
  },
  {
   "cell_type": "markdown",
   "metadata": {},
   "source": [
    "Now let's define a **Manual** table to save the result.  \n",
    "A class created with DataJoint correponds to a table in the database."
   ]
  },
  {
   "cell_type": "code",
   "execution_count": null,
   "metadata": {},
   "outputs": [],
   "source": [
    "@schema\n",
    "class SessionPerformanceManual(dj.Manual):\n",
    "    definition = \"\"\"\n",
    "    -> behavior.TowersSession         # each session have an average performance\n",
    "    ---\n",
    "    avg_performance:      float   # a final product in this table\n",
    "    \"\"\""
   ]
  },
  {
   "cell_type": "markdown",
   "metadata": {},
   "source": [
    "Let's take a look at the brand-new table we just created."
   ]
  },
  {
   "cell_type": "code",
   "execution_count": null,
   "metadata": {},
   "outputs": [],
   "source": [
    "SessionPerformanceManual()"
   ]
  },
  {
   "cell_type": "markdown",
   "metadata": {},
   "source": [
    "Yes, sure, it's empty. We haven't inserted anything into it.  \n",
    "Now let's insert the firing rate we just computed into this empty table.  \n",
    "We need to insert the entry with all fields defined in the table, usually in a format of dictionary."
   ]
  },
  {
   "cell_type": "markdown",
   "metadata": {},
   "source": [
    "Let's first compute the performance for one session, let's pick a session:"
   ]
  },
  {
   "cell_type": "code",
   "execution_count": null,
   "metadata": {},
   "outputs": [],
   "source": [
    "behavior.TowersSession.aggr(behavior.TowersBlock.proj(),\n",
    "                            n_sessions='count(*)')"
   ]
  },
  {
   "cell_type": "markdown",
   "metadata": {},
   "source": [
    "This session has 7 blocks:"
   ]
  },
  {
   "cell_type": "code",
   "execution_count": null,
   "metadata": {},
   "outputs": [],
   "source": [
    "key = {\n",
    "    'subject_fullname': 'emanuele_B205',\n",
    "    'session_date': datetime.date(2018, 7, 13),\n",
    "    'session_number': 0\n",
    "}"
   ]
  },
  {
   "cell_type": "code",
   "execution_count": null,
   "metadata": {},
   "outputs": [],
   "source": [
    "behavior.TowersBlock & key"
   ]
  },
  {
   "cell_type": "code",
   "execution_count": null,
   "metadata": {},
   "outputs": [],
   "source": [
    "performances = (behavior.TowersBlock & key).fetch('block_performance')\n",
    "\n",
    "# create another field in the dictionary key\n",
    "key['avg_performance'] = np.mean(performances)"
   ]
  },
  {
   "cell_type": "code",
   "execution_count": null,
   "metadata": {},
   "outputs": [],
   "source": [
    "key"
   ]
  },
  {
   "cell_type": "markdown",
   "metadata": {},
   "source": [
    "Now insert it!"
   ]
  },
  {
   "cell_type": "code",
   "execution_count": null,
   "metadata": {},
   "outputs": [],
   "source": [
    "SessionPerformanceManual.insert1(key, skip_duplicates=True) # insert1 only works for one entry"
   ]
  },
  {
   "cell_type": "markdown",
   "metadata": {},
   "source": [
    "Let's check the table again to see what happened:"
   ]
  },
  {
   "cell_type": "code",
   "execution_count": null,
   "metadata": {},
   "outputs": [],
   "source": [
    "SessionPerformanceManual()"
   ]
  },
  {
   "cell_type": "markdown",
   "metadata": {},
   "source": [
    "Cool the entry is there!"
   ]
  },
  {
   "cell_type": "markdown",
   "metadata": {},
   "source": [
    "So we can of course write a for loop to compute all avg performance and insert them one by one, but that's too slow. We can compute the results and insert them all at once! Now let's compare the two senarios.\n",
    "1. insert one by one\n",
    "2. insert all together\n",
    "\n",
    "Let's pick two animals that have the same number of sessions."
   ]
  },
  {
   "cell_type": "code",
   "execution_count": null,
   "metadata": {},
   "outputs": [],
   "source": [
    "subject.Subject.aggr(behavior.TowersSession.proj(), n_sessions='count(*)') & 'n_sessions=100'"
   ]
  },
  {
   "cell_type": "markdown",
   "metadata": {},
   "source": [
    "Subjects hnieh_E57 and hnieh_E77 happen to have the same number of sessions."
   ]
  },
  {
   "cell_type": "code",
   "execution_count": null,
   "metadata": {},
   "outputs": [],
   "source": [
    "# loop through sessions of subject B205 and insert one by one, and compute time\n",
    "import time\n",
    "start_time = time.time()\n",
    "\n",
    "for i_session in (behavior.TowersSession & 'subject_fullname=\"hnieh_E57\"').fetch('KEY'):\n",
    "    performances = (behavior.TowersBlock & i_session).fetch('block_performance')\n",
    "    # create another field in the dictionary key\n",
    "    avg_performance = np.mean(performances)\n",
    "    if np.isnan(avg_performance):\n",
    "        continue\n",
    "    entry = dict(**i_session, \n",
    "                 avg_performance=avg_performance)\n",
    "    SessionPerformanceManual.insert1(entry)\n",
    "\n",
    "print(\"--- %s seconds ---\" % (time.time() - start_time))"
   ]
  },
  {
   "cell_type": "code",
   "execution_count": null,
   "metadata": {},
   "outputs": [],
   "source": [
    "# loop through sessions of subject B3151 and insert all at once as a list of dictionaries!\n",
    "start_time = time.time()\n",
    "\n",
    "perf_entries = []\n",
    "for i_session in (behavior.TowersSession & 'subject_fullname=\"hnieh_E77\"').fetch('KEY'):\n",
    "    performances = (behavior.TowersBlock & i_session).fetch('block_performance')\n",
    "    # create another field in the dictionary key\n",
    "    avg_performance = np.mean(performances)\n",
    "    if np.isnan(avg_performance):\n",
    "        continue\n",
    "    entry = dict(**i_session, \n",
    "                 avg_performance=avg_performance)\n",
    "    perf_entries.append(entry)\n",
    "    \n",
    "SessionPerformanceManual.insert(perf_entries)\n",
    "print(\"--- %s seconds ---\" % (time.time() - start_time))"
   ]
  },
  {
   "cell_type": "markdown",
   "metadata": {},
   "source": [
    "In this way, we will need to remember which clusters has been computed and inserted. If we insert the same entry twice, there will be an error. For example, let's rerun the above cell. We can overcome that problem by add the argument `skip_duplicates=True` inside `.insert()` or `.insert1()`, but it is not a very elegant solution.  \n",
    "The best approach here is to use a **Computed** table, it has the exact definition as the previous manual table, but with a magic **make** function"
   ]
  },
  {
   "cell_type": "code",
   "execution_count": null,
   "metadata": {},
   "outputs": [],
   "source": [
    "@schema\n",
    "class SessionPerformanceComputed(dj.Computed):\n",
    "    definition = \"\"\"\n",
    "    -> behavior.TowersSession         # each session have an average performance\n",
    "    ---\n",
    "    avg_performance:      float   # a final product in this table\n",
    "    \"\"\"\n",
    "    \n",
    "    key_source = acquisition.Session() & 'subject_fullname=\"hnieh_E57\"' # bracket necessary\n",
    "    def make(self, key): # key is one primary key of the entries in table acquisition.Session\n",
    "        # fetch the performance for each block\n",
    "        performances = (behavior.TowersBlock & key).fetch('block_performance')\n",
    "        \n",
    "        # create another field in the dictionary key\n",
    "        key['avg_performance'] = np.mean(performances)\n",
    "        self.insert1(key)"
   ]
  },
  {
   "cell_type": "markdown",
   "metadata": {},
   "source": [
    "And we can `populate` the table."
   ]
  },
  {
   "cell_type": "code",
   "execution_count": null,
   "metadata": {},
   "outputs": [],
   "source": [
    "SessionPerformanceComputed.populate(display_progress=True) \n",
    "# first argument could be some restrictor to control the populate"
   ]
  },
  {
   "cell_type": "code",
   "execution_count": null,
   "metadata": {},
   "outputs": [],
   "source": [
    "SessionPerformanceComputed()"
   ]
  },
  {
   "cell_type": "markdown",
   "metadata": {},
   "source": [
    "**What does `populate` do?** \n",
    "\n",
    "It does two major things:  \n",
    "1. From the table definition, get the keys that needs to computed, which we called `key_source`. By default, it would be the join result of the primary dependent tables minus the once has been computed.  \n",
    "2. Call `make` function defined in the class, and compute one by one, with each individual key from the `key_source`"
   ]
  },
  {
   "cell_type": "markdown",
   "metadata": {},
   "source": [
    "Here we still have to insert one by one, which is a bit slow. How do we do the trick of insert all firing rate of clusters in one session together?"
   ]
  },
  {
   "cell_type": "markdown",
   "metadata": {},
   "source": [
    "We can change the `key_source` by redefining it to a larger scale"
   ]
  },
  {
   "cell_type": "code",
   "execution_count": null,
   "metadata": {},
   "outputs": [],
   "source": [
    "@schema\n",
    "class SessionPerformanceComputedFromSubject(dj.Computed):\n",
    "    definition = \"\"\"\n",
    "    -> behavior.TowersSession         # each session have an average performance\n",
    "    ---\n",
    "    avg_performance:      float   # a final product in this table\n",
    "    \"\"\"\n",
    "    key_source = subject.Subject() \n",
    "    def make(self, key): # key is one primary key of the entries in table subject.Subject()!\n",
    "\n",
    "        perf_entries = []\n",
    "        for i_session in (behavior.TowersSession & key).fetch('KEY'):\n",
    "            # fetch performance of each block\n",
    "            performances = (behavior.TowersBlock & i_session).fetch('block_performance')\n",
    "            # create another field in the dictionary key\n",
    "            avg_performance = np.mean(performances)\n",
    "            if np.isnan(avg_performance):\n",
    "                continue\n",
    "            entry = dict(**i_session, \n",
    "                         avg_performance=avg_performance)\n",
    "            perf_entries.append(entry)\n",
    "            \n",
    "        self.insert(perf_entries)"
   ]
  },
  {
   "cell_type": "code",
   "execution_count": null,
   "metadata": {},
   "outputs": [],
   "source": [
    "SessionPerformanceComputedFromSubject.populate('subject_fullname=\"hnieh_E77\"', display_progress=True, suppress_errors=True, reserve_jobs=True)"
   ]
  },
  {
   "cell_type": "markdown",
   "metadata": {},
   "source": [
    "## Delete entries and drop a table"
   ]
  },
  {
   "cell_type": "code",
   "execution_count": null,
   "metadata": {},
   "outputs": [],
   "source": [
    "(SessionPerformanceManual & 'subject_fullname=\"hnieh_E78\"').delete() # any restrictor would work here"
   ]
  },
  {
   "cell_type": "code",
   "execution_count": null,
   "metadata": {},
   "outputs": [],
   "source": [
    "SessionPerformanceManual.drop()"
   ]
  },
  {
   "cell_type": "code",
   "execution_count": null,
   "metadata": {},
   "outputs": [],
   "source": [
    "SessionPerformanceComputed.drop()"
   ]
  },
  {
   "cell_type": "code",
   "execution_count": null,
   "metadata": {},
   "outputs": [],
   "source": [
    "SessionPerformanceComputedFromSubject.drop()"
   ]
  }
 ],
 "metadata": {
  "kernelspec": {
   "display_name": "Python 3",
   "language": "python",
   "name": "python3"
  },
  "language_info": {
   "codemirror_mode": {
    "name": "ipython",
    "version": 3
   },
   "file_extension": ".py",
   "mimetype": "text/x-python",
   "name": "python",
   "nbconvert_exporter": "python",
   "pygments_lexer": "ipython3",
   "version": "3.7.0"
  }
 },
 "nbformat": 4,
 "nbformat_minor": 2
}
