{
 "cells": [
  {
   "cell_type": "markdown",
   "metadata": {},
   "source": [
    "# Notebook to generate psychometrics plot given sessions & conditions"
   ]
  },
  {
   "cell_type": "code",
   "execution_count": 1,
   "metadata": {},
   "outputs": [],
   "source": [
    "import datajoint as dj\n",
    "import pandas as pd\n",
    "import numpy as np\n",
    "import pylab as plt\n",
    "import matplotlib.patches as mpatches\n",
    "\n",
    "from matplotlib import cm\n",
    "from u19_pipeline import utility\n",
    "from inspect import getmembers, isfunction\n"
   ]
  },
  {
   "cell_type": "markdown",
   "metadata": {},
   "source": [
    "### Datajoint configuration and Connection to DB"
   ]
  },
  {
   "cell_type": "code",
   "execution_count": 3,
   "metadata": {},
   "outputs": [
    {
     "name": "stdout",
     "output_type": "stream",
     "text": [
      "Please enter DataJoint username: alvaros\n",
      "Please enter DataJoint password: ········\n",
      "Connecting alvaros@datajoint00.pni.princeton.edu:3306\n"
     ]
    },
    {
     "data": {
      "text/plain": [
       "DataJoint connection (connected) alvaros@datajoint00.pni.princeton.edu:3306"
      ]
     },
     "execution_count": 3,
     "metadata": {},
     "output_type": "execute_result"
    }
   ],
   "source": [
    "utility.basic_dj_configuration(dj)\n",
    "dj.conn()"
   ]
  },
  {
   "cell_type": "markdown",
   "metadata": {},
   "source": [
    "## Databases to connect"
   ]
  },
  {
   "cell_type": "code",
   "execution_count": 4,
   "metadata": {},
   "outputs": [],
   "source": [
    "behavior = dj.create_virtual_module('behavior', 'u19_behavior')\n",
    "optogenetics = dj.create_virtual_module('optogenetics', 'u19_optogenetics')\n",
    "acquisition = dj.create_virtual_module('acquisition', 'u19_acquisition')\n",
    "subject = dj.create_virtual_module('subject', 'u19_subject')\n",
    "puffs = dj.create_virtual_module('puffs', 'u19_puffs')"
   ]
  },
  {
   "cell_type": "markdown",
   "metadata": {},
   "source": [
    "## General parameters "
   ]
  },
  {
   "cell_type": "code",
   "execution_count": 5,
   "metadata": {},
   "outputs": [],
   "source": [
    "#List of conditions to filter sessions, trials, etc for analysis\n",
    "key_selection  = ['subject_fullname like \"efonseca_Vgat%\"', 'level = 14', 'is_bad_session = 0']\n",
    "\n",
    "#List of tables to \"prefilter data\" (generally session or block tables)\n",
    "table_prefilters = [behavior.TowersBlock, acquisition.Session]\n",
    "\n",
    "#List of conditions to compare (data will be filtered for all conditions and saved plotted)\n",
    "condition_key    = ['stim_on = 0', 'stim_on = 1']\n",
    "#Labels for legend (if empty will be the smae as condition_key)\n",
    "condition_labels = ['Laser Off', 'Laser On']\n",
    "#List of Tables with all condition info, (normally trial tables)\n",
    "data_tables = [behavior.TowersBlock().Trial(), optogenetics.OptogeneticSession().Trial]\n",
    "\n",
    "#Extra field to split plots by (e.g. one plot per subject)\n",
    "split_plots_by = 'subject_fullname'\n",
    "\n",
    "#Bins for trials .... (for now, manual selection)\n",
    "#Recommendation. np.arange(min_evidence, max_evidence+1, step=(max_evidence - min_evidence)/10)\n",
    "deltaBins = np.arange(-15, 16, step=3)\n",
    "\n",
    "#How to color plots \n",
    "#('Pick colors from a list, from a perceptually uniform colormap, a qualitative colormap or custom colormap')\n",
    "# [list, uniform, qualitative, custom]\n",
    "color_type = 'list'\n",
    "\n",
    "#List of colors (if applicable, select from list)\n",
    "color_list = ['k', 'b']\n",
    "\n",
    "#custom colormap name, (If applicable, select from custom colormap)\n",
    "'''\n",
    "cmaps['Perceptually Uniform Sequential'] = [\n",
    "            'viridis', 'plasma', 'inferno', 'magma', 'cividis']\n",
    "cmaps['Sequential'] = [\n",
    "            'Greys', 'Purples', 'Blues', 'Greens', 'Oranges', 'Reds',\n",
    "            'YlOrBr', 'YlOrRd', 'OrRd', 'PuRd', 'RdPu', 'BuPu',\n",
    "            'GnBu', 'PuBu', 'YlGnBu', 'PuBuGn', 'BuGn', 'YlGn']\n",
    "cmaps['Sequential (2)'] = [\n",
    "            'binary', 'gist_yarg', 'gist_gray', 'gray', 'bone', 'pink',\n",
    "            'spring', 'summer', 'autumn', 'winter', 'cool', 'Wistia',\n",
    "            'hot', 'afmhot', 'gist_heat', 'copper']\n",
    "cmaps['Diverging'] = [\n",
    "            'PiYG', 'PRGn', 'BrBG', 'PuOr', 'RdGy', 'RdBu',\n",
    "            'RdYlBu', 'RdYlGn', 'Spectral', 'coolwarm', 'bwr', 'seismic']\n",
    "cmaps['Cyclic'] = ['twilight', 'twilight_shifted', 'hsv']\n",
    "cmaps['Qualitative'] = ['Pastel1', 'Pastel2', 'Paired', 'Accent',\n",
    "                        'Dark2', 'Set1', 'Set2', 'Set3',\n",
    "                        'tab10', 'tab20', 'tab20b', 'tab20c']\n",
    "cmaps['Miscellaneous'] = [\n",
    "            'flag', 'prism', 'ocean', 'gist_earth', 'terrain', 'gist_stern',\n",
    "            'gnuplot', 'gnuplot2', 'CMRmap', 'cubehelix', 'brg',\n",
    "            'gist_rainbow', 'rainbow', 'jet', 'turbo', 'nipy_spectral',\n",
    "            'gist_ncar']\n",
    "'''\n",
    "custom_colormap = 'autumn'\n",
    "\n",
    "fig_size = (13,14)\n",
    "\n",
    "big_font_size    = (20,16)\n",
    "medium_font_size = (16,13)\n",
    "small_font_size  = (12,10)\n"
   ]
  },
  {
   "cell_type": "markdown",
   "metadata": {},
   "source": [
    "## Common Examples "
   ]
  },
  {
   "cell_type": "code",
   "execution_count": 6,
   "metadata": {},
   "outputs": [],
   "source": [
    "#Here are parameter examples for some use cases\n",
    "example = 'None'\n",
    "\n",
    "#Compare stimulation trials vs non stimulation trials\n",
    "if example == 'Optogenetic_on_vs_off':\n",
    "    key_selection  = ['subject_fullname like \"efonseca_Vgat%\"', 'level = 14', 'is_bad_session = 0']\n",
    "    table_prefilters = [behavior.TowersBlock, acquisition.Session]\n",
    "    condition_key    = ['stim_on = 0', 'stim_on = 1']\n",
    "    condition_labels = ['Laser Off', 'Laser On']\n",
    "    data_tables = [behavior.TowersBlock().Trial(), optogenetics.OptogeneticSession().Trial]\n",
    "    split_plots_by = 'subject_fullname'\n",
    "    \n",
    "    deltaBins = np.arange(-15, 16, step=3)\n",
    "    color_type = 'list'\n",
    "    color_list = ['k', 'b']\n",
    "elif example == 'Compare_subjects':\n",
    "    key_selection  = ['level = 11', 'block_performance > 0.65', 'subject_fullname like \"%ms%\"']\n",
    "    table_prefilters = [behavior.TowersBlock]\n",
    "    #Here, the \"conditions to compare\" are the subjects themselves\n",
    "    condition_key    = (subject.Subject & 'user_id like \"%ms%\"').fetch('subject_fullname', as_dict=True)\n",
    "    condition_labels = []\n",
    "    data_tables = [behavior.TowersBlock().Trial()]\n",
    "    split_plots_by = ''\n",
    "    \n",
    "    deltaBins = np.arange(-12, 13, step=3)\n",
    "    color_type = 'qualitative'\n",
    "    color_list = ['k', 'b']\n",
    "elif example == 'MainLevel_vs_Training_level':\n",
    "    key_selection  = ['level = 11', 'subject_fullname like \"emdiamanti_%\"']\n",
    "    table_prefilters = [acquisition.Session]\n",
    "    condition_key    = ['level = main_level', 'level<>main_level']\n",
    "    condition_labels = ['Main Level', 'Training Level']\n",
    "    data_tables = [behavior.TowersBlock, behavior.TowersBlock().Trial()]\n",
    "    split_plots_by = 'subject_fullname'\n",
    "    \n",
    "    deltaBins = np.arange(-15, 16, step=3)\n",
    "    color_type = 'list'\n",
    "    color_list = ['r', 'k']\n",
    "elif example == 'PuffsTrials':\n",
    "    key_selection  = ['level=9', 'rig = 1']\n",
    "    table_prefilters = [puffs.PuffsSession(), puffs.PuffsSession().TrialOld()]\n",
    "    condition_key    = ['trial_duration < 11.5', 'trial_duration > 11.5']\n",
    "    condition_labels = []\n",
    "    data_tables = [puffs.PuffsSession().TrialOld()]\n",
    "    split_plots_by = ''\n",
    "    \n",
    "    deltaBins = np.arange(-12, 13, step=3)\n",
    "    color_type = 'list'\n",
    "    color_list = ['r', 'k']\n"
   ]
  },
  {
   "cell_type": "markdown",
   "metadata": {},
   "source": [
    "### Create label and color patches for plot"
   ]
  },
  {
   "cell_type": "code",
   "execution_count": 7,
   "metadata": {},
   "outputs": [],
   "source": [
    "#Transform dictionary of condition keys to a list of strings\n",
    "if type(condition_key[0]) is dict:\n",
    "    if isinstance(list(condition_key[0].values())[0],str):\n",
    "        ap_str = '\"'\n",
    "    else:\n",
    "        ap_str = ''\n",
    "    aux_condition_var = [list(x.keys())[0]+ ' = ' + ap_str + list(x.values())[0] + ap_str for x in condition_key]\n",
    "    condition_key = aux_condition_var\n",
    "    \n",
    "if len(condition_labels) == 0:\n",
    "    condition_labels = condition_key\n",
    "\n",
    "\n",
    "if color_type == 'list':\n",
    "    #If we have enough colors on the list:\n",
    "    if len(condition_labels) <= len(color_list):\n",
    "        colors = color_list[0:len(condition_labels)]\n",
    "    #If not, we will check if there are less than 10 things to plot    \n",
    "    elif len(condition_labels) <= 10:\n",
    "        color_type = 'qualitative'\n",
    "        print('Not enough colors on list, swithcing to qualitative colormap')\n",
    "    #If more than 10 things to plot, let's go with uniform colormap\n",
    "    else:\n",
    "        color_type = 'uniform'\n",
    "        print('Not enough colors on list, swithcing to uniform colormap')\n",
    "        \n",
    "if color_type == 'qualitative':\n",
    "    if len(condition_labels) <= 10:\n",
    "        colors = cm.get_cmap('tab10', 10)\n",
    "        colors = colors(np.linspace(0,len(condition_labels)/10,len(condition_labels)))\n",
    "    else:\n",
    "        color_type = 'uniform'\n",
    "        print('Not enough colors on qualitative colormap, swithcing to uniform colormap')\n",
    "        \n",
    "if color_type == 'uniform':\n",
    "    colors = cm.get_cmap('viridis', len(condition_labels))\n",
    "\n",
    "if color_type == 'custom':\n",
    "    colors = cm.get_cmap(custom_colormap, len(condition_labels))\n",
    "\n",
    "if color_type != 'list' and color_type != 'qualitative':\n",
    "    colors = colors(np.linspace(0,1,len(condition_labels)))\n",
    "    \n",
    "\n",
    "#Assign a color to each condition\n",
    "zip_iterator    = zip(condition_key, colors)\n",
    "color_dict_keys = dict(zip_iterator)\n",
    "\n",
    "#Assign a color to each label\n",
    "zip_iterator = zip(condition_labels, colors)\n",
    "color_dict = dict(zip_iterator)\n",
    "\n",
    "#Create a color patch for plot legend\n",
    "patches_legend = []\n",
    "for key in color_dict:\n",
    "    patches_legend.append(mpatches.Patch(color=color_dict[key], label=key))\n"
   ]
  },
  {
   "cell_type": "markdown",
   "metadata": {},
   "source": [
    "## \"PreFilter sessions, blocks, join data tables if needed"
   ]
  },
  {
   "cell_type": "code",
   "execution_count": 8,
   "metadata": {},
   "outputs": [],
   "source": [
    "# Join all tables that will be part of \"prefilters\"\n",
    "table_filter = table_prefilters[0]\n",
    "\n",
    "if len(table_prefilters) > 1:\n",
    "    for i in range(1,len(table_prefilters)):\n",
    "        table_filter  = utility.smart_dj_join(table_filter,table_prefilters[i])\n",
    "\n",
    "# Filter by all conditions selected\n",
    "for filter_key in key_selection:\n",
    "    table_filter = table_filter & filter_key\n",
    "\n",
    "# Join all data tables\n",
    "data_table = data_tables[0]\n",
    "if len(data_tables) > 1:\n",
    "    for i in range(1,len(data_tables)):\n",
    "        data_table  = utility.smart_dj_join(data_table,data_tables[i]) \n",
    "\n"
   ]
  },
  {
   "cell_type": "markdown",
   "metadata": {},
   "source": [
    "### Get  set to separate plots by "
   ]
  },
  {
   "cell_type": "code",
   "execution_count": 9,
   "metadata": {},
   "outputs": [],
   "source": [
    "plots_records = ['']\n",
    "if len(split_plots_by) > 0:\n",
    "    plots_records = table_filter.fetch(split_plots_by)\n",
    "    plots_records = list(set(plots_records))\n",
    "    plots_records.sort()\n",
    "num_figs = len(plots_records)"
   ]
  },
  {
   "cell_type": "markdown",
   "metadata": {},
   "source": [
    "### Fit all sessions to sigmoid and plot"
   ]
  },
  {
   "cell_type": "code",
   "execution_count": null,
   "metadata": {
    "scrolled": false
   },
   "outputs": [
    {
     "name": "stdout",
     "output_type": "stream",
     "text": [
      "1 / 7\n"
     ]
    }
   ],
   "source": [
    "df_summary = pd.DataFrame(columns = [split_plots_by, 'Type', '%Correct', 'Total trials', 'Sigmoid fit'])\n",
    "\n",
    "rows, cols = utility.get_cols_rows_plot(num_figs, fig_size)            \n",
    "fig, axs = plt.subplots(rows, cols, figsize=fig_size, sharex=True, sharey=True, squeeze=False)\n",
    "renderer = fig.canvas.get_renderer()\n",
    "\n",
    "#Decide font size for plots\n",
    "if rows*cols >= 9:\n",
    "    ac_fs = small_font_size\n",
    "elif rows*cols >= 5:\n",
    "    ac_fs = medium_font_size\n",
    "else:\n",
    "    ac_fs = big_font_size\n",
    "\n",
    "for split_idx, split in enumerate(plots_records):\n",
    "\n",
    "    print(split_idx+1, '/', len(plots_records))\n",
    "    \n",
    "    ac_col = split_idx%cols\n",
    "    ac_row = int(split_idx/cols)\n",
    "        \n",
    "    #Create dictionary for split key plot (if applicable)\n",
    "    split_key = dict()\n",
    "    split_key[split_plots_by] = split\n",
    "\n",
    "    for key_idx, key in enumerate(condition_key):\n",
    "\n",
    "        #Fetch session info (if split, add split_key to query)\n",
    "        if len(split_plots_by) > 0:\n",
    "            thisCondition = data_table & table_filter.proj() & key & split_key\n",
    "        else:\n",
    "            thisCondition = data_table & table_filter.proj() & key\n",
    "            \n",
    "        # Fetch all fields of table except external (for speed)\n",
    "        if key_idx == 0:\n",
    "            fields_query = pd.DataFrame.from_dict(thisCondition.heading.attributes, orient='index')\n",
    "            fields_query = fields_query.loc[fields_query['is_external'] == False, :]\n",
    "            fields_query = fields_query.index.to_list()\n",
    "\n",
    "        # Fetch session  \n",
    "        session_info = pd.DataFrame(thisCondition.fetch(*fields_query, as_dict=True))\n",
    "\n",
    "        # Choice and trial type as integer\n",
    "        if session_info.shape[0] > 0:\n",
    "\n",
    "            session_info = utility.translate_choice_trials_cues(session_info)\n",
    "\n",
    "            # Call Fit to sigmoid function\n",
    "            fit_dict = utility.psychFit(deltaBins, session_info['cue_presence_right'].values, \\\n",
    "                                session_info['cue_presence_left'].values, session_info['choice_int'].values)\n",
    "\n",
    "            dict_summary = dict()\n",
    "            dict_summary[split_plots_by]        =  split\n",
    "            dict_summary['Type']         =  key\n",
    "            dict_summary['%Correct']     =  np.sum(session_info['choice'].values == session_info['trial_type'].values)/session_info.shape[0]\n",
    "            dict_summary['Total trials'] =  session_info.shape[0]\n",
    "            dict_summary['Sigmoid fit']  =  fit_dict\n",
    "            \n",
    "            df_summary = df_summary.append(dict_summary, ignore_index = True)\n",
    "\n",
    "            #Select color from color dictionary\n",
    "            color_plot = color_dict_keys[key]\n",
    "            #Plot results\n",
    "            axs[ac_row, ac_col].plot(fit_dict['delta_bins'], fit_dict['pright_data'], 'o', color = color_plot)\n",
    "            if fit_dict['delta_fit'].shape[0] > 0:\n",
    "                axs[ac_row, ac_col].plot(fit_dict['delta_fit'], fit_dict['pright_fit'], '--', color = color_plot)\n",
    "    \n",
    "    # Axes, legends and labels\n",
    "    if ac_col == 0:\n",
    "        axs[ac_row, ac_col].set_ylabel(\"% Turned left\", fontsize=ac_fs[1])\n",
    "    \n",
    "    axs[ac_row, ac_col].set_ylim([-1, 101])\n",
    "    mean_correct_string = f\"{df_summary.loc[df_summary[split_plots_by] == split, '%Correct'].mean()*100:2.1f}\"\n",
    "    if len(split_plots_by) > 7:\n",
    "        title_label = str(split) + '-%Correct: ' + mean_correct_string\n",
    "    else:\n",
    "        title_label = split_plots_by + \" : \" + str(split) + '%Correct: ' + mean_correct_string\n",
    "    axs[ac_row, ac_col].set_title(title_label, fontsize=ac_fs[0])\n",
    "    \n",
    "    fig.canvas.draw()\n",
    "    plt.draw()    \n",
    "    axs[ac_row, ac_col].draw(renderer)\n",
    "\n",
    "    xlabels = axs[ac_row, ac_col].get_xticklabels()\n",
    "    xlabels_t = [x.get_text() for x in xlabels]\n",
    "    if len(xlabels) > 0:\n",
    "        axs[ac_row, ac_col].set_xticklabels(xlabels, fontsize=ac_fs[1])\n",
    "    ylabels = axs[ac_row, ac_col].get_yticklabels()\n",
    "    ylabels_t = [x.get_text() for x in ylabels]\n",
    "    if len(ylabels) > 0:\n",
    "        axs[ac_row, ac_col].set_yticklabels(ylabels, fontsize=ac_fs[1])\n",
    "\n",
    "for i in range(0,cols):\n",
    "    axs[rows-1, i].set_xlabel(\"total evidence (L-R)\", fontsize=ac_fs[1])\n",
    "    \n",
    "axs[rows-1, cols-1].legend(handles=patches_legend, fontsize=ac_fs[0])\n"
   ]
  },
  {
   "cell_type": "markdown",
   "metadata": {},
   "source": [
    "## Summary DataFrame"
   ]
  },
  {
   "cell_type": "code",
   "execution_count": 18,
   "metadata": {},
   "outputs": [
    {
     "data": {
      "text/html": [
       "<div>\n",
       "<style scoped>\n",
       "    .dataframe tbody tr th:only-of-type {\n",
       "        vertical-align: middle;\n",
       "    }\n",
       "\n",
       "    .dataframe tbody tr th {\n",
       "        vertical-align: top;\n",
       "    }\n",
       "\n",
       "    .dataframe thead th {\n",
       "        text-align: right;\n",
       "    }\n",
       "</style>\n",
       "<table border=\"1\" class=\"dataframe\">\n",
       "  <thead>\n",
       "    <tr style=\"text-align: right;\">\n",
       "      <th></th>\n",
       "      <th></th>\n",
       "      <th>%Correct</th>\n",
       "      <th>Total trials</th>\n",
       "      <th>Sigmoid fit</th>\n",
       "    </tr>\n",
       "    <tr>\n",
       "      <th>subject_fullname</th>\n",
       "      <th>Type</th>\n",
       "      <th></th>\n",
       "      <th></th>\n",
       "      <th></th>\n",
       "    </tr>\n",
       "  </thead>\n",
       "  <tbody>\n",
       "    <tr>\n",
       "      <th rowspan=\"2\" valign=\"top\">jjulian_jj026</th>\n",
       "      <th>stim_on = 0</th>\n",
       "      <td>0.528014</td>\n",
       "      <td>589</td>\n",
       "      <td>{'delta_bins': [0], 'delta_data': [0.005093378...</td>\n",
       "    </tr>\n",
       "    <tr>\n",
       "      <th>stim_on = 1</th>\n",
       "      <td>0.469697</td>\n",
       "      <td>132</td>\n",
       "      <td>{'delta_bins': [0], 'delta_data': [-0.06060606...</td>\n",
       "    </tr>\n",
       "    <tr>\n",
       "      <th rowspan=\"2\" valign=\"top\">jjulian_jj027</th>\n",
       "      <th>stim_on = 0</th>\n",
       "      <td>0.587295</td>\n",
       "      <td>2251</td>\n",
       "      <td>{'delta_bins': [0], 'delta_data': [0.062638827...</td>\n",
       "    </tr>\n",
       "    <tr>\n",
       "      <th>stim_on = 1</th>\n",
       "      <td>0.507168</td>\n",
       "      <td>558</td>\n",
       "      <td>{'delta_bins': [0], 'delta_data': [0.050179211...</td>\n",
       "    </tr>\n",
       "    <tr>\n",
       "      <th rowspan=\"2\" valign=\"top\">jjulian_jj028</th>\n",
       "      <th>stim_on = 0</th>\n",
       "      <td>0.483871</td>\n",
       "      <td>372</td>\n",
       "      <td>{'delta_bins': [0], 'delta_data': [0.150537634...</td>\n",
       "    </tr>\n",
       "    <tr>\n",
       "      <th>stim_on = 1</th>\n",
       "      <td>0.514563</td>\n",
       "      <td>103</td>\n",
       "      <td>{'delta_bins': [0], 'delta_data': [0.165048543...</td>\n",
       "    </tr>\n",
       "    <tr>\n",
       "      <th></th>\n",
       "      <th>Totals</th>\n",
       "      <td>0.515101</td>\n",
       "      <td>4005</td>\n",
       "      <td>None</td>\n",
       "    </tr>\n",
       "  </tbody>\n",
       "</table>\n",
       "</div>"
      ],
      "text/plain": [
       "                              %Correct Total trials  \\\n",
       "subject_fullname Type                                 \n",
       "jjulian_jj026    stim_on = 0  0.528014          589   \n",
       "                 stim_on = 1  0.469697          132   \n",
       "jjulian_jj027    stim_on = 0  0.587295         2251   \n",
       "                 stim_on = 1  0.507168          558   \n",
       "jjulian_jj028    stim_on = 0  0.483871          372   \n",
       "                 stim_on = 1  0.514563          103   \n",
       "                 Totals       0.515101         4005   \n",
       "\n",
       "                                                                    Sigmoid fit  \n",
       "subject_fullname Type                                                            \n",
       "jjulian_jj026    stim_on = 0  {'delta_bins': [0], 'delta_data': [0.005093378...  \n",
       "                 stim_on = 1  {'delta_bins': [0], 'delta_data': [-0.06060606...  \n",
       "jjulian_jj027    stim_on = 0  {'delta_bins': [0], 'delta_data': [0.062638827...  \n",
       "                 stim_on = 1  {'delta_bins': [0], 'delta_data': [0.050179211...  \n",
       "jjulian_jj028    stim_on = 0  {'delta_bins': [0], 'delta_data': [0.150537634...  \n",
       "                 stim_on = 1  {'delta_bins': [0], 'delta_data': [0.165048543...  \n",
       "                 Totals                                                    None  "
      ]
     },
     "execution_count": 18,
     "metadata": {},
     "output_type": "execute_result"
    }
   ],
   "source": [
    "mean_correct = df_summary['%Correct'].mean()\n",
    "total_trials = df_summary['Total trials'].sum()\n",
    "\n",
    "total_df = pd.DataFrame([['', 'Totals', mean_correct, total_trials, None]], columns=df_summary.columns)\n",
    "\n",
    "df_final = df_summary.append(total_df, ignore_index=True)\n",
    "\n",
    "if len(split_plots_by) > 0:\n",
    "    df_final = df_final.set_index([split_plots_by, 'Type'])\n",
    "else:\n",
    "    df_final = df_final.set_index(['Type'])\n",
    "df_final"
   ]
  },
  {
   "cell_type": "code",
   "execution_count": null,
   "metadata": {},
   "outputs": [],
   "source": []
  }
 ],
 "metadata": {
  "kernelspec": {
   "display_name": "Python 3.9.12 ('u19_datajoint_py39_env')",
   "language": "python",
   "name": "python3"
  },
  "language_info": {
   "codemirror_mode": {
    "name": "ipython",
    "version": 3
   },
   "file_extension": ".py",
   "mimetype": "text/x-python",
   "name": "python",
   "nbconvert_exporter": "python",
   "pygments_lexer": "ipython3",
   "version": "3.9.12"
  },
  "vscode": {
   "interpreter": {
    "hash": "b68cb9b332af36295e84dc584e8b8bfb5972cd3ec0d685e7a3a58d40e818c02c"
   }
  }
 },
 "nbformat": 4,
 "nbformat_minor": 2
}
