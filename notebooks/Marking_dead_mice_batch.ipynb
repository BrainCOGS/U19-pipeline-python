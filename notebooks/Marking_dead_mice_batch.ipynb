{
 "cells": [
  {
   "cell_type": "code",
   "execution_count": 13,
   "metadata": {},
   "outputs": [],
   "source": [
    "from u19_pipeline import subject, action, acquisition\n",
    "import pandas as pd"
   ]
  },
  {
   "cell_type": "code",
   "execution_count": 49,
   "metadata": {},
   "outputs": [
    {
     "data": {
      "text/plain": [
       "0    jounhong_Ai228_688\n",
       "1    jounhong_Ai228_AC1\n",
       "Name: subject_fullname, dtype: object"
      ]
     },
     "execution_count": 49,
     "metadata": {},
     "output_type": "execute_result"
    }
   ],
   "source": [
    "query1 = 'subject_fullname like \"joun%\"'\n",
    "query2 = 'subject_fullname != \"jounhong_Ai228_686\"' # This mouse is still alive\n",
    "query3 = 'subject_status = \"InExperiments\"'\n",
    "query4 = 'effective_date < \"2024-08-01\"'\n",
    "data = (action.SubjectStatus() * subject.Subject() & (' and '.join([query1, query2, query3, query4]))).fetch(format='frame')\n",
    "\n",
    "df = data.reset_index().sort_values(by='effective_date', ascending=False)\n",
    "\n",
    "\n",
    "df['subject_fullname']"
   ]
  },
  {
   "cell_type": "code",
   "execution_count": 53,
   "metadata": {},
   "outputs": [
    {
     "name": "stdout",
     "output_type": "stream",
     "text": [
      "0\n",
      "0\n"
     ]
    }
   ],
   "source": [
    "query1 = 'subject_fullname like \"joun%\"'\n",
    "\n",
    "# These will need to be properly handled in the future if the lens are not 0\n",
    "print(len(subject.SubjectActionAutomatic() & query1 & '  valid_until_date is NULL'))\n",
    "print(len(subject.SubjectActionManual() & query1 & '  valid_until_date is NULL'))"
   ]
  },
  {
   "cell_type": "code",
   "execution_count": null,
   "metadata": {},
   "outputs": [
    {
     "name": "stdout",
     "output_type": "stream",
     "text": [
      "jounhong_Ai228_688\n",
      "jounhong_Ai228_AC1\n"
     ]
    }
   ],
   "source": [
    "for sub in df['subject_fullname']:\n",
    "    key = {\n",
    "        'subject_fullname': sub,\n",
    "        'cage': '(grave)'}\n",
    "    subject.CagingStatus.update1(key)\n",
    "\n",
    "    key = {\n",
    "        'subject_fullname': sub,\n",
    "        'location': 'valhalla'}\n",
    "\n",
    "    subject.Subject.update1(key)\n",
    "\n",
    "    key = {\n",
    "        'subject_fullname': sub,\n",
    "        'death_date': '2025-02-05'\n",
    "    }\n",
    "\n",
    "    subject.Death.insert1(key, skip_duplicates=True)\n",
    "\n",
    "    key = {\n",
    "        'subject_fullname': sub,\n",
    "        'effective_date': '2025-02-05',\n",
    "        'subject_status': 'Dead',\n",
    "        'water_per_day': 1,\n",
    "        'schedule': 'Nothing/Nothing/Nothing/Nothing/Nothing/Nothing/Nothing'\n",
    "    }\n",
    "\n",
    "    action.SubjectStatus.insert1(key)\n",
    "\n",
    "\n",
    "\n",
    "\n",
    "    print(sub)"
   ]
  },
  {
   "cell_type": "code",
   "execution_count": null,
   "metadata": {},
   "outputs": [],
   "source": []
  }
 ],
 "metadata": {
  "kernelspec": {
   "display_name": ".venv",
   "language": "python",
   "name": "python3"
  },
  "language_info": {
   "codemirror_mode": {
    "name": "ipython",
    "version": 3
   },
   "file_extension": ".py",
   "mimetype": "text/x-python",
   "name": "python",
   "nbconvert_exporter": "python",
   "pygments_lexer": "ipython3",
   "version": "3.12.6"
  }
 },
 "nbformat": 4,
 "nbformat_minor": 2
}
