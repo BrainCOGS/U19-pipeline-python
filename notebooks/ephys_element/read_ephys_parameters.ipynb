{
 "cells": [
  {
   "cell_type": "code",
   "execution_count": 1,
   "metadata": {},
   "outputs": [
    {
     "name": "stdout",
     "output_type": "stream",
     "text": [
      "Local configuration file found !!, no need to run the configuration (unless configuration has changed)\n"
     ]
    }
   ],
   "source": [
    "from scripts.conf_file_finding import try_find_conf_file\n",
    "try_find_conf_file()"
   ]
  },
  {
   "cell_type": "code",
   "execution_count": 3,
   "metadata": {},
   "outputs": [],
   "source": [
    "import pandas as pd"
   ]
  },
  {
   "cell_type": "code",
   "execution_count": 2,
   "metadata": {},
   "outputs": [
    {
     "name": "stdout",
     "output_type": "stream",
     "text": [
      "Connecting alvaros@datajoint00.pni.princeton.edu:3306\n"
     ]
    }
   ],
   "source": [
    "import u19_pipeline.ephys_pipeline as ep"
   ]
  },
  {
   "cell_type": "code",
   "execution_count": 6,
   "metadata": {},
   "outputs": [],
   "source": [
    "all_params = pd.DataFrame(ep.ephys_element.ClusteringParamSet.fetch(as_dict=True))\n",
    "all_params"
   ]
  },
  {
   "cell_type": "code",
   "execution_count": 8,
   "metadata": {},
   "outputs": [
    {
     "data": {
      "text/plain": [
       "{'fs': 30000,\n",
       " 'fshigh': 150,\n",
       " 'minfr_goodchannels': 0.1,\n",
       " 'Th': [10, 4],\n",
       " 'lam': 10,\n",
       " 'AUCsplit': 0.9,\n",
       " 'minFR': 0.02,\n",
       " 'momentum': [20, 400],\n",
       " 'sigmaMask': 30,\n",
       " 'ThPre': 8,\n",
       " 'CAR': 1,\n",
       " 'spkTh': -6,\n",
       " 'reorder': 1,\n",
       " 'nskip': 25,\n",
       " 'GPU': 1,\n",
       " 'Nfilt': 1024,\n",
       " 'nfilt_factor': 4,\n",
       " 'ntbuff': 64,\n",
       " 'NT': 32832,\n",
       " 'whiteningRange': 32,\n",
       " 'nSkipCov': 25,\n",
       " 'scaleproc': 200,\n",
       " 'nPCs': 3,\n",
       " 'useRAM': 0,\n",
       " 'trange': [0, 1000000000],\n",
       " 'NchanTOT': 385}"
      ]
     },
     "execution_count": 8,
     "metadata": {},
     "output_type": "execute_result"
    }
   ],
   "source": [
    "all_params.loc[0, 'params']"
   ]
  }
 ],
 "metadata": {
  "jupytext": {
   "encoding": "# -*- coding: utf-8 -*-"
  },
  "kernelspec": {
   "display_name": "Python 3.9.12 64-bit ('u19_datajoint_py39_env')",
   "language": "python",
   "name": "python3"
  },
  "language_info": {
   "codemirror_mode": {
    "name": "ipython",
    "version": 3
   },
   "file_extension": ".py",
   "mimetype": "text/x-python",
   "name": "python",
   "nbconvert_exporter": "python",
   "pygments_lexer": "ipython3",
   "version": "3.9.12"
  },
  "vscode": {
   "interpreter": {
    "hash": "419d9cb2b112754b897eb34e1df39f6fed5577ca6010806add89ffbebe061a18"
   }
  }
 },
 "nbformat": 4,
 "nbformat_minor": 2
}
