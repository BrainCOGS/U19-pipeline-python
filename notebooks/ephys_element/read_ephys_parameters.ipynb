{
 "cells": [
  {
   "cell_type": "code",
   "execution_count": 1,
   "metadata": {},
   "outputs": [
    {
     "name": "stdout",
     "output_type": "stream",
     "text": [
      "Local configuration file found !!, no need to run the configuration (unless configuration has changed)\n"
     ]
    }
   ],
   "source": [
    "from scripts.conf_file_finding import try_find_conf_file\n",
    "try_find_conf_file()"
   ]
  },
  {
   "cell_type": "code",
   "execution_count": 3,
   "metadata": {},
   "outputs": [],
   "source": [
    "import pandas as pd"
   ]
  },
  {
   "cell_type": "code",
   "execution_count": 2,
   "metadata": {},
   "outputs": [
    {
     "name": "stdout",
     "output_type": "stream",
     "text": [
      "Connecting alvaros@datajoint00.pni.princeton.edu:3306\n"
     ]
    }
   ],
   "source": [
    "import u19_pipeline.ephys_pipeline as ep"
   ]
  },
  {
   "cell_type": "code",
   "execution_count": 9,
   "metadata": {},
   "outputs": [
    {
     "data": {
      "text/html": [
       "<div>\n",
       "<style scoped>\n",
       "    .dataframe tbody tr th:only-of-type {\n",
       "        vertical-align: middle;\n",
       "    }\n",
       "\n",
       "    .dataframe tbody tr th {\n",
       "        vertical-align: top;\n",
       "    }\n",
       "\n",
       "    .dataframe thead th {\n",
       "        text-align: right;\n",
       "    }\n",
       "</style>\n",
       "<table border=\"1\" class=\"dataframe\">\n",
       "  <thead>\n",
       "    <tr style=\"text-align: right;\">\n",
       "      <th></th>\n",
       "      <th>paramset_idx</th>\n",
       "      <th>clustering_method</th>\n",
       "      <th>paramset_desc</th>\n",
       "      <th>param_set_hash</th>\n",
       "      <th>params</th>\n",
       "    </tr>\n",
       "  </thead>\n",
       "  <tbody>\n",
       "    <tr>\n",
       "      <th>0</th>\n",
       "      <td>0</td>\n",
       "      <td>kilosort2</td>\n",
       "      <td>general-user_2022-06-01_Spike sorting using Ki...</td>\n",
       "      <td>b9e07e55-95ea-3463-a740-90291de41da6</td>\n",
       "      <td>{'fs': 30000, 'fshigh': 150, 'minfr_goodchanne...</td>\n",
       "    </tr>\n",
       "    <tr>\n",
       "      <th>1</th>\n",
       "      <td>1</td>\n",
       "      <td>kilosort2</td>\n",
       "      <td>alvaros_2022-06-01_Spike sorting using Kilosort2</td>\n",
       "      <td>697d24ac-2d46-a6e8-6f6b-2d1afaea000d</td>\n",
       "      <td>{'fs': 30000, 'fshigh': 150, 'minfr_goodchanne...</td>\n",
       "    </tr>\n",
       "    <tr>\n",
       "      <th>2</th>\n",
       "      <td>2</td>\n",
       "      <td>kilosort3</td>\n",
       "      <td>general-user_2022-06-01_Spike sorting using Ki...</td>\n",
       "      <td>e6bfd993-55fc-5844-bdfe-30fab9888f28</td>\n",
       "      <td>{'fs': 30000, 'fshigh': 300, 'minfr_goodchanne...</td>\n",
       "    </tr>\n",
       "  </tbody>\n",
       "</table>\n",
       "</div>"
      ],
      "text/plain": [
       "   paramset_idx clustering_method  \\\n",
       "0             0         kilosort2   \n",
       "1             1         kilosort2   \n",
       "2             2         kilosort3   \n",
       "\n",
       "                                       paramset_desc  \\\n",
       "0  general-user_2022-06-01_Spike sorting using Ki...   \n",
       "1   alvaros_2022-06-01_Spike sorting using Kilosort2   \n",
       "2  general-user_2022-06-01_Spike sorting using Ki...   \n",
       "\n",
       "                         param_set_hash  \\\n",
       "0  b9e07e55-95ea-3463-a740-90291de41da6   \n",
       "1  697d24ac-2d46-a6e8-6f6b-2d1afaea000d   \n",
       "2  e6bfd993-55fc-5844-bdfe-30fab9888f28   \n",
       "\n",
       "                                              params  \n",
       "0  {'fs': 30000, 'fshigh': 150, 'minfr_goodchanne...  \n",
       "1  {'fs': 30000, 'fshigh': 150, 'minfr_goodchanne...  \n",
       "2  {'fs': 30000, 'fshigh': 300, 'minfr_goodchanne...  "
      ]
     },
     "execution_count": 9,
     "metadata": {},
     "output_type": "execute_result"
    }
   ],
   "source": [
    "all_params = pd.DataFrame(ep.ephys_element.ClusteringParamSet.fetch(as_dict=True))\n",
    "all_params"
   ]
  },
  {
   "cell_type": "code",
   "execution_count": 8,
   "metadata": {},
   "outputs": [
    {
     "data": {
      "text/plain": [
       "{'fs': 30000,\n",
       " 'fshigh': 150,\n",
       " 'minfr_goodchannels': 0.1,\n",
       " 'Th': [10, 4],\n",
       " 'lam': 10,\n",
       " 'AUCsplit': 0.9,\n",
       " 'minFR': 0.02,\n",
       " 'momentum': [20, 400],\n",
       " 'sigmaMask': 30,\n",
       " 'ThPre': 8,\n",
       " 'CAR': 1,\n",
       " 'spkTh': -6,\n",
       " 'reorder': 1,\n",
       " 'nskip': 25,\n",
       " 'GPU': 1,\n",
       " 'Nfilt': 1024,\n",
       " 'nfilt_factor': 4,\n",
       " 'ntbuff': 64,\n",
       " 'NT': 32832,\n",
       " 'whiteningRange': 32,\n",
       " 'nSkipCov': 25,\n",
       " 'scaleproc': 200,\n",
       " 'nPCs': 3,\n",
       " 'useRAM': 0,\n",
       " 'trange': [0, 1000000000],\n",
       " 'NchanTOT': 385}"
      ]
     },
     "execution_count": 8,
     "metadata": {},
     "output_type": "execute_result"
    }
   ],
   "source": [
    "all_params.loc[0, 'params']"
   ]
  }
 ],
 "metadata": {
  "jupytext": {
   "encoding": "# -*- coding: utf-8 -*-"
  },
  "kernelspec": {
   "display_name": "Python 3.9.12 64-bit ('u19_datajoint_py39_env')",
   "language": "python",
   "name": "python3"
  },
  "language_info": {
   "codemirror_mode": {
    "name": "ipython",
    "version": 3
   },
   "file_extension": ".py",
   "mimetype": "text/x-python",
   "name": "python",
   "nbconvert_exporter": "python",
   "pygments_lexer": "ipython3",
   "version": "3.9.12"
  },
  "vscode": {
   "interpreter": {
    "hash": "419d9cb2b112754b897eb34e1df39f6fed5577ca6010806add89ffbebe061a18"
   }
  }
 },
 "nbformat": 4,
 "nbformat_minor": 2
}
