{
 "cells": [
  {
   "cell_type": "markdown",
   "source": [
    "To run the array ephys workflow, we need to properly set up the DataJoint configuration. The configuration will be saved in a file called `dj_local_conf.json` on each machine and this notebook walks you through the process.\n",
    "\n",
    "\n",
    "**The configuration only needs to be set up once**, if you have gone through the configuration before, directly go to [02-workflow-structure](02-workflow-structure-optional.ipynb)."
   ],
   "metadata": {}
  },
  {
   "cell_type": "markdown",
   "source": [
    "# Set up configuration in root directory of this package\n",
    "\n",
    "As a convention, we set the configuration up in the root directory of the workflow package and always starts importing datajoint and pipeline modules from there."
   ],
   "metadata": {}
  },
  {
   "cell_type": "code",
   "execution_count": 1,
   "source": [
    "from scripts.conf_file_finding import try_find_conf_file\r\n",
    "try_find_conf_file()\r\n",
    "import os\r\n",
    "import getpass\r\n",
    "import datajoint as dj\r\n",
    "import u19_pipeline.utility as utility"
   ],
   "outputs": [
    {
     "output_type": "stream",
     "name": "stdout",
     "text": [
      "Local configuration file found !!, no need to run the configuration (unless configuration has changed)\n"
     ]
    }
   ],
   "metadata": {}
  },
  {
   "cell_type": "markdown",
   "source": [
    "# Configure database host address and credentials"
   ],
   "metadata": {}
  },
  {
   "cell_type": "markdown",
   "source": [
    "Now let's set up the host, user and password in the `dj.config` global variable"
   ],
   "metadata": {}
  },
  {
   "cell_type": "code",
   "execution_count": 2,
   "source": [
    "dj.config['database.host'] = 'datajoint00.pni.princeton.edu'\r\n",
    "dj.config['database.user'] = 'alvaros'\r\n",
    "dj.config['database.password'] = getpass.getpass('Enter your password:') # enter the password securily"
   ],
   "outputs": [],
   "metadata": {}
  },
  {
   "cell_type": "markdown",
   "source": [
    "You should be able to connect to the database at this stage."
   ],
   "metadata": {}
  },
  {
   "cell_type": "code",
   "execution_count": 3,
   "source": [
    "dj.conn()"
   ],
   "outputs": [
    {
     "output_type": "stream",
     "name": "stdout",
     "text": [
      "Connecting alvaros@datajoint00.pni.princeton.edu:3306\n"
     ]
    },
    {
     "output_type": "execute_result",
     "data": {
      "text/plain": [
       "DataJoint connection (connected) alvaros@datajoint00.pni.princeton.edu:3306"
      ]
     },
     "metadata": {},
     "execution_count": 3
    }
   ],
   "metadata": {}
  },
  {
   "cell_type": "markdown",
   "source": [
    "#### if Windows:\n",
    "+ install Graphviz for diagram drawing.\n",
    "+ Add Graphviz to path"
   ],
   "metadata": {}
  },
  {
   "cell_type": "code",
   "execution_count": 4,
   "source": [
    "if os.name == 'nt':\r\n",
    "    if 'C:\\\\Program Files\\\\Graphviz\\\\bin' not in os.environ[\"PATH\"]:\r\n",
    "        os.environ[\"PATH\"] += ';C:\\\\Program Files\\\\Graphviz\\\\bin'"
   ],
   "outputs": [],
   "metadata": {}
  },
  {
   "cell_type": "markdown",
   "source": [
    "# Configure the `custom` field in `dj.config` for the element-array-ephys"
   ],
   "metadata": {}
  },
  {
   "cell_type": "markdown",
   "source": [
    "The major component of the current workflow is the [DataJoint Array Ephys Element](https://github.com/datajoint/element-array-ephys). Array Ephys Element requires configurations in the field `custom` in `dj.config`:"
   ],
   "metadata": {}
  },
  {
   "cell_type": "markdown",
   "source": [
    "## Database prefix\n",
    "\n",
    "Giving a prefix to schema could help on the configuration of privilege settings. For example, if we set prefix `u19_`, every schema created with the current workflow will start with `u19_`.\n",
    "\n",
    "The prefix could be configurated as follows in `dj.config`:"
   ],
   "metadata": {}
  },
  {
   "cell_type": "code",
   "execution_count": 5,
   "source": [
    "if 'custom' not in dj.config:\r\n",
    "    dj.config['custom'] = dict()"
   ],
   "outputs": [],
   "metadata": {}
  },
  {
   "cell_type": "code",
   "execution_count": 6,
   "source": [
    "dj.config['custom'] = {'database.prefix': 'u19_'}"
   ],
   "outputs": [],
   "metadata": {}
  },
  {
   "cell_type": "markdown",
   "source": [
    "We also have to define the external storage location. This is the remote directory on bucket, `smb://bucket.pni.princeton.edu/u19_dj` where datajoint stores bulky data. This location should be mounted locally"
   ],
   "metadata": {}
  },
  {
   "cell_type": "code",
   "execution_count": 7,
   "source": [
    "location_extstorage = utility.get_network_path('u19_dj') + '/external_dj_blobs'\r\n",
    "dj.config['stores'] = {\r\n",
    "'extstorage':\r\n",
    "{\r\n",
    "    'location': location_extstorage,\r\n",
    "    'protocol': 'file'\r\n",
    "}\r\n",
    "}"
   ],
   "outputs": [],
   "metadata": {}
  },
  {
   "cell_type": "markdown",
   "source": [
    "## Root directories for raw ephys data and kilosort 2 processed results\n",
    "\n",
    "+ `ephys_root_data_dir` field indicates the root directory for the **ephys raw data** from SpikeGLX or OpenEphys (e.g. `*imec0.ap.bin`, `*imec0.ap.meta`, `*imec0.lf.bin`, `imec0.lf.meta`) or the **clustering results** from kilosort2 (e.g. `spike_times.npy`, `spike_clusters.npy`). The root path typically **do not** contain information of subjects or sessions, all data from subjects/sessions should be subdirectories in the root path."
   ],
   "metadata": {}
  },
  {
   "cell_type": "markdown",
   "source": [
    "+ In the database, every path for the ephys raw data is **relative to this root path**. The benefit is that the absolute path could be configured for each machine, and when data transfer happens, we just need to change the root directory in the config file.\n",
    "+ The workflow supports **multiple root directories**. If there are multiple possible root directories, specify the `ephys_root_data_dir` as a list.\n",
    "+ The root path(s) are **specific to each machine**, as the name of drive mount could be different for different operating systems or machines.\n",
    "+ In the context of the workflow, all the paths saved into the database or saved in the config file need to be in the **POSIX standards** (Unix/Linux), with `/`. The path conversion for machines of any operating system is taken care of inside the elements.\n",
    "\n",
    "### Examples\n",
    "+ U19 mesoscope directory for Linux systems: `/mnt/Bezos-center/Manuel/neuropixel/manuel`\n",
    "+ U19 mesoscope directory for Mac systems:   `/Volumes/Bezos-center/Manuel/neuropixel/manuel`\n",
    "+ U19 mesoscope directory for Windows systems: `//bucket.pni.princeton.edu/Bezos-center/Manuel/neuropixel/manuel`"
   ],
   "metadata": {}
  },
  {
   "cell_type": "code",
   "execution_count": 8,
   "source": [
    "# If there is only one root path.\r\n",
    "dj.config['custom']['ephys_root_data_dir'] = utility.get_network_path('Bezos') + '/Manuel/neuropixel/manuel'\r\n",
    "# If there are multiple possible root paths:\r\n",
    "#dj.config['custom']['ephys_root_data_dir'] = ['/mnt/bucket/labs/tank']"
   ],
   "outputs": [],
   "metadata": {}
  },
  {
   "cell_type": "code",
   "execution_count": 9,
   "source": [
    "dj.config['custom']"
   ],
   "outputs": [
    {
     "output_type": "execute_result",
     "data": {
      "text/plain": [
       "{'database.prefix': 'u19_',\n",
       " 'ephys_root_data_dir': '//bucket.pni.princeton.edu/Bezos-center/Manuel/neuropixel/manuel'}"
      ]
     },
     "metadata": {},
     "execution_count": 9
    }
   ],
   "metadata": {}
  },
  {
   "cell_type": "markdown",
   "source": [
    "# Save the configuration as a json file"
   ],
   "metadata": {}
  },
  {
   "cell_type": "markdown",
   "source": [
    "With the proper configurations, we could save this as a file, either as a local json file, or a global file."
   ],
   "metadata": {}
  },
  {
   "cell_type": "code",
   "execution_count": 10,
   "source": [
    "dj.config.save_local()"
   ],
   "outputs": [],
   "metadata": {}
  },
  {
   "cell_type": "markdown",
   "source": [
    "Local configuration file is saved as `dj_local_conf.json` in the root directory of this package `U19-pipeline_python`. Next time if you change your directory to `U19-pipeline_python` before importing datajoint and the pipeline packages, the configurations will get properly loaded.\n",
    "\n",
    "If saved globally, there will be a hidden configuration file saved in your root directory. The configuration will be loaded no matter where the directory is."
   ],
   "metadata": {}
  },
  {
   "cell_type": "code",
   "execution_count": null,
   "source": [
    "# dj.config.save_global()"
   ],
   "outputs": [],
   "metadata": {}
  },
  {
   "cell_type": "markdown",
   "source": [
    "# Next Step"
   ],
   "metadata": {}
  },
  {
   "cell_type": "markdown",
   "source": [
    "After the configuration, we will be able to review the ephys related schemas and tables structure with [01-ephys-workflow-structure](01-ephys-workflow-structure.ipynb)."
   ],
   "metadata": {}
  }
 ],
 "metadata": {
  "kernelspec": {
   "name": "python3",
   "display_name": "Python 3.7.10 64-bit ('imaging_elements': conda)"
  },
  "language_info": {
   "codemirror_mode": {
    "name": "ipython",
    "version": 3
   },
   "file_extension": ".py",
   "mimetype": "text/x-python",
   "name": "python",
   "nbconvert_exporter": "python",
   "pygments_lexer": "ipython3",
   "version": "3.7.10"
  },
  "interpreter": {
   "hash": "ad2050938946b9745fdc6507c7561603613194cae6ce583d2036ae212150e70f"
  }
 },
 "nbformat": 4,
 "nbformat_minor": 4
}