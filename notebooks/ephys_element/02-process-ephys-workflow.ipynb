{
 "cells": [
  {
   "cell_type": "markdown",
   "source": [
    "# Run ephys element workflow"
   ],
   "metadata": {}
  },
  {
   "cell_type": "markdown",
   "source": [
    "This notebook walks you through the steps to run the ephys workflow.  \n",
    "The workflow requires neuropixels meta file and kilosort output data.  \n",
    "A typical organization of the files is as follows:  \n",
    "\n",
    "```\n",
    "root_data_dir/\n",
    "└───subject1/\n",
    "│   └───session0/\n",
    "│   │   └───imec0/\n",
    "│   │   │   │   *imec0.ap.meta\n",
    "│   │   │   └───ksdir/\n",
    "│   │   │       │   spike_times.npy\n",
    "│   │   │       │   templates.npy\n",
    "│   │   │       │   ...\n",
    "│   │   └───imec1/\n",
    "│   │       │   *imec1.ap.meta   \n",
    "│   │       └───ksdir/\n",
    "│   │           │   spike_times.npy\n",
    "│   │           │   templates.npy\n",
    "│   │           │   ...\n",
    "│   └───session1/\n",
    "│   │   │   ...\n",
    "└───subject2/\n",
    "│   │   ...\n",
    "```\n",
    "\n",
    "\n",
    "\n",
    "Let's start by importing the relevant modules."
   ],
   "metadata": {}
  },
  {
   "cell_type": "code",
   "execution_count": 1,
   "source": [
    "from scripts.conf_file_finding import try_find_conf_file\r\n",
    "try_find_conf_file()"
   ],
   "outputs": [
    {
     "output_type": "stream",
     "name": "stdout",
     "text": [
      "Local configuration file found !!, no need to run the configuration (unless configuration has changed)\n"
     ]
    }
   ],
   "metadata": {}
  },
  {
   "cell_type": "code",
   "execution_count": 2,
   "source": [
    "import datetime\r\n",
    "import pathlib\r\n",
    "import numpy as np\r\n",
    "import pylab as pl\r\n",
    "from u19_pipeline import acquisition, ephys\r\n",
    "from u19_pipeline.ephys import ephys_element, probe_element, get_session_directory\r\n",
    "import datajoint as dj"
   ],
   "outputs": [
    {
     "output_type": "stream",
     "name": "stdout",
     "text": [
      "Connecting alvaros@datajoint00.pni.princeton.edu:3306\n"
     ]
    }
   ],
   "metadata": {}
  },
  {
   "cell_type": "code",
   "execution_count": 9,
   "source": [
    "dj.conn()"
   ],
   "outputs": [
    {
     "output_type": "execute_result",
     "data": {
      "text/plain": [
       "DataJoint connection (connected) alvaros@datajoint00.pni.princeton.edu:3306"
      ]
     },
     "metadata": {},
     "execution_count": 9
    }
   ],
   "metadata": {}
  },
  {
   "cell_type": "code",
   "execution_count": 3,
   "source": [
    "key = {\r\n",
    "    'subject_fullname': 'ms81_M005',\r\n",
    "    'session_date': datetime.date(2021, 5, 5)}"
   ],
   "outputs": [],
   "metadata": {}
  },
  {
   "cell_type": "markdown",
   "source": [
    "The module ephys_element contains all the tables designed in the DataJoint ephys element, we could draw the diagram to see the schema structures"
   ],
   "metadata": {}
  },
  {
   "cell_type": "code",
   "execution_count": 11,
   "source": [
    "dj.Diagram(acquisition.Session) + ephys.EphysSession + dj.Diagram(ephys_element)"
   ],
   "outputs": [
    {
     "output_type": "execute_result",
     "data": {
      "text/plain": [
       "<datajoint.diagram.Diagram at 0x20cbc6404c8>"
      ],
      "image/svg+xml": "<svg height=\"666pt\" viewBox=\"0.00 0.00 851.50 666.00\" width=\"852pt\" xmlns=\"http://www.w3.org/2000/svg\" xmlns:xlink=\"http://www.w3.org/1999/xlink\">\n<g class=\"graph\" id=\"graph0\" transform=\"scale(1 1) rotate(0) translate(4 662)\">\n<polygon fill=\"white\" points=\"-4,4 -4,-662 847.5,-662 847.5,4 -4,4\" stroke=\"transparent\"/>\n<!-- ephys_element.ClusteringMethod -->\n<g class=\"node\" id=\"node1\">\n<title>ephys_element.ClusteringMethod</title>\n<g id=\"a_node1\"><a xlink:title=\"clustering_method    \r\n------------------------------\r\nclustering_method_desc \r\n\">\n<polygon fill=\"#000000\" fill-opacity=\"0.125490\" points=\"383.5,-516 222.5,-516 222.5,-481 383.5,-481 383.5,-516\" stroke=\"transparent\"/>\n<text font-family=\"arial\" font-size=\"10.00\" text-anchor=\"start\" text-decoration=\"underline\" x=\"230.5\" y=\"-497\">ephys_element.ClusteringMethod</text>\n</a>\n</g>\n</g>\n<!-- ephys_element.ClusteringParamSet -->\n<g class=\"node\" id=\"node6\">\n<title>ephys_element.ClusteringParamSet</title>\n<g id=\"a_node6\"><a xlink:title=\"paramset_idx         \r\n------------------------------\r\n→ ephys_element.ClusteringMethod\r\nparamset_desc        \r\nparam_set_hash       \r\nparams               \r\nUNIQUE INDEX (param_set_hash)\r\n\">\n<polygon fill=\"#000000\" fill-opacity=\"0.125490\" points=\"389.5,-445 216.5,-445 216.5,-410 389.5,-410 389.5,-445\" stroke=\"transparent\"/>\n<text font-family=\"arial\" font-size=\"10.00\" text-anchor=\"start\" text-decoration=\"underline\" x=\"224.5\" y=\"-426\">ephys_element.ClusteringParamSet</text>\n</a>\n</g>\n</g>\n<!-- ephys_element.ClusteringMethod&#45;&gt;ephys_element.ClusteringParamSet -->\n<g class=\"edge\" id=\"edge1\">\n<title>ephys_element.ClusteringMethod-&gt;ephys_element.ClusteringParamSet</title>\n<path d=\"M303,-480.8C303,-469.95 303,-455.87 303,-445.05\" fill=\"none\" stroke=\"#000000\" stroke-dasharray=\"5,2\" stroke-opacity=\"0.250980\" stroke-width=\"0.75\"/>\n</g>\n<!-- ephys_element.LFP -->\n<g class=\"node\" id=\"node2\">\n<title>ephys_element.LFP</title>\n<g id=\"a_node2\"><a xlink:title=\"→ ephys_element.EphysRecording\r\n------------------------------\r\nlfp_sampling_rate    \r\nlfp_time_stamps      \r\nlfp_mean             \r\n\">\n<ellipse cx=\"718\" cy=\"-356.5\" fill=\"#00007f\" fill-opacity=\"0.250980\" rx=\"75.75\" ry=\"17.5\" stroke=\"#00007f\" stroke-opacity=\"0.250980\"/>\n<text fill=\"#00007f\" fill-opacity=\"0.627451\" font-family=\"arial\" font-size=\"12.00\" text-anchor=\"middle\" x=\"718\" y=\"-353.4\">ephys_element.LFP</text>\n</a>\n</g>\n</g>\n<!-- ephys_element.LFP.Electrode -->\n<g class=\"node\" id=\"node3\">\n<title>ephys_element.LFP.Electrode</title>\n<g id=\"a_node3\"><a xlink:title=\"→ ephys_element.LFP\r\n→ probe_element.ElectrodeConfig.Electrode\r\n------------------------------\r\nlfp                  \r\n\">\n<polygon fill=\"transparent\" points=\"792,-295 644,-295 644,-276 792,-276 792,-295\" stroke=\"transparent\"/>\n<text font-family=\"arial\" font-size=\"10.00\" text-anchor=\"middle\" x=\"718\" y=\"-283\">ephys_element.LFP.Electrode</text>\n</a>\n</g>\n</g>\n<!-- ephys_element.LFP&#45;&gt;ephys_element.LFP.Electrode -->\n<g class=\"edge\" id=\"edge2\">\n<title>ephys_element.LFP-&gt;ephys_element.LFP.Electrode</title>\n<path d=\"M718,-338.8C718,-325.08 718,-306.19 718,-295.27\" fill=\"none\" stroke=\"#000000\" stroke-opacity=\"0.250980\" stroke-width=\"0.75\"/>\n</g>\n<!-- ephys_element.ClusterQualityLabel -->\n<g class=\"node\" id=\"node4\">\n<title>ephys_element.ClusterQualityLabel</title>\n<g id=\"a_node4\"><a xlink:title=\"cluster_quality_label \r\n------------------------------\r\ncluster_quality_description \r\n\">\n<polygon fill=\"#000000\" fill-opacity=\"0.125490\" points=\"170,-161 0,-161 0,-126 170,-126 170,-161\" stroke=\"transparent\"/>\n<text font-family=\"arial\" font-size=\"10.00\" text-anchor=\"start\" text-decoration=\"underline\" x=\"8\" y=\"-142\">ephys_element.ClusterQualityLabel</text>\n</a>\n</g>\n</g>\n<!-- ephys_element.CuratedClustering.Unit -->\n<g class=\"node\" id=\"node11\">\n<title>ephys_element.CuratedClustering.Unit</title>\n<g id=\"a_node11\"><a xlink:title=\"→ ephys_element.CuratedClustering\r\nunit                 \r\n------------------------------\r\n→ probe_element.ElectrodeConfig.Electrode\r\n→ ephys_element.ClusterQualityLabel\r\nspike_count          \r\nspike_times          \r\nspike_sites          \r\nspike_depths         \r\n\">\n<polygon fill=\"transparent\" points=\"400.5,-82 217.5,-82 217.5,-63 400.5,-63 400.5,-82\" stroke=\"transparent\"/>\n<text font-family=\"arial\" font-size=\"10.00\" text-anchor=\"start\" text-decoration=\"underline\" x=\"225.5\" y=\"-71\">ephys_element.CuratedClustering.Unit</text>\n</a>\n</g>\n</g>\n<!-- ephys_element.ClusterQualityLabel&#45;&gt;ephys_element.CuratedClustering.Unit -->\n<g class=\"edge\" id=\"edge3\">\n<title>ephys_element.ClusterQualityLabel-&gt;ephys_element.CuratedClustering.Unit</title>\n<path d=\"M138.65,-125.97C183.57,-112.14 245.85,-92.95 281.32,-82.03\" fill=\"none\" stroke=\"#000000\" stroke-dasharray=\"5,2\" stroke-opacity=\"0.250980\" stroke-width=\"0.75\"/>\n</g>\n<!-- ephys_element.InsertionLocation -->\n<g class=\"node\" id=\"node5\">\n<title>ephys_element.InsertionLocation</title>\n<g id=\"a_node5\"><a xlink:title=\"→ ephys_element.ProbeInsertion\r\n------------------------------\r\n→ ephys.SkullReference\r\nap_location          \r\nml_location          \r\ndepth                \r\ntheta=null           \r\nphi=null             \r\nbeta=null            \r\n\">\n<polygon fill=\"#00ff00\" fill-opacity=\"0.188235\" points=\"843.5,-445 656.5,-445 656.5,-410 843.5,-410 843.5,-445\" stroke=\"#00ff00\" stroke-opacity=\"0.188235\"/>\n<text fill=\"darkgreen\" font-family=\"arial\" font-size=\"12.00\" text-anchor=\"middle\" x=\"750\" y=\"-424.4\">ephys_element.InsertionLocation</text>\n</a>\n</g>\n</g>\n<!-- ephys_element.ClusteringTask -->\n<g class=\"node\" id=\"node18\">\n<title>ephys_element.ClusteringTask</title>\n<g id=\"a_node18\"><a xlink:title=\"→ ephys_element.EphysRecording\r\n→ ephys_element.ClusteringParamSet\r\n------------------------------\r\nclustering_output_dir \r\ntask_mode=&quot;load&quot;     \r\n\">\n<polygon fill=\"#00ff00\" fill-opacity=\"0.188235\" points=\"397,-374 221,-374 221,-339 397,-339 397,-374\" stroke=\"#00ff00\" stroke-opacity=\"0.188235\"/>\n<text fill=\"darkgreen\" font-family=\"arial\" font-size=\"12.00\" text-anchor=\"middle\" x=\"309\" y=\"-353.4\">ephys_element.ClusteringTask</text>\n</a>\n</g>\n</g>\n<!-- ephys_element.ClusteringParamSet&#45;&gt;ephys_element.ClusteringTask -->\n<g class=\"edge\" id=\"edge4\">\n<title>ephys_element.ClusteringParamSet-&gt;ephys_element.ClusteringTask</title>\n<path d=\"M304.45,-409.8C305.4,-398.95 306.62,-384.87 307.56,-374.05\" fill=\"none\" stroke=\"#000000\" stroke-opacity=\"0.250980\" stroke-width=\"0.75\"/>\n</g>\n<!-- ephys_element.EphysRecording -->\n<g class=\"node\" id=\"node7\">\n<title>ephys_element.EphysRecording</title>\n<g id=\"a_node7\"><a xlink:title=\"→ ephys_element.ProbeInsertion\r\n------------------------------\r\n→ probe_element.ElectrodeConfig\r\n→ ephys_element.AcquisitionSoftware\r\nsampling_rate        \r\n\">\n<ellipse cx=\"523\" cy=\"-427.5\" fill=\"#00007f\" fill-opacity=\"0.250980\" rx=\"115.75\" ry=\"17.5\" stroke=\"#00007f\" stroke-opacity=\"0.250980\"/>\n<text fill=\"#00007f\" fill-opacity=\"0.627451\" font-family=\"arial\" font-size=\"12.00\" text-anchor=\"middle\" x=\"523\" y=\"-424.4\">ephys_element.EphysRecording</text>\n</a>\n</g>\n</g>\n<!-- ephys_element.EphysRecording&#45;&gt;ephys_element.LFP -->\n<g class=\"edge\" id=\"edge5\">\n<title>ephys_element.EphysRecording-&gt;ephys_element.LFP</title>\n<path d=\"M566.28,-411.19C599.83,-399.32 645.93,-383 678.49,-371.48\" fill=\"none\" stroke=\"#000000\" stroke-opacity=\"0.250980\" stroke-width=\"2\"/>\n</g>\n<!-- ephys_element.EphysRecording.EphysFile -->\n<g class=\"node\" id=\"node9\">\n<title>ephys_element.EphysRecording.EphysFile</title>\n<g id=\"a_node9\"><a xlink:title=\"→ ephys_element.EphysRecording\r\nfile_path            \r\n\">\n<polygon fill=\"transparent\" points=\"624.5,-366 421.5,-366 421.5,-347 624.5,-347 624.5,-366\" stroke=\"transparent\"/>\n<text font-family=\"arial\" font-size=\"10.00\" text-anchor=\"start\" text-decoration=\"underline\" x=\"429.5\" y=\"-355\">ephys_element.EphysRecording.EphysFile</text>\n</a>\n</g>\n</g>\n<!-- ephys_element.EphysRecording&#45;&gt;ephys_element.EphysRecording.EphysFile -->\n<g class=\"edge\" id=\"edge6\">\n<title>ephys_element.EphysRecording-&gt;ephys_element.EphysRecording.EphysFile</title>\n<path d=\"M523,-409.8C523,-396.08 523,-377.19 523,-366.27\" fill=\"none\" stroke=\"#000000\" stroke-opacity=\"0.250980\" stroke-width=\"0.75\"/>\n</g>\n<!-- ephys_element.EphysRecording&#45;&gt;ephys_element.ClusteringTask -->\n<g class=\"edge\" id=\"edge7\">\n<title>ephys_element.EphysRecording-&gt;ephys_element.ClusteringTask</title>\n<path d=\"M476.3,-411.44C442.11,-400.42 395.73,-385.46 360.47,-374.1\" fill=\"none\" stroke=\"#000000\" stroke-opacity=\"0.250980\" stroke-width=\"0.75\"/>\n</g>\n<!-- ephys_element.AcquisitionSoftware -->\n<g class=\"node\" id=\"node8\">\n<title>ephys_element.AcquisitionSoftware</title>\n<g id=\"a_node8\"><a xlink:title=\"acq_software         \r\n\">\n<polygon fill=\"#000000\" fill-opacity=\"0.125490\" points=\"608.5,-516 437.5,-516 437.5,-481 608.5,-481 608.5,-516\" stroke=\"transparent\"/>\n<text font-family=\"arial\" font-size=\"10.00\" text-anchor=\"start\" text-decoration=\"underline\" x=\"445.5\" y=\"-497\">ephys_element.AcquisitionSoftware</text>\n</a>\n</g>\n</g>\n<!-- ephys_element.AcquisitionSoftware&#45;&gt;ephys_element.EphysRecording -->\n<g class=\"edge\" id=\"edge8\">\n<title>ephys_element.AcquisitionSoftware-&gt;ephys_element.EphysRecording</title>\n<path d=\"M523,-480.8C523,-469.95 523,-455.87 523,-445.05\" fill=\"none\" stroke=\"#000000\" stroke-dasharray=\"5,2\" stroke-opacity=\"0.250980\" stroke-width=\"0.75\"/>\n</g>\n<!-- ephys_element.ProbeInsertion -->\n<g class=\"node\" id=\"node10\">\n<title>ephys_element.ProbeInsertion</title>\n<g id=\"a_node10\"><a xlink:title=\"→ ephys.EphysSession\r\ninsertion_number     \r\n------------------------------\r\n→ probe_element.Probe\r\n\">\n<polygon fill=\"#00ff00\" fill-opacity=\"0.188235\" points=\"819,-516 645,-516 645,-481 819,-481 819,-516\" stroke=\"#00ff00\" stroke-opacity=\"0.188235\"/>\n<text fill=\"darkgreen\" font-family=\"arial\" font-size=\"12.00\" text-anchor=\"start\" text-decoration=\"underline\" x=\"653\" y=\"-496.4\">ephys_element.ProbeInsertion</text>\n</a>\n</g>\n</g>\n<!-- ephys_element.ProbeInsertion&#45;&gt;ephys_element.InsertionLocation -->\n<g class=\"edge\" id=\"edge9\">\n<title>ephys_element.ProbeInsertion-&gt;ephys_element.InsertionLocation</title>\n<path d=\"M736.36,-480.8C739.19,-469.95 742.86,-455.87 745.68,-445.05\" fill=\"none\" stroke=\"#000000\" stroke-opacity=\"0.250980\" stroke-width=\"2\"/>\n</g>\n<!-- ephys_element.ProbeInsertion&#45;&gt;ephys_element.EphysRecording -->\n<g class=\"edge\" id=\"edge10\">\n<title>ephys_element.ProbeInsertion-&gt;ephys_element.EphysRecording</title>\n<path d=\"M681.94,-480.97C647.52,-469.61 602.17,-454.64 568.73,-443.6\" fill=\"none\" stroke=\"#000000\" stroke-opacity=\"0.250980\" stroke-width=\"2\"/>\n</g>\n<!-- ephys_element.WaveformSet.Waveform -->\n<g class=\"node\" id=\"node13\">\n<title>ephys_element.WaveformSet.Waveform</title>\n<g id=\"a_node13\"><a xlink:title=\"→ ephys_element.WaveformSet\r\n→ ephys_element.CuratedClustering.Unit\r\n→ probe_element.ElectrodeConfig.Electrode\r\n------------------------------\r\nwaveform_mean        \r\nwaveforms=null       \r\n\">\n<polygon fill=\"transparent\" points=\"402.5,-19 213.5,-19 213.5,0 402.5,0 402.5,-19\" stroke=\"transparent\"/>\n<text font-family=\"arial\" font-size=\"10.00\" text-anchor=\"middle\" x=\"308\" y=\"-7\">ephys_element.WaveformSet.Waveform</text>\n</a>\n</g>\n</g>\n<!-- ephys_element.CuratedClustering.Unit&#45;&gt;ephys_element.WaveformSet.Waveform -->\n<g class=\"edge\" id=\"edge11\">\n<title>ephys_element.CuratedClustering.Unit-&gt;ephys_element.WaveformSet.Waveform</title>\n<path d=\"M308.86,-62.76C308.67,-51.16 308.33,-30.81 308.14,-19.22\" fill=\"none\" stroke=\"#000000\" stroke-opacity=\"0.250980\" stroke-width=\"0.75\"/>\n</g>\n<!-- ephys_element.WaveformSet.PeakWaveform -->\n<g class=\"node\" id=\"node20\">\n<title>ephys_element.WaveformSet.PeakWaveform</title>\n<g id=\"a_node20\"><a xlink:title=\"→ ephys_element.WaveformSet\r\n→ ephys_element.CuratedClustering.Unit\r\n------------------------------\r\npeak_electrode_waveform \r\n\">\n<polygon fill=\"transparent\" points=\"633,-19 421,-19 421,0 633,0 633,-19\" stroke=\"transparent\"/>\n<text font-family=\"arial\" font-size=\"10.00\" text-anchor=\"middle\" x=\"527\" y=\"-7\">ephys_element.WaveformSet.PeakWaveform</text>\n</a>\n</g>\n</g>\n<!-- ephys_element.CuratedClustering.Unit&#45;&gt;ephys_element.WaveformSet.PeakWaveform -->\n<g class=\"edge\" id=\"edge12\">\n<title>ephys_element.CuratedClustering.Unit-&gt;ephys_element.WaveformSet.PeakWaveform</title>\n<path d=\"M339.77,-62.89C381.32,-51.26 454.92,-30.67 496.38,-19.07\" fill=\"none\" stroke=\"#000000\" stroke-opacity=\"0.250980\" stroke-width=\"2\"/>\n</g>\n<!-- ephys_element.Curation -->\n<g class=\"node\" id=\"node12\">\n<title>ephys_element.Curation</title>\n<g id=\"a_node12\"><a xlink:title=\"→ ephys_element.Clustering\r\ncuration_id          \r\n------------------------------\r\ncuration_time        \r\ncuration_output_dir  \r\nquality_control      \r\nmanual_curation      \r\ncuration_note=&quot;&quot;     \r\n\">\n<polygon fill=\"#00ff00\" fill-opacity=\"0.188235\" points=\"380.5,-232 237.5,-232 237.5,-197 380.5,-197 380.5,-232\" stroke=\"#00ff00\" stroke-opacity=\"0.188235\"/>\n<text fill=\"darkgreen\" font-family=\"arial\" font-size=\"12.00\" text-anchor=\"start\" text-decoration=\"underline\" x=\"245.5\" y=\"-212.4\">ephys_element.Curation</text>\n</a>\n</g>\n</g>\n<!-- ephys_element.CuratedClustering -->\n<g class=\"node\" id=\"node16\">\n<title>ephys_element.CuratedClustering</title>\n<g id=\"a_node16\"><a xlink:title=\"→ ephys_element.Curation\r\n\">\n<ellipse cx=\"309\" cy=\"-143.5\" fill=\"#00007f\" fill-opacity=\"0.250980\" rx=\"120.75\" ry=\"17.5\" stroke=\"#00007f\" stroke-opacity=\"0.250980\"/>\n<text fill=\"#00007f\" fill-opacity=\"0.627451\" font-family=\"arial\" font-size=\"12.00\" text-anchor=\"middle\" x=\"309\" y=\"-140.4\">ephys_element.CuratedClustering</text>\n</a>\n</g>\n</g>\n<!-- ephys_element.Curation&#45;&gt;ephys_element.CuratedClustering -->\n<g class=\"edge\" id=\"edge13\">\n<title>ephys_element.Curation-&gt;ephys_element.CuratedClustering</title>\n<path d=\"M309,-196.8C309,-185.95 309,-171.87 309,-161.05\" fill=\"none\" stroke=\"#000000\" stroke-opacity=\"0.250980\" stroke-width=\"2\"/>\n</g>\n<!-- ephys_element.WaveformSet -->\n<g class=\"node\" id=\"node14\">\n<title>ephys_element.WaveformSet</title>\n<g id=\"a_node14\"><a xlink:title=\"→ ephys_element.CuratedClustering\r\n\">\n<ellipse cx=\"525\" cy=\"-72.5\" fill=\"#00007f\" fill-opacity=\"0.250980\" rx=\"106\" ry=\"17.5\" stroke=\"#00007f\" stroke-opacity=\"0.250980\"/>\n<text fill=\"#00007f\" fill-opacity=\"0.627451\" font-family=\"arial\" font-size=\"12.00\" text-anchor=\"middle\" x=\"525\" y=\"-69.4\">ephys_element.WaveformSet</text>\n</a>\n</g>\n</g>\n<!-- ephys_element.WaveformSet&#45;&gt;ephys_element.WaveformSet.Waveform -->\n<g class=\"edge\" id=\"edge14\">\n<title>ephys_element.WaveformSet-&gt;ephys_element.WaveformSet.Waveform</title>\n<path d=\"M473.85,-57.12C431.75,-45.29 373.48,-28.91 338.39,-19.04\" fill=\"none\" stroke=\"#000000\" stroke-opacity=\"0.250980\" stroke-width=\"0.75\"/>\n</g>\n<!-- ephys_element.WaveformSet&#45;&gt;ephys_element.WaveformSet.PeakWaveform -->\n<g class=\"edge\" id=\"edge15\">\n<title>ephys_element.WaveformSet-&gt;ephys_element.WaveformSet.PeakWaveform</title>\n<path d=\"M525.55,-54.83C525.93,-43.26 526.42,-28.32 526.72,-19.08\" fill=\"none\" stroke=\"#000000\" stroke-opacity=\"0.250980\" stroke-width=\"0.75\"/>\n</g>\n<!-- acquisition.Session -->\n<g class=\"node\" id=\"node15\">\n<title>acquisition.Session</title>\n<g id=\"a_node15\"><a xlink:title=\"→ acquisition.SessionStarted\r\n------------------------------\r\nsession_start_time   \r\nsession_end_time=null \r\n→ acquisition.lab.Location.proj(session_location=&quot;location&quot;)\r\n→ acquisition.task.TaskLevelParameterSet\r\nstimulus_bank=&quot;&quot;     \r\nstimulus_commit=&quot;&quot;   \r\nsession_performance  \r\nnum_trials=null      \r\nnum_trials_try=null  \r\nsession_narrative=&quot;&quot; \r\nsession_protocol=null \r\nsession_code_version=null \r\nis_bad_session=null  \r\nsession_comments=null \r\n\">\n<polygon fill=\"#00ff00\" fill-opacity=\"0.188235\" points=\"791.5,-658 672.5,-658 672.5,-623 791.5,-623 791.5,-658\" stroke=\"#00ff00\" stroke-opacity=\"0.188235\"/>\n<text fill=\"darkgreen\" font-family=\"arial\" font-size=\"12.00\" text-anchor=\"middle\" x=\"732\" y=\"-637.4\">acquisition.Session</text>\n</a>\n</g>\n</g>\n<!-- ephys.EphysSession -->\n<g class=\"node\" id=\"node19\">\n<title>ephys.EphysSession</title>\n<g id=\"a_node19\"><a xlink:title=\"→ acquisition.Session\r\n------------------------------\r\nephys_directory=&quot;&quot;   \r\n\">\n<polygon fill=\"#00ff00\" fill-opacity=\"0.188235\" points=\"794.5,-587 669.5,-587 669.5,-552 794.5,-552 794.5,-587\" stroke=\"#00ff00\" stroke-opacity=\"0.188235\"/>\n<text fill=\"darkgreen\" font-family=\"arial\" font-size=\"12.00\" text-anchor=\"middle\" x=\"732\" y=\"-566.4\">ephys.EphysSession</text>\n</a>\n</g>\n</g>\n<!-- acquisition.Session&#45;&gt;ephys.EphysSession -->\n<g class=\"edge\" id=\"edge16\">\n<title>acquisition.Session-&gt;ephys.EphysSession</title>\n<path d=\"M732,-622.8C732,-611.95 732,-597.87 732,-587.05\" fill=\"none\" stroke=\"#000000\" stroke-opacity=\"0.250980\" stroke-width=\"2\"/>\n</g>\n<!-- ephys_element.CuratedClustering&#45;&gt;ephys_element.CuratedClustering.Unit -->\n<g class=\"edge\" id=\"edge17\">\n<title>ephys_element.CuratedClustering-&gt;ephys_element.CuratedClustering.Unit</title>\n<path d=\"M309,-125.8C309,-112.08 309,-93.19 309,-82.27\" fill=\"none\" stroke=\"#000000\" stroke-opacity=\"0.250980\" stroke-width=\"0.75\"/>\n</g>\n<!-- ephys_element.CuratedClustering&#45;&gt;ephys_element.WaveformSet -->\n<g class=\"edge\" id=\"edge18\">\n<title>ephys_element.CuratedClustering-&gt;ephys_element.WaveformSet</title>\n<path d=\"M356.4,-127.36C392.66,-115.77 442.4,-99.89 478.45,-88.37\" fill=\"none\" stroke=\"#000000\" stroke-opacity=\"0.250980\" stroke-width=\"2\"/>\n</g>\n<!-- ephys_element.Clustering -->\n<g class=\"node\" id=\"node17\">\n<title>ephys_element.Clustering</title>\n<g id=\"a_node17\"><a xlink:title=\"→ ephys_element.ClusteringTask\r\n------------------------------\r\nclustering_time      \r\npackage_version=&quot;&quot;   \r\n\">\n<ellipse cx=\"309\" cy=\"-285.5\" fill=\"#00007f\" fill-opacity=\"0.250980\" rx=\"94.25\" ry=\"17.5\" stroke=\"#00007f\" stroke-opacity=\"0.250980\"/>\n<text fill=\"#00007f\" fill-opacity=\"0.627451\" font-family=\"arial\" font-size=\"12.00\" text-anchor=\"middle\" x=\"309\" y=\"-282.4\">ephys_element.Clustering</text>\n</a>\n</g>\n</g>\n<!-- ephys_element.Clustering&#45;&gt;ephys_element.Curation -->\n<g class=\"edge\" id=\"edge19\">\n<title>ephys_element.Clustering-&gt;ephys_element.Curation</title>\n<path d=\"M309,-267.8C309,-256.95 309,-242.87 309,-232.05\" fill=\"none\" stroke=\"#000000\" stroke-opacity=\"0.250980\" stroke-width=\"0.75\"/>\n</g>\n<!-- ephys_element.ClusteringTask&#45;&gt;ephys_element.Clustering -->\n<g class=\"edge\" id=\"edge20\">\n<title>ephys_element.ClusteringTask-&gt;ephys_element.Clustering</title>\n<path d=\"M309,-338.8C309,-327.95 309,-313.87 309,-303.05\" fill=\"none\" stroke=\"#000000\" stroke-opacity=\"0.250980\" stroke-width=\"2\"/>\n</g>\n<!-- ephys.EphysSession&#45;&gt;ephys_element.ProbeInsertion -->\n<g class=\"edge\" id=\"edge21\">\n<title>ephys.EphysSession-&gt;ephys_element.ProbeInsertion</title>\n<path d=\"M732,-551.8C732,-540.95 732,-526.87 732,-516.05\" fill=\"none\" stroke=\"#000000\" stroke-opacity=\"0.250980\" stroke-width=\"0.75\"/>\n</g>\n</g>\n</svg>"
     },
     "metadata": {},
     "execution_count": 11
    }
   ],
   "metadata": {}
  },
  {
   "cell_type": "markdown",
   "source": [
    "## Ingest Probe and ProbeInsertion by ephys_element_ingest"
   ],
   "metadata": {}
  },
  {
   "cell_type": "markdown",
   "source": [
    "The original U19 pipeline contains a table `ephys.EphysSession` where datapath to the neuropixel meta file and the kilosort output folder were stored."
   ],
   "metadata": {}
  },
  {
   "cell_type": "code",
   "execution_count": 4,
   "source": [
    "ephys.EphysSession() # Current sessions"
   ],
   "outputs": [
    {
     "output_type": "execute_result",
     "data": {
      "text/plain": [
       "*subject_fulln *session_date  *session_numbe ephys_director\n",
       "+------------+ +------------+ +------------+ +------------+\n",
       "hnieh_E105     2021-01-15     0              /Volumes/Tank/\n",
       "ms81_M004      2021-05-07     0              /Users/ms81/pr\n",
       "ms81_M005      2021-05-05     0              /M005/20210505\n",
       "ms81_M005      2021-05-06     0              /M005/20210506\n",
       " (Total: 4)"
      ],
      "text/html": [
       "\n",
       "    \n",
       "    <style type=\"text/css\">\n",
       "        .Relation{\n",
       "            border-collapse:collapse;\n",
       "        }\n",
       "        .Relation th{\n",
       "            background: #A0A0A0; color: #ffffff; padding:4px; border:#f0e0e0 1px solid;\n",
       "            font-weight: normal; font-family: monospace; font-size: 100%;\n",
       "        }\n",
       "        .Relation td{\n",
       "            padding:4px; border:#f0e0e0 1px solid; font-size:100%;\n",
       "        }\n",
       "        .Relation tr:nth-child(odd){\n",
       "            background: #ffffff;\n",
       "        }\n",
       "        .Relation tr:nth-child(even){\n",
       "            background: #f3f1ff;\n",
       "        }\n",
       "        /* Tooltip container */\n",
       "        .djtooltip {\n",
       "        }\n",
       "        /* Tooltip text */\n",
       "        .djtooltip .djtooltiptext {\n",
       "            visibility: hidden;\n",
       "            width: 120px;\n",
       "            background-color: black;\n",
       "            color: #fff;\n",
       "            text-align: center;\n",
       "            padding: 5px 0;\n",
       "            border-radius: 6px;\n",
       "            /* Position the tooltip text - see examples below! */\n",
       "            position: absolute;\n",
       "            z-index: 1;\n",
       "        }\n",
       "        #primary {\n",
       "            font-weight: bold;\n",
       "            color: black;\n",
       "        }\n",
       "        #nonprimary {\n",
       "            font-weight: normal;\n",
       "            color: white;\n",
       "        }\n",
       "\n",
       "        /* Show the tooltip text when you mouse over the tooltip container */\n",
       "        .djtooltip:hover .djtooltiptext {\n",
       "            visibility: visible;\n",
       "        }\n",
       "    </style>\n",
       "    \n",
       "    <b>General information of an ephys session</b>\n",
       "        <div style=\"max-height:1000px;max-width:1500px;overflow:auto;\">\n",
       "        <table border=\"1\" class=\"Relation\">\n",
       "            <thead> <tr style=\"text-align: right;\"> <th> <div class=\"djtooltip\">\n",
       "                            <p id=\"primary\">subject_fullname</p>\n",
       "                            <span class=\"djtooltiptext\">username_mouse_nickname</span>\n",
       "                        </div></th><th><div class=\"djtooltip\">\n",
       "                            <p id=\"primary\">session_date</p>\n",
       "                            <span class=\"djtooltiptext\">date of experiment</span>\n",
       "                        </div></th><th><div class=\"djtooltip\">\n",
       "                            <p id=\"primary\">session_number</p>\n",
       "                            <span class=\"djtooltiptext\">number</span>\n",
       "                        </div></th><th><div class=\"djtooltip\">\n",
       "                            <p id=\"nonprimary\">ephys_directory</p>\n",
       "                            <span class=\"djtooltiptext\">Path were session file will be stored in bucket</span>\n",
       "                        </div> </th> </tr> </thead>\n",
       "            <tbody> <tr> <td>hnieh_E105</td>\n",
       "<td>2021-01-15</td>\n",
       "<td>0</td>\n",
       "<td>/Volumes/Tank/schottdorf/NPX/2021_01_15_E105/towersTask_g0</td></tr><tr><td>ms81_M004</td>\n",
       "<td>2021-05-07</td>\n",
       "<td>0</td>\n",
       "<td>/Users/ms81/project_Neuropixel/analyses/data/210507_M004/</td></tr><tr><td>ms81_M005</td>\n",
       "<td>2021-05-05</td>\n",
       "<td>0</td>\n",
       "<td>/M005/20210505</td></tr><tr><td>ms81_M005</td>\n",
       "<td>2021-05-06</td>\n",
       "<td>0</td>\n",
       "<td>/M005/20210506</td> </tr> </tbody>\n",
       "        </table>\n",
       "        \n",
       "        <p>Total: 4</p></div>\n",
       "        "
      ]
     },
     "metadata": {},
     "execution_count": 4
    }
   ],
   "metadata": {}
  },
  {
   "cell_type": "code",
   "execution_count": null,
   "source": [
    "# Do you have a new one to insert? This is how it is done:\r\n",
    "\r\n",
    "key = {\r\n",
    "    'subject_fullname': 'ms81_M005',\r\n",
    "    'session_date': datetime.date(2021, 5, 5),\r\n",
    "    'session_number': 0,\r\n",
    "    'ephys_directory': '/Users/ms81/project_Neuropixel/analyses/data/210507_M004/'\r\n",
    "}\r\n",
    "\r\n",
    "ephys.EphysSession.insert1(key, skip_duplicates=True) # insert1 only works for one entry\r\n",
    "ephys.EphysSession()"
   ],
   "outputs": [],
   "metadata": {}
  },
  {
   "cell_type": "code",
   "execution_count": null,
   "source": [
    "dj.Diagram(ephys.EphysSession) + dj.Diagram(probe_element.Probe) + dj.Diagram(ephys_element.ProbeInsertion)"
   ],
   "outputs": [],
   "metadata": {}
  },
  {
   "cell_type": "markdown",
   "source": [
    "A module `ephys_element_ingest` was provided to process a ephys session based on the neuropixel meta file: ingest entries into tables `Probe` and `ProbeInsertion`"
   ],
   "metadata": {}
  },
  {
   "cell_type": "code",
   "execution_count": null,
   "source": [
    "from u19_pipeline.ingest import ephys_element_ingest"
   ],
   "outputs": [],
   "metadata": {}
  },
  {
   "cell_type": "code",
   "execution_count": null,
   "source": [
    "for sess_key in ephys.EphysSession.fetch('KEY'):\r\n",
    "    ephys_element_ingest.process_session(sess_key)"
   ],
   "outputs": [],
   "metadata": {}
  },
  {
   "cell_type": "code",
   "execution_count": null,
   "source": [
    "probe_element.Probe()"
   ],
   "outputs": [],
   "metadata": {}
  },
  {
   "cell_type": "code",
   "execution_count": null,
   "source": [
    "ephys_element.ProbeInsertion()"
   ],
   "outputs": [],
   "metadata": {}
  },
  {
   "cell_type": "markdown",
   "source": [
    "## Populate EphysRecording"
   ],
   "metadata": {}
  },
  {
   "cell_type": "markdown",
   "source": [
    "By populating `ephys_element.EphysRecording`, three tables will be ingested:\n",
    "+ `probe_element.EelectrodeConfig` table contains the configuration information of the electrodes used, i.e. which 384 electrodes out of the total 960 on the probe were used in this ephys session\n",
    "+ `ephys_element.EphysRecording` table specifies which ElectrodeConfig is used in a particular ephys session\n",
    "+ `ephys_element.EphysRecording.EphysFile` table saves the file path of SpikeGLX meta file."
   ],
   "metadata": {}
  },
  {
   "cell_type": "code",
   "execution_count": null,
   "source": [
    "dj.Diagram(ephys_element.ProbeInsertion) + probe_element.ElectrodeConfig\\\r\n",
    "+ ephys_element.EphysRecording + ephys_element.EphysRecording.EphysFile"
   ],
   "outputs": [],
   "metadata": {}
  },
  {
   "cell_type": "code",
   "execution_count": null,
   "source": [
    "ephys_element.EphysRecording()"
   ],
   "outputs": [],
   "metadata": {}
  },
  {
   "cell_type": "code",
   "execution_count": null,
   "source": [
    "ephys_element.EphysRecording.populate(display_progress=True)"
   ],
   "outputs": [],
   "metadata": {}
  },
  {
   "cell_type": "markdown",
   "source": [
    "Here is an overview of the Electrode used in a EphysRecording for a particular probe insertion"
   ],
   "metadata": {}
  },
  {
   "cell_type": "code",
   "execution_count": null,
   "source": [
    "probe_insertion_key = ephys_element.ProbeInsertion.fetch('KEY', limit=1)[0]\r\n",
    "ephys_element.EphysRecording * probe_element.ElectrodeConfig.Electrode & probe_insertion_key"
   ],
   "outputs": [],
   "metadata": {}
  },
  {
   "cell_type": "code",
   "execution_count": null,
   "source": [
    "ephys_element.EphysRecording.EphysFile()"
   ],
   "outputs": [],
   "metadata": {}
  },
  {
   "cell_type": "markdown",
   "source": [
    "Note that the filepath is a relative path to the `ephys_root_data_dir` in `dj.config['custom']`"
   ],
   "metadata": {}
  },
  {
   "cell_type": "markdown",
   "source": [
    "## Populate clustering results"
   ],
   "metadata": {}
  },
  {
   "cell_type": "markdown",
   "source": [
    "The next major table in the ephys pipeline is the `ClusteringTask`, which is a manual table that is inserted when a Kilosort2 clustering task is finished and the clustering results are ready for processing. The `ClusteringTask` table depends on the table `ClusteringParamSet`, which are the parameters of the clustering task and needed to be inserted first. A method of the class `ClusteringParamSet` called `insert_new_params` helps on the insertion of params_set"
   ],
   "metadata": {}
  },
  {
   "cell_type": "code",
   "execution_count": null,
   "source": [
    "dj.Diagram(ephys_element.EphysRecording) + ephys_element.ClusteringParamSet + ephys_element.ClusteringTask"
   ],
   "outputs": [],
   "metadata": {}
  },
  {
   "cell_type": "code",
   "execution_count": null,
   "source": [
    "# insert clustering task manually\r\n",
    "params_ks = {\r\n",
    "    \"fs\": 30000,\r\n",
    "    \"fshigh\": 150,\r\n",
    "    \"minfr_goodchannels\": 0.1,\r\n",
    "    \"Th\": [10, 4],\r\n",
    "    \"lam\": 10,\r\n",
    "    \"AUCsplit\": 0.9,\r\n",
    "    \"minFR\": 0.02,\r\n",
    "    \"momentum\": [20, 400],\r\n",
    "    \"sigmaMask\": 30,\r\n",
    "    \"ThPr\": 8,\r\n",
    "    \"spkTh\": -6,\r\n",
    "    \"reorder\": 1,\r\n",
    "    \"nskip\": 25,\r\n",
    "    \"GPU\": 1,\r\n",
    "    \"Nfilt\": 1024,\r\n",
    "    \"nfilt_factor\": 4,\r\n",
    "    \"ntbuff\": 64,\r\n",
    "    \"whiteningRange\": 32,\r\n",
    "    \"nSkipCov\": 25,\r\n",
    "    \"scaleproc\": 200,\r\n",
    "    \"nPCs\": 3,\r\n",
    "    \"useRAM\": 0\r\n",
    "}\r\n",
    "ephys_element.ClusteringParamSet.insert_new_params(\r\n",
    "    'kilosort2', 0, 'Spike sorting using Kilosort2', params_ks)\r\n",
    "ephys_element.ClusteringParamSet()"
   ],
   "outputs": [],
   "metadata": {}
  },
  {
   "cell_type": "markdown",
   "source": [
    "We are then able to insert an entry into the `ClusteringTask` table. One important field of the table is `clustering_output_dir`, which specifies the Kilosort2 output directory for the later processing. For the current pipeline, the directory could be reconstructed from directories stored in existing tables"
   ],
   "metadata": {}
  },
  {
   "cell_type": "code",
   "execution_count": null,
   "source": [
    "dj.Diagram(ephys_element.EphysRecording) + ephys_element.ClusteringTask + ephys_element.Clustering"
   ],
   "outputs": [],
   "metadata": {}
  },
  {
   "cell_type": "code",
   "execution_count": null,
   "source": [
    "ephys_element.ClusteringTask.describe();"
   ],
   "outputs": [],
   "metadata": {}
  },
  {
   "cell_type": "code",
   "execution_count": null,
   "source": [
    "# Specify path and animal information\r\n",
    "\r\n",
    "ephys_key = dict(\r\n",
    "    subject_fullname='ms81_M004', session_date='2021-05-07', session_number=0, insertion_number=0)\r\n",
    "ephys_dir = '210507_M004/towersTask_g0_imec0/'"
   ],
   "outputs": [],
   "metadata": {}
  },
  {
   "cell_type": "code",
   "execution_count": null,
   "source": [
    "ephys_element.ClusteringTask.insert1(\r\n",
    "    dict(**ephys_key, paramset_idx=0, clustering_output_dir=ephys_dir), skip_duplicates=True)\r\n",
    "ephys_element.ClusteringTask()"
   ],
   "outputs": [],
   "metadata": {}
  },
  {
   "cell_type": "markdown",
   "source": [
    "We are then able to populate the clustering results. The `Clustering` table now validates the Kilosort2 outcomes. In the future release of elements-ephys, this table will be used to trigger Kilosort2."
   ],
   "metadata": {}
  },
  {
   "cell_type": "code",
   "execution_count": null,
   "source": [
    "ephys_element.Clustering.populate(display_progress=True)"
   ],
   "outputs": [],
   "metadata": {}
  },
  {
   "cell_type": "markdown",
   "source": [
    "# Curation and CuratedClustering"
   ],
   "metadata": {}
  },
  {
   "cell_type": "markdown",
   "source": [
    "The next step in the pipeline is the curation of spike sorting results. If a manual curation was implemented, an entry needs to be manually inserted into the table `Curation`, which specifies the directory to the curated results in `curation_output_dir`. If we would like to process the Kilosort2 outcome directly, an entry is also needed in `Curation`. A method `create1_from_clustering_task` was provided to help this insertion. It copies the `clustering_output_dir` in `ClusteringTask` to the field `curation_output_dir` in the table `Curation` with a new `curation_id`."
   ],
   "metadata": {}
  },
  {
   "cell_type": "code",
   "execution_count": null,
   "source": [
    "dj.Diagram(ephys_element.Clustering) + ephys_element.Curation + ephys_element.CuratedClustering \\\r\n",
    "+ ephys_element.CuratedClustering.Unit"
   ],
   "outputs": [],
   "metadata": {}
  },
  {
   "cell_type": "code",
   "execution_count": null,
   "source": [
    "key = (ephys_element.ClusteringTask & ephys_key).fetch1('KEY')\r\n",
    "ephys_element.Curation().create1_from_clustering_task(key)"
   ],
   "outputs": [],
   "metadata": {}
  },
  {
   "cell_type": "code",
   "execution_count": null,
   "source": [
    "ephys_element.Curation()"
   ],
   "outputs": [],
   "metadata": {}
  },
  {
   "cell_type": "markdown",
   "source": [
    "Then we could populate table `CuratedClustering`, ingesting either the output of Kilosort2 or the curated results."
   ],
   "metadata": {}
  },
  {
   "cell_type": "code",
   "execution_count": null,
   "source": [
    "ephys_element.CuratedClustering.populate(display_progress=True)"
   ],
   "outputs": [],
   "metadata": {}
  },
  {
   "cell_type": "markdown",
   "source": [
    "The part table `CuratedClustering.Unit` contains the spike sorted units"
   ],
   "metadata": {}
  },
  {
   "cell_type": "code",
   "execution_count": null,
   "source": [
    "ephys_element.CuratedClustering.Unit()"
   ],
   "outputs": [],
   "metadata": {}
  },
  {
   "cell_type": "markdown",
   "source": [
    "## Populate LFP and waveform"
   ],
   "metadata": {}
  },
  {
   "cell_type": "code",
   "execution_count": null,
   "source": [
    "ephys_element.LFP.populate(display_progress=True)"
   ],
   "outputs": [],
   "metadata": {}
  },
  {
   "cell_type": "code",
   "execution_count": null,
   "source": [
    "ephys_element.LFP()"
   ],
   "outputs": [],
   "metadata": {}
  },
  {
   "cell_type": "markdown",
   "source": [
    "The current workflow also contain tables to save spike waveforms:\n",
    "\n",
    "`WaveformSet`: a table to drive the processing of all spikes waveforms resulting from a CuratedClustering.  \n",
    "`WaveformSet.Waveform`: mean waveform across spikes for a given unit and electrode.  \n",
    "`WaveformSet.PeakWaveform`: mean waveform across spikes for a given unit at the electrode with peak spike amplitude."
   ],
   "metadata": {}
  },
  {
   "cell_type": "code",
   "execution_count": null,
   "source": [
    "# May take a while to populate depending on data size.\r\n",
    "ephys_element.WaveformSet.populate(display_progress=True)"
   ],
   "outputs": [],
   "metadata": {}
  },
  {
   "cell_type": "markdown",
   "source": [
    "# Synchronize ePhys and Behavior"
   ],
   "metadata": {}
  },
  {
   "cell_type": "markdown",
   "source": [
    "Populate the tables, using the nidaq file produced by spikeGLX. This is done automatically and produces a record of VR iteration numbers measured in the time of the ePhys setup."
   ],
   "metadata": {}
  },
  {
   "cell_type": "code",
   "execution_count": null,
   "source": [
    "ephys.BehaviorSync()"
   ],
   "outputs": [],
   "metadata": {}
  },
  {
   "cell_type": "code",
   "execution_count": null,
   "source": [
    "dj.config"
   ],
   "outputs": [],
   "metadata": {}
  },
  {
   "cell_type": "code",
   "execution_count": null,
   "source": [
    "get_session_directory(key)"
   ],
   "outputs": [],
   "metadata": {}
  },
  {
   "cell_type": "code",
   "execution_count": null,
   "source": [
    "ephys.BehaviorSync.populate(key)"
   ],
   "outputs": [],
   "metadata": {}
  },
  {
   "cell_type": "code",
   "execution_count": null,
   "source": [
    "ephys.BehaviorSync()"
   ],
   "outputs": [],
   "metadata": {}
  },
  {
   "cell_type": "markdown",
   "source": [
    "Once the synchronization files have been produces, the all Clusters/spikes can be binned into iterations."
   ],
   "metadata": {}
  },
  {
   "cell_type": "code",
   "execution_count": 7,
   "source": [
    "ephys.CuratedClustersIteration.populate(key)"
   ],
   "outputs": [
    {
     "output_type": "stream",
     "name": "stdout",
     "text": [
      "\\\\bucket.pni.princeton.edu\\Bezos-center\\Manuel\\neuropixel\\manuel\n",
      "<class 'str'>\n",
      "/M005/20210505\n",
      "<class 'str'>\n",
      "\\\\bucket.pni.princeton.edu\\Bezos-center\\Manuel\\neuropixel\\manuel/M005/20210505\n",
      "<class 'str'>\n",
      "\\\\bucket.pni.princeton.edu\\Bezos-center\\Manuel\\neuropixel\\manuel\\M005\\20210505\\towers_task_g0\n",
      "\\\\bucket.pni.princeton.edu\\Bezos-center\\Manuel\\neuropixel\\manuel\n",
      "<class 'str'>\n",
      "/M005/20210505\n",
      "<class 'str'>\n",
      "\\\\bucket.pni.princeton.edu\\Bezos-center\\Manuel\\neuropixel\\manuel/M005/20210505\n",
      "<class 'str'>\n",
      "\\\\bucket.pni.princeton.edu\\Bezos-center\\Manuel\\neuropixel\\manuel\\M005\\20210505\\towers_task_g0\n"
     ]
    }
   ],
   "metadata": {}
  },
  {
   "cell_type": "markdown",
   "source": [
    "This allows to plot neuronal responses responses. Here is an example"
   ],
   "metadata": {}
  },
  {
   "cell_type": "code",
   "execution_count": 10,
   "source": [
    "ephys.CuratedClustersIteration.Unit & key & 'unit = 7'"
   ],
   "outputs": [
    {
     "output_type": "execute_result",
     "data": {
      "text/plain": [
       "*subject_fulln *session_date  *session_numbe *insertion_num *paramset_idx  *curation_id   *unit    spike_coun firing_rate_be firing_rate_af\n",
       "+------------+ +------------+ +------------+ +------------+ +------------+ +------------+ +------+ +--------+ +------------+ +------------+\n",
       "ms81_M005      2021-05-05     0              0              0              1              7        =BLOB=     0.321505       3.72292       \n",
       "ms81_M005      2021-05-05     0              1              0              1              7        =BLOB=     6.21089        2.39695       \n",
       " (Total: 2)"
      ],
      "text/html": [
       "\n",
       "    \n",
       "    <style type=\"text/css\">\n",
       "        .Relation{\n",
       "            border-collapse:collapse;\n",
       "        }\n",
       "        .Relation th{\n",
       "            background: #A0A0A0; color: #ffffff; padding:4px; border:#f0e0e0 1px solid;\n",
       "            font-weight: normal; font-family: monospace; font-size: 100%;\n",
       "        }\n",
       "        .Relation td{\n",
       "            padding:4px; border:#f0e0e0 1px solid; font-size:100%;\n",
       "        }\n",
       "        .Relation tr:nth-child(odd){\n",
       "            background: #ffffff;\n",
       "        }\n",
       "        .Relation tr:nth-child(even){\n",
       "            background: #f3f1ff;\n",
       "        }\n",
       "        /* Tooltip container */\n",
       "        .djtooltip {\n",
       "        }\n",
       "        /* Tooltip text */\n",
       "        .djtooltip .djtooltiptext {\n",
       "            visibility: hidden;\n",
       "            width: 120px;\n",
       "            background-color: black;\n",
       "            color: #fff;\n",
       "            text-align: center;\n",
       "            padding: 5px 0;\n",
       "            border-radius: 6px;\n",
       "            /* Position the tooltip text - see examples below! */\n",
       "            position: absolute;\n",
       "            z-index: 1;\n",
       "        }\n",
       "        #primary {\n",
       "            font-weight: bold;\n",
       "            color: black;\n",
       "        }\n",
       "        #nonprimary {\n",
       "            font-weight: normal;\n",
       "            color: white;\n",
       "        }\n",
       "\n",
       "        /* Show the tooltip text when you mouse over the tooltip container */\n",
       "        .djtooltip:hover .djtooltiptext {\n",
       "            visibility: visible;\n",
       "        }\n",
       "    </style>\n",
       "    \n",
       "    <b></b>\n",
       "        <div style=\"max-height:1000px;max-width:1500px;overflow:auto;\">\n",
       "        <table border=\"1\" class=\"Relation\">\n",
       "            <thead> <tr style=\"text-align: right;\"> <th> <div class=\"djtooltip\">\n",
       "                            <p id=\"primary\">subject_fullname</p>\n",
       "                            <span class=\"djtooltiptext\">username_mouse_nickname</span>\n",
       "                        </div></th><th><div class=\"djtooltip\">\n",
       "                            <p id=\"primary\">session_date</p>\n",
       "                            <span class=\"djtooltiptext\">date of experiment</span>\n",
       "                        </div></th><th><div class=\"djtooltip\">\n",
       "                            <p id=\"primary\">session_number</p>\n",
       "                            <span class=\"djtooltiptext\">number</span>\n",
       "                        </div></th><th><div class=\"djtooltip\">\n",
       "                            <p id=\"primary\">insertion_number</p>\n",
       "                            <span class=\"djtooltiptext\"></span>\n",
       "                        </div></th><th><div class=\"djtooltip\">\n",
       "                            <p id=\"primary\">paramset_idx</p>\n",
       "                            <span class=\"djtooltiptext\"></span>\n",
       "                        </div></th><th><div class=\"djtooltip\">\n",
       "                            <p id=\"primary\">curation_id</p>\n",
       "                            <span class=\"djtooltiptext\"></span>\n",
       "                        </div></th><th><div class=\"djtooltip\">\n",
       "                            <p id=\"primary\">unit</p>\n",
       "                            <span class=\"djtooltiptext\"></span>\n",
       "                        </div></th><th><div class=\"djtooltip\">\n",
       "                            <p id=\"nonprimary\">spike_counts_iteration</p>\n",
       "                            <span class=\"djtooltiptext\">number of spikes during each iteration. have length as the number of iterations - 1</span>\n",
       "                        </div></th><th><div class=\"djtooltip\">\n",
       "                            <p id=\"nonprimary\">firing_rate_before_first_iteration</p>\n",
       "                            <span class=\"djtooltiptext\"></span>\n",
       "                        </div></th><th><div class=\"djtooltip\">\n",
       "                            <p id=\"nonprimary\">firing_rate_after_last_iteration</p>\n",
       "                            <span class=\"djtooltiptext\"></span>\n",
       "                        </div> </th> </tr> </thead>\n",
       "            <tbody> <tr> <td>ms81_M005</td>\n",
       "<td>2021-05-05</td>\n",
       "<td>0</td>\n",
       "<td>0</td>\n",
       "<td>0</td>\n",
       "<td>1</td>\n",
       "<td>7</td>\n",
       "<td>=BLOB=</td>\n",
       "<td>0.321505</td>\n",
       "<td>3.72292</td></tr><tr><td>ms81_M005</td>\n",
       "<td>2021-05-05</td>\n",
       "<td>0</td>\n",
       "<td>1</td>\n",
       "<td>0</td>\n",
       "<td>1</td>\n",
       "<td>7</td>\n",
       "<td>=BLOB=</td>\n",
       "<td>6.21089</td>\n",
       "<td>2.39695</td> </tr> </tbody>\n",
       "        </table>\n",
       "        \n",
       "        <p>Total: 2</p></div>\n",
       "        "
      ]
     },
     "metadata": {},
     "execution_count": 10
    }
   ],
   "metadata": {}
  },
  {
   "cell_type": "code",
   "execution_count": null,
   "source": [
    "key = {\"subject_fullname\": \"ms81_M004\", \"insertion_number\": 0, \"session_date\": '2021-05-07', 'curation_id': 1}\n",
    "\n",
    "ephys.BehaviorSync() & key"
   ],
   "outputs": [],
   "metadata": {}
  },
  {
   "cell_type": "code",
   "execution_count": 11,
   "source": [
    "spikes = (ephys.CuratedClustersIteration.Unit & key & 'insertion_number = 0' & 'unit = 7').fetch1('spike_counts_iteration')\n",
    "\n",
    "behavior = dj.create_virtual_module('subject', 'u19_behavior')\n",
    "pos, time = (behavior.TowersBlock().Trial() & key).fetch('position', 'trial_time')\n",
    "\n",
    "position_at_each_iteration = []\n",
    "for trial in range(len(pos)):\n",
    "    pp = pos[trial][:,1]\n",
    "    snip = np.zeros(len(time[trial]))*np.NaN\n",
    "    snip[0:len(pp)] = pp\n",
    "    position_at_each_iteration = np.append(position_at_each_iteration, snip)"
   ],
   "outputs": [],
   "metadata": {}
  },
  {
   "cell_type": "code",
   "execution_count": 15,
   "source": [
    "pl.figure(figsize=(15,5))\n",
    "pl.subplot(1,2,1)\n",
    "pl.plot(spikes)\n",
    "pl.plot(position_at_each_iteration/50)\n",
    "pl.ylim([0,10])\n",
    "pl.xlim([0,30000])\n",
    "\n",
    "pl.subplot(1,2,2)\n",
    "pl.plot(position_at_each_iteration[1:], spikes, '.')"
   ],
   "outputs": [
    {
     "output_type": "error",
     "ename": "ValueError",
     "evalue": "x and y must have same first dimension, but have shapes (470786,) and (470789,)",
     "traceback": [
      "\u001b[1;31m---------------------------------------------------------------------------\u001b[0m",
      "\u001b[1;31mValueError\u001b[0m                                Traceback (most recent call last)",
      "\u001b[1;32m<ipython-input-15-3388e403b045>\u001b[0m in \u001b[0;36m<module>\u001b[1;34m\u001b[0m\n\u001b[0;32m      7\u001b[0m \u001b[1;33m\u001b[0m\u001b[0m\n\u001b[0;32m      8\u001b[0m \u001b[0mpl\u001b[0m\u001b[1;33m.\u001b[0m\u001b[0msubplot\u001b[0m\u001b[1;33m(\u001b[0m\u001b[1;36m1\u001b[0m\u001b[1;33m,\u001b[0m\u001b[1;36m2\u001b[0m\u001b[1;33m,\u001b[0m\u001b[1;36m2\u001b[0m\u001b[1;33m)\u001b[0m\u001b[1;33m\u001b[0m\u001b[1;33m\u001b[0m\u001b[0m\n\u001b[1;32m----> 9\u001b[1;33m \u001b[0mpl\u001b[0m\u001b[1;33m.\u001b[0m\u001b[0mplot\u001b[0m\u001b[1;33m(\u001b[0m\u001b[0mposition_at_each_iteration\u001b[0m\u001b[1;33m[\u001b[0m\u001b[1;36m1\u001b[0m\u001b[1;33m:\u001b[0m\u001b[1;33m]\u001b[0m\u001b[1;33m,\u001b[0m \u001b[0mspikes\u001b[0m\u001b[1;33m,\u001b[0m \u001b[1;34m'.'\u001b[0m\u001b[1;33m)\u001b[0m\u001b[1;33m\u001b[0m\u001b[1;33m\u001b[0m\u001b[0m\n\u001b[0m",
      "\u001b[1;32m~\\anaconda3\\envs\\imaging_elements\\lib\\site-packages\\matplotlib\\pyplot.py\u001b[0m in \u001b[0;36mplot\u001b[1;34m(scalex, scaley, data, *args, **kwargs)\u001b[0m\n\u001b[0;32m   2840\u001b[0m     return gca().plot(\n\u001b[0;32m   2841\u001b[0m         \u001b[1;33m*\u001b[0m\u001b[0margs\u001b[0m\u001b[1;33m,\u001b[0m \u001b[0mscalex\u001b[0m\u001b[1;33m=\u001b[0m\u001b[0mscalex\u001b[0m\u001b[1;33m,\u001b[0m \u001b[0mscaley\u001b[0m\u001b[1;33m=\u001b[0m\u001b[0mscaley\u001b[0m\u001b[1;33m,\u001b[0m\u001b[1;33m\u001b[0m\u001b[1;33m\u001b[0m\u001b[0m\n\u001b[1;32m-> 2842\u001b[1;33m         **({\"data\": data} if data is not None else {}), **kwargs)\n\u001b[0m\u001b[0;32m   2843\u001b[0m \u001b[1;33m\u001b[0m\u001b[0m\n\u001b[0;32m   2844\u001b[0m \u001b[1;33m\u001b[0m\u001b[0m\n",
      "\u001b[1;32m~\\anaconda3\\envs\\imaging_elements\\lib\\site-packages\\matplotlib\\axes\\_axes.py\u001b[0m in \u001b[0;36mplot\u001b[1;34m(self, scalex, scaley, data, *args, **kwargs)\u001b[0m\n\u001b[0;32m   1741\u001b[0m         \"\"\"\n\u001b[0;32m   1742\u001b[0m         \u001b[0mkwargs\u001b[0m \u001b[1;33m=\u001b[0m \u001b[0mcbook\u001b[0m\u001b[1;33m.\u001b[0m\u001b[0mnormalize_kwargs\u001b[0m\u001b[1;33m(\u001b[0m\u001b[0mkwargs\u001b[0m\u001b[1;33m,\u001b[0m \u001b[0mmlines\u001b[0m\u001b[1;33m.\u001b[0m\u001b[0mLine2D\u001b[0m\u001b[1;33m)\u001b[0m\u001b[1;33m\u001b[0m\u001b[1;33m\u001b[0m\u001b[0m\n\u001b[1;32m-> 1743\u001b[1;33m         \u001b[0mlines\u001b[0m \u001b[1;33m=\u001b[0m \u001b[1;33m[\u001b[0m\u001b[1;33m*\u001b[0m\u001b[0mself\u001b[0m\u001b[1;33m.\u001b[0m\u001b[0m_get_lines\u001b[0m\u001b[1;33m(\u001b[0m\u001b[1;33m*\u001b[0m\u001b[0margs\u001b[0m\u001b[1;33m,\u001b[0m \u001b[0mdata\u001b[0m\u001b[1;33m=\u001b[0m\u001b[0mdata\u001b[0m\u001b[1;33m,\u001b[0m \u001b[1;33m**\u001b[0m\u001b[0mkwargs\u001b[0m\u001b[1;33m)\u001b[0m\u001b[1;33m]\u001b[0m\u001b[1;33m\u001b[0m\u001b[1;33m\u001b[0m\u001b[0m\n\u001b[0m\u001b[0;32m   1744\u001b[0m         \u001b[1;32mfor\u001b[0m \u001b[0mline\u001b[0m \u001b[1;32min\u001b[0m \u001b[0mlines\u001b[0m\u001b[1;33m:\u001b[0m\u001b[1;33m\u001b[0m\u001b[1;33m\u001b[0m\u001b[0m\n\u001b[0;32m   1745\u001b[0m             \u001b[0mself\u001b[0m\u001b[1;33m.\u001b[0m\u001b[0madd_line\u001b[0m\u001b[1;33m(\u001b[0m\u001b[0mline\u001b[0m\u001b[1;33m)\u001b[0m\u001b[1;33m\u001b[0m\u001b[1;33m\u001b[0m\u001b[0m\n",
      "\u001b[1;32m~\\anaconda3\\envs\\imaging_elements\\lib\\site-packages\\matplotlib\\axes\\_base.py\u001b[0m in \u001b[0;36m__call__\u001b[1;34m(self, data, *args, **kwargs)\u001b[0m\n\u001b[0;32m    271\u001b[0m                 \u001b[0mthis\u001b[0m \u001b[1;33m+=\u001b[0m \u001b[0margs\u001b[0m\u001b[1;33m[\u001b[0m\u001b[1;36m0\u001b[0m\u001b[1;33m]\u001b[0m\u001b[1;33m,\u001b[0m\u001b[1;33m\u001b[0m\u001b[1;33m\u001b[0m\u001b[0m\n\u001b[0;32m    272\u001b[0m                 \u001b[0margs\u001b[0m \u001b[1;33m=\u001b[0m \u001b[0margs\u001b[0m\u001b[1;33m[\u001b[0m\u001b[1;36m1\u001b[0m\u001b[1;33m:\u001b[0m\u001b[1;33m]\u001b[0m\u001b[1;33m\u001b[0m\u001b[1;33m\u001b[0m\u001b[0m\n\u001b[1;32m--> 273\u001b[1;33m             \u001b[1;32myield\u001b[0m \u001b[1;32mfrom\u001b[0m \u001b[0mself\u001b[0m\u001b[1;33m.\u001b[0m\u001b[0m_plot_args\u001b[0m\u001b[1;33m(\u001b[0m\u001b[0mthis\u001b[0m\u001b[1;33m,\u001b[0m \u001b[0mkwargs\u001b[0m\u001b[1;33m)\u001b[0m\u001b[1;33m\u001b[0m\u001b[1;33m\u001b[0m\u001b[0m\n\u001b[0m\u001b[0;32m    274\u001b[0m \u001b[1;33m\u001b[0m\u001b[0m\n\u001b[0;32m    275\u001b[0m     \u001b[1;32mdef\u001b[0m \u001b[0mget_next_color\u001b[0m\u001b[1;33m(\u001b[0m\u001b[0mself\u001b[0m\u001b[1;33m)\u001b[0m\u001b[1;33m:\u001b[0m\u001b[1;33m\u001b[0m\u001b[1;33m\u001b[0m\u001b[0m\n",
      "\u001b[1;32m~\\anaconda3\\envs\\imaging_elements\\lib\\site-packages\\matplotlib\\axes\\_base.py\u001b[0m in \u001b[0;36m_plot_args\u001b[1;34m(self, tup, kwargs)\u001b[0m\n\u001b[0;32m    397\u001b[0m \u001b[1;33m\u001b[0m\u001b[0m\n\u001b[0;32m    398\u001b[0m         \u001b[1;32mif\u001b[0m \u001b[0mx\u001b[0m\u001b[1;33m.\u001b[0m\u001b[0mshape\u001b[0m\u001b[1;33m[\u001b[0m\u001b[1;36m0\u001b[0m\u001b[1;33m]\u001b[0m \u001b[1;33m!=\u001b[0m \u001b[0my\u001b[0m\u001b[1;33m.\u001b[0m\u001b[0mshape\u001b[0m\u001b[1;33m[\u001b[0m\u001b[1;36m0\u001b[0m\u001b[1;33m]\u001b[0m\u001b[1;33m:\u001b[0m\u001b[1;33m\u001b[0m\u001b[1;33m\u001b[0m\u001b[0m\n\u001b[1;32m--> 399\u001b[1;33m             raise ValueError(f\"x and y must have same first dimension, but \"\n\u001b[0m\u001b[0;32m    400\u001b[0m                              f\"have shapes {x.shape} and {y.shape}\")\n\u001b[0;32m    401\u001b[0m         \u001b[1;32mif\u001b[0m \u001b[0mx\u001b[0m\u001b[1;33m.\u001b[0m\u001b[0mndim\u001b[0m \u001b[1;33m>\u001b[0m \u001b[1;36m2\u001b[0m \u001b[1;32mor\u001b[0m \u001b[0my\u001b[0m\u001b[1;33m.\u001b[0m\u001b[0mndim\u001b[0m \u001b[1;33m>\u001b[0m \u001b[1;36m2\u001b[0m\u001b[1;33m:\u001b[0m\u001b[1;33m\u001b[0m\u001b[1;33m\u001b[0m\u001b[0m\n",
      "\u001b[1;31mValueError\u001b[0m: x and y must have same first dimension, but have shapes (470786,) and (470789,)"
     ]
    },
    {
     "output_type": "display_data",
     "data": {
      "text/plain": [
       "<Figure size 1080x360 with 2 Axes>"
      ],
      "image/png": "[encoded data removed]"
     },
     "metadata": {
      "needs_background": "light"
     }
    }
   ],
   "metadata": {}
  },
  {
   "cell_type": "markdown",
   "source": [
    "TODO: \n",
    "    - Sync table under ephys module.\n",
    "    - Unit table could contain the clustering results for multiple sorters. U19 team needs to implemnt the workflow for other sorters by overwriting the make function of the table `ephys_element.Clustering`. e.g.\n",
    "    ```\n",
    "    def ironclust_make(key):\n",
    "    if (ephys_element.ClusteringMethod & key).fetch1('clustering_method') != 'ironclust':\n",
    "        return\n",
    "    pass\n",
    "    ephys_element.CuratedClustering.make = ironclust_make\n",
    "    ephys_element.CuratedClustering.populate()\n",
    "    ```"
   ],
   "metadata": {}
  }
 ],
 "metadata": {
  "jupytext": {
   "encoding": "# -*- coding: utf-8 -*-"
  },
  "kernelspec": {
   "name": "python3",
   "display_name": "Python 3.7.10 64-bit ('imaging_elements': conda)"
  },
  "language_info": {
   "codemirror_mode": {
    "name": "ipython",
    "version": 3
   },
   "file_extension": ".py",
   "mimetype": "text/x-python",
   "name": "python",
   "nbconvert_exporter": "python",
   "pygments_lexer": "ipython3",
   "version": "3.7.10"
  },
  "interpreter": {
   "hash": "ad2050938946b9745fdc6507c7561603613194cae6ce583d2036ae212150e70f"
  }
 },
 "nbformat": 4,
 "nbformat_minor": 2
}