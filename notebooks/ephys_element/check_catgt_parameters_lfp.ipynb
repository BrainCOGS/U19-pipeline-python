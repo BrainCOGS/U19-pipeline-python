{
 "cells": [
  {
   "cell_type": "code",
   "execution_count": 1,
   "metadata": {},
   "outputs": [
    {
     "name": "stdout",
     "output_type": "stream",
     "text": [
      "Local configuration file found !!, no need to run the configuration (unless configuration has changed)\n"
     ]
    }
   ],
   "source": [
    "from scripts.conf_file_finding import try_find_conf_file\n",
    "try_find_conf_file()"
   ]
  },
  {
   "cell_type": "code",
   "execution_count": 2,
   "metadata": {},
   "outputs": [
    {
     "name": "stderr",
     "output_type": "stream",
     "text": [
      "[2024-06-05 11:37:58,874][INFO]: Connecting alvaros@datajoint00.pni.princeton.edu:3306\n",
      "[2024-06-05 11:38:00,643][INFO]: Connected alvaros@datajoint00.pni.princeton.edu:3306\n"
     ]
    }
   ],
   "source": [
    "import pandas as pd\n",
    "import datajoint as dj\n",
    "import pathlib\n",
    "import u19_pipeline.automatic_job.params_config as config"
   ]
  },
  {
   "cell_type": "code",
   "execution_count": 3,
   "metadata": {},
   "outputs": [],
   "source": [
    "import u19_pipeline.ephys_pipeline as ep"
   ]
  },
  {
   "cell_type": "code",
   "execution_count": 4,
   "metadata": {},
   "outputs": [],
   "source": [
    "\n",
    "recording_process = dj.create_virtual_module('recording_process', 'u19_recording_process')\n"
   ]
  },
  {
   "cell_type": "code",
   "execution_count": 5,
   "metadata": {},
   "outputs": [
    {
     "data": {
      "text/plain": [
       "<module 'recording_process'>"
      ]
     },
     "execution_count": 5,
     "metadata": {},
     "output_type": "execute_result"
    }
   ],
   "source": [
    "recording_process"
   ]
  },
  {
   "cell_type": "code",
   "execution_count": 20,
   "metadata": {},
   "outputs": [],
   "source": [
    "key = dict()\n",
    "key['job_id'] = 684\n",
    "recording_process_info = (recording_process.Processing & key).fetch(as_dict=True)"
   ]
  },
  {
   "cell_type": "code",
   "execution_count": 21,
   "metadata": {},
   "outputs": [
    {
     "data": {
      "text/plain": [
       "[{'job_id': 684,\n",
       "  'recording_id': 318,\n",
       "  'status_processing_id': 3,\n",
       "  'fragment_number': 0,\n",
       "  'recording_process_pre_path': 'jyanar/jyanar_ya008/20240528_g0/ya008_20240528_g0/ya008_20240528_g0_imec0',\n",
       "  'recording_process_post_path': 'jyanar/jyanar_ya008/20240528_g0/ya008_20240528_g0/ya008_20240528_g0_imec0/job_id_684',\n",
       "  'task_copy_id_pre': None,\n",
       "  'task_copy_id_post': None,\n",
       "  'slurm_id': '12737',\n",
       "  'temporary_transfer_slurmid': None}]"
      ]
     },
     "execution_count": 21,
     "metadata": {},
     "output_type": "execute_result"
    }
   ],
   "source": [
    "recording_process_info"
   ]
  },
  {
   "cell_type": "code",
   "execution_count": 22,
   "metadata": {},
   "outputs": [],
   "source": [
    "dj_config = dj.config"
   ]
  },
  {
   "cell_type": "code",
   "execution_count": 23,
   "metadata": {},
   "outputs": [],
   "source": [
    "ephys_root = dj_config['custom']['ephys_root_data_dir'][0]"
   ]
  },
  {
   "cell_type": "code",
   "execution_count": 24,
   "metadata": {},
   "outputs": [
    {
     "data": {
      "text/plain": [
       "PosixPath('/Volumes/braininit/Data/Raw/electrophysiology/jyanar/jyanar_ya008/20240528_g0/ya008_20240528_g0/ya008_20240528_g0_imec0')"
      ]
     },
     "execution_count": 24,
     "metadata": {},
     "output_type": "execute_result"
    }
   ],
   "source": [
    "probe_directory = pathlib.Path(ephys_root, recording_process_info[0]['recording_process_pre_path'])\n",
    "probe_directory"
   ]
  },
  {
   "cell_type": "code",
   "execution_count": 25,
   "metadata": {},
   "outputs": [
    {
     "data": {
      "text/plain": [
       "'/Volumes/braininit/Data/Raw/electrophysiology/jyanar/jyanar_ya008/20240528_g0/ya008_20240528_g0'"
      ]
     },
     "execution_count": 25,
     "metadata": {},
     "output_type": "execute_result"
    }
   ],
   "source": [
    "recording_directory = probe_directory.parent.as_posix()\n",
    "probe_directory = probe_directory.as_posix()\n",
    "recording_directory"
   ]
  },
  {
   "cell_type": "code",
   "execution_count": 26,
   "metadata": {},
   "outputs": [
    {
     "name": "stdout",
     "output_type": "stream",
     "text": [
      "probe_name_dir ya008_20240528_g0_imec0\n",
      "cat_gt_params {'prb': '0', 'run': 'ya008_20240528', 'g': '0', 't': '0'}\n",
      "cat_gt_command ['/Users/alvaros/Documents/MATLAB/BrainCogsProjects/Datajoint_proj/CatGT-linux/runit.sh', '-dir=/Volumes/braininit/Data/Raw/electrophysiology/jyanar/jyanar_ya008/20240528_g0/ya008_20240528_g0', '-run=ya008_20240528', '-g=0', '-t=0', '-prb=0', '-prb_fld', '-lf', '-lffilter=biquad,2,0,500']\n",
      "['/Users/alvaros/Documents/MATLAB/BrainCogsProjects/Datajoint_proj/CatGT-linux/runit.sh', '-dir=/Volumes/braininit/Data/Raw/electrophysiology/jyanar/jyanar_ya008/20240528_g0/ya008_20240528_g0', '-run=ya008_20240528', '-g=0', '-t=0', '-prb=0', '-prb_fld', '-lf', '-lffilter=biquad,2,0,500']\n"
     ]
    }
   ],
   "source": [
    "ep.create_lfp_trace(config.catgt_script, recording_directory, probe_directory)"
   ]
  },
  {
   "cell_type": "code",
   "execution_count": null,
   "metadata": {},
   "outputs": [],
   "source": []
  }
 ],
 "metadata": {
  "jupytext": {
   "encoding": "# -*- coding: utf-8 -*-"
  },
  "kernelspec": {
   "display_name": "Python 3.9.12 64-bit ('u19_datajoint_py39_env')",
   "language": "python",
   "name": "python3"
  },
  "language_info": {
   "codemirror_mode": {
    "name": "ipython",
    "version": 3
   },
   "file_extension": ".py",
   "mimetype": "text/x-python",
   "name": "python",
   "nbconvert_exporter": "python",
   "pygments_lexer": "ipython3",
   "version": "3.9.19"
  },
  "vscode": {
   "interpreter": {
    "hash": "419d9cb2b112754b897eb34e1df39f6fed5577ca6010806add89ffbebe061a18"
   }
  }
 },
 "nbformat": 4,
 "nbformat_minor": 2
}
