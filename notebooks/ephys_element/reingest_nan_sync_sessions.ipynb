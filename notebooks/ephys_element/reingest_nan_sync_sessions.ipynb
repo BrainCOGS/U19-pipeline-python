{
 "cells": [
  {
   "cell_type": "code",
   "execution_count": 1,
   "metadata": {},
   "outputs": [
    {
     "name": "stdout",
     "output_type": "stream",
     "text": [
      "Local configuration file found !!, no need to run the configuration (unless configuration has changed)\n"
     ]
    }
   ],
   "source": [
    "from scripts.conf_file_finding import try_find_conf_file\n",
    "try_find_conf_file()"
   ]
  },
  {
   "cell_type": "code",
   "execution_count": 2,
   "metadata": {},
   "outputs": [
    {
     "name": "stdout",
     "output_type": "stream",
     "text": [
      "Connecting alvaros@datajoint00.pni.princeton.edu:3306\n",
      "Error in loading \"ecephys_spike_sorting\" package - No module named 'matlab.engine'; 'matlab' is not a package\n"
     ]
    }
   ],
   "source": [
    "import numpy as np\n",
    "import u19_pipeline.ephys_pipeline as ep\n"
   ]
  },
  {
   "cell_type": "code",
   "execution_count": 3,
   "metadata": {},
   "outputs": [],
   "source": [
    "recs2 = (ep.BehaviorSync).fetch('recording_id', as_dict=True)\n",
    "bad_Sessions = list()\n",
    "for i in recs2:\n",
    "    s = (ep.BehaviorSync & i).fetch(as_dict=True)\n",
    "    if np.all(np.isnan(s[0]['trial_index_nidq'])):\n",
    "        bad_Sessions.append(i)"
   ]
  },
  {
   "cell_type": "code",
   "execution_count": 4,
   "metadata": {},
   "outputs": [
    {
     "data": {
      "text/plain": [
       "[]"
      ]
     },
     "execution_count": 4,
     "metadata": {},
     "output_type": "execute_result"
    }
   ],
   "source": [
    "bad_Sessions"
   ]
  },
  {
   "cell_type": "code",
   "execution_count": 5,
   "metadata": {},
   "outputs": [
    {
     "name": "stdout",
     "output_type": "stream",
     "text": [
      "Deleting 0 rows from `u19_ephys_pipeline`.`_behavior_sync`\n",
      "Nothing to delete.\n"
     ]
    },
    {
     "data": {
      "text/plain": [
       "0"
      ]
     },
     "execution_count": 5,
     "metadata": {},
     "output_type": "execute_result"
    }
   ],
   "source": [
    "(ep.BehaviorSync & bad_Sessions).delete()"
   ]
  },
  {
   "cell_type": "code",
   "execution_count": 6,
   "metadata": {},
   "outputs": [],
   "source": [
    "ep.BehaviorSync.populate(bad_Sessions)"
   ]
  }
 ],
 "metadata": {
  "jupytext": {
   "encoding": "# -*- coding: utf-8 -*-"
  },
  "kernelspec": {
   "display_name": "Python 3.9.12 64-bit ('u19_datajoint_py39_env')",
   "language": "python",
   "name": "python3"
  },
  "language_info": {
   "codemirror_mode": {
    "name": "ipython",
    "version": 3
   },
   "file_extension": ".py",
   "mimetype": "text/x-python",
   "name": "python",
   "nbconvert_exporter": "python",
   "pygments_lexer": "ipython3",
   "version": "3.9.12"
  },
  "vscode": {
   "interpreter": {
    "hash": "419d9cb2b112754b897eb34e1df39f6fed5577ca6010806add89ffbebe061a18"
   }
  }
 },
 "nbformat": 4,
 "nbformat_minor": 2
}
