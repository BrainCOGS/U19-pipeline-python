{
 "cells": [
  {
   "cell_type": "markdown",
   "metadata": {},
   "source": [
    "# Check sync process"
   ]
  },
  {
   "cell_type": "code",
   "execution_count": 1,
   "metadata": {},
   "outputs": [
    {
     "name": "stdout",
     "output_type": "stream",
     "text": [
      "Local configuration file found !!, no need to run the configuration (unless configuration has changed)\n"
     ]
    }
   ],
   "source": [
    "from scripts.conf_file_finding import try_find_conf_file\n",
    "try_find_conf_file()"
   ]
  },
  {
   "cell_type": "code",
   "execution_count": 51,
   "metadata": {},
   "outputs": [],
   "source": [
    "import datetime\n",
    "import pathlib\n",
    "import numpy as np\n",
    "import pylab as pl\n",
    "import matplotlib\n",
    "import matplotlib.pyplot as plt\n",
    "from scipy.signal import find_peaks\n",
    "\n",
    "\n",
    "from u19_pipeline import acquisition, ephys\n",
    "from u19_pipeline.ephys import ephys_element, probe_element, get_session_directory\n",
    "import u19_pipeline.ephys as ephys\n",
    "import u19_pipeline.acquisition as acquisition\n",
    "import datajoint as dj\n",
    "\n",
    "from u19_pipeline.utils.DemoReadSGLXData.readSGLX import readMeta, SampRate, makeMemMapRaw, ExtractDigital\n",
    "from bitstring import BitArray"
   ]
  },
  {
   "cell_type": "code",
   "execution_count": 3,
   "metadata": {},
   "outputs": [
    {
     "data": {
      "text/plain": [
       "{'subject_fullname': 'testuser_test70',\n",
       " 'session_date': datetime.date(2021, 10, 12),\n",
       " 'session_number': 0}"
      ]
     },
     "execution_count": 3,
     "metadata": {},
     "output_type": "execute_result"
    }
   ],
   "source": [
    "key = {\n",
    "    'subject_fullname': 'testuser_test70',\n",
    "    'session_date': datetime.date(2021, 10, 12)}\n",
    "\n",
    "\n",
    "key = (acquisition.Session & key).fetch1('KEY')\n",
    "key"
   ]
  },
  {
   "cell_type": "markdown",
   "metadata": {},
   "source": [
    "The module ephys_element contains all the tables designed in the DataJoint ephys element, we could draw the diagram to see the schema structures"
   ]
  },
  {
   "cell_type": "markdown",
   "metadata": {},
   "source": [
    "# Synchronize ePhys and Behavior"
   ]
  },
  {
   "cell_type": "markdown",
   "metadata": {},
   "source": [
    "Populate the tables, using the nidaq file produced by spikeGLX. This is done automatically and produces a record of VR iteration numbers measured in the time of the ePhys setup."
   ]
  },
  {
   "cell_type": "code",
   "execution_count": 4,
   "metadata": {},
   "outputs": [
    {
     "data": {
      "text/html": [
       "\n",
       "    \n",
       "    <style type=\"text/css\">\n",
       "        .Relation{\n",
       "            border-collapse:collapse;\n",
       "        }\n",
       "        .Relation th{\n",
       "            background: #A0A0A0; color: #ffffff; padding:4px; border:#f0e0e0 1px solid;\n",
       "            font-weight: normal; font-family: monospace; font-size: 100%;\n",
       "        }\n",
       "        .Relation td{\n",
       "            padding:4px; border:#f0e0e0 1px solid; font-size:100%;\n",
       "        }\n",
       "        .Relation tr:nth-child(odd){\n",
       "            background: #ffffff;\n",
       "        }\n",
       "        .Relation tr:nth-child(even){\n",
       "            background: #f3f1ff;\n",
       "        }\n",
       "        /* Tooltip container */\n",
       "        .djtooltip {\n",
       "        }\n",
       "        /* Tooltip text */\n",
       "        .djtooltip .djtooltiptext {\n",
       "            visibility: hidden;\n",
       "            width: 120px;\n",
       "            background-color: black;\n",
       "            color: #fff;\n",
       "            text-align: center;\n",
       "            padding: 5px 0;\n",
       "            border-radius: 6px;\n",
       "            /* Position the tooltip text - see examples below! */\n",
       "            position: absolute;\n",
       "            z-index: 1;\n",
       "        }\n",
       "        #primary {\n",
       "            font-weight: bold;\n",
       "            color: black;\n",
       "        }\n",
       "        #nonprimary {\n",
       "            font-weight: normal;\n",
       "            color: white;\n",
       "        }\n",
       "\n",
       "        /* Show the tooltip text when you mouse over the tooltip container */\n",
       "        .djtooltip:hover .djtooltiptext {\n",
       "            visibility: visible;\n",
       "        }\n",
       "    </style>\n",
       "    \n",
       "    <b></b>\n",
       "        <div style=\"max-height:1000px;max-width:1500px;overflow:auto;\">\n",
       "        <table border=\"1\" class=\"Relation\">\n",
       "            <thead> <tr style=\"text-align: right;\"> <th> <div class=\"djtooltip\">\n",
       "                            <p id=\"primary\">subject_fullname</p>\n",
       "                            <span class=\"djtooltiptext\">username_mouse_nickname</span>\n",
       "                        </div></th><th><div class=\"djtooltip\">\n",
       "                            <p id=\"primary\">session_date</p>\n",
       "                            <span class=\"djtooltiptext\">date of experiment</span>\n",
       "                        </div></th><th><div class=\"djtooltip\">\n",
       "                            <p id=\"primary\">session_number</p>\n",
       "                            <span class=\"djtooltiptext\">number</span>\n",
       "                        </div></th><th><div class=\"djtooltip\">\n",
       "                            <p id=\"nonprimary\">nidq_sampling_rate</p>\n",
       "                            <span class=\"djtooltiptext\">sampling rate of behavioral iterations niSampRate in nidq meta file</span>\n",
       "                        </div></th><th><div class=\"djtooltip\">\n",
       "                            <p id=\"nonprimary\">iteration_index_nidq</p>\n",
       "                            <span class=\"djtooltiptext\">length of this longblob should be the number of iterations in the behavior recording</span>\n",
       "                        </div></th><th><div class=\"djtooltip\">\n",
       "                            <p id=\"nonprimary\">trial_index_nidq</p>\n",
       "                            <span class=\"djtooltiptext\">length of this longblob should be the number of iterations in the behavior recording</span>\n",
       "                        </div> </th> </tr> </thead>\n",
       "            <tbody> <tr> <td>hnieh_E105</td>\n",
       "<td>2021-01-15</td>\n",
       "<td>0</td>\n",
       "<td>5000.08</td>\n",
       "<td>=BLOB=</td>\n",
       "<td>=BLOB=</td></tr><tr><td>ms81_M004</td>\n",
       "<td>2021-05-07</td>\n",
       "<td>0</td>\n",
       "<td>5000.06</td>\n",
       "<td>=BLOB=</td>\n",
       "<td>=BLOB=</td></tr><tr><td>ms81_M005</td>\n",
       "<td>2021-05-05</td>\n",
       "<td>0</td>\n",
       "<td>5000.07</td>\n",
       "<td>=BLOB=</td>\n",
       "<td>=BLOB=</td> </tr> </tbody>\n",
       "        </table>\n",
       "        \n",
       "        <p>Total: 3</p></div>\n",
       "        "
      ],
      "text/plain": [
       "*subject_fulln *session_date  *session_numbe nidq_sampling_ iteration_ trial_inde\n",
       "+------------+ +------------+ +------------+ +------------+ +--------+ +--------+\n",
       "hnieh_E105     2021-01-15     0              5000.08        =BLOB=     =BLOB=    \n",
       "ms81_M004      2021-05-07     0              5000.06        =BLOB=     =BLOB=    \n",
       "ms81_M005      2021-05-05     0              5000.07        =BLOB=     =BLOB=    \n",
       " (Total: 3)"
      ]
     },
     "execution_count": 4,
     "metadata": {},
     "output_type": "execute_result"
    }
   ],
   "source": [
    "ephys.BehaviorSync()"
   ]
  },
  {
   "cell_type": "code",
   "execution_count": 10,
   "metadata": {},
   "outputs": [
    {
     "data": {
      "text/plain": [
       "'//cup.pni.princeton.edu/braininit/RigData/training/npx/electrophysiology/testuser/20211012_syncTest2/test_g0'"
      ]
     },
     "execution_count": 10,
     "metadata": {},
     "output_type": "execute_result"
    }
   ],
   "source": [
    "get_session_directory(key)"
   ]
  },
  {
   "cell_type": "code",
   "execution_count": 11,
   "metadata": {},
   "outputs": [],
   "source": [
    "#ephys.BehaviorSync.populate(key)"
   ]
  },
  {
   "cell_type": "code",
   "execution_count": 12,
   "metadata": {},
   "outputs": [
    {
     "name": "stdout",
     "output_type": "stream",
     "text": [
      "Deleting 0 rows from `u19_ephys`.`_behavior_sync`\n",
      "Nothing to delete.\n"
     ]
    },
    {
     "data": {
      "text/plain": [
       "0"
      ]
     },
     "execution_count": 12,
     "metadata": {},
     "output_type": "execute_result"
    }
   ],
   "source": [
    "(ephys.BehaviorSync & key).delete()"
   ]
  },
  {
   "cell_type": "code",
   "execution_count": 13,
   "metadata": {},
   "outputs": [
    {
     "data": {
      "text/html": [
       "\n",
       "    \n",
       "    <style type=\"text/css\">\n",
       "        .Relation{\n",
       "            border-collapse:collapse;\n",
       "        }\n",
       "        .Relation th{\n",
       "            background: #A0A0A0; color: #ffffff; padding:4px; border:#f0e0e0 1px solid;\n",
       "            font-weight: normal; font-family: monospace; font-size: 100%;\n",
       "        }\n",
       "        .Relation td{\n",
       "            padding:4px; border:#f0e0e0 1px solid; font-size:100%;\n",
       "        }\n",
       "        .Relation tr:nth-child(odd){\n",
       "            background: #ffffff;\n",
       "        }\n",
       "        .Relation tr:nth-child(even){\n",
       "            background: #f3f1ff;\n",
       "        }\n",
       "        /* Tooltip container */\n",
       "        .djtooltip {\n",
       "        }\n",
       "        /* Tooltip text */\n",
       "        .djtooltip .djtooltiptext {\n",
       "            visibility: hidden;\n",
       "            width: 120px;\n",
       "            background-color: black;\n",
       "            color: #fff;\n",
       "            text-align: center;\n",
       "            padding: 5px 0;\n",
       "            border-radius: 6px;\n",
       "            /* Position the tooltip text - see examples below! */\n",
       "            position: absolute;\n",
       "            z-index: 1;\n",
       "        }\n",
       "        #primary {\n",
       "            font-weight: bold;\n",
       "            color: black;\n",
       "        }\n",
       "        #nonprimary {\n",
       "            font-weight: normal;\n",
       "            color: white;\n",
       "        }\n",
       "\n",
       "        /* Show the tooltip text when you mouse over the tooltip container */\n",
       "        .djtooltip:hover .djtooltiptext {\n",
       "            visibility: visible;\n",
       "        }\n",
       "    </style>\n",
       "    \n",
       "    <b>General information of an ephys session</b>\n",
       "        <div style=\"max-height:1000px;max-width:1500px;overflow:auto;\">\n",
       "        <table border=\"1\" class=\"Relation\">\n",
       "            <thead> <tr style=\"text-align: right;\"> <th> <div class=\"djtooltip\">\n",
       "                            <p id=\"primary\">subject_fullname</p>\n",
       "                            <span class=\"djtooltiptext\">username_mouse_nickname</span>\n",
       "                        </div></th><th><div class=\"djtooltip\">\n",
       "                            <p id=\"primary\">session_date</p>\n",
       "                            <span class=\"djtooltiptext\">date of experiment</span>\n",
       "                        </div></th><th><div class=\"djtooltip\">\n",
       "                            <p id=\"primary\">session_number</p>\n",
       "                            <span class=\"djtooltiptext\">number</span>\n",
       "                        </div></th><th><div class=\"djtooltip\">\n",
       "                            <p id=\"nonprimary\">ephys_directory</p>\n",
       "                            <span class=\"djtooltiptext\">Path were session file will be stored in bucket</span>\n",
       "                        </div> </th> </tr> </thead>\n",
       "            <tbody> <tr> <td>hnieh_E105</td>\n",
       "<td>2021-01-15</td>\n",
       "<td>0</td>\n",
       "<td>/Volumes/Tank/schottdorf/NPX/2021_01_15_E105/towersTask_g0</td></tr><tr><td>ms81_M004</td>\n",
       "<td>2021-05-07</td>\n",
       "<td>0</td>\n",
       "<td>/M004/20210507/towers_task_g0</td></tr><tr><td>ms81_M005</td>\n",
       "<td>2021-05-05</td>\n",
       "<td>0</td>\n",
       "<td>/M005/20210505/towers_task_g0</td></tr><tr><td>ms81_M005</td>\n",
       "<td>2021-05-06</td>\n",
       "<td>0</td>\n",
       "<td>/M005/20210506/towers_task_g0</td></tr><tr><td>testuser_T50</td>\n",
       "<td>2021-10-12</td>\n",
       "<td>0</td>\n",
       "<td>/npx/electrophysiology/testuser/20211012_syncTest/test_g0</td></tr><tr><td>testuser_test70</td>\n",
       "<td>2021-10-12</td>\n",
       "<td>0</td>\n",
       "<td>/npx/electrophysiology/testuser/20211012_syncTest2/test_g0</td> </tr> </tbody>\n",
       "        </table>\n",
       "        \n",
       "        <p>Total: 6</p></div>\n",
       "        "
      ],
      "text/plain": [
       "*subject_fulln *session_date  *session_numbe ephys_director\n",
       "+------------+ +------------+ +------------+ +------------+\n",
       "hnieh_E105     2021-01-15     0              /Volumes/Tank/\n",
       "ms81_M004      2021-05-07     0              /M004/20210507\n",
       "ms81_M005      2021-05-05     0              /M005/20210505\n",
       "ms81_M005      2021-05-06     0              /M005/20210506\n",
       "testuser_T50   2021-10-12     0              /npx/electroph\n",
       "testuser_test7 2021-10-12     0              /npx/electroph\n",
       " (Total: 6)"
      ]
     },
     "execution_count": 13,
     "metadata": {},
     "output_type": "execute_result"
    }
   ],
   "source": [
    "ephys.EphysSession()"
   ]
  },
  {
   "cell_type": "code",
   "execution_count": 14,
   "metadata": {},
   "outputs": [
    {
     "name": "stdout",
     "output_type": "stream",
     "text": [
      "nChan: 1, nFileSamp: 1453278\n"
     ]
    }
   ],
   "source": [
    "session_dir = pathlib.Path(get_session_directory(key))\n",
    "\n",
    "nidq_bin_full_path = list(session_dir.glob('*nidq.bin*'))[0]\n",
    "# And get the datajoint record\n",
    "behavior = dj.create_virtual_module('behavior', 'u19_behavior')\n",
    "thissession = behavior.TowersBlock().Trial() & key\n",
    "time, iterstart = thissession.fetch('trial_time', 'vi_start')\n",
    "\n",
    "# 1: load meta data, and the content of the NIDAQ file. Its content is digital.\n",
    "nidq_meta = readMeta(nidq_bin_full_path)\n",
    "t_start = 0\n",
    "t_end = float(nidq_meta['fileTimeSecs'])\n",
    "dw = 0\n",
    "d_line_list = [0, 1, 2, 3, 4, 5, 6, 7]\n",
    "nidq_sampling_rate = SampRate(nidq_meta)\n",
    "first_sample_index = int(nidq_sampling_rate * t_start)\n",
    "last_sample_index = int(nidq_sampling_rate * t_end) - 1\n",
    "nidq_raw_data = makeMemMapRaw(nidq_bin_full_path, nidq_meta)  # Pull raw bin data\n",
    "digital_array = ExtractDigital(                               # extract interation index\n",
    "    nidq_raw_data, first_sample_index, last_sample_index,\n",
    "    dw, d_line_list, nidq_meta)\n",
    "\n"
   ]
  },
  {
   "cell_type": "code",
   "execution_count": 15,
   "metadata": {},
   "outputs": [
    {
     "data": {
      "text/plain": [
       "(8, 1453278)"
      ]
     },
     "execution_count": 15,
     "metadata": {},
     "output_type": "execute_result"
    }
   ],
   "source": [
    "digital_array.shape"
   ]
  },
  {
   "cell_type": "code",
   "execution_count": 17,
   "metadata": {},
   "outputs": [
    {
     "name": "stdout",
     "output_type": "stream",
     "text": [
      "Progress: [------------------> ] 99 %\r"
     ]
    }
   ],
   "source": [
    "# 2: transform the digital lines into a number, save in an array of integers\n",
    "#      ... and also get start and end time\n",
    "total_frames = digital_array.shape[1]\n",
    "framenumber = np.zeros(total_frames)\n",
    "barLength = 20\n",
    "for i in range(total_frames):\n",
    "    \n",
    "    if i%100 == 0:\n",
    "        percent = float(i+1) * 100 / total_frames\n",
    "        arrow   = '-' * int(percent/100 * barLength - 1) + '>'\n",
    "        spaces  = ' ' * (barLength - len(arrow))\n",
    "        print('Progress: [%s%s] %d %%' % (arrow, spaces, percent), end='\\r')\n",
    "  \n",
    "\n",
    "    a = BitArray(np.flip(digital_array[3:, i])) # ignore 0-bit, as this is the NPX sync puls, and not virmen.\n",
    "    framenumber[i] = a.uint\n",
    "\n"
   ]
  },
  {
   "cell_type": "code",
   "execution_count": 210,
   "metadata": {},
   "outputs": [],
   "source": [
    "#Get idx samples trial starts\n",
    "trial_start_idx = np.where(np.diff(digital_array[1, :]) == 1) \n",
    "trial_start_idx = trial_start_idx[0]\n",
    "\n",
    "# Just to make sure we get corresponding iter pulse (trial and iter pulse at same time !!)\n",
    "ms_before_pulse = 2\n",
    "samples_before_pulse = int(nidq_sampling_rate*(ms_before_pulse/1000))\n",
    "\n",
    "iter_start_idx = []\n",
    "iter_times_idx = []\n",
    "for i in range(trial_start_idx.shape[0]-1):\n",
    "    #Trial starts and ends idxs ()\n",
    "    idx_start = trial_start_idx[i] -samples_before_pulse\n",
    "    idx_end = trial_start_idx[i+1] -samples_before_pulse\n",
    "    #Get idx of iteration start\n",
    "    iter_samples, = np.where(np.diff(digital_array[2, idx_start:idx_end]) == 1) \n",
    "    iter_samples = iter_samples + idx_start + samples_before_pulse\n",
    "    #Append as an array of arrays (each trial is an array with idx of iterations)\n",
    "    iter_start_idx.append(iter_samples)\n",
    "    #Calculate time for each iteration start\n",
    "    times = iter_samples/nidq_sampling_rate\n",
    "    times = times - times[0]\n",
    "    iter_times_idx.append(times)\n",
    "    \n",
    "\n",
    "iter_start_idx = np.asarray(iter_start_idx.copy(), dtype=object)\n",
    "iter_times_idx = np.asarray(iter_times_idx.copy(), dtype=object)"
   ]
  },
  {
   "cell_type": "code",
   "execution_count": 211,
   "metadata": {},
   "outputs": [],
   "source": [
    "# Trial start pulses should be +1 of completed trials in behavior file\n",
    "assert(trial_start_idx.shape[0] == time.shape[0]+1)\n",
    "for idx_trial, iter_trials in enumerate(iter_start_idx):\n",
    "    #For each trial iteration # should be equal to the behavioral file iterations\n",
    "    assert(iter_trials.shape[0] == time[idx_trial].shape[0])\n",
    "\n"
   ]
  },
  {
   "cell_type": "code",
   "execution_count": 229,
   "metadata": {},
   "outputs": [
    {
     "name": "stdout",
     "output_type": "stream",
     "text": [
      "(1355,)\n",
      "(1355,)\n",
      "(2269,)\n",
      "(3624,)\n",
      "(4961,)\n",
      "(8585,)\n",
      "(2891,)\n",
      "(11476,)\n",
      "(1044,)\n",
      "(12520,)\n",
      "(2226,)\n",
      "(14746,)\n",
      "(2701,)\n",
      "(17447,)\n"
     ]
    },
    {
     "data": {
      "text/plain": [
       "[<matplotlib.lines.Line2D at 0x1a2cac86148>]"
      ]
     },
     "execution_count": 229,
     "metadata": {},
     "output_type": "execute_result"
    },
    {
     "data": {
      "image/png": "[encoded data removed]",
      "text/plain": [
       "<Figure size 432x288 with 1 Axes>"
      ]
     },
     "metadata": {
      "needs_background": "light"
     },
     "output_type": "display_data"
    }
   ],
   "source": [
    "\n",
    "x = np.array([])\n",
    "for i in range(iter_times_idx.shape[0]):\n",
    "    s = time[i].flatten()-iter_times_idx[i]\n",
    "    print(s.shape)\n",
    "    x = np.append(x,s, axis=0)\n",
    "    print(x.shape)\n",
    "\n",
    "plt.plot(x)"
   ]
  },
  {
   "cell_type": "code",
   "execution_count": null,
   "metadata": {},
   "outputs": [],
   "source": [
    "# 3: transform `iterations_raw` into `framenumber_in_trial` and `trialnumber`\n",
    "# iterations_raw is just a number between 0 and 128. Some math has to be done to obtain:\n",
    "# framenumber_in_trial has the length of the number of samples of the NIDAQ card, and every entry is the currently presented iteration number of the VR in the respective trial.\n",
    "# trialnumber has the length of the number of samples of the NIDAQ card, and every entry is the current trial.\n",
    "#\n",
    "# NOTE: some minor glitches have to be catched, if a NIDAQ sample happenes to be recorded while the VR System updates the iteration number. \n",
    "framenumber_in_trial2 = np.zeros(len(iterations_raw))*np.NaN\n",
    "current_iter_peaks = 0\n",
    "current_trial = 0\n",
    "for idx, frame_number in enumerate(iterations_raw):\n",
    "    if (idx>recording_start) & (idx<recording_end):\n",
    "\n",
    "        framenumber_in_trial2[idx] = current_iter_peaks\n",
    "        if idx in iter_idx:\n",
    "            current_iter_peaks = current_iter_peaks+1\n",
    "        \n",
    "        if idx in trial_start_idx:\n",
    "            print(framenumber_in_trial[idx-1])\n",
    "            current_iter_peaks = 0\n",
    "            current_trial = current_trial + 1\n",
    "        \n",
    "        if((current_trial+1) > len(time)):\n",
    "            soso = idx\n",
    "            framenumber_in_trial2[idx] = 0\n",
    "                break\n",
    "            overflow = 0                       # Reset the 7 bit counter for the next trial\n",
    "\n",
    "        if overflow == 0:\n",
    "            framenumber_in_trial[idx] = frame_number  \n",
    "            if framenumber_in_trial[idx] == 1 and not_printed:\n",
    "                not_printed = 0\n",
    "                print(idx)\n",
    "                \n",
    "        else:  \n",
    "            framenumber_in_trial[idx] = frame_number + overflow*32\n",
    "            \n",
    "        trialnumber[idx] = current_trial\n",
    "trial_list = np.array(np.unique(trialnumber[np.isfinite(trialnumber)]), dtype = np.int64)\n",
    "\n"
   ]
  },
  {
   "cell_type": "code",
   "execution_count": 126,
   "metadata": {},
   "outputs": [
    {
     "name": "stdout",
     "output_type": "stream",
     "text": [
      "196683\n",
      "1.0\n",
      "1.0\n",
      "1.0\n",
      "1.0\n",
      "1.0\n",
      "1.0\n",
      "1.0\n"
     ]
    }
   ],
   "source": [
    "# 3: transform `iterations_raw` into `framenumber_in_trial` and `trialnumber`\n",
    "# iterations_raw is just a number between 0 and 128. Some math has to be done to obtain:\n",
    "# framenumber_in_trial has the length of the number of samples of the NIDAQ card, and every entry is the currently presented iteration number of the VR in the respective trial.\n",
    "# trialnumber has the length of the number of samples of the NIDAQ card, and every entry is the current trial.\n",
    "#\n",
    "# NOTE: some minor glitches have to be catched, if a NIDAQ sample happenes to be recorded while the VR System updates the iteration number. \n",
    "framenumber_in_trial = np.zeros(len(iterations_raw))*np.NaN\n",
    "framenumber_in_trial2 = np.zeros(len(iterations_raw))*np.NaN\n",
    "trialnumber = np.zeros(len(iterations_raw))*np.NaN\n",
    "current_trial = 0\n",
    "not_printed = 1\n",
    "current_iter_peaks = 0\n",
    "overflow = 0 # This variable keep track whenever the reset from 127 to 0 happens.\n",
    "for idx, frame_number in enumerate(iterations_raw):\n",
    "    if (idx>recording_start) & (idx<recording_end):\n",
    "        #print(iterations_raw2[idx], frame_number)\n",
    "        if (frame_number==0) & (iterations_raw[idx-1]==31): # At the reset, add 128\n",
    "            overflow = overflow + 1\n",
    "        if (frame_number==0) & (iterations_raw[idx-1]!=31) & (iterations_raw[idx-1]!=0) &  (iterations_raw[idx-2]==31): # Unlucky reset if happened to be sampled at the wrong time\n",
    "            overflow = overflow + 1\n",
    "            framenumber_in_trial[idx-1] = frame_number + overflow*32 - 1 # In case this happened, the previous sample has to be corrected\n",
    "        # Keep track of trial number\n",
    "        endflag = framenumber_in_trial[idx-1] == (len(time[current_trial])) # Trial end has been reached.\n",
    "        \n",
    "        framenumber_in_trial2[idx] = current_iter_peaks\n",
    "        if idx in iter_idx:\n",
    "            current_iter_peaks = current_iter_peaks+1\n",
    "        \n",
    "        if idx in trial_start_idx:\n",
    "            print(framenumber_in_trial[idx-1])\n",
    "            current_iter_peaks = 0\n",
    "        \n",
    "        \n",
    "        #if endflag:\n",
    "        #    print(framenumber_in_trial[idx-1])\n",
    "        #    print(frame_number)\n",
    "        \n",
    "        transitionflag = frame_number == 1 # Next trial should start at zero again (it starts with two ??)\n",
    "        if endflag & transitionflag:      # Only at the transitions\n",
    "            wala = 1000\n",
    "\n",
    "                \n",
    "            current_trial = current_trial + 1  # Increases trial count\n",
    "            if((current_trial+1) > len(time)):\n",
    "                soso = idx\n",
    "                framenumber_in_trial[idx] = 0\n",
    "                trialnumber[idx] = 0\n",
    "                break\n",
    "            overflow = 0                       # Reset the 7 bit counter for the next trial\n",
    "\n",
    "        if overflow == 0:\n",
    "            framenumber_in_trial[idx] = frame_number  \n",
    "            if framenumber_in_trial[idx] == 1 and not_printed:\n",
    "                not_printed = 0\n",
    "                print(idx)\n",
    "                \n",
    "        else:  \n",
    "            framenumber_in_trial[idx] = frame_number + overflow*32\n",
    "            \n",
    "        trialnumber[idx] = current_trial\n",
    "trial_list = np.array(np.unique(trialnumber[np.isfinite(trialnumber)]), dtype = np.int64)\n",
    "\n"
   ]
  },
  {
   "cell_type": "code",
   "execution_count": 127,
   "metadata": {},
   "outputs": [
    {
     "data": {
      "text/plain": [
       "[<matplotlib.lines.Line2D at 0x1a28de58788>]"
      ]
     },
     "execution_count": 127,
     "metadata": {},
     "output_type": "execute_result"
    },
    {
     "data": {
      "image/png": "[encoded data removed]",
      "text/plain": [
       "<Figure size 432x288 with 1 Axes>"
      ]
     },
     "metadata": {
      "needs_background": "light"
     },
     "output_type": "display_data"
    }
   ],
   "source": [
    "plt.plot(framenumber_in_trial2)"
   ]
  },
  {
   "cell_type": "code",
   "execution_count": 118,
   "metadata": {},
   "outputs": [
    {
     "data": {
      "text/plain": [
       "[<matplotlib.lines.Line2D at 0x1a2ab79adc8>]"
      ]
     },
     "execution_count": 118,
     "metadata": {},
     "output_type": "execute_result"
    },
    {
     "data": {
      "image/png": "[encoded data removed]",
      "text/plain": [
       "<Figure size 432x288 with 1 Axes>"
      ]
     },
     "metadata": {
      "needs_background": "light"
     },
     "output_type": "display_data"
    }
   ],
   "source": [
    "fig, ax = plt.subplots()\n",
    "ax.plot(framenumber_in_trial[trials_samples[0][2]+50:trials_samples[0][2]+500])\n",
    "ax.plot(digital_array[1, trials_samples[0][2]+50:trials_samples[0][2]+500])\n",
    "ax.plot(digital_array[2, trials_samples[0][2]+50:trials_samples[0][2]+500])\n",
    "\n",
    "\n",
    "\n",
    "\n",
    "#plt.plot(framenumber_in_trial)"
   ]
  },
  {
   "cell_type": "code",
   "execution_count": 128,
   "metadata": {},
   "outputs": [
    {
     "name": "stdout",
     "output_type": "stream",
     "text": [
      "[1.000e+00 1.355e+03 2.269e+03 4.961e+03 2.891e+03 1.044e+03 2.226e+03]\n",
      "[ 196691  289775  441990  773621  967164 1037687 1186602]\n",
      "[ 196669  289752  441976  773599  967146 1037673 1186579 1367376]\n"
     ]
    }
   ],
   "source": [
    "peaks, peak_dict = find_peaks(framenumber_in_trial2, height=0)\n",
    "print(peak_dict['peak_heights'])\n",
    "print(peaks)\n",
    "print(trials_samples[0])"
   ]
  },
  {
   "cell_type": "code",
   "execution_count": 84,
   "metadata": {},
   "outputs": [
    {
     "data": {
      "text/plain": [
       "[<matplotlib.lines.Line2D at 0x1a28e07be88>]"
      ]
     },
     "execution_count": 84,
     "metadata": {},
     "output_type": "execute_result"
    },
    {
     "data": {
      "image/png": "[encoded data removed]",
      "text/plain": [
       "<Figure size 432x288 with 1 Axes>"
      ]
     },
     "metadata": {
      "needs_background": "light"
     },
     "output_type": "display_data"
    }
   ],
   "source": [
    "plt.plot(framenumber_in_trial[peaks[2]-1000:peaks[2]+1000])"
   ]
  },
  {
   "cell_type": "code",
   "execution_count": 85,
   "metadata": {},
   "outputs": [
    {
     "data": {
      "text/plain": [
       "array([0, 1, 2, 3, 4, 5, 6], dtype=int64)"
      ]
     },
     "execution_count": 85,
     "metadata": {},
     "output_type": "execute_result"
    }
   ],
   "source": [
    "trial_list"
   ]
  },
  {
   "cell_type": "code",
   "execution_count": 86,
   "metadata": {},
   "outputs": [
    {
     "data": {
      "text/plain": [
       "(30,)"
      ]
     },
     "execution_count": 86,
     "metadata": {},
     "output_type": "execute_result"
    }
   ],
   "source": [
    "# 4: find and remove additional NIDAQ glitches of two types: \n",
    "# a) single samples where the iteration number is corrupted because sampling happened faster than output of the behevior PC.\n",
    "# b) Skipped frames are detected and filled in.\n",
    "# Find the glitches\n",
    "din = np.diff(framenumber_in_trial)\n",
    "trial_transitions = np.where(np.diff(trialnumber))\n",
    "not_trial_transitions = np.invert(np.where(np.diff(trialnumber)))\n",
    "glitches = []\n",
    "for candidate in np.where( np.logical_or(din>1, din<0) )[0]: # skipped frames or counting down\n",
    "    #They are only real glitches if candidate index does not correspond to a trial transition\n",
    "    if np.sum(candidate == trial_transitions) == 0:\n",
    "        glitches = np.append(glitches, candidate)\n",
    "glitches = np.array(glitches, dtype = np.int64)\n",
    "glitches.shape"
   ]
  },
  {
   "cell_type": "code",
   "execution_count": 87,
   "metadata": {},
   "outputs": [
    {
     "data": {
      "text/plain": [
       "[<matplotlib.lines.Line2D at 0x1a28c781b88>]"
      ]
     },
     "execution_count": 87,
     "metadata": {},
     "output_type": "execute_result"
    },
    {
     "data": {
      "image/png": "[encoded data removed]",
      "text/plain": [
       "<Figure size 432x288 with 1 Axes>"
      ]
     },
     "metadata": {
      "needs_background": "light"
     },
     "output_type": "display_data"
    }
   ],
   "source": [
    "plt.plot(iterations_raw[glitches[0]-1000:glitches[0]+1000])"
   ]
  },
  {
   "cell_type": "code",
   "execution_count": 89,
   "metadata": {},
   "outputs": [
    {
     "name": "stdout",
     "output_type": "stream",
     "text": [
      "7\n",
      "7\n"
     ]
    }
   ],
   "source": [
    "# Attempt to remove them\n",
    "skipped_frames = 0\n",
    "diff_trials = np.diff(framenumber_in_trial)\n",
    "for g in glitches:\n",
    "    if framenumber_in_trial[g] < framenumber_in_trial[g+2]:\n",
    "        #if framenumber_in_trial[g+2] -  framenumber_in_trial[g] == 2:  # skipped frame, should be very rare\n",
    "        #    if framenumber_in_trial[g+1] == framenumber_in_trial[g+2]:\n",
    "        #        framenumber_in_trial[g+1] = framenumber_in_trial[g]+1    \n",
    "        #        print('Case 0-2-2 not skipped')\n",
    "        #    else:\n",
    "        #        framenumber_in_trial[g+1] = framenumber_in_trial[g]+1\n",
    "        #        skipped_frames = skipped_frames + 1\n",
    "        #else:                          # If random number, nidaq sample in the middle of update.\n",
    "        framenumber_in_trial[g+1] = framenumber_in_trial[g]\n",
    "\n",
    "# A set of final asserts, making sure that the code worked as intended  \n",
    "assert len(trial_list) == len(thissession)          # Make sure the trial number is correct.\n",
    "assert np.sum(np.diff(framenumber_in_trial)>1) == 0 # No frames should be skipped\n",
    "\n",
    "#Trial transitions should be same as number of trials -1 \n",
    "assert np.sum(np.diff(framenumber_in_trial)<0) == len(trial_list) # Negative iterations only at trial transitions\n",
    "\n",
    "\n",
    "so = np.diff(framenumber_in_trial)<0\n",
    "su = diff_trials[so]\n",
    "print(len(su))\n",
    "print(len(trial_list))"
   ]
  },
  {
   "cell_type": "code",
   "execution_count": 92,
   "metadata": {},
   "outputs": [
    {
     "name": "stdout",
     "output_type": "stream",
     "text": [
      "True\n",
      "0.0\n"
     ]
    },
    {
     "ename": "AssertionError",
     "evalue": "",
     "output_type": "error",
     "traceback": [
      "\u001b[1;31m---------------------------------------------------------------------------\u001b[0m",
      "\u001b[1;31mAssertionError\u001b[0m                            Traceback (most recent call last)",
      "\u001b[1;32m<ipython-input-92-a2bd70069a68>\u001b[0m in \u001b[0;36m<module>\u001b[1;34m\u001b[0m\n\u001b[0;32m      7\u001b[0m     \u001b[0miterations_test\u001b[0m \u001b[1;33m=\u001b[0m \u001b[0miterations_test\u001b[0m \u001b[1;33m+\u001b[0m \u001b[0mcurrent_iter_trial\u001b[0m  \u001b[1;31m# Integrate number of iterations\u001b[0m\u001b[1;33m\u001b[0m\u001b[1;33m\u001b[0m\u001b[0m\n\u001b[0;32m      8\u001b[0m     \u001b[0mprint\u001b[0m\u001b[1;33m(\u001b[0m\u001b[0mcurrent_iter_trial\u001b[0m\u001b[1;33m)\u001b[0m\u001b[1;33m\u001b[0m\u001b[1;33m\u001b[0m\u001b[0m\n\u001b[1;32m----> 9\u001b[1;33m     \u001b[1;32massert\u001b[0m \u001b[0mcurrent_iter_trial\u001b[0m \u001b[1;33m==\u001b[0m \u001b[0mlen\u001b[0m\u001b[1;33m(\u001b[0m\u001b[0mtime\u001b[0m\u001b[1;33m[\u001b[0m\u001b[0mt\u001b[0m\u001b[1;33m]\u001b[0m\u001b[1;33m)\u001b[0m  \u001b[1;31m# Make sure number of nidaq-frames in each trial is identical to dj record:\u001b[0m\u001b[1;33m\u001b[0m\u001b[1;33m\u001b[0m\u001b[0m\n\u001b[0m\u001b[0;32m     10\u001b[0m     \u001b[0mnidaqtime\u001b[0m \u001b[1;33m=\u001b[0m \u001b[0mnp\u001b[0m\u001b[1;33m.\u001b[0m\u001b[0msum\u001b[0m\u001b[1;33m(\u001b[0m\u001b[0midx_nidaq_samples_trial\u001b[0m\u001b[1;33m)\u001b[0m\u001b[1;33m/\u001b[0m\u001b[0mnidq_sampling_rate\u001b[0m\u001b[1;33m\u001b[0m\u001b[1;33m\u001b[0m\u001b[0m\n\u001b[0;32m     11\u001b[0m     \u001b[0mmatlabtime\u001b[0m \u001b[1;33m=\u001b[0m \u001b[0mnp\u001b[0m\u001b[1;33m.\u001b[0m\u001b[0mmax\u001b[0m\u001b[1;33m(\u001b[0m\u001b[0mtime\u001b[0m\u001b[1;33m[\u001b[0m\u001b[0mt\u001b[0m\u001b[1;33m]\u001b[0m\u001b[1;33m)\u001b[0m\u001b[1;33m\u001b[0m\u001b[1;33m\u001b[0m\u001b[0m\n",
      "\u001b[1;31mAssertionError\u001b[0m: "
     ]
    }
   ],
   "source": [
    "iterations_test = 0\n",
    "time_differ = np.zeros(len(trial_list))*np.NaN\n",
    "for idx,t in enumerate(trial_list):\n",
    "    idx_nidaq_samples_trial = trialnumber==t\n",
    "    print(np.max(idx_nidaq_samples_trial))\n",
    "    current_iter_trial = framenumber_in_trial[idx_nidaq_samples_trial][-1]\n",
    "    iterations_test = iterations_test + current_iter_trial  # Integrate number of iterations\n",
    "    print(current_iter_trial)\n",
    "    #assert current_iter_trial == len(time[t])  # Make sure number of nidaq-frames in each trial is identical to dj record:\n",
    "    nidaqtime = np.sum(idx_nidaq_samples_trial)/nidq_sampling_rate\n",
    "    matlabtime = np.max(time[t])\n",
    "    time_differ[idx] = nidaqtime - matlabtime \n",
    "    assert ((nidaqtime - matlabtime) / matlabtime) < 0.1 # # Make sure the nidaq-trial-duration and dj records are consistent; 10% arbitrarily chosen\n",
    "nidaq_duration = iterations_test\n",
    "#Dj duration is the iteration start of the last trial minus iteration first trial plus last trial iterations, \n",
    "#Or just the sum of each iteration trials\n",
    "dj_duration = iterstart[-1] - iterstart[0]  + len(time[-1])\n",
    "print(iterstart[-1])\n",
    "print(iterstart[0])\n",
    "print(nidaq_duration)\n",
    "print(dj_duration)\n",
    "print(skipped_frames)\n",
    "assert np.abs(nidaq_duration - dj_duration) == 0 # at most two frames off - sometimes this happens at the beginning/end of the recording\n"
   ]
  },
  {
   "cell_type": "code",
   "execution_count": 15,
   "metadata": {},
   "outputs": [
    {
     "name": "stdout",
     "output_type": "stream",
     "text": [
      "1585\n",
      "4811\n",
      "6509\n",
      "7516\n",
      "33135\n",
      "36597\n",
      "38831\n",
      "46152\n",
      "52106\n",
      "53943\n",
      "56942\n",
      "61083\n",
      "63365\n",
      "66686\n",
      "70245\n",
      "72603\n",
      "75006\n",
      "76960\n",
      "79067\n",
      "81302\n",
      "83184\n",
      "85080\n",
      "88688\n",
      "90306\n",
      "93787\n",
      "94900\n",
      "96558\n",
      "99539\n",
      "100934\n",
      "102864\n",
      "104690\n",
      "106366\n",
      "108334\n",
      "109879\n",
      "111574\n",
      "113343\n",
      "115055\n",
      "117134\n",
      "118585\n",
      "120356\n",
      "122301\n",
      "123950\n",
      "125381\n",
      "127070\n",
      "128676\n",
      "130393\n",
      "132109\n",
      "134280\n",
      "135623\n",
      "136962\n",
      "139056\n",
      "141152\n",
      "142356\n",
      "143869\n",
      "145433\n",
      "147267\n",
      "148654\n",
      "150230\n",
      "151686\n",
      "153523\n",
      "155444\n",
      "157224\n",
      "158993\n",
      "160658\n",
      "162161\n",
      "163492\n",
      "164938\n",
      "168320\n",
      "169784\n",
      "171228\n",
      "172789\n",
      "174282\n",
      "175718\n",
      "177456\n",
      "179035\n",
      "181100\n",
      "182429\n",
      "183878\n",
      "185308\n",
      "186703\n",
      "188141\n",
      "189676\n",
      "191179\n",
      "192653\n",
      "194632\n",
      "196669\n",
      "198144\n",
      "200187\n",
      "201695\n",
      "203187\n",
      "204657\n",
      "206912\n",
      "208066\n",
      "209815\n",
      "211233\n",
      "212755\n",
      "214289\n",
      "215782\n",
      "217181\n",
      "218565\n",
      "220138\n",
      "221516\n",
      "223628\n",
      "224757\n",
      "226106\n",
      "227678\n",
      "229041\n",
      "230432\n",
      "231900\n",
      "233223\n",
      "235202\n",
      "236680\n",
      "237988\n",
      "239413\n",
      "241525\n",
      "242624\n",
      "243955\n",
      "245283\n",
      "246664\n",
      "247849\n",
      "249711\n",
      "251048\n",
      "252756\n",
      "254290\n",
      "255732\n",
      "257167\n",
      "258635\n",
      "260632\n",
      "262073\n",
      "263524\n",
      "264940\n",
      "266996\n",
      "268225\n",
      "269526\n",
      "271010\n",
      "272390\n",
      "273830\n",
      "275238\n",
      "276728\n",
      "278124\n",
      "279579\n",
      "280984\n",
      "282394\n",
      "283641\n",
      "285065\n",
      "286559\n",
      "288470\n",
      "289672\n",
      "291539\n",
      "292711\n",
      "294790\n",
      "296085\n",
      "297446\n",
      "298905\n",
      "300286\n",
      "301670\n",
      "303268\n",
      "304523\n",
      "305789\n",
      "307237\n",
      "308493\n",
      "309958\n",
      "311923\n",
      "313893\n",
      "319212\n",
      "320156\n",
      "322029\n",
      "323763\n",
      "325967\n",
      "327201\n",
      "328858\n",
      "330403\n",
      "331983\n",
      "333761\n",
      "335401\n",
      "337531\n",
      "339065\n",
      "341889\n",
      "343136\n",
      "345371\n",
      "347131\n",
      "348561\n",
      "350100\n",
      "351652\n",
      "353196\n",
      "355315\n",
      "357071\n",
      "358277\n",
      "360334\n",
      "361733\n",
      "363043\n",
      "364526\n",
      "365854\n",
      "367915\n",
      "369352\n",
      "370780\n",
      "372184\n",
      "373558\n",
      "374846\n",
      "376771\n",
      "377874\n",
      "379268\n",
      "380588\n",
      "381787\n",
      "383636\n",
      "385537\n",
      "387630\n",
      "390773\n",
      "396667\n",
      "399002\n",
      "401172\n",
      "402464\n",
      "404705\n",
      "406728\n",
      "408175\n",
      "410411\n",
      "411627\n",
      "413451\n",
      "415244\n",
      "417127\n",
      "421573\n",
      "423218\n",
      "424476\n",
      "425650\n",
      "426970\n",
      "428220\n",
      "429654\n",
      "430926\n",
      "434969\n",
      "436595\n",
      "445834\n",
      "448107\n",
      "449473\n",
      "451499\n",
      "452855\n",
      "454408\n",
      "455959\n",
      "457949\n",
      "459331\n",
      "460541\n",
      "462660\n",
      "463888\n",
      "465265\n",
      "467400\n",
      "469420\n",
      "470787\n",
      "[     2   1587   4813   6511   7518  33137  36599  38833  46154  52108\n",
      "  53945  56944  61085  63367  66688  70247  72605  75008  76962  79069\n",
      "  81304  83186  85082  88690  90308  93789  94902  96560  99541 100936\n",
      " 102866 104692 106368 108336 109881 111576 113345 115057 117136 118587\n",
      " 120358 122303 123952 125383 127072 128678 130395 132111 134282 135625\n",
      " 136964 139058 141154 142358 143871 145435 147269 148656 150232 151688\n",
      " 153525 155446 157226 158995 160660 162163 163494 164940 168322 169786\n",
      " 171230 172791 174284 175720 177458 179037 181102 182431 183880 185310\n",
      " 186705 188143 189678 191181 192655 194634 196671 198146 200189 201697\n",
      " 203189 204659 206914 208068 209817 211235 212757 214291 215784 217183\n",
      " 218567 220140 221518 223630 224759 226108 227680 229043 230434 231902\n",
      " 233225 235204 236682 237990 239415 241527 242626 243957 245285 246666\n",
      " 247851 249713 251050 252758 254292 255734 257169 258637 260634 262075\n",
      " 263526 264942 266998 268227 269528 271012 272392 273832 275240 276730\n",
      " 278126 279581 280986 282396 283643 285067 286561 288472 289674 291541\n",
      " 292713 294792 296087 297448 298907 300288 301672 303270 304525 305791\n",
      " 307239 308495 309960 311925 313895 319214 320158 322031 323765 325969\n",
      " 327203 328860 330405 331985 333763 335403 337533 339067 341891 343138\n",
      " 345373 347133 348563 350102 351654 353198 355317 357073 358279 360336\n",
      " 361735 363045 364528 365856 367917 369354 370782 372186 373560 374848\n",
      " 376773 377876 379270 380590 381789 383638 385539 387632 390775 396669\n",
      " 399004 401174 402466 404707 406730 408177 410413 411629 413453 415246\n",
      " 417129 421575 423220 424478 425652 426972 428222 429656 430928 434971\n",
      " 436597 445836 448109 449475 451501 452857 454410 455961 457951 459333\n",
      " 460543 462662 463890 465267 467402 469422]\n",
      "470787\n"
     ]
    }
   ],
   "source": [
    "num_iter_time = 0\n",
    "for i in time:\n",
    "    num_iter_time += i.shape[0]\n",
    "    print(num_iter_time)\n",
    "print(iterstart)\n",
    "print(num_iter_time)"
   ]
  },
  {
   "cell_type": "code",
   "execution_count": 262,
   "metadata": {},
   "outputs": [
    {
     "data": {
      "text/plain": [
       "[<matplotlib.lines.Line2D at 0x2cd00e7b9c8>]"
      ]
     },
     "execution_count": 262,
     "metadata": {},
     "output_type": "execute_result"
    },
    {
     "data": {
      "image/png": "[encoded data removed]",
      "text/plain": [
       "<Figure size 432x288 with 1 Axes>"
      ]
     },
     "metadata": {
      "needs_background": "light"
     },
     "output_type": "display_data"
    }
   ],
   "source": [
    "plt.plot(time_differ)"
   ]
  },
  {
   "cell_type": "code",
   "execution_count": 263,
   "metadata": {},
   "outputs": [
    {
     "name": "stdout",
     "output_type": "stream",
     "text": [
      "[2. 2. 2. 2. 2. 2. 2. 2. 2. 2. 2. 3. 3. 3. 3. 3. 3. 3. 3. 3.]\n",
      "[2. 2. 2. 2. 2. 2. 2. 2. 2. 2. 2. 2. 2. 2. 2. 2. 2. 2. 2. 2. 2. 2. 2. 2.\n",
      " 2. 2. 2. 2. 2. 2. 2. 2. 2. 2. 2. 2. 2. 2. 2. 2. 2. 2. 2. 2. 2. 2. 2. 2.\n",
      " 2. 2. 2. 2. 2. 2. 2. 2. 2. 2. 3. 3. 3. 3. 3. 3. 3. 3. 3. 3. 3. 3. 3. 3.\n",
      " 3. 3. 3. 3. 3. 3. 3. 3. 3. 3. 3. 3. 3. 3. 3. 3. 3. 3. 3. 3. 3. 3. 3. 3.\n",
      " 3. 3. 3. 3.]\n",
      "1882.0\n",
      "(1881,)\n",
      "(1882, 1)\n",
      "1.0\n"
     ]
    },
    {
     "data": {
      "text/plain": [
       "[<matplotlib.lines.Line2D at 0x2cd8509ac88>]"
      ]
     },
     "execution_count": 263,
     "metadata": {},
     "output_type": "execute_result"
    },
    {
     "data": {
      "image/png": "[encoded data removed]",
      "text/plain": [
       "<Figure size 432x288 with 1 Axes>"
      ]
     },
     "metadata": {
      "needs_background": "light"
     },
     "output_type": "display_data"
    }
   ],
   "source": [
    "idx_nidaq_samples_trial = trialnumber==20\n",
    "current_iter_trial = framenumber_in_trial[idx_nidaq_samples_trial]\n",
    "iter_transitions = np.where(np.diff(current_iter_trial))\n",
    "time_nidaq = iter_transitions[0]/nidq_sampling_rate\n",
    "time_nidaq = np.insert(time_nidaq, 0, 0) \n",
    "\n",
    "so = (np.diff(current_iter_trial) == 1)\n",
    "\n",
    "print(current_iter_trial[iter_transitions[0][0]-10:iter_transitions[0][0]+10])\n",
    "\n",
    "\n",
    "print(current_iter_trial[0:100])\n",
    "\n",
    "#print(iter_transitions[0][-1])\n",
    "\n",
    "\n",
    "print(max(current_iter_trial))\n",
    "print(time_nidaq.shape)\n",
    "print(time[20].shape)\n",
    "print(max(np.diff(current_iter_trial)))\n",
    "plt.plot(iter_transitions[0]/nidq_sampling_rate)\n",
    "#plt.plot(iter_transitions[0][-1])"
   ]
  },
  {
   "cell_type": "code",
   "execution_count": 264,
   "metadata": {},
   "outputs": [
    {
     "data": {
      "text/plain": [
       "{'subject_fullname': 'ms81_M005',\n",
       " 'session_date': datetime.date(2021, 5, 5),\n",
       " 'session_number': 0,\n",
       " 'nidq_sampling_rate': 5000.071548,\n",
       " 'iteration_index_nidq': array([nan, nan, nan, ..., nan, nan, nan]),\n",
       " 'trial_index_nidq': array([nan, nan, nan, ..., nan, nan, nan])}"
      ]
     },
     "execution_count": 264,
     "metadata": {},
     "output_type": "execute_result"
    }
   ],
   "source": [
    "\n",
    "final_key = dict(key, nidq_sampling_rate = nidq_sampling_rate, \n",
    "               iteration_index_nidq = framenumber_in_trial,\n",
    "               trial_index_nidq = trialnumber)\n",
    "final_key"
   ]
  },
  {
   "cell_type": "code",
   "execution_count": 265,
   "metadata": {},
   "outputs": [],
   "source": [
    "\n",
    "# If this is done, and the asserts are passed, insert the data into the database\n",
    "ephys.BehaviorSync.insert1(final_key,allow_direct_insert=True)\n",
    "\n",
    "# get the imec sampling rate for a particular probe\n",
    "here = ephys_element.ProbeInsertion & key\n",
    "for probe_insertion in here.fetch('KEY'):\n",
    "    imec_bin_filepath = list(session_dir.glob('*imec{}/*.ap.bin'.format(probe_insertion['insertion_number'])))\n",
    "\n",
    "    if len(imec_bin_filepath) == 1:    # find the binary file to get meta data\n",
    "        imec_bin_filepath = imec_bin_filepath[0]\n",
    "    else:                               # if this fails, get the ap.meta file.\n",
    "        imec_bin_filepath = list(session_dir.glob('*imec{}/*.ap.meta'.format(probe_insertion['insertion_number'])))\n",
    "        if len(imec_bin_filepath) == 1:\n",
    "            s = str(imec_bin_filepath[0])\n",
    "            imec_bin_filepath = pathlib.Path(s.replace(\".meta\", \".bin\"))\n",
    "        else:   # If this fails too, no imec file exists at the path.\n",
    "            raise NameError(\"No imec meta file found.\")\n",
    "\n",
    "    imec_meta = readMeta(imec_bin_filepath)\n",
    "    ephys.BehaviorSync.ImecSamplingRate.insert1(\n",
    "        dict(probe_insertion,\n",
    "             ephys_sampling_rate=imec_meta['imSampRate']), allow_direct_insert=True)"
   ]
  },
  {
   "cell_type": "markdown",
   "metadata": {},
   "source": [
    "Once the synchronization files have been produces, the all Clusters/spikes can be binned into iterations."
   ]
  },
  {
   "cell_type": "code",
   "execution_count": 278,
   "metadata": {},
   "outputs": [
    {
     "name": "stdout",
     "output_type": "stream",
     "text": [
      "first_vr_iteration 2\n",
      "iteration_index_nidq[iteration_transition_indexes[i]] 1.0\n",
      "iteration_index_nidq[iteration_transition_indexes[i]] 2.0\n"
     ]
    },
    {
     "data": {
      "text/plain": [
       "470540.0"
      ]
     },
     "execution_count": 278,
     "metadata": {},
     "output_type": "execute_result"
    }
   ],
   "source": [
    "key_samplig = key.copy()\n",
    "key['insertion_number'] = 0\n",
    "\n",
    "nidq_sampling_rate, iteration_index_nidq = \\\n",
    "(ephys.BehaviorSync * ephys.BehaviorSync.ImecSamplingRate & key).fetch1(\n",
    "                'nidq_sampling_rate', 'iteration_index_nidq')\n",
    "\n",
    "\n",
    "key_session = key.copy()\n",
    "del key_session[\"insertion_number\"]\n",
    "\n",
    "thissession = behavior.TowersBlock().Trial() & key\n",
    "iterstart = thissession.fetch('vi_start')\n",
    "\n",
    "first_vr_iteration = iterstart[0]\n",
    "\n",
    "print('first_vr_iteration', first_vr_iteration)\n",
    "\n",
    "# Obtain the precise times when the frames transition.\n",
    "# This is obtained from iteration_index_nidq\n",
    "ls = np.diff(iteration_index_nidq)\n",
    "ls[ls<0] = 1 # These are the trial transitions (see definition above). To get total number of frames, we define this as a transition like all others. \n",
    "ls[np.isnan(ls)] = 0\n",
    "iteration_transition_indexes = np.where(ls)[0]\n",
    "\n",
    "# First iterations captured not in virmen because vr was not started yet\n",
    "for i in range(first_vr_iteration):\n",
    "\n",
    "    print('iteration_index_nidq[iteration_transition_indexes[i]]', iteration_index_nidq[iteration_transition_indexes[i]])\n",
    "    if iteration_index_nidq[iteration_transition_indexes[i]] < first_vr_iteration:\n",
    "        ls[iteration_transition_indexes[i]] = 0\n",
    "        \n",
    "        \n",
    "np.sum(ls)"
   ]
  },
  {
   "cell_type": "code",
   "execution_count": 5,
   "metadata": {},
   "outputs": [
    {
     "name": "stdout",
     "output_type": "stream",
     "text": [
      "nChan: 1, nFileSamp: 30369867\n"
     ]
    }
   ],
   "source": [
    "ephys.BehaviorSync.populate(key)"
   ]
  },
  {
   "cell_type": "code",
   "execution_count": 6,
   "metadata": {},
   "outputs": [
    {
     "name": "stdout",
     "output_type": "stream",
     "text": [
      "sum_iterationtrans 470788.0\n",
      "sum_iterationtrans 470788.0\n"
     ]
    }
   ],
   "source": [
    "ephys.CuratedClustersIteration.populate(key)"
   ]
  },
  {
   "cell_type": "markdown",
   "metadata": {},
   "source": [
    "This allows to plot neuronal responses responses. Here is an example"
   ]
  },
  {
   "cell_type": "code",
   "execution_count": 7,
   "metadata": {},
   "outputs": [
    {
     "data": {
      "text/html": [
       "\n",
       "    \n",
       "    <style type=\"text/css\">\n",
       "        .Relation{\n",
       "            border-collapse:collapse;\n",
       "        }\n",
       "        .Relation th{\n",
       "            background: #A0A0A0; color: #ffffff; padding:4px; border:#f0e0e0 1px solid;\n",
       "            font-weight: normal; font-family: monospace; font-size: 100%;\n",
       "        }\n",
       "        .Relation td{\n",
       "            padding:4px; border:#f0e0e0 1px solid; font-size:100%;\n",
       "        }\n",
       "        .Relation tr:nth-child(odd){\n",
       "            background: #ffffff;\n",
       "        }\n",
       "        .Relation tr:nth-child(even){\n",
       "            background: #f3f1ff;\n",
       "        }\n",
       "        /* Tooltip container */\n",
       "        .djtooltip {\n",
       "        }\n",
       "        /* Tooltip text */\n",
       "        .djtooltip .djtooltiptext {\n",
       "            visibility: hidden;\n",
       "            width: 120px;\n",
       "            background-color: black;\n",
       "            color: #fff;\n",
       "            text-align: center;\n",
       "            padding: 5px 0;\n",
       "            border-radius: 6px;\n",
       "            /* Position the tooltip text - see examples below! */\n",
       "            position: absolute;\n",
       "            z-index: 1;\n",
       "        }\n",
       "        #primary {\n",
       "            font-weight: bold;\n",
       "            color: black;\n",
       "        }\n",
       "        #nonprimary {\n",
       "            font-weight: normal;\n",
       "            color: white;\n",
       "        }\n",
       "\n",
       "        /* Show the tooltip text when you mouse over the tooltip container */\n",
       "        .djtooltip:hover .djtooltiptext {\n",
       "            visibility: visible;\n",
       "        }\n",
       "    </style>\n",
       "    \n",
       "    <b></b>\n",
       "        <div style=\"max-height:1000px;max-width:1500px;overflow:auto;\">\n",
       "        <table border=\"1\" class=\"Relation\">\n",
       "            <thead> <tr style=\"text-align: right;\"> <th> <div class=\"djtooltip\">\n",
       "                            <p id=\"primary\">subject_fullname</p>\n",
       "                            <span class=\"djtooltiptext\">username_mouse_nickname</span>\n",
       "                        </div></th><th><div class=\"djtooltip\">\n",
       "                            <p id=\"primary\">session_date</p>\n",
       "                            <span class=\"djtooltiptext\">date of experiment</span>\n",
       "                        </div></th><th><div class=\"djtooltip\">\n",
       "                            <p id=\"primary\">session_number</p>\n",
       "                            <span class=\"djtooltiptext\">number</span>\n",
       "                        </div></th><th><div class=\"djtooltip\">\n",
       "                            <p id=\"primary\">insertion_number</p>\n",
       "                            <span class=\"djtooltiptext\"></span>\n",
       "                        </div></th><th><div class=\"djtooltip\">\n",
       "                            <p id=\"primary\">paramset_idx</p>\n",
       "                            <span class=\"djtooltiptext\"></span>\n",
       "                        </div></th><th><div class=\"djtooltip\">\n",
       "                            <p id=\"primary\">curation_id</p>\n",
       "                            <span class=\"djtooltiptext\"></span>\n",
       "                        </div></th><th><div class=\"djtooltip\">\n",
       "                            <p id=\"primary\">unit</p>\n",
       "                            <span class=\"djtooltiptext\"></span>\n",
       "                        </div></th><th><div class=\"djtooltip\">\n",
       "                            <p id=\"nonprimary\">spike_counts_iteration</p>\n",
       "                            <span class=\"djtooltiptext\">number of spikes during each iteration. have length as the number of iterations - 1</span>\n",
       "                        </div></th><th><div class=\"djtooltip\">\n",
       "                            <p id=\"nonprimary\">firing_rate_before_first_iteration</p>\n",
       "                            <span class=\"djtooltiptext\"></span>\n",
       "                        </div></th><th><div class=\"djtooltip\">\n",
       "                            <p id=\"nonprimary\">firing_rate_after_last_iteration</p>\n",
       "                            <span class=\"djtooltiptext\"></span>\n",
       "                        </div> </th> </tr> </thead>\n",
       "            <tbody> <tr> <td>ms81_M005</td>\n",
       "<td>2021-05-05</td>\n",
       "<td>0</td>\n",
       "<td>0</td>\n",
       "<td>0</td>\n",
       "<td>1</td>\n",
       "<td>7</td>\n",
       "<td>=BLOB=</td>\n",
       "<td>0.32816</td>\n",
       "<td>3.72292</td></tr><tr><td>ms81_M005</td>\n",
       "<td>2021-05-05</td>\n",
       "<td>0</td>\n",
       "<td>1</td>\n",
       "<td>0</td>\n",
       "<td>1</td>\n",
       "<td>7</td>\n",
       "<td>=BLOB=</td>\n",
       "<td>6.21316</td>\n",
       "<td>2.39695</td> </tr> </tbody>\n",
       "        </table>\n",
       "        \n",
       "        <p>Total: 2</p></div>\n",
       "        "
      ],
      "text/plain": [
       "*subject_fulln *session_date  *session_numbe *insertion_num *paramset_idx  *curation_id   *unit    spike_coun firing_rate_be firing_rate_af\n",
       "+------------+ +------------+ +------------+ +------------+ +------------+ +------------+ +------+ +--------+ +------------+ +------------+\n",
       "ms81_M005      2021-05-05     0              0              0              1              7        =BLOB=     0.32816        3.72292       \n",
       "ms81_M005      2021-05-05     0              1              0              1              7        =BLOB=     6.21316        2.39695       \n",
       " (Total: 2)"
      ]
     },
     "execution_count": 7,
     "metadata": {},
     "output_type": "execute_result"
    }
   ],
   "source": [
    "ephys.CuratedClustersIteration.Unit & key & 'unit = 7'"
   ]
  },
  {
   "cell_type": "code",
   "execution_count": 8,
   "metadata": {},
   "outputs": [
    {
     "data": {
      "text/html": [
       "\n",
       "    \n",
       "    <style type=\"text/css\">\n",
       "        .Relation{\n",
       "            border-collapse:collapse;\n",
       "        }\n",
       "        .Relation th{\n",
       "            background: #A0A0A0; color: #ffffff; padding:4px; border:#f0e0e0 1px solid;\n",
       "            font-weight: normal; font-family: monospace; font-size: 100%;\n",
       "        }\n",
       "        .Relation td{\n",
       "            padding:4px; border:#f0e0e0 1px solid; font-size:100%;\n",
       "        }\n",
       "        .Relation tr:nth-child(odd){\n",
       "            background: #ffffff;\n",
       "        }\n",
       "        .Relation tr:nth-child(even){\n",
       "            background: #f3f1ff;\n",
       "        }\n",
       "        /* Tooltip container */\n",
       "        .djtooltip {\n",
       "        }\n",
       "        /* Tooltip text */\n",
       "        .djtooltip .djtooltiptext {\n",
       "            visibility: hidden;\n",
       "            width: 120px;\n",
       "            background-color: black;\n",
       "            color: #fff;\n",
       "            text-align: center;\n",
       "            padding: 5px 0;\n",
       "            border-radius: 6px;\n",
       "            /* Position the tooltip text - see examples below! */\n",
       "            position: absolute;\n",
       "            z-index: 1;\n",
       "        }\n",
       "        #primary {\n",
       "            font-weight: bold;\n",
       "            color: black;\n",
       "        }\n",
       "        #nonprimary {\n",
       "            font-weight: normal;\n",
       "            color: white;\n",
       "        }\n",
       "\n",
       "        /* Show the tooltip text when you mouse over the tooltip container */\n",
       "        .djtooltip:hover .djtooltiptext {\n",
       "            visibility: visible;\n",
       "        }\n",
       "    </style>\n",
       "    \n",
       "    <b></b>\n",
       "        <div style=\"max-height:1000px;max-width:1500px;overflow:auto;\">\n",
       "        <table border=\"1\" class=\"Relation\">\n",
       "            <thead> <tr style=\"text-align: right;\"> <th> <div class=\"djtooltip\">\n",
       "                            <p id=\"primary\">subject_fullname</p>\n",
       "                            <span class=\"djtooltiptext\">username_mouse_nickname</span>\n",
       "                        </div></th><th><div class=\"djtooltip\">\n",
       "                            <p id=\"primary\">session_date</p>\n",
       "                            <span class=\"djtooltiptext\">date of experiment</span>\n",
       "                        </div></th><th><div class=\"djtooltip\">\n",
       "                            <p id=\"primary\">session_number</p>\n",
       "                            <span class=\"djtooltiptext\">number</span>\n",
       "                        </div></th><th><div class=\"djtooltip\">\n",
       "                            <p id=\"nonprimary\">nidq_sampling_rate</p>\n",
       "                            <span class=\"djtooltiptext\">sampling rate of behavioral iterations niSampRate in nidq meta file</span>\n",
       "                        </div></th><th><div class=\"djtooltip\">\n",
       "                            <p id=\"nonprimary\">iteration_index_nidq</p>\n",
       "                            <span class=\"djtooltiptext\">length of this longblob should be the number of iterations in the behavior recording</span>\n",
       "                        </div></th><th><div class=\"djtooltip\">\n",
       "                            <p id=\"nonprimary\">trial_index_nidq</p>\n",
       "                            <span class=\"djtooltiptext\">length of this longblob should be the number of iterations in the behavior recording</span>\n",
       "                        </div> </th> </tr> </thead>\n",
       "            <tbody> <tr> <td>ms81_M005</td>\n",
       "<td>2021-05-05</td>\n",
       "<td>0</td>\n",
       "<td>5000.07</td>\n",
       "<td>=BLOB=</td>\n",
       "<td>=BLOB=</td> </tr> </tbody>\n",
       "        </table>\n",
       "        \n",
       "        <p>Total: 1</p></div>\n",
       "        "
      ],
      "text/plain": [
       "*subject_fulln *session_date  *session_numbe nidq_sampling_ iteration_ trial_inde\n",
       "+------------+ +------------+ +------------+ +------------+ +--------+ +--------+\n",
       "ms81_M005      2021-05-05     0              5000.07        =BLOB=     =BLOB=    \n",
       " (Total: 1)"
      ]
     },
     "execution_count": 8,
     "metadata": {},
     "output_type": "execute_result"
    }
   ],
   "source": [
    "ephys.BehaviorSync() & key"
   ]
  },
  {
   "cell_type": "code",
   "execution_count": 9,
   "metadata": {},
   "outputs": [],
   "source": [
    "spikes = (ephys.CuratedClustersIteration.Unit & key & 'insertion_number = 0' & 'unit = 7').fetch1('spike_counts_iteration')\n",
    "\n",
    "behavior = dj.create_virtual_module('subject', 'u19_behavior')\n",
    "pos, time = (behavior.TowersBlock().Trial() & key).fetch('position', 'trial_time')\n",
    "\n",
    "position_at_each_iteration = []\n",
    "for trial in range(len(pos)):\n",
    "    pp = pos[trial][:,1]\n",
    "    snip = np.zeros(len(time[trial]))*np.NaN\n",
    "    snip[0:len(pp)] = pp\n",
    "    position_at_each_iteration = np.append(position_at_each_iteration, snip)"
   ]
  },
  {
   "cell_type": "code",
   "execution_count": 10,
   "metadata": {},
   "outputs": [
    {
     "data": {
      "text/plain": [
       "(470787,)"
      ]
     },
     "execution_count": 10,
     "metadata": {},
     "output_type": "execute_result"
    }
   ],
   "source": [
    "spikes.shape"
   ]
  },
  {
   "cell_type": "code",
   "execution_count": 11,
   "metadata": {},
   "outputs": [
    {
     "data": {
      "text/plain": [
       "[<matplotlib.lines.Line2D at 0x1ef095729c8>]"
      ]
     },
     "execution_count": 11,
     "metadata": {},
     "output_type": "execute_result"
    },
    {
     "data": {
      "image/png": "[encoded data removed]",
      "text/plain": [
       "<Figure size 1080x360 with 2 Axes>"
      ]
     },
     "metadata": {
      "needs_background": "light"
     },
     "output_type": "display_data"
    }
   ],
   "source": [
    "pl.figure(figsize=(15,5))\n",
    "pl.subplot(1,2,1)\n",
    "pl.plot(spikes)\n",
    "pl.plot(position_at_each_iteration/50)\n",
    "pl.ylim([0,10])\n",
    "pl.xlim([0,30000])\n",
    "\n",
    "pl.subplot(1,2,2)\n",
    "pl.plot(position_at_each_iteration, spikes, '.')"
   ]
  },
  {
   "cell_type": "markdown",
   "metadata": {},
   "source": [
    "TODO: \n",
    "    - Sync table under ephys module.\n",
    "    - Unit table could contain the clustering results for multiple sorters. U19 team needs to implemnt the workflow for other sorters by overwriting the make function of the table `ephys_element.Clustering`. e.g.\n",
    "    ```\n",
    "    def ironclust_make(key):\n",
    "    if (ephys_element.ClusteringMethod & key).fetch1('clustering_method') != 'ironclust':\n",
    "        return\n",
    "    pass\n",
    "    ephys_element.CuratedClustering.make = ironclust_make\n",
    "    ephys_element.CuratedClustering.populate()\n",
    "    ```"
   ]
  },
  {
   "cell_type": "code",
   "execution_count": 12,
   "metadata": {},
   "outputs": [],
   "source": [
    "        nidq_sampling_rate, iteration_index_nidq = \\\n",
    "            (ephys.BehaviorSync * ephys.BehaviorSync.ImecSamplingRate & key).fetch(\n",
    "                'nidq_sampling_rate', 'iteration_index_nidq')"
   ]
  },
  {
   "cell_type": "code",
   "execution_count": 14,
   "metadata": {},
   "outputs": [
    {
     "data": {
      "text/plain": [
       "(30369867,)"
      ]
     },
     "execution_count": 14,
     "metadata": {},
     "output_type": "execute_result"
    }
   ],
   "source": [
    "iteration_index_nidq[0].shape"
   ]
  },
  {
   "cell_type": "code",
   "execution_count": null,
   "metadata": {},
   "outputs": [],
   "source": []
  }
 ],
 "metadata": {
  "interpreter": {
   "hash": "ad2050938946b9745fdc6507c7561603613194cae6ce583d2036ae212150e70f"
  },
  "jupytext": {
   "encoding": "# -*- coding: utf-8 -*-"
  },
  "kernelspec": {
   "display_name": "Python 3",
   "language": "python",
   "name": "python3"
  },
  "language_info": {
   "codemirror_mode": {
    "name": "ipython",
    "version": 3
   },
   "file_extension": ".py",
   "mimetype": "text/x-python",
   "name": "python",
   "nbconvert_exporter": "python",
   "pygments_lexer": "ipython3",
   "version": "3.7.10"
  }
 },
 "nbformat": 4,
 "nbformat_minor": 2
}
