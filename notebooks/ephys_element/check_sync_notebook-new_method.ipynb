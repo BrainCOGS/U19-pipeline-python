{
 "cells": [
  {
   "cell_type": "markdown",
   "metadata": {},
   "source": [
    "# Check sync process"
   ]
  },
  {
   "cell_type": "code",
   "execution_count": 1,
   "metadata": {},
   "outputs": [
    {
     "name": "stdout",
     "output_type": "stream",
     "text": [
      "Local configuration file found !!, no need to run the configuration (unless configuration has changed)\n"
     ]
    }
   ],
   "source": [
    "from scripts.conf_file_finding import try_find_conf_file\n",
    "try_find_conf_file()"
   ]
  },
  {
   "cell_type": "code",
   "execution_count": 2,
   "metadata": {},
   "outputs": [
    {
     "name": "stdout",
     "output_type": "stream",
     "text": [
      "Connecting alvaros@datajoint00.pni.princeton.edu:3306\n"
     ]
    }
   ],
   "source": [
    "import datetime\n",
    "import pathlib\n",
    "import numpy as np\n",
    "import pylab as pl\n",
    "import matplotlib\n",
    "import matplotlib.pyplot as plt\n",
    "from scipy.signal import find_peaks\n",
    "\n",
    "\n",
    "from u19_pipeline import acquisition, ephys\n",
    "from u19_pipeline.ephys import ephys_element, probe_element, get_session_directory\n",
    "import u19_pipeline.ephys as ephys\n",
    "import u19_pipeline.acquisition as acquisition\n",
    "import datajoint as dj\n",
    "\n",
    "import u19_pipeline.utils.DemoReadSGLXData.readSGLX as readSGLX\n",
    "import u19_pipeline.utils.ephys_utils as ephys_utils\n",
    "from bitstring import BitArray"
   ]
  },
  {
   "cell_type": "code",
   "execution_count": 3,
   "metadata": {},
   "outputs": [
    {
     "data": {
      "text/plain": [
       "{'subject_fullname': 'testuser_test70',\n",
       " 'session_date': datetime.date(2021, 10, 12),\n",
       " 'session_number': 0}"
      ]
     },
     "execution_count": 3,
     "metadata": {},
     "output_type": "execute_result"
    }
   ],
   "source": [
    "key = {\n",
    "    'subject_fullname': 'testuser_test70',\n",
    "    'session_date': datetime.date(2021, 10, 12)}\n",
    "\n",
    "\n",
    "key = (acquisition.Session & key).fetch1('KEY')\n",
    "key"
   ]
  },
  {
   "cell_type": "markdown",
   "metadata": {},
   "source": [
    "The module ephys_element contains all the tables designed in the DataJoint ephys element, we could draw the diagram to see the schema structures"
   ]
  },
  {
   "cell_type": "markdown",
   "metadata": {},
   "source": [
    "# Synchronize ePhys and Behavior"
   ]
  },
  {
   "cell_type": "markdown",
   "metadata": {},
   "source": [
    "Populate the tables, using the nidaq file produced by spikeGLX. This is done automatically and produces a record of VR iteration numbers measured in the time of the ePhys setup."
   ]
  },
  {
   "cell_type": "code",
   "execution_count": null,
   "metadata": {},
   "outputs": [],
   "source": [
    "ephys.BehaviorSync()"
   ]
  },
  {
   "cell_type": "code",
   "execution_count": null,
   "metadata": {},
   "outputs": [],
   "source": [
    "#ephys.BehaviorSync.populate(key)"
   ]
  },
  {
   "cell_type": "code",
   "execution_count": null,
   "metadata": {},
   "outputs": [],
   "source": [
    "(ephys.BehaviorSync & key).delete()"
   ]
  },
  {
   "cell_type": "code",
   "execution_count": null,
   "metadata": {},
   "outputs": [],
   "source": [
    "ephys.EphysSession()"
   ]
  },
  {
   "cell_type": "markdown",
   "metadata": {},
   "source": [
    "### Read nidaq file and behavior data"
   ]
  },
  {
   "cell_type": "code",
   "execution_count": null,
   "metadata": {},
   "outputs": [],
   "source": [
    "session_dir = pathlib.Path(get_session_directory(key))\n",
    "nidq_bin_full_path = list(session_dir.glob('*nidq.bin*'))[0]\n",
    "\n",
    "#Nidaq file\n",
    "nidq_meta          = readSGLX.readMeta(nidq_bin_full_path)\n",
    "nidq_sampling_rate = readSGLX.SampRate(nidq_meta)\n",
    "digital_array      = ephys_utils.spice_glx_utility.load_spice_glx_digital_file(nidq_bin_full_path, nidq_meta)\n",
    "\n",
    "#Behavior data\n",
    "behavior = dj.create_virtual_module('behavior', 'u19_behavior')\n",
    "thissession = behavior.TowersBlock().Trial() & key\n",
    "behavior_time, iterstart = thissession.fetch('trial_time', 'vi_start')\n"
   ]
  },
  {
   "cell_type": "code",
   "execution_count": null,
   "metadata": {},
   "outputs": [],
   "source": [
    "digital_array.shape"
   ]
  },
  {
   "cell_type": "markdown",
   "metadata": {},
   "source": [
    "### Get samples and times where trials and iterations start"
   ]
  },
  {
   "cell_type": "code",
   "execution_count": null,
   "metadata": {},
   "outputs": [],
   "source": [
    "iteration_dict = ephys_utils.get_iteration_sample_vector_from_digital_lines_pulses(digital_array[1,:], digital_array[2,:], nidq_sampling_rate)\n",
    "iteration_dict"
   ]
  },
  {
   "cell_type": "markdown",
   "metadata": {},
   "source": [
    "### Assert number of trials and iterations"
   ]
  },
  {
   "cell_type": "code",
   "execution_count": null,
   "metadata": {},
   "outputs": [],
   "source": [
    "status = ephys_utils.assert_iteration_samples_count(iteration_dict['iter_start_idx'], behavior_time)\n",
    "status"
   ]
  },
  {
   "cell_type": "markdown",
   "metadata": {},
   "source": [
    "### Plot time differences between behavior file and nidaq time"
   ]
  },
  {
   "cell_type": "code",
   "execution_count": null,
   "metadata": {},
   "outputs": [],
   "source": [
    "x = np.array([])\n",
    "for i in range(iteration_dict['iter_times_idx'].shape[0]):\n",
    "    s = behavior_time[i].flatten()-iteration_dict['iter_times_idx'][i]\n",
    "    x = np.append(x,s, axis=0)\n",
    "\n",
    "plt.plot(x)"
   ]
  },
  {
   "cell_type": "markdown",
   "metadata": {},
   "source": [
    "### Insert BehaviorSync record"
   ]
  },
  {
   "cell_type": "code",
   "execution_count": null,
   "metadata": {},
   "outputs": [],
   "source": [
    "final_key = dict(key, nidq_sampling_rate = nidq_sampling_rate, \n",
    "               iteration_index_nidq = iteration_dict['framenumber_vector_samples'],\n",
    "               trial_index_nidq = iteration_dict['trialnumber_vector_samples'])\n",
    "final_key\n",
    "ephys.BehaviorSync.insert1(final_key,allow_direct_insert=True)\n"
   ]
  },
  {
   "cell_type": "markdown",
   "metadata": {},
   "source": [
    "Once the synchronization files have been produces, the all Clusters/spikes can be binned into iterations."
   ]
  },
  {
   "cell_type": "code",
   "execution_count": 5,
   "metadata": {},
   "outputs": [
    {
     "name": "stdout",
     "output_type": "stream",
     "text": [
      "nChan: 1, nFileSamp: 1453278\n",
      "7\n",
      "7\n",
      "1355\n",
      "1355\n",
      "2269\n",
      "2269\n",
      "4961\n",
      "4961\n",
      "2891\n",
      "2891\n",
      "1044\n",
      "1044\n",
      "2226\n",
      "2226\n",
      "2701\n",
      "2701\n",
      "True\n",
      "{'subject_fullname': 'testuser_test70', 'session_date': datetime.date(2021, 10, 12), 'session_number': 0, 'nidq_sampling_rate': 5000.062709, 'iteration_index_nidq': array([nan, nan, nan, ..., nan, nan, nan]), 'trial_index_nidq': array([nan, nan, nan, ..., nan, nan, nan])}\n"
     ]
    }
   ],
   "source": [
    "ephys.BehaviorSync.populate(key)"
   ]
  },
  {
   "cell_type": "code",
   "execution_count": 6,
   "metadata": {},
   "outputs": [
    {
     "data": {
      "text/html": [
       "\n",
       "    \n",
       "    <style type=\"text/css\">\n",
       "        .Relation{\n",
       "            border-collapse:collapse;\n",
       "        }\n",
       "        .Relation th{\n",
       "            background: #A0A0A0; color: #ffffff; padding:4px; border:#f0e0e0 1px solid;\n",
       "            font-weight: normal; font-family: monospace; font-size: 100%;\n",
       "        }\n",
       "        .Relation td{\n",
       "            padding:4px; border:#f0e0e0 1px solid; font-size:100%;\n",
       "        }\n",
       "        .Relation tr:nth-child(odd){\n",
       "            background: #ffffff;\n",
       "        }\n",
       "        .Relation tr:nth-child(even){\n",
       "            background: #f3f1ff;\n",
       "        }\n",
       "        /* Tooltip container */\n",
       "        .djtooltip {\n",
       "        }\n",
       "        /* Tooltip text */\n",
       "        .djtooltip .djtooltiptext {\n",
       "            visibility: hidden;\n",
       "            width: 120px;\n",
       "            background-color: black;\n",
       "            color: #fff;\n",
       "            text-align: center;\n",
       "            padding: 5px 0;\n",
       "            border-radius: 6px;\n",
       "            /* Position the tooltip text - see examples below! */\n",
       "            position: absolute;\n",
       "            z-index: 1;\n",
       "        }\n",
       "        #primary {\n",
       "            font-weight: bold;\n",
       "            color: black;\n",
       "        }\n",
       "        #nonprimary {\n",
       "            font-weight: normal;\n",
       "            color: white;\n",
       "        }\n",
       "\n",
       "        /* Show the tooltip text when you mouse over the tooltip container */\n",
       "        .djtooltip:hover .djtooltiptext {\n",
       "            visibility: visible;\n",
       "        }\n",
       "    </style>\n",
       "    \n",
       "    <b></b>\n",
       "        <div style=\"max-height:1000px;max-width:1500px;overflow:auto;\">\n",
       "        <table border=\"1\" class=\"Relation\">\n",
       "            <thead> <tr style=\"text-align: right;\"> <th> <div class=\"djtooltip\">\n",
       "                            <p id=\"primary\">subject_fullname</p>\n",
       "                            <span class=\"djtooltiptext\">username_mouse_nickname</span>\n",
       "                        </div></th><th><div class=\"djtooltip\">\n",
       "                            <p id=\"primary\">session_date</p>\n",
       "                            <span class=\"djtooltiptext\">date of experiment</span>\n",
       "                        </div></th><th><div class=\"djtooltip\">\n",
       "                            <p id=\"primary\">session_number</p>\n",
       "                            <span class=\"djtooltiptext\">number</span>\n",
       "                        </div></th><th><div class=\"djtooltip\">\n",
       "                            <p id=\"nonprimary\">nidq_sampling_rate</p>\n",
       "                            <span class=\"djtooltiptext\">sampling rate of behavioral iterations niSampRate in nidq meta file</span>\n",
       "                        </div></th><th><div class=\"djtooltip\">\n",
       "                            <p id=\"nonprimary\">iteration_index_nidq</p>\n",
       "                            <span class=\"djtooltiptext\">length of this longblob should be the number of iterations in the behavior recording</span>\n",
       "                        </div></th><th><div class=\"djtooltip\">\n",
       "                            <p id=\"nonprimary\">trial_index_nidq</p>\n",
       "                            <span class=\"djtooltiptext\">length of this longblob should be the number of iterations in the behavior recording</span>\n",
       "                        </div> </th> </tr> </thead>\n",
       "            <tbody> <tr> <td>hnieh_E105</td>\n",
       "<td>2021-01-15</td>\n",
       "<td>0</td>\n",
       "<td>5000.08</td>\n",
       "<td>=BLOB=</td>\n",
       "<td>=BLOB=</td></tr><tr><td>ms81_M004</td>\n",
       "<td>2021-05-07</td>\n",
       "<td>0</td>\n",
       "<td>5000.06</td>\n",
       "<td>=BLOB=</td>\n",
       "<td>=BLOB=</td></tr><tr><td>ms81_M005</td>\n",
       "<td>2021-05-05</td>\n",
       "<td>0</td>\n",
       "<td>5000.07</td>\n",
       "<td>=BLOB=</td>\n",
       "<td>=BLOB=</td></tr><tr><td>testuser_test70</td>\n",
       "<td>2021-10-12</td>\n",
       "<td>0</td>\n",
       "<td>5000.06</td>\n",
       "<td>=BLOB=</td>\n",
       "<td>=BLOB=</td> </tr> </tbody>\n",
       "        </table>\n",
       "        \n",
       "        <p>Total: 4</p></div>\n",
       "        "
      ],
      "text/plain": [
       "*subject_fulln *session_date  *session_numbe nidq_sampling_ iteration_ trial_inde\n",
       "+------------+ +------------+ +------------+ +------------+ +--------+ +--------+\n",
       "hnieh_E105     2021-01-15     0              5000.08        =BLOB=     =BLOB=    \n",
       "ms81_M004      2021-05-07     0              5000.06        =BLOB=     =BLOB=    \n",
       "ms81_M005      2021-05-05     0              5000.07        =BLOB=     =BLOB=    \n",
       "testuser_test7 2021-10-12     0              5000.06        =BLOB=     =BLOB=    \n",
       " (Total: 4)"
      ]
     },
     "execution_count": 6,
     "metadata": {},
     "output_type": "execute_result"
    }
   ],
   "source": [
    "ephys.BehaviorSync()"
   ]
  },
  {
   "cell_type": "code",
   "execution_count": null,
   "metadata": {},
   "outputs": [],
   "source": []
  }
 ],
 "metadata": {
  "interpreter": {
   "hash": "ad2050938946b9745fdc6507c7561603613194cae6ce583d2036ae212150e70f"
  },
  "jupytext": {
   "encoding": "# -*- coding: utf-8 -*-"
  },
  "kernelspec": {
   "display_name": "Python 3",
   "language": "python",
   "name": "python3"
  },
  "language_info": {
   "codemirror_mode": {
    "name": "ipython",
    "version": 3
   },
   "file_extension": ".py",
   "mimetype": "text/x-python",
   "name": "python",
   "nbconvert_exporter": "python",
   "pygments_lexer": "ipython3",
   "version": "3.7.10"
  }
 },
 "nbformat": 4,
 "nbformat_minor": 2
}
