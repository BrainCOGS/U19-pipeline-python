{
 "cells": [
  {
   "cell_type": "code",
   "execution_count": 1,
   "metadata": {},
   "outputs": [
    {
     "name": "stdout",
     "output_type": "stream",
     "text": [
      "Local configuration file found !!, no need to run the configuration (unless configuration has changed)\n"
     ]
    }
   ],
   "source": [
    "from scripts.conf_file_finding import try_find_conf_file\n",
    "try_find_conf_file()"
   ]
  },
  {
   "cell_type": "code",
   "execution_count": 2,
   "metadata": {},
   "outputs": [
    {
     "name": "stderr",
     "output_type": "stream",
     "text": [
      "[2025-05-23 10:13:01,096][INFO]: Connecting alvaros@datajoint00.pni.princeton.edu:3306\n",
      "[2025-05-23 10:13:02,844][INFO]: Connected alvaros@datajoint00.pni.princeton.edu:3306\n"
     ]
    }
   ],
   "source": [
    "import numpy as np\n",
    "import u19_pipeline.ephys_pipeline as ep\n"
   ]
  },
  {
   "cell_type": "code",
   "execution_count": null,
   "metadata": {},
   "outputs": [],
   "source": [
    "recs2 = (ep.BehaviorSync).fetch('recording_id', as_dict=True)\n",
    "bad_Sessions = list()\n",
    "for i in recs2:\n",
    "    s = (ep.BehaviorSync & i).fetch(as_dict=True)\n",
    "    if np.all(np.isnan(s[0]['trial_index_nidq'])):\n",
    "        bad_Sessions.append(i)"
   ]
  },
  {
   "cell_type": "code",
   "execution_count": 3,
   "metadata": {},
   "outputs": [],
   "source": [
    "recs2 = (ep.BehaviorSync).fetch('recording_id', as_dict=True)"
   ]
  },
  {
   "cell_type": "code",
   "execution_count": null,
   "metadata": {},
   "outputs": [],
   "source": [
    "443"
   ]
  },
  {
   "cell_type": "code",
   "execution_count": 5,
   "metadata": {},
   "outputs": [],
   "source": [
    "missing_recs = []\n",
    "for i in range(450,457):\n",
    "    dicto = {}\n",
    "    dicto['recording_id'] = i\n",
    "    missing_recs.append(dicto)"
   ]
  },
  {
   "cell_type": "code",
   "execution_count": 5,
   "metadata": {},
   "outputs": [
    {
     "name": "stdout",
     "output_type": "stream",
     "text": [
      "Deleting 0 rows from `u19_ephys_pipeline`.`_behavior_sync`\n",
      "Nothing to delete.\n"
     ]
    },
    {
     "data": {
      "text/plain": [
       "0"
      ]
     },
     "execution_count": 5,
     "metadata": {},
     "output_type": "execute_result"
    }
   ],
   "source": [
    "(ep.BehaviorSync & bad_Sessions).delete()"
   ]
  },
  {
   "cell_type": "code",
   "execution_count": 7,
   "metadata": {},
   "outputs": [
    {
     "name": "stdout",
     "output_type": "stream",
     "text": [
      "{'recording_id': 450}\n",
      "/Volumes/braininit/Data/Raw/electrophysiology/jk8386/jk8386_jk71/20250417_g0/jk71_04172025_g0\n",
      "{'recording_id': 450}\n",
      "{'subject_fullname': 'jk8386_jk71', 'session_date': datetime.date(2025, 4, 17), 'session_number': 0}\n",
      "Inaccessible local directory /Volumes/u19_dj/external_dj_blobs\n",
      "{'recording_id': 451}\n",
      "/Volumes/braininit/Data/Raw/electrophysiology/jk8386/jk8386_jk71/20250418_g0/jk71_04182025_g0\n",
      "{'recording_id': 451}\n",
      "{'subject_fullname': 'jk8386_jk71', 'session_date': datetime.date(2025, 4, 18), 'session_number': 0}\n",
      "Inaccessible local directory /Volumes/u19_dj/external_dj_blobs\n",
      "{'recording_id': 452}\n",
      "/Volumes/braininit/Data/Raw/electrophysiology/jk8386/jk8386_jk71/20250404_g0/jk71_04042025_g0\n",
      "{'recording_id': 452}\n",
      "{'subject_fullname': 'jk8386_jk71', 'session_date': datetime.date(2025, 4, 4), 'session_number': 0}\n",
      "Inaccessible local directory /Volumes/u19_dj/external_dj_blobs\n",
      "{'recording_id': 453}\n",
      "/Volumes/braininit/Data/Raw/electrophysiology/jk8386/jk8386_jk71/20250424_g0/jk71_04242025_g0\n",
      "{'recording_id': 453}\n",
      "{'subject_fullname': 'jk8386_jk71', 'session_date': datetime.date(2025, 4, 24), 'session_number': 0}\n",
      "Inaccessible local directory /Volumes/u19_dj/external_dj_blobs\n",
      "{'recording_id': 454}\n",
      "/Volumes/braininit/Data/Raw/electrophysiology/jk8386/jk8386_jk71/20250425_g0/jk71_04252025_g0\n",
      "{'recording_id': 454}\n",
      "{'subject_fullname': 'jk8386_jk71', 'session_date': datetime.date(2025, 4, 25), 'session_number': 0}\n",
      "Inaccessible local directory /Volumes/u19_dj/external_dj_blobs\n",
      "{'recording_id': 455}\n",
      "/Volumes/braininit/Data/Raw/electrophysiology/jk8386/jk8386_jk71/20250428_g0/jk71_04282025_g0\n",
      "{'recording_id': 455}\n",
      "{'subject_fullname': 'jk8386_jk71', 'session_date': datetime.date(2025, 4, 28), 'session_number': 0}\n",
      "Inaccessible local directory /Volumes/u19_dj/external_dj_blobs\n",
      "{'recording_id': 456}\n",
      "/Volumes/braininit/Data/Raw/electrophysiology/jk8386/jk8386_jk71/20250429_g0/jk71_04292025_g0\n",
      "{'recording_id': 456}\n",
      "{'subject_fullname': 'jk8386_jk71', 'session_date': datetime.date(2025, 4, 29), 'session_number': 0}\n",
      "len iterstart 210\n",
      "after reading behavior data\n",
      "module 'numpy' has no attribute 'float'.\n",
      "`np.float` was a deprecated alias for the builtin `float`. To avoid this error in existing code, use `float` by itself. Doing this will not modify any behavior and is safe. If you specifically wanted the numpy scalar type, use `np.float64` here.\n",
      "The aliases was originally deprecated in NumPy 1.20; for more details and guidance see the original release note at:\n",
      "    https://numpy.org/devdocs/release/1.20.0-notes.html#deprecations\n"
     ]
    },
    {
     "data": {
      "text/plain": [
       "{'success_count': 7, 'error_list': []}"
      ]
     },
     "execution_count": 7,
     "metadata": {},
     "output_type": "execute_result"
    }
   ],
   "source": [
    "ep.BehaviorSync.populate(missing_recs)"
   ]
  },
  {
   "cell_type": "code",
   "execution_count": null,
   "metadata": {},
   "outputs": [],
   "source": []
  }
 ],
 "metadata": {
  "jupytext": {
   "encoding": "# -*- coding: utf-8 -*-"
  },
  "kernelspec": {
   "display_name": "u19_datajoint_py39_env",
   "language": "python",
   "name": "python3"
  },
  "language_info": {
   "codemirror_mode": {
    "name": "ipython",
    "version": 3
   },
   "file_extension": ".py",
   "mimetype": "text/x-python",
   "name": "python",
   "nbconvert_exporter": "python",
   "pygments_lexer": "ipython3",
   "version": "3.9.12"
  }
 },
 "nbformat": 4,
 "nbformat_minor": 2
}
