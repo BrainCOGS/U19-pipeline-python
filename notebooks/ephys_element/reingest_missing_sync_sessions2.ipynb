{
 "cells": [
  {
   "cell_type": "code",
   "execution_count": 1,
   "metadata": {},
   "outputs": [
    {
     "name": "stdout",
     "output_type": "stream",
     "text": [
      "Local configuration file found !!, no need to run the configuration (unless configuration has changed)\n"
     ]
    }
   ],
   "source": [
    "from scripts.conf_file_finding import try_find_conf_file\n",
    "try_find_conf_file()"
   ]
  },
  {
   "cell_type": "code",
   "execution_count": 2,
   "metadata": {},
   "outputs": [
    {
     "name": "stderr",
     "output_type": "stream",
     "text": [
      "c:\\Users\\MiniVR-8\\miniconda3\\envs\\u19_pipeline_python_env\\Lib\\site-packages\\datajoint\\plugin.py:4: UserWarning: Module scripts was already imported from None, but c:\\experiments\\u19-pipeline-python is being added to sys.path\n",
      "  import pkg_resources\n",
      "[2025-10-13 11:37:08,235][INFO]: DataJoint 0.14.6 connected to u19prod@datajoint00.pni.princeton.edu:3306\n"
     ]
    }
   ],
   "source": [
    "import numpy as np\n",
    "import u19_pipeline.ephys_pipeline as ep\n"
   ]
  },
  {
   "cell_type": "code",
   "execution_count": null,
   "metadata": {},
   "outputs": [],
   "source": [
    "recs2 = (ep.BehaviorSync).fetch('recording_id', as_dict=True)\n",
    "bad_Sessions = list()\n",
    "for i in recs2:\n",
    "    s = (ep.BehaviorSync & i).fetch(as_dict=True)\n",
    "    if np.all(np.isnan(s[0]['trial_index_nidq'])):\n",
    "        bad_Sessions.append(i)"
   ]
  },
  {
   "cell_type": "code",
   "execution_count": null,
   "metadata": {},
   "outputs": [],
   "source": [
    "recs2 = (ep.BehaviorSync).fetch('recording_id', as_dict=True)"
   ]
  },
  {
   "cell_type": "code",
   "execution_count": null,
   "metadata": {},
   "outputs": [],
   "source": [
    "recs2"
   ]
  },
  {
   "cell_type": "code",
   "execution_count": 3,
   "metadata": {},
   "outputs": [],
   "source": [
    "missing_recs = []\n",
    "for i in range(500,502):\n",
    "    dicto = {}\n",
    "    dicto['recording_id'] = i\n",
    "    missing_recs.append(dicto)"
   ]
  },
  {
   "cell_type": "code",
   "execution_count": 4,
   "metadata": {},
   "outputs": [
    {
     "data": {
      "text/plain": [
       "[{'recording_id': 500}, {'recording_id': 501}]"
      ]
     },
     "execution_count": 4,
     "metadata": {},
     "output_type": "execute_result"
    }
   ],
   "source": [
    "missing_recs"
   ]
  },
  {
   "cell_type": "code",
   "execution_count": 5,
   "metadata": {},
   "outputs": [
    {
     "name": "stdout",
     "output_type": "stream",
     "text": [
      "{'recording_id': 500}\n",
      "\\\\cup.pni.princeton.edu\\braininit\\Data\\Raw\\electrophysiology\\jyanar\\jyanar_ya054\\20251011_g0\\ya054_20251011_g0\n",
      "{'recording_id': 500}\n",
      "{'subject_fullname': 'jyanar_ya054', 'session_date': datetime.date(2025, 10, 11), 'session_number': 0}\n",
      "len iterstart 282\n",
      "after reading behavior data\n",
      "nChan: 4, nFileSamp: 111367791\n",
      "after reading spikeglx data\n",
      "index 2 is out of bounds for axis 0 with size 2\n",
      "{'recording_id': 501}\n",
      "\\\\cup.pni.princeton.edu\\braininit\\Data\\Raw\\electrophysiology\\jyanar\\jyanar_ya054\\20251012_g0\\ya054_20251012_g0\n",
      "{'recording_id': 501}\n",
      "{'subject_fullname': 'jyanar_ya054', 'session_date': datetime.date(2025, 10, 12), 'session_number': 0}\n",
      "len iterstart 266\n",
      "after reading behavior data\n",
      "nChan: 4, nFileSamp: 113704412\n",
      "after reading spikeglx data\n",
      "index 2 is out of bounds for axis 0 with size 2\n"
     ]
    },
    {
     "data": {
      "text/plain": [
       "{'success_count': 2, 'error_list': []}"
      ]
     },
     "execution_count": 5,
     "metadata": {},
     "output_type": "execute_result"
    }
   ],
   "source": [
    "ep.BehaviorSync.populate(missing_recs)"
   ]
  },
  {
   "cell_type": "code",
   "execution_count": null,
   "metadata": {},
   "outputs": [],
   "source": []
  }
 ],
 "metadata": {
  "jupytext": {
   "encoding": "# -*- coding: utf-8 -*-"
  },
  "kernelspec": {
   "display_name": "u19_pipeline_python_env",
   "language": "python",
   "name": "python3"
  },
  "language_info": {
   "codemirror_mode": {
    "name": "ipython",
    "version": 3
   },
   "file_extension": ".py",
   "mimetype": "text/x-python",
   "name": "python",
   "nbconvert_exporter": "python",
   "pygments_lexer": "ipython3",
   "version": "3.12.11"
  }
 },
 "nbformat": 4,
 "nbformat_minor": 2
}
