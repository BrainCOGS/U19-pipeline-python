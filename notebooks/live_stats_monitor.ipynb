{
 "cells": [
  {
   "cell_type": "markdown",
   "metadata": {},
   "source": [
    "# Notebook to generate psychometrics plot given sessions & conditions"
   ]
  },
  {
   "cell_type": "code",
   "execution_count": 1,
   "metadata": {},
   "outputs": [],
   "source": [
    "import datajoint as dj\n",
    "import pandas as pd\n",
    "import numpy as np\n",
    "import pylab as plt\n",
    "import matplotlib.patches as mpatches\n",
    "\n",
    "from matplotlib import cm\n",
    "from u19_pipeline import utility\n",
    "from inspect import getmembers, isfunction\n",
    "from datetime import datetime\n",
    "import u19_pipeline.utils.slack_utils as su\n",
    "import time\n"
   ]
  },
  {
   "cell_type": "markdown",
   "metadata": {},
   "source": [
    "### Datajoint configuration and Connection to DB"
   ]
  },
  {
   "cell_type": "code",
   "execution_count": 2,
   "metadata": {},
   "outputs": [
    {
     "name": "stderr",
     "output_type": "stream",
     "text": [
      "[2025-05-07 21:53:19,490][INFO]: Connecting alvaros@datajoint00.pni.princeton.edu:3306\n",
      "[2025-05-07 21:53:21,238][INFO]: Connected alvaros@datajoint00.pni.princeton.edu:3306\n"
     ]
    },
    {
     "data": {
      "text/plain": [
       "DataJoint connection (connected) alvaros@datajoint00.pni.princeton.edu:3306"
      ]
     },
     "execution_count": 2,
     "metadata": {},
     "output_type": "execute_result"
    }
   ],
   "source": [
    "utility.basic_dj_configuration(dj)\n",
    "dj.conn()"
   ]
  },
  {
   "cell_type": "markdown",
   "metadata": {},
   "source": [
    "## Databases to connect"
   ]
  },
  {
   "cell_type": "code",
   "execution_count": 3,
   "metadata": {},
   "outputs": [],
   "source": [
    "acquisition = dj.create_virtual_module('acquisition', 'u19_acquisition')\n",
    "lab = dj.create_virtual_module('lab', 'u19_lab')\n",
    "subject = dj.create_virtual_module('subject', 'u19_subject')"
   ]
  },
  {
   "cell_type": "code",
   "execution_count": 4,
   "metadata": {},
   "outputs": [],
   "source": [
    "slack_configuration_dictionary = {\n",
    "    'slack_notification_channel': ['alvaro_luna']\n",
    "}\n",
    "webhooks_list = []\n",
    "query_slack_webhooks = [{'webhook_name' : x} for x in slack_configuration_dictionary['slack_notification_channel']]\n",
    "webhooks_list += (lab.SlackWebhooks & query_slack_webhooks).fetch('webhook_url').tolist()"
   ]
  },
  {
   "cell_type": "code",
   "execution_count": 5,
   "metadata": {},
   "outputs": [],
   "source": [
    "def slack_alert_message_format_live_stats(alert_dictionary1, alert_dictionary2, time_no_response):\n",
    "\n",
    "    now = datetime.now()\n",
    "    datestr = now.strftime('%d-%b-%Y %H:%M:%S')\n",
    "\n",
    "    msep = dict()\n",
    "    msep['type'] = \"divider\"\n",
    "\n",
    "    #Title#\n",
    "    m1 = dict()\n",
    "    m1['type'] = 'section'\n",
    "    m1_1 = dict()\n",
    "    m1_1[\"type\"] = \"mrkdwn\"\n",
    "    m1_1[\"text\"] = ':rotating_light: * Live Monitor Alert* on ' + datestr + '\\n' +\\\n",
    "    'More than ' + str(time_no_response) + ' s without new trial' + '\\n'\n",
    "    m1['text'] = m1_1\n",
    "\n",
    "    #Info#\n",
    "    m2 = dict()\n",
    "    m2['type'] = 'section'\n",
    "    m2_1 = dict()\n",
    "    m2_1[\"type\"] = \"mrkdwn\"\n",
    "\n",
    "    m2_1[\"text\"] = '*Session Reported:*' + '\\n'\n",
    "    for key in alert_dictionary1.keys():\n",
    "        m2_1[\"text\"] += '*' + key + '* : ' + str(alert_dictionary1[key]) + '\\n'\n",
    "    m2_1[\"text\"] += '\\n'\n",
    "    m2['text'] = m2_1\n",
    "\n",
    "    m4 = dict()\n",
    "    m4['type'] = 'section'\n",
    "    m4_1 = dict()\n",
    "    m4_1[\"type\"] = \"mrkdwn\"\n",
    "\n",
    "    m4_1[\"text\"] = '*Last Stats Reported*:' + '\\n'\n",
    "    for key in alert_dictionary2.keys():\n",
    "        m4_1[\"text\"] += '*' + key + '* : ' + str(alert_dictionary2[key]) + '\\n'\n",
    "    m4_1[\"text\"] += '\\n'\n",
    "    m4['text'] = m4_1\n",
    "\n",
    "    message = dict()\n",
    "    message['blocks'] = [m1,msep,m2,msep,m4,msep]\n",
    "    message['text'] = 'Live Monitor Alert'\n",
    "\n",
    "    return message"
   ]
  },
  {
   "cell_type": "code",
   "execution_count": null,
   "metadata": {},
   "outputs": [
    {
     "name": "stdout",
     "output_type": "stream",
     "text": [
      "{'Content-Type': 'application/json', 'Content-Length': '184'}\n",
      "{'blocks': [{'type': 'section', 'text': {'type': 'mrkdwn', 'text': ':rotating_light: * Live Monitor Alert* on 07-May-2025 21:59:21\\nMore than 38371 s without new trial\\n'}}, {'type': 'divider'}, {'type': 'section', 'text': {'type': 'mrkdwn', 'text': '*Session Reported:*\\n*researcher* : <@UR05564BH>\\n*subject_fullname* : efonseca_ef559_act121\\n*session_date* : 2025-05-07\\n*session_number* : 0\\n\\n'}}, {'type': 'divider'}, {'type': 'section', 'text': {'type': 'mrkdwn', 'text': '*Last Stats Reported*:\\n*block* : 1\\n*trial_idx* : 278\\n*current_datetime* : 2025-05-07 11:19:50\\n*total_trials* : 276\\n*level* : 3\\n*sublevel* : 1\\n*num_trials_left* : 133\\n*num_trials_right* : 143\\n*performance* : 1.0\\n*performance_right* : 1.0\\n*performance_left* : 1.0\\n*bias* : -0.00052579\\n*mean_duration_trial* : 10.2853\\n*median_duration_trial* : 7.31453\\n*last_time* : 38371.238824\\n*alert* : True\\n\\n'}}, {'type': 'divider'}], 'text': 'Live Monitor Alert'}\n",
      "{'Content-Type': 'application/json', 'Content-Length': '184'}\n",
      "{'blocks': [{'type': 'section', 'text': {'type': 'mrkdwn', 'text': ':rotating_light: * Live Monitor Alert* on 07-May-2025 21:59:22\\nMore than 38344 s without new trial\\n'}}, {'type': 'divider'}, {'type': 'section', 'text': {'type': 'mrkdwn', 'text': '*Session Reported:*\\n*researcher* : <@UR05564BH>\\n*subject_fullname* : efonseca_ef562_act122\\n*session_date* : 2025-05-07\\n*session_number* : 0\\n\\n'}}, {'type': 'divider'}, {'type': 'section', 'text': {'type': 'mrkdwn', 'text': '*Last Stats Reported*:\\n*block* : 1\\n*trial_idx* : 434\\n*current_datetime* : 2025-05-07 11:20:17\\n*total_trials* : 433\\n*level* : 3\\n*sublevel* : 1\\n*num_trials_left* : 218\\n*num_trials_right* : 215\\n*performance* : 0.997691\\n*performance_right* : 0.995349\\n*performance_left* : 1.0\\n*bias* : 4.23735e-05\\n*mean_duration_trial* : 6.23231\\n*median_duration_trial* : 8.51256\\n*last_time* : 38344.238824\\n*alert* : True\\n\\n'}}, {'type': 'divider'}], 'text': 'Live Monitor Alert'}\n"
     ]
    }
   ],
   "source": [
    "# Query today's started sessions that are not finished\n",
    "query = {}\n",
    "query['session_date'] = datetime.today().strftime('%Y-%m-%d')\n",
    "query['is_finished'] = 0\n",
    "\n",
    "sessions = pd.DataFrame((acquisition.SessionStarted & query).fetch('KEY',as_dict=True))\n",
    "sessions = sessions.loc[~sessions['subject_fullname'].str.startswith('testuser'),:]\n",
    "\n",
    "# Query last live stat from the started sessions\n",
    "query_live_stats = sessions.to_dict('records')\n",
    "lss = acquisition.SessionStarted.aggr(acquisition.LiveSessionStats.proj('current_datetime'), current_datetime=\"max(current_datetime)\")\n",
    "live_stats = pd.DataFrame((lss & query_live_stats).fetch(as_dict=True))\n",
    "\n",
    "# If there are any sessions with live stats\n",
    "if live_stats.shape[0] > 0:\n",
    "\n",
    "    # Filter sessions whose last trial info is greater than 300s\n",
    "    live_stats['last_time'] = (datetime.now()- live_stats['current_datetime']).dt.total_seconds()\n",
    "    live_stats['alert'] = live_stats['last_time'] >300\n",
    "    live_stats = live_stats.loc[live_stats['alert']==True,:]\n",
    "\n",
    "    #If there are any sessions to alert (more then 300s)\n",
    "    if live_stats.shape[0] > 0:\n",
    "\n",
    "        #get_session_info to alert (plus slack researcher)\n",
    "        query_live_stats_sessions = live_stats[['subject_fullname', 'session_date', 'session_number']].to_dict('records')\n",
    "\n",
    "        session_data_df = pd.DataFrame(((lab.User.proj('slack') * subject.Subject.proj('user_id') *\\\n",
    "                                    acquisition.SessionStarted.proj('session_location')) & query_live_stats_sessions).fetch(as_dict=True))\n",
    "        \n",
    "        session_data_df = session_data_df.rename({'slack': 'researcher'}, axis=1)\n",
    "        session_data_df['researcher'] = '<@'+ session_data_df['researcher'] + '>'\n",
    "        session_data_df = session_data_df[['researcher', 'subject_fullname', 'session_date', 'session_number']]\n",
    "\n",
    "        #Query full live stat table\n",
    "        session_stats = live_stats.copy()\n",
    "        session_stats = session_stats.rename({'current_datetime': 'last_live_stat'}, axis=1)\n",
    "        query_live_stats = live_stats[['subject_fullname', 'session_date', 'session_number', 'current_datetime']].to_dict('records')\n",
    "        live_stats = live_stats.drop(columns=['current_datetime'])\n",
    "        ls_full_df = pd.DataFrame((acquisition.LiveSessionStats & query_live_stats).fetch(as_dict=True))\n",
    "        ls_full_df = pd.merge(ls_full_df, live_stats, on=['subject_fullname', 'session_date', 'session_number'])\n",
    "        ls_full_df = ls_full_df.drop(columns=['subject_fullname', 'session_date', 'session_number'])\n",
    "        ls_full_df = ls_full_df.rename({'current_dateime': 'last_stat_time'}, axis=1)\n",
    "\n",
    "        mid = ls_full_df['last_stat_time']\n",
    "        ls_full_df = ls_full_df.drop(columns=['last_stat_time'])\n",
    "        ls_full_df.insert(0, 'last_stat_time', mid)\n",
    "\n",
    "        ls_full_dict = ls_full_df.to_dict('records')\n",
    "\n",
    "        # Send one alert per session found\n",
    "        idx_alert = 0\n",
    "        for this_alert_record in ls_full_dict:\n",
    "\n",
    "            #Format message for session and live stat dictionary\n",
    "            this_session_stats = session_data_df.iloc[idx_alert,:]\n",
    "            slack_json_message = slack_alert_message_format_live_stats(this_session_stats.to_dict(), this_alert_record, int(this_alert_record['last_time']))\n",
    "\n",
    "            #Send alert\n",
    "            for this_webhook in webhooks_list:\n",
    "                su.send_slack_notification(this_webhook, slack_json_message)\n",
    "                time.sleep(1)\n",
    "\n",
    "            idx_alert += 1\n",
    "\n",
    "    \n"
   ]
  },
  {
   "cell_type": "code",
   "execution_count": null,
   "metadata": {},
   "outputs": [],
   "source": []
  }
 ],
 "metadata": {
  "kernelspec": {
   "display_name": "u19_datajoint_py311_env",
   "language": "python",
   "name": "python3"
  },
  "language_info": {
   "codemirror_mode": {
    "name": "ipython",
    "version": 3
   },
   "file_extension": ".py",
   "mimetype": "text/x-python",
   "name": "python",
   "nbconvert_exporter": "python",
   "pygments_lexer": "ipython3",
   "version": "3.11.9"
  }
 },
 "nbformat": 4,
 "nbformat_minor": 2
}
