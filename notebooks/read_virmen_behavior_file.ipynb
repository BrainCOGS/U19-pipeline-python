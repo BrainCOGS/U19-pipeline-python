{
 "cells": [
  {
   "cell_type": "code",
   "execution_count": 1,
   "metadata": {},
   "outputs": [
    {
     "name": "stdout",
     "output_type": "stream",
     "text": [
      "Local configuration file found !!, no need to run the configuration (unless configuration has changed)\n"
     ]
    }
   ],
   "source": [
    "from scripts.conf_file_finding import try_find_conf_file\n",
    "try_find_conf_file()"
   ]
  },
  {
   "cell_type": "code",
   "execution_count": 2,
   "metadata": {},
   "outputs": [
    {
     "name": "stdout",
     "output_type": "stream",
     "text": [
      "Connecting alvaros@datajoint00.pni.princeton.edu:3306\n"
     ]
    }
   ],
   "source": [
    "import datajoint as dj\n",
    "import pandas as pd\n",
    "import numpy as np\n",
    "import subprocess\n",
    "import os\n",
    "import pathlib\n",
    "import numpy as np\n",
    "import u19_pipeline.utils.path_utils as pu\n",
    "from sklearn.linear_model import LinearRegression\n",
    "import matplotlib.pyplot as plt\n",
    "import datetime\n",
    "from shutil import which\n",
    "\n",
    "import u19_pipeline.utils.matlab_utils as mu\n",
    "from scipy.io import loadmat, matlab\n",
    "\n",
    "acquisition = dj.create_virtual_module('acquisition', 'u19_acquisition')\n",
    "from u19_pipeline import lab\n"
   ]
  },
  {
   "cell_type": "markdown",
   "metadata": {},
   "source": [
    "## Add MATLAB path to system PATH "
   ]
  },
  {
   "cell_type": "code",
   "execution_count": 3,
   "metadata": {},
   "outputs": [],
   "source": [
    "local_matlab_path = '/Applications/MATLAB_R2020a.app/bin/'\n",
    "if which('matlab') is None:\n",
    "    os.environ['PATH'] += ':'+local_matlab_path"
   ]
  },
  {
   "cell_type": "code",
   "execution_count": 3,
   "metadata": {},
   "outputs": [
    {
     "name": "stdout",
     "output_type": "stream",
     "text": [
      "Matlab command not found, add correct path installation or proceed (Choice &  TrialType data will not be read from the behavior file\n"
     ]
    }
   ],
   "source": [
    "if which('matlab') is None:\n",
    "    print('Matlab command not found, add correct path installation or proceed (Choice &  TrialType data will not be read from the behavior file')\n",
    "else:\n",
    "    print('Matlab installation found !!')"
   ]
  },
  {
   "cell_type": "code",
   "execution_count": 4,
   "metadata": {
    "tags": []
   },
   "outputs": [
    {
     "data": {
      "text/plain": [
       "PosixPath('/Volumes/braininit/Data/Raw/behavior/efonseca/efonseca_ef884_actp003/20211203_g0/LSTT_Levels_FirstMemory_EF_LSTT_Memory_165A-Rig8-T_efonseca_ef884_actp003_T_20211203.mat')"
      ]
     },
     "execution_count": 4,
     "metadata": {},
     "output_type": "execute_result"
    }
   ],
   "source": [
    "subject = 'efonseca_ef884_actp003'\n",
    "date = '2021-12-03'\n",
    "\n",
    "path = (acquisition.SessionStarted & dict(session_date =date, subject_fullname=subject)).fetch1('new_remote_path_behavior_file')\n",
    "\n",
    "\n",
    "mat_file = lab.Path().get_local_path2(path)\n",
    "mat_file"
   ]
  },
  {
   "cell_type": "code",
   "execution_count": 5,
   "metadata": {},
   "outputs": [
    {
     "name": "stdout",
     "output_type": "stream",
     "text": [
      "A working matlab version was not found. Code version, animal protocol, type of trial, and choice could not be saved to NWB.\n",
      "{}\n"
     ]
    },
    {
     "ename": "KeyError",
     "evalue": "'shaping_protocol'",
     "output_type": "error",
     "traceback": [
      "\u001b[0;31m---------------------------------------------------------------------------\u001b[0m",
      "\u001b[0;31mKeyError\u001b[0m                                  Traceback (most recent call last)",
      "Input \u001b[0;32mIn [5]\u001b[0m, in \u001b[0;36m<cell line: 1>\u001b[0;34m()\u001b[0m\n\u001b[0;32m----> 1\u001b[0m df_behavior_file \u001b[38;5;241m=\u001b[39m \u001b[43mmu\u001b[49m\u001b[38;5;241;43m.\u001b[39;49m\u001b[43mconvert_behavior_file\u001b[49m\u001b[43m(\u001b[49m\u001b[43mmat_file\u001b[49m\u001b[43m)\u001b[49m\n\u001b[1;32m      2\u001b[0m df_behavior_file\n",
      "File \u001b[0;32m~/Documents/MATLAB/BrainCogsProjects/Datajoint_proj/U19-pipeline_python/u19_pipeline/utils/matlab_utils.py:398\u001b[0m, in \u001b[0;36mconvert_behavior_file\u001b[0;34m(mat_file)\u001b[0m\n\u001b[1;32m    396\u001b[0m valid_blocks, block_df \u001b[38;5;241m=\u001b[39m convert_towers_block_2_df(block, i\u001b[38;5;241m+\u001b[39m\u001b[38;5;241m1\u001b[39m)\n\u001b[1;32m    397\u001b[0m \u001b[38;5;66;03m#Write string of block level Protocol  (from matlab obscured data)\u001b[39;00m\n\u001b[0;32m--> 398\u001b[0m block_df[\u001b[38;5;124m'\u001b[39m\u001b[38;5;124mshapingProtocol\u001b[39m\u001b[38;5;124m'\u001b[39m] \u001b[38;5;241m=\u001b[39m \u001b[43mconverted_metadata\u001b[49m\u001b[43m[\u001b[49m\u001b[38;5;124;43m'\u001b[39;49m\u001b[38;5;124;43mshaping_protocol\u001b[39;49m\u001b[38;5;124;43m'\u001b[39;49m\u001b[43m]\u001b[49m[i]\n\u001b[1;32m    400\u001b[0m \u001b[38;5;28;01mif\u001b[39;00m valid_block \u001b[38;5;129;01mand\u001b[39;00m valid_blocks:\n\u001b[1;32m    401\u001b[0m     session_current_block_trial_df \u001b[38;5;241m=\u001b[39m block_trial_df\u001b[38;5;241m.\u001b[39mmerge(block_df, on\u001b[38;5;241m=\u001b[39m\u001b[38;5;124m'\u001b[39m\u001b[38;5;124mblock\u001b[39m\u001b[38;5;124m'\u001b[39m, suffixes\u001b[38;5;241m=\u001b[39m[\u001b[38;5;124m'\u001b[39m\u001b[38;5;124m_block\u001b[39m\u001b[38;5;124m'\u001b[39m, \u001b[38;5;124m'\u001b[39m\u001b[38;5;124m_trial\u001b[39m\u001b[38;5;124m'\u001b[39m])\n",
      "\u001b[0;31mKeyError\u001b[0m: 'shaping_protocol'"
     ]
    }
   ],
   "source": [
    "df_behavior_file = mu.convert_behavior_file(mat_file)\n",
    "df_behavior_file"
   ]
  },
  {
   "cell_type": "code",
   "execution_count": 17,
   "metadata": {},
   "outputs": [
    {
     "data": {
      "text/plain": [
       "Index(['block', 'trial_idx', 'choice', 'collision', 'comment', 'cueCombo',\n",
       "       'cueOffset', 'cueOnset', 'cuePos', 'duration_block', 'excessTravel',\n",
       "       'finalchoice', 'iArmEntry', 'iBlank', 'iCueEntry', 'iMemEntry',\n",
       "       'iTurnEntry', 'iterations', 'licks', 'position', 'rewardScale',\n",
       "       'sensorDots', 'start_block', 'state_ports', 'time', 'trialID',\n",
       "       'trialProb', 'trialType', 'velocity', 'viStart', 'versionIndex',\n",
       "       'firstTrial', 'start_trial', 'duration_trial', 'rewardMiL', 'mazeID',\n",
       "       'mainMazeID', 'motionBlurRange', 'iterStr', 'shapingProtocol',\n",
       "       'frozenStimuli', 'stimulusBank', 'stimulusCommit', 'stimulusConfig',\n",
       "       'stimulusSet', 'easyBlockFlag'],\n",
       "      dtype='object')"
      ]
     },
     "execution_count": 17,
     "metadata": {},
     "output_type": "execute_result"
    }
   ],
   "source": [
    "df_behavior_file.columns"
   ]
  },
  {
   "cell_type": "code",
   "execution_count": null,
   "metadata": {},
   "outputs": [],
   "source": []
  }
 ],
 "metadata": {
  "kernelspec": {
   "display_name": "Python 3.7.0 ('u19_datajoint')",
   "language": "python",
   "name": "python3"
  },
  "language_info": {
   "codemirror_mode": {
    "name": "ipython",
    "version": 3
   },
   "file_extension": ".py",
   "mimetype": "text/x-python",
   "name": "python",
   "nbconvert_exporter": "python",
   "pygments_lexer": "ipython3",
   "version": "3.9.12"
  },
  "orig_nbformat": 2,
  "vscode": {
   "interpreter": {
    "hash": "348a4bcde61304074419044094132242ecb1362b201318eaa5069b5cc2b28dfb"
   }
  }
 },
 "nbformat": 4,
 "nbformat_minor": 2
}
