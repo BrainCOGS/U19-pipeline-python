{
 "metadata": {
  "language_info": {
   "codemirror_mode": {
    "name": "ipython",
    "version": 3
   },
   "file_extension": ".py",
   "mimetype": "text/x-python",
   "name": "python",
   "nbconvert_exporter": "python",
   "pygments_lexer": "ipython3",
   "version": "3.7.0-final"
  },
  "orig_nbformat": 2,
  "kernelspec": {
   "name": "python37064bitu19datajointcondaf4e03803b61e40799835623898ea8018",
   "display_name": "Python 3.7.0 64-bit ('u19_datajoint': conda)"
  }
 },
 "nbformat": 4,
 "nbformat_minor": 2,
 "cells": [
  {
   "cell_type": "code",
   "execution_count": 1,
   "metadata": {},
   "outputs": [
    {
     "output_type": "stream",
     "name": "stdout",
     "text": [
      "Local configuration file found !!, no need to run the configuration (unless configuration has changed)\n"
     ]
    }
   ],
   "source": [
    "from scripts.conf_file_finding import try_find_conf_file\n",
    "try_find_conf_file()"
   ]
  },
  {
   "cell_type": "code",
   "execution_count": 39,
   "metadata": {},
   "outputs": [],
   "source": [
    "import datajoint as dj\n",
    "import pandas as pd\n",
    "import numpy as np\n",
    "import subprocess\n",
    "import numpy as np\n",
    "import u19_pipeline.utils.path_utils as pu\n",
    "from sklearn.linear_model import LinearRegression\n",
    "import matplotlib.pyplot as plt\n",
    "import datetime\n",
    "from shutil import which\n",
    "\n",
    "from u19_pipeline.utils.matlab_utils import convert_mat_file_to_dict, convert_function_handle_to_str\n",
    "from scipy.io import loadmat, matlab\n",
    "\n",
    "acquisition = dj.create_virtual_module('acquisition', 'u19_acquisition')\n"
   ]
  },
  {
   "cell_type": "markdown",
   "metadata": {},
   "source": [
    "## Add MATLAB path to system PATH "
   ]
  },
  {
   "cell_type": "code",
   "execution_count": 3,
   "metadata": {},
   "outputs": [],
   "source": [
    "local_matlab_path = '/Applications/MATLAB_R2020a.app/bin/'\n",
    "if which('matlab') is None:\n",
    "    os.environ['PATH'] += ':'+local_matlab_path"
   ]
  },
  {
   "cell_type": "code",
   "execution_count": 4,
   "metadata": {},
   "outputs": [
    {
     "output_type": "stream",
     "name": "stdout",
     "text": [
      "Matlab installation found !!\n"
     ]
    }
   ],
   "source": [
    "if which('matlab') is None:\n",
    "    print('Matlab command not found, add correct path installation or proceed (Choice &  TrialType data will not be read from the behavior file')\n",
    "else:\n",
    "    print('Matlab installation found !!')"
   ]
  },
  {
   "cell_type": "code",
   "execution_count": 54,
   "metadata": {
    "tags": []
   },
   "outputs": [],
   "source": [
    "#subject = 'jeremyjc_j016'\n",
    "#date = '2021-11-21'\n",
    "\n",
    "subject = 'efonseca_ef884_actp003'\n",
    "date = '2021-12-03'\n",
    "\n",
    "path = (acquisition.SessionStarted & dict(session_date =date, subject_fullname=subject)).fetch1('remote_path_behavior_file')\n",
    "mat_file = '/Volumes' + path"
   ]
  },
  {
   "cell_type": "code",
   "execution_count": 55,
   "metadata": {},
   "outputs": [
    {
     "output_type": "stream",
     "name": "stdout",
     "text": [
      "File written\nconvert_function_to_txt.m\n"
     ]
    }
   ],
   "source": [
    " matin = convert_mat_file_to_dict(mat_file)\n",
    " converted_metadata = convert_function_handle_to_str(mat_file_path=mat_file)\n",
    "\n"
   ]
  },
  {
   "cell_type": "code",
   "execution_count": 56,
   "metadata": {},
   "outputs": [],
   "source": [
    "def convert_towers_block2_df(current_block_trial):\n",
    "    \n",
    "    valid_block = 0\n",
    "    # \"Normal\" blocks are stored as numpy arrays and its length is greater than 0\n",
    "    if isinstance(current_block_trial, np.ndarray) and current_block_trial.shape[0] > 0:\n",
    "        current_block_trial = current_block_trial.tolist()\n",
    "        valid_block = 1 \n",
    "    # One trial blocks are stored as dictionaries\n",
    "    if isinstance(current_block_trial, dict):\n",
    "        current_block_trial = [current_block_trial]\n",
    "        valid_block = 1 \n",
    "\n",
    "    if valid_block:\n",
    "        block_trial_df = pd.DataFrame(current_block_trial)\n",
    "    else:\n",
    "        block_trial_df = pd.DataFrame()\n",
    "\n",
    "    return valid_block, block_trial_df\n",
    "\n",
    "\n",
    "\n"
   ]
  },
  {
   "cell_type": "code",
   "execution_count": 59,
   "metadata": {},
   "outputs": [
    {
     "output_type": "stream",
     "name": "stdout",
     "text": [
      "here only one block\n"
     ]
    },
    {
     "output_type": "execute_result",
     "data": {
      "text/plain": [
       "                                                choice  \\\n",
       "0    [[b'', b'MCOS', b'Choice', <scipy.io.matlab.mi...   \n",
       "1    [[b'', b'MCOS', b'Choice', <scipy.io.matlab.mi...   \n",
       "2    [[b'', b'MCOS', b'Choice', <scipy.io.matlab.mi...   \n",
       "3    [[b'', b'MCOS', b'Choice', <scipy.io.matlab.mi...   \n",
       "4    [[b'', b'MCOS', b'Choice', <scipy.io.matlab.mi...   \n",
       "..                                                 ...   \n",
       "169  [[b'', b'MCOS', b'Choice', <scipy.io.matlab.mi...   \n",
       "170  [[b'', b'MCOS', b'Choice', <scipy.io.matlab.mi...   \n",
       "171  [[b'', b'MCOS', b'Choice', <scipy.io.matlab.mi...   \n",
       "172  [[b'', b'MCOS', b'Choice', <scipy.io.matlab.mi...   \n",
       "173  [[b'', b'MCOS', b'Choice', <scipy.io.matlab.mi...   \n",
       "\n",
       "                                             collision comment  \\\n",
       "0    [0, 0, 0, 0, 0, 0, 0, 0, 0, 0, 0, 0, 0, 0, 0, ...      []   \n",
       "1    [0, 0, 0, 0, 0, 0, 0, 0, 0, 0, 0, 0, 0, 0, 0, ...      []   \n",
       "2    [0, 0, 0, 0, 0, 0, 0, 0, 0, 0, 0, 0, 0, 0, 0, ...      []   \n",
       "3    [0, 0, 0, 0, 0, 0, 0, 0, 0, 0, 0, 0, 0, 0, 0, ...      []   \n",
       "4    [0, 0, 0, 0, 0, 0, 0, 0, 0, 0, 0, 0, 0, 0, 0, ...      []   \n",
       "..                                                 ...     ...   \n",
       "169  [0, 0, 0, 0, 0, 0, 0, 0, 0, 0, 0, 0, 0, 0, 0, ...      []   \n",
       "170  [0, 0, 0, 0, 0, 0, 0, 0, 0, 0, 0, 0, 0, 0, 0, ...      []   \n",
       "171  [0, 0, 0, 0, 0, 0, 0, 0, 0, 0, 0, 0, 0, 0, 0, ...      []   \n",
       "172  [0, 0, 0, 0, 0, 0, 0, 0, 0, 0, 0, 0, 0, 0, 0, ...      []   \n",
       "173  [0, 0, 0, 0, 0, 0, 0, 0, 0, 0, 0, 0, 0, 0, 0, ...      []   \n",
       "\n",
       "                                              cueCombo  \\\n",
       "0    [[1, 1, 1, 1, 0, 1, 1, 1], [0, 0, 0, 0, 1, 0, ...   \n",
       "1    [[1, 1, 1, 1, 1, 1, 1, 1, 1], [0, 0, 0, 0, 0, ...   \n",
       "2    [[0, 1, 0, 0, 0, 0, 0, 0, 0, 1], [1, 0, 1, 1, ...   \n",
       "3             [[1, 1, 1, 1, 1, 1], [0, 0, 0, 0, 0, 0]]   \n",
       "4    [[0, 0, 0, 0, 0, 0, 0, 0], [1, 1, 1, 1, 1, 1, ...   \n",
       "..                                                 ...   \n",
       "169  [[1, 1, 1, 1, 1, 1, 1, 1, 1], [0, 0, 0, 0, 0, ...   \n",
       "170  [[1, 1, 0, 1, 1, 0, 1, 1, 1, 1, 1], [0, 0, 1, ...   \n",
       "171  [[0, 1, 0, 0, 0, 0, 0, 0, 0, 0, 0], [1, 0, 1, ...   \n",
       "172  [[0, 0, 0, 0, 0, 0, 0, 0], [1, 1, 1, 1, 1, 1, ...   \n",
       "173  [[1, 1, 0, 1, 1, 0, 1, 0, 1, 1, 1, 1, 1], [0, ...   \n",
       "\n",
       "                                       cueOffset  \\\n",
       "0                     [[0, 0, 0, 0, 0, 0, 0], 0]   \n",
       "1              [[0, 0, 0, 0, 0, 0, 0, 0, 0], []]   \n",
       "2             [[0, 0], [0, 0, 0, 0, 0, 0, 0, 0]]   \n",
       "3                       [[0, 0, 0, 0, 0, 0], []]   \n",
       "4                 [[], [0, 0, 0, 0, 0, 0, 0, 0]]   \n",
       "..                                           ...   \n",
       "169            [[0, 0, 0, 0, 0, 0, 0, 0, 0], []]   \n",
       "170        [[0, 0, 0, 0, 0, 0, 0, 0, 0], [0, 0]]   \n",
       "171          [0, [0, 0, 0, 0, 0, 0, 0, 0, 0, 0]]   \n",
       "172               [[], [0, 0, 0, 0, 0, 0, 0, 0]]   \n",
       "173  [[0, 0, 0, 0, 0, 0, 0, 0, 0, 0], [0, 0, 0]]   \n",
       "\n",
       "                                              cueOnset  \\\n",
       "0    [[11648, 10692, 10909, 11149, 11235, 11289, 11...   \n",
       "1    [[1096, 1216, 1423, 158, 609, 659, 848, 959, 1...   \n",
       "2    [[101, 1473], [94, 479, 540, 703, 742, 805, 10...   \n",
       "3              [[1246, 1321, 1546, 325, 401, 776], []]   \n",
       "4    [[], [1110, 1302, 1359, 3053, 3146, 3222, 617,...   \n",
       "..                                                 ...   \n",
       "169  [[138, 183, 205, 228, 258, 287, 346, 529, 64],...   \n",
       "170  [[568, 59, 107, 190, 232, 256, 479, 506, 539],...   \n",
       "171  [148, [217, 662, 680, 699, 726, 891, 909, 130,...   \n",
       "172    [[], [844, 1058, 270, 299, 328, 525, 779, 809]]   \n",
       "173  [[589, 132, 168, 196, 236, 260, 281, 306, 494,...   \n",
       "\n",
       "                                                cuePos    duration  \\\n",
       "0    [[194.57321, 25.120554, 53.8311, 100.35614, 11...  138.619217   \n",
       "1    [[138.80388, 181.81398, 198.20818, 26.643602, ...   49.268803   \n",
       "2    [[18.048697, 173.02887], [14.99978, 36.38115, ...   28.197702   \n",
       "3    [[121.804306, 152.67021, 192.59846, 16.429367,...   24.094978   \n",
       "4    [[], [81.91047, 122.81532, 141.81816, 174.9878...   36.871433   \n",
       "..                                                 ...         ...   \n",
       "169  [[48.467873, 75.81385, 89.13162, 103.86104, 12...    9.990882   \n",
       "170  [[183.86414, 19.969679, 42.977345, 74.79029, 9...   12.351332   \n",
       "171  [34.16154861450195, [76.93075, 112.46491, 125....   16.978006   \n",
       "172  [[], [135.85222, 178.76643, 15.933478, 30.8272...   18.493263   \n",
       "173  [[198.48726, 38.18484, 58.9185, 71.88673, 85.3...   11.283572   \n",
       "\n",
       "     excessTravel                                        finalchoice  ...  \\\n",
       "0        0.117929  [[b'', b'MCOS', b'Choice', <scipy.io.matlab.mi...  ...   \n",
       "1       -0.022894  [[b'', b'MCOS', b'Choice', <scipy.io.matlab.mi...  ...   \n",
       "2       -0.027195  [[b'', b'MCOS', b'Choice', <scipy.io.matlab.mi...  ...   \n",
       "3       -0.018349  [[b'', b'MCOS', b'Choice', <scipy.io.matlab.mi...  ...   \n",
       "4        0.103975  [[b'', b'MCOS', b'Choice', <scipy.io.matlab.mi...  ...   \n",
       "..            ...                                                ...  ...   \n",
       "169     -0.055342  [[b'', b'MCOS', b'Choice', <scipy.io.matlab.mi...  ...   \n",
       "170     -0.051119  [[b'', b'MCOS', b'Choice', <scipy.io.matlab.mi...  ...   \n",
       "171     -0.043451  [[b'', b'MCOS', b'Choice', <scipy.io.matlab.mi...  ...   \n",
       "172     -0.043834  [[b'', b'MCOS', b'Choice', <scipy.io.matlab.mi...  ...   \n",
       "173     -0.051525  [[b'', b'MCOS', b'Choice', <scipy.io.matlab.mi...  ...   \n",
       "\n",
       "     rewardScale                                         sensorDots  \\\n",
       "0            1.0  [[0, 0, -1, -1, 52], [0, 0, -8, 0, 1312], [0, ...   \n",
       "1            1.0  [[0, 0, 0, 0, 8], [0, 0, 0, 0, 112], [0, 0, 0,...   \n",
       "2            1.0  [[0, 0, -8, 0, 8], [0, 0, -77, 0, 84], [0, 0, ...   \n",
       "3            1.0  [[0, 0, -20, -2, 12], [0, 0, -119, 5, 76], [0,...   \n",
       "4            1.0  [[0, 0, -5, -4, 12], [0, 0, -9, 9, 108], [0, 0...   \n",
       "..           ...                                                ...   \n",
       "169          1.0  [[0, 0, 0, 0, 8], [0, 0, 0, 0, 56], [0, 0, 0, ...   \n",
       "170          1.0  [[0, 0, -5, 0, 8], [0, 0, -40, 7, 56], [0, 0, ...   \n",
       "171          1.0  [[0, 0, 0, 0, 8], [0, 0, 0, 0, 56], [0, 0, -2,...   \n",
       "172          1.0  [[0, 0, -2, -1, 8], [0, 0, -4, 4, 56], [0, 0, ...   \n",
       "173          1.0  [[0, 0, 0, 0, 12], [0, 0, 0, 0, 52], [0, 0, 0,...   \n",
       "\n",
       "           start                                        state_ports  \\\n",
       "0       1.313610  [[[0.0, 0.0, 1.0, 1.0, 1.0], [1.0, 1.0, 1.0, 1...   \n",
       "1     139.932831  [[[0.0, 0.0, 1.0, 1.0, 1.0], [1.0, 1.0, 1.0, 1...   \n",
       "2     189.201630  [[[1.0, 1.0, 1.0, 1.0, 1.0], [0.0, 0.0, 1.0, 1...   \n",
       "3     217.399338  [[[0.0, 0.0, 1.0, 1.0, 1.0], [1.0, 1.0, 1.0, 1...   \n",
       "4     241.494308  [[[0.0, 0.0, 1.0, 1.0, 1.0], [0.0, 1.0, 1.0, 1...   \n",
       "..           ...                                                ...   \n",
       "169  3530.582275  [[[0.0, 0.0, 1.0, 1.0, 1.0], [1.0, 1.0, 1.0, 1...   \n",
       "170  3540.573242  [[[0.0, 0.0, 1.0, 1.0, 1.0], [1.0, 1.0, 1.0, 1...   \n",
       "171  3552.924561  [[[0.0, 0.0, 1.0, 1.0, 1.0], [1.0, 1.0, 1.0, 1...   \n",
       "172  3569.902588  [[[0.0, 0.0, 1.0, 1.0, 1.0], [1.0, 1.0, 1.0, 1...   \n",
       "173  3588.395752  [[[0.0, 0.0, 1.0, 1.0, 1.0], [1.0, 1.0, 1.0, 1...   \n",
       "\n",
       "                                                  time  trialID  \\\n",
       "0    [0.0, 0.0403214, 0.0590853, 0.0766748, 0.12813...      1.0   \n",
       "1    [0.0, 0.0222565, 0.0290751, 0.0419076, 0.04851...      2.0   \n",
       "2    [0.0, 0.0212646, 0.0280473, 0.0352011, 0.04214...      3.0   \n",
       "3    [0.0, 0.0211291, 0.0279587, 0.0345268, 0.04075...     -4.0   \n",
       "4    [0.0, 0.0308128, 0.0398561, 0.047442, 0.055039...      4.0   \n",
       "..                                                 ...      ...   \n",
       "169  [0.0, 0.0325336, 0.0397749, 0.0473825, 0.05446...     92.0   \n",
       "170  [0.0, 0.0318414, 0.0391506, 0.0469801, 0.05413...     93.0   \n",
       "171  [0.0, 0.0314392, 0.0391059, 0.0468184, 0.05393...    -31.0   \n",
       "172  [0.0, 0.0319853, 0.0391848, 0.0467268, 0.05393...     94.0   \n",
       "173  [0.0, 0.0324415, 0.0399601, 0.0481568, 0.05538...     85.0   \n",
       "\n",
       "                    trialProb  \\\n",
       "0                         0.5   \n",
       "1                         0.5   \n",
       "2                         0.5   \n",
       "3                         0.5   \n",
       "4                         0.5   \n",
       "..                        ...   \n",
       "169    [0.6435219, 0.3564781]   \n",
       "170   [0.6276408, 0.37235922]   \n",
       "171   [0.61113954, 0.3888605]   \n",
       "172   [0.5922302, 0.40776977]   \n",
       "173  [0.57349837, 0.42650166]   \n",
       "\n",
       "                                             trialType  \\\n",
       "0    [[b'', b'MCOS', b'Choice', <scipy.io.matlab.mi...   \n",
       "1    [[b'', b'MCOS', b'Choice', <scipy.io.matlab.mi...   \n",
       "2    [[b'', b'MCOS', b'Choice', <scipy.io.matlab.mi...   \n",
       "3    [[b'', b'MCOS', b'Choice', <scipy.io.matlab.mi...   \n",
       "4    [[b'', b'MCOS', b'Choice', <scipy.io.matlab.mi...   \n",
       "..                                                 ...   \n",
       "169  [[b'', b'MCOS', b'Choice', <scipy.io.matlab.mi...   \n",
       "170  [[b'', b'MCOS', b'Choice', <scipy.io.matlab.mi...   \n",
       "171  [[b'', b'MCOS', b'Choice', <scipy.io.matlab.mi...   \n",
       "172  [[b'', b'MCOS', b'Choice', <scipy.io.matlab.mi...   \n",
       "173  [[b'', b'MCOS', b'Choice', <scipy.io.matlab.mi...   \n",
       "\n",
       "                                              velocity viStart  \n",
       "0    [[0.0, 0.0, 0.0], [0.0, 0.0, 0.0], [0.0, 0.0, ...       2  \n",
       "1    [[0.0, 0.0, 0.0], [0.0, 0.0, 0.0], [0.0, 0.0, ...   16504  \n",
       "2    [[0.0, 0.0, 0.0], [0.0, 0.0, 0.0], [0.0, 17.13...   22360  \n",
       "3    [[0.0, 0.0, 0.0], [0.0, 0.0, 0.0], [0.0, 31.82...   25699  \n",
       "4    [[0.0, 0.0, 0.0], [0.0, 0.0, 0.0], [0.0, 1.082...   28539  \n",
       "..                                                 ...     ...  \n",
       "169  [[0.0, 0.0, 0.0], [0.0, 0.0, 0.0], [0.0, 0.0, ...  411371  \n",
       "170  [[0.0, 0.0, 0.0], [0.0, 0.0, 0.0], [0.0, 23.00...  412463  \n",
       "171  [[0.0, 0.0, 0.0], [0.0, 0.0, 0.0], [0.0, 1.530...  413836  \n",
       "172  [[0.0, 0.0, 0.0], [0.0, 0.0, 0.0], [0.0, 0.0, ...  415761  \n",
       "173  [[0.0, 0.0, 0.0], [0.0, 0.0, 0.0], [0.0, 0.0, ...  417867  \n",
       "\n",
       "[174 rows x 28 columns]"
      ],
      "text/html": "<div>\n<style scoped>\n    .dataframe tbody tr th:only-of-type {\n        vertical-align: middle;\n    }\n\n    .dataframe tbody tr th {\n        vertical-align: top;\n    }\n\n    .dataframe thead th {\n        text-align: right;\n    }\n</style>\n<table border=\"1\" class=\"dataframe\">\n  <thead>\n    <tr style=\"text-align: right;\">\n      <th></th>\n      <th>choice</th>\n      <th>collision</th>\n      <th>comment</th>\n      <th>cueCombo</th>\n      <th>cueOffset</th>\n      <th>cueOnset</th>\n      <th>cuePos</th>\n      <th>duration</th>\n      <th>excessTravel</th>\n      <th>finalchoice</th>\n      <th>...</th>\n      <th>rewardScale</th>\n      <th>sensorDots</th>\n      <th>start</th>\n      <th>state_ports</th>\n      <th>time</th>\n      <th>trialID</th>\n      <th>trialProb</th>\n      <th>trialType</th>\n      <th>velocity</th>\n      <th>viStart</th>\n    </tr>\n  </thead>\n  <tbody>\n    <tr>\n      <th>0</th>\n      <td>[[b'', b'MCOS', b'Choice', &lt;scipy.io.matlab.mi...</td>\n      <td>[0, 0, 0, 0, 0, 0, 0, 0, 0, 0, 0, 0, 0, 0, 0, ...</td>\n      <td>[]</td>\n      <td>[[1, 1, 1, 1, 0, 1, 1, 1], [0, 0, 0, 0, 1, 0, ...</td>\n      <td>[[0, 0, 0, 0, 0, 0, 0], 0]</td>\n      <td>[[11648, 10692, 10909, 11149, 11235, 11289, 11...</td>\n      <td>[[194.57321, 25.120554, 53.8311, 100.35614, 11...</td>\n      <td>138.619217</td>\n      <td>0.117929</td>\n      <td>[[b'', b'MCOS', b'Choice', &lt;scipy.io.matlab.mi...</td>\n      <td>...</td>\n      <td>1.0</td>\n      <td>[[0, 0, -1, -1, 52], [0, 0, -8, 0, 1312], [0, ...</td>\n      <td>1.313610</td>\n      <td>[[[0.0, 0.0, 1.0, 1.0, 1.0], [1.0, 1.0, 1.0, 1...</td>\n      <td>[0.0, 0.0403214, 0.0590853, 0.0766748, 0.12813...</td>\n      <td>1.0</td>\n      <td>0.5</td>\n      <td>[[b'', b'MCOS', b'Choice', &lt;scipy.io.matlab.mi...</td>\n      <td>[[0.0, 0.0, 0.0], [0.0, 0.0, 0.0], [0.0, 0.0, ...</td>\n      <td>2</td>\n    </tr>\n    <tr>\n      <th>1</th>\n      <td>[[b'', b'MCOS', b'Choice', &lt;scipy.io.matlab.mi...</td>\n      <td>[0, 0, 0, 0, 0, 0, 0, 0, 0, 0, 0, 0, 0, 0, 0, ...</td>\n      <td>[]</td>\n      <td>[[1, 1, 1, 1, 1, 1, 1, 1, 1], [0, 0, 0, 0, 0, ...</td>\n      <td>[[0, 0, 0, 0, 0, 0, 0, 0, 0], []]</td>\n      <td>[[1096, 1216, 1423, 158, 609, 659, 848, 959, 1...</td>\n      <td>[[138.80388, 181.81398, 198.20818, 26.643602, ...</td>\n      <td>49.268803</td>\n      <td>-0.022894</td>\n      <td>[[b'', b'MCOS', b'Choice', &lt;scipy.io.matlab.mi...</td>\n      <td>...</td>\n      <td>1.0</td>\n      <td>[[0, 0, 0, 0, 8], [0, 0, 0, 0, 112], [0, 0, 0,...</td>\n      <td>139.932831</td>\n      <td>[[[0.0, 0.0, 1.0, 1.0, 1.0], [1.0, 1.0, 1.0, 1...</td>\n      <td>[0.0, 0.0222565, 0.0290751, 0.0419076, 0.04851...</td>\n      <td>2.0</td>\n      <td>0.5</td>\n      <td>[[b'', b'MCOS', b'Choice', &lt;scipy.io.matlab.mi...</td>\n      <td>[[0.0, 0.0, 0.0], [0.0, 0.0, 0.0], [0.0, 0.0, ...</td>\n      <td>16504</td>\n    </tr>\n    <tr>\n      <th>2</th>\n      <td>[[b'', b'MCOS', b'Choice', &lt;scipy.io.matlab.mi...</td>\n      <td>[0, 0, 0, 0, 0, 0, 0, 0, 0, 0, 0, 0, 0, 0, 0, ...</td>\n      <td>[]</td>\n      <td>[[0, 1, 0, 0, 0, 0, 0, 0, 0, 1], [1, 0, 1, 1, ...</td>\n      <td>[[0, 0], [0, 0, 0, 0, 0, 0, 0, 0]]</td>\n      <td>[[101, 1473], [94, 479, 540, 703, 742, 805, 10...</td>\n      <td>[[18.048697, 173.02887], [14.99978, 36.38115, ...</td>\n      <td>28.197702</td>\n      <td>-0.027195</td>\n      <td>[[b'', b'MCOS', b'Choice', &lt;scipy.io.matlab.mi...</td>\n      <td>...</td>\n      <td>1.0</td>\n      <td>[[0, 0, -8, 0, 8], [0, 0, -77, 0, 84], [0, 0, ...</td>\n      <td>189.201630</td>\n      <td>[[[1.0, 1.0, 1.0, 1.0, 1.0], [0.0, 0.0, 1.0, 1...</td>\n      <td>[0.0, 0.0212646, 0.0280473, 0.0352011, 0.04214...</td>\n      <td>3.0</td>\n      <td>0.5</td>\n      <td>[[b'', b'MCOS', b'Choice', &lt;scipy.io.matlab.mi...</td>\n      <td>[[0.0, 0.0, 0.0], [0.0, 0.0, 0.0], [0.0, 17.13...</td>\n      <td>22360</td>\n    </tr>\n    <tr>\n      <th>3</th>\n      <td>[[b'', b'MCOS', b'Choice', &lt;scipy.io.matlab.mi...</td>\n      <td>[0, 0, 0, 0, 0, 0, 0, 0, 0, 0, 0, 0, 0, 0, 0, ...</td>\n      <td>[]</td>\n      <td>[[1, 1, 1, 1, 1, 1], [0, 0, 0, 0, 0, 0]]</td>\n      <td>[[0, 0, 0, 0, 0, 0], []]</td>\n      <td>[[1246, 1321, 1546, 325, 401, 776], []]</td>\n      <td>[[121.804306, 152.67021, 192.59846, 16.429367,...</td>\n      <td>24.094978</td>\n      <td>-0.018349</td>\n      <td>[[b'', b'MCOS', b'Choice', &lt;scipy.io.matlab.mi...</td>\n      <td>...</td>\n      <td>1.0</td>\n      <td>[[0, 0, -20, -2, 12], [0, 0, -119, 5, 76], [0,...</td>\n      <td>217.399338</td>\n      <td>[[[0.0, 0.0, 1.0, 1.0, 1.0], [1.0, 1.0, 1.0, 1...</td>\n      <td>[0.0, 0.0211291, 0.0279587, 0.0345268, 0.04075...</td>\n      <td>-4.0</td>\n      <td>0.5</td>\n      <td>[[b'', b'MCOS', b'Choice', &lt;scipy.io.matlab.mi...</td>\n      <td>[[0.0, 0.0, 0.0], [0.0, 0.0, 0.0], [0.0, 31.82...</td>\n      <td>25699</td>\n    </tr>\n    <tr>\n      <th>4</th>\n      <td>[[b'', b'MCOS', b'Choice', &lt;scipy.io.matlab.mi...</td>\n      <td>[0, 0, 0, 0, 0, 0, 0, 0, 0, 0, 0, 0, 0, 0, 0, ...</td>\n      <td>[]</td>\n      <td>[[0, 0, 0, 0, 0, 0, 0, 0], [1, 1, 1, 1, 1, 1, ...</td>\n      <td>[[], [0, 0, 0, 0, 0, 0, 0, 0]]</td>\n      <td>[[], [1110, 1302, 1359, 3053, 3146, 3222, 617,...</td>\n      <td>[[], [81.91047, 122.81532, 141.81816, 174.9878...</td>\n      <td>36.871433</td>\n      <td>0.103975</td>\n      <td>[[b'', b'MCOS', b'Choice', &lt;scipy.io.matlab.mi...</td>\n      <td>...</td>\n      <td>1.0</td>\n      <td>[[0, 0, -5, -4, 12], [0, 0, -9, 9, 108], [0, 0...</td>\n      <td>241.494308</td>\n      <td>[[[0.0, 0.0, 1.0, 1.0, 1.0], [0.0, 1.0, 1.0, 1...</td>\n      <td>[0.0, 0.0308128, 0.0398561, 0.047442, 0.055039...</td>\n      <td>4.0</td>\n      <td>0.5</td>\n      <td>[[b'', b'MCOS', b'Choice', &lt;scipy.io.matlab.mi...</td>\n      <td>[[0.0, 0.0, 0.0], [0.0, 0.0, 0.0], [0.0, 1.082...</td>\n      <td>28539</td>\n    </tr>\n    <tr>\n      <th>...</th>\n      <td>...</td>\n      <td>...</td>\n      <td>...</td>\n      <td>...</td>\n      <td>...</td>\n      <td>...</td>\n      <td>...</td>\n      <td>...</td>\n      <td>...</td>\n      <td>...</td>\n      <td>...</td>\n      <td>...</td>\n      <td>...</td>\n      <td>...</td>\n      <td>...</td>\n      <td>...</td>\n      <td>...</td>\n      <td>...</td>\n      <td>...</td>\n      <td>...</td>\n      <td>...</td>\n    </tr>\n    <tr>\n      <th>169</th>\n      <td>[[b'', b'MCOS', b'Choice', &lt;scipy.io.matlab.mi...</td>\n      <td>[0, 0, 0, 0, 0, 0, 0, 0, 0, 0, 0, 0, 0, 0, 0, ...</td>\n      <td>[]</td>\n      <td>[[1, 1, 1, 1, 1, 1, 1, 1, 1], [0, 0, 0, 0, 0, ...</td>\n      <td>[[0, 0, 0, 0, 0, 0, 0, 0, 0], []]</td>\n      <td>[[138, 183, 205, 228, 258, 287, 346, 529, 64],...</td>\n      <td>[[48.467873, 75.81385, 89.13162, 103.86104, 12...</td>\n      <td>9.990882</td>\n      <td>-0.055342</td>\n      <td>[[b'', b'MCOS', b'Choice', &lt;scipy.io.matlab.mi...</td>\n      <td>...</td>\n      <td>1.0</td>\n      <td>[[0, 0, 0, 0, 8], [0, 0, 0, 0, 56], [0, 0, 0, ...</td>\n      <td>3530.582275</td>\n      <td>[[[0.0, 0.0, 1.0, 1.0, 1.0], [1.0, 1.0, 1.0, 1...</td>\n      <td>[0.0, 0.0325336, 0.0397749, 0.0473825, 0.05446...</td>\n      <td>92.0</td>\n      <td>[0.6435219, 0.3564781]</td>\n      <td>[[b'', b'MCOS', b'Choice', &lt;scipy.io.matlab.mi...</td>\n      <td>[[0.0, 0.0, 0.0], [0.0, 0.0, 0.0], [0.0, 0.0, ...</td>\n      <td>411371</td>\n    </tr>\n    <tr>\n      <th>170</th>\n      <td>[[b'', b'MCOS', b'Choice', &lt;scipy.io.matlab.mi...</td>\n      <td>[0, 0, 0, 0, 0, 0, 0, 0, 0, 0, 0, 0, 0, 0, 0, ...</td>\n      <td>[]</td>\n      <td>[[1, 1, 0, 1, 1, 0, 1, 1, 1, 1, 1], [0, 0, 1, ...</td>\n      <td>[[0, 0, 0, 0, 0, 0, 0, 0, 0], [0, 0]]</td>\n      <td>[[568, 59, 107, 190, 232, 256, 479, 506, 539],...</td>\n      <td>[[183.86414, 19.969679, 42.977345, 74.79029, 9...</td>\n      <td>12.351332</td>\n      <td>-0.051119</td>\n      <td>[[b'', b'MCOS', b'Choice', &lt;scipy.io.matlab.mi...</td>\n      <td>...</td>\n      <td>1.0</td>\n      <td>[[0, 0, -5, 0, 8], [0, 0, -40, 7, 56], [0, 0, ...</td>\n      <td>3540.573242</td>\n      <td>[[[0.0, 0.0, 1.0, 1.0, 1.0], [1.0, 1.0, 1.0, 1...</td>\n      <td>[0.0, 0.0318414, 0.0391506, 0.0469801, 0.05413...</td>\n      <td>93.0</td>\n      <td>[0.6276408, 0.37235922]</td>\n      <td>[[b'', b'MCOS', b'Choice', &lt;scipy.io.matlab.mi...</td>\n      <td>[[0.0, 0.0, 0.0], [0.0, 0.0, 0.0], [0.0, 23.00...</td>\n      <td>412463</td>\n    </tr>\n    <tr>\n      <th>171</th>\n      <td>[[b'', b'MCOS', b'Choice', &lt;scipy.io.matlab.mi...</td>\n      <td>[0, 0, 0, 0, 0, 0, 0, 0, 0, 0, 0, 0, 0, 0, 0, ...</td>\n      <td>[]</td>\n      <td>[[0, 1, 0, 0, 0, 0, 0, 0, 0, 0, 0], [1, 0, 1, ...</td>\n      <td>[0, [0, 0, 0, 0, 0, 0, 0, 0, 0, 0]]</td>\n      <td>[148, [217, 662, 680, 699, 726, 891, 909, 130,...</td>\n      <td>[34.16154861450195, [76.93075, 112.46491, 125....</td>\n      <td>16.978006</td>\n      <td>-0.043451</td>\n      <td>[[b'', b'MCOS', b'Choice', &lt;scipy.io.matlab.mi...</td>\n      <td>...</td>\n      <td>1.0</td>\n      <td>[[0, 0, 0, 0, 8], [0, 0, 0, 0, 56], [0, 0, -2,...</td>\n      <td>3552.924561</td>\n      <td>[[[0.0, 0.0, 1.0, 1.0, 1.0], [1.0, 1.0, 1.0, 1...</td>\n      <td>[0.0, 0.0314392, 0.0391059, 0.0468184, 0.05393...</td>\n      <td>-31.0</td>\n      <td>[0.61113954, 0.3888605]</td>\n      <td>[[b'', b'MCOS', b'Choice', &lt;scipy.io.matlab.mi...</td>\n      <td>[[0.0, 0.0, 0.0], [0.0, 0.0, 0.0], [0.0, 1.530...</td>\n      <td>413836</td>\n    </tr>\n    <tr>\n      <th>172</th>\n      <td>[[b'', b'MCOS', b'Choice', &lt;scipy.io.matlab.mi...</td>\n      <td>[0, 0, 0, 0, 0, 0, 0, 0, 0, 0, 0, 0, 0, 0, 0, ...</td>\n      <td>[]</td>\n      <td>[[0, 0, 0, 0, 0, 0, 0, 0], [1, 1, 1, 1, 1, 1, ...</td>\n      <td>[[], [0, 0, 0, 0, 0, 0, 0, 0]]</td>\n      <td>[[], [844, 1058, 270, 299, 328, 525, 779, 809]]</td>\n      <td>[[], [135.85222, 178.76643, 15.933478, 30.8272...</td>\n      <td>18.493263</td>\n      <td>-0.043834</td>\n      <td>[[b'', b'MCOS', b'Choice', &lt;scipy.io.matlab.mi...</td>\n      <td>...</td>\n      <td>1.0</td>\n      <td>[[0, 0, -2, -1, 8], [0, 0, -4, 4, 56], [0, 0, ...</td>\n      <td>3569.902588</td>\n      <td>[[[0.0, 0.0, 1.0, 1.0, 1.0], [1.0, 1.0, 1.0, 1...</td>\n      <td>[0.0, 0.0319853, 0.0391848, 0.0467268, 0.05393...</td>\n      <td>94.0</td>\n      <td>[0.5922302, 0.40776977]</td>\n      <td>[[b'', b'MCOS', b'Choice', &lt;scipy.io.matlab.mi...</td>\n      <td>[[0.0, 0.0, 0.0], [0.0, 0.0, 0.0], [0.0, 0.0, ...</td>\n      <td>415761</td>\n    </tr>\n    <tr>\n      <th>173</th>\n      <td>[[b'', b'MCOS', b'Choice', &lt;scipy.io.matlab.mi...</td>\n      <td>[0, 0, 0, 0, 0, 0, 0, 0, 0, 0, 0, 0, 0, 0, 0, ...</td>\n      <td>[]</td>\n      <td>[[1, 1, 0, 1, 1, 0, 1, 0, 1, 1, 1, 1, 1], [0, ...</td>\n      <td>[[0, 0, 0, 0, 0, 0, 0, 0, 0, 0], [0, 0, 0]]</td>\n      <td>[[589, 132, 168, 196, 236, 260, 281, 306, 494,...</td>\n      <td>[[198.48726, 38.18484, 58.9185, 71.88673, 85.3...</td>\n      <td>11.283572</td>\n      <td>-0.051525</td>\n      <td>[[b'', b'MCOS', b'Choice', &lt;scipy.io.matlab.mi...</td>\n      <td>...</td>\n      <td>1.0</td>\n      <td>[[0, 0, 0, 0, 12], [0, 0, 0, 0, 52], [0, 0, 0,...</td>\n      <td>3588.395752</td>\n      <td>[[[0.0, 0.0, 1.0, 1.0, 1.0], [1.0, 1.0, 1.0, 1...</td>\n      <td>[0.0, 0.0324415, 0.0399601, 0.0481568, 0.05538...</td>\n      <td>85.0</td>\n      <td>[0.57349837, 0.42650166]</td>\n      <td>[[b'', b'MCOS', b'Choice', &lt;scipy.io.matlab.mi...</td>\n      <td>[[0.0, 0.0, 0.0], [0.0, 0.0, 0.0], [0.0, 0.0, ...</td>\n      <td>417867</td>\n    </tr>\n  </tbody>\n</table>\n<p>174 rows × 28 columns</p>\n</div>"
     },
     "metadata": {},
     "execution_count": 59
    }
   ],
   "source": [
    "\n",
    "session_block_trial_df = pd.DataFrame()\n",
    "\n",
    "#Convert all blocks to dataframe and append them\n",
    "\n",
    "#For a single block sessions\n",
    "if isinstance(matin['log']['block'], dict):\n",
    "    print('here only one block')\n",
    "    valid_block, block_df = convert_towers_block2_df(matin['log']['block']['trial'])\n",
    "    if valid_block:\n",
    "        session_block_trial_df = block_df.copy()\n",
    "#For multiple blocks sessions\n",
    "else:\n",
    "    num_blocks_conv = 0\n",
    "    for i in range(matin['log']['block'].shape[0]):\n",
    "        \n",
    "        #Try to convert block to dataframe and append to session DF\n",
    "        valid_block, block_df = convert_towers_block2_df(matin['log']['block'][i]['trial'])\n",
    "        print(valid_block)\n",
    "        if valid_block:\n",
    "            if num_blocks_conv == 0:\n",
    "                session_block_trial_df = block_df.copy()\n",
    "            else:\n",
    "                session_block_trial_df = session_block_trial_df.append(block_df)\n",
    "            num_blocks_conv +=1\n",
    "\n"
   ]
  },
  {
   "cell_type": "markdown",
   "metadata": {},
   "source": [
    "## Get storage by year"
   ]
  },
  {
   "cell_type": "code",
   "execution_count": 29,
   "metadata": {},
   "outputs": [],
   "source": [
    "lo = pd.DataFrame([matin['log']['block'][1]['trial']])"
   ]
  },
  {
   "cell_type": "code",
   "execution_count": 44,
   "metadata": {},
   "outputs": [
    {
     "output_type": "execute_result",
     "data": {
      "text/plain": [
       "dict"
      ]
     },
     "metadata": {},
     "execution_count": 44
    }
   ],
   "source": [
    "type(matin['log']['block'][0]['trial'])"
   ]
  },
  {
   "cell_type": "markdown",
   "metadata": {},
   "source": [
    "## Get storage by main directories "
   ]
  },
  {
   "cell_type": "code",
   "execution_count": 10,
   "metadata": {},
   "outputs": [
    {
     "output_type": "execute_result",
     "data": {
      "text/plain": [
       "186"
      ]
     },
     "metadata": {},
     "execution_count": 10
    }
   ],
   "source": [
    " len(converted_metadata['trial_type'])"
   ]
  },
  {
   "cell_type": "code",
   "execution_count": 15,
   "metadata": {},
   "outputs": [],
   "source": [
    "import sys\n",
    "sys.path.append('/Applications/MATLAB_R2020a.app/bin/')"
   ]
  },
  {
   "cell_type": "code",
   "execution_count": 16,
   "metadata": {},
   "outputs": [
    {
     "output_type": "execute_result",
     "data": {
      "text/plain": [
       "['/Users/alvaros/Documents/MATLAB/BrainCogsProjects/Datajoint_proj/U19-pipeline_python/notebooks',\n",
       " '/Users/alvaros/.vscode/extensions/ms-python.python-2020.9.114305/pythonFiles',\n",
       " '/Users/alvaros/.vscode/extensions/ms-python.python-2020.9.114305/pythonFiles/lib/python',\n",
       " '/Users/alvaros/opt/anaconda3/envs/u19_datajoint/lib/python37.zip',\n",
       " '/Users/alvaros/opt/anaconda3/envs/u19_datajoint/lib/python3.7',\n",
       " '/Users/alvaros/opt/anaconda3/envs/u19_datajoint/lib/python3.7/lib-dynload',\n",
       " '',\n",
       " '/Users/alvaros/opt/anaconda3/envs/u19_datajoint/lib/python3.7/site-packages',\n",
       " '/Users/alvaros/Documents/MATLAB/BrainCogsProjects/Datajoint_proj/U19-pipeline_python',\n",
       " '/Users/alvaros/opt/anaconda3/envs/u19_datajoint/lib/python3.7/site-packages/IPython/extensions',\n",
       " '/Users/alvaros/.ipython',\n",
       " '/Applications/MATLAB_R2020a.app/bin/']"
      ]
     },
     "metadata": {},
     "execution_count": 16
    }
   ],
   "source": [
    "sys.path"
   ]
  },
  {
   "cell_type": "code",
   "execution_count": 18,
   "metadata": {},
   "outputs": [
    {
     "output_type": "error",
     "ename": "ModuleNotFoundError",
     "evalue": "No module named 'matlab'",
     "traceback": [
      "\u001b[0;31m---------------------------------------------------------------------------\u001b[0m",
      "\u001b[0;31mModuleNotFoundError\u001b[0m                       Traceback (most recent call last)",
      "\u001b[0;32m<ipython-input-18-754f7d50ef2a>\u001b[0m in \u001b[0;36m<module>\u001b[0;34m\u001b[0m\n\u001b[0;32m----> 1\u001b[0;31m \u001b[0;32mimport\u001b[0m \u001b[0mmatlab\u001b[0m\u001b[0;34m.\u001b[0m\u001b[0mengine\u001b[0m\u001b[0;34m\u001b[0m\u001b[0m\n\u001b[0m",
      "\u001b[0;31mModuleNotFoundError\u001b[0m: No module named 'matlab'"
     ]
    }
   ],
   "source": [
    "import matlab.engine"
   ]
  },
  {
   "cell_type": "code",
   "execution_count": 20,
   "metadata": {},
   "outputs": [
    {
     "output_type": "execute_result",
     "data": {
      "text/plain": [
       "32512"
      ]
     },
     "metadata": {},
     "execution_count": 20
    }
   ],
   "source": [
    "os.system('''\n",
    "#!/bin/bash\n",
    "matlab -nosplash -nodisplay \n",
    "''')"
   ]
  },
  {
   "cell_type": "code",
   "execution_count": 23,
   "metadata": {},
   "outputs": [
    {
     "output_type": "execute_result",
     "data": {
      "text/plain": [
       "environ{'VSCODE_NODE_CACHED_DATA_DIR': '/Users/alvaros/Library/Application Support/Code/CachedData/db40434f562994116e5b21c24015a2e40b2504e6',\n",
       "        'SHELL': '/bin/zsh',\n",
       "        'AMD_ENTRYPOINT': 'vs/workbench/services/extensions/node/extensionHostProcess',\n",
       "        'TMPDIR': '/var/folders/sg/5bw1t8p11nx09k7kmytnmfb40000gp/T/',\n",
       "        'CONDA_SHLVL': '2',\n",
       "        'CONDA_PROMPT_MODIFIER': '(u19_datajoint) ',\n",
       "        'PYTHONUNBUFFERED': '1',\n",
       "        'ORIGINAL_XDG_CURRENT_DESKTOP': 'undefined',\n",
       "        'DJ_USER': 'alvaros',\n",
       "        'PYTHONIOENCODING': 'utf-8',\n",
       "        'USER': 'alvaros',\n",
       "        'CONDA_EXE': '/Users/alvaros/opt/anaconda3/bin/conda',\n",
       "        'SSH_AUTH_SOCK': '/private/tmp/com.apple.launchd.mYt8DRqATB/Listeners',\n",
       "        '__CF_USER_TEXT_ENCODING': '0x1F6:0x0:0x0',\n",
       "        'VSCODE_LOG_STACK': 'false',\n",
       "        'ELECTRON_RUN_AS_NODE': '1',\n",
       "        '_CE_CONDA': '',\n",
       "        'CONDA_PREFIX_1': '/Users/alvaros/opt/anaconda3',\n",
       "        'VSCODE_LOGS': '/Users/alvaros/Library/Application Support/Code/logs/20211203T095635',\n",
       "        'PATH': '/Users/alvaros/opt/anaconda3/envs/u19_datajoint/bin:/Users/alvaros/opt/anaconda3/condabin:/usr/local/bin:/usr/bin:/bin:/usr/sbin:/sbin:/usr/local/share/dotnet:/opt/X11/bin:~/.dotnet/tools:/Library/Apple/usr/bin:/Library/Frameworks/Mono.framework/Versions/Current/Commands',\n",
       "        'DJ_PASS': 'Reo87ila_princeton2',\n",
       "        'CONDA_PREFIX': '/Users/alvaros/opt/anaconda3/envs/u19_datajoint',\n",
       "        'PWD': '/',\n",
       "        'VSCODE_HANDLES_UNCAUGHT_ERRORS': 'true',\n",
       "        'XPC_FLAGS': '0x0',\n",
       "        '_CE_M': '',\n",
       "        'XPC_SERVICE_NAME': '0',\n",
       "        'SHLVL': '1',\n",
       "        'HOME': '/Users/alvaros',\n",
       "        'APPLICATION_INSIGHTS_NO_DIAGNOSTIC_CHANNEL': 'true',\n",
       "        'PIPE_LOGGING': 'true',\n",
       "        'VSCODE_IPC_HOOK_EXTHOST': '/var/folders/sg/5bw1t8p11nx09k7kmytnmfb40000gp/T/vscode-ipc-ae6bfbca-ec3d-464d-9799-54d72d9f3b2f.sock',\n",
       "        'VSCODE_NLS_CONFIG': '{\"locale\":\"en-us\",\"availableLanguages\":{},\"_languagePackSupport\":true}',\n",
       "        'CONDA_PYTHON_EXE': '/Users/alvaros/opt/anaconda3/bin/python',\n",
       "        'LOGNAME': 'alvaros',\n",
       "        'VSCODE_IPC_HOOK': '/Users/alvaros/Library/Application Support/Code/1.48.0-main.sock',\n",
       "        'CONDA_DEFAULT_ENV': 'u19_datajoint',\n",
       "        'VSCODE_PID': '2931',\n",
       "        'DISPLAY': '/private/tmp/com.apple.launchd.vm8cQM6Okk/org.xquartz:0',\n",
       "        'DJ_HOST': 'datajoint00.pni.princeton.edu',\n",
       "        'VERBOSE_LOGGING': 'true',\n",
       "        '_': '/Users/alvaros/opt/anaconda3/envs/u19_datajoint/bin/python',\n",
       "        'LC_CTYPE': 'UTF-8',\n",
       "        'PYTHONPATH': '/Users/alvaros/.vscode/extensions/ms-python.python-2020.9.114305/pythonFiles:/Users/alvaros/.vscode/extensions/ms-python.python-2020.9.114305/pythonFiles/lib/python',\n",
       "        'PYTHONWARNINGS': 'ignore',\n",
       "        'JPY_PARENT_PID': '38944',\n",
       "        'TERM': 'xterm-color',\n",
       "        'CLICOLOR': '1',\n",
       "        'PAGER': 'cat',\n",
       "        'GIT_PAGER': 'cat',\n",
       "        'MPLBACKEND': 'module://ipykernel.pylab.backend_inline',\n",
       "        'KMP_DUPLICATE_LIB_OK': 'True',\n",
       "        'KMP_INIT_AT_FORK': 'FALSE'}"
      ]
     },
     "metadata": {},
     "execution_count": 23
    }
   ],
   "source": [
    "os.environ"
   ]
  },
  {
   "cell_type": "code",
   "execution_count": null,
   "metadata": {},
   "outputs": [],
   "source": []
  }
 ]
}