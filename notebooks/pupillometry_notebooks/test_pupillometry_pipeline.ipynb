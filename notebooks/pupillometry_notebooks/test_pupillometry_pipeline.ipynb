{
 "cells": [
  {
   "cell_type": "code",
   "execution_count": 1,
   "metadata": {},
   "outputs": [
    {
     "name": "stdout",
     "output_type": "stream",
     "text": [
      "Local configuration file found !!, no need to run the configuration (unless configuration has changed)\n"
     ]
    }
   ],
   "source": [
    "from scripts.conf_file_finding import try_find_conf_file\n",
    "try_find_conf_file()"
   ]
  },
  {
   "cell_type": "code",
   "execution_count": 2,
   "metadata": {},
   "outputs": [
    {
     "name": "stderr",
     "output_type": "stream",
     "text": [
      "2023-11-27 21:23:13.288947: W tensorflow/stream_executor/platform/default/dso_loader.cc:64] Could not load dynamic library 'libcudart.so.11.0'; dlerror: libcudart.so.11.0: cannot open shared object file: No such file or directory\n",
      "2023-11-27 21:23:13.288992: I tensorflow/stream_executor/cuda/cudart_stub.cc:29] Ignore above cudart dlerror if you do not have a GPU set up on your machine.\n",
      "/usr/people/alvaros/.conda/envs/u19_datajoint_py39_env/lib/python3.9/site-packages/statsmodels/compat/pandas.py:65: FutureWarning: pandas.Int64Index is deprecated and will be removed from pandas in a future version. Use pandas.Index with the appropriate dtype instead.\n",
      "  from pandas import Int64Index as NumericIndex\n"
     ]
    },
    {
     "name": "stdout",
     "output_type": "stream",
     "text": [
      "DLC loaded in light mode; you cannot use any GUI (labeling, relabeling and standalone GUI)\n"
     ]
    },
    {
     "name": "stderr",
     "output_type": "stream",
     "text": [
      "/usr/people/alvaros/.conda/envs/u19_datajoint_py39_env/lib/python3.9/site-packages/tqdm/auto.py:22: TqdmWarning: IProgress not found. Please update jupyter and ipywidgets. See https://ipywidgets.readthedocs.io/en/stable/user_install.html\n",
      "  from .autonotebook import tqdm as notebook_tqdm\n"
     ]
    },
    {
     "name": "stdout",
     "output_type": "stream",
     "text": [
      "Connecting alvaros@datajoint00.pni.princeton.edu:3306\n",
      "Error in loading \"ecephys_spike_sorting\" package - No module named 'matlab.engine'; 'matlab' is not a package\n"
     ]
    }
   ],
   "source": [
    "import datajoint as dj\n",
    "import os\n",
    "import pathlib\n",
    "import pandas as pd\n",
    "\n",
    "import u19_pipeline.automatic_job.pupillometry_handler as ph\n"
   ]
  },
  {
   "cell_type": "code",
   "execution_count": 3,
   "metadata": {},
   "outputs": [
    {
     "name": "stdout",
     "output_type": "stream",
     "text": [
      "PupillometryProcessingHandler.spock_log_dir\n",
      "/mnt/cup/braininit/Shared/repos/U19-pipeline_python/u19_pipeline/automatic_job/OutputLog\n",
      "label_rec_process job_id_efonseca_ef111_act111_20231010_g0\n",
      "video_dir /mnt/cup/braininit/Data/Raw/video_pupillometry/efonseca/efonseca_ef111_act111/20231010_g0/efonseca_ef111_act111_20231010_g0.mj2\n",
      "slurm_dict {'job-name': 'job_id_efonseca_ef111_act111_20231010_g0', 'nodes': 1, 'cpus-per-task': 1, 'time': '10:00:00', 'mem': '50G', 'mail-type': ['END', 'FAIL'], 'output': '/mnt/cup/braininit/Shared/repos/U19-pipeline_python/u19_pipeline/automatic_job/OutputLogjob_id_efonseca_ef111_act111_20231010_g0.log', 'error': '/mnt/cup/braininit/Shared/repos/U19-pipeline_python/u19_pipeline/automatic_job/ErrorLogjob_id_efonseca_ef111_act111_20231010_g0.log'}\n",
      "u19_pipeline/slurm_pupillometry.slurm\n",
      "scp u19_pipeline/slurm_pupillometry.slurm u19prod@spock.princeton.edu:/mnt/cup/braininit/Shared/repos/U19-pipeline_python/u19_pipeline/slurm_pupillometry.slurm\n",
      "['scp', '-i', '~/.ssh/id_rsa_alvaros_tiger.pub', 'u19_pipeline/slurm_pupillometry.slurm', 'u19prod@spock.princeton.edu:/mnt/cup/braininit/Shared/repos/U19-pipeline_python/u19_pipeline/slurm_pupillometry.slurm']\n",
      "1\n",
      "/mnt/cup/braininit/Shared/repos/U19-pipeline_python/u19_pipeline/slurm_pupillometry.slurm\n"
     ]
    },
    {
     "name": "stderr",
     "output_type": "stream",
     "text": [
      "Received disconnect from 10.2.145.0 port 22:2: Too many authentication failures\n",
      "Authentication failed.\n",
      "lost connection\n"
     ]
    },
    {
     "data": {
      "text/plain": [
       "(-1,\n",
       " {'value_update': None,\n",
       "  'error_info': {'error_message': 'Error while generating/transfering pupillometry slurm file',\n",
       "   'error_exception': None}})"
      ]
     },
     "execution_count": 3,
     "metadata": {},
     "output_type": "execute_result"
    }
   ],
   "source": [
    "ph.PupillometryProcessingHandler.check_pupillometry_sessions_queue()"
   ]
  },
  {
   "cell_type": "code",
   "execution_count": null,
   "metadata": {},
   "outputs": [],
   "source": []
  }
 ],
 "metadata": {
  "interpreter": {
   "hash": "b68cb9b332af36295e84dc584e8b8bfb5972cd3ec0d685e7a3a58d40e818c02c"
  },
  "kernelspec": {
   "display_name": "Python 3.9.12 ('u19_datajoint_py39_env')",
   "language": "python",
   "name": "python3"
  },
  "language_info": {
   "codemirror_mode": {
    "name": "ipython",
    "version": 3
   },
   "file_extension": ".py",
   "mimetype": "text/x-python",
   "name": "python",
   "nbconvert_exporter": "python",
   "pygments_lexer": "ipython3",
   "version": "3.9.12"
  },
  "orig_nbformat": 4
 },
 "nbformat": 4,
 "nbformat_minor": 2
}
