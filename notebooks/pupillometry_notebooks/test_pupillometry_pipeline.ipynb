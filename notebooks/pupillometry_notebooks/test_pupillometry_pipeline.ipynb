{
 "cells": [
  {
   "cell_type": "code",
   "execution_count": 1,
   "metadata": {},
   "outputs": [
    {
     "name": "stdout",
     "output_type": "stream",
     "text": [
      "Local configuration file found !!, no need to run the configuration (unless configuration has changed)\n"
     ]
    }
   ],
   "source": [
    "from scripts.conf_file_finding import try_find_conf_file\n",
    "try_find_conf_file()"
   ]
  },
  {
   "cell_type": "code",
   "execution_count": 2,
   "metadata": {},
   "outputs": [
    {
     "name": "stderr",
     "output_type": "stream",
     "text": [
      "/Users/alvaros/opt/anaconda3/envs/u19_datajoint_py39_env/lib/python3.9/site-packages/statsmodels/compat/pandas.py:65: FutureWarning: pandas.Int64Index is deprecated and will be removed from pandas in a future version. Use pandas.Index with the appropriate dtype instead.\n",
      "  from pandas import Int64Index as NumericIndex\n"
     ]
    },
    {
     "name": "stdout",
     "output_type": "stream",
     "text": [
      "DLC loaded in light mode; you cannot use any GUI (labeling, relabeling and standalone GUI)\n"
     ]
    },
    {
     "name": "stderr",
     "output_type": "stream",
     "text": [
      "/Users/alvaros/opt/anaconda3/envs/u19_datajoint_py39_env/lib/python3.9/site-packages/tqdm/auto.py:22: TqdmWarning: IProgress not found. Please update jupyter and ipywidgets. See https://ipywidgets.readthedocs.io/en/stable/user_install.html\n",
      "  from .autonotebook import tqdm as notebook_tqdm\n"
     ]
    },
    {
     "name": "stdout",
     "output_type": "stream",
     "text": [
      "Connecting alvaros@datajoint00.pni.princeton.edu:3306\n",
      "Error in loading \"ecephys_spike_sorting\" package - No module named 'matlab'\n"
     ]
    }
   ],
   "source": [
    "import datajoint as dj\n",
    "import os\n",
    "import pathlib\n",
    "import pandas as pd\n",
    "import importlib\n",
    "\n",
    "import u19_pipeline.automatic_job.pupillometry_handler as ph\n"
   ]
  },
  {
   "cell_type": "code",
   "execution_count": 6,
   "metadata": {},
   "outputs": [
    {
     "name": "stdout",
     "output_type": "stream",
     "text": [
      "[{'subject_fullname': 'efonseca_ef111_act111', 'session_date': datetime.date(2023, 10, 10), 'session_number': 0, 'video_type': 'pupillometry', 'model_id': 2, 'local_path_video_file': 'E:\\\\VideoData\\\\efonseca\\\\efonseca_ef111_act111\\\\20231010_g0\\\\efonseca_ef111_act111_20231010_g0.mj2', 'remote_path_video_file': 'efonseca/efonseca_ef111_act111/20231010_g0/efonseca_ef111_act111_20231010_g0.mj2', 'pupillometry_job_id': None, 'pupil_diameter': None}]\n",
      "PupillometryProcessingHandler.spock_log_dir\n",
      "/mnt/cup/braininit/Shared/repos/U19-pipeline_python/u19_pipeline/automatic_job/OutputLog/\n",
      "label_rec_process job_id_efonseca_ef111_act111_20231010_g0\n",
      "video_dir /Volumes/braininit/Data/Raw/video_pupillometry/efonseca/efonseca_ef111_act111/20231010_g0/efonseca_ef111_act111_20231010_g0.mj2\n",
      "slurm_dict {'job-name': 'job_id_efonseca_ef111_act111_20231010_g0', 'nodes': 1, 'cpus-per-task': 1, 'time': '10:00:00', 'mem': '50G', 'mail-type': ['END', 'FAIL'], 'output': '/mnt/cup/braininit/Shared/repos/U19-pipeline_python/u19_pipeline/automatic_job/OutputLog/job_id_efonseca_ef111_act111_20231010_g0.log', 'error': '/mnt/cup/braininit/Shared/repos/U19-pipeline_python/u19_pipeline/automatic_job/ErrorLog/job_id_efonseca_ef111_act111_20231010_g0.log'}\n",
      "/Users/alvaros/Documents/MATLAB/BrainCogsProjects/Datajoint_proj/U19-pipeline_python/u19_pipeline/automatic_job/slurm_pupillometry.slurm\n",
      "cp /Users/alvaros/Documents/MATLAB/BrainCogsProjects/Datajoint_proj/U19-pipeline_python/u19_pipeline/automatic_job/slurm_pupillometry.slurm /mnt/cup/braininit/Shared/repos/U19-pipeline_python/u19_pipeline/slurm_pupillometry.slurm\n",
      "['cp', '/Users/alvaros/Documents/MATLAB/BrainCogsProjects/Datajoint_proj/U19-pipeline_python/u19_pipeline/automatic_job/slurm_pupillometry.slurm', '/mnt/cup/braininit/Shared/repos/U19-pipeline_python/u19_pipeline/slurm_pupillometry.slurm']\n",
      "1\n",
      "/mnt/cup/braininit/Shared/repos/U19-pipeline_python/u19_pipeline/slurm_pupillometry.slurm\n",
      "/mnt/cup/braininit/Shared/repos/U19-pipeline_python/u19_pipeline/slurm_pupillometry.slurm\n",
      "['ssh', 'alvaros@spock.princeton.edu', 'sbatch', \"--export=video_dir='/Volumes/braininit/Data/Raw/video_pupillometry/efonseca/efonseca_ef111_act111/20231010_g0/efonseca_ef111_act111_20231010_g0.mj2',model_dir='/Volumes/braininit/Data/Raw/video_models/twolickspouts-esme-2023-06-22/config.yaml',repository_dir='/mnt/cup/braininit/Shared/repos/U19-pipeline_python/',process_script_path='/mnt/cup/braininit/Shared/repos/U19-pipeline_python/u19_pipeline/automatic_job/pupillometry_handler.py',output_dir='/Volumes/braininit/Data/Processed/video_pupillometry/efonseca/efonseca_ef111_act111/20231010_g0'\", '/mnt/cup/braininit/Shared/repos/U19-pipeline_python/u19_pipeline/slurm_pupillometry.slurm']\n"
     ]
    },
    {
     "name": "stderr",
     "output_type": "stream",
     "text": [
      "cp: /mnt/cup/braininit/Shared/repos/U19-pipeline_python/u19_pipeline/slurm_pupillometry.slurm: No such file or directory\n"
     ]
    },
    {
     "name": "stdout",
     "output_type": "stream",
     "text": [
      "255\n",
      "b'ssh_askpass: exec(/usr/X11R6/bin/ssh-askpass): No such file or directory\\r\\nssh_askpass: exec(/usr/X11R6/bin/ssh-askpass): No such file or directory\\r\\nssh_askpass: exec(/usr/X11R6/bin/ssh-askpass): No such file or directory\\r\\nssh_askpass: exec(/usr/X11R6/bin/ssh-askpass): No such file or directory\\r\\nPermission denied, please try again.\\r\\nssh_askpass: exec(/usr/X11R6/bin/ssh-askpass): No such file or directory\\r\\nReceived disconnect from 128.112.218.128 port 22:2: Too many authentication failures\\r\\nDisconnected from 128.112.218.128 port 22\\r\\n'\n",
      "b''\n"
     ]
    },
    {
     "data": {
      "text/plain": [
       "(-1,\n",
       " {'value_update': None,\n",
       "  'error_info': {'error_message': 'Error while generating/transfering slurm file',\n",
       "   'error_exception': None}})"
      ]
     },
     "execution_count": 6,
     "metadata": {},
     "output_type": "execute_result"
    }
   ],
   "source": [
    "importlib.reload(ph)\n",
    "ph.PupillometryProcessingHandler.check_pupillometry_sessions_queue()"
   ]
  },
  {
   "cell_type": "code",
   "execution_count": null,
   "metadata": {},
   "outputs": [],
   "source": [
    "sbatch --export=video_dir=/mnt/cup/braininit/Data/Raw/video_pupillometry/efonseca/efonseca_ef111_act111/20231010_g0/efonseca_ef111_act111_20231010_g0.mj2,model_dir=/mnt/cup/braininit/Data/Raw/video_models/twolickspouts-esme-2023-06-22/config.yaml,repository_dir=/mnt/cup/braininit/Shared/repos/U19-pipeline_python/,output_dir=/mnt/cup/braininit/Data/Processed/video_pupillometry/efonseca/efonseca_ef111_act111/20231010_g0 /mnt/cup/braininit/Shared/repos/U19-pipeline_python/u19_pipeline/slurm_pupillometry.slurm"
   ]
  }
 ],
 "metadata": {
  "interpreter": {
   "hash": "b68cb9b332af36295e84dc584e8b8bfb5972cd3ec0d685e7a3a58d40e818c02c"
  },
  "kernelspec": {
   "display_name": "Python 3.9.12 ('u19_datajoint_py39_env')",
   "language": "python",
   "name": "python3"
  },
  "language_info": {
   "codemirror_mode": {
    "name": "ipython",
    "version": 3
   },
   "file_extension": ".py",
   "mimetype": "text/x-python",
   "name": "python",
   "nbconvert_exporter": "python",
   "pygments_lexer": "ipython3",
   "version": "3.9.12"
  },
  "orig_nbformat": 4
 },
 "nbformat": 4,
 "nbformat_minor": 2
}
